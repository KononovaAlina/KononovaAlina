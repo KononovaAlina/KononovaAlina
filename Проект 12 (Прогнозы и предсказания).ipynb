{
 "cells": [
  {
   "cell_type": "markdown",
   "metadata": {},
   "source": [
    "# Описание проекта\n",
    "\n",
    "Сеть фитнес-центров «Культурист-датасаентист» разрабатывает стратегию взаимодействия с клиентами на основе аналитических данных.\n",
    "\n",
    "Распространённая проблема фитнес-клубов и других сервисов — отток клиентов. Как понять, что клиент больше не с вами? Можно записать в отток тех, кто попросил закрыть договор или удалил аккаунт. Однако клиенты не всегда уходят демонстративно: чаще перестают пользоваться сервисом тихо.\n",
    "\n",
    "Индикаторы оттока зависят от специфики отрасли. Когда пользователь редко, но стабильно закупается в интернет-магазине — не похоже, что он «отвалился». А вот если две недели не заходит на канал с ежедневно обновляемым контентом, дела плохи: подписчик заскучал и, кажется, оставил вас.\n",
    "\n",
    "Для фитнес-центра можно считать, что клиент попал в отток, если за последний месяц ни разу не посетил спортзал. Конечно, не исключено, что он уехал на Бали и по приезде обязательно продолжит ходить на фитнес. Однако чаще бывает наоборот. Если клиент начал новую жизнь с понедельника, немного походил в спортзал, а потом пропал — скорее всего, он не вернётся.\n",
    "Чтобы бороться с оттоком, отдел по работе с клиентами «Культуриста-датасаентиста» перевёл в электронный вид множество клиентских анкет. \n",
    "\n",
    "# Цель проекта\n",
    "\n",
    "Провести анализ и подготовить план действий по удержанию клиентов. А именно:\n",
    "\n",
    "1. Научиться прогнозировать вероятность оттока (на уровне следующего месяца) для каждого клиента;\n",
    "2. Сформировать типичные портреты клиентов: выделить несколько наиболее ярких групп и охарактеризовать их основные свойства;\n",
    "3. Проанализировать основные признаки, наиболее сильно влияющие на отток;\n",
    "4. Сформулировать основные выводы и разработать рекомендации по повышению качества работы с клиентами:\n",
    "\n",
    "    - Выделить целевые группы клиентов;\n",
    "    - Предложить меры по снижению оттока;\n",
    "    - Определить другие особенности взаимодействия с клиентами.\n",
    "\n",
    "# Описание данных\n",
    "\n",
    "Путь к файлу: /datasets/gym_churn.csv. Скачать датасет\n",
    "\n",
    "«Культурист-датасаентист» предоставил сведения в csv-файлах. Заказчик подготовил данные, которые содержат данные на месяц до оттока и факт оттока на определённый месяц. Набор данных включает следующие поля: 'Churn' — факт оттока в текущем месяце;\n",
    "1. Текущие поля в датасете: Данные клиента за предыдущий до проверки факта оттока месяц:\n",
    "\n",
    "    * 'gender' — пол;\n",
    "    * 'Near_Location' — проживание или работа в районе, где находится фитнес-центр;\n",
    "    * 'Partner' — сотрудник компании-партнёра клуба (сотрудничество с компаниями, чьи сотрудники могут получать скидки на абонемент — в таком случае фитнес-центр хранит информацию о работодателе клиента);\n",
    "    * Promo_friends — факт первоначальной записи в рамках акции «приведи друга» (использовал промо-код от знакомого при оплате первого абонемента);\n",
    "    * 'Phone' — наличие контактного телефона;\n",
    "    * 'Age' — возраст;\n",
    "    * 'Lifetime' — время с момента первого обращения в фитнес-центр (в месяцах).\n",
    "\n",
    "2. Информация на основе журнала посещений, покупок и информация о текущем статусе абонемента клиента:\n",
    "\n",
    "    * 'Contract_period' — длительность текущего действующего абонемента (месяц, 3 месяца, 6 месяцев, год);\n",
    "    * 'Month_to_end_contract' — срок до окончания текущего действующего абонемента (в месяцах);\n",
    "    * 'Group_visits' — факт посещения групповых занятий;\n",
    "    * 'Avg_class_frequency_total' — средняя частота посещений в неделю за все время с начала действия абонемента;\n",
    "    * 'Avg_class_frequency_current_month' — средняя частота посещений в неделю за предыдущий месяц;\n",
    "    * 'Avg_additional_charges_total' — суммарная выручка от других услуг фитнес-центра: кафе, спорт-товары, косметический и массажный салон."
   ]
  },
  {
   "cell_type": "markdown",
   "metadata": {},
   "source": [
    "# Содержание\n",
    "\n",
    "1. [Загружаем данные и готовим их к анализу](#Загружаем-данные-и-готовим-их-к-анализу)\n",
    "2. [Предобработка данных](#Предобработка-данных)\n",
    "3. [Проведем исследовательский анализ данных (EDA)](#Проведем-исследовательский-анализ-данных-(EDA))\n",
    "    * [Рассмотрим датасет: есть ли в нем отсутствующие признаки, изучим средние значения и стандартные отклонения](#Рассмотрим-датасет:-есть-ли-в-нем-отсутствующие-признаки,-изучим-средние-значения-и-стандартные-отклонения) \n",
    "    * [Рассмотрим средние значения признаков в двух группах: тех, кто ушел в отток и тех, кто остался](#Рассмотрим-средние-значения-признаков-в-двух-группах:-тех,-кто-ушел-в-отток-и-тех,-кто-остался)\n",
    "    * [Построим столбчатые гистограммы и распределения признаков для тех, кто ушёл (отток) и тех, кто остался (не попали в отток)](#Построим-столбчатые-гистограммы-и-распределения-признаков-для-тех,-кто-ушёл-(отток)-и-тех,-кто-остался-(не-попали-в-отток))\n",
    "    * [Построим матрицу корреляций и отобразите её](#Построим-матрицу-корреляций-и-отобразите-её) \n",
    "4. [Построим модель прогнозирования оттока клиентов](#Построим-модель-прогнозирования-оттока-клиентов)\n",
    "5. [Сделаем кластеризацию клиентов](#Сделаем-кластеризацию-клиентов)\n",
    "    * [Стандартизация данных](#Стандартизация-данных)\n",
    "    * [Обучим модель кластеризации на основании алгоритма K-Means и спрогнозируем кластеры клиентов](#Обучим-модель-кластеризации-на-основании-алгоритма-K-Means-и-спрогнозируем-кластеры-клиентов)\n",
    "    * [Посмотрим на средние значения признаков для кластеров и построим графики распределения для признаков](#Посмотрим-на-средние-значения-признаков-для-кластеров-и-построим-графики-распределения-для-признаков)\n",
    "6. [Общий вывод](#Общий-вывод)"
   ]
  },
  {
   "cell_type": "markdown",
   "metadata": {},
   "source": [
    "<a id=\"some_id\"></a> \n",
    "## Загружаем данные и готовим их к анализу"
   ]
  },
  {
   "cell_type": "code",
   "execution_count": 1,
   "metadata": {},
   "outputs": [],
   "source": [
    "import pandas as pd\n",
    "import matplotlib.pyplot as plt\n",
    "import seaborn as sns\n",
    "from sklearn.model_selection import train_test_split\n",
    "from sklearn.linear_model import LogisticRegression\n",
    "from sklearn.preprocessing import StandardScaler\n",
    "from sklearn.ensemble import RandomForestClassifier\n",
    "from sklearn.metrics import accuracy_score, precision_score, recall_score, f1_score\n",
    "from scipy.cluster.hierarchy import dendrogram, linkage \n",
    "from sklearn.cluster import KMeans"
   ]
  },
  {
   "cell_type": "markdown",
   "metadata": {},
   "source": [
    "Для отображения в jupiter всех колонок и столбцов df + сокращу количество цифр после запятой."
   ]
  },
  {
   "cell_type": "code",
   "execution_count": 2,
   "metadata": {},
   "outputs": [],
   "source": [
    "pd.set_option('display.max_columns', None)\n",
    "pd.set_option('display.max_rows', None)\n",
    "pd.set_option('display.precision',2)"
   ]
  },
  {
   "cell_type": "code",
   "execution_count": 3,
   "metadata": {},
   "outputs": [],
   "source": [
    "gym = pd.read_csv('/datasets/gym_churn.csv')"
   ]
  },
  {
   "cell_type": "markdown",
   "metadata": {},
   "source": [
    "# Промежуточный вывод\n",
    "\n",
    "Данные загружены и подготовлены.\n",
    "<a id=\"some_id\"></a> \n",
    "## Предобработка данных\n",
    "<a id=\"some_id\"></a> \n",
    "Рассмотрим выборку описательной статистики и самой информации о датасетe"
   ]
  },
  {
   "cell_type": "code",
   "execution_count": 4,
   "metadata": {},
   "outputs": [
    {
     "data": {
      "text/html": [
       "<div>\n",
       "<style scoped>\n",
       "    .dataframe tbody tr th:only-of-type {\n",
       "        vertical-align: middle;\n",
       "    }\n",
       "\n",
       "    .dataframe tbody tr th {\n",
       "        vertical-align: top;\n",
       "    }\n",
       "\n",
       "    .dataframe thead th {\n",
       "        text-align: right;\n",
       "    }\n",
       "</style>\n",
       "<table border=\"1\" class=\"dataframe\">\n",
       "  <thead>\n",
       "    <tr style=\"text-align: right;\">\n",
       "      <th></th>\n",
       "      <th>gender</th>\n",
       "      <th>Near_Location</th>\n",
       "      <th>Partner</th>\n",
       "      <th>Promo_friends</th>\n",
       "      <th>Phone</th>\n",
       "      <th>Contract_period</th>\n",
       "      <th>Group_visits</th>\n",
       "      <th>Age</th>\n",
       "      <th>Avg_additional_charges_total</th>\n",
       "      <th>Month_to_end_contract</th>\n",
       "      <th>Lifetime</th>\n",
       "      <th>Avg_class_frequency_total</th>\n",
       "      <th>Avg_class_frequency_current_month</th>\n",
       "      <th>Churn</th>\n",
       "    </tr>\n",
       "  </thead>\n",
       "  <tbody>\n",
       "    <tr>\n",
       "      <td>0</td>\n",
       "      <td>1</td>\n",
       "      <td>1</td>\n",
       "      <td>1</td>\n",
       "      <td>1</td>\n",
       "      <td>0</td>\n",
       "      <td>6</td>\n",
       "      <td>1</td>\n",
       "      <td>29</td>\n",
       "      <td>14.23</td>\n",
       "      <td>5.0</td>\n",
       "      <td>3</td>\n",
       "      <td>0.02</td>\n",
       "      <td>0.00</td>\n",
       "      <td>0</td>\n",
       "    </tr>\n",
       "    <tr>\n",
       "      <td>1</td>\n",
       "      <td>0</td>\n",
       "      <td>1</td>\n",
       "      <td>0</td>\n",
       "      <td>0</td>\n",
       "      <td>1</td>\n",
       "      <td>12</td>\n",
       "      <td>1</td>\n",
       "      <td>31</td>\n",
       "      <td>113.20</td>\n",
       "      <td>12.0</td>\n",
       "      <td>7</td>\n",
       "      <td>1.92</td>\n",
       "      <td>1.91</td>\n",
       "      <td>0</td>\n",
       "    </tr>\n",
       "    <tr>\n",
       "      <td>2</td>\n",
       "      <td>0</td>\n",
       "      <td>1</td>\n",
       "      <td>1</td>\n",
       "      <td>0</td>\n",
       "      <td>1</td>\n",
       "      <td>1</td>\n",
       "      <td>0</td>\n",
       "      <td>28</td>\n",
       "      <td>129.45</td>\n",
       "      <td>1.0</td>\n",
       "      <td>2</td>\n",
       "      <td>1.86</td>\n",
       "      <td>1.74</td>\n",
       "      <td>0</td>\n",
       "    </tr>\n",
       "    <tr>\n",
       "      <td>3</td>\n",
       "      <td>0</td>\n",
       "      <td>1</td>\n",
       "      <td>1</td>\n",
       "      <td>1</td>\n",
       "      <td>1</td>\n",
       "      <td>12</td>\n",
       "      <td>1</td>\n",
       "      <td>33</td>\n",
       "      <td>62.67</td>\n",
       "      <td>12.0</td>\n",
       "      <td>2</td>\n",
       "      <td>3.21</td>\n",
       "      <td>3.36</td>\n",
       "      <td>0</td>\n",
       "    </tr>\n",
       "    <tr>\n",
       "      <td>4</td>\n",
       "      <td>1</td>\n",
       "      <td>1</td>\n",
       "      <td>1</td>\n",
       "      <td>1</td>\n",
       "      <td>1</td>\n",
       "      <td>1</td>\n",
       "      <td>0</td>\n",
       "      <td>26</td>\n",
       "      <td>198.36</td>\n",
       "      <td>1.0</td>\n",
       "      <td>3</td>\n",
       "      <td>1.11</td>\n",
       "      <td>1.12</td>\n",
       "      <td>0</td>\n",
       "    </tr>\n",
       "  </tbody>\n",
       "</table>\n",
       "</div>"
      ],
      "text/plain": [
       "   gender  Near_Location  Partner  Promo_friends  Phone  Contract_period  \\\n",
       "0       1              1        1              1      0                6   \n",
       "1       0              1        0              0      1               12   \n",
       "2       0              1        1              0      1                1   \n",
       "3       0              1        1              1      1               12   \n",
       "4       1              1        1              1      1                1   \n",
       "\n",
       "   Group_visits  Age  Avg_additional_charges_total  Month_to_end_contract  \\\n",
       "0             1   29                         14.23                    5.0   \n",
       "1             1   31                        113.20                   12.0   \n",
       "2             0   28                        129.45                    1.0   \n",
       "3             1   33                         62.67                   12.0   \n",
       "4             0   26                        198.36                    1.0   \n",
       "\n",
       "   Lifetime  Avg_class_frequency_total  Avg_class_frequency_current_month  \\\n",
       "0         3                       0.02                               0.00   \n",
       "1         7                       1.92                               1.91   \n",
       "2         2                       1.86                               1.74   \n",
       "3         2                       3.21                               3.36   \n",
       "4         3                       1.11                               1.12   \n",
       "\n",
       "   Churn  \n",
       "0      0  \n",
       "1      0  \n",
       "2      0  \n",
       "3      0  \n",
       "4      0  "
      ]
     },
     "metadata": {},
     "output_type": "display_data"
    },
    {
     "name": "stdout",
     "output_type": "stream",
     "text": [
      "<class 'pandas.core.frame.DataFrame'>\n",
      "RangeIndex: 4000 entries, 0 to 3999\n",
      "Data columns (total 14 columns):\n",
      "gender                               4000 non-null int64\n",
      "Near_Location                        4000 non-null int64\n",
      "Partner                              4000 non-null int64\n",
      "Promo_friends                        4000 non-null int64\n",
      "Phone                                4000 non-null int64\n",
      "Contract_period                      4000 non-null int64\n",
      "Group_visits                         4000 non-null int64\n",
      "Age                                  4000 non-null int64\n",
      "Avg_additional_charges_total         4000 non-null float64\n",
      "Month_to_end_contract                4000 non-null float64\n",
      "Lifetime                             4000 non-null int64\n",
      "Avg_class_frequency_total            4000 non-null float64\n",
      "Avg_class_frequency_current_month    4000 non-null float64\n",
      "Churn                                4000 non-null int64\n",
      "dtypes: float64(4), int64(10)\n",
      "memory usage: 437.6 KB\n"
     ]
    },
    {
     "data": {
      "text/plain": [
       "None"
      ]
     },
     "metadata": {},
     "output_type": "display_data"
    }
   ],
   "source": [
    "display(gym.head())\n",
    "display(gym.info())"
   ]
  },
  {
   "cell_type": "markdown",
   "metadata": {},
   "source": [
    "Пропусков не имеется и типы данных впорядке. Необходимо изменить данные по некоторым столбцам:\n",
    "- необходимо изменить регистр,\n",
    "- изменить порядок столбцов для удобства"
   ]
  },
  {
   "cell_type": "code",
   "execution_count": 5,
   "metadata": {},
   "outputs": [],
   "source": [
    "gym.columns = gym.columns.str.lower()"
   ]
  },
  {
   "cell_type": "code",
   "execution_count": 6,
   "metadata": {},
   "outputs": [
    {
     "data": {
      "text/plain": [
       "['gender',\n",
       " 'near_location',\n",
       " 'partner',\n",
       " 'promo_friends',\n",
       " 'phone',\n",
       " 'contract_period',\n",
       " 'group_visits',\n",
       " 'age',\n",
       " 'avg_additional_charges_total',\n",
       " 'month_to_end_contract',\n",
       " 'lifetime',\n",
       " 'avg_class_frequency_total',\n",
       " 'avg_class_frequency_current_month',\n",
       " 'churn']"
      ]
     },
     "execution_count": 6,
     "metadata": {},
     "output_type": "execute_result"
    }
   ],
   "source": [
    "gym.columns.tolist()"
   ]
  },
  {
   "cell_type": "code",
   "execution_count": 7,
   "metadata": {},
   "outputs": [],
   "source": [
    "gym = gym[['gender',\n",
    "         'near_location',\n",
    "         'partner',\n",
    "         'promo_friends',\n",
    "         'phone',\n",
    "         'group_visits',\n",
    "         'age',\n",
    "         'avg_additional_charges_total',\n",
    "         'contract_period',\n",
    "         'month_to_end_contract',\n",
    "         'lifetime',\n",
    "         'avg_class_frequency_total',\n",
    "         'avg_class_frequency_current_month',\n",
    "         'churn']]"
   ]
  },
  {
   "cell_type": "code",
   "execution_count": 8,
   "metadata": {},
   "outputs": [
    {
     "data": {
      "text/html": [
       "<div>\n",
       "<style scoped>\n",
       "    .dataframe tbody tr th:only-of-type {\n",
       "        vertical-align: middle;\n",
       "    }\n",
       "\n",
       "    .dataframe tbody tr th {\n",
       "        vertical-align: top;\n",
       "    }\n",
       "\n",
       "    .dataframe thead th {\n",
       "        text-align: right;\n",
       "    }\n",
       "</style>\n",
       "<table border=\"1\" class=\"dataframe\">\n",
       "  <thead>\n",
       "    <tr style=\"text-align: right;\">\n",
       "      <th></th>\n",
       "      <th>gender</th>\n",
       "      <th>near_location</th>\n",
       "      <th>partner</th>\n",
       "      <th>promo_friends</th>\n",
       "      <th>phone</th>\n",
       "      <th>group_visits</th>\n",
       "      <th>age</th>\n",
       "      <th>avg_additional_charges_total</th>\n",
       "      <th>contract_period</th>\n",
       "      <th>month_to_end_contract</th>\n",
       "      <th>lifetime</th>\n",
       "      <th>avg_class_frequency_total</th>\n",
       "      <th>avg_class_frequency_current_month</th>\n",
       "      <th>churn</th>\n",
       "    </tr>\n",
       "  </thead>\n",
       "  <tbody>\n",
       "    <tr>\n",
       "      <td>2975</td>\n",
       "      <td>0</td>\n",
       "      <td>0</td>\n",
       "      <td>1</td>\n",
       "      <td>0</td>\n",
       "      <td>1</td>\n",
       "      <td>0</td>\n",
       "      <td>27</td>\n",
       "      <td>318.76</td>\n",
       "      <td>6</td>\n",
       "      <td>6.0</td>\n",
       "      <td>10</td>\n",
       "      <td>2.78</td>\n",
       "      <td>2.67</td>\n",
       "      <td>0</td>\n",
       "    </tr>\n",
       "    <tr>\n",
       "      <td>3675</td>\n",
       "      <td>0</td>\n",
       "      <td>1</td>\n",
       "      <td>0</td>\n",
       "      <td>0</td>\n",
       "      <td>1</td>\n",
       "      <td>0</td>\n",
       "      <td>29</td>\n",
       "      <td>88.05</td>\n",
       "      <td>1</td>\n",
       "      <td>1.0</td>\n",
       "      <td>0</td>\n",
       "      <td>1.57</td>\n",
       "      <td>0.62</td>\n",
       "      <td>1</td>\n",
       "    </tr>\n",
       "    <tr>\n",
       "      <td>976</td>\n",
       "      <td>0</td>\n",
       "      <td>1</td>\n",
       "      <td>0</td>\n",
       "      <td>0</td>\n",
       "      <td>1</td>\n",
       "      <td>1</td>\n",
       "      <td>32</td>\n",
       "      <td>290.05</td>\n",
       "      <td>12</td>\n",
       "      <td>11.0</td>\n",
       "      <td>12</td>\n",
       "      <td>2.19</td>\n",
       "      <td>2.20</td>\n",
       "      <td>0</td>\n",
       "    </tr>\n",
       "    <tr>\n",
       "      <td>573</td>\n",
       "      <td>1</td>\n",
       "      <td>1</td>\n",
       "      <td>0</td>\n",
       "      <td>0</td>\n",
       "      <td>1</td>\n",
       "      <td>0</td>\n",
       "      <td>28</td>\n",
       "      <td>265.68</td>\n",
       "      <td>1</td>\n",
       "      <td>1.0</td>\n",
       "      <td>1</td>\n",
       "      <td>1.32</td>\n",
       "      <td>1.27</td>\n",
       "      <td>0</td>\n",
       "    </tr>\n",
       "    <tr>\n",
       "      <td>2597</td>\n",
       "      <td>0</td>\n",
       "      <td>1</td>\n",
       "      <td>0</td>\n",
       "      <td>0</td>\n",
       "      <td>1</td>\n",
       "      <td>1</td>\n",
       "      <td>37</td>\n",
       "      <td>90.79</td>\n",
       "      <td>1</td>\n",
       "      <td>1.0</td>\n",
       "      <td>4</td>\n",
       "      <td>3.55</td>\n",
       "      <td>3.58</td>\n",
       "      <td>0</td>\n",
       "    </tr>\n",
       "    <tr>\n",
       "      <td>1576</td>\n",
       "      <td>0</td>\n",
       "      <td>0</td>\n",
       "      <td>1</td>\n",
       "      <td>0</td>\n",
       "      <td>1</td>\n",
       "      <td>1</td>\n",
       "      <td>29</td>\n",
       "      <td>161.04</td>\n",
       "      <td>1</td>\n",
       "      <td>1.0</td>\n",
       "      <td>1</td>\n",
       "      <td>1.53</td>\n",
       "      <td>1.63</td>\n",
       "      <td>0</td>\n",
       "    </tr>\n",
       "    <tr>\n",
       "      <td>1164</td>\n",
       "      <td>0</td>\n",
       "      <td>1</td>\n",
       "      <td>1</td>\n",
       "      <td>1</td>\n",
       "      <td>1</td>\n",
       "      <td>1</td>\n",
       "      <td>30</td>\n",
       "      <td>203.43</td>\n",
       "      <td>1</td>\n",
       "      <td>1.0</td>\n",
       "      <td>5</td>\n",
       "      <td>1.21</td>\n",
       "      <td>1.32</td>\n",
       "      <td>0</td>\n",
       "    </tr>\n",
       "    <tr>\n",
       "      <td>2220</td>\n",
       "      <td>0</td>\n",
       "      <td>0</td>\n",
       "      <td>0</td>\n",
       "      <td>0</td>\n",
       "      <td>1</td>\n",
       "      <td>0</td>\n",
       "      <td>27</td>\n",
       "      <td>374.09</td>\n",
       "      <td>6</td>\n",
       "      <td>5.0</td>\n",
       "      <td>1</td>\n",
       "      <td>1.48</td>\n",
       "      <td>0.57</td>\n",
       "      <td>1</td>\n",
       "    </tr>\n",
       "    <tr>\n",
       "      <td>2565</td>\n",
       "      <td>0</td>\n",
       "      <td>1</td>\n",
       "      <td>1</td>\n",
       "      <td>1</td>\n",
       "      <td>1</td>\n",
       "      <td>0</td>\n",
       "      <td>35</td>\n",
       "      <td>196.44</td>\n",
       "      <td>6</td>\n",
       "      <td>6.0</td>\n",
       "      <td>3</td>\n",
       "      <td>0.62</td>\n",
       "      <td>0.65</td>\n",
       "      <td>0</td>\n",
       "    </tr>\n",
       "    <tr>\n",
       "      <td>1627</td>\n",
       "      <td>0</td>\n",
       "      <td>1</td>\n",
       "      <td>1</td>\n",
       "      <td>1</td>\n",
       "      <td>1</td>\n",
       "      <td>0</td>\n",
       "      <td>29</td>\n",
       "      <td>281.54</td>\n",
       "      <td>12</td>\n",
       "      <td>12.0</td>\n",
       "      <td>2</td>\n",
       "      <td>1.75</td>\n",
       "      <td>1.78</td>\n",
       "      <td>0</td>\n",
       "    </tr>\n",
       "  </tbody>\n",
       "</table>\n",
       "</div>"
      ],
      "text/plain": [
       "      gender  near_location  partner  promo_friends  phone  group_visits  age  \\\n",
       "2975       0              0        1              0      1             0   27   \n",
       "3675       0              1        0              0      1             0   29   \n",
       "976        0              1        0              0      1             1   32   \n",
       "573        1              1        0              0      1             0   28   \n",
       "2597       0              1        0              0      1             1   37   \n",
       "1576       0              0        1              0      1             1   29   \n",
       "1164       0              1        1              1      1             1   30   \n",
       "2220       0              0        0              0      1             0   27   \n",
       "2565       0              1        1              1      1             0   35   \n",
       "1627       0              1        1              1      1             0   29   \n",
       "\n",
       "      avg_additional_charges_total  contract_period  month_to_end_contract  \\\n",
       "2975                        318.76                6                    6.0   \n",
       "3675                         88.05                1                    1.0   \n",
       "976                         290.05               12                   11.0   \n",
       "573                         265.68                1                    1.0   \n",
       "2597                         90.79                1                    1.0   \n",
       "1576                        161.04                1                    1.0   \n",
       "1164                        203.43                1                    1.0   \n",
       "2220                        374.09                6                    5.0   \n",
       "2565                        196.44                6                    6.0   \n",
       "1627                        281.54               12                   12.0   \n",
       "\n",
       "      lifetime  avg_class_frequency_total  avg_class_frequency_current_month  \\\n",
       "2975        10                       2.78                               2.67   \n",
       "3675         0                       1.57                               0.62   \n",
       "976         12                       2.19                               2.20   \n",
       "573          1                       1.32                               1.27   \n",
       "2597         4                       3.55                               3.58   \n",
       "1576         1                       1.53                               1.63   \n",
       "1164         5                       1.21                               1.32   \n",
       "2220         1                       1.48                               0.57   \n",
       "2565         3                       0.62                               0.65   \n",
       "1627         2                       1.75                               1.78   \n",
       "\n",
       "      churn  \n",
       "2975      0  \n",
       "3675      1  \n",
       "976       0  \n",
       "573       0  \n",
       "2597      0  \n",
       "1576      0  \n",
       "1164      0  \n",
       "2220      1  \n",
       "2565      0  \n",
       "1627      0  "
      ]
     },
     "execution_count": 8,
     "metadata": {},
     "output_type": "execute_result"
    }
   ],
   "source": [
    "gym.sample(10)"
   ]
  },
  {
   "cell_type": "code",
   "execution_count": 9,
   "metadata": {},
   "outputs": [
    {
     "name": "stdout",
     "output_type": "stream",
     "text": [
      "Количество дублирующих значений: 0\n"
     ]
    }
   ],
   "source": [
    "print('Количество дублирующих значений:', gym.duplicated().sum())"
   ]
  },
  {
   "cell_type": "markdown",
   "metadata": {},
   "source": [
    "# Промежуточный вывод\n",
    "\n",
    "Данные подготовлены к анализу. Был изменен порядок столбцов для удоства и логичности (бинарные признаки рядом с бинарными). Дублирующие значения отсутвуют.\n",
    "\n",
    "<a id=\"some_id\"></a> \n",
    "## Проведем исследовательский анализ данных (EDA)\n",
    "<a id=\"some_id\"></a> \n",
    "### Рассмотрим датасет: есть ли в нем отсутствующие признаки, изучим средние значения и стандартные отклонения"
   ]
  },
  {
   "cell_type": "code",
   "execution_count": 10,
   "metadata": {},
   "outputs": [
    {
     "data": {
      "text/html": [
       "<div>\n",
       "<style scoped>\n",
       "    .dataframe tbody tr th:only-of-type {\n",
       "        vertical-align: middle;\n",
       "    }\n",
       "\n",
       "    .dataframe tbody tr th {\n",
       "        vertical-align: top;\n",
       "    }\n",
       "\n",
       "    .dataframe thead th {\n",
       "        text-align: right;\n",
       "    }\n",
       "</style>\n",
       "<table border=\"1\" class=\"dataframe\">\n",
       "  <thead>\n",
       "    <tr style=\"text-align: right;\">\n",
       "      <th></th>\n",
       "      <th>gender</th>\n",
       "      <th>near_location</th>\n",
       "      <th>partner</th>\n",
       "      <th>promo_friends</th>\n",
       "      <th>phone</th>\n",
       "      <th>group_visits</th>\n",
       "      <th>age</th>\n",
       "      <th>avg_additional_charges_total</th>\n",
       "      <th>contract_period</th>\n",
       "      <th>month_to_end_contract</th>\n",
       "      <th>lifetime</th>\n",
       "      <th>avg_class_frequency_total</th>\n",
       "      <th>avg_class_frequency_current_month</th>\n",
       "      <th>churn</th>\n",
       "    </tr>\n",
       "  </thead>\n",
       "  <tbody>\n",
       "    <tr>\n",
       "      <td>count</td>\n",
       "      <td>4000.00</td>\n",
       "      <td>4000.00</td>\n",
       "      <td>4000.00</td>\n",
       "      <td>4000.00</td>\n",
       "      <td>4000.0</td>\n",
       "      <td>4000.00</td>\n",
       "      <td>4000.00</td>\n",
       "      <td>4000.00</td>\n",
       "      <td>4000.00</td>\n",
       "      <td>4000.00</td>\n",
       "      <td>4000.00</td>\n",
       "      <td>4000.00</td>\n",
       "      <td>4000.00</td>\n",
       "      <td>4000.00</td>\n",
       "    </tr>\n",
       "    <tr>\n",
       "      <td>mean</td>\n",
       "      <td>0.51</td>\n",
       "      <td>0.85</td>\n",
       "      <td>0.49</td>\n",
       "      <td>0.31</td>\n",
       "      <td>0.9</td>\n",
       "      <td>0.41</td>\n",
       "      <td>29.18</td>\n",
       "      <td>146.94</td>\n",
       "      <td>4.68</td>\n",
       "      <td>4.32</td>\n",
       "      <td>3.72</td>\n",
       "      <td>1.88</td>\n",
       "      <td>1.77</td>\n",
       "      <td>0.27</td>\n",
       "    </tr>\n",
       "    <tr>\n",
       "      <td>std</td>\n",
       "      <td>0.50</td>\n",
       "      <td>0.36</td>\n",
       "      <td>0.50</td>\n",
       "      <td>0.46</td>\n",
       "      <td>0.3</td>\n",
       "      <td>0.49</td>\n",
       "      <td>3.26</td>\n",
       "      <td>96.36</td>\n",
       "      <td>4.55</td>\n",
       "      <td>4.19</td>\n",
       "      <td>3.75</td>\n",
       "      <td>0.97</td>\n",
       "      <td>1.05</td>\n",
       "      <td>0.44</td>\n",
       "    </tr>\n",
       "    <tr>\n",
       "      <td>min</td>\n",
       "      <td>0.00</td>\n",
       "      <td>0.00</td>\n",
       "      <td>0.00</td>\n",
       "      <td>0.00</td>\n",
       "      <td>0.0</td>\n",
       "      <td>0.00</td>\n",
       "      <td>18.00</td>\n",
       "      <td>0.15</td>\n",
       "      <td>1.00</td>\n",
       "      <td>1.00</td>\n",
       "      <td>0.00</td>\n",
       "      <td>0.00</td>\n",
       "      <td>0.00</td>\n",
       "      <td>0.00</td>\n",
       "    </tr>\n",
       "    <tr>\n",
       "      <td>25%</td>\n",
       "      <td>0.00</td>\n",
       "      <td>1.00</td>\n",
       "      <td>0.00</td>\n",
       "      <td>0.00</td>\n",
       "      <td>1.0</td>\n",
       "      <td>0.00</td>\n",
       "      <td>27.00</td>\n",
       "      <td>68.87</td>\n",
       "      <td>1.00</td>\n",
       "      <td>1.00</td>\n",
       "      <td>1.00</td>\n",
       "      <td>1.18</td>\n",
       "      <td>0.96</td>\n",
       "      <td>0.00</td>\n",
       "    </tr>\n",
       "    <tr>\n",
       "      <td>50%</td>\n",
       "      <td>1.00</td>\n",
       "      <td>1.00</td>\n",
       "      <td>0.00</td>\n",
       "      <td>0.00</td>\n",
       "      <td>1.0</td>\n",
       "      <td>0.00</td>\n",
       "      <td>29.00</td>\n",
       "      <td>136.22</td>\n",
       "      <td>1.00</td>\n",
       "      <td>1.00</td>\n",
       "      <td>3.00</td>\n",
       "      <td>1.83</td>\n",
       "      <td>1.72</td>\n",
       "      <td>0.00</td>\n",
       "    </tr>\n",
       "    <tr>\n",
       "      <td>75%</td>\n",
       "      <td>1.00</td>\n",
       "      <td>1.00</td>\n",
       "      <td>1.00</td>\n",
       "      <td>1.00</td>\n",
       "      <td>1.0</td>\n",
       "      <td>1.00</td>\n",
       "      <td>31.00</td>\n",
       "      <td>210.95</td>\n",
       "      <td>6.00</td>\n",
       "      <td>6.00</td>\n",
       "      <td>5.00</td>\n",
       "      <td>2.54</td>\n",
       "      <td>2.51</td>\n",
       "      <td>1.00</td>\n",
       "    </tr>\n",
       "    <tr>\n",
       "      <td>max</td>\n",
       "      <td>1.00</td>\n",
       "      <td>1.00</td>\n",
       "      <td>1.00</td>\n",
       "      <td>1.00</td>\n",
       "      <td>1.0</td>\n",
       "      <td>1.00</td>\n",
       "      <td>41.00</td>\n",
       "      <td>552.59</td>\n",
       "      <td>12.00</td>\n",
       "      <td>12.00</td>\n",
       "      <td>31.00</td>\n",
       "      <td>6.02</td>\n",
       "      <td>6.15</td>\n",
       "      <td>1.00</td>\n",
       "    </tr>\n",
       "  </tbody>\n",
       "</table>\n",
       "</div>"
      ],
      "text/plain": [
       "        gender  near_location  partner  promo_friends   phone  group_visits  \\\n",
       "count  4000.00        4000.00  4000.00        4000.00  4000.0       4000.00   \n",
       "mean      0.51           0.85     0.49           0.31     0.9          0.41   \n",
       "std       0.50           0.36     0.50           0.46     0.3          0.49   \n",
       "min       0.00           0.00     0.00           0.00     0.0          0.00   \n",
       "25%       0.00           1.00     0.00           0.00     1.0          0.00   \n",
       "50%       1.00           1.00     0.00           0.00     1.0          0.00   \n",
       "75%       1.00           1.00     1.00           1.00     1.0          1.00   \n",
       "max       1.00           1.00     1.00           1.00     1.0          1.00   \n",
       "\n",
       "           age  avg_additional_charges_total  contract_period  \\\n",
       "count  4000.00                       4000.00          4000.00   \n",
       "mean     29.18                        146.94             4.68   \n",
       "std       3.26                         96.36             4.55   \n",
       "min      18.00                          0.15             1.00   \n",
       "25%      27.00                         68.87             1.00   \n",
       "50%      29.00                        136.22             1.00   \n",
       "75%      31.00                        210.95             6.00   \n",
       "max      41.00                        552.59            12.00   \n",
       "\n",
       "       month_to_end_contract  lifetime  avg_class_frequency_total  \\\n",
       "count                4000.00   4000.00                    4000.00   \n",
       "mean                    4.32      3.72                       1.88   \n",
       "std                     4.19      3.75                       0.97   \n",
       "min                     1.00      0.00                       0.00   \n",
       "25%                     1.00      1.00                       1.18   \n",
       "50%                     1.00      3.00                       1.83   \n",
       "75%                     6.00      5.00                       2.54   \n",
       "max                    12.00     31.00                       6.02   \n",
       "\n",
       "       avg_class_frequency_current_month    churn  \n",
       "count                            4000.00  4000.00  \n",
       "mean                                1.77     0.27  \n",
       "std                                 1.05     0.44  \n",
       "min                                 0.00     0.00  \n",
       "25%                                 0.96     0.00  \n",
       "50%                                 1.72     0.00  \n",
       "75%                                 2.51     1.00  \n",
       "max                                 6.15     1.00  "
      ]
     },
     "execution_count": 10,
     "metadata": {},
     "output_type": "execute_result"
    }
   ],
   "source": [
    "gym.describe()"
   ]
  },
  {
   "cell_type": "markdown",
   "metadata": {},
   "source": [
    "# Промежуточный вывод\n",
    "\n",
    "Разделение по гендерному признаку практически поровну, с небольшим преимуществом пола под цифрой 1 (примечательно, что мы не знаем, что значит 0, что единица). Большинство клиентов находятся рядом с фитнес-центром. Почти половина клиентов являются сотрудниками компаний партнеров.\n",
    "\n",
    "31% клиентов были приведены по акции \"Приведи друга\". Телефон указан у большиснтва клиентов (90%). Средняя длительность абонемента составляет 4,68 месяцев. Медианное значение равняется 1 месяцу. Тем самым можно заключить, что превалирует большая часть клиентов у которых абонимент на 1 месяц. 41% клиентов посещали групповые занятия. Средний возраст клентов составляет 29 лет. \n",
    "\n",
    "В среднем фитнес-центр зарабатывает 146.94 уе с клиента по мимо стоимости абонемента. В среднем наши клиенты с нами около 4 месяцев, медианное значение - 3 месяца. Средняя частота посещений в неделю за прошлый месяц составляет 1.88. Средняя частота посещений в неделю за все время практически одинаковая как и за прошлый месяц, 1.77. Видимо эти два параметра будут сильно коррелировать.\n",
    "\n",
    "Факт оттока настораживает, средняя - 27%, то есть в прошлом месяце потеряли чуть больше четверти клиентов. Касательно стандартного отклонения, в наблюдениях где медианное значение сильно отличалось от среднего (срок абонемента и т.п.) так же отмечается большой разброс.\n",
    "\n",
    "### Рассмотрим средние значения признаков в двух группах: тех, кто ушел в отток и тех, кто остался "
   ]
  },
  {
   "cell_type": "code",
   "execution_count": 11,
   "metadata": {},
   "outputs": [
    {
     "data": {
      "text/html": [
       "<div>\n",
       "<style scoped>\n",
       "    .dataframe tbody tr th:only-of-type {\n",
       "        vertical-align: middle;\n",
       "    }\n",
       "\n",
       "    .dataframe tbody tr th {\n",
       "        vertical-align: top;\n",
       "    }\n",
       "\n",
       "    .dataframe thead th {\n",
       "        text-align: right;\n",
       "    }\n",
       "</style>\n",
       "<table border=\"1\" class=\"dataframe\">\n",
       "  <thead>\n",
       "    <tr style=\"text-align: right;\">\n",
       "      <th>churn</th>\n",
       "      <th>0</th>\n",
       "      <th>1</th>\n",
       "    </tr>\n",
       "  </thead>\n",
       "  <tbody>\n",
       "    <tr>\n",
       "      <td>gender</td>\n",
       "      <td>0.51</td>\n",
       "      <td>0.51</td>\n",
       "    </tr>\n",
       "    <tr>\n",
       "      <td>near_location</td>\n",
       "      <td>0.87</td>\n",
       "      <td>0.77</td>\n",
       "    </tr>\n",
       "    <tr>\n",
       "      <td>partner</td>\n",
       "      <td>0.53</td>\n",
       "      <td>0.36</td>\n",
       "    </tr>\n",
       "    <tr>\n",
       "      <td>promo_friends</td>\n",
       "      <td>0.35</td>\n",
       "      <td>0.18</td>\n",
       "    </tr>\n",
       "    <tr>\n",
       "      <td>phone</td>\n",
       "      <td>0.90</td>\n",
       "      <td>0.90</td>\n",
       "    </tr>\n",
       "    <tr>\n",
       "      <td>group_visits</td>\n",
       "      <td>0.46</td>\n",
       "      <td>0.27</td>\n",
       "    </tr>\n",
       "    <tr>\n",
       "      <td>age</td>\n",
       "      <td>29.98</td>\n",
       "      <td>26.99</td>\n",
       "    </tr>\n",
       "    <tr>\n",
       "      <td>avg_additional_charges_total</td>\n",
       "      <td>158.45</td>\n",
       "      <td>115.08</td>\n",
       "    </tr>\n",
       "    <tr>\n",
       "      <td>contract_period</td>\n",
       "      <td>5.75</td>\n",
       "      <td>1.73</td>\n",
       "    </tr>\n",
       "    <tr>\n",
       "      <td>month_to_end_contract</td>\n",
       "      <td>5.28</td>\n",
       "      <td>1.66</td>\n",
       "    </tr>\n",
       "    <tr>\n",
       "      <td>lifetime</td>\n",
       "      <td>4.71</td>\n",
       "      <td>0.99</td>\n",
       "    </tr>\n",
       "    <tr>\n",
       "      <td>avg_class_frequency_total</td>\n",
       "      <td>2.02</td>\n",
       "      <td>1.47</td>\n",
       "    </tr>\n",
       "    <tr>\n",
       "      <td>avg_class_frequency_current_month</td>\n",
       "      <td>2.03</td>\n",
       "      <td>1.04</td>\n",
       "    </tr>\n",
       "  </tbody>\n",
       "</table>\n",
       "</div>"
      ],
      "text/plain": [
       "churn                                   0       1\n",
       "gender                               0.51    0.51\n",
       "near_location                        0.87    0.77\n",
       "partner                              0.53    0.36\n",
       "promo_friends                        0.35    0.18\n",
       "phone                                0.90    0.90\n",
       "group_visits                         0.46    0.27\n",
       "age                                 29.98   26.99\n",
       "avg_additional_charges_total       158.45  115.08\n",
       "contract_period                      5.75    1.73\n",
       "month_to_end_contract                5.28    1.66\n",
       "lifetime                             4.71    0.99\n",
       "avg_class_frequency_total            2.02    1.47\n",
       "avg_class_frequency_current_month    2.03    1.04"
      ]
     },
     "execution_count": 11,
     "metadata": {},
     "output_type": "execute_result"
    }
   ],
   "source": [
    "gym.groupby('churn').mean().T"
   ]
  },
  {
   "cell_type": "markdown",
   "metadata": {},
   "source": [
    "# Промежуточный вывод\n",
    "\n",
    "В первую очередь следует отметить - чем больше клиента связывает с фитнес-центром, тем больше шансов, что он не уйдет. Среди оставшихся средние значения по всем параметрам (кроме пола) выше, чем у тех, кто ушел. Например, это клиенты которых связывают партнерские отношения, у которых длительные абонементы, посещающие группые занятия и которые в принципе уже не первый месяц посещают фитнес. Также можно сказать, что пол и наличие телефона, по всей видимости, практически не влияют на отток. Проясняется задача, фитнес-центру нужно удержать клиента в течение первого месяца. Судя по всему, этот месяц критичен.\n",
    "\n",
    "\n",
    "### Построим столбчатые гистограммы и распределения признаков для тех, кто ушёл (отток) и тех, кто остался (не попали в отток)\n",
    "Подробнее изучим признаки, построив ряд графиков. Разобьем посетителей на две таблицы, которые ушли и не ушли. И выделим бинарные и количественные признаки в списки."
   ]
  },
  {
   "cell_type": "code",
   "execution_count": 12,
   "metadata": {},
   "outputs": [],
   "source": [
    "gym_churn = gym.loc[gym['churn'] == 1]\n",
    "gym_no_churn = gym.loc[gym['churn'] == 0]"
   ]
  },
  {
   "cell_type": "code",
   "execution_count": 13,
   "metadata": {},
   "outputs": [],
   "source": [
    "binary_features = ['gender', 'near_location', 'partner', 'promo_friends', 'phone', 'group_visits']\n",
    "quantitive_features = ['contract_period', 'age', 'avg_additional_charges_total', 'month_to_end_contract', 'lifetime', 'avg_class_frequency_total', 'avg_class_frequency_current_month']"
   ]
  },
  {
   "cell_type": "markdown",
   "metadata": {},
   "source": [
    "Построим гистограммы для каждого из бинарных признаков, сравним ушедших и оставшихся."
   ]
  },
  {
   "cell_type": "code",
   "execution_count": 14,
   "metadata": {},
   "outputs": [
    {
     "data": {
      "image/png": "[encoded data removed]",
      "text/plain": [
       "<Figure size 1224x576 with 6 Axes>"
      ]
     },
     "metadata": {
      "needs_background": "light"
     },
     "output_type": "display_data"
    }
   ],
   "source": [
    "a = 0.8 # переменная для alpha\n",
    "fig, axes = plt.subplots(2,3, figsize=(17, 8))\n",
    "axes[0,0].hist(gym_churn[binary_features[0]], density=True, color='red', alpha=a)\n",
    "axes[0,0].hist(gym_no_churn[binary_features[0]], density=True, color='green', alpha=a)\n",
    "axes[0,0].set_xlabel(binary_features[0])\n",
    "\n",
    "axes[0,1].hist(gym_churn[binary_features[1]], density=True,color='red', alpha=a)\n",
    "axes[0,1].hist(gym_no_churn[binary_features[1]], density=True, color='green', alpha=a)\n",
    "axes[0,1].set_xlabel(binary_features[1])\n",
    "\n",
    "axes[0,2].hist(gym_churn[binary_features[2]], density=True,color='red', alpha=a)\n",
    "axes[0,2].hist(gym_no_churn[binary_features[2]], density=True, color='green', alpha=a)\n",
    "axes[0,2].set_xlabel(binary_features[2])\n",
    "\n",
    "axes[1,0].hist(gym_churn[binary_features[3]], density=True,color='red', alpha=a)\n",
    "axes[1,0].hist(gym_no_churn[binary_features[3]], density=True, color='green', alpha=a)\n",
    "axes[1,0].set_xlabel(binary_features[3])\n",
    "\n",
    "axes[1,1].hist(gym_churn[binary_features[4]], density=True,color='red', alpha=a)\n",
    "axes[1,1].hist(gym_no_churn[binary_features[4]], density=True, color='green', alpha=a)\n",
    "axes[1,1].set_xlabel(binary_features[4])\n",
    "\n",
    "axes[1,2].hist(gym_churn[binary_features[5]], density=True,color='red', alpha=a)\n",
    "axes[1,2].hist(gym_no_churn[binary_features[5]], density=True, color='green', alpha=a)\n",
    "axes[1,2].set_xlabel(binary_features[5])\n",
    "plt.show();"
   ]
  },
  {
   "cell_type": "markdown",
   "metadata": {},
   "source": [
    "# Промежуточный вывод\n",
    "\n",
    "Как и было отмечено ранее, пол не особо влияет на отток. Одинаково уходят как мужчини, так и женщины. Также покидают фитнес-центр чуть больше те, кто проживает не рядом и у кого нет партнерских отношений с центром. Кроме того, клиенты без друзей - реже посещающие групповые занятие, больше подвержены оттоку."
   ]
  },
  {
   "cell_type": "code",
   "execution_count": 15,
   "metadata": {},
   "outputs": [
    {
     "data": {
      "image/png": "[encoded data removed]",
      "text/plain": [
       "<Figure size 1224x576 with 8 Axes>"
      ]
     },
     "metadata": {
      "needs_background": "light"
     },
     "output_type": "display_data"
    }
   ],
   "source": [
    "fig, axes = plt.subplots(2,4, figsize=(17, 8))\n",
    "ax = sns.boxplot(data = gym, x = 'churn', y=quantitive_features[0], width=0.4, ax=axes[0,0])\n",
    "ax = sns.boxplot(data = gym, x = 'churn', y=quantitive_features[1], width=0.4, ax=axes[0,1])\n",
    "ax = sns.boxplot(data = gym, x = 'churn', y=quantitive_features[2], width=0.4, ax=axes[0,2])\n",
    "ax = sns.boxplot(data = gym, x = 'churn', y=quantitive_features[3], width=0.4, ax=axes[0,3])\n",
    "ax = sns.boxplot(data = gym, x = 'churn', y=quantitive_features[4], width=0.4, ax=axes[1,0])\n",
    "ax = sns.boxplot(data = gym, x = 'churn', y=quantitive_features[5], width=0.4, ax=axes[1,1])\n",
    "ax = sns.boxplot(data = gym, x = 'churn', y=quantitive_features[6], width=0.4, ax=axes[1,2])"
   ]
  },
  {
   "cell_type": "markdown",
   "metadata": {},
   "source": [
    "# Промежуточный вывод\n",
    "\n",
    "По всем количественным признакам клиенты, которые остались имеют преимущество. Особенно выделается признак - длительность абонемента, с \"длинными\" абонементами уходят в отток меньше клиентов. Кроме того, чем больше времени до конца абонемента, тем меньше вероятность что клиент уйдет. Так же, выделяется срок жизни клиента, чем дольше клиент с нами, тем он лояльнее. Не замечено ни одного клиента, который покинул бы нас после 10 месяцев посещений.\n",
    "\n",
    "### Построим матрицу корреляций и отобразите её\n",
    "Далее построим матрицу корреляц, изучим взаимосвязи разных признаков."
   ]
  },
  {
   "cell_type": "code",
   "execution_count": 16,
   "metadata": {},
   "outputs": [
    {
     "data": {
      "image/png": "[encoded data removed]",
      "text/plain": [
       "<Figure size 864x720 with 2 Axes>"
      ]
     },
     "metadata": {
      "needs_background": "light"
     },
     "output_type": "display_data"
    }
   ],
   "source": [
    "plt.subplots(figsize=(12, 10))\n",
    "sns.heatmap(gym.corr(), annot=True, linewidths=0.5, cmap=\"PiYG\");"
   ]
  },
  {
   "cell_type": "raw",
   "metadata": {},
   "source": [
    "cm = gym.corr()\n",
    "plt.figure(figsize=(14, 10))\n",
    "sns.heatmap(cm, annot = True, fmt = '0.2f', linewidths=0.5, cmap=\"PiYG\")\n",
    "plt.show()"
   ]
  },
  {
   "cell_type": "markdown",
   "metadata": {},
   "source": [
    "*** Я построила специально две матрицы корреляции, чтобы узнать для себя -  в каком формате ее лучше представлять? Подскажите, пожалуйста)\n",
    "\n",
    "# Промежуточный вывод\n",
    "\n",
    "Как и было отмечено ранее, сильная корреляция наблюдается между посещяемостью фитнес-центра в текущем месяце и за все время. Кроме того, чрезвычайно сильная корреляция между сроком абонемента и количеством месяцев до его окончания, что не удивительно. Так же следует отметить, что средняя зависимость просматривается между признаком партнер и программой приведи друга. Вероятно клиенты по партнерской программе чащу зовут друзей/коллег в фитнес-центр."
   ]
  },
  {
   "cell_type": "code",
   "execution_count": 17,
   "metadata": {},
   "outputs": [],
   "source": [
    "gym = gym.drop(['avg_class_frequency_current_month', 'month_to_end_contract'], axis=1)"
   ]
  },
  {
   "cell_type": "markdown",
   "metadata": {},
   "source": [
    "# Промежуточный вывод\n",
    "\n",
    "Исходя из проделанного предварительного анализа признаков, можно сделать следующие выводы:\n",
    "\n",
    "- Были выявлены предположительно самые мощные признаки влияющие на отток, такие как срок абонемента, время с момента первого обращения. \n",
    "- Отмечено, что в таблице присутствуют четыре сильно коррелирующих между собой признака, соответственно два можно и нужно будет не учитывать при будущем построении модели.\n",
    "\n",
    "## Построим модель прогнозирования оттока клиентов\n",
    "Приступи к построению модели бинарной классификации пользователей, где целевой признак — факт оттока пользователя в следующем месяце.Первым делом подготовим две переменные: с признаками и целевой переменной."
   ]
  },
  {
   "cell_type": "code",
   "execution_count": 18,
   "metadata": {},
   "outputs": [],
   "source": [
    "X = gym.drop('churn', axis=1)\n",
    "y = gym['churn']"
   ]
  },
  {
   "cell_type": "markdown",
   "metadata": {},
   "source": [
    "Теперь поделим выборку на обучающую и валидационную."
   ]
  },
  {
   "cell_type": "code",
   "execution_count": 19,
   "metadata": {},
   "outputs": [],
   "source": [
    "x_train, x_test, y_train, y_test = train_test_split(X, y, test_size=0.2, random_state=0,  stratify = y)"
   ]
  },
  {
   "cell_type": "markdown",
   "metadata": {},
   "source": [
    "Обучим две модели алгоритмами логистической регрессией и случайным лесом."
   ]
  },
  {
   "cell_type": "code",
   "execution_count": 20,
   "metadata": {},
   "outputs": [],
   "source": [
    "log_reg_model = LogisticRegression(random_state=0, max_iter=5000, solver='lbfgs')\n",
    "log_reg_model.fit(x_train,y_train)\n",
    "log_reg_predictions = log_reg_model.predict(x_test)"
   ]
  },
  {
   "cell_type": "code",
   "execution_count": 21,
   "metadata": {},
   "outputs": [],
   "source": [
    "scaler = StandardScaler()\n",
    "scaler.fit(x_train)\n",
    "x_train_st = scaler.transform(x_train)\n",
    "x_test_st = scaler.transform(x_test)\n",
    "\n",
    "dec_tree_model = RandomForestClassifier(n_estimators = 100, random_state = 0) \n",
    "dec_tree_model.fit(x_train_st,y_train)\n",
    "dec_tree_predictions = dec_tree_model.predict(x_test_st)"
   ]
  },
  {
   "cell_type": "markdown",
   "metadata": {},
   "source": [
    "Изучим основные метрики."
   ]
  },
  {
   "cell_type": "code",
   "execution_count": 22,
   "metadata": {},
   "outputs": [
    {
     "name": "stdout",
     "output_type": "stream",
     "text": [
      "Метрики LogisticRegression:\n",
      "Accuracy - 0.91\n",
      "Precision - 0.82\n",
      "Recall - 0.83\n",
      "-------------------------------\n",
      "Метрики RandomForestClassifier:\n",
      "Accuracy - 0.90\n",
      "Precision - 0.83\n",
      "Recall - 0.79\n"
     ]
    }
   ],
   "source": [
    "print('Метрики LogisticRegression:')\n",
    "print('Accuracy - {:.2f}'.format(accuracy_score(y_test, log_reg_predictions)))\n",
    "print('Precision - {:.2f}'.format(precision_score(y_test, log_reg_predictions)))\n",
    "print('Recall - {:.2f}'.format(recall_score(y_test, log_reg_predictions)))\n",
    "print('-------------------------------')\n",
    "print('Метрики RandomForestClassifier:')\n",
    "print('Accuracy - {:.2f}'.format(accuracy_score(y_test, dec_tree_predictions)))\n",
    "print('Precision - {:.2f}'.format(precision_score(y_test, dec_tree_predictions)))\n",
    "print('Recall - {:.2f}'.format(recall_score(y_test, dec_tree_predictions)))"
   ]
  },
  {
   "cell_type": "markdown",
   "metadata": {},
   "source": [
    "# Промежуточный вывод\n",
    "\n",
    "Алгоритм логистической регрессии обощел по каждой из метрик случайный лес. Доля правильных ответов равна 90%, точность прогноза 78%, а полнота 81%. Регрессия выглядит лучше.\n",
    "\n",
    "## Сделаем кластеризацию клиентов\n",
    "### Стандартизация данных\n",
    "После бинарной классификации перейдем к кластеризации. Прежде всего проведем стандартизацию всех параметров и преобразуем набор данных."
   ]
  },
  {
   "cell_type": "code",
   "execution_count": 23,
   "metadata": {},
   "outputs": [],
   "source": [
    "scaler = StandardScaler()\n",
    "scaler.fit(X)\n",
    "\n",
    "X_st = scaler.transform(X)"
   ]
  },
  {
   "cell_type": "markdown",
   "metadata": {},
   "source": [
    "Сформируем таблицу связок."
   ]
  },
  {
   "cell_type": "code",
   "execution_count": 24,
   "metadata": {},
   "outputs": [],
   "source": [
    "linked = linkage(X_st, method = 'ward')"
   ]
  },
  {
   "cell_type": "markdown",
   "metadata": {},
   "source": [
    "Построим дендограмму."
   ]
  },
  {
   "cell_type": "code",
   "execution_count": 25,
   "metadata": {},
   "outputs": [
    {
     "data": {
      "image/png": "[encoded data removed]",
      "text/plain": [
       "<Figure size 1080x720 with 1 Axes>"
      ]
     },
     "metadata": {
      "needs_background": "light"
     },
     "output_type": "display_data"
    }
   ],
   "source": [
    "plt.figure(figsize=(15, 10))  \n",
    "dendrogram(linked, orientation='top')\n",
    "plt.title('Кластеризация пользователей')\n",
    "plt.show()"
   ]
  },
  {
   "cell_type": "markdown",
   "metadata": {},
   "source": [
    "# Промежуточный вывод\n",
    "\n",
    "Можно был бы провести воображаемую линию чуть ниже 40 и получить 9 кластеров! Однако для наших целей выберем число меньше, проведем линию чуть между 40 и 60 по вертикали и выделим 5 кластеров, так как линия пересечет вертикальные линии 5-и групп.\n",
    "\n",
    "### Обучим модель кластеризации на основании алгоритма K-Means и спрогнозируем кластеры клиентов\n",
    "Обучим модель на основании алгоритма K-Means."
   ]
  },
  {
   "cell_type": "code",
   "execution_count": 26,
   "metadata": {},
   "outputs": [],
   "source": [
    "km = KMeans(n_clusters = 5, random_state=0)\n",
    "k_means_clusters = km.fit_predict(X_st)\n",
    "# преоразуем в Series, чтобы затем объединить с основной таблицей\n",
    "k_means_clusters = pd.Series(k_means_clusters, name='cluster')"
   ]
  },
  {
   "cell_type": "code",
   "execution_count": 27,
   "metadata": {},
   "outputs": [],
   "source": [
    "gym_with_clusters = pd.concat([gym, k_means_clusters],axis=1)"
   ]
  },
  {
   "cell_type": "markdown",
   "metadata": {},
   "source": [
    "Проверим."
   ]
  },
  {
   "cell_type": "code",
   "execution_count": 28,
   "metadata": {},
   "outputs": [
    {
     "data": {
      "text/html": [
       "<div>\n",
       "<style scoped>\n",
       "    .dataframe tbody tr th:only-of-type {\n",
       "        vertical-align: middle;\n",
       "    }\n",
       "\n",
       "    .dataframe tbody tr th {\n",
       "        vertical-align: top;\n",
       "    }\n",
       "\n",
       "    .dataframe thead th {\n",
       "        text-align: right;\n",
       "    }\n",
       "</style>\n",
       "<table border=\"1\" class=\"dataframe\">\n",
       "  <thead>\n",
       "    <tr style=\"text-align: right;\">\n",
       "      <th></th>\n",
       "      <th>gender</th>\n",
       "      <th>near_location</th>\n",
       "      <th>partner</th>\n",
       "      <th>promo_friends</th>\n",
       "      <th>phone</th>\n",
       "      <th>group_visits</th>\n",
       "      <th>age</th>\n",
       "      <th>avg_additional_charges_total</th>\n",
       "      <th>contract_period</th>\n",
       "      <th>lifetime</th>\n",
       "      <th>avg_class_frequency_total</th>\n",
       "      <th>churn</th>\n",
       "      <th>cluster</th>\n",
       "    </tr>\n",
       "  </thead>\n",
       "  <tbody>\n",
       "    <tr>\n",
       "      <td>57</td>\n",
       "      <td>0</td>\n",
       "      <td>1</td>\n",
       "      <td>0</td>\n",
       "      <td>0</td>\n",
       "      <td>1</td>\n",
       "      <td>1</td>\n",
       "      <td>27</td>\n",
       "      <td>236.92</td>\n",
       "      <td>6</td>\n",
       "      <td>0</td>\n",
       "      <td>1.00</td>\n",
       "      <td>1</td>\n",
       "      <td>3</td>\n",
       "    </tr>\n",
       "    <tr>\n",
       "      <td>0</td>\n",
       "      <td>1</td>\n",
       "      <td>1</td>\n",
       "      <td>1</td>\n",
       "      <td>1</td>\n",
       "      <td>0</td>\n",
       "      <td>1</td>\n",
       "      <td>29</td>\n",
       "      <td>14.23</td>\n",
       "      <td>6</td>\n",
       "      <td>3</td>\n",
       "      <td>0.02</td>\n",
       "      <td>0</td>\n",
       "      <td>4</td>\n",
       "    </tr>\n",
       "    <tr>\n",
       "      <td>1670</td>\n",
       "      <td>1</td>\n",
       "      <td>1</td>\n",
       "      <td>1</td>\n",
       "      <td>1</td>\n",
       "      <td>1</td>\n",
       "      <td>1</td>\n",
       "      <td>26</td>\n",
       "      <td>293.30</td>\n",
       "      <td>6</td>\n",
       "      <td>1</td>\n",
       "      <td>3.98</td>\n",
       "      <td>0</td>\n",
       "      <td>1</td>\n",
       "    </tr>\n",
       "    <tr>\n",
       "      <td>530</td>\n",
       "      <td>0</td>\n",
       "      <td>0</td>\n",
       "      <td>1</td>\n",
       "      <td>0</td>\n",
       "      <td>1</td>\n",
       "      <td>0</td>\n",
       "      <td>25</td>\n",
       "      <td>230.17</td>\n",
       "      <td>1</td>\n",
       "      <td>0</td>\n",
       "      <td>1.93</td>\n",
       "      <td>1</td>\n",
       "      <td>0</td>\n",
       "    </tr>\n",
       "    <tr>\n",
       "      <td>2511</td>\n",
       "      <td>1</td>\n",
       "      <td>1</td>\n",
       "      <td>0</td>\n",
       "      <td>1</td>\n",
       "      <td>1</td>\n",
       "      <td>1</td>\n",
       "      <td>26</td>\n",
       "      <td>210.46</td>\n",
       "      <td>1</td>\n",
       "      <td>5</td>\n",
       "      <td>2.42</td>\n",
       "      <td>0</td>\n",
       "      <td>3</td>\n",
       "    </tr>\n",
       "  </tbody>\n",
       "</table>\n",
       "</div>"
      ],
      "text/plain": [
       "      gender  near_location  partner  promo_friends  phone  group_visits  age  \\\n",
       "57         0              1        0              0      1             1   27   \n",
       "0          1              1        1              1      0             1   29   \n",
       "1670       1              1        1              1      1             1   26   \n",
       "530        0              0        1              0      1             0   25   \n",
       "2511       1              1        0              1      1             1   26   \n",
       "\n",
       "      avg_additional_charges_total  contract_period  lifetime  \\\n",
       "57                          236.92                6         0   \n",
       "0                            14.23                6         3   \n",
       "1670                        293.30                6         1   \n",
       "530                         230.17                1         0   \n",
       "2511                        210.46                1         5   \n",
       "\n",
       "      avg_class_frequency_total  churn  cluster  \n",
       "57                         1.00      1        3  \n",
       "0                          0.02      0        4  \n",
       "1670                       3.98      0        1  \n",
       "530                        1.93      1        0  \n",
       "2511                       2.42      0        3  "
      ]
     },
     "execution_count": 28,
     "metadata": {},
     "output_type": "execute_result"
    }
   ],
   "source": [
    "gym_with_clusters.sample(5)"
   ]
  },
  {
   "cell_type": "markdown",
   "metadata": {},
   "source": [
    "### Посмотрим на средние значения признаков для кластеров и построим графики распределения для признаков\n",
    "Теперь можно изучить средние значения признаков для каждого из кластеров"
   ]
  },
  {
   "cell_type": "code",
   "execution_count": 29,
   "metadata": {},
   "outputs": [
    {
     "data": {
      "text/html": [
       "<div>\n",
       "<style scoped>\n",
       "    .dataframe tbody tr th:only-of-type {\n",
       "        vertical-align: middle;\n",
       "    }\n",
       "\n",
       "    .dataframe tbody tr th {\n",
       "        vertical-align: top;\n",
       "    }\n",
       "\n",
       "    .dataframe thead th {\n",
       "        text-align: right;\n",
       "    }\n",
       "</style>\n",
       "<table border=\"1\" class=\"dataframe\">\n",
       "  <thead>\n",
       "    <tr style=\"text-align: right;\">\n",
       "      <th>cluster</th>\n",
       "      <th>1</th>\n",
       "      <th>3</th>\n",
       "      <th>4</th>\n",
       "      <th>2</th>\n",
       "      <th>0</th>\n",
       "    </tr>\n",
       "  </thead>\n",
       "  <tbody>\n",
       "    <tr>\n",
       "      <td>gender</td>\n",
       "      <td>0.49</td>\n",
       "      <td>0.54</td>\n",
       "      <td>0.52</td>\n",
       "      <td>0.51</td>\n",
       "      <td>0.50</td>\n",
       "    </tr>\n",
       "    <tr>\n",
       "      <td>near_location</td>\n",
       "      <td>1.00</td>\n",
       "      <td>1.00</td>\n",
       "      <td>0.86</td>\n",
       "      <td>1.00</td>\n",
       "      <td>0.00</td>\n",
       "    </tr>\n",
       "    <tr>\n",
       "      <td>partner</td>\n",
       "      <td>0.96</td>\n",
       "      <td>0.25</td>\n",
       "      <td>0.47</td>\n",
       "      <td>0.24</td>\n",
       "      <td>0.49</td>\n",
       "    </tr>\n",
       "    <tr>\n",
       "      <td>promo_friends</td>\n",
       "      <td>0.89</td>\n",
       "      <td>0.08</td>\n",
       "      <td>0.31</td>\n",
       "      <td>0.06</td>\n",
       "      <td>0.08</td>\n",
       "    </tr>\n",
       "    <tr>\n",
       "      <td>phone</td>\n",
       "      <td>1.00</td>\n",
       "      <td>1.00</td>\n",
       "      <td>0.00</td>\n",
       "      <td>1.00</td>\n",
       "      <td>1.00</td>\n",
       "    </tr>\n",
       "    <tr>\n",
       "      <td>group_visits</td>\n",
       "      <td>0.46</td>\n",
       "      <td>1.00</td>\n",
       "      <td>0.43</td>\n",
       "      <td>0.00</td>\n",
       "      <td>0.24</td>\n",
       "    </tr>\n",
       "    <tr>\n",
       "      <td>age</td>\n",
       "      <td>29.54</td>\n",
       "      <td>29.54</td>\n",
       "      <td>29.30</td>\n",
       "      <td>28.77</td>\n",
       "      <td>28.72</td>\n",
       "    </tr>\n",
       "    <tr>\n",
       "      <td>avg_additional_charges_total</td>\n",
       "      <td>155.86</td>\n",
       "      <td>148.09</td>\n",
       "      <td>144.21</td>\n",
       "      <td>143.38</td>\n",
       "      <td>137.54</td>\n",
       "    </tr>\n",
       "    <tr>\n",
       "      <td>contract_period</td>\n",
       "      <td>7.66</td>\n",
       "      <td>4.53</td>\n",
       "      <td>4.78</td>\n",
       "      <td>2.82</td>\n",
       "      <td>3.03</td>\n",
       "    </tr>\n",
       "    <tr>\n",
       "      <td>lifetime</td>\n",
       "      <td>4.38</td>\n",
       "      <td>3.76</td>\n",
       "      <td>3.94</td>\n",
       "      <td>3.34</td>\n",
       "      <td>3.06</td>\n",
       "    </tr>\n",
       "    <tr>\n",
       "      <td>avg_class_frequency_total</td>\n",
       "      <td>1.98</td>\n",
       "      <td>1.94</td>\n",
       "      <td>1.85</td>\n",
       "      <td>1.80</td>\n",
       "      <td>1.77</td>\n",
       "    </tr>\n",
       "    <tr>\n",
       "      <td>churn</td>\n",
       "      <td>0.12</td>\n",
       "      <td>0.20</td>\n",
       "      <td>0.27</td>\n",
       "      <td>0.38</td>\n",
       "      <td>0.40</td>\n",
       "    </tr>\n",
       "  </tbody>\n",
       "</table>\n",
       "</div>"
      ],
      "text/plain": [
       "cluster                            1       3       4       2       0\n",
       "gender                          0.49    0.54    0.52    0.51    0.50\n",
       "near_location                   1.00    1.00    0.86    1.00    0.00\n",
       "partner                         0.96    0.25    0.47    0.24    0.49\n",
       "promo_friends                   0.89    0.08    0.31    0.06    0.08\n",
       "phone                           1.00    1.00    0.00    1.00    1.00\n",
       "group_visits                    0.46    1.00    0.43    0.00    0.24\n",
       "age                            29.54   29.54   29.30   28.77   28.72\n",
       "avg_additional_charges_total  155.86  148.09  144.21  143.38  137.54\n",
       "contract_period                 7.66    4.53    4.78    2.82    3.03\n",
       "lifetime                        4.38    3.76    3.94    3.34    3.06\n",
       "avg_class_frequency_total       1.98    1.94    1.85    1.80    1.77\n",
       "churn                           0.12    0.20    0.27    0.38    0.40"
      ]
     },
     "execution_count": 29,
     "metadata": {},
     "output_type": "execute_result"
    }
   ],
   "source": [
    "gym_with_clusters.groupby('cluster').mean().sort_values(by='churn').T"
   ]
  },
  {
   "cell_type": "code",
   "execution_count": 30,
   "metadata": {},
   "outputs": [],
   "source": [
    "binary_features = ['gender', 'near_location', 'partner', 'promo_friends', 'phone', 'group_visits','churn']\n",
    "quantitive_features = ['contract_period', 'age', 'avg_additional_charges_total', 'lifetime', 'avg_class_frequency_total']"
   ]
  },
  {
   "cell_type": "code",
   "execution_count": 31,
   "metadata": {},
   "outputs": [
    {
     "data": {
      "image/png": "[encoded data removed]",
      "text/plain": [
       "<Figure size 1224x576 with 8 Axes>"
      ]
     },
     "metadata": {
      "needs_background": "light"
     },
     "output_type": "display_data"
    }
   ],
   "source": [
    "fig, axes = plt.subplots(2,4, figsize=(17, 8))\n",
    "i = 0\n",
    "\n",
    "for feature in binary_features:\n",
    "    gym_with_clusters.groupby(['cluster', feature])[feature].count().unstack().plot.bar(ax=axes.flat[i])\n",
    "    i += 1"
   ]
  },
  {
   "cell_type": "raw",
   "metadata": {},
   "source": [
    "# строим сабплоты/ячейки для будущих графиков и задаем переменные: счетчик и координаты сабплота\n",
    "fig, axes = plt.subplots(2,4, figsize=(17, 8))\n",
    "counter = 0\n",
    "ax_x = 0\n",
    "ax_y = 0\n",
    "a = .8\n",
    "\n",
    "for feature in binary_features:\n",
    "    # заполняем первый ряд сабплота, если counter = 4, значит первый ряд заполнен и пора переходить ко второму\n",
    "    if counter < 4:\n",
    "        axes[ax_y,ax_x].hist(gym_with_clusters.query('cluster == 0 ')[feature], density=True,color='red', alpha=a)\n",
    "        axes[ax_y,ax_x].hist(gym_with_clusters.query('cluster == 1 ')[feature], density=True,color='green', alpha=a)\n",
    "        axes[ax_y,ax_x].hist(gym_with_clusters.query('cluster == 2 ')[feature], density=True,color='orange', alpha=a)\n",
    "        axes[ax_y,ax_x].hist(gym_with_clusters.query('cluster == 3 ')[feature], density=True, color='yellow', alpha=a)\n",
    "        axes[ax_y,ax_x].hist(gym_with_clusters.query('cluster == 4 ')[feature], density=True,color='blue', alpha=a)\n",
    "        axes[ax_y,ax_x].set_xlabel(feature)\n",
    "        axes[ax_y,ax_x].legend(['0', '1', '2', '3', '4'])\n",
    "        ax_x += 1\n",
    "        counter += 1\n",
    "\n",
    "    else:\n",
    "        ax_y = 1 # теперь строим все графики на втором ряду\n",
    "        if ax_x == 4 and counter == 4: #обнуляем координаты по оси Х для первого графика на втором ряду\n",
    "            ax_x = 0\n",
    "        else:\n",
    "            ax_x += 1 #во всех остальных случаях у нас будет +1 к кординатам по оси x\n",
    "        axes[ax_y,ax_x].hist(gym_with_clusters.query('cluster == 0 ')[feature], density=True,color='red', alpha=a)\n",
    "        axes[ax_y,ax_x].hist(gym_with_clusters.query('cluster == 1 ')[feature], density=True,color='green', alpha=a)\n",
    "        axes[ax_y,ax_x].hist(gym_with_clusters.query('cluster == 2 ')[feature], density=True,color='orange', alpha=a)\n",
    "        axes[ax_y,ax_x].hist(gym_with_clusters.query('cluster == 3 ')[feature], density=True, color='yellow', alpha=a)\n",
    "        axes[ax_y,ax_x].hist(gym_with_clusters.query('cluster == 4 ')[feature], density=True,color='blue', alpha=a)\n",
    "        axes[ax_y,ax_x].set_xlabel(feature)\n",
    "        axes[ax_y,ax_x].legend(['0', '1', '2', '3', '4'])\n",
    "        counter += 1"
   ]
  },
  {
   "cell_type": "code",
   "execution_count": 32,
   "metadata": {},
   "outputs": [
    {
     "data": {
      "image/png": "[encoded data removed]",
      "text/plain": [
       "<Figure size 1224x576 with 6 Axes>"
      ]
     },
     "metadata": {
      "needs_background": "light"
     },
     "output_type": "display_data"
    }
   ],
   "source": [
    "# строим сабплоты/ячейки для будущих графиков и задаем переменные: счетчик и координаты сабплота\n",
    "fig, axes = plt.subplots(2,3, figsize=(17, 8))\n",
    "counter = 0\n",
    "ax_x = 0\n",
    "ax_y = 0\n",
    "\n",
    "for feature in quantitive_features:\n",
    "    # заполняем первый ряд сабплота, если counter = 4, значит первый ряд заполнен и пора переходить ко второму\n",
    "    if counter < 3:\n",
    "        ax = sns.boxplot(data = gym_with_clusters, x = 'cluster', y = feature, width=0.4, ax=axes[ax_y, ax_x])\n",
    "        ax_x += 1\n",
    "        counter += 1\n",
    "\n",
    "    else:\n",
    "        ax_y = 1 # теперь строим все графики на втором ряду\n",
    "        if ax_x == 3 and counter == 3: #обнуляем координаты по оси Х для первого графика на втором ряду\n",
    "            ax_x = 0\n",
    "        else:\n",
    "            ax_x += 1 #во всех остальных случаях у нас будет +1 к кординатам по оси x\n",
    "        ax = sns.boxplot(data = gym_with_clusters, x = 'cluster', y = feature, width=0.4, ax=axes[ax_y, ax_x])    \n",
    "        counter += 1"
   ]
  },
  {
   "cell_type": "markdown",
   "metadata": {},
   "source": [
    "<i class=\"a1\">Кластер c минимальным оттоком (2%)</i>\n",
    "\n",
    "- Все клиенты так или иначе находятся рядом с фитнес-центром, около трети имеют партнерские отношения с центром, почти все пришли без друзей. Длительность абонемента у этих клиентов около 6 месяцев как и \"срок жизни\".\n",
    "- Эти клиенты чаще других посещают групповые занятия и в среднем тренеруются почти три раза в неделю. С этих клиентов центр имеет большее всего дополнительных доходов.\n",
    "\n",
    "<i class=\"a1\">Кластер с оттоком чуть выше минимального (12%)</i>\n",
    "\n",
    "- Много клиентов находятся рядом с центром, и у многих имеются партнерские отношения с фитнесом, доля пришедших с друзьями - велика. \n",
    "- Средняя длительно контракта снижается.\n",
    "- Около половины посещало групповые занятия. Дополнительный заработок фитнес центра, как и от первого класстера, значительный, по сравнению с прочими.\n",
    "- Можно предположить, что в этой группе находятся клиенты, которые действительно заинтересованы в спорте.\n",
    "\n",
    "<i class=\"a1\">iКластер с оттоком около четверти от количества клиентов в группе (27%)</i>\n",
    "\n",
    "- Находятся рядом с центром, чуть меньше половины имеют партнерские отношения и около трети пришли от друзей. Длительность абонемента, срок до конца и \"срок жизни\" примерно одинаковые, около 4,5.\n",
    "- По остальным параметрам клиенты из группы особо не выделяются, можно сказать что в общем, они посещают фитнес реже, чем клиенты из предыдущих групп.\n",
    "- Примечательно, почти никто не оставил телефон. Можно предположить, что это несамые спортивные клиенты, возможно только начинают заниматься.\n",
    "\n",
    "<i class=\"a1\">Кластер с оттоком чуть меньше половины (40%)</i>\n",
    "\n",
    "- Почти никого нет рядом с фитнесом, контракт в среднем - 3 месяца, и слабая посещаемость групповых заняти.\n",
    "\n",
    "<i class=\"a1\">Лидер по оттоку - больше половины (55%)</i>\n",
    "\n",
    "- Доля живущих не рядом с фиитнес-центром, больше чем в остальных группах. Приходят без друзей и имеют самые короткие абонементы и \"срок жизни\".\n",
    "- Особенно выделяются на фоне прочих тем, что редко посещают центр."
   ]
  },
  {
   "cell_type": "markdown",
   "metadata": {},
   "source": [
    "## Общий вывод\n",
    "\n",
    "Мы провели исследование как сеть фитнес-центров «Культурист-датасаентист» взаимодействует с клиентами. В результате проведеной проектной работы мной были рассмотрены данные файла и совершена предобработка. Данные были приведенны к правильному ввиду, проверены на наличие пропущенных  и дублирующих значений. Все данные представлены в удобном формате. На основании всего вышесказанного мы можем констатировать следующее:\n",
    "\n",
    "- Особенно пристальное внимание нужно уделять продолжительности абонемента. Чем меньше продолжительность абонемента, тем больше вероятность, что это последний месяц когда клиент нас посещает. Наиболее безопасная длительность - 6 месяцев.\n",
    "- Отдельно следует обращать внимание на помещаемость, как в целом, так и на посещение групповых занятий. Чем реже клиент посещает фитнес-центр, тем более вероятно что он уйдет. Не все ходят на групповые занятия, но в кластерах, где эта доля особенно низка, наблюдается больший процент отткой. \n",
    "\n",
    "Рекомендации для стратегии взаимодействия с клиентами и их удержания:\n",
    "\n",
    "- Необходимо стимулировать клиентов, предлагать бонусы, скидки и т.п., чтобы они оформляли абонемент на 6 месяцев.\n",
    "- Для удержания клиентов можно рекомендовать \"заманивать\" клиентов на тренировки и групповые занятия, предлагаю бесплатные пробные, устраивая мастер-классы и иное."
   ]
  }
 ],
 "metadata": {
  "ExecuteTimeLog": [
   {
    "duration": 2443,
    "start_time": "2021-07-23T17:27:40.984Z"
   },
   {
    "duration": 4,
    "start_time": "2021-07-23T17:27:45.102Z"
   },
   {
    "duration": 29,
    "start_time": "2021-07-23T17:27:47.777Z"
   },
   {
    "duration": 32,
    "start_time": "2021-07-23T17:27:53.663Z"
   },
   {
    "duration": 4,
    "start_time": "2021-07-23T17:28:01.440Z"
   },
   {
    "duration": 6,
    "start_time": "2021-07-23T17:28:03.408Z"
   },
   {
    "duration": 7,
    "start_time": "2021-07-23T17:28:37.726Z"
   },
   {
    "duration": 32,
    "start_time": "2021-07-23T17:28:40.137Z"
   },
   {
    "duration": 14,
    "start_time": "2021-07-23T17:28:46.975Z"
   },
   {
    "duration": 74,
    "start_time": "2021-07-23T17:29:04.514Z"
   },
   {
    "duration": 24,
    "start_time": "2021-07-23T17:29:17.367Z"
   },
   {
    "duration": 5,
    "start_time": "2021-07-23T17:29:21.987Z"
   },
   {
    "duration": 878,
    "start_time": "2021-07-23T17:29:24.477Z"
   },
   {
    "duration": 20,
    "start_time": "2021-07-23T17:29:38.104Z"
   },
   {
    "duration": 8,
    "start_time": "2021-07-23T17:30:02.007Z"
   },
   {
    "duration": 4,
    "start_time": "2021-07-23T17:30:04.287Z"
   },
   {
    "duration": 1800,
    "start_time": "2021-07-23T17:30:07.986Z"
   },
   {
    "duration": 1880,
    "start_time": "2021-07-23T17:30:23.996Z"
   },
   {
    "duration": 1771,
    "start_time": "2021-07-23T17:30:39.159Z"
   },
   {
    "duration": 714,
    "start_time": "2021-07-23T17:30:44.487Z"
   },
   {
    "duration": 2032,
    "start_time": "2021-07-23T17:30:55.969Z"
   },
   {
    "duration": 1671,
    "start_time": "2021-07-23T17:31:33.865Z"
   },
   {
    "duration": 6,
    "start_time": "2021-07-23T17:31:53.640Z"
   },
   {
    "duration": 1479,
    "start_time": "2021-07-23T17:34:14.832Z"
   },
   {
    "duration": 1446,
    "start_time": "2021-07-23T17:34:39.375Z"
   },
   {
    "duration": 1573,
    "start_time": "2021-07-23T17:34:50.566Z"
   },
   {
    "duration": 1673,
    "start_time": "2021-07-23T17:34:59.066Z"
   },
   {
    "duration": 6,
    "start_time": "2021-07-23T17:37:47.388Z"
   },
   {
    "duration": 11,
    "start_time": "2021-07-23T17:37:51.156Z"
   },
   {
    "duration": 3607,
    "start_time": "2021-07-23T17:37:54.384Z"
   },
   {
    "duration": 19,
    "start_time": "2021-07-23T17:37:59.782Z"
   },
   {
    "duration": 8,
    "start_time": "2021-07-23T17:38:07.003Z"
   },
   {
    "duration": 786,
    "start_time": "2021-07-23T17:38:08.877Z"
   },
   {
    "duration": 137539,
    "start_time": "2021-07-23T17:38:10.760Z"
   },
   {
    "duration": 1751,
    "start_time": "2021-07-23T17:40:57.742Z"
   },
   {
    "duration": 7,
    "start_time": "2021-07-23T17:41:35.867Z"
   },
   {
    "duration": 18,
    "start_time": "2021-07-23T17:41:39.939Z"
   },
   {
    "duration": 26,
    "start_time": "2021-07-23T17:41:55.774Z"
   },
   {
    "duration": 300,
    "start_time": "2021-07-23T17:42:01.012Z"
   },
   {
    "duration": 22,
    "start_time": "2021-07-23T17:42:24.166Z"
   },
   {
    "duration": 5,
    "start_time": "2021-07-23T17:42:34.141Z"
   },
   {
    "duration": 3543,
    "start_time": "2021-07-23T17:42:36.745Z"
   },
   {
    "duration": 2080,
    "start_time": "2021-07-23T17:42:53.851Z"
   },
   {
    "duration": 1529,
    "start_time": "2021-07-23T17:51:29.128Z"
   },
   {
    "duration": 4,
    "start_time": "2021-07-23T17:51:31.975Z"
   },
   {
    "duration": 29,
    "start_time": "2021-07-23T17:51:34.063Z"
   },
   {
    "duration": 35,
    "start_time": "2021-07-23T17:51:36.505Z"
   },
   {
    "duration": 4,
    "start_time": "2021-07-23T17:51:43.779Z"
   },
   {
    "duration": 6,
    "start_time": "2021-07-23T17:51:45.415Z"
   },
   {
    "duration": 7,
    "start_time": "2021-07-23T17:51:48.789Z"
   },
   {
    "duration": 32,
    "start_time": "2021-07-23T17:51:54.018Z"
   },
   {
    "duration": 13,
    "start_time": "2021-07-23T17:51:57.097Z"
   },
   {
    "duration": 71,
    "start_time": "2021-07-23T17:52:00.474Z"
   },
   {
    "duration": 18,
    "start_time": "2021-07-23T17:52:16.112Z"
   },
   {
    "duration": 9,
    "start_time": "2021-07-23T17:52:20.138Z"
   },
   {
    "duration": 5,
    "start_time": "2021-07-23T17:52:21.554Z"
   },
   {
    "duration": 1664,
    "start_time": "2021-07-23T17:52:25.071Z"
   },
   {
    "duration": 2039,
    "start_time": "2021-07-23T17:52:30.886Z"
   },
   {
    "duration": 1778,
    "start_time": "2021-07-23T17:52:38.095Z"
   },
   {
    "duration": 1730,
    "start_time": "2021-07-23T17:52:49.031Z"
   },
   {
    "duration": 6,
    "start_time": "2021-07-23T17:55:34.837Z"
   },
   {
    "duration": 5,
    "start_time": "2021-07-23T17:55:37.663Z"
   },
   {
    "duration": 10,
    "start_time": "2021-07-23T17:55:40.086Z"
   },
   {
    "duration": 2225,
    "start_time": "2021-07-23T17:55:42.963Z"
   },
   {
    "duration": 21,
    "start_time": "2021-07-23T17:55:46.985Z"
   },
   {
    "duration": 9,
    "start_time": "2021-07-23T17:55:49.642Z"
   },
   {
    "duration": 763,
    "start_time": "2021-07-23T17:55:51.526Z"
   },
   {
    "duration": 138614,
    "start_time": "2021-07-23T17:55:53.595Z"
   },
   {
    "duration": 1700,
    "start_time": "2021-07-23T17:58:27.792Z"
   },
   {
    "duration": 7,
    "start_time": "2021-07-23T17:58:32.521Z"
   },
   {
    "duration": 18,
    "start_time": "2021-07-23T17:58:34.474Z"
   },
   {
    "duration": 20,
    "start_time": "2021-07-23T17:58:37.274Z"
   },
   {
    "duration": 4,
    "start_time": "2021-07-23T17:58:39.733Z"
   },
   {
    "duration": 3254,
    "start_time": "2021-07-23T17:58:43.738Z"
   },
   {
    "duration": 2142,
    "start_time": "2021-07-23T17:58:50.814Z"
   },
   {
    "duration": 1557,
    "start_time": "2021-07-24T11:21:12.550Z"
   },
   {
    "duration": 3,
    "start_time": "2021-07-24T11:21:14.111Z"
   },
   {
    "duration": 31,
    "start_time": "2021-07-24T11:21:14.118Z"
   },
   {
    "duration": 30,
    "start_time": "2021-07-24T11:21:14.151Z"
   },
   {
    "duration": 5,
    "start_time": "2021-07-24T11:21:14.200Z"
   },
   {
    "duration": 11,
    "start_time": "2021-07-24T11:21:14.207Z"
   },
   {
    "duration": 10,
    "start_time": "2021-07-24T11:21:14.220Z"
   },
   {
    "duration": 28,
    "start_time": "2021-07-24T11:21:14.234Z"
   },
   {
    "duration": 34,
    "start_time": "2021-07-24T11:21:14.266Z"
   },
   {
    "duration": 96,
    "start_time": "2021-07-24T11:21:14.304Z"
   },
   {
    "duration": 18,
    "start_time": "2021-07-24T11:21:14.403Z"
   },
   {
    "duration": 7,
    "start_time": "2021-07-24T11:21:14.424Z"
   },
   {
    "duration": 5,
    "start_time": "2021-07-24T11:21:14.434Z"
   },
   {
    "duration": 1734,
    "start_time": "2021-07-24T11:21:14.442Z"
   },
   {
    "duration": 1971,
    "start_time": "2021-07-24T11:21:16.180Z"
   },
   {
    "duration": 1859,
    "start_time": "2021-07-24T11:21:18.154Z"
   },
   {
    "duration": 1815,
    "start_time": "2021-07-24T11:21:20.015Z"
   },
   {
    "duration": 5,
    "start_time": "2021-07-24T11:21:21.833Z"
   },
   {
    "duration": 9,
    "start_time": "2021-07-24T11:21:21.840Z"
   },
   {
    "duration": 12,
    "start_time": "2021-07-24T11:21:21.851Z"
   },
   {
    "duration": 2837,
    "start_time": "2021-07-24T11:21:21.865Z"
   },
   {
    "duration": 20,
    "start_time": "2021-07-24T11:21:24.705Z"
   },
   {
    "duration": 8,
    "start_time": "2021-07-24T11:21:24.729Z"
   },
   {
    "duration": 797,
    "start_time": "2021-07-24T11:21:24.739Z"
   },
   {
    "duration": 1531,
    "start_time": "2021-07-24T16:21:29.391Z"
   },
   {
    "duration": 4,
    "start_time": "2021-07-24T16:21:30.924Z"
   },
   {
    "duration": 37,
    "start_time": "2021-07-24T16:21:30.931Z"
   },
   {
    "duration": 40,
    "start_time": "2021-07-24T16:21:30.970Z"
   },
   {
    "duration": 4,
    "start_time": "2021-07-24T16:21:31.013Z"
   },
   {
    "duration": 16,
    "start_time": "2021-07-24T16:21:31.020Z"
   },
   {
    "duration": 7,
    "start_time": "2021-07-24T16:21:31.062Z"
   },
   {
    "duration": 28,
    "start_time": "2021-07-24T16:21:31.071Z"
   },
   {
    "duration": 16,
    "start_time": "2021-07-24T16:21:31.103Z"
   },
   {
    "duration": 101,
    "start_time": "2021-07-24T16:21:31.122Z"
   },
   {
    "duration": 15,
    "start_time": "2021-07-24T16:21:31.226Z"
   },
   {
    "duration": 22,
    "start_time": "2021-07-24T16:21:31.243Z"
   },
   {
    "duration": 4,
    "start_time": "2021-07-24T16:21:31.268Z"
   },
   {
    "duration": 1696,
    "start_time": "2021-07-24T16:21:31.274Z"
   },
   {
    "duration": 1924,
    "start_time": "2021-07-24T16:21:32.973Z"
   },
   {
    "duration": 1808,
    "start_time": "2021-07-24T16:21:34.900Z"
   },
   {
    "duration": 1803,
    "start_time": "2021-07-24T16:21:36.711Z"
   },
   {
    "duration": 5,
    "start_time": "2021-07-24T16:21:38.516Z"
   },
   {
    "duration": 8,
    "start_time": "2021-07-24T16:21:38.524Z"
   },
   {
    "duration": 32,
    "start_time": "2021-07-24T16:21:38.535Z"
   },
   {
    "duration": 2300,
    "start_time": "2021-07-24T16:21:38.569Z"
   },
   {
    "duration": 109,
    "start_time": "2021-07-24T16:21:40.871Z"
   },
   {
    "duration": 7,
    "start_time": "2021-07-24T16:21:40.983Z"
   },
   {
    "duration": 833,
    "start_time": "2021-07-24T16:21:40.993Z"
   },
   {
    "duration": 154947,
    "start_time": "2021-07-24T16:21:41.829Z"
   },
   {
    "duration": 1692,
    "start_time": "2021-07-24T16:24:16.779Z"
   },
   {
    "duration": 7,
    "start_time": "2021-07-24T16:24:18.476Z"
   },
   {
    "duration": 47,
    "start_time": "2021-07-24T16:24:18.486Z"
   },
   {
    "duration": 28,
    "start_time": "2021-07-24T16:24:18.536Z"
   },
   {
    "duration": 3,
    "start_time": "2021-07-24T16:24:18.566Z"
   },
   {
    "duration": 3580,
    "start_time": "2021-07-24T16:24:18.572Z"
   },
   {
    "duration": 2400,
    "start_time": "2021-07-24T16:24:22.162Z"
   },
   {
    "duration": 1544,
    "start_time": "2021-07-24T18:12:47.716Z"
   },
   {
    "duration": 4,
    "start_time": "2021-07-24T18:12:50.893Z"
   },
   {
    "duration": 26,
    "start_time": "2021-07-24T18:12:53.204Z"
   },
   {
    "duration": 31,
    "start_time": "2021-07-24T18:12:56.229Z"
   },
   {
    "duration": 4,
    "start_time": "2021-07-24T18:12:59.173Z"
   },
   {
    "duration": 6,
    "start_time": "2021-07-24T18:13:00.252Z"
   },
   {
    "duration": 7,
    "start_time": "2021-07-24T18:13:03.164Z"
   },
   {
    "duration": 21,
    "start_time": "2021-07-24T18:13:05.857Z"
   },
   {
    "duration": 14,
    "start_time": "2021-07-24T18:13:08.727Z"
   },
   {
    "duration": 70,
    "start_time": "2021-07-24T18:13:13.471Z"
   },
   {
    "duration": 14,
    "start_time": "2021-07-24T18:13:18.646Z"
   },
   {
    "duration": 8,
    "start_time": "2021-07-24T18:13:21.940Z"
   },
   {
    "duration": 4,
    "start_time": "2021-07-24T18:13:23.894Z"
   },
   {
    "duration": 1566,
    "start_time": "2021-07-24T18:13:27.421Z"
   },
   {
    "duration": 1850,
    "start_time": "2021-07-24T18:13:33.619Z"
   },
   {
    "duration": 1720,
    "start_time": "2021-07-24T18:13:48.717Z"
   },
   {
    "duration": 1716,
    "start_time": "2021-07-24T18:13:54.108Z"
   },
   {
    "duration": 6,
    "start_time": "2021-07-24T18:13:59.965Z"
   },
   {
    "duration": 12,
    "start_time": "2021-07-24T18:14:04.142Z"
   },
   {
    "duration": 10,
    "start_time": "2021-07-24T18:14:06.352Z"
   },
   {
    "duration": 3138,
    "start_time": "2021-07-24T18:14:10.920Z"
   },
   {
    "duration": 450,
    "start_time": "2021-07-24T18:14:17.192Z"
   },
   {
    "duration": 18,
    "start_time": "2021-07-24T18:14:26.279Z"
   },
   {
    "duration": 8,
    "start_time": "2021-07-24T18:15:15.128Z"
   },
   {
    "duration": 773,
    "start_time": "2021-07-24T18:15:17.068Z"
   },
   {
    "duration": 132923,
    "start_time": "2021-07-24T18:15:19.119Z"
   },
   {
    "duration": 1752,
    "start_time": "2021-07-24T18:19:09.512Z"
   },
   {
    "duration": 7,
    "start_time": "2021-07-24T18:19:12.464Z"
   },
   {
    "duration": 17,
    "start_time": "2021-07-24T18:19:19.075Z"
   },
   {
    "duration": 19,
    "start_time": "2021-07-24T18:19:21.450Z"
   },
   {
    "duration": 4,
    "start_time": "2021-07-24T18:19:24.466Z"
   },
   {
    "duration": 1888,
    "start_time": "2021-07-24T18:19:27.855Z"
   },
   {
    "duration": 1793,
    "start_time": "2021-07-24T18:21:10.872Z"
   },
   {
    "duration": 1819,
    "start_time": "2021-07-24T18:21:59.585Z"
   },
   {
    "duration": 1629,
    "start_time": "2021-07-25T08:06:04.430Z"
   },
   {
    "duration": 4,
    "start_time": "2021-07-25T08:06:07.165Z"
   },
   {
    "duration": 94,
    "start_time": "2021-07-25T08:06:09.175Z"
   },
   {
    "duration": 31,
    "start_time": "2021-07-25T08:06:12.051Z"
   },
   {
    "duration": 4,
    "start_time": "2021-07-25T08:06:15.671Z"
   },
   {
    "duration": 5,
    "start_time": "2021-07-25T08:06:18.473Z"
   },
   {
    "duration": 6,
    "start_time": "2021-07-25T08:06:21.937Z"
   },
   {
    "duration": 21,
    "start_time": "2021-07-25T08:06:38.983Z"
   },
   {
    "duration": 13,
    "start_time": "2021-07-25T08:06:41.861Z"
   },
   {
    "duration": 75,
    "start_time": "2021-07-25T08:06:44.928Z"
   },
   {
    "duration": 17,
    "start_time": "2021-07-25T08:06:51.807Z"
   },
   {
    "duration": 8,
    "start_time": "2021-07-25T08:06:54.778Z"
   },
   {
    "duration": 4,
    "start_time": "2021-07-25T08:06:58.022Z"
   },
   {
    "duration": 1921,
    "start_time": "2021-07-25T08:07:01.091Z"
   },
   {
    "duration": 1993,
    "start_time": "2021-07-25T08:07:07.798Z"
   },
   {
    "duration": 1801,
    "start_time": "2021-07-25T08:07:13.826Z"
   },
   {
    "duration": 6,
    "start_time": "2021-07-25T08:07:20.184Z"
   },
   {
    "duration": 6,
    "start_time": "2021-07-25T08:07:24.406Z"
   },
   {
    "duration": 11,
    "start_time": "2021-07-25T08:07:26.749Z"
   },
   {
    "duration": 1625,
    "start_time": "2021-07-25T08:07:29.550Z"
   },
   {
    "duration": 489,
    "start_time": "2021-07-25T08:07:32.663Z"
   },
   {
    "duration": 19,
    "start_time": "2021-07-25T08:07:35.493Z"
   },
   {
    "duration": 8,
    "start_time": "2021-07-25T08:07:38.826Z"
   },
   {
    "duration": 791,
    "start_time": "2021-07-25T08:07:41.079Z"
   },
   {
    "duration": 1804,
    "start_time": "2021-07-25T08:07:48.675Z"
   },
   {
    "duration": 7,
    "start_time": "2021-07-25T08:07:50.888Z"
   },
   {
    "duration": 17,
    "start_time": "2021-07-25T08:07:53.053Z"
   },
   {
    "duration": 20,
    "start_time": "2021-07-25T08:07:55.658Z"
   },
   {
    "duration": 4,
    "start_time": "2021-07-25T08:07:58.812Z"
   },
   {
    "duration": 134,
    "start_time": "2021-07-25T08:08:03.488Z"
   },
   {
    "duration": 3,
    "start_time": "2021-07-25T08:08:54.388Z"
   },
   {
    "duration": 149,
    "start_time": "2021-07-25T08:09:04.872Z"
   },
   {
    "duration": 130,
    "start_time": "2021-07-25T08:09:16.221Z"
   },
   {
    "duration": 618,
    "start_time": "2021-07-25T08:09:41.546Z"
   },
   {
    "duration": 422,
    "start_time": "2021-07-25T08:11:36.051Z"
   },
   {
    "duration": 424,
    "start_time": "2021-07-25T08:11:55.008Z"
   },
   {
    "duration": 11923,
    "start_time": "2021-07-25T08:14:12.205Z"
   },
   {
    "duration": 9328,
    "start_time": "2021-07-25T08:23:03.768Z"
   },
   {
    "duration": 376,
    "start_time": "2021-07-25T08:27:51.904Z"
   },
   {
    "duration": 3567,
    "start_time": "2021-07-25T08:32:07.593Z"
   },
   {
    "duration": 2095,
    "start_time": "2021-07-25T08:32:42.384Z"
   },
   {
    "duration": 1648,
    "start_time": "2021-07-25T08:34:07.380Z"
   },
   {
    "duration": 3,
    "start_time": "2021-07-25T08:34:10.478Z"
   },
   {
    "duration": 1551,
    "start_time": "2021-07-25T08:34:21.593Z"
   },
   {
    "duration": 4,
    "start_time": "2021-07-25T08:34:24.296Z"
   },
   {
    "duration": 24,
    "start_time": "2021-07-25T08:34:26.478Z"
   },
   {
    "duration": 31,
    "start_time": "2021-07-25T08:34:29.963Z"
   },
   {
    "duration": 4,
    "start_time": "2021-07-25T08:34:33.096Z"
   },
   {
    "duration": 6,
    "start_time": "2021-07-25T08:34:35.135Z"
   },
   {
    "duration": 7,
    "start_time": "2021-07-25T08:34:38.178Z"
   },
   {
    "duration": 22,
    "start_time": "2021-07-25T08:34:40.129Z"
   },
   {
    "duration": 12,
    "start_time": "2021-07-25T08:34:43.032Z"
   },
   {
    "duration": 71,
    "start_time": "2021-07-25T08:34:45.676Z"
   },
   {
    "duration": 15,
    "start_time": "2021-07-25T08:34:48.855Z"
   },
   {
    "duration": 7,
    "start_time": "2021-07-25T08:34:51.887Z"
   },
   {
    "duration": 4,
    "start_time": "2021-07-25T08:34:54.625Z"
   },
   {
    "duration": 1704,
    "start_time": "2021-07-25T08:34:59.184Z"
   },
   {
    "duration": 1872,
    "start_time": "2021-07-25T08:35:05.135Z"
   },
   {
    "duration": 1840,
    "start_time": "2021-07-25T08:35:25.556Z"
   },
   {
    "duration": 6,
    "start_time": "2021-07-25T08:35:31.142Z"
   },
   {
    "duration": 6,
    "start_time": "2021-07-25T08:35:34.358Z"
   },
   {
    "duration": 9,
    "start_time": "2021-07-25T08:35:37.006Z"
   },
   {
    "duration": 2228,
    "start_time": "2021-07-25T08:35:40.247Z"
   },
   {
    "duration": 468,
    "start_time": "2021-07-25T08:35:43.655Z"
   },
   {
    "duration": 17,
    "start_time": "2021-07-25T08:35:47.836Z"
   },
   {
    "duration": 8,
    "start_time": "2021-07-25T08:35:51.534Z"
   },
   {
    "duration": 780,
    "start_time": "2021-07-25T08:35:53.417Z"
   },
   {
    "duration": 137263,
    "start_time": "2021-07-25T08:35:55.564Z"
   },
   {
    "duration": 1718,
    "start_time": "2021-07-25T08:40:41.059Z"
   },
   {
    "duration": 7,
    "start_time": "2021-07-25T08:40:44.677Z"
   },
   {
    "duration": 18,
    "start_time": "2021-07-25T08:40:46.857Z"
   },
   {
    "duration": 20,
    "start_time": "2021-07-25T08:40:49.533Z"
   },
   {
    "duration": 4,
    "start_time": "2021-07-25T08:40:52.516Z"
   },
   {
    "duration": 3792,
    "start_time": "2021-07-25T08:40:56.175Z"
   },
   {
    "duration": 2026,
    "start_time": "2021-07-25T08:41:07.305Z"
   },
   {
    "duration": 1122,
    "start_time": "2021-07-27T10:18:11.563Z"
   },
   {
    "duration": 3,
    "start_time": "2021-07-27T10:18:15.957Z"
   },
   {
    "duration": 25,
    "start_time": "2021-07-27T10:18:18.112Z"
   },
   {
    "duration": 20,
    "start_time": "2021-07-27T10:18:21.243Z"
   },
   {
    "duration": 3,
    "start_time": "2021-07-27T10:18:24.736Z"
   },
   {
    "duration": 4,
    "start_time": "2021-07-27T10:18:26.830Z"
   },
   {
    "duration": 4,
    "start_time": "2021-07-27T10:18:29.682Z"
   },
   {
    "duration": 12,
    "start_time": "2021-07-27T10:18:32.540Z"
   },
   {
    "duration": 9,
    "start_time": "2021-07-27T10:18:35.077Z"
   },
   {
    "duration": 39,
    "start_time": "2021-07-27T10:18:38.129Z"
   },
   {
    "duration": 12,
    "start_time": "2021-07-27T10:18:41.850Z"
   },
   {
    "duration": 5,
    "start_time": "2021-07-27T10:18:45.237Z"
   },
   {
    "duration": 2,
    "start_time": "2021-07-27T10:18:47.004Z"
   },
   {
    "duration": 873,
    "start_time": "2021-07-27T10:18:52.008Z"
   },
   {
    "duration": 1036,
    "start_time": "2021-07-27T10:18:56.992Z"
   },
   {
    "duration": 985,
    "start_time": "2021-07-27T10:19:04.333Z"
   },
   {
    "duration": 4,
    "start_time": "2021-07-27T10:19:11.839Z"
   },
   {
    "duration": 4,
    "start_time": "2021-07-27T10:19:15.218Z"
   },
   {
    "duration": 7,
    "start_time": "2021-07-27T10:19:17.349Z"
   },
   {
    "duration": 733,
    "start_time": "2021-07-27T10:19:23.370Z"
   },
   {
    "duration": 276,
    "start_time": "2021-07-27T10:19:25.999Z"
   },
   {
    "duration": 11,
    "start_time": "2021-07-27T10:19:29.166Z"
   },
   {
    "duration": 5,
    "start_time": "2021-07-27T10:19:32.364Z"
   },
   {
    "duration": 474,
    "start_time": "2021-07-27T10:19:34.372Z"
   },
   {
    "duration": 72107,
    "start_time": "2021-07-27T10:19:36.949Z"
   },
   {
    "duration": 1373,
    "start_time": "2021-07-27T10:20:53.519Z"
   },
   {
    "duration": 5,
    "start_time": "2021-07-27T10:20:57.319Z"
   },
   {
    "duration": 11,
    "start_time": "2021-07-27T10:20:59.278Z"
   },
   {
    "duration": 12,
    "start_time": "2021-07-27T10:21:01.926Z"
   },
   {
    "duration": 3,
    "start_time": "2021-07-27T10:21:04.685Z"
   },
   {
    "duration": 1137,
    "start_time": "2021-07-27T10:21:07.331Z"
   },
   {
    "duration": 983,
    "start_time": "2021-07-27T10:21:17.478Z"
   },
   {
    "duration": 1531,
    "start_time": "2021-07-27T15:00:24.200Z"
   },
   {
    "duration": 4,
    "start_time": "2021-07-27T15:00:25.733Z"
   },
   {
    "duration": 29,
    "start_time": "2021-07-27T15:00:25.740Z"
   },
   {
    "duration": 32,
    "start_time": "2021-07-27T15:00:25.772Z"
   },
   {
    "duration": 4,
    "start_time": "2021-07-27T15:00:25.806Z"
   },
   {
    "duration": 8,
    "start_time": "2021-07-27T15:00:25.812Z"
   },
   {
    "duration": 6,
    "start_time": "2021-07-27T15:00:25.822Z"
   },
   {
    "duration": 56,
    "start_time": "2021-07-27T15:00:25.832Z"
   },
   {
    "duration": 13,
    "start_time": "2021-07-27T15:00:25.891Z"
   },
   {
    "duration": 86,
    "start_time": "2021-07-27T15:00:25.906Z"
   },
   {
    "duration": 15,
    "start_time": "2021-07-27T15:00:25.995Z"
   },
   {
    "duration": 7,
    "start_time": "2021-07-27T15:00:26.012Z"
   },
   {
    "duration": 4,
    "start_time": "2021-07-27T15:00:26.022Z"
   },
   {
    "duration": 1577,
    "start_time": "2021-07-27T15:00:26.028Z"
   },
   {
    "duration": 1775,
    "start_time": "2021-07-27T15:00:27.607Z"
   },
   {
    "duration": 1673,
    "start_time": "2021-07-27T15:00:29.385Z"
   },
   {
    "duration": 5,
    "start_time": "2021-07-27T15:00:31.060Z"
   },
   {
    "duration": 19,
    "start_time": "2021-07-27T15:00:31.067Z"
   },
   {
    "duration": 27,
    "start_time": "2021-07-27T15:00:31.089Z"
   },
   {
    "duration": 3468,
    "start_time": "2021-07-27T15:00:31.119Z"
   },
   {
    "duration": 620,
    "start_time": "2021-07-27T15:00:34.591Z"
   },
   {
    "duration": 17,
    "start_time": "2021-07-27T15:00:35.213Z"
   },
   {
    "duration": 12,
    "start_time": "2021-07-27T15:00:35.234Z"
   },
   {
    "duration": 740,
    "start_time": "2021-07-27T15:00:35.249Z"
   },
   {
    "duration": 134794,
    "start_time": "2021-07-27T15:00:35.991Z"
   },
   {
    "duration": 1720,
    "start_time": "2021-07-27T15:02:50.787Z"
   },
   {
    "duration": 77,
    "start_time": "2021-07-27T15:02:52.510Z"
   },
   {
    "duration": 19,
    "start_time": "2021-07-27T15:02:52.589Z"
   },
   {
    "duration": 17,
    "start_time": "2021-07-27T15:02:52.611Z"
   },
   {
    "duration": 3,
    "start_time": "2021-07-27T15:02:52.631Z"
   },
   {
    "duration": 1948,
    "start_time": "2021-07-27T15:02:52.637Z"
   },
   {
    "duration": 1724,
    "start_time": "2021-07-27T15:02:54.588Z"
   }
  ],
  "kernelspec": {
   "display_name": "Python 3",
   "language": "python",
   "name": "python3"
  },
  "language_info": {
   "codemirror_mode": {
    "name": "ipython",
    "version": 3
   },
   "file_extension": ".py",
   "mimetype": "text/x-python",
   "name": "python",
   "nbconvert_exporter": "python",
   "pygments_lexer": "ipython3",
   "version": "3.8.8"
  },
  "toc": {
   "base_numbering": 1,
   "nav_menu": {},
   "number_sections": true,
   "sideBar": true,
   "skip_h1_title": true,
   "title_cell": "Table of Contents",
   "title_sidebar": "Contents",
   "toc_cell": false,
   "toc_position": {},
   "toc_section_display": true,
   "toc_window_display": false
  }
 },
 "nbformat": 4,
 "nbformat_minor": 2
}
