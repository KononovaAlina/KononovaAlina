{
 "cells": [
  {
   "cell_type": "markdown",
   "metadata": {
    "toc": true
   },
   "source": [
    "<h1>Содержание<span class=\"tocSkip\"></span></h1>\n",
    "<div class=\"toc\"><ul class=\"toc-item\"><li><span><a href=\"#Изучение-данных-из-файла\" data-toc-modified-id=\"Изучение-данных-из-файла-1\"><span class=\"toc-item-num\">1&nbsp;&nbsp;</span>Изучение данных из файла</a></span><ul class=\"toc-item\"><li><span><a href=\"#Вывод\" data-toc-modified-id=\"Вывод-1.1\"><span class=\"toc-item-num\">1.1&nbsp;&nbsp;</span>Вывод</a></span></li></ul></li><li><span><a href=\"#Предобработка-данных\" data-toc-modified-id=\"Предобработка-данных-2\"><span class=\"toc-item-num\">2&nbsp;&nbsp;</span>Предобработка данных</a></span></li><li><span><a href=\"#Рассчёты-и-добавление-результатов-в-таблицу\" data-toc-modified-id=\"Рассчёты-и-добавление-результатов-в-таблицу-3\"><span class=\"toc-item-num\">3&nbsp;&nbsp;</span>Рассчёты и добавление результатов в таблицу</a></span></li><li><span><a href=\"#Исследовательский-анализ-данных\" data-toc-modified-id=\"Исследовательский-анализ-данных-4\"><span class=\"toc-item-num\">4&nbsp;&nbsp;</span>Исследовательский анализ данных</a></span><ul class=\"toc-item\"><li><span><a href=\"#Изучите-следующие-параметры:-площадь,-цена,-число-комнат,-высота-потолков.-Постройте-гистограммы-для-каждого-параметра.\" data-toc-modified-id=\"Изучите-следующие-параметры:-площадь,-цена,-число-комнат,-высота-потолков.-Постройте-гистограммы-для-каждого-параметра.-4.1\"><span class=\"toc-item-num\">4.1&nbsp;&nbsp;</span>Изучите следующие параметры: площадь, цена, число комнат, высота потолков. Постройте гистограммы для каждого параметра.</a></span></li><li><span><a href=\"#Изучите-время-продажи-квартиры.-Постройте-гистограмму.-Посчитайте-среднее-и-медиану.-Опишите,-сколько-обычно-занимает-продажа.-Когда-можно-считать,-что-продажи-прошли-очень-быстро,-а-когда-необычно-долго?\" data-toc-modified-id=\"Изучите-время-продажи-квартиры.-Постройте-гистограмму.-Посчитайте-среднее-и-медиану.-Опишите,-сколько-обычно-занимает-продажа.-Когда-можно-считать,-что-продажи-прошли-очень-быстро,-а-когда-необычно-долго?-4.2\"><span class=\"toc-item-num\">4.2&nbsp;&nbsp;</span>Изучите время продажи квартиры. Постройте гистограмму. Посчитайте среднее и медиану. Опишите, сколько обычно занимает продажа. Когда можно считать, что продажи прошли очень быстро, а когда необычно долго?</a></span></li><li><span><a href=\"#Уберите-редкие-и-выбивающиеся-значения.-Опишите,-какие-особенности-обнаружили.\" data-toc-modified-id=\"Уберите-редкие-и-выбивающиеся-значения.-Опишите,-какие-особенности-обнаружили.-4.3\"><span class=\"toc-item-num\">4.3&nbsp;&nbsp;</span>Уберите редкие и выбивающиеся значения. Опишите, какие особенности обнаружили.</a></span></li><li><span><a href=\"#Какие-факторы-больше-всего-влияют-на-стоимость-квартиры?-Изучите,-зависит-ли-цена-от-площади,-числа-комнат,-удаленности-от-центра.-Изучите-зависимость-цена-от-того,-на-каком-этаже-расположена-квартира:-первом,-последнем-или-другом.-Также-изучите-зависимость-от-даты-размещения:-дня,-недели,-месяца-или-года.\" data-toc-modified-id=\"Какие-факторы-больше-всего-влияют-на-стоимость-квартиры?-Изучите,-зависит-ли-цена-от-площади,-числа-комнат,-удаленности-от-центра.-Изучите-зависимость-цена-от-того,-на-каком-этаже-расположена-квартира:-первом,-последнем-или-другом.-Также-изучите-зависимость-от-даты-размещения:-дня,-недели,-месяца-или-года.-4.4\"><span class=\"toc-item-num\">4.4&nbsp;&nbsp;</span>Какие факторы больше всего влияют на стоимость квартиры? Изучите, зависит ли цена от площади, числа комнат, удаленности от центра. Изучите зависимость цена от того, на каком этаже расположена квартира: первом, последнем или другом. Также изучите зависимость от даты размещения: дня, недели, месяца или года.</a></span></li><li><span><a href=\"#Выберете-10-населенных-пунктов-с-наибольшим-числом-объявлений.-Посчитайте-среднюю-цену-квадратного-метра-в-этих-населенных-пунктах.-Выделите-среди-них-населенные-пункты-с-самой-высокой-и-низкой-стоимостью-жилья.\" data-toc-modified-id=\"Выберете-10-населенных-пунктов-с-наибольшим-числом-объявлений.-Посчитайте-среднюю-цену-квадратного-метра-в-этих-населенных-пунктах.-Выделите-среди-них-населенные-пункты-с-самой-высокой-и-низкой-стоимостью-жилья.-4.5\"><span class=\"toc-item-num\">4.5&nbsp;&nbsp;</span>Выберете 10 населенных пунктов с наибольшим числом объявлений. Посчитайте среднюю цену квадратного метра в этих населенных пунктах. Выделите среди них населенные пункты с самой высокой и низкой стоимостью жилья.</a></span></li><li><span><a href=\"#Изучите-предложения-квартир:-для-каждой-квартиры-есть-информация-о-расстояни-до-центра.-Выделите-квартиры-в-Санкт-Петербурге.-Ваша-задача---выяснить,-какая-область-входит-в-центр.\" data-toc-modified-id=\"Изучите-предложения-квартир:-для-каждой-квартиры-есть-информация-о-расстояни-до-центра.-Выделите-квартиры-в-Санкт-Петербурге.-Ваша-задача---выяснить,-какая-область-входит-в-центр.-4.6\"><span class=\"toc-item-num\">4.6&nbsp;&nbsp;</span>Изучите предложения квартир: для каждой квартиры есть информация о расстояни до центра. Выделите квартиры в Санкт-Петербурге. Ваша задача - выяснить, какая область входит в центр.</a></span></li><li><span><a href=\"#Выделите-сегмент-квартир-в-центре.-Проанализируйте-эту-территорию-и-изучите-следующие-параметры:-площадь,-цена,-число-комнат,-высота-потолков.-Также-выделите-факторы,-которые-влияют-на-стоимость-квартиры.-Сделайте-выводы.-Отличается-ли-они-от-общих-выводов-по-всему-городу?\" data-toc-modified-id=\"Выделите-сегмент-квартир-в-центре.-Проанализируйте-эту-территорию-и-изучите-следующие-параметры:-площадь,-цена,-число-комнат,-высота-потолков.-Также-выделите-факторы,-которые-влияют-на-стоимость-квартиры.-Сделайте-выводы.-Отличается-ли-они-от-общих-выводов-по-всему-городу?-4.7\"><span class=\"toc-item-num\">4.7&nbsp;&nbsp;</span>Выделите сегмент квартир в центре. Проанализируйте эту территорию и изучите следующие параметры: площадь, цена, число комнат, высота потолков. Также выделите факторы, которые влияют на стоимость квартиры. Сделайте выводы. Отличается ли они от общих выводов по всему городу?</a></span></li></ul></li><li><span><a href=\"#Общий-вывод\" data-toc-modified-id=\"Общий-вывод-5\"><span class=\"toc-item-num\">5&nbsp;&nbsp;</span>Общий вывод</a></span></li><li><span><a href=\"#Чек-лист-готовности-проекта\" data-toc-modified-id=\"Чек-лист-готовности-проекта-6\"><span class=\"toc-item-num\">6&nbsp;&nbsp;</span>Чек-лист готовности проекта</a></span></li></ul></div>"
   ]
  },
  {
   "cell_type": "markdown",
   "metadata": {},
   "source": [
    "# Исследование объявлений о продаже квартир\n",
    "\n",
    "В вашем распоряжении данные сервиса Яндекс.Недвижимость — архив объявлений о продаже квартир в Санкт-Петербурге и соседних населённых пунктах за несколько лет. Нужно научиться определять рыночную стоимость объектов недвижимости. Ваша задача — установить параметры. Это позволит построить автоматизированную систему: она отследит аномалии и мошенническую деятельность. \n",
    "\n",
    "По каждой квартире на продажу доступны два вида данных. Первые вписаны пользователем, вторые получены автоматически на основе картографических данных. Например, расстояние до центра, аэропорта, ближайшего парка и водоёма. "
   ]
  },
  {
   "cell_type": "markdown",
   "metadata": {},
   "source": [
    "## Изучение данных из файла"
   ]
  },
  {
   "cell_type": "markdown",
   "metadata": {},
   "source": [
    "Откроем файл с данными и изучим общую информацию."
   ]
  },
  {
   "cell_type": "code",
   "execution_count": 1,
   "metadata": {},
   "outputs": [],
   "source": [
    "import pandas as pd\n",
    "import seaborn as sns\n",
    "import numpy as np\n",
    "import matplotlib.pyplot as plt"
   ]
  },
  {
   "cell_type": "markdown",
   "metadata": {},
   "source": [
    "Рассмотри рандомную выборку описательной статистики и самой информации о датасете."
   ]
  },
  {
   "cell_type": "code",
   "execution_count": 2,
   "metadata": {
    "scrolled": false
   },
   "outputs": [
    {
     "data": {
      "text/html": [
       "<div>\n",
       "<style scoped>\n",
       "    .dataframe tbody tr th:only-of-type {\n",
       "        vertical-align: middle;\n",
       "    }\n",
       "\n",
       "    .dataframe tbody tr th {\n",
       "        vertical-align: top;\n",
       "    }\n",
       "\n",
       "    .dataframe thead th {\n",
       "        text-align: right;\n",
       "    }\n",
       "</style>\n",
       "<table border=\"1\" class=\"dataframe\">\n",
       "  <thead>\n",
       "    <tr style=\"text-align: right;\">\n",
       "      <th></th>\n",
       "      <th>total_images</th>\n",
       "      <th>last_price</th>\n",
       "      <th>total_area</th>\n",
       "      <th>first_day_exposition</th>\n",
       "      <th>rooms</th>\n",
       "      <th>ceiling_height</th>\n",
       "      <th>floors_total</th>\n",
       "      <th>living_area</th>\n",
       "      <th>floor</th>\n",
       "      <th>is_apartment</th>\n",
       "      <th>...</th>\n",
       "      <th>kitchen_area</th>\n",
       "      <th>balcony</th>\n",
       "      <th>locality_name</th>\n",
       "      <th>airports_nearest</th>\n",
       "      <th>cityCenters_nearest</th>\n",
       "      <th>parks_around3000</th>\n",
       "      <th>parks_nearest</th>\n",
       "      <th>ponds_around3000</th>\n",
       "      <th>ponds_nearest</th>\n",
       "      <th>days_exposition</th>\n",
       "    </tr>\n",
       "  </thead>\n",
       "  <tbody>\n",
       "    <tr>\n",
       "      <td>22564</td>\n",
       "      <td>6</td>\n",
       "      <td>4100000.0</td>\n",
       "      <td>55.0</td>\n",
       "      <td>2016-03-15T00:00:00</td>\n",
       "      <td>2</td>\n",
       "      <td>NaN</td>\n",
       "      <td>12.0</td>\n",
       "      <td>32.0</td>\n",
       "      <td>1</td>\n",
       "      <td>NaN</td>\n",
       "      <td>...</td>\n",
       "      <td>NaN</td>\n",
       "      <td>0.0</td>\n",
       "      <td>Санкт-Петербург</td>\n",
       "      <td>15760.0</td>\n",
       "      <td>15976.0</td>\n",
       "      <td>1.0</td>\n",
       "      <td>719.0</td>\n",
       "      <td>0.0</td>\n",
       "      <td>NaN</td>\n",
       "      <td>183.0</td>\n",
       "    </tr>\n",
       "    <tr>\n",
       "      <td>16617</td>\n",
       "      <td>12</td>\n",
       "      <td>6800000.0</td>\n",
       "      <td>69.0</td>\n",
       "      <td>2018-11-08T00:00:00</td>\n",
       "      <td>2</td>\n",
       "      <td>2.9</td>\n",
       "      <td>5.0</td>\n",
       "      <td>42.0</td>\n",
       "      <td>2</td>\n",
       "      <td>NaN</td>\n",
       "      <td>...</td>\n",
       "      <td>13.0</td>\n",
       "      <td>NaN</td>\n",
       "      <td>Санкт-Петербург</td>\n",
       "      <td>31276.0</td>\n",
       "      <td>5131.0</td>\n",
       "      <td>2.0</td>\n",
       "      <td>172.0</td>\n",
       "      <td>2.0</td>\n",
       "      <td>482.0</td>\n",
       "      <td>107.0</td>\n",
       "    </tr>\n",
       "    <tr>\n",
       "      <td>11628</td>\n",
       "      <td>0</td>\n",
       "      <td>6400000.0</td>\n",
       "      <td>60.4</td>\n",
       "      <td>2016-02-19T00:00:00</td>\n",
       "      <td>2</td>\n",
       "      <td>NaN</td>\n",
       "      <td>5.0</td>\n",
       "      <td>38.6</td>\n",
       "      <td>5</td>\n",
       "      <td>NaN</td>\n",
       "      <td>...</td>\n",
       "      <td>8.0</td>\n",
       "      <td>0.0</td>\n",
       "      <td>Санкт-Петербург</td>\n",
       "      <td>38415.0</td>\n",
       "      <td>7675.0</td>\n",
       "      <td>1.0</td>\n",
       "      <td>568.0</td>\n",
       "      <td>1.0</td>\n",
       "      <td>154.0</td>\n",
       "      <td>188.0</td>\n",
       "    </tr>\n",
       "    <tr>\n",
       "      <td>1984</td>\n",
       "      <td>1</td>\n",
       "      <td>6250000.0</td>\n",
       "      <td>61.0</td>\n",
       "      <td>2016-06-17T00:00:00</td>\n",
       "      <td>3</td>\n",
       "      <td>NaN</td>\n",
       "      <td>9.0</td>\n",
       "      <td>44.0</td>\n",
       "      <td>5</td>\n",
       "      <td>NaN</td>\n",
       "      <td>...</td>\n",
       "      <td>6.3</td>\n",
       "      <td>0.0</td>\n",
       "      <td>Санкт-Петербург</td>\n",
       "      <td>48175.0</td>\n",
       "      <td>16156.0</td>\n",
       "      <td>0.0</td>\n",
       "      <td>NaN</td>\n",
       "      <td>0.0</td>\n",
       "      <td>NaN</td>\n",
       "      <td>60.0</td>\n",
       "    </tr>\n",
       "    <tr>\n",
       "      <td>18017</td>\n",
       "      <td>0</td>\n",
       "      <td>1700000.0</td>\n",
       "      <td>43.7</td>\n",
       "      <td>2017-09-04T00:00:00</td>\n",
       "      <td>2</td>\n",
       "      <td>2.6</td>\n",
       "      <td>5.0</td>\n",
       "      <td>31.1</td>\n",
       "      <td>1</td>\n",
       "      <td>NaN</td>\n",
       "      <td>...</td>\n",
       "      <td>5.3</td>\n",
       "      <td>0.0</td>\n",
       "      <td>поселок Мичуринское</td>\n",
       "      <td>NaN</td>\n",
       "      <td>NaN</td>\n",
       "      <td>NaN</td>\n",
       "      <td>NaN</td>\n",
       "      <td>NaN</td>\n",
       "      <td>NaN</td>\n",
       "      <td>45.0</td>\n",
       "    </tr>\n",
       "    <tr>\n",
       "      <td>7536</td>\n",
       "      <td>14</td>\n",
       "      <td>3300000.0</td>\n",
       "      <td>45.0</td>\n",
       "      <td>2016-06-10T00:00:00</td>\n",
       "      <td>2</td>\n",
       "      <td>NaN</td>\n",
       "      <td>5.0</td>\n",
       "      <td>30.0</td>\n",
       "      <td>4</td>\n",
       "      <td>False</td>\n",
       "      <td>...</td>\n",
       "      <td>6.0</td>\n",
       "      <td>1.0</td>\n",
       "      <td>Санкт-Петербург</td>\n",
       "      <td>11786.0</td>\n",
       "      <td>9962.0</td>\n",
       "      <td>1.0</td>\n",
       "      <td>508.0</td>\n",
       "      <td>1.0</td>\n",
       "      <td>479.0</td>\n",
       "      <td>66.0</td>\n",
       "    </tr>\n",
       "    <tr>\n",
       "      <td>12566</td>\n",
       "      <td>20</td>\n",
       "      <td>10400000.0</td>\n",
       "      <td>67.3</td>\n",
       "      <td>2019-03-10T00:00:00</td>\n",
       "      <td>2</td>\n",
       "      <td>2.8</td>\n",
       "      <td>17.0</td>\n",
       "      <td>31.6</td>\n",
       "      <td>8</td>\n",
       "      <td>NaN</td>\n",
       "      <td>...</td>\n",
       "      <td>11.1</td>\n",
       "      <td>1.0</td>\n",
       "      <td>Санкт-Петербург</td>\n",
       "      <td>30954.0</td>\n",
       "      <td>8248.0</td>\n",
       "      <td>0.0</td>\n",
       "      <td>NaN</td>\n",
       "      <td>2.0</td>\n",
       "      <td>495.0</td>\n",
       "      <td>NaN</td>\n",
       "    </tr>\n",
       "    <tr>\n",
       "      <td>23488</td>\n",
       "      <td>7</td>\n",
       "      <td>4500000.0</td>\n",
       "      <td>44.0</td>\n",
       "      <td>2018-03-03T00:00:00</td>\n",
       "      <td>1</td>\n",
       "      <td>NaN</td>\n",
       "      <td>5.0</td>\n",
       "      <td>23.0</td>\n",
       "      <td>3</td>\n",
       "      <td>NaN</td>\n",
       "      <td>...</td>\n",
       "      <td>11.0</td>\n",
       "      <td>NaN</td>\n",
       "      <td>Пушкин</td>\n",
       "      <td>20028.0</td>\n",
       "      <td>32182.0</td>\n",
       "      <td>0.0</td>\n",
       "      <td>NaN</td>\n",
       "      <td>0.0</td>\n",
       "      <td>NaN</td>\n",
       "      <td>168.0</td>\n",
       "    </tr>\n",
       "    <tr>\n",
       "      <td>8749</td>\n",
       "      <td>14</td>\n",
       "      <td>6800000.0</td>\n",
       "      <td>64.0</td>\n",
       "      <td>2016-07-10T00:00:00</td>\n",
       "      <td>3</td>\n",
       "      <td>NaN</td>\n",
       "      <td>12.0</td>\n",
       "      <td>43.0</td>\n",
       "      <td>5</td>\n",
       "      <td>False</td>\n",
       "      <td>...</td>\n",
       "      <td>8.5</td>\n",
       "      <td>2.0</td>\n",
       "      <td>Санкт-Петербург</td>\n",
       "      <td>49589.0</td>\n",
       "      <td>16502.0</td>\n",
       "      <td>1.0</td>\n",
       "      <td>412.0</td>\n",
       "      <td>0.0</td>\n",
       "      <td>NaN</td>\n",
       "      <td>313.0</td>\n",
       "    </tr>\n",
       "    <tr>\n",
       "      <td>16378</td>\n",
       "      <td>9</td>\n",
       "      <td>3550000.0</td>\n",
       "      <td>35.5</td>\n",
       "      <td>2018-02-21T00:00:00</td>\n",
       "      <td>1</td>\n",
       "      <td>2.6</td>\n",
       "      <td>10.0</td>\n",
       "      <td>16.0</td>\n",
       "      <td>1</td>\n",
       "      <td>NaN</td>\n",
       "      <td>...</td>\n",
       "      <td>8.3</td>\n",
       "      <td>NaN</td>\n",
       "      <td>Санкт-Петербург</td>\n",
       "      <td>13590.0</td>\n",
       "      <td>13902.0</td>\n",
       "      <td>1.0</td>\n",
       "      <td>367.0</td>\n",
       "      <td>1.0</td>\n",
       "      <td>460.0</td>\n",
       "      <td>45.0</td>\n",
       "    </tr>\n",
       "  </tbody>\n",
       "</table>\n",
       "<p>10 rows × 22 columns</p>\n",
       "</div>"
      ],
      "text/plain": [
       "       total_images  last_price  total_area first_day_exposition  rooms  \\\n",
       "22564             6   4100000.0        55.0  2016-03-15T00:00:00      2   \n",
       "16617            12   6800000.0        69.0  2018-11-08T00:00:00      2   \n",
       "11628             0   6400000.0        60.4  2016-02-19T00:00:00      2   \n",
       "1984              1   6250000.0        61.0  2016-06-17T00:00:00      3   \n",
       "18017             0   1700000.0        43.7  2017-09-04T00:00:00      2   \n",
       "7536             14   3300000.0        45.0  2016-06-10T00:00:00      2   \n",
       "12566            20  10400000.0        67.3  2019-03-10T00:00:00      2   \n",
       "23488             7   4500000.0        44.0  2018-03-03T00:00:00      1   \n",
       "8749             14   6800000.0        64.0  2016-07-10T00:00:00      3   \n",
       "16378             9   3550000.0        35.5  2018-02-21T00:00:00      1   \n",
       "\n",
       "       ceiling_height  floors_total  living_area  floor is_apartment  ...  \\\n",
       "22564             NaN          12.0         32.0      1          NaN  ...   \n",
       "16617             2.9           5.0         42.0      2          NaN  ...   \n",
       "11628             NaN           5.0         38.6      5          NaN  ...   \n",
       "1984              NaN           9.0         44.0      5          NaN  ...   \n",
       "18017             2.6           5.0         31.1      1          NaN  ...   \n",
       "7536              NaN           5.0         30.0      4        False  ...   \n",
       "12566             2.8          17.0         31.6      8          NaN  ...   \n",
       "23488             NaN           5.0         23.0      3          NaN  ...   \n",
       "8749              NaN          12.0         43.0      5        False  ...   \n",
       "16378             2.6          10.0         16.0      1          NaN  ...   \n",
       "\n",
       "       kitchen_area  balcony        locality_name  airports_nearest  \\\n",
       "22564           NaN      0.0      Санкт-Петербург           15760.0   \n",
       "16617          13.0      NaN      Санкт-Петербург           31276.0   \n",
       "11628           8.0      0.0      Санкт-Петербург           38415.0   \n",
       "1984            6.3      0.0      Санкт-Петербург           48175.0   \n",
       "18017           5.3      0.0  поселок Мичуринское               NaN   \n",
       "7536            6.0      1.0      Санкт-Петербург           11786.0   \n",
       "12566          11.1      1.0      Санкт-Петербург           30954.0   \n",
       "23488          11.0      NaN               Пушкин           20028.0   \n",
       "8749            8.5      2.0      Санкт-Петербург           49589.0   \n",
       "16378           8.3      NaN      Санкт-Петербург           13590.0   \n",
       "\n",
       "      cityCenters_nearest  parks_around3000  parks_nearest  ponds_around3000  \\\n",
       "22564             15976.0               1.0          719.0               0.0   \n",
       "16617              5131.0               2.0          172.0               2.0   \n",
       "11628              7675.0               1.0          568.0               1.0   \n",
       "1984              16156.0               0.0            NaN               0.0   \n",
       "18017                 NaN               NaN            NaN               NaN   \n",
       "7536               9962.0               1.0          508.0               1.0   \n",
       "12566              8248.0               0.0            NaN               2.0   \n",
       "23488             32182.0               0.0            NaN               0.0   \n",
       "8749              16502.0               1.0          412.0               0.0   \n",
       "16378             13902.0               1.0          367.0               1.0   \n",
       "\n",
       "       ponds_nearest  days_exposition  \n",
       "22564            NaN            183.0  \n",
       "16617          482.0            107.0  \n",
       "11628          154.0            188.0  \n",
       "1984             NaN             60.0  \n",
       "18017            NaN             45.0  \n",
       "7536           479.0             66.0  \n",
       "12566          495.0              NaN  \n",
       "23488            NaN            168.0  \n",
       "8749             NaN            313.0  \n",
       "16378          460.0             45.0  \n",
       "\n",
       "[10 rows x 22 columns]"
      ]
     },
     "execution_count": 2,
     "metadata": {},
     "output_type": "execute_result"
    }
   ],
   "source": [
    "df = pd.read_csv('/datasets/real_estate_data.csv', sep='\\t') \n",
    "df.sample(n=10, random_state=10)"
   ]
  },
  {
   "cell_type": "code",
   "execution_count": 3,
   "metadata": {},
   "outputs": [
    {
     "data": {
      "text/html": [
       "<div>\n",
       "<style scoped>\n",
       "    .dataframe tbody tr th:only-of-type {\n",
       "        vertical-align: middle;\n",
       "    }\n",
       "\n",
       "    .dataframe tbody tr th {\n",
       "        vertical-align: top;\n",
       "    }\n",
       "\n",
       "    .dataframe thead th {\n",
       "        text-align: right;\n",
       "    }\n",
       "</style>\n",
       "<table border=\"1\" class=\"dataframe\">\n",
       "  <thead>\n",
       "    <tr style=\"text-align: right;\">\n",
       "      <th></th>\n",
       "      <th>count</th>\n",
       "      <th>mean</th>\n",
       "      <th>std</th>\n",
       "      <th>min</th>\n",
       "      <th>25%</th>\n",
       "      <th>50%</th>\n",
       "      <th>75%</th>\n",
       "      <th>max</th>\n",
       "    </tr>\n",
       "  </thead>\n",
       "  <tbody>\n",
       "    <tr>\n",
       "      <td>total_images</td>\n",
       "      <td>23699.0</td>\n",
       "      <td>9.858475e+00</td>\n",
       "      <td>5.682529e+00</td>\n",
       "      <td>0.0</td>\n",
       "      <td>6.00</td>\n",
       "      <td>9.00</td>\n",
       "      <td>14.0</td>\n",
       "      <td>50.0</td>\n",
       "    </tr>\n",
       "    <tr>\n",
       "      <td>last_price</td>\n",
       "      <td>23699.0</td>\n",
       "      <td>6.541549e+06</td>\n",
       "      <td>1.088701e+07</td>\n",
       "      <td>12190.0</td>\n",
       "      <td>3400000.00</td>\n",
       "      <td>4650000.00</td>\n",
       "      <td>6800000.0</td>\n",
       "      <td>763000000.0</td>\n",
       "    </tr>\n",
       "    <tr>\n",
       "      <td>total_area</td>\n",
       "      <td>23699.0</td>\n",
       "      <td>6.034865e+01</td>\n",
       "      <td>3.565408e+01</td>\n",
       "      <td>12.0</td>\n",
       "      <td>40.00</td>\n",
       "      <td>52.00</td>\n",
       "      <td>69.9</td>\n",
       "      <td>900.0</td>\n",
       "    </tr>\n",
       "    <tr>\n",
       "      <td>rooms</td>\n",
       "      <td>23699.0</td>\n",
       "      <td>2.070636e+00</td>\n",
       "      <td>1.078405e+00</td>\n",
       "      <td>0.0</td>\n",
       "      <td>1.00</td>\n",
       "      <td>2.00</td>\n",
       "      <td>3.0</td>\n",
       "      <td>19.0</td>\n",
       "    </tr>\n",
       "    <tr>\n",
       "      <td>ceiling_height</td>\n",
       "      <td>14504.0</td>\n",
       "      <td>2.771499e+00</td>\n",
       "      <td>1.261056e+00</td>\n",
       "      <td>1.0</td>\n",
       "      <td>2.52</td>\n",
       "      <td>2.65</td>\n",
       "      <td>2.8</td>\n",
       "      <td>100.0</td>\n",
       "    </tr>\n",
       "    <tr>\n",
       "      <td>floors_total</td>\n",
       "      <td>23613.0</td>\n",
       "      <td>1.067382e+01</td>\n",
       "      <td>6.597173e+00</td>\n",
       "      <td>1.0</td>\n",
       "      <td>5.00</td>\n",
       "      <td>9.00</td>\n",
       "      <td>16.0</td>\n",
       "      <td>60.0</td>\n",
       "    </tr>\n",
       "    <tr>\n",
       "      <td>living_area</td>\n",
       "      <td>21796.0</td>\n",
       "      <td>3.445785e+01</td>\n",
       "      <td>2.203045e+01</td>\n",
       "      <td>2.0</td>\n",
       "      <td>18.60</td>\n",
       "      <td>30.00</td>\n",
       "      <td>42.3</td>\n",
       "      <td>409.7</td>\n",
       "    </tr>\n",
       "    <tr>\n",
       "      <td>floor</td>\n",
       "      <td>23699.0</td>\n",
       "      <td>5.892358e+00</td>\n",
       "      <td>4.885249e+00</td>\n",
       "      <td>1.0</td>\n",
       "      <td>2.00</td>\n",
       "      <td>4.00</td>\n",
       "      <td>8.0</td>\n",
       "      <td>33.0</td>\n",
       "    </tr>\n",
       "    <tr>\n",
       "      <td>kitchen_area</td>\n",
       "      <td>21421.0</td>\n",
       "      <td>1.056981e+01</td>\n",
       "      <td>5.905438e+00</td>\n",
       "      <td>1.3</td>\n",
       "      <td>7.00</td>\n",
       "      <td>9.10</td>\n",
       "      <td>12.0</td>\n",
       "      <td>112.0</td>\n",
       "    </tr>\n",
       "    <tr>\n",
       "      <td>balcony</td>\n",
       "      <td>12180.0</td>\n",
       "      <td>1.150082e+00</td>\n",
       "      <td>1.071300e+00</td>\n",
       "      <td>0.0</td>\n",
       "      <td>0.00</td>\n",
       "      <td>1.00</td>\n",
       "      <td>2.0</td>\n",
       "      <td>5.0</td>\n",
       "    </tr>\n",
       "    <tr>\n",
       "      <td>airports_nearest</td>\n",
       "      <td>18157.0</td>\n",
       "      <td>2.879367e+04</td>\n",
       "      <td>1.263088e+04</td>\n",
       "      <td>0.0</td>\n",
       "      <td>18585.00</td>\n",
       "      <td>26726.00</td>\n",
       "      <td>37273.0</td>\n",
       "      <td>84869.0</td>\n",
       "    </tr>\n",
       "    <tr>\n",
       "      <td>cityCenters_nearest</td>\n",
       "      <td>18180.0</td>\n",
       "      <td>1.419128e+04</td>\n",
       "      <td>8.608386e+03</td>\n",
       "      <td>181.0</td>\n",
       "      <td>9238.00</td>\n",
       "      <td>13098.50</td>\n",
       "      <td>16293.0</td>\n",
       "      <td>65968.0</td>\n",
       "    </tr>\n",
       "    <tr>\n",
       "      <td>parks_around3000</td>\n",
       "      <td>18181.0</td>\n",
       "      <td>6.114075e-01</td>\n",
       "      <td>8.020736e-01</td>\n",
       "      <td>0.0</td>\n",
       "      <td>0.00</td>\n",
       "      <td>0.00</td>\n",
       "      <td>1.0</td>\n",
       "      <td>3.0</td>\n",
       "    </tr>\n",
       "    <tr>\n",
       "      <td>parks_nearest</td>\n",
       "      <td>8079.0</td>\n",
       "      <td>4.908046e+02</td>\n",
       "      <td>3.423180e+02</td>\n",
       "      <td>1.0</td>\n",
       "      <td>288.00</td>\n",
       "      <td>455.00</td>\n",
       "      <td>612.0</td>\n",
       "      <td>3190.0</td>\n",
       "    </tr>\n",
       "    <tr>\n",
       "      <td>ponds_around3000</td>\n",
       "      <td>18181.0</td>\n",
       "      <td>7.702547e-01</td>\n",
       "      <td>9.383456e-01</td>\n",
       "      <td>0.0</td>\n",
       "      <td>0.00</td>\n",
       "      <td>1.00</td>\n",
       "      <td>1.0</td>\n",
       "      <td>3.0</td>\n",
       "    </tr>\n",
       "    <tr>\n",
       "      <td>ponds_nearest</td>\n",
       "      <td>9110.0</td>\n",
       "      <td>5.179809e+02</td>\n",
       "      <td>2.777206e+02</td>\n",
       "      <td>13.0</td>\n",
       "      <td>294.00</td>\n",
       "      <td>502.00</td>\n",
       "      <td>729.0</td>\n",
       "      <td>1344.0</td>\n",
       "    </tr>\n",
       "    <tr>\n",
       "      <td>days_exposition</td>\n",
       "      <td>20518.0</td>\n",
       "      <td>1.808886e+02</td>\n",
       "      <td>2.197280e+02</td>\n",
       "      <td>1.0</td>\n",
       "      <td>45.00</td>\n",
       "      <td>95.00</td>\n",
       "      <td>232.0</td>\n",
       "      <td>1580.0</td>\n",
       "    </tr>\n",
       "  </tbody>\n",
       "</table>\n",
       "</div>"
      ],
      "text/plain": [
       "                       count          mean           std      min         25%  \\\n",
       "total_images         23699.0  9.858475e+00  5.682529e+00      0.0        6.00   \n",
       "last_price           23699.0  6.541549e+06  1.088701e+07  12190.0  3400000.00   \n",
       "total_area           23699.0  6.034865e+01  3.565408e+01     12.0       40.00   \n",
       "rooms                23699.0  2.070636e+00  1.078405e+00      0.0        1.00   \n",
       "ceiling_height       14504.0  2.771499e+00  1.261056e+00      1.0        2.52   \n",
       "floors_total         23613.0  1.067382e+01  6.597173e+00      1.0        5.00   \n",
       "living_area          21796.0  3.445785e+01  2.203045e+01      2.0       18.60   \n",
       "floor                23699.0  5.892358e+00  4.885249e+00      1.0        2.00   \n",
       "kitchen_area         21421.0  1.056981e+01  5.905438e+00      1.3        7.00   \n",
       "balcony              12180.0  1.150082e+00  1.071300e+00      0.0        0.00   \n",
       "airports_nearest     18157.0  2.879367e+04  1.263088e+04      0.0    18585.00   \n",
       "cityCenters_nearest  18180.0  1.419128e+04  8.608386e+03    181.0     9238.00   \n",
       "parks_around3000     18181.0  6.114075e-01  8.020736e-01      0.0        0.00   \n",
       "parks_nearest         8079.0  4.908046e+02  3.423180e+02      1.0      288.00   \n",
       "ponds_around3000     18181.0  7.702547e-01  9.383456e-01      0.0        0.00   \n",
       "ponds_nearest         9110.0  5.179809e+02  2.777206e+02     13.0      294.00   \n",
       "days_exposition      20518.0  1.808886e+02  2.197280e+02      1.0       45.00   \n",
       "\n",
       "                            50%        75%          max  \n",
       "total_images               9.00       14.0         50.0  \n",
       "last_price           4650000.00  6800000.0  763000000.0  \n",
       "total_area                52.00       69.9        900.0  \n",
       "rooms                      2.00        3.0         19.0  \n",
       "ceiling_height             2.65        2.8        100.0  \n",
       "floors_total               9.00       16.0         60.0  \n",
       "living_area               30.00       42.3        409.7  \n",
       "floor                      4.00        8.0         33.0  \n",
       "kitchen_area               9.10       12.0        112.0  \n",
       "balcony                    1.00        2.0          5.0  \n",
       "airports_nearest       26726.00    37273.0      84869.0  \n",
       "cityCenters_nearest    13098.50    16293.0      65968.0  \n",
       "parks_around3000           0.00        1.0          3.0  \n",
       "parks_nearest            455.00      612.0       3190.0  \n",
       "ponds_around3000           1.00        1.0          3.0  \n",
       "ponds_nearest            502.00      729.0       1344.0  \n",
       "days_exposition           95.00      232.0       1580.0  "
      ]
     },
     "execution_count": 3,
     "metadata": {},
     "output_type": "execute_result"
    }
   ],
   "source": [
    "df.describe().T"
   ]
  },
  {
   "cell_type": "code",
   "execution_count": 4,
   "metadata": {},
   "outputs": [
    {
     "name": "stdout",
     "output_type": "stream",
     "text": [
      "<class 'pandas.core.frame.DataFrame'>\n",
      "RangeIndex: 23699 entries, 0 to 23698\n",
      "Data columns (total 22 columns):\n",
      "total_images            23699 non-null int64\n",
      "last_price              23699 non-null float64\n",
      "total_area              23699 non-null float64\n",
      "first_day_exposition    23699 non-null object\n",
      "rooms                   23699 non-null int64\n",
      "ceiling_height          14504 non-null float64\n",
      "floors_total            23613 non-null float64\n",
      "living_area             21796 non-null float64\n",
      "floor                   23699 non-null int64\n",
      "is_apartment            2775 non-null object\n",
      "studio                  23699 non-null bool\n",
      "open_plan               23699 non-null bool\n",
      "kitchen_area            21421 non-null float64\n",
      "balcony                 12180 non-null float64\n",
      "locality_name           23650 non-null object\n",
      "airports_nearest        18157 non-null float64\n",
      "cityCenters_nearest     18180 non-null float64\n",
      "parks_around3000        18181 non-null float64\n",
      "parks_nearest           8079 non-null float64\n",
      "ponds_around3000        18181 non-null float64\n",
      "ponds_nearest           9110 non-null float64\n",
      "days_exposition         20518 non-null float64\n",
      "dtypes: bool(2), float64(14), int64(3), object(3)\n",
      "memory usage: 3.7+ MB\n"
     ]
    }
   ],
   "source": [
    "df.info()"
   ]
  },
  {
   "cell_type": "markdown",
   "metadata": {},
   "source": [
    "### Вывод"
   ]
  },
  {
   "cell_type": "markdown",
   "metadata": {},
   "source": [
    "Для достижения поставленной задачи необходимо решить вопросы по следующим пунктам :\n",
    "\n",
    "1. Отсутствуют значения в огромных количествах\n",
    "2. Некачественные названия столбцов\n",
    "3. Некорректные типы данных\n",
    "4. Нелогичная группировка столбцов между собой\n",
    "5. Прыгающий регистр в названии столбцов"
   ]
  },
  {
   "cell_type": "markdown",
   "metadata": {},
   "source": [
    "## Предобработка данных"
   ]
  },
  {
   "cell_type": "markdown",
   "metadata": {},
   "source": [
    "Рассмотрит наименования столбцов"
   ]
  },
  {
   "cell_type": "code",
   "execution_count": 5,
   "metadata": {},
   "outputs": [
    {
     "data": {
      "text/plain": [
       "['total_images',\n",
       " 'last_price',\n",
       " 'total_area',\n",
       " 'first_day_exposition',\n",
       " 'rooms',\n",
       " 'ceiling_height',\n",
       " 'floors_total',\n",
       " 'living_area',\n",
       " 'floor',\n",
       " 'is_apartment',\n",
       " 'studio',\n",
       " 'open_plan',\n",
       " 'kitchen_area',\n",
       " 'balcony',\n",
       " 'locality_name',\n",
       " 'airports_nearest',\n",
       " 'cityCenters_nearest',\n",
       " 'parks_around3000',\n",
       " 'parks_nearest',\n",
       " 'ponds_around3000',\n",
       " 'ponds_nearest',\n",
       " 'days_exposition']"
      ]
     },
     "execution_count": 5,
     "metadata": {},
     "output_type": "execute_result"
    }
   ],
   "source": [
    "df.columns.tolist()"
   ]
  },
  {
   "cell_type": "markdown",
   "metadata": {},
   "source": [
    "Изменим последовательность столбцов для более удобной работы"
   ]
  },
  {
   "cell_type": "code",
   "execution_count": 6,
   "metadata": {},
   "outputs": [],
   "source": [
    "df = df[[\n",
    " 'locality_name',  \n",
    " 'total_area',\n",
    " 'living_area',\n",
    " 'kitchen_area',\n",
    " 'ceiling_height',\n",
    " 'rooms',\n",
    " 'balcony',\n",
    " 'floor',\n",
    " 'floors_total',\n",
    " 'is_apartment',\n",
    " 'studio',\n",
    " 'open_plan',  \n",
    " 'total_images',\n",
    " 'last_price',\n",
    " 'first_day_exposition',\n",
    " 'days_exposition',\n",
    " 'cityCenters_nearest',\n",
    " 'airports_nearest',\n",
    " 'parks_around3000',\n",
    " 'parks_nearest',\n",
    " 'ponds_around3000',\n",
    " 'ponds_nearest'\n",
    "]]"
   ]
  },
  {
   "cell_type": "markdown",
   "metadata": {},
   "source": [
    "Проверим произошла ли замена последовательности"
   ]
  },
  {
   "cell_type": "code",
   "execution_count": 7,
   "metadata": {},
   "outputs": [
    {
     "data": {
      "text/plain": [
       "['locality_name',\n",
       " 'total_area',\n",
       " 'living_area',\n",
       " 'kitchen_area',\n",
       " 'ceiling_height',\n",
       " 'rooms',\n",
       " 'balcony',\n",
       " 'floor',\n",
       " 'floors_total',\n",
       " 'is_apartment',\n",
       " 'studio',\n",
       " 'open_plan',\n",
       " 'total_images',\n",
       " 'last_price',\n",
       " 'first_day_exposition',\n",
       " 'days_exposition',\n",
       " 'cityCenters_nearest',\n",
       " 'airports_nearest',\n",
       " 'parks_around3000',\n",
       " 'parks_nearest',\n",
       " 'ponds_around3000',\n",
       " 'ponds_nearest']"
      ]
     },
     "execution_count": 7,
     "metadata": {},
     "output_type": "execute_result"
    }
   ],
   "source": [
    "df.columns.tolist()"
   ]
  },
  {
   "cell_type": "markdown",
   "metadata": {},
   "source": [
    "Проверим на наличие дубликатов"
   ]
  },
  {
   "cell_type": "code",
   "execution_count": 8,
   "metadata": {},
   "outputs": [
    {
     "data": {
      "text/plain": [
       "0"
      ]
     },
     "execution_count": 8,
     "metadata": {},
     "output_type": "execute_result"
    }
   ],
   "source": [
    "df.duplicated().sum()"
   ]
  },
  {
   "cell_type": "markdown",
   "metadata": {},
   "source": [
    "Дублированных значений не имеется, но возможно они и есть, если отличается время, а остальное нет"
   ]
  },
  {
   "cell_type": "markdown",
   "metadata": {},
   "source": [
    "Воспользуемся методом isnull() и опеределим количество пропущенных значений по каждому столбцу."
   ]
  },
  {
   "cell_type": "code",
   "execution_count": 9,
   "metadata": {},
   "outputs": [
    {
     "data": {
      "text/plain": [
       "studio                      0\n",
       "total_area                  0\n",
       "first_day_exposition        0\n",
       "last_price                  0\n",
       "total_images                0\n",
       "rooms                       0\n",
       "open_plan                   0\n",
       "floor                       0\n",
       "locality_name              49\n",
       "floors_total               86\n",
       "living_area              1903\n",
       "kitchen_area             2278\n",
       "days_exposition          3181\n",
       "ponds_around3000         5518\n",
       "parks_around3000         5518\n",
       "cityCenters_nearest      5519\n",
       "airports_nearest         5542\n",
       "ceiling_height           9195\n",
       "balcony                 11519\n",
       "ponds_nearest           14589\n",
       "parks_nearest           15620\n",
       "is_apartment            20924\n",
       "dtype: int64"
      ]
     },
     "execution_count": 9,
     "metadata": {},
     "output_type": "execute_result"
    }
   ],
   "source": [
    "df.isnull().sum().sort_values()"
   ]
  },
  {
   "cell_type": "markdown",
   "metadata": {},
   "source": [
    "Определим количество пропущенных значений в процентах"
   ]
  },
  {
   "cell_type": "code",
   "execution_count": 10,
   "metadata": {},
   "outputs": [
    {
     "data": {
      "text/plain": [
       "studio                   0.000000\n",
       "total_area               0.000000\n",
       "first_day_exposition     0.000000\n",
       "last_price               0.000000\n",
       "total_images             0.000000\n",
       "rooms                    0.000000\n",
       "open_plan                0.000000\n",
       "floor                    0.000000\n",
       "locality_name            0.206760\n",
       "floors_total             0.362885\n",
       "living_area              8.029875\n",
       "kitchen_area             9.612220\n",
       "days_exposition         13.422507\n",
       "ponds_around3000        23.283683\n",
       "parks_around3000        23.283683\n",
       "cityCenters_nearest     23.287902\n",
       "airports_nearest        23.384953\n",
       "ceiling_height          38.799105\n",
       "balcony                 48.605426\n",
       "ponds_nearest           61.559559\n",
       "parks_nearest           65.909954\n",
       "is_apartment            88.290645\n",
       "dtype: float64"
      ]
     },
     "execution_count": 10,
     "metadata": {},
     "output_type": "execute_result"
    }
   ],
   "source": [
    "df.isnull().sum().sort_values()/df.shape[0]*100"
   ]
  },
  {
   "cell_type": "markdown",
   "metadata": {},
   "source": [
    "# Промежуточный вывод\n",
    "С каким данными предлолагется работа по 2 разделу \"Предобработка данных\":\n",
    "\n",
    "1. Название населенного пункта: пропущено 0,2% значений.\n",
    "2. Апартаменты: прошуно 88,2%.\n",
    "3. Число балконов: пропущено 48,6% значений. Предполагается, что отсутствие числа балконов свидетельствует о том, что число балконов равно нулю.\n",
    "4. Высота потолков: было пропущено 38,8% значений. \n",
    "5. Число этажей в доме: пропущено 0,4% значений."
   ]
  },
  {
   "cell_type": "markdown",
   "metadata": {},
   "source": [
    "Рассмотрим более продробней столбец locality_name (название населенного пункта). \n",
    "Сколько всего городов в наших данных упоминается?"
   ]
  },
  {
   "cell_type": "code",
   "execution_count": 11,
   "metadata": {},
   "outputs": [
    {
     "data": {
      "text/plain": [
       "365"
      ]
     },
     "execution_count": 11,
     "metadata": {},
     "output_type": "execute_result"
    }
   ],
   "source": [
    "len(df['locality_name'].unique())"
   ]
  },
  {
   "cell_type": "markdown",
   "metadata": {},
   "source": [
    "Значит 365 городов. Посмотрим на них."
   ]
  },
  {
   "cell_type": "code",
   "execution_count": 12,
   "metadata": {},
   "outputs": [
    {
     "data": {
      "text/plain": [
       "['Санкт-Петербург',\n",
       " 'посёлок Шушары',\n",
       " 'городской посёлок Янино-1',\n",
       " 'посёлок Парголово',\n",
       " 'посёлок Мурино',\n",
       " 'Ломоносов',\n",
       " 'Сертолово',\n",
       " 'Петергоф',\n",
       " 'Пушкин',\n",
       " 'деревня Кудрово',\n",
       " 'Коммунар',\n",
       " 'Колпино',\n",
       " 'поселок городского типа Красный Бор',\n",
       " 'Гатчина',\n",
       " 'поселок Мурино',\n",
       " 'деревня Фёдоровское',\n",
       " 'Выборг',\n",
       " 'Кронштадт',\n",
       " 'Кировск',\n",
       " 'деревня Новое Девяткино',\n",
       " 'посёлок Металлострой',\n",
       " 'посёлок городского типа Лебяжье',\n",
       " 'посёлок городского типа Сиверский',\n",
       " 'поселок Молодцово',\n",
       " 'поселок городского типа Кузьмоловский',\n",
       " 'садовое товарищество Новая Ропша',\n",
       " 'Павловск',\n",
       " 'деревня Пикколово',\n",
       " 'Всеволожск',\n",
       " 'Волхов',\n",
       " 'Кингисепп',\n",
       " 'Приозерск',\n",
       " 'Сестрорецк',\n",
       " 'деревня Куттузи',\n",
       " 'посёлок Аннино',\n",
       " 'поселок городского типа Ефимовский',\n",
       " 'посёлок Плодовое',\n",
       " 'деревня Заклинье',\n",
       " 'поселок Торковичи',\n",
       " 'поселок Первомайское',\n",
       " 'Красное Село',\n",
       " 'посёлок Понтонный',\n",
       " 'Сясьстрой',\n",
       " 'деревня Старая',\n",
       " 'деревня Лесколово',\n",
       " 'посёлок Новый Свет',\n",
       " 'Сланцы',\n",
       " 'село Путилово',\n",
       " 'Ивангород',\n",
       " 'Мурино',\n",
       " 'Шлиссельбург',\n",
       " 'Никольское',\n",
       " 'Зеленогорск',\n",
       " 'Сосновый Бор',\n",
       " 'поселок Новый Свет',\n",
       " 'деревня Оржицы',\n",
       " 'деревня Кальтино',\n",
       " 'Кудрово',\n",
       " 'поселок Романовка',\n",
       " 'посёлок Бугры',\n",
       " 'поселок Бугры',\n",
       " 'поселок городского типа Рощино',\n",
       " 'Кириши',\n",
       " 'Луга',\n",
       " 'Волосово',\n",
       " 'Отрадное',\n",
       " 'село Павлово',\n",
       " 'поселок Оредеж',\n",
       " 'село Копорье',\n",
       " 'посёлок городского типа Красный Бор',\n",
       " 'посёлок Молодёжное',\n",
       " 'Тихвин',\n",
       " 'посёлок Победа',\n",
       " 'деревня Нурма',\n",
       " 'поселок городского типа Синявино',\n",
       " 'Тосно',\n",
       " 'посёлок городского типа Кузьмоловский',\n",
       " 'посёлок Стрельна',\n",
       " 'Бокситогорск',\n",
       " 'посёлок Александровская',\n",
       " 'деревня Лопухинка',\n",
       " 'Пикалёво',\n",
       " 'поселок Терволово',\n",
       " 'поселок городского типа Советский',\n",
       " 'Подпорожье',\n",
       " 'посёлок Петровское',\n",
       " 'посёлок городского типа Токсово',\n",
       " 'поселок Сельцо',\n",
       " 'посёлок городского типа Вырица',\n",
       " 'деревня Кипень',\n",
       " 'деревня Келози',\n",
       " 'деревня Вартемяги',\n",
       " 'посёлок Тельмана',\n",
       " 'поселок Севастьяново',\n",
       " 'городской поселок Большая Ижора',\n",
       " nan,\n",
       " 'городской посёлок Павлово',\n",
       " 'деревня Агалатово',\n",
       " 'посёлок Новогорелово',\n",
       " 'городской посёлок Лесогорский',\n",
       " 'деревня Лаголово',\n",
       " 'поселок Цвелодубово',\n",
       " 'поселок городского типа Рахья',\n",
       " 'поселок городского типа Вырица',\n",
       " 'деревня Белогорка',\n",
       " 'поселок Заводской',\n",
       " 'городской посёлок Новоселье',\n",
       " 'деревня Большие Колпаны',\n",
       " 'деревня Горбунки',\n",
       " 'деревня Батово',\n",
       " 'деревня Заневка',\n",
       " 'деревня Иссад',\n",
       " 'Приморск',\n",
       " 'городской посёлок Фёдоровское',\n",
       " 'деревня Мистолово',\n",
       " 'Новая Ладога',\n",
       " 'поселок Зимитицы',\n",
       " 'поселок Барышево',\n",
       " 'деревня Разметелево',\n",
       " 'поселок городского типа имени Свердлова',\n",
       " 'деревня Пеники',\n",
       " 'поселок Рябово',\n",
       " 'деревня Пудомяги',\n",
       " 'поселок станции Корнево',\n",
       " 'деревня Низино',\n",
       " 'деревня Бегуницы',\n",
       " 'посёлок Поляны',\n",
       " 'городской посёлок Мга',\n",
       " 'поселок Елизаветино',\n",
       " 'посёлок городского типа Кузнечное',\n",
       " 'деревня Колтуши',\n",
       " 'поселок Запорожское',\n",
       " 'посёлок городского типа Рощино',\n",
       " 'деревня Гостилицы',\n",
       " 'деревня Малое Карлино',\n",
       " 'посёлок Мичуринское',\n",
       " 'посёлок городского типа имени Морозова',\n",
       " 'посёлок Песочный',\n",
       " 'посёлок Сосново',\n",
       " 'деревня Аро',\n",
       " 'поселок Ильичёво',\n",
       " 'посёлок городского типа Тайцы',\n",
       " 'деревня Малое Верево',\n",
       " 'деревня Извара',\n",
       " 'поселок станции Вещево',\n",
       " 'село Паша',\n",
       " 'деревня Калитино',\n",
       " 'посёлок городского типа Ульяновка',\n",
       " 'деревня Чудской Бор',\n",
       " 'поселок городского типа Дубровка',\n",
       " 'деревня Мины',\n",
       " 'поселок Войсковицы',\n",
       " 'посёлок городского типа имени Свердлова',\n",
       " 'деревня Коркино',\n",
       " 'посёлок Ропша',\n",
       " 'поселок городского типа Приладожский',\n",
       " 'посёлок Щеглово',\n",
       " 'посёлок Гаврилово',\n",
       " 'Лодейное Поле',\n",
       " 'деревня Рабитицы',\n",
       " 'поселок городского типа Никольский',\n",
       " 'деревня Кузьмолово',\n",
       " 'деревня Малые Колпаны',\n",
       " 'поселок Тельмана',\n",
       " 'посёлок Петро-Славянка',\n",
       " 'городской посёлок Назия',\n",
       " 'посёлок Репино',\n",
       " 'посёлок Ильичёво',\n",
       " 'поселок Углово',\n",
       " 'поселок Старая Малукса',\n",
       " 'садовое товарищество Рахья',\n",
       " 'поселок Аннино',\n",
       " 'поселок Победа',\n",
       " 'деревня Меньково',\n",
       " 'деревня Старые Бегуницы',\n",
       " 'посёлок Сапёрный',\n",
       " 'поселок Семрино',\n",
       " 'поселок Гаврилово',\n",
       " 'поселок Глажево',\n",
       " 'поселок Кобринское',\n",
       " 'деревня Гарболово',\n",
       " 'деревня Юкки',\n",
       " 'поселок станции Приветнинское',\n",
       " 'деревня Мануйлово',\n",
       " 'деревня Пчева',\n",
       " 'поселок Поляны',\n",
       " 'поселок Цвылёво',\n",
       " 'поселок Мельниково',\n",
       " 'посёлок Пудость',\n",
       " 'посёлок Усть-Луга',\n",
       " 'Светогорск',\n",
       " 'Любань',\n",
       " 'поселок Селезнёво',\n",
       " 'поселок городского типа Рябово',\n",
       " 'Каменногорск',\n",
       " 'деревня Кривко',\n",
       " 'поселок Глебычево',\n",
       " 'деревня Парицы',\n",
       " 'поселок Жилпосёлок',\n",
       " 'посёлок городского типа Мга',\n",
       " 'городской поселок Янино-1',\n",
       " 'посёлок Войскорово',\n",
       " 'село Никольское',\n",
       " 'посёлок Терволово',\n",
       " 'поселок Стеклянный',\n",
       " 'посёлок городского типа Важины',\n",
       " 'посёлок Мыза-Ивановка',\n",
       " 'село Русско-Высоцкое',\n",
       " 'поселок городского типа Лебяжье',\n",
       " 'поселок городского типа Форносово',\n",
       " 'село Старая Ладога',\n",
       " 'поселок Житково',\n",
       " 'городской посёлок Виллози',\n",
       " 'деревня Лампово',\n",
       " 'деревня Шпаньково',\n",
       " 'деревня Лаврики',\n",
       " 'посёлок Сумино',\n",
       " 'посёлок Возрождение',\n",
       " 'деревня Старосиверская',\n",
       " 'посёлок Кикерино',\n",
       " 'поселок Возрождение',\n",
       " 'деревня Старое Хинколово',\n",
       " 'посёлок Пригородный',\n",
       " 'посёлок Торфяное',\n",
       " 'городской посёлок Будогощь',\n",
       " 'поселок Суходолье',\n",
       " 'поселок Красная Долина',\n",
       " 'деревня Хапо-Ое',\n",
       " 'поселок городского типа Дружная Горка',\n",
       " 'поселок Лисий Нос',\n",
       " 'деревня Яльгелево',\n",
       " 'посёлок Стеклянный',\n",
       " 'село Рождествено',\n",
       " 'деревня Старополье',\n",
       " 'посёлок Левашово',\n",
       " 'деревня Сяськелево',\n",
       " 'деревня Камышовка',\n",
       " 'садоводческое некоммерческое товарищество Лесная Поляна',\n",
       " 'деревня Хязельки',\n",
       " 'поселок Жилгородок',\n",
       " 'посёлок городского типа Павлово',\n",
       " 'деревня Ялгино',\n",
       " 'поселок Новый Учхоз',\n",
       " 'городской посёлок Рощино',\n",
       " 'поселок Гончарово',\n",
       " 'поселок Почап',\n",
       " 'посёлок Сапёрное',\n",
       " 'посёлок Платформа 69-й километр',\n",
       " 'поселок Каложицы',\n",
       " 'деревня Фалилеево',\n",
       " 'деревня Пельгора',\n",
       " 'поселок городского типа Лесогорский',\n",
       " 'деревня Торошковичи',\n",
       " 'посёлок Белоостров',\n",
       " 'посёлок Алексеевка',\n",
       " 'поселок Серебрянский',\n",
       " 'поселок Лукаши',\n",
       " 'поселок Петровское',\n",
       " 'деревня Щеглово',\n",
       " 'поселок Мичуринское',\n",
       " 'деревня Тарасово',\n",
       " 'поселок Кингисеппский',\n",
       " 'посёлок при железнодорожной станции Вещево',\n",
       " 'поселок Ушаки',\n",
       " 'деревня Котлы',\n",
       " 'деревня Сижно',\n",
       " 'деревня Торосово',\n",
       " 'посёлок Форт Красная Горка',\n",
       " 'поселок городского типа Токсово',\n",
       " 'деревня Новолисино',\n",
       " 'посёлок станции Громово',\n",
       " 'деревня Глинка',\n",
       " 'посёлок Мельниково',\n",
       " 'поселок городского типа Назия',\n",
       " 'деревня Старая Пустошь',\n",
       " 'поселок Коммунары',\n",
       " 'поселок Починок',\n",
       " 'посёлок городского типа Вознесенье',\n",
       " 'деревня Разбегаево',\n",
       " 'посёлок городского типа Рябово',\n",
       " 'поселок Гладкое',\n",
       " 'посёлок при железнодорожной станции Приветнинское',\n",
       " 'поселок Тёсово-4',\n",
       " 'посёлок Жилгородок',\n",
       " 'деревня Бор',\n",
       " 'посёлок Коробицыно',\n",
       " 'деревня Большая Вруда',\n",
       " 'деревня Курковицы',\n",
       " 'посёлок Лисий Нос',\n",
       " 'городской посёлок Советский',\n",
       " 'посёлок Кобралово',\n",
       " 'деревня Суоранда',\n",
       " 'поселок Кобралово',\n",
       " 'поселок городского типа Кондратьево',\n",
       " 'коттеджный поселок Счастье',\n",
       " 'поселок Любань',\n",
       " 'деревня Реброво',\n",
       " 'деревня Зимитицы',\n",
       " 'деревня Тойворово',\n",
       " 'поселок Семиозерье',\n",
       " 'поселок Лесное',\n",
       " 'поселок Совхозный',\n",
       " 'поселок Усть-Луга',\n",
       " 'посёлок Ленинское',\n",
       " 'посёлок Суйда',\n",
       " 'посёлок городского типа Форносово',\n",
       " 'деревня Нижние Осельки',\n",
       " 'посёлок станции Свирь',\n",
       " 'поселок Перово',\n",
       " 'Высоцк',\n",
       " 'поселок Гарболово',\n",
       " 'село Шум',\n",
       " 'поселок Котельский',\n",
       " 'поселок станции Лужайка',\n",
       " 'деревня Большая Пустомержа',\n",
       " 'поселок Красносельское',\n",
       " 'деревня Вахнова Кара',\n",
       " 'деревня Пижма',\n",
       " 'коттеджный поселок Кивеннапа Север',\n",
       " 'поселок Коробицыно',\n",
       " 'поселок Ромашки',\n",
       " 'посёлок Перово',\n",
       " 'деревня Каськово',\n",
       " 'деревня Куровицы',\n",
       " 'посёлок Плоское',\n",
       " 'поселок Сумино',\n",
       " 'поселок городского типа Большая Ижора',\n",
       " 'поселок Кирпичное',\n",
       " 'деревня Ям-Тесово',\n",
       " 'деревня Раздолье',\n",
       " 'деревня Терпилицы',\n",
       " 'посёлок Шугозеро',\n",
       " 'деревня Ваганово',\n",
       " 'поселок Пушное',\n",
       " 'садовое товарищество Садко',\n",
       " 'посёлок Усть-Ижора',\n",
       " 'деревня Выскатка',\n",
       " 'городской посёлок Свирьстрой',\n",
       " 'поселок Громово',\n",
       " 'деревня Кисельня',\n",
       " 'посёлок Старая Малукса',\n",
       " 'деревня Трубников Бор',\n",
       " 'поселок Калитино',\n",
       " 'посёлок Высокоключевой',\n",
       " 'садовое товарищество Приладожский',\n",
       " 'посёлок Пансионат Зелёный Бор',\n",
       " 'деревня Ненимяки',\n",
       " 'поселок Пансионат Зелёный Бор',\n",
       " 'деревня Снегирёвка',\n",
       " 'деревня Рапполово',\n",
       " 'деревня Пустынка',\n",
       " 'поселок Рабитицы',\n",
       " 'деревня Большой Сабск',\n",
       " 'деревня Русско',\n",
       " 'деревня Лупполово',\n",
       " 'деревня Большое Рейзино',\n",
       " 'деревня Малая Романовка',\n",
       " 'поселок Дружноселье',\n",
       " 'поселок Пчевжа',\n",
       " 'поселок Володарское',\n",
       " 'деревня Нижняя',\n",
       " 'коттеджный посёлок Лесное',\n",
       " 'деревня Тихковицы',\n",
       " 'деревня Борисова Грива',\n",
       " 'посёлок Дзержинского']"
      ]
     },
     "execution_count": 12,
     "metadata": {},
     "output_type": "execute_result"
    }
   ],
   "source": [
    "df['locality_name'].unique().tolist()"
   ]
  },
  {
   "cell_type": "markdown",
   "metadata": {},
   "source": [
    "Можем заменить дублирующие названия населенных пунктов. Наприме: посёлок Бугры, поселок Бугры. \n",
    "Произведем замену буквы Ё на Е. В роли проверки повторм подсчет наших городов."
   ]
  },
  {
   "cell_type": "code",
   "execution_count": 13,
   "metadata": {},
   "outputs": [
    {
     "data": {
      "text/plain": [
       "331"
      ]
     },
     "execution_count": 13,
     "metadata": {},
     "output_type": "execute_result"
    }
   ],
   "source": [
    "df['locality_name'] = df['locality_name'].str.replace('ё', 'е', regex=True)\n",
    "len(df['locality_name'].unique())"
   ]
  },
  {
   "cell_type": "markdown",
   "metadata": {},
   "source": [
    "Можем отметить, что количество городов уменишилось с 365 до 331, что составляет 34 повторяющихся значений.\n",
    "\n",
    "Мы знаем, что в данном столбце locality_name (название населенного пункта) 49 пропущенных значений. Предлагаю удалить данные строки, так как они будут мешать в дальнейшем анализе. В то же время данные объявления не пригодны, так как нельзя узнать в каком городе находиться квартира."
   ]
  },
  {
   "cell_type": "code",
   "execution_count": 14,
   "metadata": {},
   "outputs": [
    {
     "data": {
      "text/plain": [
       "0"
      ]
     },
     "execution_count": 14,
     "metadata": {},
     "output_type": "execute_result"
    }
   ],
   "source": [
    "df = df.dropna(subset=['locality_name'])\n",
    "df['locality_name'].isna().sum()"
   ]
  },
  {
   "cell_type": "markdown",
   "metadata": {},
   "source": [
    "Рассмотрим значения стобеца is_apartment (апартаменты)."
   ]
  },
  {
   "cell_type": "code",
   "execution_count": 15,
   "metadata": {},
   "outputs": [
    {
     "data": {
      "text/plain": [
       "array([nan, False, True], dtype=object)"
      ]
     },
     "execution_count": 15,
     "metadata": {},
     "output_type": "execute_result"
    }
   ],
   "source": [
    "df['is_apartment'].unique()"
   ]
  },
  {
   "cell_type": "code",
   "execution_count": 16,
   "metadata": {},
   "outputs": [
    {
     "name": "stdout",
     "output_type": "stream",
     "text": [
      "Количество NaN в столбце is_apartment: 20890\n"
     ]
    },
    {
     "data": {
      "text/plain": [
       "False    2710\n",
       "True       50\n",
       "Name: is_apartment, dtype: int64"
      ]
     },
     "execution_count": 16,
     "metadata": {},
     "output_type": "execute_result"
    }
   ],
   "source": [
    "print('Количество NaN в столбце is_apartment:', df['is_apartment'].isnull().sum())\n",
    "df['is_apartment'].value_counts()"
   ]
  },
  {
   "cell_type": "markdown",
   "metadata": {},
   "source": [
    "Количество  NaN не маленькое. Если заменять на значение False, то количество показателя False составят более 20 тысяч. Тем самым не будет соотноситься с реальностью. \n",
    "\n",
    "Рассмотрим значения столбца balcony (число балконов). Мы знаем, что в данном столбце количество пропущенных значений около 11,5 тысяч. Предлагаю отсутствующие значения заменить на 0."
   ]
  },
  {
   "cell_type": "code",
   "execution_count": 17,
   "metadata": {},
   "outputs": [
    {
     "name": "stdout",
     "output_type": "stream",
     "text": [
      "Количество NaN в столбце balcony: 0\n"
     ]
    }
   ],
   "source": [
    "df['balcony'] = df['balcony'].fillna(0)\n",
    "print('Количество NaN в столбце balcony:', df['balcony'].isnull().sum())"
   ]
  },
  {
   "cell_type": "markdown",
   "metadata": {},
   "source": [
    "Рассмотрим значения столбца days_exposition (сколько дней было размещено объявление). Мы знаем, что количество пропощенных значений составляет 3 тысячи (округляя). Произвести замену на среднее/медиана не будет хорошим решением. Оставляем без изменений. \n",
    "\n",
    "Рассмотрим значения столбца ceiling_height (высота потолков (м)). Мы знаем, что количество пропощенных значений составляет 9 тысяч (округляя). Произведем рассчет общей медианы и назовем ceiling_medians."
   ]
  },
  {
   "cell_type": "code",
   "execution_count": 18,
   "metadata": {},
   "outputs": [
    {
     "data": {
      "text/html": [
       "<div>\n",
       "<style scoped>\n",
       "    .dataframe tbody tr th:only-of-type {\n",
       "        vertical-align: middle;\n",
       "    }\n",
       "\n",
       "    .dataframe tbody tr th {\n",
       "        vertical-align: top;\n",
       "    }\n",
       "\n",
       "    .dataframe thead th {\n",
       "        text-align: right;\n",
       "    }\n",
       "</style>\n",
       "<table border=\"1\" class=\"dataframe\">\n",
       "  <thead>\n",
       "    <tr style=\"text-align: right;\">\n",
       "      <th></th>\n",
       "      <th>median</th>\n",
       "      <th>count</th>\n",
       "    </tr>\n",
       "    <tr>\n",
       "      <th>floors_total</th>\n",
       "      <th></th>\n",
       "      <th></th>\n",
       "    </tr>\n",
       "  </thead>\n",
       "  <tbody>\n",
       "    <tr>\n",
       "      <td>1.0</td>\n",
       "      <td>2.80</td>\n",
       "      <td>10</td>\n",
       "    </tr>\n",
       "    <tr>\n",
       "      <td>2.0</td>\n",
       "      <td>2.70</td>\n",
       "      <td>213</td>\n",
       "    </tr>\n",
       "    <tr>\n",
       "      <td>3.0</td>\n",
       "      <td>2.80</td>\n",
       "      <td>399</td>\n",
       "    </tr>\n",
       "    <tr>\n",
       "      <td>4.0</td>\n",
       "      <td>3.00</td>\n",
       "      <td>787</td>\n",
       "    </tr>\n",
       "    <tr>\n",
       "      <td>5.0</td>\n",
       "      <td>2.55</td>\n",
       "      <td>3662</td>\n",
       "    </tr>\n",
       "    <tr>\n",
       "      <td>6.0</td>\n",
       "      <td>3.00</td>\n",
       "      <td>618</td>\n",
       "    </tr>\n",
       "    <tr>\n",
       "      <td>7.0</td>\n",
       "      <td>3.00</td>\n",
       "      <td>397</td>\n",
       "    </tr>\n",
       "    <tr>\n",
       "      <td>8.0</td>\n",
       "      <td>2.80</td>\n",
       "      <td>219</td>\n",
       "    </tr>\n",
       "    <tr>\n",
       "      <td>9.0</td>\n",
       "      <td>2.55</td>\n",
       "      <td>2557</td>\n",
       "    </tr>\n",
       "    <tr>\n",
       "      <td>10.0</td>\n",
       "      <td>2.60</td>\n",
       "      <td>750</td>\n",
       "    </tr>\n",
       "  </tbody>\n",
       "</table>\n",
       "</div>"
      ],
      "text/plain": [
       "              median  count\n",
       "floors_total               \n",
       "1.0             2.80     10\n",
       "2.0             2.70    213\n",
       "3.0             2.80    399\n",
       "4.0             3.00    787\n",
       "5.0             2.55   3662\n",
       "6.0             3.00    618\n",
       "7.0             3.00    397\n",
       "8.0             2.80    219\n",
       "9.0             2.55   2557\n",
       "10.0            2.60    750"
      ]
     },
     "execution_count": 18,
     "metadata": {},
     "output_type": "execute_result"
    }
   ],
   "source": [
    "ceiling_medians = df.pivot_table(index='floors_total', values='ceiling_height', aggfunc=['median', 'count'])\n",
    "ceiling_medians.columns = ['median', 'count']\n",
    "ceiling_medians.head(10)"
   ]
  },
  {
   "cell_type": "markdown",
   "metadata": {},
   "source": [
    "Произведем замену отсутствующих значений по столбцу ceiling_height (высота потолков (м) на значение общей медианы."
   ]
  },
  {
   "cell_type": "code",
   "execution_count": 19,
   "metadata": {},
   "outputs": [],
   "source": [
    "for floor in ceiling_medians.index:\n",
    "    df.loc[(df['floors_total'].isna()) | \n",
    "             ((df['floors_total'] == floor) & (ceiling_medians.loc[floor, 'count'] == 0)), \n",
    "             'ceiling_height'] = df['ceiling_height'].describe()"
   ]
  },
  {
   "cell_type": "markdown",
   "metadata": {},
   "source": [
    "На основании данных по сгруппированной таблицы заменем пропущенные значения по столбцу ceiling_height (высота потолков (м)) для дома соответствующей этажности."
   ]
  },
  {
   "cell_type": "code",
   "execution_count": 20,
   "metadata": {},
   "outputs": [],
   "source": [
    "for floor in ceiling_medians.index:\n",
    "    df.loc[(df['ceiling_height'].isna()) & \n",
    "             (df['floors_total'] == floor), \n",
    "             'ceiling_height'] = ceiling_medians.loc[floor, 'median']"
   ]
  },
  {
   "cell_type": "markdown",
   "metadata": {},
   "source": [
    "Проверим произведенную замену."
   ]
  },
  {
   "cell_type": "code",
   "execution_count": 21,
   "metadata": {},
   "outputs": [
    {
     "data": {
      "text/plain": [
       "locality_name               0\n",
       "first_day_exposition        0\n",
       "last_price                  0\n",
       "total_images                0\n",
       "open_plan                   0\n",
       "floor                       0\n",
       "studio                      0\n",
       "rooms                       0\n",
       "total_area                  0\n",
       "balcony                     0\n",
       "floors_total               85\n",
       "ceiling_height             86\n",
       "living_area              1898\n",
       "kitchen_area             2269\n",
       "days_exposition          3180\n",
       "ponds_around3000         5510\n",
       "parks_around3000         5510\n",
       "cityCenters_nearest      5511\n",
       "airports_nearest         5534\n",
       "ponds_nearest           14565\n",
       "parks_nearest           15586\n",
       "is_apartment            20890\n",
       "dtype: int64"
      ]
     },
     "execution_count": 21,
     "metadata": {},
     "output_type": "execute_result"
    }
   ],
   "source": [
    "df.isnull().sum().sort_values()"
   ]
  },
  {
   "cell_type": "markdown",
   "metadata": {},
   "source": [
    "Количество пропущенных значений по столбцу ceiling_height (высота потолков (м)) понизилось с 9 тысяч до 86. Это обусловено тем, то значения по столбцу floors_total (всего этажей в доме) отсутсвуют. В то время как наша замена производилась на основании этих данных. "
   ]
  },
  {
   "cell_type": "markdown",
   "metadata": {},
   "source": [
    "Изменим тип данных по столбцам.\n",
    "Изменим формат столбца first_day_exposition (дата публикации) на datetime:"
   ]
  },
  {
   "cell_type": "code",
   "execution_count": 22,
   "metadata": {},
   "outputs": [
    {
     "data": {
      "text/html": [
       "<div>\n",
       "<style scoped>\n",
       "    .dataframe tbody tr th:only-of-type {\n",
       "        vertical-align: middle;\n",
       "    }\n",
       "\n",
       "    .dataframe tbody tr th {\n",
       "        vertical-align: top;\n",
       "    }\n",
       "\n",
       "    .dataframe thead th {\n",
       "        text-align: right;\n",
       "    }\n",
       "</style>\n",
       "<table border=\"1\" class=\"dataframe\">\n",
       "  <thead>\n",
       "    <tr style=\"text-align: right;\">\n",
       "      <th></th>\n",
       "      <th>locality_name</th>\n",
       "      <th>total_area</th>\n",
       "      <th>living_area</th>\n",
       "      <th>kitchen_area</th>\n",
       "      <th>ceiling_height</th>\n",
       "      <th>rooms</th>\n",
       "      <th>balcony</th>\n",
       "      <th>floor</th>\n",
       "      <th>floors_total</th>\n",
       "      <th>is_apartment</th>\n",
       "      <th>...</th>\n",
       "      <th>total_images</th>\n",
       "      <th>last_price</th>\n",
       "      <th>first_day_exposition</th>\n",
       "      <th>days_exposition</th>\n",
       "      <th>cityCenters_nearest</th>\n",
       "      <th>airports_nearest</th>\n",
       "      <th>parks_around3000</th>\n",
       "      <th>parks_nearest</th>\n",
       "      <th>ponds_around3000</th>\n",
       "      <th>ponds_nearest</th>\n",
       "    </tr>\n",
       "  </thead>\n",
       "  <tbody>\n",
       "    <tr>\n",
       "      <td>0</td>\n",
       "      <td>Санкт-Петербург</td>\n",
       "      <td>108.0</td>\n",
       "      <td>51.0</td>\n",
       "      <td>25.0</td>\n",
       "      <td>2.70</td>\n",
       "      <td>3</td>\n",
       "      <td>0.0</td>\n",
       "      <td>8</td>\n",
       "      <td>16.0</td>\n",
       "      <td>NaN</td>\n",
       "      <td>...</td>\n",
       "      <td>20</td>\n",
       "      <td>13000000.0</td>\n",
       "      <td>2019-03-07</td>\n",
       "      <td>NaN</td>\n",
       "      <td>16028.0</td>\n",
       "      <td>18863.0</td>\n",
       "      <td>1.0</td>\n",
       "      <td>482.0</td>\n",
       "      <td>2.0</td>\n",
       "      <td>755.0</td>\n",
       "    </tr>\n",
       "    <tr>\n",
       "      <td>1</td>\n",
       "      <td>поселок Шушары</td>\n",
       "      <td>40.4</td>\n",
       "      <td>18.6</td>\n",
       "      <td>11.0</td>\n",
       "      <td>2.75</td>\n",
       "      <td>1</td>\n",
       "      <td>2.0</td>\n",
       "      <td>1</td>\n",
       "      <td>11.0</td>\n",
       "      <td>NaN</td>\n",
       "      <td>...</td>\n",
       "      <td>7</td>\n",
       "      <td>3350000.0</td>\n",
       "      <td>2018-12-04</td>\n",
       "      <td>81.0</td>\n",
       "      <td>18603.0</td>\n",
       "      <td>12817.0</td>\n",
       "      <td>0.0</td>\n",
       "      <td>NaN</td>\n",
       "      <td>0.0</td>\n",
       "      <td>NaN</td>\n",
       "    </tr>\n",
       "    <tr>\n",
       "      <td>2</td>\n",
       "      <td>Санкт-Петербург</td>\n",
       "      <td>56.0</td>\n",
       "      <td>34.3</td>\n",
       "      <td>8.3</td>\n",
       "      <td>2.55</td>\n",
       "      <td>2</td>\n",
       "      <td>0.0</td>\n",
       "      <td>4</td>\n",
       "      <td>5.0</td>\n",
       "      <td>NaN</td>\n",
       "      <td>...</td>\n",
       "      <td>10</td>\n",
       "      <td>5196000.0</td>\n",
       "      <td>2015-08-20</td>\n",
       "      <td>558.0</td>\n",
       "      <td>13933.0</td>\n",
       "      <td>21741.0</td>\n",
       "      <td>1.0</td>\n",
       "      <td>90.0</td>\n",
       "      <td>2.0</td>\n",
       "      <td>574.0</td>\n",
       "    </tr>\n",
       "    <tr>\n",
       "      <td>3</td>\n",
       "      <td>Санкт-Петербург</td>\n",
       "      <td>159.0</td>\n",
       "      <td>NaN</td>\n",
       "      <td>NaN</td>\n",
       "      <td>2.60</td>\n",
       "      <td>3</td>\n",
       "      <td>0.0</td>\n",
       "      <td>9</td>\n",
       "      <td>14.0</td>\n",
       "      <td>NaN</td>\n",
       "      <td>...</td>\n",
       "      <td>0</td>\n",
       "      <td>64900000.0</td>\n",
       "      <td>2015-07-24</td>\n",
       "      <td>424.0</td>\n",
       "      <td>6800.0</td>\n",
       "      <td>28098.0</td>\n",
       "      <td>2.0</td>\n",
       "      <td>84.0</td>\n",
       "      <td>3.0</td>\n",
       "      <td>234.0</td>\n",
       "    </tr>\n",
       "    <tr>\n",
       "      <td>4</td>\n",
       "      <td>Санкт-Петербург</td>\n",
       "      <td>100.0</td>\n",
       "      <td>32.0</td>\n",
       "      <td>41.0</td>\n",
       "      <td>3.03</td>\n",
       "      <td>2</td>\n",
       "      <td>0.0</td>\n",
       "      <td>13</td>\n",
       "      <td>14.0</td>\n",
       "      <td>NaN</td>\n",
       "      <td>...</td>\n",
       "      <td>2</td>\n",
       "      <td>10000000.0</td>\n",
       "      <td>2018-06-19</td>\n",
       "      <td>121.0</td>\n",
       "      <td>8098.0</td>\n",
       "      <td>31856.0</td>\n",
       "      <td>2.0</td>\n",
       "      <td>112.0</td>\n",
       "      <td>1.0</td>\n",
       "      <td>48.0</td>\n",
       "    </tr>\n",
       "  </tbody>\n",
       "</table>\n",
       "<p>5 rows × 22 columns</p>\n",
       "</div>"
      ],
      "text/plain": [
       "     locality_name  total_area  living_area  kitchen_area  ceiling_height  \\\n",
       "0  Санкт-Петербург       108.0         51.0          25.0            2.70   \n",
       "1   поселок Шушары        40.4         18.6          11.0            2.75   \n",
       "2  Санкт-Петербург        56.0         34.3           8.3            2.55   \n",
       "3  Санкт-Петербург       159.0          NaN           NaN            2.60   \n",
       "4  Санкт-Петербург       100.0         32.0          41.0            3.03   \n",
       "\n",
       "   rooms  balcony  floor  floors_total is_apartment  ...  total_images  \\\n",
       "0      3      0.0      8          16.0          NaN  ...            20   \n",
       "1      1      2.0      1          11.0          NaN  ...             7   \n",
       "2      2      0.0      4           5.0          NaN  ...            10   \n",
       "3      3      0.0      9          14.0          NaN  ...             0   \n",
       "4      2      0.0     13          14.0          NaN  ...             2   \n",
       "\n",
       "   last_price  first_day_exposition  days_exposition cityCenters_nearest  \\\n",
       "0  13000000.0            2019-03-07              NaN             16028.0   \n",
       "1   3350000.0            2018-12-04             81.0             18603.0   \n",
       "2   5196000.0            2015-08-20            558.0             13933.0   \n",
       "3  64900000.0            2015-07-24            424.0              6800.0   \n",
       "4  10000000.0            2018-06-19            121.0              8098.0   \n",
       "\n",
       "   airports_nearest  parks_around3000  parks_nearest  ponds_around3000  \\\n",
       "0           18863.0               1.0          482.0               2.0   \n",
       "1           12817.0               0.0            NaN               0.0   \n",
       "2           21741.0               1.0           90.0               2.0   \n",
       "3           28098.0               2.0           84.0               3.0   \n",
       "4           31856.0               2.0          112.0               1.0   \n",
       "\n",
       "   ponds_nearest  \n",
       "0          755.0  \n",
       "1            NaN  \n",
       "2          574.0  \n",
       "3          234.0  \n",
       "4           48.0  \n",
       "\n",
       "[5 rows x 22 columns]"
      ]
     },
     "execution_count": 22,
     "metadata": {},
     "output_type": "execute_result"
    }
   ],
   "source": [
    "today = '%Y-%m-%dT%H:%M:%S'\n",
    "df['first_day_exposition'] = pd.to_datetime(df['first_day_exposition'], format=today)\n",
    "df.head()"
   ]
  },
  {
   "cell_type": "markdown",
   "metadata": {},
   "source": [
    "Изменим тип данных по столбцам: last_price (цена на момент снятия с публикации), floors_total (всего этажей в доме), balcony (число балконов), airports_nearest (расстояние до ближайшего аэропорта), cityCenters_nearest (расстояние до центра города), parks_around3000 (число водоемов в радиусе 3м), parks_nearest (расстояние до ближайшего парка), ponds_around3000 (число водоемов в радиусе 3м), ponds_nearest (расстояние до ближайшего парка), days_exposition (сколько дней было размещено объявление) на тип int."
   ]
  },
  {
   "cell_type": "code",
   "execution_count": 23,
   "metadata": {},
   "outputs": [],
   "source": [
    "list_to_int = ['last_price', 'floors_total', 'balcony', 'airports_nearest', 'cityCenters_nearest', 'parks_around3000',\n",
    "               'parks_nearest', 'ponds_around3000', 'ponds_nearest', 'days_exposition']\n",
    "for column in list_to_int:\n",
    "    df[column] = df[df[column].notnull()][column].astype('int')"
   ]
  },
  {
   "cell_type": "markdown",
   "metadata": {},
   "source": [
    "Изменим тип данных по солбцам: total_area (площадь квартиры в кв. метрах), ceiling_height (высота потолков), living_area (жилая площадь в кв. метрах), kitchen_area (площадь кухни в кв. метрах). Столбцы, где округляем данные до 1 знака после запятой."
   ]
  },
  {
   "cell_type": "code",
   "execution_count": 24,
   "metadata": {},
   "outputs": [],
   "source": [
    "list_to_float_1 = ['total_area', 'ceiling_height', 'living_area', 'kitchen_area']\n",
    "for column in list_to_float_1:\n",
    "    df[column] = df[df[column].notnull()][column].round(1)"
   ]
  },
  {
   "cell_type": "markdown",
   "metadata": {},
   "source": [
    "Изменим данные столбцов: airports_nearest (расстояние до ближайшего аэропорта в метрах (м)), parks_nearest (расстояние до ближайшего парка (м)), ponds_nearest (расстояние до ближайшего водоёма (м)) переведем в километры."
   ]
  },
  {
   "cell_type": "code",
   "execution_count": 25,
   "metadata": {},
   "outputs": [],
   "source": [
    "df['airports_nearest_km'] = df['airports_nearest'] / 1000\n",
    "df['parks_nearest_km'] = df['parks_nearest'] / 1000\n",
    "df['ponds_nearest _km'] = df['ponds_nearest'] / 1000"
   ]
  },
  {
   "cell_type": "markdown",
   "metadata": {},
   "source": [
    "Изменим данные столбца last_price (цена на момент снятия с публикации). Переведем в миллионы, округляя до 3 знаков после запятой."
   ]
  },
  {
   "cell_type": "code",
   "execution_count": 26,
   "metadata": {},
   "outputs": [],
   "source": [
    "df['last_price'] = df['last_price']/1000000\n",
    "df['last_price'] = df['last_price'].round(3)"
   ]
  },
  {
   "cell_type": "code",
   "execution_count": 27,
   "metadata": {},
   "outputs": [
    {
     "data": {
      "text/html": [
       "<div>\n",
       "<style scoped>\n",
       "    .dataframe tbody tr th:only-of-type {\n",
       "        vertical-align: middle;\n",
       "    }\n",
       "\n",
       "    .dataframe tbody tr th {\n",
       "        vertical-align: top;\n",
       "    }\n",
       "\n",
       "    .dataframe thead th {\n",
       "        text-align: right;\n",
       "    }\n",
       "</style>\n",
       "<table border=\"1\" class=\"dataframe\">\n",
       "  <thead>\n",
       "    <tr style=\"text-align: right;\">\n",
       "      <th></th>\n",
       "      <th>locality_name</th>\n",
       "      <th>total_area</th>\n",
       "      <th>living_area</th>\n",
       "      <th>kitchen_area</th>\n",
       "      <th>ceiling_height</th>\n",
       "      <th>rooms</th>\n",
       "      <th>balcony</th>\n",
       "      <th>floor</th>\n",
       "      <th>floors_total</th>\n",
       "      <th>is_apartment</th>\n",
       "      <th>...</th>\n",
       "      <th>days_exposition</th>\n",
       "      <th>cityCenters_nearest</th>\n",
       "      <th>airports_nearest</th>\n",
       "      <th>parks_around3000</th>\n",
       "      <th>parks_nearest</th>\n",
       "      <th>ponds_around3000</th>\n",
       "      <th>ponds_nearest</th>\n",
       "      <th>airports_nearest_km</th>\n",
       "      <th>parks_nearest_km</th>\n",
       "      <th>ponds_nearest _km</th>\n",
       "    </tr>\n",
       "  </thead>\n",
       "  <tbody>\n",
       "    <tr>\n",
       "      <td>0</td>\n",
       "      <td>Санкт-Петербург</td>\n",
       "      <td>108.0</td>\n",
       "      <td>51.0</td>\n",
       "      <td>25.0</td>\n",
       "      <td>2.7</td>\n",
       "      <td>3</td>\n",
       "      <td>0</td>\n",
       "      <td>8</td>\n",
       "      <td>16.0</td>\n",
       "      <td>NaN</td>\n",
       "      <td>...</td>\n",
       "      <td>NaN</td>\n",
       "      <td>16028.0</td>\n",
       "      <td>18863.0</td>\n",
       "      <td>1.0</td>\n",
       "      <td>482.0</td>\n",
       "      <td>2.0</td>\n",
       "      <td>755.0</td>\n",
       "      <td>18.863</td>\n",
       "      <td>0.482</td>\n",
       "      <td>0.755</td>\n",
       "    </tr>\n",
       "    <tr>\n",
       "      <td>1</td>\n",
       "      <td>поселок Шушары</td>\n",
       "      <td>40.4</td>\n",
       "      <td>18.6</td>\n",
       "      <td>11.0</td>\n",
       "      <td>2.8</td>\n",
       "      <td>1</td>\n",
       "      <td>2</td>\n",
       "      <td>1</td>\n",
       "      <td>11.0</td>\n",
       "      <td>NaN</td>\n",
       "      <td>...</td>\n",
       "      <td>81.0</td>\n",
       "      <td>18603.0</td>\n",
       "      <td>12817.0</td>\n",
       "      <td>0.0</td>\n",
       "      <td>NaN</td>\n",
       "      <td>0.0</td>\n",
       "      <td>NaN</td>\n",
       "      <td>12.817</td>\n",
       "      <td>NaN</td>\n",
       "      <td>NaN</td>\n",
       "    </tr>\n",
       "    <tr>\n",
       "      <td>2</td>\n",
       "      <td>Санкт-Петербург</td>\n",
       "      <td>56.0</td>\n",
       "      <td>34.3</td>\n",
       "      <td>8.3</td>\n",
       "      <td>2.6</td>\n",
       "      <td>2</td>\n",
       "      <td>0</td>\n",
       "      <td>4</td>\n",
       "      <td>5.0</td>\n",
       "      <td>NaN</td>\n",
       "      <td>...</td>\n",
       "      <td>558.0</td>\n",
       "      <td>13933.0</td>\n",
       "      <td>21741.0</td>\n",
       "      <td>1.0</td>\n",
       "      <td>90.0</td>\n",
       "      <td>2.0</td>\n",
       "      <td>574.0</td>\n",
       "      <td>21.741</td>\n",
       "      <td>0.090</td>\n",
       "      <td>0.574</td>\n",
       "    </tr>\n",
       "    <tr>\n",
       "      <td>3</td>\n",
       "      <td>Санкт-Петербург</td>\n",
       "      <td>159.0</td>\n",
       "      <td>NaN</td>\n",
       "      <td>NaN</td>\n",
       "      <td>2.6</td>\n",
       "      <td>3</td>\n",
       "      <td>0</td>\n",
       "      <td>9</td>\n",
       "      <td>14.0</td>\n",
       "      <td>NaN</td>\n",
       "      <td>...</td>\n",
       "      <td>424.0</td>\n",
       "      <td>6800.0</td>\n",
       "      <td>28098.0</td>\n",
       "      <td>2.0</td>\n",
       "      <td>84.0</td>\n",
       "      <td>3.0</td>\n",
       "      <td>234.0</td>\n",
       "      <td>28.098</td>\n",
       "      <td>0.084</td>\n",
       "      <td>0.234</td>\n",
       "    </tr>\n",
       "    <tr>\n",
       "      <td>4</td>\n",
       "      <td>Санкт-Петербург</td>\n",
       "      <td>100.0</td>\n",
       "      <td>32.0</td>\n",
       "      <td>41.0</td>\n",
       "      <td>3.0</td>\n",
       "      <td>2</td>\n",
       "      <td>0</td>\n",
       "      <td>13</td>\n",
       "      <td>14.0</td>\n",
       "      <td>NaN</td>\n",
       "      <td>...</td>\n",
       "      <td>121.0</td>\n",
       "      <td>8098.0</td>\n",
       "      <td>31856.0</td>\n",
       "      <td>2.0</td>\n",
       "      <td>112.0</td>\n",
       "      <td>1.0</td>\n",
       "      <td>48.0</td>\n",
       "      <td>31.856</td>\n",
       "      <td>0.112</td>\n",
       "      <td>0.048</td>\n",
       "    </tr>\n",
       "    <tr>\n",
       "      <td>5</td>\n",
       "      <td>городской поселок Янино-1</td>\n",
       "      <td>30.4</td>\n",
       "      <td>14.4</td>\n",
       "      <td>9.1</td>\n",
       "      <td>2.6</td>\n",
       "      <td>1</td>\n",
       "      <td>0</td>\n",
       "      <td>5</td>\n",
       "      <td>12.0</td>\n",
       "      <td>NaN</td>\n",
       "      <td>...</td>\n",
       "      <td>55.0</td>\n",
       "      <td>NaN</td>\n",
       "      <td>NaN</td>\n",
       "      <td>NaN</td>\n",
       "      <td>NaN</td>\n",
       "      <td>NaN</td>\n",
       "      <td>NaN</td>\n",
       "      <td>NaN</td>\n",
       "      <td>NaN</td>\n",
       "      <td>NaN</td>\n",
       "    </tr>\n",
       "    <tr>\n",
       "      <td>6</td>\n",
       "      <td>поселок Парголово</td>\n",
       "      <td>37.3</td>\n",
       "      <td>10.6</td>\n",
       "      <td>14.4</td>\n",
       "      <td>2.7</td>\n",
       "      <td>1</td>\n",
       "      <td>1</td>\n",
       "      <td>6</td>\n",
       "      <td>26.0</td>\n",
       "      <td>NaN</td>\n",
       "      <td>...</td>\n",
       "      <td>155.0</td>\n",
       "      <td>19143.0</td>\n",
       "      <td>52996.0</td>\n",
       "      <td>0.0</td>\n",
       "      <td>NaN</td>\n",
       "      <td>0.0</td>\n",
       "      <td>NaN</td>\n",
       "      <td>52.996</td>\n",
       "      <td>NaN</td>\n",
       "      <td>NaN</td>\n",
       "    </tr>\n",
       "    <tr>\n",
       "      <td>7</td>\n",
       "      <td>Санкт-Петербург</td>\n",
       "      <td>71.6</td>\n",
       "      <td>NaN</td>\n",
       "      <td>18.9</td>\n",
       "      <td>2.8</td>\n",
       "      <td>2</td>\n",
       "      <td>2</td>\n",
       "      <td>22</td>\n",
       "      <td>24.0</td>\n",
       "      <td>NaN</td>\n",
       "      <td>...</td>\n",
       "      <td>NaN</td>\n",
       "      <td>11634.0</td>\n",
       "      <td>23982.0</td>\n",
       "      <td>0.0</td>\n",
       "      <td>NaN</td>\n",
       "      <td>0.0</td>\n",
       "      <td>NaN</td>\n",
       "      <td>23.982</td>\n",
       "      <td>NaN</td>\n",
       "      <td>NaN</td>\n",
       "    </tr>\n",
       "    <tr>\n",
       "      <td>8</td>\n",
       "      <td>поселок Мурино</td>\n",
       "      <td>33.2</td>\n",
       "      <td>15.4</td>\n",
       "      <td>8.8</td>\n",
       "      <td>2.7</td>\n",
       "      <td>1</td>\n",
       "      <td>0</td>\n",
       "      <td>26</td>\n",
       "      <td>27.0</td>\n",
       "      <td>NaN</td>\n",
       "      <td>...</td>\n",
       "      <td>189.0</td>\n",
       "      <td>NaN</td>\n",
       "      <td>NaN</td>\n",
       "      <td>NaN</td>\n",
       "      <td>NaN</td>\n",
       "      <td>NaN</td>\n",
       "      <td>NaN</td>\n",
       "      <td>NaN</td>\n",
       "      <td>NaN</td>\n",
       "      <td>NaN</td>\n",
       "    </tr>\n",
       "    <tr>\n",
       "      <td>9</td>\n",
       "      <td>Санкт-Петербург</td>\n",
       "      <td>61.0</td>\n",
       "      <td>43.6</td>\n",
       "      <td>6.5</td>\n",
       "      <td>2.5</td>\n",
       "      <td>3</td>\n",
       "      <td>2</td>\n",
       "      <td>7</td>\n",
       "      <td>9.0</td>\n",
       "      <td>NaN</td>\n",
       "      <td>...</td>\n",
       "      <td>289.0</td>\n",
       "      <td>15008.0</td>\n",
       "      <td>50898.0</td>\n",
       "      <td>0.0</td>\n",
       "      <td>NaN</td>\n",
       "      <td>0.0</td>\n",
       "      <td>NaN</td>\n",
       "      <td>50.898</td>\n",
       "      <td>NaN</td>\n",
       "      <td>NaN</td>\n",
       "    </tr>\n",
       "  </tbody>\n",
       "</table>\n",
       "<p>10 rows × 25 columns</p>\n",
       "</div>"
      ],
      "text/plain": [
       "               locality_name  total_area  living_area  kitchen_area  \\\n",
       "0            Санкт-Петербург       108.0         51.0          25.0   \n",
       "1             поселок Шушары        40.4         18.6          11.0   \n",
       "2            Санкт-Петербург        56.0         34.3           8.3   \n",
       "3            Санкт-Петербург       159.0          NaN           NaN   \n",
       "4            Санкт-Петербург       100.0         32.0          41.0   \n",
       "5  городской поселок Янино-1        30.4         14.4           9.1   \n",
       "6          поселок Парголово        37.3         10.6          14.4   \n",
       "7            Санкт-Петербург        71.6          NaN          18.9   \n",
       "8             поселок Мурино        33.2         15.4           8.8   \n",
       "9            Санкт-Петербург        61.0         43.6           6.5   \n",
       "\n",
       "   ceiling_height  rooms  balcony  floor  floors_total is_apartment  ...  \\\n",
       "0             2.7      3        0      8          16.0          NaN  ...   \n",
       "1             2.8      1        2      1          11.0          NaN  ...   \n",
       "2             2.6      2        0      4           5.0          NaN  ...   \n",
       "3             2.6      3        0      9          14.0          NaN  ...   \n",
       "4             3.0      2        0     13          14.0          NaN  ...   \n",
       "5             2.6      1        0      5          12.0          NaN  ...   \n",
       "6             2.7      1        1      6          26.0          NaN  ...   \n",
       "7             2.8      2        2     22          24.0          NaN  ...   \n",
       "8             2.7      1        0     26          27.0          NaN  ...   \n",
       "9             2.5      3        2      7           9.0          NaN  ...   \n",
       "\n",
       "   days_exposition  cityCenters_nearest  airports_nearest  parks_around3000  \\\n",
       "0              NaN              16028.0           18863.0               1.0   \n",
       "1             81.0              18603.0           12817.0               0.0   \n",
       "2            558.0              13933.0           21741.0               1.0   \n",
       "3            424.0               6800.0           28098.0               2.0   \n",
       "4            121.0               8098.0           31856.0               2.0   \n",
       "5             55.0                  NaN               NaN               NaN   \n",
       "6            155.0              19143.0           52996.0               0.0   \n",
       "7              NaN              11634.0           23982.0               0.0   \n",
       "8            189.0                  NaN               NaN               NaN   \n",
       "9            289.0              15008.0           50898.0               0.0   \n",
       "\n",
       "  parks_nearest  ponds_around3000  ponds_nearest  airports_nearest_km  \\\n",
       "0         482.0               2.0          755.0               18.863   \n",
       "1           NaN               0.0            NaN               12.817   \n",
       "2          90.0               2.0          574.0               21.741   \n",
       "3          84.0               3.0          234.0               28.098   \n",
       "4         112.0               1.0           48.0               31.856   \n",
       "5           NaN               NaN            NaN                  NaN   \n",
       "6           NaN               0.0            NaN               52.996   \n",
       "7           NaN               0.0            NaN               23.982   \n",
       "8           NaN               NaN            NaN                  NaN   \n",
       "9           NaN               0.0            NaN               50.898   \n",
       "\n",
       "   parks_nearest_km  ponds_nearest _km  \n",
       "0             0.482              0.755  \n",
       "1               NaN                NaN  \n",
       "2             0.090              0.574  \n",
       "3             0.084              0.234  \n",
       "4             0.112              0.048  \n",
       "5               NaN                NaN  \n",
       "6               NaN                NaN  \n",
       "7               NaN                NaN  \n",
       "8               NaN                NaN  \n",
       "9               NaN                NaN  \n",
       "\n",
       "[10 rows x 25 columns]"
      ]
     },
     "execution_count": 27,
     "metadata": {},
     "output_type": "execute_result"
    }
   ],
   "source": [
    "df.head(10)"
   ]
  },
  {
   "cell_type": "markdown",
   "metadata": {},
   "source": [
    "# Промежуточный вывод\n",
    "\n",
    "По разделу 2 \"Предобработка данных\" была продела следующая работа:\n",
    "- заменены дублирующие названия населенных пунктов;\n",
    "- значения столбца is_apartment (апартаменты) имеют не маленькое количество NaN. Если  производить замену на значение False, то количество показателя False составят более 20 тысяч. Тем самым не будет соотноситься с реальностью;\n",
    "- значения столбца balcony (число балконов) имеет около 11,5 тысяч пропущенных значений. Была произведена замена отсутсвующих значений на 0;\n",
    "- значения столбца days_exposition (сколько дней было размещено объявление) имеют 3 тысячи (округляя) количества пропощенных значений. Производить замену на среднее/медиана не будет хорошим решением. Оставляем без изменений;\n",
    "- значения столбца ceiling_height (высота потолков (м)). Мы знаем, что количество пропощенных значений составляет 9 тысяч (округляя). Была прроизведена замена отсутствующих значений по столбцу ceiling_height (высота потолков (м) на значение общей медианы;\n",
    "- был изменен формат столбца first_day_exposition (дата публикации) на datetime."
   ]
  },
  {
   "cell_type": "markdown",
   "metadata": {},
   "source": [
    "## Рассчёты и добавление результатов в таблицу"
   ]
  },
  {
   "cell_type": "markdown",
   "metadata": {},
   "source": [
    "Добавим столбец со значением - цена на квадратных метр. Округлим данные до 1 знака после запятой."
   ]
  },
  {
   "cell_type": "code",
   "execution_count": 28,
   "metadata": {},
   "outputs": [
    {
     "data": {
      "text/html": [
       "<div>\n",
       "<style scoped>\n",
       "    .dataframe tbody tr th:only-of-type {\n",
       "        vertical-align: middle;\n",
       "    }\n",
       "\n",
       "    .dataframe tbody tr th {\n",
       "        vertical-align: top;\n",
       "    }\n",
       "\n",
       "    .dataframe thead th {\n",
       "        text-align: right;\n",
       "    }\n",
       "</style>\n",
       "<table border=\"1\" class=\"dataframe\">\n",
       "  <thead>\n",
       "    <tr style=\"text-align: right;\">\n",
       "      <th></th>\n",
       "      <th>locality_name</th>\n",
       "      <th>total_area</th>\n",
       "      <th>living_area</th>\n",
       "      <th>kitchen_area</th>\n",
       "      <th>ceiling_height</th>\n",
       "      <th>rooms</th>\n",
       "      <th>balcony</th>\n",
       "      <th>floor</th>\n",
       "      <th>floors_total</th>\n",
       "      <th>is_apartment</th>\n",
       "      <th>...</th>\n",
       "      <th>cityCenters_nearest</th>\n",
       "      <th>airports_nearest</th>\n",
       "      <th>parks_around3000</th>\n",
       "      <th>parks_nearest</th>\n",
       "      <th>ponds_around3000</th>\n",
       "      <th>ponds_nearest</th>\n",
       "      <th>airports_nearest_km</th>\n",
       "      <th>parks_nearest_km</th>\n",
       "      <th>ponds_nearest _km</th>\n",
       "      <th>price_per_meter</th>\n",
       "    </tr>\n",
       "  </thead>\n",
       "  <tbody>\n",
       "    <tr>\n",
       "      <td>0</td>\n",
       "      <td>Санкт-Петербург</td>\n",
       "      <td>108.0</td>\n",
       "      <td>51.0</td>\n",
       "      <td>25.0</td>\n",
       "      <td>2.7</td>\n",
       "      <td>3</td>\n",
       "      <td>0</td>\n",
       "      <td>8</td>\n",
       "      <td>16.0</td>\n",
       "      <td>NaN</td>\n",
       "      <td>...</td>\n",
       "      <td>16028.0</td>\n",
       "      <td>18863.0</td>\n",
       "      <td>1.0</td>\n",
       "      <td>482.0</td>\n",
       "      <td>2.0</td>\n",
       "      <td>755.0</td>\n",
       "      <td>18.863</td>\n",
       "      <td>0.482</td>\n",
       "      <td>0.755</td>\n",
       "      <td>0.1</td>\n",
       "    </tr>\n",
       "    <tr>\n",
       "      <td>1</td>\n",
       "      <td>поселок Шушары</td>\n",
       "      <td>40.4</td>\n",
       "      <td>18.6</td>\n",
       "      <td>11.0</td>\n",
       "      <td>2.8</td>\n",
       "      <td>1</td>\n",
       "      <td>2</td>\n",
       "      <td>1</td>\n",
       "      <td>11.0</td>\n",
       "      <td>NaN</td>\n",
       "      <td>...</td>\n",
       "      <td>18603.0</td>\n",
       "      <td>12817.0</td>\n",
       "      <td>0.0</td>\n",
       "      <td>NaN</td>\n",
       "      <td>0.0</td>\n",
       "      <td>NaN</td>\n",
       "      <td>12.817</td>\n",
       "      <td>NaN</td>\n",
       "      <td>NaN</td>\n",
       "      <td>0.1</td>\n",
       "    </tr>\n",
       "    <tr>\n",
       "      <td>2</td>\n",
       "      <td>Санкт-Петербург</td>\n",
       "      <td>56.0</td>\n",
       "      <td>34.3</td>\n",
       "      <td>8.3</td>\n",
       "      <td>2.6</td>\n",
       "      <td>2</td>\n",
       "      <td>0</td>\n",
       "      <td>4</td>\n",
       "      <td>5.0</td>\n",
       "      <td>NaN</td>\n",
       "      <td>...</td>\n",
       "      <td>13933.0</td>\n",
       "      <td>21741.0</td>\n",
       "      <td>1.0</td>\n",
       "      <td>90.0</td>\n",
       "      <td>2.0</td>\n",
       "      <td>574.0</td>\n",
       "      <td>21.741</td>\n",
       "      <td>0.090</td>\n",
       "      <td>0.574</td>\n",
       "      <td>0.1</td>\n",
       "    </tr>\n",
       "    <tr>\n",
       "      <td>3</td>\n",
       "      <td>Санкт-Петербург</td>\n",
       "      <td>159.0</td>\n",
       "      <td>NaN</td>\n",
       "      <td>NaN</td>\n",
       "      <td>2.6</td>\n",
       "      <td>3</td>\n",
       "      <td>0</td>\n",
       "      <td>9</td>\n",
       "      <td>14.0</td>\n",
       "      <td>NaN</td>\n",
       "      <td>...</td>\n",
       "      <td>6800.0</td>\n",
       "      <td>28098.0</td>\n",
       "      <td>2.0</td>\n",
       "      <td>84.0</td>\n",
       "      <td>3.0</td>\n",
       "      <td>234.0</td>\n",
       "      <td>28.098</td>\n",
       "      <td>0.084</td>\n",
       "      <td>0.234</td>\n",
       "      <td>0.4</td>\n",
       "    </tr>\n",
       "    <tr>\n",
       "      <td>4</td>\n",
       "      <td>Санкт-Петербург</td>\n",
       "      <td>100.0</td>\n",
       "      <td>32.0</td>\n",
       "      <td>41.0</td>\n",
       "      <td>3.0</td>\n",
       "      <td>2</td>\n",
       "      <td>0</td>\n",
       "      <td>13</td>\n",
       "      <td>14.0</td>\n",
       "      <td>NaN</td>\n",
       "      <td>...</td>\n",
       "      <td>8098.0</td>\n",
       "      <td>31856.0</td>\n",
       "      <td>2.0</td>\n",
       "      <td>112.0</td>\n",
       "      <td>1.0</td>\n",
       "      <td>48.0</td>\n",
       "      <td>31.856</td>\n",
       "      <td>0.112</td>\n",
       "      <td>0.048</td>\n",
       "      <td>0.1</td>\n",
       "    </tr>\n",
       "  </tbody>\n",
       "</table>\n",
       "<p>5 rows × 26 columns</p>\n",
       "</div>"
      ],
      "text/plain": [
       "     locality_name  total_area  living_area  kitchen_area  ceiling_height  \\\n",
       "0  Санкт-Петербург       108.0         51.0          25.0             2.7   \n",
       "1   поселок Шушары        40.4         18.6          11.0             2.8   \n",
       "2  Санкт-Петербург        56.0         34.3           8.3             2.6   \n",
       "3  Санкт-Петербург       159.0          NaN           NaN             2.6   \n",
       "4  Санкт-Петербург       100.0         32.0          41.0             3.0   \n",
       "\n",
       "   rooms  balcony  floor  floors_total is_apartment  ...  cityCenters_nearest  \\\n",
       "0      3        0      8          16.0          NaN  ...              16028.0   \n",
       "1      1        2      1          11.0          NaN  ...              18603.0   \n",
       "2      2        0      4           5.0          NaN  ...              13933.0   \n",
       "3      3        0      9          14.0          NaN  ...               6800.0   \n",
       "4      2        0     13          14.0          NaN  ...               8098.0   \n",
       "\n",
       "   airports_nearest  parks_around3000  parks_nearest ponds_around3000  \\\n",
       "0           18863.0               1.0          482.0              2.0   \n",
       "1           12817.0               0.0            NaN              0.0   \n",
       "2           21741.0               1.0           90.0              2.0   \n",
       "3           28098.0               2.0           84.0              3.0   \n",
       "4           31856.0               2.0          112.0              1.0   \n",
       "\n",
       "   ponds_nearest  airports_nearest_km  parks_nearest_km  ponds_nearest _km  \\\n",
       "0          755.0               18.863             0.482              0.755   \n",
       "1            NaN               12.817               NaN                NaN   \n",
       "2          574.0               21.741             0.090              0.574   \n",
       "3          234.0               28.098             0.084              0.234   \n",
       "4           48.0               31.856             0.112              0.048   \n",
       "\n",
       "   price_per_meter  \n",
       "0              0.1  \n",
       "1              0.1  \n",
       "2              0.1  \n",
       "3              0.4  \n",
       "4              0.1  \n",
       "\n",
       "[5 rows x 26 columns]"
      ]
     },
     "execution_count": 28,
     "metadata": {},
     "output_type": "execute_result"
    }
   ],
   "source": [
    "df['price_per_meter'] = df['last_price'] / df['total_area']\n",
    "df['price_per_meter'] = df['price_per_meter'].round(1)\n",
    "df.head()"
   ]
  },
  {
   "cell_type": "markdown",
   "metadata": {},
   "source": [
    "Добавим столбец со значениями: день недели, месяц и год. Мы создадим три столбца с данными показателями и создадим  два  словаря, чтобы заменить значения с чисел на текст (день недели, название месяца)."
   ]
  },
  {
   "cell_type": "code",
   "execution_count": 29,
   "metadata": {},
   "outputs": [
    {
     "data": {
      "text/html": [
       "<div>\n",
       "<style scoped>\n",
       "    .dataframe tbody tr th:only-of-type {\n",
       "        vertical-align: middle;\n",
       "    }\n",
       "\n",
       "    .dataframe tbody tr th {\n",
       "        vertical-align: top;\n",
       "    }\n",
       "\n",
       "    .dataframe thead th {\n",
       "        text-align: right;\n",
       "    }\n",
       "</style>\n",
       "<table border=\"1\" class=\"dataframe\">\n",
       "  <thead>\n",
       "    <tr style=\"text-align: right;\">\n",
       "      <th></th>\n",
       "      <th>locality_name</th>\n",
       "      <th>total_area</th>\n",
       "      <th>living_area</th>\n",
       "      <th>kitchen_area</th>\n",
       "      <th>ceiling_height</th>\n",
       "      <th>rooms</th>\n",
       "      <th>balcony</th>\n",
       "      <th>floor</th>\n",
       "      <th>floors_total</th>\n",
       "      <th>is_apartment</th>\n",
       "      <th>...</th>\n",
       "      <th>parks_nearest</th>\n",
       "      <th>ponds_around3000</th>\n",
       "      <th>ponds_nearest</th>\n",
       "      <th>airports_nearest_km</th>\n",
       "      <th>parks_nearest_km</th>\n",
       "      <th>ponds_nearest _km</th>\n",
       "      <th>price_per_meter</th>\n",
       "      <th>day</th>\n",
       "      <th>year</th>\n",
       "      <th>month</th>\n",
       "    </tr>\n",
       "  </thead>\n",
       "  <tbody>\n",
       "    <tr>\n",
       "      <td>0</td>\n",
       "      <td>Санкт-Петербург</td>\n",
       "      <td>108.0</td>\n",
       "      <td>51.0</td>\n",
       "      <td>25.0</td>\n",
       "      <td>2.7</td>\n",
       "      <td>3</td>\n",
       "      <td>0</td>\n",
       "      <td>8</td>\n",
       "      <td>16.0</td>\n",
       "      <td>NaN</td>\n",
       "      <td>...</td>\n",
       "      <td>482.0</td>\n",
       "      <td>2.0</td>\n",
       "      <td>755.0</td>\n",
       "      <td>18.863</td>\n",
       "      <td>0.482</td>\n",
       "      <td>0.755</td>\n",
       "      <td>0.1</td>\n",
       "      <td>четверг</td>\n",
       "      <td>2019</td>\n",
       "      <td>3 - март</td>\n",
       "    </tr>\n",
       "    <tr>\n",
       "      <td>1</td>\n",
       "      <td>поселок Шушары</td>\n",
       "      <td>40.4</td>\n",
       "      <td>18.6</td>\n",
       "      <td>11.0</td>\n",
       "      <td>2.8</td>\n",
       "      <td>1</td>\n",
       "      <td>2</td>\n",
       "      <td>1</td>\n",
       "      <td>11.0</td>\n",
       "      <td>NaN</td>\n",
       "      <td>...</td>\n",
       "      <td>NaN</td>\n",
       "      <td>0.0</td>\n",
       "      <td>NaN</td>\n",
       "      <td>12.817</td>\n",
       "      <td>NaN</td>\n",
       "      <td>NaN</td>\n",
       "      <td>0.1</td>\n",
       "      <td>вторник</td>\n",
       "      <td>2018</td>\n",
       "      <td>12 - декабрь</td>\n",
       "    </tr>\n",
       "    <tr>\n",
       "      <td>2</td>\n",
       "      <td>Санкт-Петербург</td>\n",
       "      <td>56.0</td>\n",
       "      <td>34.3</td>\n",
       "      <td>8.3</td>\n",
       "      <td>2.6</td>\n",
       "      <td>2</td>\n",
       "      <td>0</td>\n",
       "      <td>4</td>\n",
       "      <td>5.0</td>\n",
       "      <td>NaN</td>\n",
       "      <td>...</td>\n",
       "      <td>90.0</td>\n",
       "      <td>2.0</td>\n",
       "      <td>574.0</td>\n",
       "      <td>21.741</td>\n",
       "      <td>0.090</td>\n",
       "      <td>0.574</td>\n",
       "      <td>0.1</td>\n",
       "      <td>четверг</td>\n",
       "      <td>2015</td>\n",
       "      <td>8 - август</td>\n",
       "    </tr>\n",
       "    <tr>\n",
       "      <td>3</td>\n",
       "      <td>Санкт-Петербург</td>\n",
       "      <td>159.0</td>\n",
       "      <td>NaN</td>\n",
       "      <td>NaN</td>\n",
       "      <td>2.6</td>\n",
       "      <td>3</td>\n",
       "      <td>0</td>\n",
       "      <td>9</td>\n",
       "      <td>14.0</td>\n",
       "      <td>NaN</td>\n",
       "      <td>...</td>\n",
       "      <td>84.0</td>\n",
       "      <td>3.0</td>\n",
       "      <td>234.0</td>\n",
       "      <td>28.098</td>\n",
       "      <td>0.084</td>\n",
       "      <td>0.234</td>\n",
       "      <td>0.4</td>\n",
       "      <td>пятница</td>\n",
       "      <td>2015</td>\n",
       "      <td>7 - июль</td>\n",
       "    </tr>\n",
       "    <tr>\n",
       "      <td>4</td>\n",
       "      <td>Санкт-Петербург</td>\n",
       "      <td>100.0</td>\n",
       "      <td>32.0</td>\n",
       "      <td>41.0</td>\n",
       "      <td>3.0</td>\n",
       "      <td>2</td>\n",
       "      <td>0</td>\n",
       "      <td>13</td>\n",
       "      <td>14.0</td>\n",
       "      <td>NaN</td>\n",
       "      <td>...</td>\n",
       "      <td>112.0</td>\n",
       "      <td>1.0</td>\n",
       "      <td>48.0</td>\n",
       "      <td>31.856</td>\n",
       "      <td>0.112</td>\n",
       "      <td>0.048</td>\n",
       "      <td>0.1</td>\n",
       "      <td>вторник</td>\n",
       "      <td>2018</td>\n",
       "      <td>6 - июнь</td>\n",
       "    </tr>\n",
       "  </tbody>\n",
       "</table>\n",
       "<p>5 rows × 29 columns</p>\n",
       "</div>"
      ],
      "text/plain": [
       "     locality_name  total_area  living_area  kitchen_area  ceiling_height  \\\n",
       "0  Санкт-Петербург       108.0         51.0          25.0             2.7   \n",
       "1   поселок Шушары        40.4         18.6          11.0             2.8   \n",
       "2  Санкт-Петербург        56.0         34.3           8.3             2.6   \n",
       "3  Санкт-Петербург       159.0          NaN           NaN             2.6   \n",
       "4  Санкт-Петербург       100.0         32.0          41.0             3.0   \n",
       "\n",
       "   rooms  balcony  floor  floors_total is_apartment  ...  parks_nearest  \\\n",
       "0      3        0      8          16.0          NaN  ...          482.0   \n",
       "1      1        2      1          11.0          NaN  ...            NaN   \n",
       "2      2        0      4           5.0          NaN  ...           90.0   \n",
       "3      3        0      9          14.0          NaN  ...           84.0   \n",
       "4      2        0     13          14.0          NaN  ...          112.0   \n",
       "\n",
       "   ponds_around3000  ponds_nearest  airports_nearest_km parks_nearest_km  \\\n",
       "0               2.0          755.0               18.863            0.482   \n",
       "1               0.0            NaN               12.817              NaN   \n",
       "2               2.0          574.0               21.741            0.090   \n",
       "3               3.0          234.0               28.098            0.084   \n",
       "4               1.0           48.0               31.856            0.112   \n",
       "\n",
       "   ponds_nearest _km  price_per_meter      day  year         month  \n",
       "0              0.755              0.1  четверг  2019      3 - март  \n",
       "1                NaN              0.1  вторник  2018  12 - декабрь  \n",
       "2              0.574              0.1  четверг  2015    8 - август  \n",
       "3              0.234              0.4  пятница  2015      7 - июль  \n",
       "4              0.048              0.1  вторник  2018      6 - июнь  \n",
       "\n",
       "[5 rows x 29 columns]"
      ]
     },
     "execution_count": 29,
     "metadata": {},
     "output_type": "execute_result"
    }
   ],
   "source": [
    "df['day'] = df['first_day_exposition'].apply(lambda x: x.isoweekday())\n",
    "dict_of_weekdays = {1: 'понедельник', 2: 'вторник', 3: 'среда', 4: 'четверг', \n",
    "                    5: 'пятница', 6: 'суббота', 7: 'воскресенье'}\n",
    "df['day'] = df['day'].map(dict_of_weekdays)\n",
    "df['year'] = df['first_day_exposition'].apply(lambda x: x.year)\n",
    "df['month'] = df['first_day_exposition'].apply(lambda x: x.month)\n",
    "dict_of_months = {1: '1 - январь', 2: '2 - февраль', 3: '3 - март', 4: '4 - апрель', \n",
    "                    5: '5 - май', 6: '6 - июнь', 7: '7 - июль', 8: '8 - август', 9: '9 - сентябрь',\n",
    "                    10: '10 - октябрь', 11: '11 - ноябрь', 12: '12 - декабрь'}\n",
    "df['month'] = df['month'].map(dict_of_months)\n",
    "df.head()"
   ]
  },
  {
   "cell_type": "markdown",
   "metadata": {},
   "source": [
    "Добавим столбец со значениями категориями по этажам (варианты: 'первый', 'последний', 'другой')."
   ]
  },
  {
   "cell_type": "code",
   "execution_count": 30,
   "metadata": {
    "scrolled": false
   },
   "outputs": [
    {
     "data": {
      "text/html": [
       "<div>\n",
       "<style scoped>\n",
       "    .dataframe tbody tr th:only-of-type {\n",
       "        vertical-align: middle;\n",
       "    }\n",
       "\n",
       "    .dataframe tbody tr th {\n",
       "        vertical-align: top;\n",
       "    }\n",
       "\n",
       "    .dataframe thead th {\n",
       "        text-align: right;\n",
       "    }\n",
       "</style>\n",
       "<table border=\"1\" class=\"dataframe\">\n",
       "  <thead>\n",
       "    <tr style=\"text-align: right;\">\n",
       "      <th></th>\n",
       "      <th>locality_name</th>\n",
       "      <th>total_area</th>\n",
       "      <th>living_area</th>\n",
       "      <th>kitchen_area</th>\n",
       "      <th>ceiling_height</th>\n",
       "      <th>rooms</th>\n",
       "      <th>balcony</th>\n",
       "      <th>floor</th>\n",
       "      <th>floors_total</th>\n",
       "      <th>is_apartment</th>\n",
       "      <th>...</th>\n",
       "      <th>ponds_around3000</th>\n",
       "      <th>ponds_nearest</th>\n",
       "      <th>airports_nearest_km</th>\n",
       "      <th>parks_nearest_km</th>\n",
       "      <th>ponds_nearest _km</th>\n",
       "      <th>price_per_meter</th>\n",
       "      <th>day</th>\n",
       "      <th>year</th>\n",
       "      <th>month</th>\n",
       "      <th>floor_status</th>\n",
       "    </tr>\n",
       "  </thead>\n",
       "  <tbody>\n",
       "    <tr>\n",
       "      <td>4693</td>\n",
       "      <td>Санкт-Петербург</td>\n",
       "      <td>44.0</td>\n",
       "      <td>29.0</td>\n",
       "      <td>5.6</td>\n",
       "      <td>2.5</td>\n",
       "      <td>2</td>\n",
       "      <td>0</td>\n",
       "      <td>1</td>\n",
       "      <td>5.0</td>\n",
       "      <td>NaN</td>\n",
       "      <td>...</td>\n",
       "      <td>0.0</td>\n",
       "      <td>NaN</td>\n",
       "      <td>15.622</td>\n",
       "      <td>0.156</td>\n",
       "      <td>NaN</td>\n",
       "      <td>0.1</td>\n",
       "      <td>пятница</td>\n",
       "      <td>2016</td>\n",
       "      <td>3 - март</td>\n",
       "      <td>первый</td>\n",
       "    </tr>\n",
       "    <tr>\n",
       "      <td>18141</td>\n",
       "      <td>Санкт-Петербург</td>\n",
       "      <td>50.0</td>\n",
       "      <td>30.4</td>\n",
       "      <td>8.0</td>\n",
       "      <td>2.6</td>\n",
       "      <td>2</td>\n",
       "      <td>0</td>\n",
       "      <td>2</td>\n",
       "      <td>14.0</td>\n",
       "      <td>False</td>\n",
       "      <td>...</td>\n",
       "      <td>1.0</td>\n",
       "      <td>692.0</td>\n",
       "      <td>51.610</td>\n",
       "      <td>NaN</td>\n",
       "      <td>0.692</td>\n",
       "      <td>0.1</td>\n",
       "      <td>среда</td>\n",
       "      <td>2017</td>\n",
       "      <td>5 - май</td>\n",
       "      <td>другой</td>\n",
       "    </tr>\n",
       "    <tr>\n",
       "      <td>5788</td>\n",
       "      <td>Санкт-Петербург</td>\n",
       "      <td>54.3</td>\n",
       "      <td>29.7</td>\n",
       "      <td>9.6</td>\n",
       "      <td>2.6</td>\n",
       "      <td>2</td>\n",
       "      <td>0</td>\n",
       "      <td>10</td>\n",
       "      <td>17.0</td>\n",
       "      <td>NaN</td>\n",
       "      <td>...</td>\n",
       "      <td>0.0</td>\n",
       "      <td>NaN</td>\n",
       "      <td>36.721</td>\n",
       "      <td>NaN</td>\n",
       "      <td>NaN</td>\n",
       "      <td>0.1</td>\n",
       "      <td>вторник</td>\n",
       "      <td>2018</td>\n",
       "      <td>11 - ноябрь</td>\n",
       "      <td>другой</td>\n",
       "    </tr>\n",
       "    <tr>\n",
       "      <td>16912</td>\n",
       "      <td>Санкт-Петербург</td>\n",
       "      <td>66.0</td>\n",
       "      <td>42.1</td>\n",
       "      <td>11.0</td>\n",
       "      <td>2.6</td>\n",
       "      <td>3</td>\n",
       "      <td>0</td>\n",
       "      <td>4</td>\n",
       "      <td>12.0</td>\n",
       "      <td>NaN</td>\n",
       "      <td>...</td>\n",
       "      <td>0.0</td>\n",
       "      <td>NaN</td>\n",
       "      <td>13.991</td>\n",
       "      <td>NaN</td>\n",
       "      <td>NaN</td>\n",
       "      <td>0.1</td>\n",
       "      <td>понедельник</td>\n",
       "      <td>2018</td>\n",
       "      <td>8 - август</td>\n",
       "      <td>другой</td>\n",
       "    </tr>\n",
       "    <tr>\n",
       "      <td>10302</td>\n",
       "      <td>Санкт-Петербург</td>\n",
       "      <td>64.0</td>\n",
       "      <td>44.0</td>\n",
       "      <td>9.0</td>\n",
       "      <td>2.7</td>\n",
       "      <td>3</td>\n",
       "      <td>0</td>\n",
       "      <td>1</td>\n",
       "      <td>4.0</td>\n",
       "      <td>NaN</td>\n",
       "      <td>...</td>\n",
       "      <td>1.0</td>\n",
       "      <td>627.0</td>\n",
       "      <td>22.562</td>\n",
       "      <td>NaN</td>\n",
       "      <td>0.627</td>\n",
       "      <td>0.2</td>\n",
       "      <td>пятница</td>\n",
       "      <td>2018</td>\n",
       "      <td>12 - декабрь</td>\n",
       "      <td>первый</td>\n",
       "    </tr>\n",
       "    <tr>\n",
       "      <td>8406</td>\n",
       "      <td>городской поселок Новоселье</td>\n",
       "      <td>36.6</td>\n",
       "      <td>16.9</td>\n",
       "      <td>10.9</td>\n",
       "      <td>2.8</td>\n",
       "      <td>1</td>\n",
       "      <td>1</td>\n",
       "      <td>11</td>\n",
       "      <td>12.0</td>\n",
       "      <td>NaN</td>\n",
       "      <td>...</td>\n",
       "      <td>NaN</td>\n",
       "      <td>NaN</td>\n",
       "      <td>NaN</td>\n",
       "      <td>NaN</td>\n",
       "      <td>NaN</td>\n",
       "      <td>0.1</td>\n",
       "      <td>понедельник</td>\n",
       "      <td>2018</td>\n",
       "      <td>3 - март</td>\n",
       "      <td>другой</td>\n",
       "    </tr>\n",
       "    <tr>\n",
       "      <td>7271</td>\n",
       "      <td>Санкт-Петербург</td>\n",
       "      <td>58.3</td>\n",
       "      <td>37.3</td>\n",
       "      <td>7.0</td>\n",
       "      <td>2.6</td>\n",
       "      <td>3</td>\n",
       "      <td>0</td>\n",
       "      <td>9</td>\n",
       "      <td>9.0</td>\n",
       "      <td>NaN</td>\n",
       "      <td>...</td>\n",
       "      <td>0.0</td>\n",
       "      <td>NaN</td>\n",
       "      <td>12.905</td>\n",
       "      <td>NaN</td>\n",
       "      <td>NaN</td>\n",
       "      <td>0.1</td>\n",
       "      <td>среда</td>\n",
       "      <td>2017</td>\n",
       "      <td>6 - июнь</td>\n",
       "      <td>последний</td>\n",
       "    </tr>\n",
       "    <tr>\n",
       "      <td>2209</td>\n",
       "      <td>Сланцы</td>\n",
       "      <td>33.0</td>\n",
       "      <td>17.0</td>\n",
       "      <td>6.5</td>\n",
       "      <td>2.5</td>\n",
       "      <td>1</td>\n",
       "      <td>1</td>\n",
       "      <td>5</td>\n",
       "      <td>5.0</td>\n",
       "      <td>False</td>\n",
       "      <td>...</td>\n",
       "      <td>NaN</td>\n",
       "      <td>NaN</td>\n",
       "      <td>NaN</td>\n",
       "      <td>NaN</td>\n",
       "      <td>NaN</td>\n",
       "      <td>0.0</td>\n",
       "      <td>среда</td>\n",
       "      <td>2016</td>\n",
       "      <td>6 - июнь</td>\n",
       "      <td>последний</td>\n",
       "    </tr>\n",
       "    <tr>\n",
       "      <td>19350</td>\n",
       "      <td>Санкт-Петербург</td>\n",
       "      <td>51.8</td>\n",
       "      <td>22.0</td>\n",
       "      <td>NaN</td>\n",
       "      <td>NaN</td>\n",
       "      <td>2</td>\n",
       "      <td>0</td>\n",
       "      <td>6</td>\n",
       "      <td>NaN</td>\n",
       "      <td>NaN</td>\n",
       "      <td>...</td>\n",
       "      <td>1.0</td>\n",
       "      <td>350.0</td>\n",
       "      <td>47.303</td>\n",
       "      <td>0.251</td>\n",
       "      <td>0.350</td>\n",
       "      <td>0.1</td>\n",
       "      <td>воскресенье</td>\n",
       "      <td>2018</td>\n",
       "      <td>11 - ноябрь</td>\n",
       "      <td>другой</td>\n",
       "    </tr>\n",
       "    <tr>\n",
       "      <td>3386</td>\n",
       "      <td>Санкт-Петербург</td>\n",
       "      <td>70.0</td>\n",
       "      <td>32.0</td>\n",
       "      <td>20.0</td>\n",
       "      <td>2.6</td>\n",
       "      <td>3</td>\n",
       "      <td>0</td>\n",
       "      <td>6</td>\n",
       "      <td>9.0</td>\n",
       "      <td>NaN</td>\n",
       "      <td>...</td>\n",
       "      <td>1.0</td>\n",
       "      <td>591.0</td>\n",
       "      <td>27.556</td>\n",
       "      <td>1.213</td>\n",
       "      <td>0.591</td>\n",
       "      <td>0.1</td>\n",
       "      <td>среда</td>\n",
       "      <td>2015</td>\n",
       "      <td>10 - октябрь</td>\n",
       "      <td>другой</td>\n",
       "    </tr>\n",
       "  </tbody>\n",
       "</table>\n",
       "<p>10 rows × 30 columns</p>\n",
       "</div>"
      ],
      "text/plain": [
       "                     locality_name  total_area  living_area  kitchen_area  \\\n",
       "4693               Санкт-Петербург        44.0         29.0           5.6   \n",
       "18141              Санкт-Петербург        50.0         30.4           8.0   \n",
       "5788               Санкт-Петербург        54.3         29.7           9.6   \n",
       "16912              Санкт-Петербург        66.0         42.1          11.0   \n",
       "10302              Санкт-Петербург        64.0         44.0           9.0   \n",
       "8406   городской поселок Новоселье        36.6         16.9          10.9   \n",
       "7271               Санкт-Петербург        58.3         37.3           7.0   \n",
       "2209                        Сланцы        33.0         17.0           6.5   \n",
       "19350              Санкт-Петербург        51.8         22.0           NaN   \n",
       "3386               Санкт-Петербург        70.0         32.0          20.0   \n",
       "\n",
       "       ceiling_height  rooms  balcony  floor  floors_total is_apartment  ...  \\\n",
       "4693              2.5      2        0      1           5.0          NaN  ...   \n",
       "18141             2.6      2        0      2          14.0        False  ...   \n",
       "5788              2.6      2        0     10          17.0          NaN  ...   \n",
       "16912             2.6      3        0      4          12.0          NaN  ...   \n",
       "10302             2.7      3        0      1           4.0          NaN  ...   \n",
       "8406              2.8      1        1     11          12.0          NaN  ...   \n",
       "7271              2.6      3        0      9           9.0          NaN  ...   \n",
       "2209              2.5      1        1      5           5.0        False  ...   \n",
       "19350             NaN      2        0      6           NaN          NaN  ...   \n",
       "3386              2.6      3        0      6           9.0          NaN  ...   \n",
       "\n",
       "       ponds_around3000  ponds_nearest  airports_nearest_km  parks_nearest_km  \\\n",
       "4693                0.0            NaN               15.622             0.156   \n",
       "18141               1.0          692.0               51.610               NaN   \n",
       "5788                0.0            NaN               36.721               NaN   \n",
       "16912               0.0            NaN               13.991               NaN   \n",
       "10302               1.0          627.0               22.562               NaN   \n",
       "8406                NaN            NaN                  NaN               NaN   \n",
       "7271                0.0            NaN               12.905               NaN   \n",
       "2209                NaN            NaN                  NaN               NaN   \n",
       "19350               1.0          350.0               47.303             0.251   \n",
       "3386                1.0          591.0               27.556             1.213   \n",
       "\n",
       "      ponds_nearest _km  price_per_meter          day  year         month  \\\n",
       "4693                NaN              0.1      пятница  2016      3 - март   \n",
       "18141             0.692              0.1        среда  2017       5 - май   \n",
       "5788                NaN              0.1      вторник  2018   11 - ноябрь   \n",
       "16912               NaN              0.1  понедельник  2018    8 - август   \n",
       "10302             0.627              0.2      пятница  2018  12 - декабрь   \n",
       "8406                NaN              0.1  понедельник  2018      3 - март   \n",
       "7271                NaN              0.1        среда  2017      6 - июнь   \n",
       "2209                NaN              0.0        среда  2016      6 - июнь   \n",
       "19350             0.350              0.1  воскресенье  2018   11 - ноябрь   \n",
       "3386              0.591              0.1        среда  2015  10 - октябрь   \n",
       "\n",
       "       floor_status  \n",
       "4693         первый  \n",
       "18141        другой  \n",
       "5788         другой  \n",
       "16912        другой  \n",
       "10302        первый  \n",
       "8406         другой  \n",
       "7271      последний  \n",
       "2209      последний  \n",
       "19350        другой  \n",
       "3386         другой  \n",
       "\n",
       "[10 rows x 30 columns]"
      ]
     },
     "execution_count": 30,
     "metadata": {},
     "output_type": "execute_result"
    }
   ],
   "source": [
    "df['floor_status'] = np.where(df['floor'] == 1, 'первый', 'другой')\n",
    "df['floor_status'] = np.where(df['floor'] == df['floors_total'], 'последний', df['floor_status'])\n",
    "df.sample(10)"
   ]
  },
  {
   "cell_type": "markdown",
   "metadata": {},
   "source": [
    "Добавим два столбца: соотношение жилой площади к общей площади, а также отношение площади кухни к общей площади. ОкруглИМ данные до 2 знаков после запятой."
   ]
  },
  {
   "cell_type": "code",
   "execution_count": 31,
   "metadata": {
    "scrolled": true
   },
   "outputs": [
    {
     "data": {
      "text/html": [
       "<div>\n",
       "<style scoped>\n",
       "    .dataframe tbody tr th:only-of-type {\n",
       "        vertical-align: middle;\n",
       "    }\n",
       "\n",
       "    .dataframe tbody tr th {\n",
       "        vertical-align: top;\n",
       "    }\n",
       "\n",
       "    .dataframe thead th {\n",
       "        text-align: right;\n",
       "    }\n",
       "</style>\n",
       "<table border=\"1\" class=\"dataframe\">\n",
       "  <thead>\n",
       "    <tr style=\"text-align: right;\">\n",
       "      <th></th>\n",
       "      <th>locality_name</th>\n",
       "      <th>total_area</th>\n",
       "      <th>living_area</th>\n",
       "      <th>kitchen_area</th>\n",
       "      <th>ceiling_height</th>\n",
       "      <th>rooms</th>\n",
       "      <th>balcony</th>\n",
       "      <th>floor</th>\n",
       "      <th>floors_total</th>\n",
       "      <th>is_apartment</th>\n",
       "      <th>...</th>\n",
       "      <th>airports_nearest_km</th>\n",
       "      <th>parks_nearest_km</th>\n",
       "      <th>ponds_nearest _km</th>\n",
       "      <th>price_per_meter</th>\n",
       "      <th>day</th>\n",
       "      <th>year</th>\n",
       "      <th>month</th>\n",
       "      <th>floor_status</th>\n",
       "      <th>living_area_part</th>\n",
       "      <th>kitchen_area_part</th>\n",
       "    </tr>\n",
       "  </thead>\n",
       "  <tbody>\n",
       "    <tr>\n",
       "      <td>0</td>\n",
       "      <td>Санкт-Петербург</td>\n",
       "      <td>108.0</td>\n",
       "      <td>51.0</td>\n",
       "      <td>25.0</td>\n",
       "      <td>2.7</td>\n",
       "      <td>3</td>\n",
       "      <td>0</td>\n",
       "      <td>8</td>\n",
       "      <td>16.0</td>\n",
       "      <td>NaN</td>\n",
       "      <td>...</td>\n",
       "      <td>18.863</td>\n",
       "      <td>0.482</td>\n",
       "      <td>0.755</td>\n",
       "      <td>0.1</td>\n",
       "      <td>четверг</td>\n",
       "      <td>2019</td>\n",
       "      <td>3 - март</td>\n",
       "      <td>другой</td>\n",
       "      <td>0.47</td>\n",
       "      <td>0.23</td>\n",
       "    </tr>\n",
       "    <tr>\n",
       "      <td>1</td>\n",
       "      <td>поселок Шушары</td>\n",
       "      <td>40.4</td>\n",
       "      <td>18.6</td>\n",
       "      <td>11.0</td>\n",
       "      <td>2.8</td>\n",
       "      <td>1</td>\n",
       "      <td>2</td>\n",
       "      <td>1</td>\n",
       "      <td>11.0</td>\n",
       "      <td>NaN</td>\n",
       "      <td>...</td>\n",
       "      <td>12.817</td>\n",
       "      <td>NaN</td>\n",
       "      <td>NaN</td>\n",
       "      <td>0.1</td>\n",
       "      <td>вторник</td>\n",
       "      <td>2018</td>\n",
       "      <td>12 - декабрь</td>\n",
       "      <td>первый</td>\n",
       "      <td>0.46</td>\n",
       "      <td>0.27</td>\n",
       "    </tr>\n",
       "    <tr>\n",
       "      <td>2</td>\n",
       "      <td>Санкт-Петербург</td>\n",
       "      <td>56.0</td>\n",
       "      <td>34.3</td>\n",
       "      <td>8.3</td>\n",
       "      <td>2.6</td>\n",
       "      <td>2</td>\n",
       "      <td>0</td>\n",
       "      <td>4</td>\n",
       "      <td>5.0</td>\n",
       "      <td>NaN</td>\n",
       "      <td>...</td>\n",
       "      <td>21.741</td>\n",
       "      <td>0.090</td>\n",
       "      <td>0.574</td>\n",
       "      <td>0.1</td>\n",
       "      <td>четверг</td>\n",
       "      <td>2015</td>\n",
       "      <td>8 - август</td>\n",
       "      <td>другой</td>\n",
       "      <td>0.61</td>\n",
       "      <td>0.15</td>\n",
       "    </tr>\n",
       "    <tr>\n",
       "      <td>3</td>\n",
       "      <td>Санкт-Петербург</td>\n",
       "      <td>159.0</td>\n",
       "      <td>NaN</td>\n",
       "      <td>NaN</td>\n",
       "      <td>2.6</td>\n",
       "      <td>3</td>\n",
       "      <td>0</td>\n",
       "      <td>9</td>\n",
       "      <td>14.0</td>\n",
       "      <td>NaN</td>\n",
       "      <td>...</td>\n",
       "      <td>28.098</td>\n",
       "      <td>0.084</td>\n",
       "      <td>0.234</td>\n",
       "      <td>0.4</td>\n",
       "      <td>пятница</td>\n",
       "      <td>2015</td>\n",
       "      <td>7 - июль</td>\n",
       "      <td>другой</td>\n",
       "      <td>NaN</td>\n",
       "      <td>NaN</td>\n",
       "    </tr>\n",
       "    <tr>\n",
       "      <td>4</td>\n",
       "      <td>Санкт-Петербург</td>\n",
       "      <td>100.0</td>\n",
       "      <td>32.0</td>\n",
       "      <td>41.0</td>\n",
       "      <td>3.0</td>\n",
       "      <td>2</td>\n",
       "      <td>0</td>\n",
       "      <td>13</td>\n",
       "      <td>14.0</td>\n",
       "      <td>NaN</td>\n",
       "      <td>...</td>\n",
       "      <td>31.856</td>\n",
       "      <td>0.112</td>\n",
       "      <td>0.048</td>\n",
       "      <td>0.1</td>\n",
       "      <td>вторник</td>\n",
       "      <td>2018</td>\n",
       "      <td>6 - июнь</td>\n",
       "      <td>другой</td>\n",
       "      <td>0.32</td>\n",
       "      <td>0.41</td>\n",
       "    </tr>\n",
       "  </tbody>\n",
       "</table>\n",
       "<p>5 rows × 32 columns</p>\n",
       "</div>"
      ],
      "text/plain": [
       "     locality_name  total_area  living_area  kitchen_area  ceiling_height  \\\n",
       "0  Санкт-Петербург       108.0         51.0          25.0             2.7   \n",
       "1   поселок Шушары        40.4         18.6          11.0             2.8   \n",
       "2  Санкт-Петербург        56.0         34.3           8.3             2.6   \n",
       "3  Санкт-Петербург       159.0          NaN           NaN             2.6   \n",
       "4  Санкт-Петербург       100.0         32.0          41.0             3.0   \n",
       "\n",
       "   rooms  balcony  floor  floors_total is_apartment  ...  airports_nearest_km  \\\n",
       "0      3        0      8          16.0          NaN  ...               18.863   \n",
       "1      1        2      1          11.0          NaN  ...               12.817   \n",
       "2      2        0      4           5.0          NaN  ...               21.741   \n",
       "3      3        0      9          14.0          NaN  ...               28.098   \n",
       "4      2        0     13          14.0          NaN  ...               31.856   \n",
       "\n",
       "   parks_nearest_km  ponds_nearest _km  price_per_meter      day  year  \\\n",
       "0             0.482              0.755              0.1  четверг  2019   \n",
       "1               NaN                NaN              0.1  вторник  2018   \n",
       "2             0.090              0.574              0.1  четверг  2015   \n",
       "3             0.084              0.234              0.4  пятница  2015   \n",
       "4             0.112              0.048              0.1  вторник  2018   \n",
       "\n",
       "          month  floor_status  living_area_part  kitchen_area_part  \n",
       "0      3 - март        другой              0.47               0.23  \n",
       "1  12 - декабрь        первый              0.46               0.27  \n",
       "2    8 - август        другой              0.61               0.15  \n",
       "3      7 - июль        другой               NaN                NaN  \n",
       "4      6 - июнь        другой              0.32               0.41  \n",
       "\n",
       "[5 rows x 32 columns]"
      ]
     },
     "execution_count": 31,
     "metadata": {},
     "output_type": "execute_result"
    }
   ],
   "source": [
    "df['living_area_part'] = df['living_area']/df['total_area']\n",
    "df['living_area_part'] = df['living_area_part'].round(2)\n",
    "df['kitchen_area_part'] = df['kitchen_area']/df['total_area']\n",
    "df['kitchen_area_part'] = df['kitchen_area_part'].round(2)\n",
    "df.head()"
   ]
  },
  {
   "cell_type": "markdown",
   "metadata": {},
   "source": [
    "Произведем категоризацию по стобцу cityCenters_nearest (расстояние до центра города (м)).\n",
    "Градировать будем так:\n",
    "\n",
    "1) Категория 'самый центр': 0-2 км от центра;\n",
    "2) Категория 'центр': 2-5 км от центра;\n",
    "3) Категория 'в пределах города': 5-17 км от центра;\n",
    "4) Категория 'пгт'> 17 км от центра. \n",
    "\n",
    "Напишем для этого функцию."
   ]
  },
  {
   "cell_type": "code",
   "execution_count": 32,
   "metadata": {},
   "outputs": [
    {
     "data": {
      "text/html": [
       "<div>\n",
       "<style scoped>\n",
       "    .dataframe tbody tr th:only-of-type {\n",
       "        vertical-align: middle;\n",
       "    }\n",
       "\n",
       "    .dataframe tbody tr th {\n",
       "        vertical-align: top;\n",
       "    }\n",
       "\n",
       "    .dataframe thead th {\n",
       "        text-align: right;\n",
       "    }\n",
       "</style>\n",
       "<table border=\"1\" class=\"dataframe\">\n",
       "  <thead>\n",
       "    <tr style=\"text-align: right;\">\n",
       "      <th></th>\n",
       "      <th>locality_name</th>\n",
       "      <th>cityCenters_nearest</th>\n",
       "      <th>fromcenter_category</th>\n",
       "    </tr>\n",
       "  </thead>\n",
       "  <tbody>\n",
       "    <tr>\n",
       "      <td>0</td>\n",
       "      <td>Санкт-Петербург</td>\n",
       "      <td>16028.0</td>\n",
       "      <td>в пределах города</td>\n",
       "    </tr>\n",
       "    <tr>\n",
       "      <td>1</td>\n",
       "      <td>поселок Шушары</td>\n",
       "      <td>18603.0</td>\n",
       "      <td>область</td>\n",
       "    </tr>\n",
       "    <tr>\n",
       "      <td>2</td>\n",
       "      <td>Санкт-Петербург</td>\n",
       "      <td>13933.0</td>\n",
       "      <td>в пределах города</td>\n",
       "    </tr>\n",
       "    <tr>\n",
       "      <td>3</td>\n",
       "      <td>Санкт-Петербург</td>\n",
       "      <td>6800.0</td>\n",
       "      <td>в пределах города</td>\n",
       "    </tr>\n",
       "    <tr>\n",
       "      <td>4</td>\n",
       "      <td>Санкт-Петербург</td>\n",
       "      <td>8098.0</td>\n",
       "      <td>в пределах города</td>\n",
       "    </tr>\n",
       "    <tr>\n",
       "      <td>5</td>\n",
       "      <td>городской поселок Янино-1</td>\n",
       "      <td>NaN</td>\n",
       "      <td>None</td>\n",
       "    </tr>\n",
       "    <tr>\n",
       "      <td>6</td>\n",
       "      <td>поселок Парголово</td>\n",
       "      <td>19143.0</td>\n",
       "      <td>область</td>\n",
       "    </tr>\n",
       "    <tr>\n",
       "      <td>7</td>\n",
       "      <td>Санкт-Петербург</td>\n",
       "      <td>11634.0</td>\n",
       "      <td>в пределах города</td>\n",
       "    </tr>\n",
       "    <tr>\n",
       "      <td>8</td>\n",
       "      <td>поселок Мурино</td>\n",
       "      <td>NaN</td>\n",
       "      <td>None</td>\n",
       "    </tr>\n",
       "    <tr>\n",
       "      <td>9</td>\n",
       "      <td>Санкт-Петербург</td>\n",
       "      <td>15008.0</td>\n",
       "      <td>в пределах города</td>\n",
       "    </tr>\n",
       "  </tbody>\n",
       "</table>\n",
       "</div>"
      ],
      "text/plain": [
       "               locality_name  cityCenters_nearest fromcenter_category\n",
       "0            Санкт-Петербург              16028.0   в пределах города\n",
       "1             поселок Шушары              18603.0             область\n",
       "2            Санкт-Петербург              13933.0   в пределах города\n",
       "3            Санкт-Петербург               6800.0   в пределах города\n",
       "4            Санкт-Петербург               8098.0   в пределах города\n",
       "5  городской поселок Янино-1                  NaN                None\n",
       "6          поселок Парголово              19143.0             область\n",
       "7            Санкт-Петербург              11634.0   в пределах города\n",
       "8             поселок Мурино                  NaN                None\n",
       "9            Санкт-Петербург              15008.0   в пределах города"
      ]
     },
     "execution_count": 32,
     "metadata": {},
     "output_type": "execute_result"
    }
   ],
   "source": [
    "def fillna_ceiling_height(row):\n",
    "    if row['cityCenters_nearest'] < 2500:\n",
    "        return 'самый центр'\n",
    "    elif row['cityCenters_nearest'] < 5000:\n",
    "        return 'центр'\n",
    "    elif row['cityCenters_nearest'] < 17000:\n",
    "        return 'в пределах города'\n",
    "    elif row['cityCenters_nearest'] >= 17000:\n",
    "        return 'область'\n",
    "\n",
    "df['fromcenter_category'] = df.apply(fillna_ceiling_height, axis=1)\n",
    "df[['locality_name', 'cityCenters_nearest', 'fromcenter_category']].head(10)"
   ]
  },
  {
   "cell_type": "markdown",
   "metadata": {},
   "source": [
    "## Исследовательский анализ данных"
   ]
  },
  {
   "cell_type": "markdown",
   "metadata": {},
   "source": [
    "### Изучите следующие параметры: площадь, цена, число комнат, высота потолков. Постройте гистограммы для каждого параметра."
   ]
  },
  {
   "cell_type": "code",
   "execution_count": 33,
   "metadata": {},
   "outputs": [
    {
     "data": {
      "text/html": [
       "<div>\n",
       "<style scoped>\n",
       "    .dataframe tbody tr th:only-of-type {\n",
       "        vertical-align: middle;\n",
       "    }\n",
       "\n",
       "    .dataframe tbody tr th {\n",
       "        vertical-align: top;\n",
       "    }\n",
       "\n",
       "    .dataframe thead th {\n",
       "        text-align: right;\n",
       "    }\n",
       "</style>\n",
       "<table border=\"1\" class=\"dataframe\">\n",
       "  <thead>\n",
       "    <tr style=\"text-align: right;\">\n",
       "      <th></th>\n",
       "      <th>total_area</th>\n",
       "      <th>last_price</th>\n",
       "      <th>rooms</th>\n",
       "      <th>ceiling_height</th>\n",
       "    </tr>\n",
       "  </thead>\n",
       "  <tbody>\n",
       "    <tr>\n",
       "      <td>count</td>\n",
       "      <td>23650.000000</td>\n",
       "      <td>23650.000000</td>\n",
       "      <td>23650.000000</td>\n",
       "      <td>23564.000000</td>\n",
       "    </tr>\n",
       "    <tr>\n",
       "      <td>mean</td>\n",
       "      <td>60.329053</td>\n",
       "      <td>6.541127</td>\n",
       "      <td>2.070106</td>\n",
       "      <td>2.747607</td>\n",
       "    </tr>\n",
       "    <tr>\n",
       "      <td>std</td>\n",
       "      <td>35.661812</td>\n",
       "      <td>10.896399</td>\n",
       "      <td>1.078620</td>\n",
       "      <td>0.996043</td>\n",
       "    </tr>\n",
       "    <tr>\n",
       "      <td>min</td>\n",
       "      <td>12.000000</td>\n",
       "      <td>0.012000</td>\n",
       "      <td>0.000000</td>\n",
       "      <td>1.000000</td>\n",
       "    </tr>\n",
       "    <tr>\n",
       "      <td>25%</td>\n",
       "      <td>40.000000</td>\n",
       "      <td>3.400000</td>\n",
       "      <td>1.000000</td>\n",
       "      <td>2.600000</td>\n",
       "    </tr>\n",
       "    <tr>\n",
       "      <td>50%</td>\n",
       "      <td>52.000000</td>\n",
       "      <td>4.650000</td>\n",
       "      <td>2.000000</td>\n",
       "      <td>2.600000</td>\n",
       "    </tr>\n",
       "    <tr>\n",
       "      <td>75%</td>\n",
       "      <td>69.700000</td>\n",
       "      <td>6.799000</td>\n",
       "      <td>3.000000</td>\n",
       "      <td>2.800000</td>\n",
       "    </tr>\n",
       "    <tr>\n",
       "      <td>max</td>\n",
       "      <td>900.000000</td>\n",
       "      <td>763.000000</td>\n",
       "      <td>19.000000</td>\n",
       "      <td>100.000000</td>\n",
       "    </tr>\n",
       "  </tbody>\n",
       "</table>\n",
       "</div>"
      ],
      "text/plain": [
       "         total_area    last_price         rooms  ceiling_height\n",
       "count  23650.000000  23650.000000  23650.000000    23564.000000\n",
       "mean      60.329053      6.541127      2.070106        2.747607\n",
       "std       35.661812     10.896399      1.078620        0.996043\n",
       "min       12.000000      0.012000      0.000000        1.000000\n",
       "25%       40.000000      3.400000      1.000000        2.600000\n",
       "50%       52.000000      4.650000      2.000000        2.600000\n",
       "75%       69.700000      6.799000      3.000000        2.800000\n",
       "max      900.000000    763.000000     19.000000      100.000000"
      ]
     },
     "execution_count": 33,
     "metadata": {},
     "output_type": "execute_result"
    }
   ],
   "source": [
    "df[['total_area', 'last_price', 'rooms', 'ceiling_height']].describe()"
   ]
  },
  {
   "cell_type": "markdown",
   "metadata": {},
   "source": [
    "# Промежуточный вывод\n",
    "\n",
    "Средняя квартира, выставленная на продажу, имеет следующие характеристики: это 2-комнатная квартира площадью 60 кв. м с потолками 2,75 м, по цене за 6,5 млн рублей.\n",
    "\n",
    "Предварительный анализ показал следующее:\n",
    "\n",
    "1. По площади имеются квартиры как 12 кв.м., так и 900 кв.м. Среднее значение составляет 60 кв. метров.\n",
    "\n",
    "2. По цене за квартиру - есть варианты и за 12 тысяч рублей, есть за 763 млн. Для любого покупателя найдется свой вариант.\n",
    "\n",
    "3. Число комнат вальвируется от 0 (студия) до 19. Возможно, это общежития или нежилые помещения.\n",
    "\n",
    "4. Высота потолков - от 1 до 100 метров."
   ]
  },
  {
   "cell_type": "code",
   "execution_count": 34,
   "metadata": {},
   "outputs": [
    {
     "data": {
      "image/png": "[encoded data removed]",
      "text/plain": [
       "<Figure size 3600x1800 with 4 Axes>"
      ]
     },
     "metadata": {
      "needs_background": "light"
     },
     "output_type": "display_data"
    }
   ],
   "source": [
    "rows = 2\n",
    "cols = 2\n",
    "fig, axes = plt.subplots(rows, cols, figsize=(50,25))\n",
    "column_list = ['total_area', 'last_price', 'rooms', 'ceiling_height']\n",
    "ylims = [600, 15, 10, 5]\n",
    "count = 0\n",
    "for r in range(rows):\n",
    "    for c in range(cols):\n",
    "        ax = df.boxplot(column=column_list[count], ax=axes[r,c], fontsize=40)\n",
    "        ax.set_ylim([0, ylims[count]])\n",
    "        count += 1"
   ]
  },
  {
   "cell_type": "markdown",
   "metadata": {},
   "source": [
    "### Изучите время продажи квартиры. Постройте гистограмму. Посчитайте среднее и медиану. Опишите, сколько обычно занимает продажа. Когда можно считать, что продажи прошли очень быстро, а когда необычно долго?"
   ]
  },
  {
   "cell_type": "code",
   "execution_count": 35,
   "metadata": {},
   "outputs": [
    {
     "data": {
      "text/html": [
       "<div>\n",
       "<style scoped>\n",
       "    .dataframe tbody tr th:only-of-type {\n",
       "        vertical-align: middle;\n",
       "    }\n",
       "\n",
       "    .dataframe tbody tr th {\n",
       "        vertical-align: top;\n",
       "    }\n",
       "\n",
       "    .dataframe thead th {\n",
       "        text-align: right;\n",
       "    }\n",
       "</style>\n",
       "<table border=\"1\" class=\"dataframe\">\n",
       "  <thead>\n",
       "    <tr style=\"text-align: right;\">\n",
       "      <th></th>\n",
       "      <th>days_exposition</th>\n",
       "    </tr>\n",
       "  </thead>\n",
       "  <tbody>\n",
       "    <tr>\n",
       "      <td>count</td>\n",
       "      <td>20470.000000</td>\n",
       "    </tr>\n",
       "    <tr>\n",
       "      <td>mean</td>\n",
       "      <td>180.753200</td>\n",
       "    </tr>\n",
       "    <tr>\n",
       "      <td>std</td>\n",
       "      <td>219.777916</td>\n",
       "    </tr>\n",
       "    <tr>\n",
       "      <td>min</td>\n",
       "      <td>1.000000</td>\n",
       "    </tr>\n",
       "    <tr>\n",
       "      <td>25%</td>\n",
       "      <td>45.000000</td>\n",
       "    </tr>\n",
       "    <tr>\n",
       "      <td>50%</td>\n",
       "      <td>95.000000</td>\n",
       "    </tr>\n",
       "    <tr>\n",
       "      <td>75%</td>\n",
       "      <td>231.000000</td>\n",
       "    </tr>\n",
       "    <tr>\n",
       "      <td>max</td>\n",
       "      <td>1580.000000</td>\n",
       "    </tr>\n",
       "  </tbody>\n",
       "</table>\n",
       "</div>"
      ],
      "text/plain": [
       "       days_exposition\n",
       "count     20470.000000\n",
       "mean        180.753200\n",
       "std         219.777916\n",
       "min           1.000000\n",
       "25%          45.000000\n",
       "50%          95.000000\n",
       "75%         231.000000\n",
       "max        1580.000000"
      ]
     },
     "execution_count": 35,
     "metadata": {},
     "output_type": "execute_result"
    }
   ],
   "source": [
    "df['days_exposition'].describe().to_frame()"
   ]
  },
  {
   "cell_type": "code",
   "execution_count": 36,
   "metadata": {},
   "outputs": [
    {
     "data": {
      "text/plain": [
       "95.0"
      ]
     },
     "execution_count": 36,
     "metadata": {},
     "output_type": "execute_result"
    }
   ],
   "source": [
    "df['days_exposition'].median()"
   ]
  },
  {
   "cell_type": "markdown",
   "metadata": {},
   "source": [
    "Среднее значение составляет 180 дней (полгода). Медианное значение 95 дней (за 3 месяца).\n",
    "Минимальное значение 1 день. Максимальное 1580 дней (что примерно составляет 4,5 года). Можно подумать, что объявление не было снято с продажи сразу, а продолжало размещаться на сайте. Что касатеельно минимального значения, словно объявление было размещено ошибочно или же это какой-то удачный случай."
   ]
  },
  {
   "cell_type": "code",
   "execution_count": 37,
   "metadata": {
    "scrolled": true
   },
   "outputs": [
    {
     "data": {
      "image/png": "[encoded data removed]",
      "text/plain": [
       "<Figure size 720x360 with 1 Axes>"
      ]
     },
     "metadata": {
      "needs_background": "light"
     },
     "output_type": "display_data"
    }
   ],
   "source": [
    "df.plot(y='days_exposition', kind='hist', color='thistle', bins=70, grid=True, figsize=(10,5), ec='black')\n",
    "plt.title('Гистограмма срока публикации')\n",
    "plt.xlabel('Срок размещения публикации, дней')\n",
    "_ = plt.ylabel('Частота')"
   ]
  },
  {
   "cell_type": "markdown",
   "metadata": {},
   "source": [
    "Большая часть квартир продавалась в течение первых 50 дней. Так же есть и сроков до года. Чем дальше совершала продажа, тем реже встречаются такие случаи."
   ]
  },
  {
   "cell_type": "code",
   "execution_count": 38,
   "metadata": {},
   "outputs": [
    {
     "data": {
      "image/png": "[encoded data removed]",
      "text/plain": [
       "<Figure size 720x216 with 1 Axes>"
      ]
     },
     "metadata": {
      "needs_background": "light"
     },
     "output_type": "display_data"
    }
   ],
   "source": [
    "df.query('days_exposition<500')['days_exposition'].plot(y='days_exposition', kind='hist',color='thistle', bins=70, \n",
    "                                                        grid=True, figsize=(10,3), ec='black')\n",
    "plt.title('Гистограмма срока публикации до 500 дней')\n",
    "plt.xlabel('Срок размещения публикации, дней')\n",
    "_ = plt.ylabel('Частота')"
   ]
  },
  {
   "cell_type": "markdown",
   "metadata": {},
   "source": [
    "Можем убедится, что все осталось прежним. Что сделать вывод, что наиболее часто совершаемые продажи в срок от 45 до 60 дней. Рассмотрим данные значения по ближе."
   ]
  },
  {
   "cell_type": "code",
   "execution_count": 39,
   "metadata": {},
   "outputs": [
    {
     "data": {
      "image/png": "[encoded data removed]",
      "text/plain": [
       "<Figure size 720x216 with 1 Axes>"
      ]
     },
     "metadata": {
      "needs_background": "light"
     },
     "output_type": "display_data"
    }
   ],
   "source": [
    "df.query('40<days_exposition<65')['days_exposition'].plot(y='days_exposition', kind='hist',color='thistle', bins=70, \n",
    "                                                        grid=True, figsize=(10,3), ec='black')\n",
    "plt.title('Гистограмма срока публикации до 60 дней')\n",
    "plt.xlabel('Срок размещения публикации, дней')\n",
    "_ = plt.ylabel('Частота')"
   ]
  },
  {
   "cell_type": "code",
   "execution_count": 40,
   "metadata": {},
   "outputs": [
    {
     "data": {
      "image/png": "[encoded data removed]",
      "text/plain": [
       "<Figure size 720x216 with 1 Axes>"
      ]
     },
     "metadata": {
      "needs_background": "light"
     },
     "output_type": "display_data"
    }
   ],
   "source": [
    "df.query('15<days_exposition<65')['days_exposition'].plot(y='days_exposition', kind='hist', color='thistle', bins=70, \n",
    "                                                        grid=True, figsize=(10,3), ec='black')\n",
    "plt.title('Гистограмма срока публикации до 60 дней')\n",
    "plt.xlabel('Срок размещения публикации, дней')\n",
    "_ = plt.ylabel('Частота')"
   ]
  },
  {
   "cell_type": "markdown",
   "metadata": {},
   "source": [
    "# Промежуточный вывод:\n",
    "Можно заметить, что резкий пик приходиться на каждые 15 дней. Вполне возможно, что сделки закрываются следующим образом: раз в 15 дней или на почту продавцу приходит вопрос, продал ли он квартиру, он заходит и делает соответствующую пометку, или ему звонит оператор и по телефону задает тот же вопрос и закрывает/не закрывает объявление согласно полученной информации. Таким образом, учитывая то, что многие самостоятельно не закрывают объявления, что большая часть квартир продается в пределах 60 дней с момента публикации объявления и что проверка производится раз в 15 дней, имеем такие вот данные."
   ]
  },
  {
   "cell_type": "markdown",
   "metadata": {},
   "source": [
    "### Уберите редкие и выбивающиеся значения. Опишите, какие особенности обнаружили."
   ]
  },
  {
   "cell_type": "markdown",
   "metadata": {},
   "source": [
    "Напишем функцию для удаления выбросов."
   ]
  },
  {
   "cell_type": "code",
   "execution_count": 41,
   "metadata": {},
   "outputs": [],
   "source": [
    "def delete_outliers(df, column,graphic=0,x=10,y=10):\n",
    "    q1 = df[column].quantile(0.25)                 \n",
    "    q3 = df[column].quantile(0.75)\n",
    "    iqr = q3 - q1\n",
    "    filter_df = (df[column] >= (q1 - 1.5*iqr)) & (df[column] <= (q3 + 1.5*iqr))\n",
    "    if graphic == 1:\n",
    "        return df.loc[filter_df].boxplot([column], figsize=(x,y))\n",
    "    else:\n",
    "        return df.loc[filter_df]"
   ]
  },
  {
   "cell_type": "markdown",
   "metadata": {},
   "source": [
    "### Какие факторы больше всего влияют на стоимость квартиры? Изучите, зависит ли цена от площади, числа комнат, удаленности от центра. Изучите зависимость цена от того, на каком этаже расположена квартира: первом, последнем или другом. Также изучите зависимость от даты размещения: дня, недели, месяца или года."
   ]
  },
  {
   "cell_type": "code",
   "execution_count": 42,
   "metadata": {},
   "outputs": [
    {
     "data": {
      "text/html": [
       "<style  type=\"text/css\" >\n",
       "    #T_e59bb7cc_9ea0_11eb_a691_02420a39091erow0_col0 {\n",
       "            background-color:  #b40426;\n",
       "            color:  #f1f1f1;\n",
       "        }    #T_e59bb7cc_9ea0_11eb_a691_02420a39091erow0_col1 {\n",
       "            background-color:  #cad8ef;\n",
       "            color:  #000000;\n",
       "        }    #T_e59bb7cc_9ea0_11eb_a691_02420a39091erow0_col2 {\n",
       "            background-color:  #5a78e4;\n",
       "            color:  #000000;\n",
       "        }    #T_e59bb7cc_9ea0_11eb_a691_02420a39091erow0_col3 {\n",
       "            background-color:  #4055c8;\n",
       "            color:  #f1f1f1;\n",
       "        }    #T_e59bb7cc_9ea0_11eb_a691_02420a39091erow0_col4 {\n",
       "            background-color:  #80a3fa;\n",
       "            color:  #000000;\n",
       "        }    #T_e59bb7cc_9ea0_11eb_a691_02420a39091erow0_col5 {\n",
       "            background-color:  #86a9fc;\n",
       "            color:  #000000;\n",
       "        }    #T_e59bb7cc_9ea0_11eb_a691_02420a39091erow1_col0 {\n",
       "            background-color:  #c6d6f1;\n",
       "            color:  #000000;\n",
       "        }    #T_e59bb7cc_9ea0_11eb_a691_02420a39091erow1_col1 {\n",
       "            background-color:  #b40426;\n",
       "            color:  #f1f1f1;\n",
       "        }    #T_e59bb7cc_9ea0_11eb_a691_02420a39091erow1_col2 {\n",
       "            background-color:  #7a9df8;\n",
       "            color:  #000000;\n",
       "        }    #T_e59bb7cc_9ea0_11eb_a691_02420a39091erow1_col3 {\n",
       "            background-color:  #3b4cc0;\n",
       "            color:  #f1f1f1;\n",
       "        }    #T_e59bb7cc_9ea0_11eb_a691_02420a39091erow1_col4 {\n",
       "            background-color:  #5d7ce6;\n",
       "            color:  #000000;\n",
       "        }    #T_e59bb7cc_9ea0_11eb_a691_02420a39091erow1_col5 {\n",
       "            background-color:  #ee8669;\n",
       "            color:  #000000;\n",
       "        }    #T_e59bb7cc_9ea0_11eb_a691_02420a39091erow2_col0 {\n",
       "            background-color:  #80a3fa;\n",
       "            color:  #000000;\n",
       "        }    #T_e59bb7cc_9ea0_11eb_a691_02420a39091erow2_col1 {\n",
       "            background-color:  #a2c1ff;\n",
       "            color:  #000000;\n",
       "        }    #T_e59bb7cc_9ea0_11eb_a691_02420a39091erow2_col2 {\n",
       "            background-color:  #b40426;\n",
       "            color:  #f1f1f1;\n",
       "        }    #T_e59bb7cc_9ea0_11eb_a691_02420a39091erow2_col3 {\n",
       "            background-color:  #6687ed;\n",
       "            color:  #000000;\n",
       "        }    #T_e59bb7cc_9ea0_11eb_a691_02420a39091erow2_col4 {\n",
       "            background-color:  #5875e1;\n",
       "            color:  #000000;\n",
       "        }    #T_e59bb7cc_9ea0_11eb_a691_02420a39091erow2_col5 {\n",
       "            background-color:  #92b4fe;\n",
       "            color:  #000000;\n",
       "        }    #T_e59bb7cc_9ea0_11eb_a691_02420a39091erow3_col0 {\n",
       "            background-color:  #3b4cc0;\n",
       "            color:  #f1f1f1;\n",
       "        }    #T_e59bb7cc_9ea0_11eb_a691_02420a39091erow3_col1 {\n",
       "            background-color:  #3b4cc0;\n",
       "            color:  #f1f1f1;\n",
       "        }    #T_e59bb7cc_9ea0_11eb_a691_02420a39091erow3_col2 {\n",
       "            background-color:  #3b4cc0;\n",
       "            color:  #f1f1f1;\n",
       "        }    #T_e59bb7cc_9ea0_11eb_a691_02420a39091erow3_col3 {\n",
       "            background-color:  #b40426;\n",
       "            color:  #f1f1f1;\n",
       "        }    #T_e59bb7cc_9ea0_11eb_a691_02420a39091erow3_col4 {\n",
       "            background-color:  #6687ed;\n",
       "            color:  #000000;\n",
       "        }    #T_e59bb7cc_9ea0_11eb_a691_02420a39091erow3_col5 {\n",
       "            background-color:  #3b4cc0;\n",
       "            color:  #f1f1f1;\n",
       "        }    #T_e59bb7cc_9ea0_11eb_a691_02420a39091erow4_col0 {\n",
       "            background-color:  #8db0fe;\n",
       "            color:  #000000;\n",
       "        }    #T_e59bb7cc_9ea0_11eb_a691_02420a39091erow4_col1 {\n",
       "            background-color:  #7093f3;\n",
       "            color:  #000000;\n",
       "        }    #T_e59bb7cc_9ea0_11eb_a691_02420a39091erow4_col2 {\n",
       "            background-color:  #3f53c6;\n",
       "            color:  #f1f1f1;\n",
       "        }    #T_e59bb7cc_9ea0_11eb_a691_02420a39091erow4_col3 {\n",
       "            background-color:  #799cf8;\n",
       "            color:  #000000;\n",
       "        }    #T_e59bb7cc_9ea0_11eb_a691_02420a39091erow4_col4 {\n",
       "            background-color:  #b40426;\n",
       "            color:  #f1f1f1;\n",
       "        }    #T_e59bb7cc_9ea0_11eb_a691_02420a39091erow4_col5 {\n",
       "            background-color:  #4358cb;\n",
       "            color:  #f1f1f1;\n",
       "        }    #T_e59bb7cc_9ea0_11eb_a691_02420a39091erow5_col0 {\n",
       "            background-color:  #8caffe;\n",
       "            color:  #000000;\n",
       "        }    #T_e59bb7cc_9ea0_11eb_a691_02420a39091erow5_col1 {\n",
       "            background-color:  #ed8366;\n",
       "            color:  #000000;\n",
       "        }    #T_e59bb7cc_9ea0_11eb_a691_02420a39091erow5_col2 {\n",
       "            background-color:  #7295f4;\n",
       "            color:  #000000;\n",
       "        }    #T_e59bb7cc_9ea0_11eb_a691_02420a39091erow5_col3 {\n",
       "            background-color:  #455cce;\n",
       "            color:  #f1f1f1;\n",
       "        }    #T_e59bb7cc_9ea0_11eb_a691_02420a39091erow5_col4 {\n",
       "            background-color:  #3b4cc0;\n",
       "            color:  #f1f1f1;\n",
       "        }    #T_e59bb7cc_9ea0_11eb_a691_02420a39091erow5_col5 {\n",
       "            background-color:  #b40426;\n",
       "            color:  #f1f1f1;\n",
       "        }</style><table id=\"T_e59bb7cc_9ea0_11eb_a691_02420a39091e\" ><thead>    <tr>        <th class=\"blank level0\" ></th>        <th class=\"col_heading level0 col0\" >price_per_meter</th>        <th class=\"col_heading level0 col1\" >total_area</th>        <th class=\"col_heading level0 col2\" >days_exposition</th>        <th class=\"col_heading level0 col3\" >cityCenters_nearest</th>        <th class=\"col_heading level0 col4\" >floor</th>        <th class=\"col_heading level0 col5\" >rooms</th>    </tr></thead><tbody>\n",
       "                <tr>\n",
       "                        <th id=\"T_e59bb7cc_9ea0_11eb_a691_02420a39091elevel0_row0\" class=\"row_heading level0 row0\" >price_per_meter</th>\n",
       "                        <td id=\"T_e59bb7cc_9ea0_11eb_a691_02420a39091erow0_col0\" class=\"data row0 col0\" >1</td>\n",
       "                        <td id=\"T_e59bb7cc_9ea0_11eb_a691_02420a39091erow0_col1\" class=\"data row0 col1\" >0.299377</td>\n",
       "                        <td id=\"T_e59bb7cc_9ea0_11eb_a691_02420a39091erow0_col2\" class=\"data row0 col2\" >0.0505804</td>\n",
       "                        <td id=\"T_e59bb7cc_9ea0_11eb_a691_02420a39091erow0_col3\" class=\"data row0 col3\" >-0.205256</td>\n",
       "                        <td id=\"T_e59bb7cc_9ea0_11eb_a691_02420a39091erow0_col4\" class=\"data row0 col4\" >0.0961848</td>\n",
       "                        <td id=\"T_e59bb7cc_9ea0_11eb_a691_02420a39091erow0_col5\" class=\"data row0 col5\" >0.09317</td>\n",
       "            </tr>\n",
       "            <tr>\n",
       "                        <th id=\"T_e59bb7cc_9ea0_11eb_a691_02420a39091elevel0_row1\" class=\"row_heading level0 row1\" >total_area</th>\n",
       "                        <td id=\"T_e59bb7cc_9ea0_11eb_a691_02420a39091erow1_col0\" class=\"data row1 col0\" >0.299377</td>\n",
       "                        <td id=\"T_e59bb7cc_9ea0_11eb_a691_02420a39091erow1_col1\" class=\"data row1 col1\" >1</td>\n",
       "                        <td id=\"T_e59bb7cc_9ea0_11eb_a691_02420a39091erow1_col2\" class=\"data row1 col2\" >0.149571</td>\n",
       "                        <td id=\"T_e59bb7cc_9ea0_11eb_a691_02420a39091erow1_col3\" class=\"data row1 col3\" >-0.231905</td>\n",
       "                        <td id=\"T_e59bb7cc_9ea0_11eb_a691_02420a39091erow1_col4\" class=\"data row1 col4\" >-0.0241766</td>\n",
       "                        <td id=\"T_e59bb7cc_9ea0_11eb_a691_02420a39091erow1_col5\" class=\"data row1 col5\" >0.758744</td>\n",
       "            </tr>\n",
       "            <tr>\n",
       "                        <th id=\"T_e59bb7cc_9ea0_11eb_a691_02420a39091elevel0_row2\" class=\"row_heading level0 row2\" >days_exposition</th>\n",
       "                        <td id=\"T_e59bb7cc_9ea0_11eb_a691_02420a39091erow2_col0\" class=\"data row2 col0\" >0.0505804</td>\n",
       "                        <td id=\"T_e59bb7cc_9ea0_11eb_a691_02420a39091erow2_col1\" class=\"data row2 col1\" >0.149571</td>\n",
       "                        <td id=\"T_e59bb7cc_9ea0_11eb_a691_02420a39091erow2_col2\" class=\"data row2 col2\" >1</td>\n",
       "                        <td id=\"T_e59bb7cc_9ea0_11eb_a691_02420a39091erow2_col3\" class=\"data row2 col3\" >-0.0594809</td>\n",
       "                        <td id=\"T_e59bb7cc_9ea0_11eb_a691_02420a39091erow2_col4\" class=\"data row2 col4\" >-0.0395008</td>\n",
       "                        <td id=\"T_e59bb7cc_9ea0_11eb_a691_02420a39091erow2_col5\" class=\"data row2 col5\" >0.126497</td>\n",
       "            </tr>\n",
       "            <tr>\n",
       "                        <th id=\"T_e59bb7cc_9ea0_11eb_a691_02420a39091elevel0_row3\" class=\"row_heading level0 row3\" >cityCenters_nearest</th>\n",
       "                        <td id=\"T_e59bb7cc_9ea0_11eb_a691_02420a39091erow3_col0\" class=\"data row3 col0\" >-0.205256</td>\n",
       "                        <td id=\"T_e59bb7cc_9ea0_11eb_a691_02420a39091erow3_col1\" class=\"data row3 col1\" >-0.231905</td>\n",
       "                        <td id=\"T_e59bb7cc_9ea0_11eb_a691_02420a39091erow3_col2\" class=\"data row3 col2\" >-0.0594809</td>\n",
       "                        <td id=\"T_e59bb7cc_9ea0_11eb_a691_02420a39091erow3_col3\" class=\"data row3 col3\" >1</td>\n",
       "                        <td id=\"T_e59bb7cc_9ea0_11eb_a691_02420a39091erow3_col4\" class=\"data row3 col4\" >0.00850813</td>\n",
       "                        <td id=\"T_e59bb7cc_9ea0_11eb_a691_02420a39091erow3_col5\" class=\"data row3 col5\" >-0.184322</td>\n",
       "            </tr>\n",
       "            <tr>\n",
       "                        <th id=\"T_e59bb7cc_9ea0_11eb_a691_02420a39091elevel0_row4\" class=\"row_heading level0 row4\" >floor</th>\n",
       "                        <td id=\"T_e59bb7cc_9ea0_11eb_a691_02420a39091erow4_col0\" class=\"data row4 col0\" >0.0961848</td>\n",
       "                        <td id=\"T_e59bb7cc_9ea0_11eb_a691_02420a39091erow4_col1\" class=\"data row4 col1\" >-0.0241766</td>\n",
       "                        <td id=\"T_e59bb7cc_9ea0_11eb_a691_02420a39091erow4_col2\" class=\"data row4 col2\" >-0.0395008</td>\n",
       "                        <td id=\"T_e59bb7cc_9ea0_11eb_a691_02420a39091erow4_col3\" class=\"data row4 col3\" >0.00850813</td>\n",
       "                        <td id=\"T_e59bb7cc_9ea0_11eb_a691_02420a39091erow4_col4\" class=\"data row4 col4\" >1</td>\n",
       "                        <td id=\"T_e59bb7cc_9ea0_11eb_a691_02420a39091erow4_col5\" class=\"data row4 col5\" >-0.150604</td>\n",
       "            </tr>\n",
       "            <tr>\n",
       "                        <th id=\"T_e59bb7cc_9ea0_11eb_a691_02420a39091elevel0_row5\" class=\"row_heading level0 row5\" >rooms</th>\n",
       "                        <td id=\"T_e59bb7cc_9ea0_11eb_a691_02420a39091erow5_col0\" class=\"data row5 col0\" >0.09317</td>\n",
       "                        <td id=\"T_e59bb7cc_9ea0_11eb_a691_02420a39091erow5_col1\" class=\"data row5 col1\" >0.758744</td>\n",
       "                        <td id=\"T_e59bb7cc_9ea0_11eb_a691_02420a39091erow5_col2\" class=\"data row5 col2\" >0.126497</td>\n",
       "                        <td id=\"T_e59bb7cc_9ea0_11eb_a691_02420a39091erow5_col3\" class=\"data row5 col3\" >-0.184322</td>\n",
       "                        <td id=\"T_e59bb7cc_9ea0_11eb_a691_02420a39091erow5_col4\" class=\"data row5 col4\" >-0.150604</td>\n",
       "                        <td id=\"T_e59bb7cc_9ea0_11eb_a691_02420a39091erow5_col5\" class=\"data row5 col5\" >1</td>\n",
       "            </tr>\n",
       "    </tbody></table>"
      ],
      "text/plain": [
       "<pandas.io.formats.style.Styler at 0x7fb2c2f9d290>"
      ]
     },
     "execution_count": 42,
     "metadata": {},
     "output_type": "execute_result"
    }
   ],
   "source": [
    "corr = df[['price_per_meter',\\\n",
    "           'total_area',\\\n",
    "           'days_exposition',\\\n",
    "           'cityCenters_nearest',\\\n",
    "           'floor',\\\n",
    "           'rooms']].corr()\n",
    "corr.style.background_gradient(cmap='coolwarm')"
   ]
  },
  {
   "cell_type": "markdown",
   "metadata": {},
   "source": [
    "# Промежуточный вывод\n",
    "Факторы, влияющие на стоимость квартиры:\n",
    "\n",
    "1. Наиболее сильная корреляция наблюдается между стоимостью за 1 кв. метр квартиры и площадью квартиры в кв. метрах. А также между стоимостью за 1 кв. метр квартиры и количеством комнат, чем их больше, тем квартира дороже.\n",
    "\n",
    "2. Также отрицательная корреляция между стоимостью за 1 кв. метр и расстонием до центра города тоже имеет место быть.\n",
    "\n",
    "3. В тоже время на стоимость за 1 кв. метр влияет на каком эатже находиться квартира. На первом или последнем этаже квартиры обычно продаются по более низкой цене, чем квартиры на других этажах.\n",
    "\n",
    "4. Дата публикации объявления не играют столь значимой роли на стоимость 1 кв. метра, по которой объект недвижимости будет продан. "
   ]
  },
  {
   "cell_type": "markdown",
   "metadata": {},
   "source": [
    "Напишем функцию для более удобного составления графиков в изучении факторов, что больше всего влияют на стоимость квартиры."
   ]
  },
  {
   "cell_type": "code",
   "execution_count": 43,
   "metadata": {},
   "outputs": [],
   "source": [
    "def depend_price(df, column):\n",
    "    title_dict = {'rooms': 'Зависимость цены от количества комнат','floor_status': 'Зависимость цены от этажа',\n",
    "                  'fromcenter_category': 'Зависимость цены от удаленности от центра города',\n",
    "                  'day':'Медиана цен по дням недели', 'month': 'Медиана цен по месяцам',\n",
    "                  'year': 'Медиана цен по годам', \n",
    "                  'cityCenters_nearest_kms': 'Зависимость цены от удаленности от центра города'}\n",
    "    plt.style.use('seaborn-pastel')\n",
    "    if column == 'floor_status' or column == 'fromcenter_category':\n",
    "        sort_key = 'last_price'\n",
    "    else:\n",
    "        sort_key = column\n",
    "    if column == 'fromcenter_category':\n",
    "        fontsize = 12\n",
    "    else:\n",
    "        fontsize = 15\n",
    "    df_filtered = df.groupby(column).median()['last_price'].reset_index().sort_values(by=sort_key)\n",
    "    plot = df_filtered.plot(x=column, y=\"last_price\", kind='bar', color='thistle', ec='black', \n",
    "                            title=title_dict[column], legend=None, \n",
    "                            fontsize=fontsize, figsize=(9,4))\n",
    "    ax2 = plt.gca()  # удалим xlabel - у нас и так есть многоговорящее название графика\n",
    "    x_axis = ax2.xaxis\n",
    "    x_axis.label.set_visible(False)\n",
    "    if column != 'cityCenters_nearest_kms':\n",
    "        plt.xticks(rotation=0)\n",
    "    return plot"
   ]
  },
  {
   "cell_type": "markdown",
   "metadata": {},
   "source": [
    "Рассмотрим зависимость стоимости квартир от количества комнат."
   ]
  },
  {
   "cell_type": "code",
   "execution_count": 44,
   "metadata": {},
   "outputs": [
    {
     "data": {
      "text/plain": [
       "<matplotlib.axes._subplots.AxesSubplot at 0x7fb2b99b8e10>"
      ]
     },
     "execution_count": 44,
     "metadata": {},
     "output_type": "execute_result"
    },
    {
     "data": {
      "image/png": "[encoded data removed]",
      "text/plain": [
       "<Figure size 648x288 with 1 Axes>"
      ]
     },
     "metadata": {
      "needs_background": "light"
     },
     "output_type": "display_data"
    }
   ],
   "source": [
    "depend_price(df, 'rooms')"
   ]
  },
  {
   "cell_type": "markdown",
   "metadata": {},
   "source": [
    "Рассмотрим более ближе выбросы."
   ]
  },
  {
   "cell_type": "code",
   "execution_count": 45,
   "metadata": {},
   "outputs": [
    {
     "data": {
      "text/plain": [
       "<matplotlib.axes._subplots.AxesSubplot at 0x7fb2c3f76850>"
      ]
     },
     "execution_count": 45,
     "metadata": {},
     "output_type": "execute_result"
    },
    {
     "data": {
      "image/png": "[encoded data removed]",
      "text/plain": [
       "<Figure size 432x288 with 1 Axes>"
      ]
     },
     "metadata": {
      "needs_background": "light"
     },
     "output_type": "display_data"
    }
   ],
   "source": [
    "df.boxplot(column='rooms')"
   ]
  },
  {
   "cell_type": "markdown",
   "metadata": {},
   "source": [
    "Рассмотрим без выбросов."
   ]
  },
  {
   "cell_type": "code",
   "execution_count": 46,
   "metadata": {},
   "outputs": [
    {
     "data": {
      "text/plain": [
       "<matplotlib.axes._subplots.AxesSubplot at 0x7fb32cc21d50>"
      ]
     },
     "execution_count": 46,
     "metadata": {},
     "output_type": "execute_result"
    },
    {
     "data": {
      "image/png": "[encoded data removed]",
      "text/plain": [
       "<Figure size 648x288 with 1 Axes>"
      ]
     },
     "metadata": {
      "needs_background": "light"
     },
     "output_type": "display_data"
    }
   ],
   "source": [
    "depend_price(df.query('rooms <= 6'), 'rooms')"
   ]
  },
  {
   "cell_type": "markdown",
   "metadata": {},
   "source": [
    "# Промежуточный вывод\n",
    "Исходя из данных графиков можно заключить, что чем больше комнат, тем выше цена. \n",
    "Но это продолжается, пока число не превышает 6 комнат: 7- или 8-комнатные квартиры могут быть проданы дешевле 6-комнатных, и вызвано это скорее всего отсутствием спроса. Вполне возможно, что дальше идут бывшие коммуналки на продажу.\n",
    "\n",
    "Рассмотрим зависимость стоимости квартир от этажа."
   ]
  },
  {
   "cell_type": "code",
   "execution_count": 47,
   "metadata": {},
   "outputs": [
    {
     "data": {
      "text/plain": [
       "<matplotlib.axes._subplots.AxesSubplot at 0x7fb32cc42210>"
      ]
     },
     "execution_count": 47,
     "metadata": {},
     "output_type": "execute_result"
    },
    {
     "data": {
      "image/png": "[encoded data removed]",
      "text/plain": [
       "<Figure size 648x288 with 1 Axes>"
      ]
     },
     "metadata": {
      "needs_background": "light"
     },
     "output_type": "display_data"
    }
   ],
   "source": [
    "depend_price(df, 'floor_status')"
   ]
  },
  {
   "cell_type": "markdown",
   "metadata": {},
   "source": [
    "# Промежуточный вывод\n",
    "Стоимость квартир на 1ом этаже примерно на 20% ниже, чем стоимость квартир, расположенных на других этажах, кроме последнего. На последнем этаже, стоимость квартир выше, чем на 1ом и других этажах.\n",
    "\n",
    "Рассмотрим зависимость стоимости квартир от удаленности от центра города. Воспользуемся ранее созданными категориями по столбцу cityCenter_category (расстояние от центра города (м))."
   ]
  },
  {
   "cell_type": "code",
   "execution_count": 48,
   "metadata": {},
   "outputs": [
    {
     "data": {
      "text/plain": [
       "<matplotlib.axes._subplots.AxesSubplot at 0x7fb32ca74350>"
      ]
     },
     "execution_count": 48,
     "metadata": {},
     "output_type": "execute_result"
    },
    {
     "data": {
      "image/png": "[encoded data removed]",
      "text/plain": [
       "<Figure size 648x288 with 1 Axes>"
      ]
     },
     "metadata": {
      "needs_background": "light"
     },
     "output_type": "display_data"
    }
   ],
   "source": [
    "depend_price(df, 'fromcenter_category')"
   ]
  },
  {
   "cell_type": "markdown",
   "metadata": {},
   "source": [
    "График подтвердил реальное положение дел: чем дальше от города, тем дешевле.\n",
    "\n",
    "Рассмотрим зависимость стоимости квартир от дня недели, месяца и года публикаци объявления. Построим графики зависимость, но для этого напишем функцию."
   ]
  },
  {
   "cell_type": "code",
   "execution_count": 49,
   "metadata": {},
   "outputs": [],
   "source": [
    "def dmy_price(df, ylims=None):\n",
    "    dmy_to_plot = ['day', 'month', 'year']\n",
    "    titles = ['Медиана цен по дню недели', 'Медиана цен по месяцу', 'Медиана цен по году']\n",
    "\n",
    "    for i in range(len(dmy_to_plot)):\n",
    "        df_to_plot = df.groupby(dmy_to_plot[i]).median()['last_price'].reset_index().sort_values(by=dmy_to_plot[i])\n",
    "        if ylims is None:\n",
    "            plot = df_to_plot.plot(x=dmy_to_plot[i], y=\"last_price\", kind='bar', figsize=(10,5), color='thistle', ec='black',\n",
    "                                   legend=False, title=titles[i], fontsize=15)\n",
    "        else:\n",
    "            plot = df_to_plot.plot(x=dmy_to_plot[i], y=\"last_price\", kind='bar', figsize=(10,5), color='thistle', ec='black',\n",
    "                               legend=False, title=titles[i], fontsize=15, ylim=ylims[i])\n",
    "        ax2 = plt.gca()\n",
    "        x_axis = ax2.xaxis\n",
    "        x_axis.label.set_visible(False)\n",
    "        if dmy_to_plot[i] != 'day':\n",
    "            plt.xticks(rotation=0)\n",
    "    return plot"
   ]
  },
  {
   "cell_type": "code",
   "execution_count": 50,
   "metadata": {
    "scrolled": true
   },
   "outputs": [
    {
     "data": {
      "text/plain": [
       "<matplotlib.axes._subplots.AxesSubplot at 0x7fb2c2f4efd0>"
      ]
     },
     "execution_count": 50,
     "metadata": {},
     "output_type": "execute_result"
    },
    {
     "data": {
      "image/png": "[encoded data removed]",
      "text/plain": [
       "<Figure size 720x360 with 1 Axes>"
      ]
     },
     "metadata": {
      "needs_background": "light"
     },
     "output_type": "display_data"
    },
    {
     "data": {
      "image/png": "[encoded data removed]",
      "text/plain": [
       "<Figure size 720x360 with 1 Axes>"
      ]
     },
     "metadata": {
      "needs_background": "light"
     },
     "output_type": "display_data"
    },
    {
     "data": {
      "image/png": "[encoded data removed]",
      "text/plain": [
       "<Figure size 720x360 with 1 Axes>"
      ]
     },
     "metadata": {
      "needs_background": "light"
     },
     "output_type": "display_data"
    }
   ],
   "source": [
    "dmy_price(df)"
   ]
  },
  {
   "cell_type": "markdown",
   "metadata": {},
   "source": [
    "# Промежуточный вывод\n",
    "Зависимость стоимости квартир от дня недели публикации не наблюдается. Можно отметить, что объявления опубликованные в будние дени имеется чуть выше стоимость, чем объявления размещенные в выходные дни.\n",
    "\n",
    "Зависимость стоимости квартир от месяца публикации. Чьи объявления о продаже были опубликованы в месяце - Апрель, имеют более высокие показатели, чем по остальным месяцам. В особенности можно выделить стоимость на квартиры в месяце - Июнь.\n",
    "По июньским объявлениям - довольно низкие показатели в сравнении с другими месяцами.\n",
    "\n",
    "Зависимость стоимости квартир от года публикации. В 2014 году наблюдается высокий показатель в сравнении с остальными года.\n",
    "Рассмотрим данную зависимость подробней, по месяцам в 2014 году."
   ]
  },
  {
   "cell_type": "code",
   "execution_count": 51,
   "metadata": {},
   "outputs": [
    {
     "data": {
      "text/plain": [
       "<matplotlib.axes._subplots.AxesSubplot at 0x7fb32cad5450>"
      ]
     },
     "execution_count": 51,
     "metadata": {},
     "output_type": "execute_result"
    },
    {
     "data": {
      "image/png": "[encoded data removed]",
      "text/plain": [
       "<Figure size 648x288 with 1 Axes>"
      ]
     },
     "metadata": {
      "needs_background": "light"
     },
     "output_type": "display_data"
    }
   ],
   "source": [
    "depend_price(df.query('year == 2014'), 'month')"
   ]
  },
  {
   "cell_type": "markdown",
   "metadata": {},
   "source": [
    "# Промежуточный вывод\n",
    "Можем заметить, что имеется информация только за Ноябрь и Декабрь в 2014 году. Можно предположить, что столь высокие цены были вызваны высоким спрос на рынке недвижимости, вызванным ослаблением рубля. По этой причине, спрос мог превышать предложение - этим вызваны такие цены на недвижимость.\n",
    "К декабрю наблюдается спад. Декабрь является предновогодним месяцем. Этим объясняется данный спад.\n",
    "Если обратить внимание на предшествующий график, мы видим, что к 2019 году стоимость на недвижиомсть имеет тенденцию в росте. Можно предположить, что после 5 лет застоя у граждан появилась внвоь возможность. Тем самым рост спроса объясняет рост цен на недвижимость."
   ]
  },
  {
   "cell_type": "markdown",
   "metadata": {},
   "source": [
    "### Выберете 10 населенных пунктов с наибольшим числом объявлений. Посчитайте среднюю цену квадратного метра в этих населенных пунктах. Выделите среди них населенные пункты с самой высокой и низкой стоимостью жилья."
   ]
  },
  {
   "cell_type": "markdown",
   "metadata": {},
   "source": [
    "Выделим топ-10 населенных пунктов с наибольшим числом объявлений."
   ]
  },
  {
   "cell_type": "code",
   "execution_count": 52,
   "metadata": {},
   "outputs": [
    {
     "data": {
      "text/plain": [
       "Санкт-Петербург      15721\n",
       "поселок Мурино         556\n",
       "поселок Шушары         440\n",
       "Всеволожск             398\n",
       "Пушкин                 369\n",
       "Колпино                338\n",
       "поселок Парголово      327\n",
       "Гатчина                307\n",
       "деревня Кудрово        299\n",
       "Выборг                 237\n",
       "Name: locality_name, dtype: int64"
      ]
     },
     "execution_count": 52,
     "metadata": {},
     "output_type": "execute_result"
    }
   ],
   "source": [
    "df['locality_name'].value_counts().head(10)"
   ]
  },
  {
   "cell_type": "markdown",
   "metadata": {},
   "source": [
    "Выделим топ-10 населенных пунктов по среднему значению стоимости за квадратный метр."
   ]
  },
  {
   "cell_type": "code",
   "execution_count": 53,
   "metadata": {},
   "outputs": [
    {
     "data": {
      "text/html": [
       "<div>\n",
       "<style scoped>\n",
       "    .dataframe tbody tr th:only-of-type {\n",
       "        vertical-align: middle;\n",
       "    }\n",
       "\n",
       "    .dataframe tbody tr th {\n",
       "        vertical-align: top;\n",
       "    }\n",
       "\n",
       "    .dataframe thead th {\n",
       "        text-align: right;\n",
       "    }\n",
       "</style>\n",
       "<table border=\"1\" class=\"dataframe\">\n",
       "  <thead>\n",
       "    <tr style=\"text-align: right;\">\n",
       "      <th></th>\n",
       "      <th>price_per_meter</th>\n",
       "    </tr>\n",
       "    <tr>\n",
       "      <th>locality_name</th>\n",
       "      <th></th>\n",
       "    </tr>\n",
       "  </thead>\n",
       "  <tbody>\n",
       "    <tr>\n",
       "      <td>поселок Лисий Нос</td>\n",
       "      <td>0.133333</td>\n",
       "    </tr>\n",
       "    <tr>\n",
       "      <td>поселок Репино</td>\n",
       "      <td>0.125000</td>\n",
       "    </tr>\n",
       "    <tr>\n",
       "      <td>Зеленогорск</td>\n",
       "      <td>0.116667</td>\n",
       "    </tr>\n",
       "    <tr>\n",
       "      <td>Санкт-Петербург</td>\n",
       "      <td>0.113466</td>\n",
       "    </tr>\n",
       "    <tr>\n",
       "      <td>деревня Мистолово</td>\n",
       "      <td>0.109091</td>\n",
       "    </tr>\n",
       "    <tr>\n",
       "      <td>Пушкин</td>\n",
       "      <td>0.105149</td>\n",
       "    </tr>\n",
       "    <tr>\n",
       "      <td>Сестрорецк</td>\n",
       "      <td>0.103825</td>\n",
       "    </tr>\n",
       "    <tr>\n",
       "      <td>Павловск</td>\n",
       "      <td>0.102632</td>\n",
       "    </tr>\n",
       "    <tr>\n",
       "      <td>Петергоф</td>\n",
       "      <td>0.100995</td>\n",
       "    </tr>\n",
       "    <tr>\n",
       "      <td>Кудрово</td>\n",
       "      <td>0.100578</td>\n",
       "    </tr>\n",
       "  </tbody>\n",
       "</table>\n",
       "</div>"
      ],
      "text/plain": [
       "                   price_per_meter\n",
       "locality_name                     \n",
       "поселок Лисий Нос         0.133333\n",
       "поселок Репино            0.125000\n",
       "Зеленогорск               0.116667\n",
       "Санкт-Петербург           0.113466\n",
       "деревня Мистолово         0.109091\n",
       "Пушкин                    0.105149\n",
       "Сестрорецк                0.103825\n",
       "Павловск                  0.102632\n",
       "Петергоф                  0.100995\n",
       "Кудрово                   0.100578"
      ]
     },
     "execution_count": 53,
     "metadata": {},
     "output_type": "execute_result"
    }
   ],
   "source": [
    "df.groupby('locality_name').agg({'price_per_meter':'mean'}).sort_values(by='price_per_meter', ascending=False).head(10)"
   ]
  },
  {
   "cell_type": "markdown",
   "metadata": {},
   "source": [
    "Приведем стоблец locality_name (название населенного пункта) к нижнему регистру."
   ]
  },
  {
   "cell_type": "code",
   "execution_count": 54,
   "metadata": {},
   "outputs": [],
   "source": [
    "df['locality_name'] = df['locality_name'].str.lower()"
   ]
  },
  {
   "cell_type": "markdown",
   "metadata": {},
   "source": [
    "Произведем разделение объявлений в части города и вне его границ."
   ]
  },
  {
   "cell_type": "code",
   "execution_count": 55,
   "metadata": {},
   "outputs": [],
   "source": [
    "def locality_status(row):\n",
    "    if row['locality_name'] == 'санкт-петербург':\n",
    "        return 'Питер'\n",
    "    else:\n",
    "        return 'За Питером'\n",
    "    \n",
    "df['locality_status'] = df.apply(locality_status, axis=1)"
   ]
  },
  {
   "cell_type": "markdown",
   "metadata": {},
   "source": [
    "Рассчитаем среденее значение стоимости за 1 кв. метр."
   ]
  },
  {
   "cell_type": "code",
   "execution_count": 56,
   "metadata": {},
   "outputs": [
    {
     "data": {
      "text/html": [
       "<div>\n",
       "<style scoped>\n",
       "    .dataframe tbody tr th:only-of-type {\n",
       "        vertical-align: middle;\n",
       "    }\n",
       "\n",
       "    .dataframe tbody tr th {\n",
       "        vertical-align: top;\n",
       "    }\n",
       "\n",
       "    .dataframe thead th {\n",
       "        text-align: right;\n",
       "    }\n",
       "</style>\n",
       "<table border=\"1\" class=\"dataframe\">\n",
       "  <thead>\n",
       "    <tr style=\"text-align: right;\">\n",
       "      <th></th>\n",
       "      <th>price_per_meter</th>\n",
       "    </tr>\n",
       "    <tr>\n",
       "      <th>locality_status</th>\n",
       "      <th></th>\n",
       "    </tr>\n",
       "  </thead>\n",
       "  <tbody>\n",
       "    <tr>\n",
       "      <td>За Питером</td>\n",
       "      <td>0.077235</td>\n",
       "    </tr>\n",
       "    <tr>\n",
       "      <td>Питер</td>\n",
       "      <td>0.113466</td>\n",
       "    </tr>\n",
       "  </tbody>\n",
       "</table>\n",
       "</div>"
      ],
      "text/plain": [
       "                 price_per_meter\n",
       "locality_status                 \n",
       "За Питером              0.077235\n",
       "Питер                   0.113466"
      ]
     },
     "execution_count": 56,
     "metadata": {},
     "output_type": "execute_result"
    }
   ],
   "source": [
    "df.groupby('locality_status').agg({'price_per_meter':'mean'}).sort_values(by='price_per_meter')"
   ]
  },
  {
   "cell_type": "markdown",
   "metadata": {},
   "source": [
    "Создадим переменную со значение топ-10 населенных пунктов с наибольшим числом объявлений. Выведем таблицу применив несколько операций по столбцам: locality_name, price_per_meter."
   ]
  },
  {
   "cell_type": "code",
   "execution_count": 57,
   "metadata": {},
   "outputs": [],
   "source": [
    "top_10_df = df.groupby('locality_name')\\\n",
    "    .agg({'locality_status':'count','price_per_meter':'mean'})\n",
    "top_10_df = top_10_df.sort_values('locality_status', ascending=False).head(10)"
   ]
  },
  {
   "cell_type": "code",
   "execution_count": 58,
   "metadata": {
    "scrolled": true
   },
   "outputs": [
    {
     "data": {
      "text/html": [
       "<div>\n",
       "<style scoped>\n",
       "    .dataframe tbody tr th:only-of-type {\n",
       "        vertical-align: middle;\n",
       "    }\n",
       "\n",
       "    .dataframe tbody tr th {\n",
       "        vertical-align: top;\n",
       "    }\n",
       "\n",
       "    .dataframe thead th {\n",
       "        text-align: right;\n",
       "    }\n",
       "</style>\n",
       "<table border=\"1\" class=\"dataframe\">\n",
       "  <thead>\n",
       "    <tr style=\"text-align: right;\">\n",
       "      <th></th>\n",
       "      <th>locality_status</th>\n",
       "      <th>price_per_meter</th>\n",
       "    </tr>\n",
       "    <tr>\n",
       "      <th>locality_name</th>\n",
       "      <th></th>\n",
       "      <th></th>\n",
       "    </tr>\n",
       "  </thead>\n",
       "  <tbody>\n",
       "    <tr>\n",
       "      <td>санкт-петербург</td>\n",
       "      <td>15721</td>\n",
       "      <td>0.113466</td>\n",
       "    </tr>\n",
       "    <tr>\n",
       "      <td>пушкин</td>\n",
       "      <td>369</td>\n",
       "      <td>0.105149</td>\n",
       "    </tr>\n",
       "    <tr>\n",
       "      <td>деревня кудрово</td>\n",
       "      <td>299</td>\n",
       "      <td>0.100000</td>\n",
       "    </tr>\n",
       "    <tr>\n",
       "      <td>поселок мурино</td>\n",
       "      <td>556</td>\n",
       "      <td>0.099820</td>\n",
       "    </tr>\n",
       "    <tr>\n",
       "      <td>колпино</td>\n",
       "      <td>338</td>\n",
       "      <td>0.099704</td>\n",
       "    </tr>\n",
       "    <tr>\n",
       "      <td>поселок шушары</td>\n",
       "      <td>440</td>\n",
       "      <td>0.099091</td>\n",
       "    </tr>\n",
       "    <tr>\n",
       "      <td>поселок парголово</td>\n",
       "      <td>327</td>\n",
       "      <td>0.099083</td>\n",
       "    </tr>\n",
       "    <tr>\n",
       "      <td>всеволожск</td>\n",
       "      <td>398</td>\n",
       "      <td>0.095729</td>\n",
       "    </tr>\n",
       "    <tr>\n",
       "      <td>гатчина</td>\n",
       "      <td>307</td>\n",
       "      <td>0.095440</td>\n",
       "    </tr>\n",
       "    <tr>\n",
       "      <td>выборг</td>\n",
       "      <td>237</td>\n",
       "      <td>0.074262</td>\n",
       "    </tr>\n",
       "  </tbody>\n",
       "</table>\n",
       "</div>"
      ],
      "text/plain": [
       "                   locality_status  price_per_meter\n",
       "locality_name                                      \n",
       "санкт-петербург              15721         0.113466\n",
       "пушкин                         369         0.105149\n",
       "деревня кудрово                299         0.100000\n",
       "поселок мурино                 556         0.099820\n",
       "колпино                        338         0.099704\n",
       "поселок шушары                 440         0.099091\n",
       "поселок парголово              327         0.099083\n",
       "всеволожск                     398         0.095729\n",
       "гатчина                        307         0.095440\n",
       "выборг                         237         0.074262"
      ]
     },
     "execution_count": 58,
     "metadata": {},
     "output_type": "execute_result"
    }
   ],
   "source": [
    "top_10_df.sort_values('price_per_meter', ascending=False).head(10)"
   ]
  },
  {
   "cell_type": "markdown",
   "metadata": {},
   "source": [
    "Представим данные ввиде графика."
   ]
  },
  {
   "cell_type": "code",
   "execution_count": 59,
   "metadata": {},
   "outputs": [
    {
     "data": {
      "text/plain": [
       "<matplotlib.axes._subplots.AxesSubplot at 0x7fb32c76c510>"
      ]
     },
     "execution_count": 59,
     "metadata": {},
     "output_type": "execute_result"
    },
    {
     "data": {
      "image/png": "[encoded data removed]",
      "text/plain": [
       "<Figure size 432x288 with 1 Axes>"
      ]
     },
     "metadata": {
      "needs_background": "light"
     },
     "output_type": "display_data"
    }
   ],
   "source": [
    "top_10_df.sort_values('price_per_meter', ascending=True)\\\n",
    "    .drop('locality_status', axis=1).plot(kind='barh', color='thistle', ec='black')"
   ]
  },
  {
   "cell_type": "markdown",
   "metadata": {},
   "source": [
    "# Промежуточный вывод:\n",
    "\n",
    "Из представленных 10 населенных пунктов с наибольшим числом объявлений лидеры по средней цене за 1 кв. метрт являются: Санкт-Петербург, Пушкин, деревня Кудрово и поселок Мурино.\n",
    "Можно сделать вывод, что квартиры находящиеся в части города Санкт-Петербург стоят дороже, чем квартиры находящиеся вне границ города. Думаю также будет логичным сказать, что стоимость в центре города Санкт-Петербург будет составлять выше, нежели вне центре города.\n",
    "Наименьшая стоимость за кв. метр составляет в: Гатчина и Выборг, а наибольшая в городе Санкт-Петербург."
   ]
  },
  {
   "cell_type": "markdown",
   "metadata": {},
   "source": [
    "### Изучите предложения квартир: для каждой квартиры есть информация о расстояни до центра. Выделите квартиры в Санкт-Петербурге. Ваша задача - выяснить, какая область входит в центр."
   ]
  },
  {
   "cell_type": "markdown",
   "metadata": {},
   "source": [
    "Изучим предложения квартир на рынке недвижимости. Для начала выделим квартиры в Санкт-Петербурге по столбцу locality_name (название населнного пункта. В тоже время, создадим столбец со значением cityCenter_nearest (расстояние до центра города (м)) и переведем в км с округление до целого числа."
   ]
  },
  {
   "cell_type": "code",
   "execution_count": 60,
   "metadata": {
    "scrolled": true
   },
   "outputs": [
    {
     "name": "stderr",
     "output_type": "stream",
     "text": [
      "/opt/conda/lib/python3.7/site-packages/pandas/core/indexing.py:376: SettingWithCopyWarning: \n",
      "A value is trying to be set on a copy of a slice from a DataFrame.\n",
      "Try using .loc[row_indexer,col_indexer] = value instead\n",
      "\n",
      "See the caveats in the documentation: http://pandas.pydata.org/pandas-docs/stable/user_guide/indexing.html#returning-a-view-versus-a-copy\n",
      "  self.obj[key] = _infer_fill_value(value)\n",
      "/opt/conda/lib/python3.7/site-packages/pandas/core/indexing.py:494: SettingWithCopyWarning: \n",
      "A value is trying to be set on a copy of a slice from a DataFrame.\n",
      "Try using .loc[row_indexer,col_indexer] = value instead\n",
      "\n",
      "See the caveats in the documentation: http://pandas.pydata.org/pandas-docs/stable/user_guide/indexing.html#returning-a-view-versus-a-copy\n",
      "  self.obj[item] = s\n"
     ]
    },
    {
     "data": {
      "text/html": [
       "<div>\n",
       "<style scoped>\n",
       "    .dataframe tbody tr th:only-of-type {\n",
       "        vertical-align: middle;\n",
       "    }\n",
       "\n",
       "    .dataframe tbody tr th {\n",
       "        vertical-align: top;\n",
       "    }\n",
       "\n",
       "    .dataframe thead th {\n",
       "        text-align: right;\n",
       "    }\n",
       "</style>\n",
       "<table border=\"1\" class=\"dataframe\">\n",
       "  <thead>\n",
       "    <tr style=\"text-align: right;\">\n",
       "      <th></th>\n",
       "      <th>locality_name</th>\n",
       "      <th>total_area</th>\n",
       "      <th>living_area</th>\n",
       "      <th>kitchen_area</th>\n",
       "      <th>ceiling_height</th>\n",
       "      <th>rooms</th>\n",
       "      <th>balcony</th>\n",
       "      <th>floor</th>\n",
       "      <th>floors_total</th>\n",
       "      <th>is_apartment</th>\n",
       "      <th>...</th>\n",
       "      <th>price_per_meter</th>\n",
       "      <th>day</th>\n",
       "      <th>year</th>\n",
       "      <th>month</th>\n",
       "      <th>floor_status</th>\n",
       "      <th>living_area_part</th>\n",
       "      <th>kitchen_area_part</th>\n",
       "      <th>fromcenter_category</th>\n",
       "      <th>locality_status</th>\n",
       "      <th>cityCenters_nearest_kms</th>\n",
       "    </tr>\n",
       "  </thead>\n",
       "  <tbody>\n",
       "    <tr>\n",
       "      <td>0</td>\n",
       "      <td>санкт-петербург</td>\n",
       "      <td>108.0</td>\n",
       "      <td>51.0</td>\n",
       "      <td>25.0</td>\n",
       "      <td>2.7</td>\n",
       "      <td>3</td>\n",
       "      <td>0</td>\n",
       "      <td>8</td>\n",
       "      <td>16.0</td>\n",
       "      <td>NaN</td>\n",
       "      <td>...</td>\n",
       "      <td>0.1</td>\n",
       "      <td>четверг</td>\n",
       "      <td>2019</td>\n",
       "      <td>3 - март</td>\n",
       "      <td>другой</td>\n",
       "      <td>0.47</td>\n",
       "      <td>0.23</td>\n",
       "      <td>в пределах города</td>\n",
       "      <td>Питер</td>\n",
       "      <td>16.0</td>\n",
       "    </tr>\n",
       "    <tr>\n",
       "      <td>2</td>\n",
       "      <td>санкт-петербург</td>\n",
       "      <td>56.0</td>\n",
       "      <td>34.3</td>\n",
       "      <td>8.3</td>\n",
       "      <td>2.6</td>\n",
       "      <td>2</td>\n",
       "      <td>0</td>\n",
       "      <td>4</td>\n",
       "      <td>5.0</td>\n",
       "      <td>NaN</td>\n",
       "      <td>...</td>\n",
       "      <td>0.1</td>\n",
       "      <td>четверг</td>\n",
       "      <td>2015</td>\n",
       "      <td>8 - август</td>\n",
       "      <td>другой</td>\n",
       "      <td>0.61</td>\n",
       "      <td>0.15</td>\n",
       "      <td>в пределах города</td>\n",
       "      <td>Питер</td>\n",
       "      <td>14.0</td>\n",
       "    </tr>\n",
       "    <tr>\n",
       "      <td>3</td>\n",
       "      <td>санкт-петербург</td>\n",
       "      <td>159.0</td>\n",
       "      <td>NaN</td>\n",
       "      <td>NaN</td>\n",
       "      <td>2.6</td>\n",
       "      <td>3</td>\n",
       "      <td>0</td>\n",
       "      <td>9</td>\n",
       "      <td>14.0</td>\n",
       "      <td>NaN</td>\n",
       "      <td>...</td>\n",
       "      <td>0.4</td>\n",
       "      <td>пятница</td>\n",
       "      <td>2015</td>\n",
       "      <td>7 - июль</td>\n",
       "      <td>другой</td>\n",
       "      <td>NaN</td>\n",
       "      <td>NaN</td>\n",
       "      <td>в пределах города</td>\n",
       "      <td>Питер</td>\n",
       "      <td>7.0</td>\n",
       "    </tr>\n",
       "    <tr>\n",
       "      <td>4</td>\n",
       "      <td>санкт-петербург</td>\n",
       "      <td>100.0</td>\n",
       "      <td>32.0</td>\n",
       "      <td>41.0</td>\n",
       "      <td>3.0</td>\n",
       "      <td>2</td>\n",
       "      <td>0</td>\n",
       "      <td>13</td>\n",
       "      <td>14.0</td>\n",
       "      <td>NaN</td>\n",
       "      <td>...</td>\n",
       "      <td>0.1</td>\n",
       "      <td>вторник</td>\n",
       "      <td>2018</td>\n",
       "      <td>6 - июнь</td>\n",
       "      <td>другой</td>\n",
       "      <td>0.32</td>\n",
       "      <td>0.41</td>\n",
       "      <td>в пределах города</td>\n",
       "      <td>Питер</td>\n",
       "      <td>8.0</td>\n",
       "    </tr>\n",
       "    <tr>\n",
       "      <td>7</td>\n",
       "      <td>санкт-петербург</td>\n",
       "      <td>71.6</td>\n",
       "      <td>NaN</td>\n",
       "      <td>18.9</td>\n",
       "      <td>2.8</td>\n",
       "      <td>2</td>\n",
       "      <td>2</td>\n",
       "      <td>22</td>\n",
       "      <td>24.0</td>\n",
       "      <td>NaN</td>\n",
       "      <td>...</td>\n",
       "      <td>0.1</td>\n",
       "      <td>четверг</td>\n",
       "      <td>2019</td>\n",
       "      <td>4 - апрель</td>\n",
       "      <td>другой</td>\n",
       "      <td>NaN</td>\n",
       "      <td>0.26</td>\n",
       "      <td>в пределах города</td>\n",
       "      <td>Питер</td>\n",
       "      <td>12.0</td>\n",
       "    </tr>\n",
       "    <tr>\n",
       "      <td>9</td>\n",
       "      <td>санкт-петербург</td>\n",
       "      <td>61.0</td>\n",
       "      <td>43.6</td>\n",
       "      <td>6.5</td>\n",
       "      <td>2.5</td>\n",
       "      <td>3</td>\n",
       "      <td>2</td>\n",
       "      <td>7</td>\n",
       "      <td>9.0</td>\n",
       "      <td>NaN</td>\n",
       "      <td>...</td>\n",
       "      <td>0.1</td>\n",
       "      <td>воскресенье</td>\n",
       "      <td>2017</td>\n",
       "      <td>2 - февраль</td>\n",
       "      <td>другой</td>\n",
       "      <td>0.71</td>\n",
       "      <td>0.11</td>\n",
       "      <td>в пределах города</td>\n",
       "      <td>Питер</td>\n",
       "      <td>15.0</td>\n",
       "    </tr>\n",
       "    <tr>\n",
       "      <td>10</td>\n",
       "      <td>санкт-петербург</td>\n",
       "      <td>39.6</td>\n",
       "      <td>20.3</td>\n",
       "      <td>8.5</td>\n",
       "      <td>2.7</td>\n",
       "      <td>1</td>\n",
       "      <td>0</td>\n",
       "      <td>3</td>\n",
       "      <td>12.0</td>\n",
       "      <td>NaN</td>\n",
       "      <td>...</td>\n",
       "      <td>0.1</td>\n",
       "      <td>четверг</td>\n",
       "      <td>2017</td>\n",
       "      <td>11 - ноябрь</td>\n",
       "      <td>другой</td>\n",
       "      <td>0.51</td>\n",
       "      <td>0.21</td>\n",
       "      <td>в пределах города</td>\n",
       "      <td>Питер</td>\n",
       "      <td>14.0</td>\n",
       "    </tr>\n",
       "    <tr>\n",
       "      <td>15</td>\n",
       "      <td>санкт-петербург</td>\n",
       "      <td>39.0</td>\n",
       "      <td>20.5</td>\n",
       "      <td>7.6</td>\n",
       "      <td>2.6</td>\n",
       "      <td>1</td>\n",
       "      <td>1</td>\n",
       "      <td>5</td>\n",
       "      <td>14.0</td>\n",
       "      <td>NaN</td>\n",
       "      <td>...</td>\n",
       "      <td>0.1</td>\n",
       "      <td>суббота</td>\n",
       "      <td>2017</td>\n",
       "      <td>11 - ноябрь</td>\n",
       "      <td>другой</td>\n",
       "      <td>0.53</td>\n",
       "      <td>0.19</td>\n",
       "      <td>в пределах города</td>\n",
       "      <td>Питер</td>\n",
       "      <td>14.0</td>\n",
       "    </tr>\n",
       "    <tr>\n",
       "      <td>16</td>\n",
       "      <td>санкт-петербург</td>\n",
       "      <td>82.0</td>\n",
       "      <td>55.6</td>\n",
       "      <td>9.0</td>\n",
       "      <td>3.0</td>\n",
       "      <td>3</td>\n",
       "      <td>0</td>\n",
       "      <td>1</td>\n",
       "      <td>5.0</td>\n",
       "      <td>NaN</td>\n",
       "      <td>...</td>\n",
       "      <td>0.1</td>\n",
       "      <td>четверг</td>\n",
       "      <td>2017</td>\n",
       "      <td>11 - ноябрь</td>\n",
       "      <td>первый</td>\n",
       "      <td>0.68</td>\n",
       "      <td>0.11</td>\n",
       "      <td>в пределах города</td>\n",
       "      <td>Питер</td>\n",
       "      <td>11.0</td>\n",
       "    </tr>\n",
       "    <tr>\n",
       "      <td>17</td>\n",
       "      <td>санкт-петербург</td>\n",
       "      <td>36.0</td>\n",
       "      <td>16.5</td>\n",
       "      <td>11.0</td>\n",
       "      <td>2.7</td>\n",
       "      <td>1</td>\n",
       "      <td>1</td>\n",
       "      <td>7</td>\n",
       "      <td>17.0</td>\n",
       "      <td>NaN</td>\n",
       "      <td>...</td>\n",
       "      <td>0.1</td>\n",
       "      <td>пятница</td>\n",
       "      <td>2016</td>\n",
       "      <td>9 - сентябрь</td>\n",
       "      <td>другой</td>\n",
       "      <td>0.46</td>\n",
       "      <td>0.31</td>\n",
       "      <td>в пределах города</td>\n",
       "      <td>Питер</td>\n",
       "      <td>15.0</td>\n",
       "    </tr>\n",
       "  </tbody>\n",
       "</table>\n",
       "<p>10 rows × 35 columns</p>\n",
       "</div>"
      ],
      "text/plain": [
       "      locality_name  total_area  living_area  kitchen_area  ceiling_height  \\\n",
       "0   санкт-петербург       108.0         51.0          25.0             2.7   \n",
       "2   санкт-петербург        56.0         34.3           8.3             2.6   \n",
       "3   санкт-петербург       159.0          NaN           NaN             2.6   \n",
       "4   санкт-петербург       100.0         32.0          41.0             3.0   \n",
       "7   санкт-петербург        71.6          NaN          18.9             2.8   \n",
       "9   санкт-петербург        61.0         43.6           6.5             2.5   \n",
       "10  санкт-петербург        39.6         20.3           8.5             2.7   \n",
       "15  санкт-петербург        39.0         20.5           7.6             2.6   \n",
       "16  санкт-петербург        82.0         55.6           9.0             3.0   \n",
       "17  санкт-петербург        36.0         16.5          11.0             2.7   \n",
       "\n",
       "    rooms  balcony  floor  floors_total is_apartment  ...  price_per_meter  \\\n",
       "0       3        0      8          16.0          NaN  ...              0.1   \n",
       "2       2        0      4           5.0          NaN  ...              0.1   \n",
       "3       3        0      9          14.0          NaN  ...              0.4   \n",
       "4       2        0     13          14.0          NaN  ...              0.1   \n",
       "7       2        2     22          24.0          NaN  ...              0.1   \n",
       "9       3        2      7           9.0          NaN  ...              0.1   \n",
       "10      1        0      3          12.0          NaN  ...              0.1   \n",
       "15      1        1      5          14.0          NaN  ...              0.1   \n",
       "16      3        0      1           5.0          NaN  ...              0.1   \n",
       "17      1        1      7          17.0          NaN  ...              0.1   \n",
       "\n",
       "            day  year         month floor_status  living_area_part  \\\n",
       "0       четверг  2019      3 - март       другой              0.47   \n",
       "2       четверг  2015    8 - август       другой              0.61   \n",
       "3       пятница  2015      7 - июль       другой               NaN   \n",
       "4       вторник  2018      6 - июнь       другой              0.32   \n",
       "7       четверг  2019    4 - апрель       другой               NaN   \n",
       "9   воскресенье  2017   2 - февраль       другой              0.71   \n",
       "10      четверг  2017   11 - ноябрь       другой              0.51   \n",
       "15      суббота  2017   11 - ноябрь       другой              0.53   \n",
       "16      четверг  2017   11 - ноябрь       первый              0.68   \n",
       "17      пятница  2016  9 - сентябрь       другой              0.46   \n",
       "\n",
       "    kitchen_area_part  fromcenter_category  locality_status  \\\n",
       "0                0.23    в пределах города            Питер   \n",
       "2                0.15    в пределах города            Питер   \n",
       "3                 NaN    в пределах города            Питер   \n",
       "4                0.41    в пределах города            Питер   \n",
       "7                0.26    в пределах города            Питер   \n",
       "9                0.11    в пределах города            Питер   \n",
       "10               0.21    в пределах города            Питер   \n",
       "15               0.19    в пределах города            Питер   \n",
       "16               0.11    в пределах города            Питер   \n",
       "17               0.31    в пределах города            Питер   \n",
       "\n",
       "    cityCenters_nearest_kms  \n",
       "0                      16.0  \n",
       "2                      14.0  \n",
       "3                       7.0  \n",
       "4                       8.0  \n",
       "7                      12.0  \n",
       "9                      15.0  \n",
       "10                     14.0  \n",
       "15                     14.0  \n",
       "16                     11.0  \n",
       "17                     15.0  \n",
       "\n",
       "[10 rows x 35 columns]"
      ]
     },
     "execution_count": 60,
     "metadata": {},
     "output_type": "execute_result"
    }
   ],
   "source": [
    "df_spb = df.query('locality_name == \"санкт-петербург\"')\n",
    "df_spb.loc[:, 'cityCenters_nearest_kms'] = (df_spb.loc[:, 'cityCenters_nearest']/1000).round()\n",
    "df_spb.head(10)"
   ]
  },
  {
   "cell_type": "markdown",
   "metadata": {},
   "source": [
    "Представим данные ввиде графика."
   ]
  },
  {
   "cell_type": "code",
   "execution_count": 61,
   "metadata": {},
   "outputs": [
    {
     "data": {
      "text/plain": [
       "<matplotlib.axes._subplots.AxesSubplot at 0x7fb32c6aee50>"
      ]
     },
     "execution_count": 61,
     "metadata": {},
     "output_type": "execute_result"
    },
    {
     "data": {
      "image/png": "[encoded data removed]",
      "text/plain": [
       "<Figure size 648x288 with 1 Axes>"
      ]
     },
     "metadata": {
      "needs_background": "light"
     },
     "output_type": "display_data"
    }
   ],
   "source": [
    "depend_price(df_spb, 'cityCenters_nearest_kms')"
   ]
  },
  {
   "cell_type": "markdown",
   "metadata": {},
   "source": [
    "# Промежуточный вывод\n",
    "Таким образом, мы видим, что квартиры в самом центре (в радиусе до 1 км) медианная цена стремится к 20 млн рублей. \n",
    "На основании графика логично предположить, что центр ограничен радиусом до 8 км, исходя из редкого падения на 9 км. Далее медианная цена имеет тенденцию к понижению. \n",
    "При этом нельзя отметить, что на 4-7 км стоимость квартир сравнима со стоимость квартир в 2 км от центра города. \n",
    "Можно предположить, что опреденное влияние оказывают опреденные районы города, которые могут быть элитными, иметься хорошую инфоструктуру."
   ]
  },
  {
   "cell_type": "markdown",
   "metadata": {},
   "source": [
    "### Выделите сегмент квартир в центре. Проанализируйте эту территорию и изучите следующие параметры: площадь, цена, число комнат, высота потолков. Также выделите факторы, которые влияют на стоимость квартиры. Сделайте выводы. Отличается ли они от общих выводов по всему городу?"
   ]
  },
  {
   "cell_type": "markdown",
   "metadata": {},
   "source": [
    "Подводя промежуточный выводы, мы можем сказать, что центром города Санкт-Петербург считается расстояние до 8 км (включительно). Проанализируем данную территорию."
   ]
  },
  {
   "cell_type": "code",
   "execution_count": 62,
   "metadata": {},
   "outputs": [
    {
     "name": "stdout",
     "output_type": "stream",
     "text": [
      "Выборка квартир в центральной зоне города Санкт-Петербург - 3712 квартир\n"
     ]
    }
   ],
   "source": [
    "df_in_center = df_spb.query('cityCenters_nearest <= 8000')\n",
    "print('Выборка квартир в центральной зоне города Санкт-Петербург -', df_in_center.shape[0], 'квартир')"
   ]
  },
  {
   "cell_type": "code",
   "execution_count": 63,
   "metadata": {},
   "outputs": [
    {
     "data": {
      "text/html": [
       "<div>\n",
       "<style scoped>\n",
       "    .dataframe tbody tr th:only-of-type {\n",
       "        vertical-align: middle;\n",
       "    }\n",
       "\n",
       "    .dataframe tbody tr th {\n",
       "        vertical-align: top;\n",
       "    }\n",
       "\n",
       "    .dataframe thead th {\n",
       "        text-align: right;\n",
       "    }\n",
       "</style>\n",
       "<table border=\"1\" class=\"dataframe\">\n",
       "  <thead>\n",
       "    <tr style=\"text-align: right;\">\n",
       "      <th></th>\n",
       "      <th>total_area</th>\n",
       "      <th>last_price</th>\n",
       "      <th>rooms</th>\n",
       "      <th>ceiling_height</th>\n",
       "    </tr>\n",
       "  </thead>\n",
       "  <tbody>\n",
       "    <tr>\n",
       "      <td>count</td>\n",
       "      <td>3712.000000</td>\n",
       "      <td>3712.000000</td>\n",
       "      <td>3712.000000</td>\n",
       "      <td>3705.000000</td>\n",
       "    </tr>\n",
       "    <tr>\n",
       "      <td>mean</td>\n",
       "      <td>92.328341</td>\n",
       "      <td>14.729617</td>\n",
       "      <td>2.813308</td>\n",
       "      <td>2.986316</td>\n",
       "    </tr>\n",
       "    <tr>\n",
       "      <td>std</td>\n",
       "      <td>60.531667</td>\n",
       "      <td>24.704512</td>\n",
       "      <td>1.456235</td>\n",
       "      <td>0.715015</td>\n",
       "    </tr>\n",
       "    <tr>\n",
       "      <td>min</td>\n",
       "      <td>12.000000</td>\n",
       "      <td>1.600000</td>\n",
       "      <td>0.000000</td>\n",
       "      <td>2.000000</td>\n",
       "    </tr>\n",
       "    <tr>\n",
       "      <td>25%</td>\n",
       "      <td>56.000000</td>\n",
       "      <td>6.590000</td>\n",
       "      <td>2.000000</td>\n",
       "      <td>2.700000</td>\n",
       "    </tr>\n",
       "    <tr>\n",
       "      <td>50%</td>\n",
       "      <td>77.800000</td>\n",
       "      <td>9.000000</td>\n",
       "      <td>3.000000</td>\n",
       "      <td>3.000000</td>\n",
       "    </tr>\n",
       "    <tr>\n",
       "      <td>75%</td>\n",
       "      <td>108.725000</td>\n",
       "      <td>14.131000</td>\n",
       "      <td>3.000000</td>\n",
       "      <td>3.100000</td>\n",
       "    </tr>\n",
       "    <tr>\n",
       "      <td>max</td>\n",
       "      <td>900.000000</td>\n",
       "      <td>763.000000</td>\n",
       "      <td>19.000000</td>\n",
       "      <td>32.000000</td>\n",
       "    </tr>\n",
       "  </tbody>\n",
       "</table>\n",
       "</div>"
      ],
      "text/plain": [
       "        total_area   last_price        rooms  ceiling_height\n",
       "count  3712.000000  3712.000000  3712.000000     3705.000000\n",
       "mean     92.328341    14.729617     2.813308        2.986316\n",
       "std      60.531667    24.704512     1.456235        0.715015\n",
       "min      12.000000     1.600000     0.000000        2.000000\n",
       "25%      56.000000     6.590000     2.000000        2.700000\n",
       "50%      77.800000     9.000000     3.000000        3.000000\n",
       "75%     108.725000    14.131000     3.000000        3.100000\n",
       "max     900.000000   763.000000    19.000000       32.000000"
      ]
     },
     "execution_count": 63,
     "metadata": {},
     "output_type": "execute_result"
    }
   ],
   "source": [
    "df_in_center[['total_area', 'last_price', 'rooms', 'ceiling_height']].describe()"
   ]
  },
  {
   "cell_type": "markdown",
   "metadata": {},
   "source": [
    "# Промежуточный вывод\n",
    "Средняя квартира, выставленная на продажу в центре Санкт-Петербурга, имеет следующие характеристики: это 2-комнатная или 3х-комнатная квартира площадью 90 кв. м с потолками 2,98 м .\n",
    "\n",
    "- Большая часть квартир имеет метраж от 56 до 108 кв.м..\n",
    "- Большая часть квартир продается за цену в промежутке между 9 и 14 млн рублей.\n",
    "- Больше всего 2х и 3х комнатных квартир. Однокомнатных вообще почти нет от общего количества.\n",
    "- Квартиры, в большинстве своем, имеют потолки 3,1 м. Ещё некоторые квартиры имеют высоту потолков от 2,7 до 3,5 м. Ниже, выше считается уже редкостью."
   ]
  },
  {
   "cell_type": "code",
   "execution_count": 64,
   "metadata": {},
   "outputs": [
    {
     "data": {
      "image/png": "[encoded data removed]",
      "text/plain": [
       "<Figure size 3600x1800 with 4 Axes>"
      ]
     },
     "metadata": {
      "needs_background": "light"
     },
     "output_type": "display_data"
    }
   ],
   "source": [
    "rows = 2\n",
    "cols = 2\n",
    "fig, axes = plt.subplots(rows, cols, figsize=(50,25))\n",
    "column_list = ['total_area', 'last_price', 'rooms', 'ceiling_height']\n",
    "ylims = [600, 50, 10, 5]\n",
    "count = 0\n",
    "for r in range(rows):\n",
    "    for c in range(cols):\n",
    "        ax = df_in_center.boxplot(column=column_list[count], ax=axes[r,c], fontsize=40)\n",
    "        ax.set_ylim([0, ylims[count]])\n",
    "        count += 1"
   ]
  },
  {
   "cell_type": "markdown",
   "metadata": {},
   "source": [
    "Рассмотрим зависимость стоимостb квартир от количества комнат."
   ]
  },
  {
   "cell_type": "code",
   "execution_count": 65,
   "metadata": {},
   "outputs": [
    {
     "data": {
      "text/plain": [
       "<matplotlib.axes._subplots.AxesSubplot at 0x7fb2c2eed090>"
      ]
     },
     "execution_count": 65,
     "metadata": {},
     "output_type": "execute_result"
    },
    {
     "data": {
      "image/png": "[encoded data removed]",
      "text/plain": [
       "<Figure size 648x288 with 1 Axes>"
      ]
     },
     "metadata": {
      "needs_background": "light"
     },
     "output_type": "display_data"
    }
   ],
   "source": [
    "depend_price(df_in_center, 'rooms')"
   ]
  },
  {
   "cell_type": "markdown",
   "metadata": {},
   "source": [
    "Рассмотрим без выбросов."
   ]
  },
  {
   "cell_type": "code",
   "execution_count": 66,
   "metadata": {
    "scrolled": true
   },
   "outputs": [
    {
     "data": {
      "text/plain": [
       "<matplotlib.axes._subplots.AxesSubplot at 0x7fb2c44e3e90>"
      ]
     },
     "execution_count": 66,
     "metadata": {},
     "output_type": "execute_result"
    },
    {
     "data": {
      "image/png": "[encoded data removed]",
      "text/plain": [
       "<Figure size 648x288 with 1 Axes>"
      ]
     },
     "metadata": {
      "needs_background": "light"
     },
     "output_type": "display_data"
    }
   ],
   "source": [
    "depend_price(df_in_center.query('rooms <= 7'), 'rooms')"
   ]
  },
  {
   "cell_type": "markdown",
   "metadata": {},
   "source": [
    "Все довольно очевидно, чем больше комнат, тем выше цена. \n",
    "\n",
    "Рассмотрим зависимость стоимости квартир от этажа."
   ]
  },
  {
   "cell_type": "code",
   "execution_count": 67,
   "metadata": {},
   "outputs": [
    {
     "data": {
      "text/plain": [
       "<matplotlib.axes._subplots.AxesSubplot at 0x7fb2c3fc6390>"
      ]
     },
     "execution_count": 67,
     "metadata": {},
     "output_type": "execute_result"
    },
    {
     "data": {
      "image/png": "[encoded data removed]",
      "text/plain": [
       "<Figure size 648x288 with 1 Axes>"
      ]
     },
     "metadata": {
      "needs_background": "light"
     },
     "output_type": "display_data"
    }
   ],
   "source": [
    "depend_price(df_in_center, 'floor_status')"
   ]
  },
  {
   "cell_type": "markdown",
   "metadata": {},
   "source": [
    "В данном случае мы видим, что квартира на 1ом этаже на 25% дешевле. Все остальные варианты будут дороже, что последний этаж, что все остальные.\n",
    "\n",
    "Рассмотрим зависимость стоимости квартир от удаленности от центра города."
   ]
  },
  {
   "cell_type": "code",
   "execution_count": 68,
   "metadata": {
    "scrolled": true
   },
   "outputs": [
    {
     "data": {
      "text/plain": [
       "<matplotlib.axes._subplots.AxesSubplot at 0x7fb2c2aaf690>"
      ]
     },
     "execution_count": 68,
     "metadata": {},
     "output_type": "execute_result"
    },
    {
     "data": {
      "image/png": "[encoded data removed]",
      "text/plain": [
       "<Figure size 648x288 with 1 Axes>"
      ]
     },
     "metadata": {
      "needs_background": "light"
     },
     "output_type": "display_data"
    }
   ],
   "source": [
    "depend_price(df_in_center, 'cityCenters_nearest_kms')"
   ]
  },
  {
   "cell_type": "markdown",
   "metadata": {},
   "source": [
    "Можно сделать вывод, что чем дальше находиться квартира от центра города, тем в среднем квартира будет стоить дешевле. В среднем разница в стоимости между первым и восьмым километром от центра может достигать 9 млн рублей.\n",
    "\n",
    "Рассмотрим зависимость стоимости квартир от дня недели, месяца и года публикаци объявления. "
   ]
  },
  {
   "cell_type": "code",
   "execution_count": 69,
   "metadata": {
    "scrolled": true
   },
   "outputs": [
    {
     "data": {
      "text/plain": [
       "<matplotlib.axes._subplots.AxesSubplot at 0x7fb327f3ea50>"
      ]
     },
     "execution_count": 69,
     "metadata": {},
     "output_type": "execute_result"
    },
    {
     "data": {
      "image/png": "[encoded data removed]",
      "text/plain": [
       "<Figure size 720x360 with 1 Axes>"
      ]
     },
     "metadata": {
      "needs_background": "light"
     },
     "output_type": "display_data"
    },
    {
     "data": {
      "image/png": "[encoded data removed]",
      "text/plain": [
       "<Figure size 720x360 with 1 Axes>"
      ]
     },
     "metadata": {
      "needs_background": "light"
     },
     "output_type": "display_data"
    },
    {
     "data": {
      "image/png": "[encoded data removed]",
      "text/plain": [
       "<Figure size 720x360 with 1 Axes>"
      ]
     },
     "metadata": {
      "needs_background": "light"
     },
     "output_type": "display_data"
    }
   ],
   "source": [
    "dmy_price(df_in_center)"
   ]
  },
  {
   "cell_type": "markdown",
   "metadata": {},
   "source": [
    "Зависимость стоимости квартир от дня недели, когда были опубликованы объявления о продаже, почти не наблюдается. Зависимость по месяцу и году опубликованного объявления имеется, но такая же, как и по всем данным.\n",
    "\n",
    "Воспользуемся функцией corr() и посмотрим, как влияют определенные параметры квартиры на её финальную цену. Выделим только столбец last_price (цена на момент снятия с публикации), чтоб детальней рассмотреть влияние различных параметров именно на стоимость квартиры."
   ]
  },
  {
   "cell_type": "code",
   "execution_count": 70,
   "metadata": {},
   "outputs": [
    {
     "data": {
      "text/plain": [
       "<matplotlib.axes._subplots.AxesSubplot at 0x7fb2c2aaf310>"
      ]
     },
     "execution_count": 70,
     "metadata": {},
     "output_type": "execute_result"
    },
    {
     "data": {
      "image/png": "[encoded data removed]",
      "text/plain": [
       "<Figure size 72x576 with 2 Axes>"
      ]
     },
     "metadata": {
      "needs_background": "light"
     },
     "output_type": "display_data"
    }
   ],
   "source": [
    "plt.figure(figsize=(1,8))\n",
    "sns.heatmap(df.corr()[['last_price']].sort_values(by='last_price', ascending=False), cmap=\"Greens\", \n",
    "            annot=True, annot_kws={'size':12})"
   ]
  },
  {
   "cell_type": "markdown",
   "metadata": {},
   "source": [
    "# Промежуточный вывод\n",
    "Все вышесказанное дает нам возможность сделать следующие вывод:\n",
    "\n",
    "- Наиболее сильное влияние на стоимость квартиры оказывает: цена за 1 кв. метр,общая площадь квартиры, жилая площадь квартиры, площадь кухни и количество комнат. А также число водоемов и парков в радиуме 3 км.\n",
    "- В тоже время влияет расстояние от центра города: чем дальше от центра, тем ниже стоимость квартиры.\n",
    "- Небольшое влияние оказывает расстояние до ближайшего аэропорта.\n",
    "- Многие из данных параметров оказывают довольно слабое влияние."
   ]
  },
  {
   "cell_type": "markdown",
   "metadata": {},
   "source": [
    "# Промежуточный вывод:  Отличается ли они от общих выводов по всему городу?\n",
    "\n",
    "1. Общая тенденция продолжительности продаж недвижимости составляется от 25 до 50 дней. Что касательно центра города Санкт-Петербург продажи состояться в течении первых 25 дней. Таким образом, можно заключить, что на общую картину оказывают влияние продажи недвижимости в области.\n",
    "2. Если говорить о количестве комнат в квартире, то картина одинакова С ростом количества комнат растет и цена на саму квартиру. Цена объективна выше в центре города Санкт-Петербург, нежели в предлах города и области.\n",
    "3. Квартиры на 1 этаже стоят дешевле в не зависимости от места нахождения самой квартиры территориально. Общий ценовой тренд, когда квартира дороже в центре горожа, чем в пределах города и области, сохраняется.\n",
    "4. Квартиры объявления по которым появились на рынке в будний день, продаются по незначительно более высокой цене, чем объявления выложеные в выходной день. Для всех типов квартир 2014 года стал последним годом пика высоких цен. В 2019 году наблюдается тенденция в незначительном росте цен на недвижимость в сравнении с периодом 2015 - 2018 гг.. Это вызвано ростом спроса, что объявляет рост стоимости на недвижимость."
   ]
  },
  {
   "cell_type": "markdown",
   "metadata": {},
   "source": [
    "## Общий вывод"
   ]
  },
  {
   "cell_type": "markdown",
   "metadata": {},
   "source": [
    "В результате проведеной проектной работе мной были рассмотрены данные датафрейма и совершена предобработка. Данные были проверены на наличие пропущенных значений и дублированных записей. Была произведена замена пропусков, где это было возможно. Небольшая часть NaN значений по датафрейму заполены и некорретные значения изменены. Была совершена категоризация по стобцу cityCenters_nearest (расстояние до центра города). Все данные стали представлены в удобном формате. На основании всего вышесказанного мы можем констатировать следующее:\n",
    "\n",
    "Для определения рыночной стоимости объектов недвижимости важны следующие параметры:\n",
    "- общая площадь: чем больше площадь квартиры, тем выше цена;\n",
    "- цена за 1 км.м.: чем больше цена за 1 кв. метр, тем выше цена;\n",
    "- общая площадь жилой/кухонной площади: чем выше доля жилой площади/площадь кухни, тем выше цена;\n",
    "- количество комнат и этаж на котором находиться квартира: чем ближе к центру, тем эти факторы весомее. На первом этаже квартира дешевле, чем на остальных;\n",
    "- расстояние от центра города: чем ближе к центру, тем дороже стоимость квартиры. В самом центре (< 1 км до центра) квартиры стоят на порядок дороже, чем на более удаленных расстояниях;\n",
    "- день размещения объявления: квартиры, размещенные к продаже в будние дни, в среднем стоят дороже, чем размещенные в выходные дни;\n",
    "- год размещения объявления: квартиры, размещенные на продажу в 2014 году, дороже всех. Период 2015-2018 - период низких цен на квартиры (кризис). 2019 год - рецессия эконо  мики - цены пошли вверх впервые после наступления кризиса.\n",
    "\n",
    "В ходе проведенной проектной работе можно сформулировать рекомендации для сервиса Яндекс.Недвижимость:\n",
    "- Ввести ограничения на ввод данных. Например, было допущено множество ошибок при ручном вводе (27 м вместо 2,7 м и т.д.); \n",
    "- Производить расчет расстояний в километрах и с округленнием до целого числа;\n",
    "- Предусмотреть такой сценарий, при котором данные о расстоянии до парков, водоемов, аэропортов будут подтягиваться автоматически;\n",
    "- Предоставить возможность  выбора из реестра населенного пункта в целях избежания появления дублирующих значений;\n",
    "- Уделить внимание правилам валидации на сервере, чтобы не сталкиваться с проблемой отсутствующих значений."
   ]
  },
  {
   "cell_type": "markdown",
   "metadata": {},
   "source": [
    "- [x]  открыт файл\n",
    "- [x]  файлы изучены (выведены первые строки, метод info())\n",
    "- [x]  определены пропущенные значения\n",
    "- [x]  заполнены пропущенные значения\n",
    "- [x]  есть пояснение, какие пропущенные значения обнаружены\n",
    "- [x]  изменены типы данных\n",
    "- [x]  есть пояснение, в каких столбцах изменены типы и почему\n",
    "- [x]  посчитано и добавлено в таблицу: цена квадратного метра\n",
    "- [x]  посчитано и добавлено в таблицу: день недели, месяц и год публикации объявления\n",
    "- [x]  посчитано и добавлено в таблицу: этаж квартиры; варианты — первый, последний, другой\n",
    "- [x]  посчитано и добавлено в таблицу: соотношение жилой и общей площади, а также отношение площади кухни к общей\n",
    "- [x]  изучены следующие параметры: площадь, цена, число комнат, высота потолков\n",
    "- [x]  построены гистограммы для каждого параметра\n",
    "- [x]  выполнено задание: \"Изучите время продажи квартиры. Постройте гистограмму. Посчитайте среднее и медиану. Опишите, сколько обычно занимает продажа. Когда можно считать, что продажи прошли очень быстро, а когда необычно долго?\"\n",
    "- [x]  выполнено задание: \"Уберите редкие и выбивающиеся значения. Опишите, какие особенности обнаружили.\"\n",
    "- [x]  выполнено задание: \"Какие факторы больше всего влияют на стоимость квартиры? Изучите, зависит ли цена от квадратного метра, числа комнат, этажа (первого или последнего), удалённости от центра. Также изучите зависимость от даты размещения: дня недели, месяца и года. \"Выберите 10 населённых пунктов с наибольшим числом объявлений. Посчитайте среднюю цену квадратного метра в этих населённых пунктах. Выделите населённые пункты с самой высокой и низкой стоимостью жилья. Эти данные можно найти по имени в столбце '*locality_name'*. \"\n",
    "- [x]  выполнено задание: \"Изучите предложения квартир: для каждой квартиры есть информация о расстоянии до центра. Выделите квартиры в Санкт-Петербурге (*'locality_name'*). Ваша задача — выяснить, какая область входит в центр. Создайте столбец с расстоянием до центра в километрах: округлите до целых значений. После этого посчитайте среднюю цену для каждого километра. Постройте график: он должен показывать, как цена зависит от удалённости от центра. Определите границу, где график сильно меняется — это и будет центральная зона. \"\n",
    "- [x]  выполнено задание: \"Выделите сегмент квартир в центре. Проанализируйте эту территорию и изучите следующие параметры: площадь, цена, число комнат, высота потолков. Также выделите факторы, которые влияют на стоимость квартиры (число комнат, этаж, удалённость от центра, дата размещения объявления). Сделайте выводы. Отличаются ли они от общих выводов по всему городу?\"\n",
    "- [x]  в каждом этапе есть выводы\n",
    "- [x]  есть общий вывод"
   ]
  }
 ],
 "metadata": {
  "kernelspec": {
   "display_name": "Python 3",
   "language": "python",
   "name": "python3"
  },
  "language_info": {
   "codemirror_mode": {
    "name": "ipython",
    "version": 3
   },
   "file_extension": ".py",
   "mimetype": "text/x-python",
   "name": "python",
   "nbconvert_exporter": "python",
   "pygments_lexer": "ipython3",
   "version": "3.8.8"
  },
  "toc": {
   "base_numbering": 1,
   "nav_menu": {},
   "number_sections": true,
   "sideBar": true,
   "skip_h1_title": true,
   "title_cell": "Содержание",
   "title_sidebar": "Contents",
   "toc_cell": true,
   "toc_position": {},
   "toc_section_display": true,
   "toc_window_display": true
  }
 },
 "nbformat": 4,
 "nbformat_minor": 2
}
