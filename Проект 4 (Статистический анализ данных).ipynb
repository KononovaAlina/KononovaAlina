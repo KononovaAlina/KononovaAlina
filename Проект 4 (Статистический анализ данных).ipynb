{
 "cells": [
  {
   "cell_type": "markdown",
   "metadata": {},
   "source": [
    "# Определение перспективного тарифа для телеком компании"
   ]
  },
  {
   "cell_type": "markdown",
   "metadata": {},
   "source": [
    "Вы аналитик компании «Мегалайн» — федерального оператора сотовой связи. Клиентам предлагают два тарифных плана: «Смарт» и «Ультра». Чтобы скорректировать рекламный бюджет, коммерческий департамент хочет понять, какой тариф приносит больше денег.\n",
    "Вам предстоит сделать предварительный анализ тарифов на небольшой выборке клиентов. В вашем распоряжении данные 500 пользователей «Мегалайна»: кто они, откуда, каким тарифом пользуются, сколько звонков и сообщений каждый отправил за 2018 год. Нужно проанализировать поведение клиентов и сделать вывод — какой тариф лучше.\n"
   ]
  },
  {
   "cell_type": "markdown",
   "metadata": {},
   "source": [
    "## Изучение данных из файла"
   ]
  },
  {
   "cell_type": "markdown",
   "metadata": {},
   "source": [
    "Откроем файл с данными и изучим общую информацию."
   ]
  },
  {
   "cell_type": "code",
   "execution_count": 1,
   "metadata": {},
   "outputs": [],
   "source": [
    "import pandas as pd\n",
    "import numpy as np\n",
    "import matplotlib.pyplot as plt\n",
    "\n",
    "from datetime import datetime\n",
    "from scipy import stats as st"
   ]
  },
  {
   "cell_type": "code",
   "execution_count": 2,
   "metadata": {},
   "outputs": [],
   "source": [
    "users = pd.read_csv('/datasets/users.csv')\n",
    "calls = pd.read_csv('/datasets/calls.csv')\n",
    "messages = pd.read_csv('/datasets/messages.csv')\n",
    "internet = pd.read_csv('/datasets/internet.csv')\n",
    "tariffs = pd.read_csv('/datasets/tariffs.csv')"
   ]
  },
  {
   "cell_type": "markdown",
   "metadata": {},
   "source": [
    "Рассмотрим выборку описательной статистики и самой информации о датасетах по каждой таблице."
   ]
  },
  {
   "cell_type": "markdown",
   "metadata": {},
   "source": [
    "### Рассмотрим таблицу  users (информация о пользователях)."
   ]
  },
  {
   "cell_type": "code",
   "execution_count": 3,
   "metadata": {},
   "outputs": [
    {
     "data": {
      "text/html": [
       "<div>\n",
       "<style scoped>\n",
       "    .dataframe tbody tr th:only-of-type {\n",
       "        vertical-align: middle;\n",
       "    }\n",
       "\n",
       "    .dataframe tbody tr th {\n",
       "        vertical-align: top;\n",
       "    }\n",
       "\n",
       "    .dataframe thead th {\n",
       "        text-align: right;\n",
       "    }\n",
       "</style>\n",
       "<table border=\"1\" class=\"dataframe\">\n",
       "  <thead>\n",
       "    <tr style=\"text-align: right;\">\n",
       "      <th></th>\n",
       "      <th>user_id</th>\n",
       "      <th>age</th>\n",
       "      <th>churn_date</th>\n",
       "      <th>city</th>\n",
       "      <th>first_name</th>\n",
       "      <th>last_name</th>\n",
       "      <th>reg_date</th>\n",
       "      <th>tariff</th>\n",
       "    </tr>\n",
       "  </thead>\n",
       "  <tbody>\n",
       "    <tr>\n",
       "      <td>0</td>\n",
       "      <td>1000</td>\n",
       "      <td>52</td>\n",
       "      <td>NaN</td>\n",
       "      <td>Краснодар</td>\n",
       "      <td>Рафаил</td>\n",
       "      <td>Верещагин</td>\n",
       "      <td>2018-05-25</td>\n",
       "      <td>ultra</td>\n",
       "    </tr>\n",
       "    <tr>\n",
       "      <td>1</td>\n",
       "      <td>1001</td>\n",
       "      <td>41</td>\n",
       "      <td>NaN</td>\n",
       "      <td>Москва</td>\n",
       "      <td>Иван</td>\n",
       "      <td>Ежов</td>\n",
       "      <td>2018-11-01</td>\n",
       "      <td>smart</td>\n",
       "    </tr>\n",
       "    <tr>\n",
       "      <td>2</td>\n",
       "      <td>1002</td>\n",
       "      <td>59</td>\n",
       "      <td>NaN</td>\n",
       "      <td>Стерлитамак</td>\n",
       "      <td>Евгений</td>\n",
       "      <td>Абрамович</td>\n",
       "      <td>2018-06-17</td>\n",
       "      <td>smart</td>\n",
       "    </tr>\n",
       "    <tr>\n",
       "      <td>3</td>\n",
       "      <td>1003</td>\n",
       "      <td>23</td>\n",
       "      <td>NaN</td>\n",
       "      <td>Москва</td>\n",
       "      <td>Белла</td>\n",
       "      <td>Белякова</td>\n",
       "      <td>2018-08-17</td>\n",
       "      <td>ultra</td>\n",
       "    </tr>\n",
       "    <tr>\n",
       "      <td>4</td>\n",
       "      <td>1004</td>\n",
       "      <td>68</td>\n",
       "      <td>NaN</td>\n",
       "      <td>Новокузнецк</td>\n",
       "      <td>Татьяна</td>\n",
       "      <td>Авдеенко</td>\n",
       "      <td>2018-05-14</td>\n",
       "      <td>ultra</td>\n",
       "    </tr>\n",
       "    <tr>\n",
       "      <td>5</td>\n",
       "      <td>1005</td>\n",
       "      <td>67</td>\n",
       "      <td>NaN</td>\n",
       "      <td>Набережные Челны</td>\n",
       "      <td>Афанасий</td>\n",
       "      <td>Горлов</td>\n",
       "      <td>2018-01-25</td>\n",
       "      <td>smart</td>\n",
       "    </tr>\n",
       "    <tr>\n",
       "      <td>6</td>\n",
       "      <td>1006</td>\n",
       "      <td>21</td>\n",
       "      <td>NaN</td>\n",
       "      <td>Ульяновск</td>\n",
       "      <td>Леонид</td>\n",
       "      <td>Ермолаев</td>\n",
       "      <td>2018-02-26</td>\n",
       "      <td>smart</td>\n",
       "    </tr>\n",
       "    <tr>\n",
       "      <td>7</td>\n",
       "      <td>1007</td>\n",
       "      <td>65</td>\n",
       "      <td>NaN</td>\n",
       "      <td>Москва</td>\n",
       "      <td>Юна</td>\n",
       "      <td>Березина</td>\n",
       "      <td>2018-04-19</td>\n",
       "      <td>smart</td>\n",
       "    </tr>\n",
       "    <tr>\n",
       "      <td>8</td>\n",
       "      <td>1008</td>\n",
       "      <td>63</td>\n",
       "      <td>NaN</td>\n",
       "      <td>Челябинск</td>\n",
       "      <td>Рустэм</td>\n",
       "      <td>Пономарёв</td>\n",
       "      <td>2018-12-19</td>\n",
       "      <td>smart</td>\n",
       "    </tr>\n",
       "    <tr>\n",
       "      <td>9</td>\n",
       "      <td>1009</td>\n",
       "      <td>24</td>\n",
       "      <td>NaN</td>\n",
       "      <td>Пермь</td>\n",
       "      <td>Василиса</td>\n",
       "      <td>Блинова</td>\n",
       "      <td>2018-03-22</td>\n",
       "      <td>smart</td>\n",
       "    </tr>\n",
       "  </tbody>\n",
       "</table>\n",
       "</div>"
      ],
      "text/plain": [
       "   user_id  age churn_date              city first_name  last_name  \\\n",
       "0     1000   52        NaN         Краснодар     Рафаил  Верещагин   \n",
       "1     1001   41        NaN            Москва       Иван       Ежов   \n",
       "2     1002   59        NaN       Стерлитамак    Евгений  Абрамович   \n",
       "3     1003   23        NaN            Москва      Белла   Белякова   \n",
       "4     1004   68        NaN       Новокузнецк    Татьяна   Авдеенко   \n",
       "5     1005   67        NaN  Набережные Челны   Афанасий     Горлов   \n",
       "6     1006   21        NaN         Ульяновск     Леонид   Ермолаев   \n",
       "7     1007   65        NaN            Москва        Юна   Березина   \n",
       "8     1008   63        NaN         Челябинск     Рустэм  Пономарёв   \n",
       "9     1009   24        NaN             Пермь   Василиса    Блинова   \n",
       "\n",
       "     reg_date tariff  \n",
       "0  2018-05-25  ultra  \n",
       "1  2018-11-01  smart  \n",
       "2  2018-06-17  smart  \n",
       "3  2018-08-17  ultra  \n",
       "4  2018-05-14  ultra  \n",
       "5  2018-01-25  smart  \n",
       "6  2018-02-26  smart  \n",
       "7  2018-04-19  smart  \n",
       "8  2018-12-19  smart  \n",
       "9  2018-03-22  smart  "
      ]
     },
     "execution_count": 3,
     "metadata": {},
     "output_type": "execute_result"
    }
   ],
   "source": [
    "users.head(10)"
   ]
  },
  {
   "cell_type": "code",
   "execution_count": 4,
   "metadata": {},
   "outputs": [
    {
     "data": {
      "text/html": [
       "<div>\n",
       "<style scoped>\n",
       "    .dataframe tbody tr th:only-of-type {\n",
       "        vertical-align: middle;\n",
       "    }\n",
       "\n",
       "    .dataframe tbody tr th {\n",
       "        vertical-align: top;\n",
       "    }\n",
       "\n",
       "    .dataframe thead th {\n",
       "        text-align: right;\n",
       "    }\n",
       "</style>\n",
       "<table border=\"1\" class=\"dataframe\">\n",
       "  <thead>\n",
       "    <tr style=\"text-align: right;\">\n",
       "      <th></th>\n",
       "      <th>count</th>\n",
       "      <th>mean</th>\n",
       "      <th>std</th>\n",
       "      <th>min</th>\n",
       "      <th>25%</th>\n",
       "      <th>50%</th>\n",
       "      <th>75%</th>\n",
       "      <th>max</th>\n",
       "    </tr>\n",
       "  </thead>\n",
       "  <tbody>\n",
       "    <tr>\n",
       "      <td>user_id</td>\n",
       "      <td>500.0</td>\n",
       "      <td>1249.500</td>\n",
       "      <td>144.481833</td>\n",
       "      <td>1000.0</td>\n",
       "      <td>1124.75</td>\n",
       "      <td>1249.5</td>\n",
       "      <td>1374.25</td>\n",
       "      <td>1499.0</td>\n",
       "    </tr>\n",
       "    <tr>\n",
       "      <td>age</td>\n",
       "      <td>500.0</td>\n",
       "      <td>46.588</td>\n",
       "      <td>16.667630</td>\n",
       "      <td>18.0</td>\n",
       "      <td>32.00</td>\n",
       "      <td>46.0</td>\n",
       "      <td>62.00</td>\n",
       "      <td>75.0</td>\n",
       "    </tr>\n",
       "  </tbody>\n",
       "</table>\n",
       "</div>"
      ],
      "text/plain": [
       "         count      mean         std     min      25%     50%      75%     max\n",
       "user_id  500.0  1249.500  144.481833  1000.0  1124.75  1249.5  1374.25  1499.0\n",
       "age      500.0    46.588   16.667630    18.0    32.00    46.0    62.00    75.0"
      ]
     },
     "execution_count": 4,
     "metadata": {},
     "output_type": "execute_result"
    }
   ],
   "source": [
    "users.describe().T"
   ]
  },
  {
   "cell_type": "markdown",
   "metadata": {},
   "source": [
    "Необходимо изменить тип данных по столбцу - reg_date (дата подключения тарифа (день, месяц, год)) на datetime. \n",
    "\n",
    "Также следует добавить столбцы: месяц, время года."
   ]
  },
  {
   "cell_type": "markdown",
   "metadata": {},
   "source": [
    "### Посмотрим таблицу calls (информация о звонках)."
   ]
  },
  {
   "cell_type": "code",
   "execution_count": 5,
   "metadata": {},
   "outputs": [
    {
     "data": {
      "text/html": [
       "<div>\n",
       "<style scoped>\n",
       "    .dataframe tbody tr th:only-of-type {\n",
       "        vertical-align: middle;\n",
       "    }\n",
       "\n",
       "    .dataframe tbody tr th {\n",
       "        vertical-align: top;\n",
       "    }\n",
       "\n",
       "    .dataframe thead th {\n",
       "        text-align: right;\n",
       "    }\n",
       "</style>\n",
       "<table border=\"1\" class=\"dataframe\">\n",
       "  <thead>\n",
       "    <tr style=\"text-align: right;\">\n",
       "      <th></th>\n",
       "      <th>id</th>\n",
       "      <th>call_date</th>\n",
       "      <th>duration</th>\n",
       "      <th>user_id</th>\n",
       "    </tr>\n",
       "  </thead>\n",
       "  <tbody>\n",
       "    <tr>\n",
       "      <td>0</td>\n",
       "      <td>1000_0</td>\n",
       "      <td>2018-07-25</td>\n",
       "      <td>0.00</td>\n",
       "      <td>1000</td>\n",
       "    </tr>\n",
       "    <tr>\n",
       "      <td>1</td>\n",
       "      <td>1000_1</td>\n",
       "      <td>2018-08-17</td>\n",
       "      <td>0.00</td>\n",
       "      <td>1000</td>\n",
       "    </tr>\n",
       "    <tr>\n",
       "      <td>2</td>\n",
       "      <td>1000_2</td>\n",
       "      <td>2018-06-11</td>\n",
       "      <td>2.85</td>\n",
       "      <td>1000</td>\n",
       "    </tr>\n",
       "    <tr>\n",
       "      <td>3</td>\n",
       "      <td>1000_3</td>\n",
       "      <td>2018-09-21</td>\n",
       "      <td>13.80</td>\n",
       "      <td>1000</td>\n",
       "    </tr>\n",
       "    <tr>\n",
       "      <td>4</td>\n",
       "      <td>1000_4</td>\n",
       "      <td>2018-12-15</td>\n",
       "      <td>5.18</td>\n",
       "      <td>1000</td>\n",
       "    </tr>\n",
       "    <tr>\n",
       "      <td>5</td>\n",
       "      <td>1000_5</td>\n",
       "      <td>2018-11-02</td>\n",
       "      <td>0.00</td>\n",
       "      <td>1000</td>\n",
       "    </tr>\n",
       "    <tr>\n",
       "      <td>6</td>\n",
       "      <td>1000_6</td>\n",
       "      <td>2018-10-18</td>\n",
       "      <td>0.00</td>\n",
       "      <td>1000</td>\n",
       "    </tr>\n",
       "    <tr>\n",
       "      <td>7</td>\n",
       "      <td>1000_7</td>\n",
       "      <td>2018-08-22</td>\n",
       "      <td>18.31</td>\n",
       "      <td>1000</td>\n",
       "    </tr>\n",
       "    <tr>\n",
       "      <td>8</td>\n",
       "      <td>1000_8</td>\n",
       "      <td>2018-09-15</td>\n",
       "      <td>18.44</td>\n",
       "      <td>1000</td>\n",
       "    </tr>\n",
       "    <tr>\n",
       "      <td>9</td>\n",
       "      <td>1000_9</td>\n",
       "      <td>2018-08-15</td>\n",
       "      <td>0.00</td>\n",
       "      <td>1000</td>\n",
       "    </tr>\n",
       "  </tbody>\n",
       "</table>\n",
       "</div>"
      ],
      "text/plain": [
       "       id   call_date  duration  user_id\n",
       "0  1000_0  2018-07-25      0.00     1000\n",
       "1  1000_1  2018-08-17      0.00     1000\n",
       "2  1000_2  2018-06-11      2.85     1000\n",
       "3  1000_3  2018-09-21     13.80     1000\n",
       "4  1000_4  2018-12-15      5.18     1000\n",
       "5  1000_5  2018-11-02      0.00     1000\n",
       "6  1000_6  2018-10-18      0.00     1000\n",
       "7  1000_7  2018-08-22     18.31     1000\n",
       "8  1000_8  2018-09-15     18.44     1000\n",
       "9  1000_9  2018-08-15      0.00     1000"
      ]
     },
     "execution_count": 5,
     "metadata": {},
     "output_type": "execute_result"
    }
   ],
   "source": [
    "calls.head(10)"
   ]
  },
  {
   "cell_type": "code",
   "execution_count": 6,
   "metadata": {},
   "outputs": [
    {
     "name": "stdout",
     "output_type": "stream",
     "text": [
      "<class 'pandas.core.frame.DataFrame'>\n",
      "RangeIndex: 202607 entries, 0 to 202606\n",
      "Data columns (total 4 columns):\n",
      "id           202607 non-null object\n",
      "call_date    202607 non-null object\n",
      "duration     202607 non-null float64\n",
      "user_id      202607 non-null int64\n",
      "dtypes: float64(1), int64(1), object(2)\n",
      "memory usage: 6.2+ MB\n"
     ]
    }
   ],
   "source": [
    "calls.info()"
   ]
  },
  {
   "cell_type": "markdown",
   "metadata": {},
   "source": [
    "В таблице содержится 202 607 строк данных. \n",
    "\n",
    "Данные полные, пропещунных данных не иметтся. \n",
    "\n",
    "Необходимо изменить тип данных по столбцу - call_date (дата звонка) на datetime."
   ]
  },
  {
   "cell_type": "markdown",
   "metadata": {},
   "source": [
    "### Посмотрим таблицу messages (информация о сообщениях)."
   ]
  },
  {
   "cell_type": "code",
   "execution_count": 7,
   "metadata": {},
   "outputs": [
    {
     "data": {
      "text/html": [
       "<div>\n",
       "<style scoped>\n",
       "    .dataframe tbody tr th:only-of-type {\n",
       "        vertical-align: middle;\n",
       "    }\n",
       "\n",
       "    .dataframe tbody tr th {\n",
       "        vertical-align: top;\n",
       "    }\n",
       "\n",
       "    .dataframe thead th {\n",
       "        text-align: right;\n",
       "    }\n",
       "</style>\n",
       "<table border=\"1\" class=\"dataframe\">\n",
       "  <thead>\n",
       "    <tr style=\"text-align: right;\">\n",
       "      <th></th>\n",
       "      <th>id</th>\n",
       "      <th>message_date</th>\n",
       "      <th>user_id</th>\n",
       "    </tr>\n",
       "  </thead>\n",
       "  <tbody>\n",
       "    <tr>\n",
       "      <td>0</td>\n",
       "      <td>1000_0</td>\n",
       "      <td>2018-06-27</td>\n",
       "      <td>1000</td>\n",
       "    </tr>\n",
       "    <tr>\n",
       "      <td>1</td>\n",
       "      <td>1000_1</td>\n",
       "      <td>2018-10-08</td>\n",
       "      <td>1000</td>\n",
       "    </tr>\n",
       "    <tr>\n",
       "      <td>2</td>\n",
       "      <td>1000_2</td>\n",
       "      <td>2018-08-04</td>\n",
       "      <td>1000</td>\n",
       "    </tr>\n",
       "    <tr>\n",
       "      <td>3</td>\n",
       "      <td>1000_3</td>\n",
       "      <td>2018-06-16</td>\n",
       "      <td>1000</td>\n",
       "    </tr>\n",
       "    <tr>\n",
       "      <td>4</td>\n",
       "      <td>1000_4</td>\n",
       "      <td>2018-12-05</td>\n",
       "      <td>1000</td>\n",
       "    </tr>\n",
       "    <tr>\n",
       "      <td>5</td>\n",
       "      <td>1000_5</td>\n",
       "      <td>2018-06-20</td>\n",
       "      <td>1000</td>\n",
       "    </tr>\n",
       "    <tr>\n",
       "      <td>6</td>\n",
       "      <td>1000_6</td>\n",
       "      <td>2018-11-19</td>\n",
       "      <td>1000</td>\n",
       "    </tr>\n",
       "    <tr>\n",
       "      <td>7</td>\n",
       "      <td>1000_7</td>\n",
       "      <td>2018-10-29</td>\n",
       "      <td>1000</td>\n",
       "    </tr>\n",
       "    <tr>\n",
       "      <td>8</td>\n",
       "      <td>1000_8</td>\n",
       "      <td>2018-06-25</td>\n",
       "      <td>1000</td>\n",
       "    </tr>\n",
       "    <tr>\n",
       "      <td>9</td>\n",
       "      <td>1000_9</td>\n",
       "      <td>2018-12-18</td>\n",
       "      <td>1000</td>\n",
       "    </tr>\n",
       "  </tbody>\n",
       "</table>\n",
       "</div>"
      ],
      "text/plain": [
       "       id message_date  user_id\n",
       "0  1000_0   2018-06-27     1000\n",
       "1  1000_1   2018-10-08     1000\n",
       "2  1000_2   2018-08-04     1000\n",
       "3  1000_3   2018-06-16     1000\n",
       "4  1000_4   2018-12-05     1000\n",
       "5  1000_5   2018-06-20     1000\n",
       "6  1000_6   2018-11-19     1000\n",
       "7  1000_7   2018-10-29     1000\n",
       "8  1000_8   2018-06-25     1000\n",
       "9  1000_9   2018-12-18     1000"
      ]
     },
     "execution_count": 7,
     "metadata": {},
     "output_type": "execute_result"
    }
   ],
   "source": [
    "messages.head(10)"
   ]
  },
  {
   "cell_type": "code",
   "execution_count": 8,
   "metadata": {},
   "outputs": [
    {
     "name": "stdout",
     "output_type": "stream",
     "text": [
      "<class 'pandas.core.frame.DataFrame'>\n",
      "RangeIndex: 123036 entries, 0 to 123035\n",
      "Data columns (total 3 columns):\n",
      "id              123036 non-null object\n",
      "message_date    123036 non-null object\n",
      "user_id         123036 non-null int64\n",
      "dtypes: int64(1), object(2)\n",
      "memory usage: 2.8+ MB\n"
     ]
    }
   ],
   "source": [
    "messages.info()"
   ]
  },
  {
   "cell_type": "markdown",
   "metadata": {},
   "source": [
    "В таблице содержится 123 036 строк данных. \n",
    "\n",
    "Данные полные, пропещунных данных не иметтся. \n",
    "\n",
    "Необходимо изменить тип данных по столбцу - message_date (дата сообщения) на datetime."
   ]
  },
  {
   "cell_type": "markdown",
   "metadata": {},
   "source": [
    "### Посмотрим таблицу internet (информация об интернет-сессиях)."
   ]
  },
  {
   "cell_type": "code",
   "execution_count": 9,
   "metadata": {},
   "outputs": [
    {
     "data": {
      "text/html": [
       "<div>\n",
       "<style scoped>\n",
       "    .dataframe tbody tr th:only-of-type {\n",
       "        vertical-align: middle;\n",
       "    }\n",
       "\n",
       "    .dataframe tbody tr th {\n",
       "        vertical-align: top;\n",
       "    }\n",
       "\n",
       "    .dataframe thead th {\n",
       "        text-align: right;\n",
       "    }\n",
       "</style>\n",
       "<table border=\"1\" class=\"dataframe\">\n",
       "  <thead>\n",
       "    <tr style=\"text-align: right;\">\n",
       "      <th></th>\n",
       "      <th>Unnamed: 0</th>\n",
       "      <th>id</th>\n",
       "      <th>mb_used</th>\n",
       "      <th>session_date</th>\n",
       "      <th>user_id</th>\n",
       "    </tr>\n",
       "  </thead>\n",
       "  <tbody>\n",
       "    <tr>\n",
       "      <td>0</td>\n",
       "      <td>0</td>\n",
       "      <td>1000_0</td>\n",
       "      <td>112.95</td>\n",
       "      <td>2018-11-25</td>\n",
       "      <td>1000</td>\n",
       "    </tr>\n",
       "    <tr>\n",
       "      <td>1</td>\n",
       "      <td>1</td>\n",
       "      <td>1000_1</td>\n",
       "      <td>1052.81</td>\n",
       "      <td>2018-09-07</td>\n",
       "      <td>1000</td>\n",
       "    </tr>\n",
       "    <tr>\n",
       "      <td>2</td>\n",
       "      <td>2</td>\n",
       "      <td>1000_2</td>\n",
       "      <td>1197.26</td>\n",
       "      <td>2018-06-25</td>\n",
       "      <td>1000</td>\n",
       "    </tr>\n",
       "    <tr>\n",
       "      <td>3</td>\n",
       "      <td>3</td>\n",
       "      <td>1000_3</td>\n",
       "      <td>550.27</td>\n",
       "      <td>2018-08-22</td>\n",
       "      <td>1000</td>\n",
       "    </tr>\n",
       "    <tr>\n",
       "      <td>4</td>\n",
       "      <td>4</td>\n",
       "      <td>1000_4</td>\n",
       "      <td>302.56</td>\n",
       "      <td>2018-09-24</td>\n",
       "      <td>1000</td>\n",
       "    </tr>\n",
       "    <tr>\n",
       "      <td>5</td>\n",
       "      <td>5</td>\n",
       "      <td>1000_5</td>\n",
       "      <td>399.97</td>\n",
       "      <td>2018-10-02</td>\n",
       "      <td>1000</td>\n",
       "    </tr>\n",
       "    <tr>\n",
       "      <td>6</td>\n",
       "      <td>6</td>\n",
       "      <td>1000_6</td>\n",
       "      <td>540.08</td>\n",
       "      <td>2018-09-07</td>\n",
       "      <td>1000</td>\n",
       "    </tr>\n",
       "    <tr>\n",
       "      <td>7</td>\n",
       "      <td>7</td>\n",
       "      <td>1000_7</td>\n",
       "      <td>415.70</td>\n",
       "      <td>2018-07-11</td>\n",
       "      <td>1000</td>\n",
       "    </tr>\n",
       "    <tr>\n",
       "      <td>8</td>\n",
       "      <td>8</td>\n",
       "      <td>1000_8</td>\n",
       "      <td>505.40</td>\n",
       "      <td>2018-10-08</td>\n",
       "      <td>1000</td>\n",
       "    </tr>\n",
       "    <tr>\n",
       "      <td>9</td>\n",
       "      <td>9</td>\n",
       "      <td>1000_9</td>\n",
       "      <td>345.54</td>\n",
       "      <td>2018-09-03</td>\n",
       "      <td>1000</td>\n",
       "    </tr>\n",
       "  </tbody>\n",
       "</table>\n",
       "</div>"
      ],
      "text/plain": [
       "   Unnamed: 0      id  mb_used session_date  user_id\n",
       "0           0  1000_0   112.95   2018-11-25     1000\n",
       "1           1  1000_1  1052.81   2018-09-07     1000\n",
       "2           2  1000_2  1197.26   2018-06-25     1000\n",
       "3           3  1000_3   550.27   2018-08-22     1000\n",
       "4           4  1000_4   302.56   2018-09-24     1000\n",
       "5           5  1000_5   399.97   2018-10-02     1000\n",
       "6           6  1000_6   540.08   2018-09-07     1000\n",
       "7           7  1000_7   415.70   2018-07-11     1000\n",
       "8           8  1000_8   505.40   2018-10-08     1000\n",
       "9           9  1000_9   345.54   2018-09-03     1000"
      ]
     },
     "execution_count": 9,
     "metadata": {},
     "output_type": "execute_result"
    }
   ],
   "source": [
    "internet.head(10)"
   ]
  },
  {
   "cell_type": "code",
   "execution_count": 10,
   "metadata": {},
   "outputs": [
    {
     "name": "stdout",
     "output_type": "stream",
     "text": [
      "<class 'pandas.core.frame.DataFrame'>\n",
      "RangeIndex: 149396 entries, 0 to 149395\n",
      "Data columns (total 5 columns):\n",
      "Unnamed: 0      149396 non-null int64\n",
      "id              149396 non-null object\n",
      "mb_used         149396 non-null float64\n",
      "session_date    149396 non-null object\n",
      "user_id         149396 non-null int64\n",
      "dtypes: float64(1), int64(2), object(2)\n",
      "memory usage: 5.7+ MB\n"
     ]
    }
   ],
   "source": [
    "internet.info()"
   ]
  },
  {
   "cell_type": "markdown",
   "metadata": {},
   "source": [
    "В таблице содержится 149 396 строк данных.\n",
    "\n",
    "Данные полные, пропещунных данных не иметтся.\n",
    "\n",
    "Необходимо изменить тип данных по столбцу - session_date (дата интернет-сессии) на datetime."
   ]
  },
  {
   "cell_type": "markdown",
   "metadata": {},
   "source": [
    "### Посмотрим таблицу tariffs (информация о тарифах)."
   ]
  },
  {
   "cell_type": "code",
   "execution_count": 11,
   "metadata": {},
   "outputs": [
    {
     "data": {
      "text/html": [
       "<div>\n",
       "<style scoped>\n",
       "    .dataframe tbody tr th:only-of-type {\n",
       "        vertical-align: middle;\n",
       "    }\n",
       "\n",
       "    .dataframe tbody tr th {\n",
       "        vertical-align: top;\n",
       "    }\n",
       "\n",
       "    .dataframe thead th {\n",
       "        text-align: right;\n",
       "    }\n",
       "</style>\n",
       "<table border=\"1\" class=\"dataframe\">\n",
       "  <thead>\n",
       "    <tr style=\"text-align: right;\">\n",
       "      <th></th>\n",
       "      <th>messages_included</th>\n",
       "      <th>mb_per_month_included</th>\n",
       "      <th>minutes_included</th>\n",
       "      <th>rub_monthly_fee</th>\n",
       "      <th>rub_per_gb</th>\n",
       "      <th>rub_per_message</th>\n",
       "      <th>rub_per_minute</th>\n",
       "      <th>tariff_name</th>\n",
       "    </tr>\n",
       "  </thead>\n",
       "  <tbody>\n",
       "    <tr>\n",
       "      <td>0</td>\n",
       "      <td>50</td>\n",
       "      <td>15360</td>\n",
       "      <td>500</td>\n",
       "      <td>550</td>\n",
       "      <td>200</td>\n",
       "      <td>3</td>\n",
       "      <td>3</td>\n",
       "      <td>smart</td>\n",
       "    </tr>\n",
       "    <tr>\n",
       "      <td>1</td>\n",
       "      <td>1000</td>\n",
       "      <td>30720</td>\n",
       "      <td>3000</td>\n",
       "      <td>1950</td>\n",
       "      <td>150</td>\n",
       "      <td>1</td>\n",
       "      <td>1</td>\n",
       "      <td>ultra</td>\n",
       "    </tr>\n",
       "  </tbody>\n",
       "</table>\n",
       "</div>"
      ],
      "text/plain": [
       "   messages_included  mb_per_month_included  minutes_included  \\\n",
       "0                 50                  15360               500   \n",
       "1               1000                  30720              3000   \n",
       "\n",
       "   rub_monthly_fee  rub_per_gb  rub_per_message  rub_per_minute tariff_name  \n",
       "0              550         200                3               3       smart  \n",
       "1             1950         150                1               1       ultra  "
      ]
     },
     "execution_count": 11,
     "metadata": {},
     "output_type": "execute_result"
    }
   ],
   "source": [
    "tariffs.head()"
   ]
  },
  {
   "cell_type": "markdown",
   "metadata": {},
   "source": [
    "Таблица tariffs (информация о трафиках) содержит условия по трафикам. Проблем по данной таблице нет и не должно быть."
   ]
  },
  {
   "cell_type": "markdown",
   "metadata": {},
   "source": [
    "# Промежуточный вывод"
   ]
  },
  {
   "cell_type": "markdown",
   "metadata": {},
   "source": [
    "Была просмотрена информация о датасетах по каждой таблице и сделаны предвательные выводы.\n",
    "\n",
    "Для достижения поставленной задачи необходимо решить вопросы по следующим пунктам:\n",
    "- просмотреть данные и найти анамальные значения;\n",
    "- найти и обработать пропущенные значения;\n",
    "- заменить некорректные типы данных;\n",
    "- найти и удалить дублирующие значения."
   ]
  },
  {
   "cell_type": "markdown",
   "metadata": {},
   "source": [
    "## Предобработка данных"
   ]
  },
  {
   "cell_type": "markdown",
   "metadata": {},
   "source": [
    "### Рассмотрим таблицу users (информация о пользователях)."
   ]
  },
  {
   "cell_type": "markdown",
   "metadata": {},
   "source": [
    "Произведем проверку пользователей на уникальность и наличие дубликатов."
   ]
  },
  {
   "cell_type": "code",
   "execution_count": 12,
   "metadata": {},
   "outputs": [
    {
     "name": "stdout",
     "output_type": "stream",
     "text": [
      "Число строк в датафрейме users: 500\n",
      "Число уникальных пользователей: 500\n",
      "Число дубликатов: 0\n"
     ]
    }
   ],
   "source": [
    "print(\"Число строк в датафрейме users:\", users.shape[0])\n",
    "print(\"Число уникальных пользователей:\", users['user_id'].count())\n",
    "print(\"Число дубликатов:\", users.duplicated().sum())"
   ]
  },
  {
   "cell_type": "markdown",
   "metadata": {},
   "source": [
    "Все пользователи являются уникальными. Дублирующих значений не наблюдается.\n",
    "\n",
    "Рассмотрим информацию о наличии пропусков."
   ]
  },
  {
   "cell_type": "code",
   "execution_count": 13,
   "metadata": {},
   "outputs": [
    {
     "name": "stdout",
     "output_type": "stream",
     "text": [
      "<class 'pandas.core.frame.DataFrame'>\n",
      "RangeIndex: 500 entries, 0 to 499\n",
      "Data columns (total 8 columns):\n",
      "user_id       500 non-null int64\n",
      "age           500 non-null int64\n",
      "churn_date    38 non-null object\n",
      "city          500 non-null object\n",
      "first_name    500 non-null object\n",
      "last_name     500 non-null object\n",
      "reg_date      500 non-null object\n",
      "tariff        500 non-null object\n",
      "dtypes: int64(2), object(6)\n",
      "memory usage: 31.4+ KB\n"
     ]
    }
   ],
   "source": [
    "users.info()"
   ]
  },
  {
   "cell_type": "markdown",
   "metadata": {},
   "source": [
    "Можем заметить, что по столбцу churn_date (дата прекращения пользования тарифом) наблюдается довольно много пропущенных значений. По условию задачи сказанно: если значение пропущено, то тариф ещё действовал на момент выгрузки данных. Тем самым, мы можем оставить даннные без изменения. Для решения поставленной задачи они нам не нужны.\n",
    "\n",
    "Произведем замену типа данных и добавление столбцов: месяц, время года чуть позже."
   ]
  },
  {
   "cell_type": "markdown",
   "metadata": {},
   "source": [
    "### Рассмотрим таблицу calls (информация о звонках)."
   ]
  },
  {
   "cell_type": "markdown",
   "metadata": {},
   "source": [
    "Построим гистограмму распределения длительности звонков и посмотрим на полученный результат."
   ]
  },
  {
   "cell_type": "code",
   "execution_count": 14,
   "metadata": {},
   "outputs": [
    {
     "data": {
      "text/plain": [
       "<matplotlib.axes._subplots.AxesSubplot at 0x7f1028b2cdd0>"
      ]
     },
     "execution_count": 14,
     "metadata": {},
     "output_type": "execute_result"
    },
    {
     "data": {
      "image/png": "[encoded data removed]",
      "text/plain": [
       "<Figure size 432x288 with 1 Axes>"
      ]
     },
     "metadata": {
      "needs_background": "light"
     },
     "output_type": "display_data"
    }
   ],
   "source": [
    "plt.style.use('seaborn-pastel')\n",
    "calls['duration'].plot(kind='hist', color='salmon', ec='black', bins=50)"
   ]
  },
  {
   "cell_type": "markdown",
   "metadata": {},
   "source": [
    "Видим, что имеются звонки околонулевой длительности. В задании сказано: «Мегалайн» всегда округляет вверх значения минут и мегабайтов. Если пользователь проговорил всего 1 секунду, в тарифе засчитывается целая минута.\n",
    "\n",
    "Следует округлить значения в большую сторону. Воспользуется методом np.ceil."
   ]
  },
  {
   "cell_type": "code",
   "execution_count": 15,
   "metadata": {},
   "outputs": [
    {
     "data": {
      "text/html": [
       "<div>\n",
       "<style scoped>\n",
       "    .dataframe tbody tr th:only-of-type {\n",
       "        vertical-align: middle;\n",
       "    }\n",
       "\n",
       "    .dataframe tbody tr th {\n",
       "        vertical-align: top;\n",
       "    }\n",
       "\n",
       "    .dataframe thead th {\n",
       "        text-align: right;\n",
       "    }\n",
       "</style>\n",
       "<table border=\"1\" class=\"dataframe\">\n",
       "  <thead>\n",
       "    <tr style=\"text-align: right;\">\n",
       "      <th></th>\n",
       "      <th>id</th>\n",
       "      <th>call_date</th>\n",
       "      <th>duration</th>\n",
       "      <th>user_id</th>\n",
       "    </tr>\n",
       "  </thead>\n",
       "  <tbody>\n",
       "    <tr>\n",
       "      <td>0</td>\n",
       "      <td>1000_0</td>\n",
       "      <td>2018-07-25</td>\n",
       "      <td>0.0</td>\n",
       "      <td>1000</td>\n",
       "    </tr>\n",
       "    <tr>\n",
       "      <td>1</td>\n",
       "      <td>1000_1</td>\n",
       "      <td>2018-08-17</td>\n",
       "      <td>0.0</td>\n",
       "      <td>1000</td>\n",
       "    </tr>\n",
       "    <tr>\n",
       "      <td>2</td>\n",
       "      <td>1000_2</td>\n",
       "      <td>2018-06-11</td>\n",
       "      <td>3.0</td>\n",
       "      <td>1000</td>\n",
       "    </tr>\n",
       "    <tr>\n",
       "      <td>3</td>\n",
       "      <td>1000_3</td>\n",
       "      <td>2018-09-21</td>\n",
       "      <td>14.0</td>\n",
       "      <td>1000</td>\n",
       "    </tr>\n",
       "    <tr>\n",
       "      <td>4</td>\n",
       "      <td>1000_4</td>\n",
       "      <td>2018-12-15</td>\n",
       "      <td>6.0</td>\n",
       "      <td>1000</td>\n",
       "    </tr>\n",
       "    <tr>\n",
       "      <td>5</td>\n",
       "      <td>1000_5</td>\n",
       "      <td>2018-11-02</td>\n",
       "      <td>0.0</td>\n",
       "      <td>1000</td>\n",
       "    </tr>\n",
       "    <tr>\n",
       "      <td>6</td>\n",
       "      <td>1000_6</td>\n",
       "      <td>2018-10-18</td>\n",
       "      <td>0.0</td>\n",
       "      <td>1000</td>\n",
       "    </tr>\n",
       "    <tr>\n",
       "      <td>7</td>\n",
       "      <td>1000_7</td>\n",
       "      <td>2018-08-22</td>\n",
       "      <td>19.0</td>\n",
       "      <td>1000</td>\n",
       "    </tr>\n",
       "    <tr>\n",
       "      <td>8</td>\n",
       "      <td>1000_8</td>\n",
       "      <td>2018-09-15</td>\n",
       "      <td>19.0</td>\n",
       "      <td>1000</td>\n",
       "    </tr>\n",
       "    <tr>\n",
       "      <td>9</td>\n",
       "      <td>1000_9</td>\n",
       "      <td>2018-08-15</td>\n",
       "      <td>0.0</td>\n",
       "      <td>1000</td>\n",
       "    </tr>\n",
       "  </tbody>\n",
       "</table>\n",
       "</div>"
      ],
      "text/plain": [
       "       id   call_date  duration  user_id\n",
       "0  1000_0  2018-07-25       0.0     1000\n",
       "1  1000_1  2018-08-17       0.0     1000\n",
       "2  1000_2  2018-06-11       3.0     1000\n",
       "3  1000_3  2018-09-21      14.0     1000\n",
       "4  1000_4  2018-12-15       6.0     1000\n",
       "5  1000_5  2018-11-02       0.0     1000\n",
       "6  1000_6  2018-10-18       0.0     1000\n",
       "7  1000_7  2018-08-22      19.0     1000\n",
       "8  1000_8  2018-09-15      19.0     1000\n",
       "9  1000_9  2018-08-15       0.0     1000"
      ]
     },
     "execution_count": 15,
     "metadata": {},
     "output_type": "execute_result"
    }
   ],
   "source": [
    "calls['duration'] = calls['duration'].apply(np.ceil)\n",
    "calls.head(10)"
   ]
  },
  {
   "cell_type": "markdown",
   "metadata": {},
   "source": [
    "Повторно посмотрим на гистограмму распределения длительности звонков."
   ]
  },
  {
   "cell_type": "code",
   "execution_count": 16,
   "metadata": {},
   "outputs": [
    {
     "data": {
      "text/plain": [
       "<matplotlib.axes._subplots.AxesSubplot at 0x7f1027f58790>"
      ]
     },
     "execution_count": 16,
     "metadata": {},
     "output_type": "execute_result"
    },
    {
     "data": {
      "image/png": "[encoded data removed]",
      "text/plain": [
       "<Figure size 432x288 with 1 Axes>"
      ]
     },
     "metadata": {
      "needs_background": "light"
     },
     "output_type": "display_data"
    }
   ],
   "source": [
    "calls['duration'].plot(kind='hist', color='salmon', ec='black', bins=50)"
   ]
  },
  {
   "cell_type": "markdown",
   "metadata": {},
   "source": [
    "Рассмотрим поближе звонки околонулевой длительности."
   ]
  },
  {
   "cell_type": "code",
   "execution_count": 17,
   "metadata": {},
   "outputs": [
    {
     "data": {
      "text/html": [
       "<div>\n",
       "<style scoped>\n",
       "    .dataframe tbody tr th:only-of-type {\n",
       "        vertical-align: middle;\n",
       "    }\n",
       "\n",
       "    .dataframe tbody tr th {\n",
       "        vertical-align: top;\n",
       "    }\n",
       "\n",
       "    .dataframe thead th {\n",
       "        text-align: right;\n",
       "    }\n",
       "</style>\n",
       "<table border=\"1\" class=\"dataframe\">\n",
       "  <thead>\n",
       "    <tr style=\"text-align: right;\">\n",
       "      <th></th>\n",
       "      <th>id</th>\n",
       "      <th>call_date</th>\n",
       "      <th>duration</th>\n",
       "      <th>user_id</th>\n",
       "    </tr>\n",
       "  </thead>\n",
       "  <tbody>\n",
       "    <tr>\n",
       "      <td>0</td>\n",
       "      <td>1000_0</td>\n",
       "      <td>2018-07-25</td>\n",
       "      <td>0.0</td>\n",
       "      <td>1000</td>\n",
       "    </tr>\n",
       "    <tr>\n",
       "      <td>1</td>\n",
       "      <td>1000_1</td>\n",
       "      <td>2018-08-17</td>\n",
       "      <td>0.0</td>\n",
       "      <td>1000</td>\n",
       "    </tr>\n",
       "    <tr>\n",
       "      <td>5</td>\n",
       "      <td>1000_5</td>\n",
       "      <td>2018-11-02</td>\n",
       "      <td>0.0</td>\n",
       "      <td>1000</td>\n",
       "    </tr>\n",
       "    <tr>\n",
       "      <td>6</td>\n",
       "      <td>1000_6</td>\n",
       "      <td>2018-10-18</td>\n",
       "      <td>0.0</td>\n",
       "      <td>1000</td>\n",
       "    </tr>\n",
       "    <tr>\n",
       "      <td>9</td>\n",
       "      <td>1000_9</td>\n",
       "      <td>2018-08-15</td>\n",
       "      <td>0.0</td>\n",
       "      <td>1000</td>\n",
       "    </tr>\n",
       "    <tr>\n",
       "      <td>...</td>\n",
       "      <td>...</td>\n",
       "      <td>...</td>\n",
       "      <td>...</td>\n",
       "      <td>...</td>\n",
       "    </tr>\n",
       "    <tr>\n",
       "      <td>202590</td>\n",
       "      <td>1499_203</td>\n",
       "      <td>2018-12-03</td>\n",
       "      <td>0.0</td>\n",
       "      <td>1499</td>\n",
       "    </tr>\n",
       "    <tr>\n",
       "      <td>202592</td>\n",
       "      <td>1499_205</td>\n",
       "      <td>2018-10-13</td>\n",
       "      <td>0.0</td>\n",
       "      <td>1499</td>\n",
       "    </tr>\n",
       "    <tr>\n",
       "      <td>202593</td>\n",
       "      <td>1499_206</td>\n",
       "      <td>2018-12-26</td>\n",
       "      <td>0.0</td>\n",
       "      <td>1499</td>\n",
       "    </tr>\n",
       "    <tr>\n",
       "      <td>202594</td>\n",
       "      <td>1499_207</td>\n",
       "      <td>2018-10-28</td>\n",
       "      <td>0.0</td>\n",
       "      <td>1499</td>\n",
       "    </tr>\n",
       "    <tr>\n",
       "      <td>202596</td>\n",
       "      <td>1499_209</td>\n",
       "      <td>2018-12-16</td>\n",
       "      <td>0.0</td>\n",
       "      <td>1499</td>\n",
       "    </tr>\n",
       "  </tbody>\n",
       "</table>\n",
       "<p>39613 rows × 4 columns</p>\n",
       "</div>"
      ],
      "text/plain": [
       "              id   call_date  duration  user_id\n",
       "0         1000_0  2018-07-25       0.0     1000\n",
       "1         1000_1  2018-08-17       0.0     1000\n",
       "5         1000_5  2018-11-02       0.0     1000\n",
       "6         1000_6  2018-10-18       0.0     1000\n",
       "9         1000_9  2018-08-15       0.0     1000\n",
       "...          ...         ...       ...      ...\n",
       "202590  1499_203  2018-12-03       0.0     1499\n",
       "202592  1499_205  2018-10-13       0.0     1499\n",
       "202593  1499_206  2018-12-26       0.0     1499\n",
       "202594  1499_207  2018-10-28       0.0     1499\n",
       "202596  1499_209  2018-12-16       0.0     1499\n",
       "\n",
       "[39613 rows x 4 columns]"
      ]
     },
     "execution_count": 17,
     "metadata": {},
     "output_type": "execute_result"
    }
   ],
   "source": [
    "calls.query('duration == 0.0')"
   ]
  },
  {
   "cell_type": "markdown",
   "metadata": {},
   "source": [
    "Данных звонков наблюдается около 40 тысяч. Проверим, относятся ли данные звонки к одному тарифу. Можно предположить, что по какому-то тарифу данные округлились не верно, в то время как должны были окргулиться в большую сторону (до 1 минуты)."
   ]
  },
  {
   "cell_type": "code",
   "execution_count": 18,
   "metadata": {},
   "outputs": [
    {
     "data": {
      "text/plain": [
       "smart    130315\n",
       "ultra     72292\n",
       "Name: Тариф, dtype: int64"
      ]
     },
     "execution_count": 18,
     "metadata": {},
     "output_type": "execute_result"
    }
   ],
   "source": [
    "map_to_fill_tariff = dict(pd.Series(users['tariff'].values, index=users['user_id']))\n",
    "calls['Тариф'] = calls['user_id'].map(map_to_fill_tariff)\n",
    "calls['Тариф'].value_counts()"
   ]
  },
  {
   "cell_type": "markdown",
   "metadata": {},
   "source": [
    "Предполагаемая гипотеза не подтвердилась. По каждому тарифу имеются нулевые звонки. Тогда, можно предложить, что данные звонки являются не состоявшиеся. Нулевые значения могут иметь происхождение: \n",
    "\n",
    "- прерывание связи в случае, когда другой абонент был \"занят/недоступен\";\n",
    "- прерывание связи в случае, когда произошел моментальный сброс вызова после состоявшегося дозвона.\n",
    "\n",
    "Так как данные случаи не расходуют лимит минут и не принимают участия в формировании конечной выручки компании - предлагется удалить данные строки."
   ]
  },
  {
   "cell_type": "code",
   "execution_count": 19,
   "metadata": {},
   "outputs": [],
   "source": [
    "calls['duration'] = calls['duration'].replace(0, np.NaN)\n",
    "calls = calls.dropna()"
   ]
  },
  {
   "cell_type": "markdown",
   "metadata": {},
   "source": [
    "Проверим."
   ]
  },
  {
   "cell_type": "code",
   "execution_count": 20,
   "metadata": {},
   "outputs": [
    {
     "data": {
      "text/plain": [
       "<matplotlib.axes._subplots.AxesSubplot at 0x7f1027e4bbd0>"
      ]
     },
     "execution_count": 20,
     "metadata": {},
     "output_type": "execute_result"
    },
    {
     "data": {
      "image/png": "[encoded data removed]",
      "text/plain": [
       "<Figure size 432x288 with 1 Axes>"
      ]
     },
     "metadata": {
      "needs_background": "light"
     },
     "output_type": "display_data"
    }
   ],
   "source": [
    "calls['duration'].plot(kind='hist', color='salmon', ec='black', bins=50)"
   ]
  },
  {
   "cell_type": "markdown",
   "metadata": {},
   "source": [
    "Произведем замену типа данных и добавление столбцов: месяц, время года чуть позже."
   ]
  },
  {
   "cell_type": "markdown",
   "metadata": {},
   "source": [
    "### Рассмотрим таблицу messages (информация о сообщениях)."
   ]
  },
  {
   "cell_type": "markdown",
   "metadata": {},
   "source": [
    "Произведем замену типа данных и добавление столбцов: месяц, время года чуть позже."
   ]
  },
  {
   "cell_type": "markdown",
   "metadata": {},
   "source": [
    "### Рассмотрим таблицу internet (информация об интернет-сессиях)."
   ]
  },
  {
   "cell_type": "markdown",
   "metadata": {},
   "source": [
    "В задании сказано: «Мегалайн» всегда округляет вверх значения минут и мегабайтов. Если пользователь проговорил всего 1 секунду, в тарифе засчитывается целая минута. Следует округлить значения в большую сторону. Воспользуется методом np.ceil."
   ]
  },
  {
   "cell_type": "code",
   "execution_count": 21,
   "metadata": {},
   "outputs": [
    {
     "data": {
      "text/html": [
       "<div>\n",
       "<style scoped>\n",
       "    .dataframe tbody tr th:only-of-type {\n",
       "        vertical-align: middle;\n",
       "    }\n",
       "\n",
       "    .dataframe tbody tr th {\n",
       "        vertical-align: top;\n",
       "    }\n",
       "\n",
       "    .dataframe thead th {\n",
       "        text-align: right;\n",
       "    }\n",
       "</style>\n",
       "<table border=\"1\" class=\"dataframe\">\n",
       "  <thead>\n",
       "    <tr style=\"text-align: right;\">\n",
       "      <th></th>\n",
       "      <th>Unnamed: 0</th>\n",
       "      <th>id</th>\n",
       "      <th>mb_used</th>\n",
       "      <th>session_date</th>\n",
       "      <th>user_id</th>\n",
       "    </tr>\n",
       "  </thead>\n",
       "  <tbody>\n",
       "    <tr>\n",
       "      <td>0</td>\n",
       "      <td>0</td>\n",
       "      <td>1000_0</td>\n",
       "      <td>113.0</td>\n",
       "      <td>2018-11-25</td>\n",
       "      <td>1000</td>\n",
       "    </tr>\n",
       "    <tr>\n",
       "      <td>1</td>\n",
       "      <td>1</td>\n",
       "      <td>1000_1</td>\n",
       "      <td>1053.0</td>\n",
       "      <td>2018-09-07</td>\n",
       "      <td>1000</td>\n",
       "    </tr>\n",
       "    <tr>\n",
       "      <td>2</td>\n",
       "      <td>2</td>\n",
       "      <td>1000_2</td>\n",
       "      <td>1198.0</td>\n",
       "      <td>2018-06-25</td>\n",
       "      <td>1000</td>\n",
       "    </tr>\n",
       "    <tr>\n",
       "      <td>3</td>\n",
       "      <td>3</td>\n",
       "      <td>1000_3</td>\n",
       "      <td>551.0</td>\n",
       "      <td>2018-08-22</td>\n",
       "      <td>1000</td>\n",
       "    </tr>\n",
       "    <tr>\n",
       "      <td>4</td>\n",
       "      <td>4</td>\n",
       "      <td>1000_4</td>\n",
       "      <td>303.0</td>\n",
       "      <td>2018-09-24</td>\n",
       "      <td>1000</td>\n",
       "    </tr>\n",
       "    <tr>\n",
       "      <td>5</td>\n",
       "      <td>5</td>\n",
       "      <td>1000_5</td>\n",
       "      <td>400.0</td>\n",
       "      <td>2018-10-02</td>\n",
       "      <td>1000</td>\n",
       "    </tr>\n",
       "    <tr>\n",
       "      <td>6</td>\n",
       "      <td>6</td>\n",
       "      <td>1000_6</td>\n",
       "      <td>541.0</td>\n",
       "      <td>2018-09-07</td>\n",
       "      <td>1000</td>\n",
       "    </tr>\n",
       "    <tr>\n",
       "      <td>7</td>\n",
       "      <td>7</td>\n",
       "      <td>1000_7</td>\n",
       "      <td>416.0</td>\n",
       "      <td>2018-07-11</td>\n",
       "      <td>1000</td>\n",
       "    </tr>\n",
       "    <tr>\n",
       "      <td>8</td>\n",
       "      <td>8</td>\n",
       "      <td>1000_8</td>\n",
       "      <td>506.0</td>\n",
       "      <td>2018-10-08</td>\n",
       "      <td>1000</td>\n",
       "    </tr>\n",
       "    <tr>\n",
       "      <td>9</td>\n",
       "      <td>9</td>\n",
       "      <td>1000_9</td>\n",
       "      <td>346.0</td>\n",
       "      <td>2018-09-03</td>\n",
       "      <td>1000</td>\n",
       "    </tr>\n",
       "  </tbody>\n",
       "</table>\n",
       "</div>"
      ],
      "text/plain": [
       "   Unnamed: 0      id  mb_used session_date  user_id\n",
       "0           0  1000_0    113.0   2018-11-25     1000\n",
       "1           1  1000_1   1053.0   2018-09-07     1000\n",
       "2           2  1000_2   1198.0   2018-06-25     1000\n",
       "3           3  1000_3    551.0   2018-08-22     1000\n",
       "4           4  1000_4    303.0   2018-09-24     1000\n",
       "5           5  1000_5    400.0   2018-10-02     1000\n",
       "6           6  1000_6    541.0   2018-09-07     1000\n",
       "7           7  1000_7    416.0   2018-07-11     1000\n",
       "8           8  1000_8    506.0   2018-10-08     1000\n",
       "9           9  1000_9    346.0   2018-09-03     1000"
      ]
     },
     "execution_count": 21,
     "metadata": {},
     "output_type": "execute_result"
    }
   ],
   "source": [
    "internet['mb_used'] = internet['mb_used'].apply(np.ceil)\n",
    "internet.head(10)"
   ]
  },
  {
   "cell_type": "markdown",
   "metadata": {},
   "source": [
    "Построим гистограмму распределения использования интернет-трафика в сессиях."
   ]
  },
  {
   "cell_type": "code",
   "execution_count": 22,
   "metadata": {},
   "outputs": [
    {
     "data": {
      "text/plain": [
       "<matplotlib.axes._subplots.AxesSubplot at 0x7f102741ca50>"
      ]
     },
     "execution_count": 22,
     "metadata": {},
     "output_type": "execute_result"
    },
    {
     "data": {
      "image/png": "[encoded data removed]",
      "text/plain": [
       "<Figure size 432x288 with 1 Axes>"
      ]
     },
     "metadata": {
      "needs_background": "light"
     },
     "output_type": "display_data"
    }
   ],
   "source": [
    "internet['mb_used'].plot(kind='hist', color='salmon', ec='black', bins=50)"
   ]
  },
  {
   "cell_type": "markdown",
   "metadata": {},
   "source": [
    "Рассмотрим строки с нулевым объёмом потраченного за сессию интернет-трафиком."
   ]
  },
  {
   "cell_type": "code",
   "execution_count": 23,
   "metadata": {},
   "outputs": [
    {
     "data": {
      "text/html": [
       "<div>\n",
       "<style scoped>\n",
       "    .dataframe tbody tr th:only-of-type {\n",
       "        vertical-align: middle;\n",
       "    }\n",
       "\n",
       "    .dataframe tbody tr th {\n",
       "        vertical-align: top;\n",
       "    }\n",
       "\n",
       "    .dataframe thead th {\n",
       "        text-align: right;\n",
       "    }\n",
       "</style>\n",
       "<table border=\"1\" class=\"dataframe\">\n",
       "  <thead>\n",
       "    <tr style=\"text-align: right;\">\n",
       "      <th></th>\n",
       "      <th>Unnamed: 0</th>\n",
       "      <th>id</th>\n",
       "      <th>mb_used</th>\n",
       "      <th>session_date</th>\n",
       "      <th>user_id</th>\n",
       "    </tr>\n",
       "  </thead>\n",
       "  <tbody>\n",
       "    <tr>\n",
       "      <td>11</td>\n",
       "      <td>11</td>\n",
       "      <td>1000_11</td>\n",
       "      <td>0.0</td>\n",
       "      <td>2018-08-28</td>\n",
       "      <td>1000</td>\n",
       "    </tr>\n",
       "    <tr>\n",
       "      <td>38</td>\n",
       "      <td>38</td>\n",
       "      <td>1000_38</td>\n",
       "      <td>0.0</td>\n",
       "      <td>2018-11-27</td>\n",
       "      <td>1000</td>\n",
       "    </tr>\n",
       "    <tr>\n",
       "      <td>46</td>\n",
       "      <td>46</td>\n",
       "      <td>1000_46</td>\n",
       "      <td>0.0</td>\n",
       "      <td>2018-06-30</td>\n",
       "      <td>1000</td>\n",
       "    </tr>\n",
       "    <tr>\n",
       "      <td>67</td>\n",
       "      <td>67</td>\n",
       "      <td>1000_67</td>\n",
       "      <td>0.0</td>\n",
       "      <td>2018-06-16</td>\n",
       "      <td>1000</td>\n",
       "    </tr>\n",
       "    <tr>\n",
       "      <td>72</td>\n",
       "      <td>72</td>\n",
       "      <td>1000_72</td>\n",
       "      <td>0.0</td>\n",
       "      <td>2018-06-15</td>\n",
       "      <td>1000</td>\n",
       "    </tr>\n",
       "    <tr>\n",
       "      <td>...</td>\n",
       "      <td>...</td>\n",
       "      <td>...</td>\n",
       "      <td>...</td>\n",
       "      <td>...</td>\n",
       "      <td>...</td>\n",
       "    </tr>\n",
       "    <tr>\n",
       "      <td>149380</td>\n",
       "      <td>149380</td>\n",
       "      <td>1499_141</td>\n",
       "      <td>0.0</td>\n",
       "      <td>2018-12-11</td>\n",
       "      <td>1499</td>\n",
       "    </tr>\n",
       "    <tr>\n",
       "      <td>149381</td>\n",
       "      <td>149381</td>\n",
       "      <td>1499_142</td>\n",
       "      <td>0.0</td>\n",
       "      <td>2018-11-01</td>\n",
       "      <td>1499</td>\n",
       "    </tr>\n",
       "    <tr>\n",
       "      <td>149383</td>\n",
       "      <td>149383</td>\n",
       "      <td>1499_144</td>\n",
       "      <td>0.0</td>\n",
       "      <td>2018-11-27</td>\n",
       "      <td>1499</td>\n",
       "    </tr>\n",
       "    <tr>\n",
       "      <td>149386</td>\n",
       "      <td>149386</td>\n",
       "      <td>1499_147</td>\n",
       "      <td>0.0</td>\n",
       "      <td>2018-10-21</td>\n",
       "      <td>1499</td>\n",
       "    </tr>\n",
       "    <tr>\n",
       "      <td>149393</td>\n",
       "      <td>149393</td>\n",
       "      <td>1499_154</td>\n",
       "      <td>0.0</td>\n",
       "      <td>2018-10-27</td>\n",
       "      <td>1499</td>\n",
       "    </tr>\n",
       "  </tbody>\n",
       "</table>\n",
       "<p>19598 rows × 5 columns</p>\n",
       "</div>"
      ],
      "text/plain": [
       "        Unnamed: 0        id  mb_used session_date  user_id\n",
       "11              11   1000_11      0.0   2018-08-28     1000\n",
       "38              38   1000_38      0.0   2018-11-27     1000\n",
       "46              46   1000_46      0.0   2018-06-30     1000\n",
       "67              67   1000_67      0.0   2018-06-16     1000\n",
       "72              72   1000_72      0.0   2018-06-15     1000\n",
       "...            ...       ...      ...          ...      ...\n",
       "149380      149380  1499_141      0.0   2018-12-11     1499\n",
       "149381      149381  1499_142      0.0   2018-11-01     1499\n",
       "149383      149383  1499_144      0.0   2018-11-27     1499\n",
       "149386      149386  1499_147      0.0   2018-10-21     1499\n",
       "149393      149393  1499_154      0.0   2018-10-27     1499\n",
       "\n",
       "[19598 rows x 5 columns]"
      ]
     },
     "execution_count": 23,
     "metadata": {},
     "output_type": "execute_result"
    }
   ],
   "source": [
    "internet.query('mb_used == 0')"
   ]
  },
  {
   "cell_type": "markdown",
   "metadata": {},
   "source": [
    "Данных строк наблюдается около 20 тысяч. Можно предложить, что данные сессии -это включенное подключение к интернету без дальнейшего использования и без единой произвденной операции. Например, случаи, когда появляется и сразу пропадает связь. Данные строки следует исключить из датафрейма."
   ]
  },
  {
   "cell_type": "code",
   "execution_count": 24,
   "metadata": {},
   "outputs": [],
   "source": [
    "internet['mb_used'] = internet['mb_used'].replace(0, np.NaN)\n",
    "internet = internet.dropna()"
   ]
  },
  {
   "cell_type": "markdown",
   "metadata": {},
   "source": [
    "Поссмотрим."
   ]
  },
  {
   "cell_type": "code",
   "execution_count": 25,
   "metadata": {},
   "outputs": [
    {
     "data": {
      "text/plain": [
       "<matplotlib.axes._subplots.AxesSubplot at 0x7f1027316090>"
      ]
     },
     "execution_count": 25,
     "metadata": {},
     "output_type": "execute_result"
    },
    {
     "data": {
      "image/png": "[encoded data removed]",
      "text/plain": [
       "<Figure size 432x288 with 1 Axes>"
      ]
     },
     "metadata": {
      "needs_background": "light"
     },
     "output_type": "display_data"
    }
   ],
   "source": [
    "internet['mb_used'].plot(kind='hist', color='salmon', ec='black', bins=50)"
   ]
  },
  {
   "cell_type": "markdown",
   "metadata": {},
   "source": [
    "Произведем замену типа данных и добавление столбцов: месяц, время года чуть позже."
   ]
  },
  {
   "cell_type": "markdown",
   "metadata": {},
   "source": [
    "### Изменения формата столбца на datetime и добавление столбцов \"месяц\" и \"время года\"."
   ]
  },
  {
   "cell_type": "markdown",
   "metadata": {},
   "source": [
    "Напишем функцию для изменения формата столбца на datetime и добавление столбцов \"месяц\" и \"время года\".\n",
    "\n",
    "По каждой из таблиц:\n",
    "\n",
    "- users (информация о пользователях);\n",
    "- calls (информация о звонках);\n",
    "- messages (информация о сообщениях);\n",
    "- internet (информация об интернет-сессиях)\n",
    "\n",
    "есть столбцы, где необходимо изменить тип данных на datetime. Также добавим столбцы \"месяц\" и \"время года\". Для начала напишем функцию определения времени года."
   ]
  },
  {
   "cell_type": "code",
   "execution_count": 26,
   "metadata": {},
   "outputs": [],
   "source": [
    "def get_season(date):\n",
    "    if date.month in [1, 2, 12]:\n",
    "        return 'зима'\n",
    "    elif date.month in [3, 4, 5]:\n",
    "        return 'весна'\n",
    "    elif date.month in [6, 7, 8]:\n",
    "        return 'лето'\n",
    "    else:\n",
    "        return 'осень'"
   ]
  },
  {
   "cell_type": "markdown",
   "metadata": {},
   "source": [
    "Напишем функцию, где столбец будет в формате datetime, а также добавлением столбцы \"месяц\" и \"время года\"."
   ]
  },
  {
   "cell_type": "code",
   "execution_count": 27,
   "metadata": {},
   "outputs": [],
   "source": [
    "def date_to_dt_month_season(dataframes):\n",
    "    for df in dataframes:\n",
    "        for column in df.columns:\n",
    "            if 'date' in column and column != 'churn_date':\n",
    "                df[column] = pd.to_datetime(df[column], format='%Y-%m-%d')\n",
    "                df['месяц'] = df[column].apply(lambda x: x.month)\n",
    "                df['время года'] = df[column].apply(get_season)"
   ]
  },
  {
   "cell_type": "code",
   "execution_count": 28,
   "metadata": {},
   "outputs": [],
   "source": [
    "date_to_dt_month_season([users, calls, messages, internet])"
   ]
  },
  {
   "cell_type": "markdown",
   "metadata": {},
   "source": [
    "Проверим."
   ]
  },
  {
   "cell_type": "code",
   "execution_count": 29,
   "metadata": {},
   "outputs": [
    {
     "data": {
      "text/html": [
       "<div>\n",
       "<style scoped>\n",
       "    .dataframe tbody tr th:only-of-type {\n",
       "        vertical-align: middle;\n",
       "    }\n",
       "\n",
       "    .dataframe tbody tr th {\n",
       "        vertical-align: top;\n",
       "    }\n",
       "\n",
       "    .dataframe thead th {\n",
       "        text-align: right;\n",
       "    }\n",
       "</style>\n",
       "<table border=\"1\" class=\"dataframe\">\n",
       "  <thead>\n",
       "    <tr style=\"text-align: right;\">\n",
       "      <th></th>\n",
       "      <th>user_id</th>\n",
       "      <th>age</th>\n",
       "      <th>churn_date</th>\n",
       "      <th>city</th>\n",
       "      <th>first_name</th>\n",
       "      <th>last_name</th>\n",
       "      <th>reg_date</th>\n",
       "      <th>tariff</th>\n",
       "      <th>месяц</th>\n",
       "      <th>время года</th>\n",
       "    </tr>\n",
       "  </thead>\n",
       "  <tbody>\n",
       "    <tr>\n",
       "      <td>0</td>\n",
       "      <td>1000</td>\n",
       "      <td>52</td>\n",
       "      <td>NaN</td>\n",
       "      <td>Краснодар</td>\n",
       "      <td>Рафаил</td>\n",
       "      <td>Верещагин</td>\n",
       "      <td>2018-05-25</td>\n",
       "      <td>ultra</td>\n",
       "      <td>5</td>\n",
       "      <td>весна</td>\n",
       "    </tr>\n",
       "    <tr>\n",
       "      <td>1</td>\n",
       "      <td>1001</td>\n",
       "      <td>41</td>\n",
       "      <td>NaN</td>\n",
       "      <td>Москва</td>\n",
       "      <td>Иван</td>\n",
       "      <td>Ежов</td>\n",
       "      <td>2018-11-01</td>\n",
       "      <td>smart</td>\n",
       "      <td>11</td>\n",
       "      <td>осень</td>\n",
       "    </tr>\n",
       "    <tr>\n",
       "      <td>2</td>\n",
       "      <td>1002</td>\n",
       "      <td>59</td>\n",
       "      <td>NaN</td>\n",
       "      <td>Стерлитамак</td>\n",
       "      <td>Евгений</td>\n",
       "      <td>Абрамович</td>\n",
       "      <td>2018-06-17</td>\n",
       "      <td>smart</td>\n",
       "      <td>6</td>\n",
       "      <td>лето</td>\n",
       "    </tr>\n",
       "    <tr>\n",
       "      <td>3</td>\n",
       "      <td>1003</td>\n",
       "      <td>23</td>\n",
       "      <td>NaN</td>\n",
       "      <td>Москва</td>\n",
       "      <td>Белла</td>\n",
       "      <td>Белякова</td>\n",
       "      <td>2018-08-17</td>\n",
       "      <td>ultra</td>\n",
       "      <td>8</td>\n",
       "      <td>лето</td>\n",
       "    </tr>\n",
       "    <tr>\n",
       "      <td>4</td>\n",
       "      <td>1004</td>\n",
       "      <td>68</td>\n",
       "      <td>NaN</td>\n",
       "      <td>Новокузнецк</td>\n",
       "      <td>Татьяна</td>\n",
       "      <td>Авдеенко</td>\n",
       "      <td>2018-05-14</td>\n",
       "      <td>ultra</td>\n",
       "      <td>5</td>\n",
       "      <td>весна</td>\n",
       "    </tr>\n",
       "  </tbody>\n",
       "</table>\n",
       "</div>"
      ],
      "text/plain": [
       "   user_id  age churn_date         city first_name  last_name   reg_date  \\\n",
       "0     1000   52        NaN    Краснодар     Рафаил  Верещагин 2018-05-25   \n",
       "1     1001   41        NaN       Москва       Иван       Ежов 2018-11-01   \n",
       "2     1002   59        NaN  Стерлитамак    Евгений  Абрамович 2018-06-17   \n",
       "3     1003   23        NaN       Москва      Белла   Белякова 2018-08-17   \n",
       "4     1004   68        NaN  Новокузнецк    Татьяна   Авдеенко 2018-05-14   \n",
       "\n",
       "  tariff  месяц время года  \n",
       "0  ultra      5      весна  \n",
       "1  smart     11      осень  \n",
       "2  smart      6       лето  \n",
       "3  ultra      8       лето  \n",
       "4  ultra      5      весна  "
      ]
     },
     "execution_count": 29,
     "metadata": {},
     "output_type": "execute_result"
    }
   ],
   "source": [
    "users.head()"
   ]
  },
  {
   "cell_type": "code",
   "execution_count": 30,
   "metadata": {},
   "outputs": [
    {
     "data": {
      "text/html": [
       "<div>\n",
       "<style scoped>\n",
       "    .dataframe tbody tr th:only-of-type {\n",
       "        vertical-align: middle;\n",
       "    }\n",
       "\n",
       "    .dataframe tbody tr th {\n",
       "        vertical-align: top;\n",
       "    }\n",
       "\n",
       "    .dataframe thead th {\n",
       "        text-align: right;\n",
       "    }\n",
       "</style>\n",
       "<table border=\"1\" class=\"dataframe\">\n",
       "  <thead>\n",
       "    <tr style=\"text-align: right;\">\n",
       "      <th></th>\n",
       "      <th>id</th>\n",
       "      <th>call_date</th>\n",
       "      <th>duration</th>\n",
       "      <th>user_id</th>\n",
       "      <th>Тариф</th>\n",
       "      <th>месяц</th>\n",
       "      <th>время года</th>\n",
       "    </tr>\n",
       "  </thead>\n",
       "  <tbody>\n",
       "    <tr>\n",
       "      <td>2</td>\n",
       "      <td>1000_2</td>\n",
       "      <td>2018-06-11</td>\n",
       "      <td>3.0</td>\n",
       "      <td>1000</td>\n",
       "      <td>ultra</td>\n",
       "      <td>6</td>\n",
       "      <td>лето</td>\n",
       "    </tr>\n",
       "    <tr>\n",
       "      <td>3</td>\n",
       "      <td>1000_3</td>\n",
       "      <td>2018-09-21</td>\n",
       "      <td>14.0</td>\n",
       "      <td>1000</td>\n",
       "      <td>ultra</td>\n",
       "      <td>9</td>\n",
       "      <td>осень</td>\n",
       "    </tr>\n",
       "    <tr>\n",
       "      <td>4</td>\n",
       "      <td>1000_4</td>\n",
       "      <td>2018-12-15</td>\n",
       "      <td>6.0</td>\n",
       "      <td>1000</td>\n",
       "      <td>ultra</td>\n",
       "      <td>12</td>\n",
       "      <td>зима</td>\n",
       "    </tr>\n",
       "    <tr>\n",
       "      <td>7</td>\n",
       "      <td>1000_7</td>\n",
       "      <td>2018-08-22</td>\n",
       "      <td>19.0</td>\n",
       "      <td>1000</td>\n",
       "      <td>ultra</td>\n",
       "      <td>8</td>\n",
       "      <td>лето</td>\n",
       "    </tr>\n",
       "    <tr>\n",
       "      <td>8</td>\n",
       "      <td>1000_8</td>\n",
       "      <td>2018-09-15</td>\n",
       "      <td>19.0</td>\n",
       "      <td>1000</td>\n",
       "      <td>ultra</td>\n",
       "      <td>9</td>\n",
       "      <td>осень</td>\n",
       "    </tr>\n",
       "  </tbody>\n",
       "</table>\n",
       "</div>"
      ],
      "text/plain": [
       "       id  call_date  duration  user_id  Тариф  месяц время года\n",
       "2  1000_2 2018-06-11       3.0     1000  ultra      6       лето\n",
       "3  1000_3 2018-09-21      14.0     1000  ultra      9      осень\n",
       "4  1000_4 2018-12-15       6.0     1000  ultra     12       зима\n",
       "7  1000_7 2018-08-22      19.0     1000  ultra      8       лето\n",
       "8  1000_8 2018-09-15      19.0     1000  ultra      9      осень"
      ]
     },
     "execution_count": 30,
     "metadata": {},
     "output_type": "execute_result"
    }
   ],
   "source": [
    "calls.head()"
   ]
  },
  {
   "cell_type": "code",
   "execution_count": 31,
   "metadata": {},
   "outputs": [
    {
     "data": {
      "text/html": [
       "<div>\n",
       "<style scoped>\n",
       "    .dataframe tbody tr th:only-of-type {\n",
       "        vertical-align: middle;\n",
       "    }\n",
       "\n",
       "    .dataframe tbody tr th {\n",
       "        vertical-align: top;\n",
       "    }\n",
       "\n",
       "    .dataframe thead th {\n",
       "        text-align: right;\n",
       "    }\n",
       "</style>\n",
       "<table border=\"1\" class=\"dataframe\">\n",
       "  <thead>\n",
       "    <tr style=\"text-align: right;\">\n",
       "      <th></th>\n",
       "      <th>id</th>\n",
       "      <th>message_date</th>\n",
       "      <th>user_id</th>\n",
       "      <th>месяц</th>\n",
       "      <th>время года</th>\n",
       "    </tr>\n",
       "  </thead>\n",
       "  <tbody>\n",
       "    <tr>\n",
       "      <td>0</td>\n",
       "      <td>1000_0</td>\n",
       "      <td>2018-06-27</td>\n",
       "      <td>1000</td>\n",
       "      <td>6</td>\n",
       "      <td>лето</td>\n",
       "    </tr>\n",
       "    <tr>\n",
       "      <td>1</td>\n",
       "      <td>1000_1</td>\n",
       "      <td>2018-10-08</td>\n",
       "      <td>1000</td>\n",
       "      <td>10</td>\n",
       "      <td>осень</td>\n",
       "    </tr>\n",
       "    <tr>\n",
       "      <td>2</td>\n",
       "      <td>1000_2</td>\n",
       "      <td>2018-08-04</td>\n",
       "      <td>1000</td>\n",
       "      <td>8</td>\n",
       "      <td>лето</td>\n",
       "    </tr>\n",
       "    <tr>\n",
       "      <td>3</td>\n",
       "      <td>1000_3</td>\n",
       "      <td>2018-06-16</td>\n",
       "      <td>1000</td>\n",
       "      <td>6</td>\n",
       "      <td>лето</td>\n",
       "    </tr>\n",
       "    <tr>\n",
       "      <td>4</td>\n",
       "      <td>1000_4</td>\n",
       "      <td>2018-12-05</td>\n",
       "      <td>1000</td>\n",
       "      <td>12</td>\n",
       "      <td>зима</td>\n",
       "    </tr>\n",
       "  </tbody>\n",
       "</table>\n",
       "</div>"
      ],
      "text/plain": [
       "       id message_date  user_id  месяц время года\n",
       "0  1000_0   2018-06-27     1000      6       лето\n",
       "1  1000_1   2018-10-08     1000     10      осень\n",
       "2  1000_2   2018-08-04     1000      8       лето\n",
       "3  1000_3   2018-06-16     1000      6       лето\n",
       "4  1000_4   2018-12-05     1000     12       зима"
      ]
     },
     "execution_count": 31,
     "metadata": {},
     "output_type": "execute_result"
    }
   ],
   "source": [
    "messages.head()"
   ]
  },
  {
   "cell_type": "code",
   "execution_count": 32,
   "metadata": {},
   "outputs": [
    {
     "data": {
      "text/html": [
       "<div>\n",
       "<style scoped>\n",
       "    .dataframe tbody tr th:only-of-type {\n",
       "        vertical-align: middle;\n",
       "    }\n",
       "\n",
       "    .dataframe tbody tr th {\n",
       "        vertical-align: top;\n",
       "    }\n",
       "\n",
       "    .dataframe thead th {\n",
       "        text-align: right;\n",
       "    }\n",
       "</style>\n",
       "<table border=\"1\" class=\"dataframe\">\n",
       "  <thead>\n",
       "    <tr style=\"text-align: right;\">\n",
       "      <th></th>\n",
       "      <th>Unnamed: 0</th>\n",
       "      <th>id</th>\n",
       "      <th>mb_used</th>\n",
       "      <th>session_date</th>\n",
       "      <th>user_id</th>\n",
       "      <th>месяц</th>\n",
       "      <th>время года</th>\n",
       "    </tr>\n",
       "  </thead>\n",
       "  <tbody>\n",
       "    <tr>\n",
       "      <td>0</td>\n",
       "      <td>0</td>\n",
       "      <td>1000_0</td>\n",
       "      <td>113.0</td>\n",
       "      <td>2018-11-25</td>\n",
       "      <td>1000</td>\n",
       "      <td>11</td>\n",
       "      <td>осень</td>\n",
       "    </tr>\n",
       "    <tr>\n",
       "      <td>1</td>\n",
       "      <td>1</td>\n",
       "      <td>1000_1</td>\n",
       "      <td>1053.0</td>\n",
       "      <td>2018-09-07</td>\n",
       "      <td>1000</td>\n",
       "      <td>9</td>\n",
       "      <td>осень</td>\n",
       "    </tr>\n",
       "    <tr>\n",
       "      <td>2</td>\n",
       "      <td>2</td>\n",
       "      <td>1000_2</td>\n",
       "      <td>1198.0</td>\n",
       "      <td>2018-06-25</td>\n",
       "      <td>1000</td>\n",
       "      <td>6</td>\n",
       "      <td>лето</td>\n",
       "    </tr>\n",
       "    <tr>\n",
       "      <td>3</td>\n",
       "      <td>3</td>\n",
       "      <td>1000_3</td>\n",
       "      <td>551.0</td>\n",
       "      <td>2018-08-22</td>\n",
       "      <td>1000</td>\n",
       "      <td>8</td>\n",
       "      <td>лето</td>\n",
       "    </tr>\n",
       "    <tr>\n",
       "      <td>4</td>\n",
       "      <td>4</td>\n",
       "      <td>1000_4</td>\n",
       "      <td>303.0</td>\n",
       "      <td>2018-09-24</td>\n",
       "      <td>1000</td>\n",
       "      <td>9</td>\n",
       "      <td>осень</td>\n",
       "    </tr>\n",
       "  </tbody>\n",
       "</table>\n",
       "</div>"
      ],
      "text/plain": [
       "   Unnamed: 0      id  mb_used session_date  user_id  месяц время года\n",
       "0           0  1000_0    113.0   2018-11-25     1000     11      осень\n",
       "1           1  1000_1   1053.0   2018-09-07     1000      9      осень\n",
       "2           2  1000_2   1198.0   2018-06-25     1000      6       лето\n",
       "3           3  1000_3    551.0   2018-08-22     1000      8       лето\n",
       "4           4  1000_4    303.0   2018-09-24     1000      9      осень"
      ]
     },
     "execution_count": 32,
     "metadata": {},
     "output_type": "execute_result"
    }
   ],
   "source": [
    "internet.head()"
   ]
  },
  {
   "cell_type": "markdown",
   "metadata": {},
   "source": [
    "Выполенно."
   ]
  },
  {
   "cell_type": "markdown",
   "metadata": {},
   "source": [
    "# Промежуточный вывод"
   ]
  },
  {
   "cell_type": "markdown",
   "metadata": {},
   "source": [
    "По разделу 2 \"Предобработка данных\" была продела следующая работа:\n",
    "\n",
    "- просмотрены данные и найдены анамальные значения;\n",
    "- найдены и обработаны пропущенные значения;\n",
    "- заменены некорректные типы данных."
   ]
  },
  {
   "cell_type": "markdown",
   "metadata": {},
   "source": [
    "## Рассчёты и добавление результатов в таблицу"
   ]
  },
  {
   "cell_type": "markdown",
   "metadata": {},
   "source": [
    "Рассмотрим каким видов связи (звонки, отправка смс, выход в интернет) пользуются чаще всего  клиент компании \"Мегалайн\" (по месяцам).\n",
    "Произведем расчет для каждого пользователя:\n",
    "\n",
    "- количество сделанных звонков и израсходованных минут разговора по месяцам;\n",
    "- количество отправленных сообщений по месяцам;\n",
    "- объем израсходованного интернет-трафика по месяцам;\n",
    "- помесячную выручку с каждого пользователя (вычтите бесплатный лимит из суммарного количества звонков, сообщений и интернет-трафика; остаток умножьте на значение из тарифного плана; прибавьте абонентскую плату, соответствующую тарифному плану)."
   ]
  },
  {
   "cell_type": "markdown",
   "metadata": {},
   "source": [
    "### Количество сделанных звонков, отправленных сообщений и объем израсходованного интернет-трафика по месяцам."
   ]
  },
  {
   "cell_type": "markdown",
   "metadata": {},
   "source": [
    "Рассмотрим, каким типом связи пользуется клинет наиболее чаще всего (по месяцам):\n",
    "\n",
    "- сделанные звонки;\n",
    "- отправленные сообщения;\n",
    "- израсходованный интернет-трафик.\n",
    "\n",
    "Для этого напишем функцию:"
   ]
  },
  {
   "cell_type": "code",
   "execution_count": 33,
   "metadata": {},
   "outputs": [],
   "source": [
    "def barplot_by_month(dfs, query=None):\n",
    "    list_of_dfs = dfs\n",
    "    plt.figure(figsize=(15,5))\n",
    "    ax = plt.gca()\n",
    "    \n",
    "    list_of_colors = ['darkred', 'indianred', 'salmon']\n",
    "\n",
    "    dfs_names_for_legend = ['Кол-во звонков', 'Кол-во отпр. СМС', 'Кол-во интернет-сессий']\n",
    "    legend_list = []\n",
    "\n",
    "    for i in range(len(list_of_dfs)):\n",
    "        curr_df = list_of_dfs[i]\n",
    "        if query == None:\n",
    "            curr_df_prepared = curr_df.groupby('месяц')['id'].count().reset_index()\n",
    "        else:\n",
    "            curr_df_prepared = curr_df.query(query).groupby('месяц')['id'].count().reset_index()\n",
    "        plot = curr_df_prepared.plot(x='месяц', y='id', kind='bar', ec='black', color=list_of_colors[i],\n",
    "                                 ax=ax, width=0.1, position=i)\n",
    "        legend_list.append(dfs_names_for_legend[i])\n",
    "    plt.xticks(rotation=0)\n",
    "    ax.legend(legend_list)"
   ]
  },
  {
   "cell_type": "markdown",
   "metadata": {},
   "source": [
    "Представим данные ввиде графика."
   ]
  },
  {
   "cell_type": "code",
   "execution_count": 34,
   "metadata": {},
   "outputs": [
    {
     "data": {
      "image/png": "[encoded data removed]",
      "text/plain": [
       "<Figure size 1080x360 with 1 Axes>"
      ]
     },
     "metadata": {
      "needs_background": "light"
     },
     "output_type": "display_data"
    }
   ],
   "source": [
    "barplot_by_month([calls, messages, internet])"
   ]
  },
  {
   "cell_type": "markdown",
   "metadata": {},
   "source": [
    "# Промежуточный вывод\n",
    "\n",
    "Очевидно, что клиентами чаще использует тип связи - звонки. СМС имеет наименьший показатель. Количество интернет-сессий имеет среднее значение в сравнении с остальными типами связи. \n",
    "\n",
    "Также следует отметить, что данные график свидетельствует о становлении тарифа оператора мобильной связи. Так как в Январе месяце был запуск и показатели наиболее низкие. Далее наблюдается стабильная тенденция роста и к Декабрю месяцу - итог развития за целый год.\n",
    "\n",
    "Рассмотрим историю одного пользователя - например, с id \"1000\"."
   ]
  },
  {
   "cell_type": "code",
   "execution_count": 35,
   "metadata": {
    "scrolled": true
   },
   "outputs": [
    {
     "data": {
      "image/png": "[encoded data removed]",
      "text/plain": [
       "<Figure size 1080x360 with 1 Axes>"
      ]
     },
     "metadata": {
      "needs_background": "light"
     },
     "output_type": "display_data"
    }
   ],
   "source": [
    "barplot_by_month([calls, messages, internet], query='user_id == 1000')"
   ]
  },
  {
   "cell_type": "markdown",
   "metadata": {},
   "source": [
    "Следует обратить внимание на тот факт, что данные вариативны. Скорей всего было запущено 2 новых тарифа оператом мобильной связи и мы собираем данные за 1ый год их работы."
   ]
  },
  {
   "cell_type": "markdown",
   "metadata": {},
   "source": [
    "### Создадим новый датафрейм.\n",
    "\n",
    "Воспользуемся имеющимися датареймами и из каждого возьмом нужную для нас информацию. Новый датафрейм назовем - df_event_numbers."
   ]
  },
  {
   "cell_type": "code",
   "execution_count": 36,
   "metadata": {},
   "outputs": [],
   "source": [
    "num_of_calls = calls.groupby(['user_id', 'время года', 'месяц'])['duration'].agg(['count', 'sum'])\n",
    "num_of_messages = messages.groupby(['user_id', 'время года', 'месяц'])['id'].count()\n",
    "num_of_internet = internet.groupby(['user_id', 'время года', 'месяц']).sum()['mb_used']"
   ]
  },
  {
   "cell_type": "code",
   "execution_count": 37,
   "metadata": {},
   "outputs": [
    {
     "data": {
      "text/html": [
       "<div>\n",
       "<style scoped>\n",
       "    .dataframe tbody tr th:only-of-type {\n",
       "        vertical-align: middle;\n",
       "    }\n",
       "\n",
       "    .dataframe tbody tr th {\n",
       "        vertical-align: top;\n",
       "    }\n",
       "\n",
       "    .dataframe thead th {\n",
       "        text-align: right;\n",
       "    }\n",
       "</style>\n",
       "<table border=\"1\" class=\"dataframe\">\n",
       "  <thead>\n",
       "    <tr style=\"text-align: right;\">\n",
       "      <th></th>\n",
       "      <th>user_id</th>\n",
       "      <th>время года</th>\n",
       "      <th>месяц</th>\n",
       "      <th>count</th>\n",
       "      <th>sum</th>\n",
       "      <th>id</th>\n",
       "      <th>mb_used</th>\n",
       "    </tr>\n",
       "  </thead>\n",
       "  <tbody>\n",
       "    <tr>\n",
       "      <td>0</td>\n",
       "      <td>1000</td>\n",
       "      <td>весна</td>\n",
       "      <td>5</td>\n",
       "      <td>17.0</td>\n",
       "      <td>159.0</td>\n",
       "      <td>22.0</td>\n",
       "      <td>2256.0</td>\n",
       "    </tr>\n",
       "    <tr>\n",
       "      <td>1</td>\n",
       "      <td>1000</td>\n",
       "      <td>зима</td>\n",
       "      <td>12</td>\n",
       "      <td>38.0</td>\n",
       "      <td>333.0</td>\n",
       "      <td>70.0</td>\n",
       "      <td>9827.0</td>\n",
       "    </tr>\n",
       "    <tr>\n",
       "      <td>2</td>\n",
       "      <td>1000</td>\n",
       "      <td>лето</td>\n",
       "      <td>6</td>\n",
       "      <td>28.0</td>\n",
       "      <td>172.0</td>\n",
       "      <td>60.0</td>\n",
       "      <td>23257.0</td>\n",
       "    </tr>\n",
       "    <tr>\n",
       "      <td>3</td>\n",
       "      <td>1000</td>\n",
       "      <td>лето</td>\n",
       "      <td>7</td>\n",
       "      <td>41.0</td>\n",
       "      <td>340.0</td>\n",
       "      <td>75.0</td>\n",
       "      <td>14016.0</td>\n",
       "    </tr>\n",
       "    <tr>\n",
       "      <td>4</td>\n",
       "      <td>1000</td>\n",
       "      <td>лето</td>\n",
       "      <td>8</td>\n",
       "      <td>42.0</td>\n",
       "      <td>408.0</td>\n",
       "      <td>81.0</td>\n",
       "      <td>14070.0</td>\n",
       "    </tr>\n",
       "    <tr>\n",
       "      <td>5</td>\n",
       "      <td>1000</td>\n",
       "      <td>осень</td>\n",
       "      <td>9</td>\n",
       "      <td>46.0</td>\n",
       "      <td>466.0</td>\n",
       "      <td>57.0</td>\n",
       "      <td>14581.0</td>\n",
       "    </tr>\n",
       "    <tr>\n",
       "      <td>6</td>\n",
       "      <td>1000</td>\n",
       "      <td>осень</td>\n",
       "      <td>10</td>\n",
       "      <td>44.0</td>\n",
       "      <td>350.0</td>\n",
       "      <td>73.0</td>\n",
       "      <td>14717.0</td>\n",
       "    </tr>\n",
       "    <tr>\n",
       "      <td>7</td>\n",
       "      <td>1000</td>\n",
       "      <td>осень</td>\n",
       "      <td>11</td>\n",
       "      <td>37.0</td>\n",
       "      <td>338.0</td>\n",
       "      <td>58.0</td>\n",
       "      <td>14768.0</td>\n",
       "    </tr>\n",
       "    <tr>\n",
       "      <td>8</td>\n",
       "      <td>1001</td>\n",
       "      <td>зима</td>\n",
       "      <td>12</td>\n",
       "      <td>47.0</td>\n",
       "      <td>414.0</td>\n",
       "      <td>NaN</td>\n",
       "      <td>14053.0</td>\n",
       "    </tr>\n",
       "    <tr>\n",
       "      <td>9</td>\n",
       "      <td>1001</td>\n",
       "      <td>осень</td>\n",
       "      <td>11</td>\n",
       "      <td>45.0</td>\n",
       "      <td>430.0</td>\n",
       "      <td>NaN</td>\n",
       "      <td>18452.0</td>\n",
       "    </tr>\n",
       "  </tbody>\n",
       "</table>\n",
       "</div>"
      ],
      "text/plain": [
       "   user_id время года  месяц  count    sum    id  mb_used\n",
       "0     1000      весна      5   17.0  159.0  22.0   2256.0\n",
       "1     1000       зима     12   38.0  333.0  70.0   9827.0\n",
       "2     1000       лето      6   28.0  172.0  60.0  23257.0\n",
       "3     1000       лето      7   41.0  340.0  75.0  14016.0\n",
       "4     1000       лето      8   42.0  408.0  81.0  14070.0\n",
       "5     1000      осень      9   46.0  466.0  57.0  14581.0\n",
       "6     1000      осень     10   44.0  350.0  73.0  14717.0\n",
       "7     1000      осень     11   37.0  338.0  58.0  14768.0\n",
       "8     1001       зима     12   47.0  414.0   NaN  14053.0\n",
       "9     1001      осень     11   45.0  430.0   NaN  18452.0"
      ]
     },
     "execution_count": 37,
     "metadata": {},
     "output_type": "execute_result"
    }
   ],
   "source": [
    "df_event_numbers = pd.concat([num_of_calls, num_of_messages, num_of_internet], axis=1)\n",
    "df_event_numbers = df_event_numbers.reset_index()\n",
    "df_event_numbers.head(10)"
   ]
  },
  {
   "cell_type": "markdown",
   "metadata": {},
   "source": [
    "### Добавим столбец  \"Тариф\""
   ]
  },
  {
   "cell_type": "code",
   "execution_count": 38,
   "metadata": {},
   "outputs": [],
   "source": [
    "map_to_fill_tariff = dict(pd.Series(users['tariff'].values, index=users['user_id']))\n",
    "df_event_numbers['Тариф'] = df_event_numbers['user_id'].map(map_to_fill_tariff)\n",
    "\n",
    "map_to_fill_city = dict(pd.Series(users['city'].values, index=users['user_id']))\n",
    "df_event_numbers['Город'] = df_event_numbers['user_id'].map(map_to_fill_city)"
   ]
  },
  {
   "cell_type": "markdown",
   "metadata": {},
   "source": [
    "Для удобства переименуем названия столбцов."
   ]
  },
  {
   "cell_type": "code",
   "execution_count": 39,
   "metadata": {},
   "outputs": [],
   "source": [
    "df_event_numbers.columns = ['User_id', 'Время года', 'Месяц', 'Кол-во звонков, шт.', 'Звонки, мин.', \n",
    "                            'СМС, шт.', 'Интернет, Мб', 'Тариф', 'Город']"
   ]
  },
  {
   "cell_type": "markdown",
   "metadata": {},
   "source": [
    "Посмотрим на полученный результат."
   ]
  },
  {
   "cell_type": "code",
   "execution_count": 40,
   "metadata": {},
   "outputs": [
    {
     "data": {
      "text/html": [
       "<div>\n",
       "<style scoped>\n",
       "    .dataframe tbody tr th:only-of-type {\n",
       "        vertical-align: middle;\n",
       "    }\n",
       "\n",
       "    .dataframe tbody tr th {\n",
       "        vertical-align: top;\n",
       "    }\n",
       "\n",
       "    .dataframe thead th {\n",
       "        text-align: right;\n",
       "    }\n",
       "</style>\n",
       "<table border=\"1\" class=\"dataframe\">\n",
       "  <thead>\n",
       "    <tr style=\"text-align: right;\">\n",
       "      <th></th>\n",
       "      <th>User_id</th>\n",
       "      <th>Время года</th>\n",
       "      <th>Месяц</th>\n",
       "      <th>Кол-во звонков, шт.</th>\n",
       "      <th>Звонки, мин.</th>\n",
       "      <th>СМС, шт.</th>\n",
       "      <th>Интернет, Мб</th>\n",
       "      <th>Тариф</th>\n",
       "      <th>Город</th>\n",
       "    </tr>\n",
       "  </thead>\n",
       "  <tbody>\n",
       "    <tr>\n",
       "      <td>0</td>\n",
       "      <td>1000</td>\n",
       "      <td>весна</td>\n",
       "      <td>5</td>\n",
       "      <td>17.0</td>\n",
       "      <td>159.0</td>\n",
       "      <td>22.0</td>\n",
       "      <td>2256.0</td>\n",
       "      <td>ultra</td>\n",
       "      <td>Краснодар</td>\n",
       "    </tr>\n",
       "    <tr>\n",
       "      <td>2</td>\n",
       "      <td>1000</td>\n",
       "      <td>лето</td>\n",
       "      <td>6</td>\n",
       "      <td>28.0</td>\n",
       "      <td>172.0</td>\n",
       "      <td>60.0</td>\n",
       "      <td>23257.0</td>\n",
       "      <td>ultra</td>\n",
       "      <td>Краснодар</td>\n",
       "    </tr>\n",
       "    <tr>\n",
       "      <td>3</td>\n",
       "      <td>1000</td>\n",
       "      <td>лето</td>\n",
       "      <td>7</td>\n",
       "      <td>41.0</td>\n",
       "      <td>340.0</td>\n",
       "      <td>75.0</td>\n",
       "      <td>14016.0</td>\n",
       "      <td>ultra</td>\n",
       "      <td>Краснодар</td>\n",
       "    </tr>\n",
       "    <tr>\n",
       "      <td>4</td>\n",
       "      <td>1000</td>\n",
       "      <td>лето</td>\n",
       "      <td>8</td>\n",
       "      <td>42.0</td>\n",
       "      <td>408.0</td>\n",
       "      <td>81.0</td>\n",
       "      <td>14070.0</td>\n",
       "      <td>ultra</td>\n",
       "      <td>Краснодар</td>\n",
       "    </tr>\n",
       "    <tr>\n",
       "      <td>5</td>\n",
       "      <td>1000</td>\n",
       "      <td>осень</td>\n",
       "      <td>9</td>\n",
       "      <td>46.0</td>\n",
       "      <td>466.0</td>\n",
       "      <td>57.0</td>\n",
       "      <td>14581.0</td>\n",
       "      <td>ultra</td>\n",
       "      <td>Краснодар</td>\n",
       "    </tr>\n",
       "    <tr>\n",
       "      <td>6</td>\n",
       "      <td>1000</td>\n",
       "      <td>осень</td>\n",
       "      <td>10</td>\n",
       "      <td>44.0</td>\n",
       "      <td>350.0</td>\n",
       "      <td>73.0</td>\n",
       "      <td>14717.0</td>\n",
       "      <td>ultra</td>\n",
       "      <td>Краснодар</td>\n",
       "    </tr>\n",
       "    <tr>\n",
       "      <td>7</td>\n",
       "      <td>1000</td>\n",
       "      <td>осень</td>\n",
       "      <td>11</td>\n",
       "      <td>37.0</td>\n",
       "      <td>338.0</td>\n",
       "      <td>58.0</td>\n",
       "      <td>14768.0</td>\n",
       "      <td>ultra</td>\n",
       "      <td>Краснодар</td>\n",
       "    </tr>\n",
       "    <tr>\n",
       "      <td>1</td>\n",
       "      <td>1000</td>\n",
       "      <td>зима</td>\n",
       "      <td>12</td>\n",
       "      <td>38.0</td>\n",
       "      <td>333.0</td>\n",
       "      <td>70.0</td>\n",
       "      <td>9827.0</td>\n",
       "      <td>ultra</td>\n",
       "      <td>Краснодар</td>\n",
       "    </tr>\n",
       "    <tr>\n",
       "      <td>9</td>\n",
       "      <td>1001</td>\n",
       "      <td>осень</td>\n",
       "      <td>11</td>\n",
       "      <td>45.0</td>\n",
       "      <td>430.0</td>\n",
       "      <td>NaN</td>\n",
       "      <td>18452.0</td>\n",
       "      <td>smart</td>\n",
       "      <td>Москва</td>\n",
       "    </tr>\n",
       "    <tr>\n",
       "      <td>8</td>\n",
       "      <td>1001</td>\n",
       "      <td>зима</td>\n",
       "      <td>12</td>\n",
       "      <td>47.0</td>\n",
       "      <td>414.0</td>\n",
       "      <td>NaN</td>\n",
       "      <td>14053.0</td>\n",
       "      <td>smart</td>\n",
       "      <td>Москва</td>\n",
       "    </tr>\n",
       "  </tbody>\n",
       "</table>\n",
       "</div>"
      ],
      "text/plain": [
       "   User_id Время года  Месяц  Кол-во звонков, шт.  Звонки, мин.  СМС, шт.  \\\n",
       "0     1000      весна      5                 17.0         159.0      22.0   \n",
       "2     1000       лето      6                 28.0         172.0      60.0   \n",
       "3     1000       лето      7                 41.0         340.0      75.0   \n",
       "4     1000       лето      8                 42.0         408.0      81.0   \n",
       "5     1000      осень      9                 46.0         466.0      57.0   \n",
       "6     1000      осень     10                 44.0         350.0      73.0   \n",
       "7     1000      осень     11                 37.0         338.0      58.0   \n",
       "1     1000       зима     12                 38.0         333.0      70.0   \n",
       "9     1001      осень     11                 45.0         430.0       NaN   \n",
       "8     1001       зима     12                 47.0         414.0       NaN   \n",
       "\n",
       "   Интернет, Мб  Тариф      Город  \n",
       "0        2256.0  ultra  Краснодар  \n",
       "2       23257.0  ultra  Краснодар  \n",
       "3       14016.0  ultra  Краснодар  \n",
       "4       14070.0  ultra  Краснодар  \n",
       "5       14581.0  ultra  Краснодар  \n",
       "6       14717.0  ultra  Краснодар  \n",
       "7       14768.0  ultra  Краснодар  \n",
       "1        9827.0  ultra  Краснодар  \n",
       "9       18452.0  smart     Москва  \n",
       "8       14053.0  smart     Москва  "
      ]
     },
     "execution_count": 40,
     "metadata": {},
     "output_type": "execute_result"
    }
   ],
   "source": [
    "df_event_numbers.sort_values(by=['User_id', 'Месяц']).head(10)"
   ]
  },
  {
   "cell_type": "code",
   "execution_count": 41,
   "metadata": {},
   "outputs": [
    {
     "name": "stdout",
     "output_type": "stream",
     "text": [
      "<class 'pandas.core.frame.DataFrame'>\n",
      "RangeIndex: 3214 entries, 0 to 3213\n",
      "Data columns (total 9 columns):\n",
      "User_id                3214 non-null int64\n",
      "Время года             3214 non-null object\n",
      "Месяц                  3214 non-null int64\n",
      "Кол-во звонков, шт.    3168 non-null float64\n",
      "Звонки, мин.           3168 non-null float64\n",
      "СМС, шт.               2717 non-null float64\n",
      "Интернет, Мб           3201 non-null float64\n",
      "Тариф                  3214 non-null object\n",
      "Город                  3214 non-null object\n",
      "dtypes: float64(4), int64(2), object(3)\n",
      "memory usage: 226.1+ KB\n"
     ]
    }
   ],
   "source": [
    "df_event_numbers.info()"
   ]
  },
  {
   "cell_type": "code",
   "execution_count": 42,
   "metadata": {},
   "outputs": [
    {
     "data": {
      "text/html": [
       "<div>\n",
       "<style scoped>\n",
       "    .dataframe tbody tr th:only-of-type {\n",
       "        vertical-align: middle;\n",
       "    }\n",
       "\n",
       "    .dataframe tbody tr th {\n",
       "        vertical-align: top;\n",
       "    }\n",
       "\n",
       "    .dataframe thead th {\n",
       "        text-align: right;\n",
       "    }\n",
       "</style>\n",
       "<table border=\"1\" class=\"dataframe\">\n",
       "  <thead>\n",
       "    <tr style=\"text-align: right;\">\n",
       "      <th></th>\n",
       "      <th>User_id</th>\n",
       "      <th>Время года</th>\n",
       "      <th>Месяц</th>\n",
       "      <th>Кол-во звонков, шт.</th>\n",
       "      <th>Звонки, мин.</th>\n",
       "      <th>СМС, шт.</th>\n",
       "      <th>Интернет, Мб</th>\n",
       "      <th>Тариф</th>\n",
       "      <th>Город</th>\n",
       "    </tr>\n",
       "  </thead>\n",
       "  <tbody>\n",
       "    <tr>\n",
       "      <td>592</td>\n",
       "      <td>1094</td>\n",
       "      <td>весна</td>\n",
       "      <td>5</td>\n",
       "      <td>12.0</td>\n",
       "      <td>107.0</td>\n",
       "      <td>3.0</td>\n",
       "      <td>NaN</td>\n",
       "      <td>ultra</td>\n",
       "      <td>Новосибирск</td>\n",
       "    </tr>\n",
       "    <tr>\n",
       "      <td>1722</td>\n",
       "      <td>1273</td>\n",
       "      <td>весна</td>\n",
       "      <td>5</td>\n",
       "      <td>19.0</td>\n",
       "      <td>220.0</td>\n",
       "      <td>21.0</td>\n",
       "      <td>NaN</td>\n",
       "      <td>ultra</td>\n",
       "      <td>Курган</td>\n",
       "    </tr>\n",
       "    <tr>\n",
       "      <td>1723</td>\n",
       "      <td>1273</td>\n",
       "      <td>зима</td>\n",
       "      <td>12</td>\n",
       "      <td>38.0</td>\n",
       "      <td>260.0</td>\n",
       "      <td>39.0</td>\n",
       "      <td>NaN</td>\n",
       "      <td>ultra</td>\n",
       "      <td>Курган</td>\n",
       "    </tr>\n",
       "    <tr>\n",
       "      <td>1724</td>\n",
       "      <td>1273</td>\n",
       "      <td>лето</td>\n",
       "      <td>6</td>\n",
       "      <td>28.0</td>\n",
       "      <td>230.0</td>\n",
       "      <td>38.0</td>\n",
       "      <td>NaN</td>\n",
       "      <td>ultra</td>\n",
       "      <td>Курган</td>\n",
       "    </tr>\n",
       "    <tr>\n",
       "      <td>1725</td>\n",
       "      <td>1273</td>\n",
       "      <td>лето</td>\n",
       "      <td>7</td>\n",
       "      <td>30.0</td>\n",
       "      <td>253.0</td>\n",
       "      <td>37.0</td>\n",
       "      <td>NaN</td>\n",
       "      <td>ultra</td>\n",
       "      <td>Курган</td>\n",
       "    </tr>\n",
       "    <tr>\n",
       "      <td>1726</td>\n",
       "      <td>1273</td>\n",
       "      <td>лето</td>\n",
       "      <td>8</td>\n",
       "      <td>39.0</td>\n",
       "      <td>253.0</td>\n",
       "      <td>41.0</td>\n",
       "      <td>NaN</td>\n",
       "      <td>ultra</td>\n",
       "      <td>Курган</td>\n",
       "    </tr>\n",
       "    <tr>\n",
       "      <td>1727</td>\n",
       "      <td>1273</td>\n",
       "      <td>осень</td>\n",
       "      <td>9</td>\n",
       "      <td>28.0</td>\n",
       "      <td>223.0</td>\n",
       "      <td>32.0</td>\n",
       "      <td>NaN</td>\n",
       "      <td>ultra</td>\n",
       "      <td>Курган</td>\n",
       "    </tr>\n",
       "    <tr>\n",
       "      <td>1728</td>\n",
       "      <td>1273</td>\n",
       "      <td>осень</td>\n",
       "      <td>10</td>\n",
       "      <td>35.0</td>\n",
       "      <td>315.0</td>\n",
       "      <td>35.0</td>\n",
       "      <td>NaN</td>\n",
       "      <td>ultra</td>\n",
       "      <td>Курган</td>\n",
       "    </tr>\n",
       "    <tr>\n",
       "      <td>1729</td>\n",
       "      <td>1273</td>\n",
       "      <td>осень</td>\n",
       "      <td>11</td>\n",
       "      <td>31.0</td>\n",
       "      <td>272.0</td>\n",
       "      <td>29.0</td>\n",
       "      <td>NaN</td>\n",
       "      <td>ultra</td>\n",
       "      <td>Курган</td>\n",
       "    </tr>\n",
       "    <tr>\n",
       "      <td>2307</td>\n",
       "      <td>1365</td>\n",
       "      <td>осень</td>\n",
       "      <td>10</td>\n",
       "      <td>5.0</td>\n",
       "      <td>43.0</td>\n",
       "      <td>1.0</td>\n",
       "      <td>NaN</td>\n",
       "      <td>smart</td>\n",
       "      <td>Ростов-на-Дону</td>\n",
       "    </tr>\n",
       "    <tr>\n",
       "      <td>2390</td>\n",
       "      <td>1377</td>\n",
       "      <td>зима</td>\n",
       "      <td>2</td>\n",
       "      <td>20.0</td>\n",
       "      <td>179.0</td>\n",
       "      <td>2.0</td>\n",
       "      <td>NaN</td>\n",
       "      <td>ultra</td>\n",
       "      <td>Брянск</td>\n",
       "    </tr>\n",
       "    <tr>\n",
       "      <td>2503</td>\n",
       "      <td>1392</td>\n",
       "      <td>зима</td>\n",
       "      <td>2</td>\n",
       "      <td>2.0</td>\n",
       "      <td>13.0</td>\n",
       "      <td>3.0</td>\n",
       "      <td>NaN</td>\n",
       "      <td>ultra</td>\n",
       "      <td>Челябинск</td>\n",
       "    </tr>\n",
       "    <tr>\n",
       "      <td>2859</td>\n",
       "      <td>1446</td>\n",
       "      <td>лето</td>\n",
       "      <td>8</td>\n",
       "      <td>4.0</td>\n",
       "      <td>50.0</td>\n",
       "      <td>1.0</td>\n",
       "      <td>NaN</td>\n",
       "      <td>smart</td>\n",
       "      <td>Липецк</td>\n",
       "    </tr>\n",
       "  </tbody>\n",
       "</table>\n",
       "</div>"
      ],
      "text/plain": [
       "      User_id Время года  Месяц  Кол-во звонков, шт.  Звонки, мин.  СМС, шт.  \\\n",
       "592      1094      весна      5                 12.0         107.0       3.0   \n",
       "1722     1273      весна      5                 19.0         220.0      21.0   \n",
       "1723     1273       зима     12                 38.0         260.0      39.0   \n",
       "1724     1273       лето      6                 28.0         230.0      38.0   \n",
       "1725     1273       лето      7                 30.0         253.0      37.0   \n",
       "1726     1273       лето      8                 39.0         253.0      41.0   \n",
       "1727     1273      осень      9                 28.0         223.0      32.0   \n",
       "1728     1273      осень     10                 35.0         315.0      35.0   \n",
       "1729     1273      осень     11                 31.0         272.0      29.0   \n",
       "2307     1365      осень     10                  5.0          43.0       1.0   \n",
       "2390     1377       зима      2                 20.0         179.0       2.0   \n",
       "2503     1392       зима      2                  2.0          13.0       3.0   \n",
       "2859     1446       лето      8                  4.0          50.0       1.0   \n",
       "\n",
       "      Интернет, Мб  Тариф           Город  \n",
       "592            NaN  ultra     Новосибирск  \n",
       "1722           NaN  ultra          Курган  \n",
       "1723           NaN  ultra          Курган  \n",
       "1724           NaN  ultra          Курган  \n",
       "1725           NaN  ultra          Курган  \n",
       "1726           NaN  ultra          Курган  \n",
       "1727           NaN  ultra          Курган  \n",
       "1728           NaN  ultra          Курган  \n",
       "1729           NaN  ultra          Курган  \n",
       "2307           NaN  smart  Ростов-на-Дону  \n",
       "2390           NaN  ultra          Брянск  \n",
       "2503           NaN  ultra       Челябинск  \n",
       "2859           NaN  smart          Липецк  "
      ]
     },
     "execution_count": 42,
     "metadata": {},
     "output_type": "execute_result"
    }
   ],
   "source": [
    "df_event_numbers[df_event_numbers['Интернет, Мб'].isnull()]"
   ]
  },
  {
   "cell_type": "markdown",
   "metadata": {},
   "source": [
    "### Произведем заполнение имеющихся пропусков.\n",
    "\n",
    "Наблюдаются пропуски по каждому столбцу. Можно предположить, что некоторые пользователи за рассматриваемый период времени или:\n",
    "\n",
    "- ни разу не звонили;\n",
    "- ни разу не отправляли СМС;\n",
    "- ни разу не выходили в интернет. \n",
    "\n",
    "Проверим имеются ли у нас пользователи, которые ни разу не звонили, не отправляли смс и не заходили в интернет."
   ]
  },
  {
   "cell_type": "code",
   "execution_count": 43,
   "metadata": {},
   "outputs": [
    {
     "data": {
      "text/html": [
       "<div>\n",
       "<style scoped>\n",
       "    .dataframe tbody tr th:only-of-type {\n",
       "        vertical-align: middle;\n",
       "    }\n",
       "\n",
       "    .dataframe tbody tr th {\n",
       "        vertical-align: top;\n",
       "    }\n",
       "\n",
       "    .dataframe thead th {\n",
       "        text-align: right;\n",
       "    }\n",
       "</style>\n",
       "<table border=\"1\" class=\"dataframe\">\n",
       "  <thead>\n",
       "    <tr style=\"text-align: right;\">\n",
       "      <th></th>\n",
       "      <th>User_id</th>\n",
       "      <th>Время года</th>\n",
       "      <th>Месяц</th>\n",
       "      <th>Кол-во звонков, шт.</th>\n",
       "      <th>Звонки, мин.</th>\n",
       "      <th>СМС, шт.</th>\n",
       "      <th>Интернет, Мб</th>\n",
       "      <th>Тариф</th>\n",
       "      <th>Город</th>\n",
       "    </tr>\n",
       "  </thead>\n",
       "  <tbody>\n",
       "  </tbody>\n",
       "</table>\n",
       "</div>"
      ],
      "text/plain": [
       "Empty DataFrame\n",
       "Columns: [User_id, Время года, Месяц, Кол-во звонков, шт., Звонки, мин., СМС, шт., Интернет, Мб, Тариф, Город]\n",
       "Index: []"
      ]
     },
     "execution_count": 43,
     "metadata": {},
     "output_type": "execute_result"
    }
   ],
   "source": [
    "df_event_numbers[(df_event_numbers['Интернет, Мб'].isnull()) & (df_event_numbers['СМС, шт.'].isnull()) &\n",
    "                 (df_event_numbers['Звонки, мин.'].isnull())]"
   ]
  },
  {
   "cell_type": "markdown",
   "metadata": {},
   "source": [
    "# Промежуточный вывод\n",
    "\n",
    "Как мы можем заметить, что данных пользователей не имеется. Каждый из клиентов является активным пользователем мобильной связи. Скорей всего клиент не пользовался каким-то типом связи в определенный период времени. \n",
    "\n",
    "В связи с чем, следует установить нулевое значение по имеющимся пропускам, которое будет означать, что в конкретном месяце данный клиент не звонил/не отправлял СМС/не пользовался интернетом."
   ]
  },
  {
   "cell_type": "code",
   "execution_count": 44,
   "metadata": {},
   "outputs": [],
   "source": [
    "df_event_numbers = df_event_numbers.fillna(0)"
   ]
  },
  {
   "cell_type": "code",
   "execution_count": 45,
   "metadata": {},
   "outputs": [
    {
     "name": "stdout",
     "output_type": "stream",
     "text": [
      "<class 'pandas.core.frame.DataFrame'>\n",
      "RangeIndex: 3214 entries, 0 to 3213\n",
      "Data columns (total 9 columns):\n",
      "User_id                3214 non-null int64\n",
      "Время года             3214 non-null object\n",
      "Месяц                  3214 non-null int64\n",
      "Кол-во звонков, шт.    3214 non-null float64\n",
      "Звонки, мин.           3214 non-null float64\n",
      "СМС, шт.               3214 non-null float64\n",
      "Интернет, Мб           3214 non-null float64\n",
      "Тариф                  3214 non-null object\n",
      "Город                  3214 non-null object\n",
      "dtypes: float64(4), int64(2), object(3)\n",
      "memory usage: 226.1+ KB\n"
     ]
    }
   ],
   "source": [
    "df_event_numbers.info()"
   ]
  },
  {
   "cell_type": "markdown",
   "metadata": {},
   "source": [
    "## Иследовательский анализ данных\n",
    "\n",
    "### Произведем сравнительный анализ количества пользователей и частоты использования тарифных планов и видов связи.\n",
    "\n",
    "Рассмотрим поближе какая часть клиентов использует определенный тариф. "
   ]
  },
  {
   "cell_type": "code",
   "execution_count": 46,
   "metadata": {
    "scrolled": false
   },
   "outputs": [
    {
     "data": {
      "image/png": "[encoded data removed]",
      "text/plain": [
       "<Figure size 1440x360 with 1 Axes>"
      ]
     },
     "metadata": {},
     "output_type": "display_data"
    }
   ],
   "source": [
    "all_users = df_event_numbers['User_id'].count()\n",
    "\n",
    "\n",
    "def func_pct(pct):\n",
    "    value = float(pct/100.*all_users)\n",
    "    return \"{:.2f}%\\n({:.0f} чел.)\".format(pct, value)\n",
    "\n",
    "explode = (0.05, 0)  # сектор 'ultra' немного выдвинем\n",
    "\n",
    "axes = df_event_numbers.groupby('Тариф')['User_id'].count().plot(kind='pie', subplots=True, fontsize=15,\n",
    "                                                                     use_index=False, shadow=True, explode=explode,\n",
    "                                                                     title = 'Распределение по клиентам', pctdistance=0.45,\n",
    "                                                                     figsize=(20,5), autopct=lambda pct: func_pct(pct))\n",
    "\n",
    "plt.tight_layout(pad=0)\n",
    "\n",
    "for ax in axes:\n",
    "    ax.legend(['Смарт', 'Ультра'], bbox_to_anchor=(0.87,0.87), prop={'size':12})\n",
    "    ax.set_ylabel('')"
   ]
  },
  {
   "cell_type": "markdown",
   "metadata": {},
   "source": [
    "# Промежуточный вывод\n",
    "\n",
    "На основании данного графика мы можем констарировать, что 69,35% клиентов используют тариф - \"Smart\".\n",
    "\n",
    "Рассмотрим поближе частоту использования:\n",
    "\n",
    "- количество израсходованных минут разговора по видам тарифа;\n",
    "- количество отправленных сообщений по видам тарифа;\n",
    "- объем израсходованного интернет-трафика по месяцам."
   ]
  },
  {
   "cell_type": "code",
   "execution_count": 47,
   "metadata": {},
   "outputs": [
    {
     "data": {
      "image/png": "[encoded data removed]",
      "text/plain": [
       "<Figure size 1440x360 with 3 Axes>"
      ]
     },
     "metadata": {},
     "output_type": "display_data"
    }
   ],
   "source": [
    "columns_to_plot = ['Звонки, мин.', 'СМС, шт.', 'Интернет, Мб']\n",
    "\n",
    "calls_sum = df_event_numbers['Звонки, мин.'].sum()\n",
    "sms_sum = df_event_numbers['СМС, шт.'].sum()\n",
    "internet_sum = df_event_numbers['Интернет, Мб'].sum()\n",
    "\n",
    "def func_pct(pct):\n",
    "    if pct > 65 or pct < 35:\n",
    "        sum_of_data = internet_sum\n",
    "        value = float(pct/100.*sum_of_data/1024)\n",
    "        metric = 'Гб'\n",
    "    elif pct > 64 or pct < 36:\n",
    "        sum_of_data = calls_sum\n",
    "        value = float(pct/100.*sum_of_data)\n",
    "        metric = 'мин.'\n",
    "    else:\n",
    "        sum_of_data = sms_sum\n",
    "        value = float(pct/100.*sum_of_data)\n",
    "        metric = 'шт.'\n",
    "    return \"{:.2f}%\\n({:.0f} {})\".format(pct, value, metric)\n",
    "\n",
    "explode = (0.05, 0)  # сектор 'ultra' немного выдвинем\n",
    "\n",
    "axes = df_event_numbers.groupby('Тариф')[columns_to_plot].sum().plot(kind='pie', subplots=True, fontsize=15,\n",
    "                                                                       use_index=False, shadow=True, explode=explode,\n",
    "                                                                       title = columns_to_plot, pctdistance=0.45,\n",
    "                                                                       autopct=lambda pct: func_pct(pct), figsize=(20,5))\n",
    "\n",
    "for ax in axes:\n",
    "    ax.legend(['Смарт', 'Ультра'], framealpha=0.2, bbox_to_anchor=(0.87,0.87), prop={'size':15})\n",
    "    ax.set_ylabel('')"
   ]
  },
  {
   "cell_type": "markdown",
   "metadata": {},
   "source": [
    "# Промежуточный вывод\n",
    "\n",
    "На основании данного графика мы можем констарировать, что тенденция использования клиентами тарифа - \"Smart\" сохраняется:\n",
    "\n",
    "- израсходованных минут по тарифу - \"Smart\" на 412 853 минут больше;\n",
    "- отправленных смс по тарифу - \"Smart\" на 25 790 смс больше, чем по тарифу - \"Ultra\";\n",
    "- объем израсходованных Мб интернет-трафика по тарифу \"Smart\" на 16 582 Гб (сразу перевели из Мб в Гб, поделив на 1024), чем по тарифу - \"Ultra\"."
   ]
  },
  {
   "cell_type": "markdown",
   "metadata": {},
   "source": [
    "### Добавим информации о помесячной выручке с каждого пользователя.\n",
    "\n",
    "Разобьем на 3 группы столбцов:\n",
    "\n",
    "- \"Абон. плата\";\n",
    "- \"Минуты сверх\", \"СМС сверх\", \"Мб сверх\", \"Плата сверх лимита\";\n",
    "- \"Сумма за месяц\".\n",
    "\n",
    "\n",
    "Для создания столбца \"Абон. плата\" следует создать словарь и на основании его добавим новые данные в датафрейм."
   ]
  },
  {
   "cell_type": "code",
   "execution_count": 48,
   "metadata": {},
   "outputs": [],
   "source": [
    "month_price = {'smart': 550, 'ultra': 1950}\n",
    "df_event_numbers['Аб. плата, руб.'] = df_event_numbers['Тариф'].map(month_price)"
   ]
  },
  {
   "cell_type": "markdown",
   "metadata": {},
   "source": [
    "Напишем функцию для создания столбцов:\n",
    "- \"Минуты сверх\";\n",
    "- \"СМС сверх\";\n",
    "- \"Мб сверх\";\n",
    "- \"Плата сверх лимита\"\n",
    "\n",
    "которая будет считать превышения в зависимости от тарифа."
   ]
  },
  {
   "cell_type": "code",
   "execution_count": 49,
   "metadata": {},
   "outputs": [],
   "source": [
    "def calls_over_plan(row):\n",
    "    if row['Тариф'] == 'smart':\n",
    "        result = row['Звонки, мин.'] - 500\n",
    "        return np.where(result > 0, result, 0)\n",
    "    else:\n",
    "        result = row['Звонки, мин.'] - 3000\n",
    "        return np.where(result > 0, result, 0)\n",
    "    \n",
    "    \n",
    "def sms_over_plan(row):\n",
    "    if row['Тариф'] == 'smart':\n",
    "        result = row['СМС, шт.'] - 50\n",
    "        return np.where(result > 0, result, 0)\n",
    "    else:\n",
    "        result =  row['СМС, шт.'] - 1000\n",
    "        return np.where(result > 0, result, 0)\n",
    "    \n",
    "\n",
    "def internet_over_plan(row):\n",
    "    if row['Тариф'] == 'smart':\n",
    "        result = row['Интернет, Мб'] - 15 * 1024\n",
    "        return np.where(result > 0, result, 0)\n",
    "    else:\n",
    "        result = row['Интернет, Мб'] - 30 * 1024\n",
    "        return np.where(result > 0, result, 0)\n",
    "\n",
    "def month_revenue(row):\n",
    "    sum_per_month = 0\n",
    "    if row['Тариф'] == 'smart':\n",
    "        sum_per_month += np.ceil(row['Минуты сверх']) * 3\n",
    "        sum_per_month += row['СМС сверх'] * 3\n",
    "        sum_per_month += np.ceil(row['Мб сверх']/1024) * 200\n",
    "        return sum_per_month\n",
    "    \n",
    "    else:\n",
    "        sum_per_month += np.ceil(row['Минуты сверх']) * 1\n",
    "        sum_per_month += row['СМС сверх'] * 1\n",
    "        sum_per_month += np.ceil(row['Мб сверх']/1024) * 150\n",
    "        return sum_per_month"
   ]
  },
  {
   "cell_type": "markdown",
   "metadata": {},
   "source": [
    "Напишем функцию для создания столбцов."
   ]
  },
  {
   "cell_type": "code",
   "execution_count": 50,
   "metadata": {},
   "outputs": [
    {
     "data": {
      "text/html": [
       "<div>\n",
       "<style scoped>\n",
       "    .dataframe tbody tr th:only-of-type {\n",
       "        vertical-align: middle;\n",
       "    }\n",
       "\n",
       "    .dataframe tbody tr th {\n",
       "        vertical-align: top;\n",
       "    }\n",
       "\n",
       "    .dataframe thead th {\n",
       "        text-align: right;\n",
       "    }\n",
       "</style>\n",
       "<table border=\"1\" class=\"dataframe\">\n",
       "  <thead>\n",
       "    <tr style=\"text-align: right;\">\n",
       "      <th></th>\n",
       "      <th>User_id</th>\n",
       "      <th>Время года</th>\n",
       "      <th>Месяц</th>\n",
       "      <th>Кол-во звонков, шт.</th>\n",
       "      <th>Звонки, мин.</th>\n",
       "      <th>СМС, шт.</th>\n",
       "      <th>Интернет, Мб</th>\n",
       "      <th>Тариф</th>\n",
       "      <th>Город</th>\n",
       "      <th>Аб. плата, руб.</th>\n",
       "      <th>Минуты сверх</th>\n",
       "      <th>СМС сверх</th>\n",
       "      <th>Мб сверх</th>\n",
       "      <th>Плата сверх лимита, руб.</th>\n",
       "    </tr>\n",
       "  </thead>\n",
       "  <tbody>\n",
       "    <tr>\n",
       "      <td>0</td>\n",
       "      <td>1000</td>\n",
       "      <td>весна</td>\n",
       "      <td>5</td>\n",
       "      <td>17.0</td>\n",
       "      <td>159.0</td>\n",
       "      <td>22.0</td>\n",
       "      <td>2256.0</td>\n",
       "      <td>ultra</td>\n",
       "      <td>Краснодар</td>\n",
       "      <td>1950</td>\n",
       "      <td>0.0</td>\n",
       "      <td>0</td>\n",
       "      <td>0.0</td>\n",
       "      <td>0</td>\n",
       "    </tr>\n",
       "    <tr>\n",
       "      <td>1</td>\n",
       "      <td>1000</td>\n",
       "      <td>зима</td>\n",
       "      <td>12</td>\n",
       "      <td>38.0</td>\n",
       "      <td>333.0</td>\n",
       "      <td>70.0</td>\n",
       "      <td>9827.0</td>\n",
       "      <td>ultra</td>\n",
       "      <td>Краснодар</td>\n",
       "      <td>1950</td>\n",
       "      <td>0.0</td>\n",
       "      <td>0</td>\n",
       "      <td>0.0</td>\n",
       "      <td>0</td>\n",
       "    </tr>\n",
       "    <tr>\n",
       "      <td>2</td>\n",
       "      <td>1000</td>\n",
       "      <td>лето</td>\n",
       "      <td>6</td>\n",
       "      <td>28.0</td>\n",
       "      <td>172.0</td>\n",
       "      <td>60.0</td>\n",
       "      <td>23257.0</td>\n",
       "      <td>ultra</td>\n",
       "      <td>Краснодар</td>\n",
       "      <td>1950</td>\n",
       "      <td>0.0</td>\n",
       "      <td>0</td>\n",
       "      <td>0.0</td>\n",
       "      <td>0</td>\n",
       "    </tr>\n",
       "    <tr>\n",
       "      <td>3</td>\n",
       "      <td>1000</td>\n",
       "      <td>лето</td>\n",
       "      <td>7</td>\n",
       "      <td>41.0</td>\n",
       "      <td>340.0</td>\n",
       "      <td>75.0</td>\n",
       "      <td>14016.0</td>\n",
       "      <td>ultra</td>\n",
       "      <td>Краснодар</td>\n",
       "      <td>1950</td>\n",
       "      <td>0.0</td>\n",
       "      <td>0</td>\n",
       "      <td>0.0</td>\n",
       "      <td>0</td>\n",
       "    </tr>\n",
       "    <tr>\n",
       "      <td>4</td>\n",
       "      <td>1000</td>\n",
       "      <td>лето</td>\n",
       "      <td>8</td>\n",
       "      <td>42.0</td>\n",
       "      <td>408.0</td>\n",
       "      <td>81.0</td>\n",
       "      <td>14070.0</td>\n",
       "      <td>ultra</td>\n",
       "      <td>Краснодар</td>\n",
       "      <td>1950</td>\n",
       "      <td>0.0</td>\n",
       "      <td>0</td>\n",
       "      <td>0.0</td>\n",
       "      <td>0</td>\n",
       "    </tr>\n",
       "    <tr>\n",
       "      <td>5</td>\n",
       "      <td>1000</td>\n",
       "      <td>осень</td>\n",
       "      <td>9</td>\n",
       "      <td>46.0</td>\n",
       "      <td>466.0</td>\n",
       "      <td>57.0</td>\n",
       "      <td>14581.0</td>\n",
       "      <td>ultra</td>\n",
       "      <td>Краснодар</td>\n",
       "      <td>1950</td>\n",
       "      <td>0.0</td>\n",
       "      <td>0</td>\n",
       "      <td>0.0</td>\n",
       "      <td>0</td>\n",
       "    </tr>\n",
       "    <tr>\n",
       "      <td>6</td>\n",
       "      <td>1000</td>\n",
       "      <td>осень</td>\n",
       "      <td>10</td>\n",
       "      <td>44.0</td>\n",
       "      <td>350.0</td>\n",
       "      <td>73.0</td>\n",
       "      <td>14717.0</td>\n",
       "      <td>ultra</td>\n",
       "      <td>Краснодар</td>\n",
       "      <td>1950</td>\n",
       "      <td>0.0</td>\n",
       "      <td>0</td>\n",
       "      <td>0.0</td>\n",
       "      <td>0</td>\n",
       "    </tr>\n",
       "    <tr>\n",
       "      <td>7</td>\n",
       "      <td>1000</td>\n",
       "      <td>осень</td>\n",
       "      <td>11</td>\n",
       "      <td>37.0</td>\n",
       "      <td>338.0</td>\n",
       "      <td>58.0</td>\n",
       "      <td>14768.0</td>\n",
       "      <td>ultra</td>\n",
       "      <td>Краснодар</td>\n",
       "      <td>1950</td>\n",
       "      <td>0.0</td>\n",
       "      <td>0</td>\n",
       "      <td>0.0</td>\n",
       "      <td>0</td>\n",
       "    </tr>\n",
       "    <tr>\n",
       "      <td>8</td>\n",
       "      <td>1001</td>\n",
       "      <td>зима</td>\n",
       "      <td>12</td>\n",
       "      <td>47.0</td>\n",
       "      <td>414.0</td>\n",
       "      <td>0.0</td>\n",
       "      <td>14053.0</td>\n",
       "      <td>smart</td>\n",
       "      <td>Москва</td>\n",
       "      <td>550</td>\n",
       "      <td>0.0</td>\n",
       "      <td>0</td>\n",
       "      <td>0.0</td>\n",
       "      <td>0</td>\n",
       "    </tr>\n",
       "    <tr>\n",
       "      <td>9</td>\n",
       "      <td>1001</td>\n",
       "      <td>осень</td>\n",
       "      <td>11</td>\n",
       "      <td>45.0</td>\n",
       "      <td>430.0</td>\n",
       "      <td>0.0</td>\n",
       "      <td>18452.0</td>\n",
       "      <td>smart</td>\n",
       "      <td>Москва</td>\n",
       "      <td>550</td>\n",
       "      <td>0.0</td>\n",
       "      <td>0</td>\n",
       "      <td>3092.0</td>\n",
       "      <td>800</td>\n",
       "    </tr>\n",
       "  </tbody>\n",
       "</table>\n",
       "</div>"
      ],
      "text/plain": [
       "   User_id Время года  Месяц  Кол-во звонков, шт.  Звонки, мин.  СМС, шт.  \\\n",
       "0     1000      весна      5                 17.0         159.0      22.0   \n",
       "1     1000       зима     12                 38.0         333.0      70.0   \n",
       "2     1000       лето      6                 28.0         172.0      60.0   \n",
       "3     1000       лето      7                 41.0         340.0      75.0   \n",
       "4     1000       лето      8                 42.0         408.0      81.0   \n",
       "5     1000      осень      9                 46.0         466.0      57.0   \n",
       "6     1000      осень     10                 44.0         350.0      73.0   \n",
       "7     1000      осень     11                 37.0         338.0      58.0   \n",
       "8     1001       зима     12                 47.0         414.0       0.0   \n",
       "9     1001      осень     11                 45.0         430.0       0.0   \n",
       "\n",
       "   Интернет, Мб  Тариф      Город  Аб. плата, руб.  Минуты сверх  СМС сверх  \\\n",
       "0        2256.0  ultra  Краснодар             1950           0.0          0   \n",
       "1        9827.0  ultra  Краснодар             1950           0.0          0   \n",
       "2       23257.0  ultra  Краснодар             1950           0.0          0   \n",
       "3       14016.0  ultra  Краснодар             1950           0.0          0   \n",
       "4       14070.0  ultra  Краснодар             1950           0.0          0   \n",
       "5       14581.0  ultra  Краснодар             1950           0.0          0   \n",
       "6       14717.0  ultra  Краснодар             1950           0.0          0   \n",
       "7       14768.0  ultra  Краснодар             1950           0.0          0   \n",
       "8       14053.0  smart     Москва              550           0.0          0   \n",
       "9       18452.0  smart     Москва              550           0.0          0   \n",
       "\n",
       "   Мб сверх  Плата сверх лимита, руб.  \n",
       "0       0.0                         0  \n",
       "1       0.0                         0  \n",
       "2       0.0                         0  \n",
       "3       0.0                         0  \n",
       "4       0.0                         0  \n",
       "5       0.0                         0  \n",
       "6       0.0                         0  \n",
       "7       0.0                         0  \n",
       "8       0.0                         0  \n",
       "9    3092.0                       800  "
      ]
     },
     "execution_count": 50,
     "metadata": {},
     "output_type": "execute_result"
    }
   ],
   "source": [
    "df_event_numbers['Минуты сверх'] = df_event_numbers.apply(calls_over_plan, axis=1)\n",
    "df_event_numbers['СМС сверх'] = df_event_numbers.apply(sms_over_plan, axis=1)\n",
    "df_event_numbers['Мб сверх'] = df_event_numbers.apply(internet_over_plan, axis=1)\n",
    "\n",
    "df_event_numbers['Плата сверх лимита, руб.'] = df_event_numbers.apply(month_revenue, axis=1)\n",
    "\n",
    "for column in ['Минуты сверх', 'Мб сверх']:\n",
    "    df_event_numbers[column] = df_event_numbers[column].astype('float')\n",
    "\n",
    "for column in ['СМС сверх', 'Плата сверх лимита, руб.']:\n",
    "    df_event_numbers[column] = df_event_numbers[column].astype('int')\n",
    "    \n",
    "df_event_numbers.head(10)"
   ]
  },
  {
   "cell_type": "markdown",
   "metadata": {},
   "source": [
    "Для создания столбца \"Сумма за месяц\" следует построчно просуммировать данные по двум созданным столбцам: \n",
    "\n",
    "- \"Аб. плата\"; \n",
    "- \"Плата сверх лимита\"."
   ]
  },
  {
   "cell_type": "code",
   "execution_count": 51,
   "metadata": {},
   "outputs": [],
   "source": [
    "df_event_numbers['Сумма за месяц, руб.'] = df_event_numbers['Аб. плата, руб.'] + df_event_numbers['Плата сверх лимита, руб.']"
   ]
  },
  {
   "cell_type": "markdown",
   "metadata": {},
   "source": [
    "Посмотрим на полученный результат."
   ]
  },
  {
   "cell_type": "code",
   "execution_count": 52,
   "metadata": {
    "scrolled": true
   },
   "outputs": [
    {
     "data": {
      "text/html": [
       "<div>\n",
       "<style scoped>\n",
       "    .dataframe tbody tr th:only-of-type {\n",
       "        vertical-align: middle;\n",
       "    }\n",
       "\n",
       "    .dataframe tbody tr th {\n",
       "        vertical-align: top;\n",
       "    }\n",
       "\n",
       "    .dataframe thead th {\n",
       "        text-align: right;\n",
       "    }\n",
       "</style>\n",
       "<table border=\"1\" class=\"dataframe\">\n",
       "  <thead>\n",
       "    <tr style=\"text-align: right;\">\n",
       "      <th></th>\n",
       "      <th>User_id</th>\n",
       "      <th>Время года</th>\n",
       "      <th>Месяц</th>\n",
       "      <th>Кол-во звонков, шт.</th>\n",
       "      <th>Звонки, мин.</th>\n",
       "      <th>СМС, шт.</th>\n",
       "      <th>Интернет, Мб</th>\n",
       "      <th>Тариф</th>\n",
       "      <th>Город</th>\n",
       "      <th>Аб. плата, руб.</th>\n",
       "      <th>Минуты сверх</th>\n",
       "      <th>СМС сверх</th>\n",
       "      <th>Мб сверх</th>\n",
       "      <th>Плата сверх лимита, руб.</th>\n",
       "      <th>Сумма за месяц, руб.</th>\n",
       "    </tr>\n",
       "  </thead>\n",
       "  <tbody>\n",
       "    <tr>\n",
       "      <td>0</td>\n",
       "      <td>1000</td>\n",
       "      <td>весна</td>\n",
       "      <td>5</td>\n",
       "      <td>17.0</td>\n",
       "      <td>159.0</td>\n",
       "      <td>22.0</td>\n",
       "      <td>2256.0</td>\n",
       "      <td>ultra</td>\n",
       "      <td>Краснодар</td>\n",
       "      <td>1950</td>\n",
       "      <td>0.0</td>\n",
       "      <td>0</td>\n",
       "      <td>0.0</td>\n",
       "      <td>0</td>\n",
       "      <td>1950</td>\n",
       "    </tr>\n",
       "    <tr>\n",
       "      <td>1</td>\n",
       "      <td>1000</td>\n",
       "      <td>зима</td>\n",
       "      <td>12</td>\n",
       "      <td>38.0</td>\n",
       "      <td>333.0</td>\n",
       "      <td>70.0</td>\n",
       "      <td>9827.0</td>\n",
       "      <td>ultra</td>\n",
       "      <td>Краснодар</td>\n",
       "      <td>1950</td>\n",
       "      <td>0.0</td>\n",
       "      <td>0</td>\n",
       "      <td>0.0</td>\n",
       "      <td>0</td>\n",
       "      <td>1950</td>\n",
       "    </tr>\n",
       "    <tr>\n",
       "      <td>2</td>\n",
       "      <td>1000</td>\n",
       "      <td>лето</td>\n",
       "      <td>6</td>\n",
       "      <td>28.0</td>\n",
       "      <td>172.0</td>\n",
       "      <td>60.0</td>\n",
       "      <td>23257.0</td>\n",
       "      <td>ultra</td>\n",
       "      <td>Краснодар</td>\n",
       "      <td>1950</td>\n",
       "      <td>0.0</td>\n",
       "      <td>0</td>\n",
       "      <td>0.0</td>\n",
       "      <td>0</td>\n",
       "      <td>1950</td>\n",
       "    </tr>\n",
       "    <tr>\n",
       "      <td>3</td>\n",
       "      <td>1000</td>\n",
       "      <td>лето</td>\n",
       "      <td>7</td>\n",
       "      <td>41.0</td>\n",
       "      <td>340.0</td>\n",
       "      <td>75.0</td>\n",
       "      <td>14016.0</td>\n",
       "      <td>ultra</td>\n",
       "      <td>Краснодар</td>\n",
       "      <td>1950</td>\n",
       "      <td>0.0</td>\n",
       "      <td>0</td>\n",
       "      <td>0.0</td>\n",
       "      <td>0</td>\n",
       "      <td>1950</td>\n",
       "    </tr>\n",
       "    <tr>\n",
       "      <td>4</td>\n",
       "      <td>1000</td>\n",
       "      <td>лето</td>\n",
       "      <td>8</td>\n",
       "      <td>42.0</td>\n",
       "      <td>408.0</td>\n",
       "      <td>81.0</td>\n",
       "      <td>14070.0</td>\n",
       "      <td>ultra</td>\n",
       "      <td>Краснодар</td>\n",
       "      <td>1950</td>\n",
       "      <td>0.0</td>\n",
       "      <td>0</td>\n",
       "      <td>0.0</td>\n",
       "      <td>0</td>\n",
       "      <td>1950</td>\n",
       "    </tr>\n",
       "    <tr>\n",
       "      <td>5</td>\n",
       "      <td>1000</td>\n",
       "      <td>осень</td>\n",
       "      <td>9</td>\n",
       "      <td>46.0</td>\n",
       "      <td>466.0</td>\n",
       "      <td>57.0</td>\n",
       "      <td>14581.0</td>\n",
       "      <td>ultra</td>\n",
       "      <td>Краснодар</td>\n",
       "      <td>1950</td>\n",
       "      <td>0.0</td>\n",
       "      <td>0</td>\n",
       "      <td>0.0</td>\n",
       "      <td>0</td>\n",
       "      <td>1950</td>\n",
       "    </tr>\n",
       "    <tr>\n",
       "      <td>6</td>\n",
       "      <td>1000</td>\n",
       "      <td>осень</td>\n",
       "      <td>10</td>\n",
       "      <td>44.0</td>\n",
       "      <td>350.0</td>\n",
       "      <td>73.0</td>\n",
       "      <td>14717.0</td>\n",
       "      <td>ultra</td>\n",
       "      <td>Краснодар</td>\n",
       "      <td>1950</td>\n",
       "      <td>0.0</td>\n",
       "      <td>0</td>\n",
       "      <td>0.0</td>\n",
       "      <td>0</td>\n",
       "      <td>1950</td>\n",
       "    </tr>\n",
       "    <tr>\n",
       "      <td>7</td>\n",
       "      <td>1000</td>\n",
       "      <td>осень</td>\n",
       "      <td>11</td>\n",
       "      <td>37.0</td>\n",
       "      <td>338.0</td>\n",
       "      <td>58.0</td>\n",
       "      <td>14768.0</td>\n",
       "      <td>ultra</td>\n",
       "      <td>Краснодар</td>\n",
       "      <td>1950</td>\n",
       "      <td>0.0</td>\n",
       "      <td>0</td>\n",
       "      <td>0.0</td>\n",
       "      <td>0</td>\n",
       "      <td>1950</td>\n",
       "    </tr>\n",
       "    <tr>\n",
       "      <td>8</td>\n",
       "      <td>1001</td>\n",
       "      <td>зима</td>\n",
       "      <td>12</td>\n",
       "      <td>47.0</td>\n",
       "      <td>414.0</td>\n",
       "      <td>0.0</td>\n",
       "      <td>14053.0</td>\n",
       "      <td>smart</td>\n",
       "      <td>Москва</td>\n",
       "      <td>550</td>\n",
       "      <td>0.0</td>\n",
       "      <td>0</td>\n",
       "      <td>0.0</td>\n",
       "      <td>0</td>\n",
       "      <td>550</td>\n",
       "    </tr>\n",
       "    <tr>\n",
       "      <td>9</td>\n",
       "      <td>1001</td>\n",
       "      <td>осень</td>\n",
       "      <td>11</td>\n",
       "      <td>45.0</td>\n",
       "      <td>430.0</td>\n",
       "      <td>0.0</td>\n",
       "      <td>18452.0</td>\n",
       "      <td>smart</td>\n",
       "      <td>Москва</td>\n",
       "      <td>550</td>\n",
       "      <td>0.0</td>\n",
       "      <td>0</td>\n",
       "      <td>3092.0</td>\n",
       "      <td>800</td>\n",
       "      <td>1350</td>\n",
       "    </tr>\n",
       "  </tbody>\n",
       "</table>\n",
       "</div>"
      ],
      "text/plain": [
       "   User_id Время года  Месяц  Кол-во звонков, шт.  Звонки, мин.  СМС, шт.  \\\n",
       "0     1000      весна      5                 17.0         159.0      22.0   \n",
       "1     1000       зима     12                 38.0         333.0      70.0   \n",
       "2     1000       лето      6                 28.0         172.0      60.0   \n",
       "3     1000       лето      7                 41.0         340.0      75.0   \n",
       "4     1000       лето      8                 42.0         408.0      81.0   \n",
       "5     1000      осень      9                 46.0         466.0      57.0   \n",
       "6     1000      осень     10                 44.0         350.0      73.0   \n",
       "7     1000      осень     11                 37.0         338.0      58.0   \n",
       "8     1001       зима     12                 47.0         414.0       0.0   \n",
       "9     1001      осень     11                 45.0         430.0       0.0   \n",
       "\n",
       "   Интернет, Мб  Тариф      Город  Аб. плата, руб.  Минуты сверх  СМС сверх  \\\n",
       "0        2256.0  ultra  Краснодар             1950           0.0          0   \n",
       "1        9827.0  ultra  Краснодар             1950           0.0          0   \n",
       "2       23257.0  ultra  Краснодар             1950           0.0          0   \n",
       "3       14016.0  ultra  Краснодар             1950           0.0          0   \n",
       "4       14070.0  ultra  Краснодар             1950           0.0          0   \n",
       "5       14581.0  ultra  Краснодар             1950           0.0          0   \n",
       "6       14717.0  ultra  Краснодар             1950           0.0          0   \n",
       "7       14768.0  ultra  Краснодар             1950           0.0          0   \n",
       "8       14053.0  smart     Москва              550           0.0          0   \n",
       "9       18452.0  smart     Москва              550           0.0          0   \n",
       "\n",
       "   Мб сверх  Плата сверх лимита, руб.  Сумма за месяц, руб.  \n",
       "0       0.0                         0                  1950  \n",
       "1       0.0                         0                  1950  \n",
       "2       0.0                         0                  1950  \n",
       "3       0.0                         0                  1950  \n",
       "4       0.0                         0                  1950  \n",
       "5       0.0                         0                  1950  \n",
       "6       0.0                         0                  1950  \n",
       "7       0.0                         0                  1950  \n",
       "8       0.0                         0                   550  \n",
       "9    3092.0                       800                  1350  "
      ]
     },
     "execution_count": 52,
     "metadata": {},
     "output_type": "execute_result"
    }
   ],
   "source": [
    "df_event_numbers.head(10)"
   ]
  },
  {
   "cell_type": "markdown",
   "metadata": {},
   "source": [
    "Посмотрим имеются ли клиенты, которые превышали лимиты."
   ]
  },
  {
   "cell_type": "code",
   "execution_count": 53,
   "metadata": {},
   "outputs": [
    {
     "data": {
      "text/html": [
       "<div>\n",
       "<style scoped>\n",
       "    .dataframe tbody tr th:only-of-type {\n",
       "        vertical-align: middle;\n",
       "    }\n",
       "\n",
       "    .dataframe tbody tr th {\n",
       "        vertical-align: top;\n",
       "    }\n",
       "\n",
       "    .dataframe thead th {\n",
       "        text-align: right;\n",
       "    }\n",
       "</style>\n",
       "<table border=\"1\" class=\"dataframe\">\n",
       "  <thead>\n",
       "    <tr style=\"text-align: right;\">\n",
       "      <th></th>\n",
       "      <th>User_id</th>\n",
       "      <th>Время года</th>\n",
       "      <th>Месяц</th>\n",
       "      <th>Кол-во звонков, шт.</th>\n",
       "      <th>Звонки, мин.</th>\n",
       "      <th>СМС, шт.</th>\n",
       "      <th>Интернет, Мб</th>\n",
       "      <th>Тариф</th>\n",
       "      <th>Город</th>\n",
       "      <th>Аб. плата, руб.</th>\n",
       "      <th>Минуты сверх</th>\n",
       "      <th>СМС сверх</th>\n",
       "      <th>Мб сверх</th>\n",
       "      <th>Плата сверх лимита, руб.</th>\n",
       "      <th>Сумма за месяц, руб.</th>\n",
       "    </tr>\n",
       "  </thead>\n",
       "  <tbody>\n",
       "    <tr>\n",
       "      <td>68</td>\n",
       "      <td>1009</td>\n",
       "      <td>лето</td>\n",
       "      <td>7</td>\n",
       "      <td>20.0</td>\n",
       "      <td>183.0</td>\n",
       "      <td>14.0</td>\n",
       "      <td>24752.0</td>\n",
       "      <td>smart</td>\n",
       "      <td>Пермь</td>\n",
       "      <td>550</td>\n",
       "      <td>0.0</td>\n",
       "      <td>0</td>\n",
       "      <td>9392.0</td>\n",
       "      <td>2000</td>\n",
       "      <td>2550</td>\n",
       "    </tr>\n",
       "    <tr>\n",
       "      <td>69</td>\n",
       "      <td>1009</td>\n",
       "      <td>лето</td>\n",
       "      <td>8</td>\n",
       "      <td>27.0</td>\n",
       "      <td>249.0</td>\n",
       "      <td>9.0</td>\n",
       "      <td>23738.0</td>\n",
       "      <td>smart</td>\n",
       "      <td>Пермь</td>\n",
       "      <td>550</td>\n",
       "      <td>0.0</td>\n",
       "      <td>0</td>\n",
       "      <td>8378.0</td>\n",
       "      <td>1800</td>\n",
       "      <td>2350</td>\n",
       "    </tr>\n",
       "    <tr>\n",
       "      <td>81</td>\n",
       "      <td>1011</td>\n",
       "      <td>зима</td>\n",
       "      <td>12</td>\n",
       "      <td>44.0</td>\n",
       "      <td>361.0</td>\n",
       "      <td>6.0</td>\n",
       "      <td>22900.0</td>\n",
       "      <td>smart</td>\n",
       "      <td>Самара</td>\n",
       "      <td>550</td>\n",
       "      <td>0.0</td>\n",
       "      <td>0</td>\n",
       "      <td>7540.0</td>\n",
       "      <td>1600</td>\n",
       "      <td>2150</td>\n",
       "    </tr>\n",
       "    <tr>\n",
       "      <td>84</td>\n",
       "      <td>1011</td>\n",
       "      <td>лето</td>\n",
       "      <td>8</td>\n",
       "      <td>58.0</td>\n",
       "      <td>515.0</td>\n",
       "      <td>15.0</td>\n",
       "      <td>21526.0</td>\n",
       "      <td>smart</td>\n",
       "      <td>Самара</td>\n",
       "      <td>550</td>\n",
       "      <td>15.0</td>\n",
       "      <td>0</td>\n",
       "      <td>6166.0</td>\n",
       "      <td>1445</td>\n",
       "      <td>1995</td>\n",
       "    </tr>\n",
       "    <tr>\n",
       "      <td>87</td>\n",
       "      <td>1011</td>\n",
       "      <td>осень</td>\n",
       "      <td>11</td>\n",
       "      <td>52.0</td>\n",
       "      <td>501.0</td>\n",
       "      <td>12.0</td>\n",
       "      <td>25332.0</td>\n",
       "      <td>smart</td>\n",
       "      <td>Самара</td>\n",
       "      <td>550</td>\n",
       "      <td>1.0</td>\n",
       "      <td>0</td>\n",
       "      <td>9972.0</td>\n",
       "      <td>2003</td>\n",
       "      <td>2553</td>\n",
       "    </tr>\n",
       "    <tr>\n",
       "      <td>...</td>\n",
       "      <td>...</td>\n",
       "      <td>...</td>\n",
       "      <td>...</td>\n",
       "      <td>...</td>\n",
       "      <td>...</td>\n",
       "      <td>...</td>\n",
       "      <td>...</td>\n",
       "      <td>...</td>\n",
       "      <td>...</td>\n",
       "      <td>...</td>\n",
       "      <td>...</td>\n",
       "      <td>...</td>\n",
       "      <td>...</td>\n",
       "      <td>...</td>\n",
       "      <td>...</td>\n",
       "    </tr>\n",
       "    <tr>\n",
       "      <td>3199</td>\n",
       "      <td>1496</td>\n",
       "      <td>лето</td>\n",
       "      <td>8</td>\n",
       "      <td>62.0</td>\n",
       "      <td>527.0</td>\n",
       "      <td>41.0</td>\n",
       "      <td>23560.0</td>\n",
       "      <td>smart</td>\n",
       "      <td>Вологда</td>\n",
       "      <td>550</td>\n",
       "      <td>27.0</td>\n",
       "      <td>0</td>\n",
       "      <td>8200.0</td>\n",
       "      <td>1881</td>\n",
       "      <td>2431</td>\n",
       "    </tr>\n",
       "    <tr>\n",
       "      <td>3200</td>\n",
       "      <td>1496</td>\n",
       "      <td>осень</td>\n",
       "      <td>9</td>\n",
       "      <td>58.0</td>\n",
       "      <td>486.0</td>\n",
       "      <td>29.0</td>\n",
       "      <td>26970.0</td>\n",
       "      <td>smart</td>\n",
       "      <td>Вологда</td>\n",
       "      <td>550</td>\n",
       "      <td>0.0</td>\n",
       "      <td>0</td>\n",
       "      <td>11610.0</td>\n",
       "      <td>2400</td>\n",
       "      <td>2950</td>\n",
       "    </tr>\n",
       "    <tr>\n",
       "      <td>3201</td>\n",
       "      <td>1496</td>\n",
       "      <td>осень</td>\n",
       "      <td>10</td>\n",
       "      <td>56.0</td>\n",
       "      <td>450.0</td>\n",
       "      <td>35.0</td>\n",
       "      <td>28215.0</td>\n",
       "      <td>smart</td>\n",
       "      <td>Вологда</td>\n",
       "      <td>550</td>\n",
       "      <td>0.0</td>\n",
       "      <td>0</td>\n",
       "      <td>12855.0</td>\n",
       "      <td>2600</td>\n",
       "      <td>3150</td>\n",
       "    </tr>\n",
       "    <tr>\n",
       "      <td>3202</td>\n",
       "      <td>1496</td>\n",
       "      <td>осень</td>\n",
       "      <td>11</td>\n",
       "      <td>66.0</td>\n",
       "      <td>662.0</td>\n",
       "      <td>46.0</td>\n",
       "      <td>25092.0</td>\n",
       "      <td>smart</td>\n",
       "      <td>Вологда</td>\n",
       "      <td>550</td>\n",
       "      <td>162.0</td>\n",
       "      <td>0</td>\n",
       "      <td>9732.0</td>\n",
       "      <td>2486</td>\n",
       "      <td>3036</td>\n",
       "    </tr>\n",
       "    <tr>\n",
       "      <td>3207</td>\n",
       "      <td>1498</td>\n",
       "      <td>лето</td>\n",
       "      <td>8</td>\n",
       "      <td>43.0</td>\n",
       "      <td>400.0</td>\n",
       "      <td>62.0</td>\n",
       "      <td>24270.0</td>\n",
       "      <td>smart</td>\n",
       "      <td>Владикавказ</td>\n",
       "      <td>550</td>\n",
       "      <td>0.0</td>\n",
       "      <td>12</td>\n",
       "      <td>8910.0</td>\n",
       "      <td>1836</td>\n",
       "      <td>2386</td>\n",
       "    </tr>\n",
       "  </tbody>\n",
       "</table>\n",
       "<p>556 rows × 15 columns</p>\n",
       "</div>"
      ],
      "text/plain": [
       "      User_id Время года  Месяц  Кол-во звонков, шт.  Звонки, мин.  СМС, шт.  \\\n",
       "68       1009       лето      7                 20.0         183.0      14.0   \n",
       "69       1009       лето      8                 27.0         249.0       9.0   \n",
       "81       1011       зима     12                 44.0         361.0       6.0   \n",
       "84       1011       лето      8                 58.0         515.0      15.0   \n",
       "87       1011      осень     11                 52.0         501.0      12.0   \n",
       "...       ...        ...    ...                  ...           ...       ...   \n",
       "3199     1496       лето      8                 62.0         527.0      41.0   \n",
       "3200     1496      осень      9                 58.0         486.0      29.0   \n",
       "3201     1496      осень     10                 56.0         450.0      35.0   \n",
       "3202     1496      осень     11                 66.0         662.0      46.0   \n",
       "3207     1498       лето      8                 43.0         400.0      62.0   \n",
       "\n",
       "      Интернет, Мб  Тариф        Город  Аб. плата, руб.  Минуты сверх  \\\n",
       "68         24752.0  smart        Пермь              550           0.0   \n",
       "69         23738.0  smart        Пермь              550           0.0   \n",
       "81         22900.0  smart       Самара              550           0.0   \n",
       "84         21526.0  smart       Самара              550          15.0   \n",
       "87         25332.0  smart       Самара              550           1.0   \n",
       "...            ...    ...          ...              ...           ...   \n",
       "3199       23560.0  smart      Вологда              550          27.0   \n",
       "3200       26970.0  smart      Вологда              550           0.0   \n",
       "3201       28215.0  smart      Вологда              550           0.0   \n",
       "3202       25092.0  smart      Вологда              550         162.0   \n",
       "3207       24270.0  smart  Владикавказ              550           0.0   \n",
       "\n",
       "      СМС сверх  Мб сверх  Плата сверх лимита, руб.  Сумма за месяц, руб.  \n",
       "68            0    9392.0                      2000                  2550  \n",
       "69            0    8378.0                      1800                  2350  \n",
       "81            0    7540.0                      1600                  2150  \n",
       "84            0    6166.0                      1445                  1995  \n",
       "87            0    9972.0                      2003                  2553  \n",
       "...         ...       ...                       ...                   ...  \n",
       "3199          0    8200.0                      1881                  2431  \n",
       "3200          0   11610.0                      2400                  2950  \n",
       "3201          0   12855.0                      2600                  3150  \n",
       "3202          0    9732.0                      2486                  3036  \n",
       "3207         12    8910.0                      1836                  2386  \n",
       "\n",
       "[556 rows x 15 columns]"
      ]
     },
     "execution_count": 53,
     "metadata": {},
     "output_type": "execute_result"
    }
   ],
   "source": [
    "df_event_numbers[df_event_numbers['Сумма за месяц, руб.'] > 1950]"
   ]
  },
  {
   "cell_type": "markdown",
   "metadata": {},
   "source": [
    "# Промежуточный вывод\n",
    "\n",
    "По результатам проведенной работы, мы видим, что имеются клиенты, которые превышали ежемесячные лимиты по каждому из видов тарифов."
   ]
  },
  {
   "cell_type": "markdown",
   "metadata": {},
   "source": [
    "### Произведем анализ данных по переплатам (дополнительный пакет услуг).\n",
    "\n",
    "Создадим новый столбец -\"Не хватило тарифного плана\". Классификация будет совершаться по категориям:\n",
    "\n",
    "- \"0\" - клиент не превышал месячные лимиты тарифа;\n",
    "- \"1\" - превышал.\n",
    "\n",
    "Напишем функцию."
   ]
  },
  {
   "cell_type": "code",
   "execution_count": 54,
   "metadata": {},
   "outputs": [],
   "source": [
    "df_event_numbers['Не хватило тарифного плана'] = np.where(df_event_numbers['Плата сверх лимита, руб.'] > 0, 1, 0)"
   ]
  },
  {
   "cell_type": "markdown",
   "metadata": {},
   "source": [
    "Построим круговую диаграмму по каждому виду тарифного плана. Проанализируем какая часть клиентом мобильного оператора \"Мегалайн\" по истечению месячного тарифа, оплачивают дополнительный пакет услуг.\n",
    "\n",
    "Напишем функцию."
   ]
  },
  {
   "cell_type": "code",
   "execution_count": 55,
   "metadata": {
    "scrolled": true
   },
   "outputs": [
    {
     "data": {
      "image/png": "[encoded data removed]",
      "text/plain": [
       "<Figure size 1440x360 with 2 Axes>"
      ]
     },
     "metadata": {},
     "output_type": "display_data"
    }
   ],
   "source": [
    "filter_list = ['smart', 'ultra']\n",
    "titles_list = ['По клиентам тарифа \"Смарт\"', 'По клиентам тарифа \"Ультра\"']\n",
    "rows = 1\n",
    "cols = 2\n",
    "filter_list_counter = 0\n",
    "\n",
    "sum_smart = df_event_numbers[df_event_numbers['Тариф'] == 'smart'].count()['User_id']\n",
    "sum_ultra = df_event_numbers[df_event_numbers['Тариф'] == 'ultra'].count()['User_id']\n",
    "\n",
    "annot_labels = ['В рамках тарифа', 'Дозаказ услуг']\n",
    "\n",
    "def func_pct(pct):\n",
    "    if pct < 75 and pct > 25:\n",
    "        value = float(pct/100.*sum_smart)\n",
    "    else:\n",
    "        value = float(pct/100.*sum_ultra)\n",
    "    return \"{:.2f}%\\n({:.0f} чел.)\".format(pct, value)\n",
    "\n",
    "fig, axes = plt.subplots(rows, cols, figsize=(20,10))\n",
    "\n",
    "explode = (0.05, 0)  # сектор 'ultra' немного выдвинем\n",
    "\n",
    "for r in range(rows):\n",
    "    for c in range(cols):\n",
    "        if filter_list[filter_list_counter] == 'smart':\n",
    "            colors = ['indianred', 'darkred']\n",
    "        else:\n",
    "            colors = ['lightcoral', 'darkred']\n",
    "        curr_filtered_df = df_event_numbers[df_event_numbers['Тариф'] == filter_list[filter_list_counter]].groupby('Не хватило тарифного плана')['User_id']\n",
    "        ax = curr_filtered_df.count().plot(kind='pie', fontsize=14, use_index=False, shadow=True, explode=explode,\n",
    "                                           title=titles_list[filter_list_counter], pctdistance=0.55, figsize=(20,5),\n",
    "                                           autopct=lambda pct: func_pct(pct), startangle=200, ax=axes[c], colors=colors,\n",
    "                                           labels=None)\n",
    "\n",
    "        filter_list_counter += 1\n",
    "\n",
    "plt.tight_layout(pad=3)\n",
    "\n",
    "for ax in axes:\n",
    "    ax.legend(['В рамках тарифа', 'Дозаказ услуг'], bbox_to_anchor=(0.897,0.87), prop={'size':15})\n",
    "    ax.set_ylabel('')\n",
    "    ax.title.set_size(16)\n",
    "    ax.title.set_position([0.5, 1.15])"
   ]
  },
  {
   "cell_type": "markdown",
   "metadata": {},
   "source": [
    "# Промежуточный вывод\n",
    "\n",
    "На основании графика мы можем констатировать, что при использовании тарифного плана \"Смарт\" практически в 75% случаев клиенту мобильной сети \"Мегалайн\" не хватает минут, смс или Гб заложенных в абонентскую плату. По причине чего клиент по истечению месячного тарифа, оплачивают дополнительный пакет услуг поверх абонентской платы.\n",
    "\n",
    "И наоборот, большинству (86,40%) клиентам с тарифным планом \"Ультра\" хватает минут, смс и Гб заложенных в абонентскую плату. Однако в 13,60% случаев клиент по истечению месячного тарифа, оплачивают дополнительный пакет услуг поверх абонентской платы.\n",
    ", кроме 13% - они тоже \"дозаказывают\" услуги вне поверх абонентской платы.\n",
    "\n",
    "Рассмотрим гистограмму по переплатам поверх абоненской планы (месячного тарифа) по тарифу - \"Смарт\"."
   ]
  },
  {
   "cell_type": "code",
   "execution_count": 56,
   "metadata": {},
   "outputs": [
    {
     "data": {
      "text/plain": [
       "<matplotlib.axes._subplots.AxesSubplot at 0x7f101ce494d0>"
      ]
     },
     "execution_count": 56,
     "metadata": {},
     "output_type": "execute_result"
    },
    {
     "data": {
      "image/png": "[encoded data removed]",
      "text/plain": [
       "<Figure size 432x288 with 1 Axes>"
      ]
     },
     "metadata": {
      "needs_background": "light"
     },
     "output_type": "display_data"
    }
   ],
   "source": [
    "title = 'Гистограмма переплат, тариф \"Смарт\"'\n",
    "df_filtered = df_event_numbers[(df_event_numbers['Тариф'] == 'smart') & \n",
    "                               (df_event_numbers['Плата сверх лимита, руб.'] > 0)]['Плата сверх лимита, руб.']\n",
    "df_filtered.plot(kind='hist', title=title, color='salmon', ec='black', bins=50)"
   ]
  },
  {
   "cell_type": "markdown",
   "metadata": {},
   "source": [
    "# Промежуточный вывод\n",
    "\n",
    "Большинство совершенных переплачивает достигает до 1200 рублей. При условии, что размер абонентской платы по тарифу - \"Смарт\" составляет - 550 рублей. Данная сумма переплат является большой, практически 3 раза больше.\n",
    "\n",
    "Рассмотрим поближе по тарифу - \"Смарт\"."
   ]
  },
  {
   "cell_type": "code",
   "execution_count": 57,
   "metadata": {},
   "outputs": [
    {
     "data": {
      "text/plain": [
       "<matplotlib.axes._subplots.AxesSubplot at 0x7f101cec0c90>"
      ]
     },
     "execution_count": 57,
     "metadata": {},
     "output_type": "execute_result"
    },
    {
     "data": {
      "image/png": "[encoded data removed]",
      "text/plain": [
       "<Figure size 432x288 with 1 Axes>"
      ]
     },
     "metadata": {
      "needs_background": "light"
     },
     "output_type": "display_data"
    }
   ],
   "source": [
    "title = 'Гистограмма переплат, тариф \"Смарт\"'\n",
    "df_filtered_less1000 = df_event_numbers[(df_event_numbers['Тариф'] == 'smart') & \n",
    "                                        (df_event_numbers['Плата сверх лимита, руб.'] > 0) &\n",
    "                                        (df_event_numbers['Плата сверх лимита, руб.'] < 1000)]['Плата сверх лимита, руб.']\n",
    "df_filtered_less1000.plot(kind='hist', title=title, color='salmon', ec='black', bins=50)"
   ]
  },
  {
   "cell_type": "markdown",
   "metadata": {},
   "source": [
    "# Промежуточный вывод\n",
    "\n",
    "Большинство совершенных переплачивает кратны 200 рублей. Это значит, что клиенты оплачивают дополнительный пакет, а именно дозаказывают разное количество раз 1 Гб интернета стоимостью 200 рублей (за 1 Гб).\n",
    "\n",
    "Рассмотрим гистограмму по переплатам поверх абоненской планы (месячного тарифа) по тарифу - \"Ультра\"."
   ]
  },
  {
   "cell_type": "code",
   "execution_count": 58,
   "metadata": {},
   "outputs": [
    {
     "data": {
      "text/plain": [
       "<matplotlib.axes._subplots.AxesSubplot at 0x7f101cc9c410>"
      ]
     },
     "execution_count": 58,
     "metadata": {},
     "output_type": "execute_result"
    },
    {
     "data": {
      "image/png": "[encoded data removed]",
      "text/plain": [
       "<Figure size 432x288 with 1 Axes>"
      ]
     },
     "metadata": {
      "needs_background": "light"
     },
     "output_type": "display_data"
    }
   ],
   "source": [
    "title = 'Гистограмма переплат, тариф \"Ультра\"'\n",
    "df_filtered = df_event_numbers[(df_event_numbers['Тариф'] == 'ultra') & \n",
    "                               (df_event_numbers['Плата сверх лимита, руб.'] > 0)]['Плата сверх лимита, руб.']\n",
    "df_filtered.plot(kind='hist', title=title, color='salmon', ec='black', bins=50)"
   ]
  },
  {
   "cell_type": "markdown",
   "metadata": {},
   "source": [
    "# Промежуточный вывод\n",
    "\n",
    "Большинство совершенных переплачивает достигает до 1500 рублей. При условии, что размер абонентской платы по тарифу - \"Ультра\" составляет - 1950 рублей. Данная сумма переплат является большой, практически кратна стоимости абонентской платы.\n",
    "\n",
    "Рассмотрим гистограмму по тарифу - \"Ультра\"."
   ]
  },
  {
   "cell_type": "code",
   "execution_count": 59,
   "metadata": {},
   "outputs": [
    {
     "data": {
      "text/plain": [
       "<matplotlib.axes._subplots.AxesSubplot at 0x7f101cc623d0>"
      ]
     },
     "execution_count": 59,
     "metadata": {},
     "output_type": "execute_result"
    },
    {
     "data": {
      "image/png": "[encoded data removed]",
      "text/plain": [
       "<Figure size 432x288 with 1 Axes>"
      ]
     },
     "metadata": {
      "needs_background": "light"
     },
     "output_type": "display_data"
    }
   ],
   "source": [
    "title = 'Гистограмма переплат, тариф \"Ультра\"'\n",
    "df_filtered_less1000 = df_event_numbers[(df_event_numbers['Тариф'] == 'ultra') & \n",
    "                                        (df_event_numbers['Плата сверх лимита, руб.'] > 0) &\n",
    "                                        (df_event_numbers['Плата сверх лимита, руб.'] < 1500)]['Плата сверх лимита, руб.']\n",
    "df_filtered_less1000.plot(kind='hist', title=title, color='salmon', ec='black', bins=50)"
   ]
  },
  {
   "cell_type": "markdown",
   "metadata": {},
   "source": [
    "# Промежуточный вывод\n",
    "\n",
    "Большинство совершенных переплачивает кратны 150 рублей. Это значит, что клиенты оплачивают дополнительный пакет, а именно дозаказывают разное количество раз 1 Гб интернета, стоимостью 150 рублей (за 1 Гб)."
   ]
  },
  {
   "cell_type": "markdown",
   "metadata": {},
   "source": [
    "### Сравнительный анализ суммарной выручки за год по каждому из видов тарифов."
   ]
  },
  {
   "cell_type": "code",
   "execution_count": 60,
   "metadata": {},
   "outputs": [
    {
     "data": {
      "image/png": "[encoded data removed]",
      "text/plain": [
       "<Figure size 1440x360 with 1 Axes>"
      ]
     },
     "metadata": {},
     "output_type": "display_data"
    }
   ],
   "source": [
    "all_revenue = df_event_numbers['Сумма за месяц, руб.'].sum()\n",
    "\n",
    "\n",
    "def func_pct(pct):\n",
    "    value = float(pct/100.*all_revenue)\n",
    "    return \"{:.2f}%\\n({:,.0f} руб.)\".format(pct, value)\n",
    "\n",
    "explode = (0.05, 0)  # сектор 'ultra' немного выдвинем\n",
    "\n",
    "axes = df_event_numbers.groupby('Тариф')['Сумма за месяц, руб.'].sum().plot(kind='pie', subplots=True, fontsize=15,\n",
    "                                                                     use_index=False, shadow=True, explode=explode,\n",
    "                                                                     title = 'Выручка', pctdistance=0.45,\n",
    "                                                                     startangle=20, figsize=(20,5),\n",
    "                                                                     autopct=lambda pct: func_pct(pct))\n",
    "\n",
    "for ax in axes:\n",
    "    ax.legend(['Смарт', 'Ультра'], bbox_to_anchor=(0.87,0.87), framealpha=0.2, prop={'size':12})\n",
    "    ax.set_ylabel('')"
   ]
  },
  {
   "cell_type": "markdown",
   "metadata": {},
   "source": [
    "# Промежуточный вывод\n",
    "\n",
    "На основании данного графика мы можем констарировать, что 58,58% клиентов при использовании тарифа - \"Smart\" приносят 2 885 751 рублей выручки, что на 845 751 рублей больше, чем по тарифу - \"Ультра.\"\n",
    "\n",
    "Большинство людей пользуются тарифным планом \"Смарт\". Тенденция использования клиентами тарифа - \"Smart\" сохраняется и при израсходованных минут, отправленных смс по тарифу и объем израсходованных Мб интернет-трафика. Как следствие, большую часть выручки приносит тарифный план \"Смарт\", которая составляет 2 885 751 рублей, при условии, что абоненская плана по тарифному плану \"Ультра\" равна 1950 рублей, что больше в 3 раза, чем ежемесячная плата по тарифному плану \"Смарт\" (равна 550 рублей)."
   ]
  },
  {
   "cell_type": "markdown",
   "metadata": {},
   "source": [
    "## Описание поведения клиента на основе полученной выборки.\n",
    "\n",
    "### Представление информации о выбросах по каждому из набора данных.\n",
    "\n",
    "Сначала построим boxplot по всем рассматриваемым данным:\n",
    "\n",
    "- длительность звонка,;\n",
    "- количество отправленных СМС;\n",
    "- объем использованного интернет-трафика,\n",
    "\n",
    "чтобы зафиксировать выбросы и отфильтровать их при дальнейшем анализе. Для начала зададим нижнее и верхнее значения усов через 2 и 98 квантили и построим один boxplot, потом построим boxplot со стандартным межквартильным размахом, равным 1,5.\n",
    "\n",
    "Напишем функцию."
   ]
  },
  {
   "cell_type": "code",
   "execution_count": 61,
   "metadata": {},
   "outputs": [],
   "source": [
    "def plot_box(whis):\n",
    "    column_list = ['Звонки, мин.', 'СМС, шт.', 'Интернет, Мб']\n",
    "    rows = 1\n",
    "    cols = 3\n",
    "    column_list_counter = 0\n",
    "\n",
    "    fig, axes = plt.subplots(rows, cols, figsize=(40,15))\n",
    "\n",
    "    for r in range(rows):\n",
    "        for c in range(cols):\n",
    "            ax = df_event_numbers.boxplot(column=column_list[column_list_counter], by='Тариф', fontsize=40, ax=axes[c],\n",
    "                                         boxprops=dict(linestyle='-', linewidth=5),\n",
    "                                         medianprops=dict(linestyle='-', linewidth=5),\n",
    "                                         whiskerprops=dict(linestyle='-', linewidth=5),\n",
    "                                         capprops=dict(linestyle='-', linewidth=5),\n",
    "                                         notch=True, whis=whis)\n",
    "            ax.set_title(column_list[column_list_counter])\n",
    "            ax.title.set_size(40)\n",
    "            ax.set_xlabel('')\n",
    "            plt.suptitle('Boxplot с whis = {}'.format(whis), y=1, fontsize=45, fontweight='bold')\n",
    "            column_list_counter += 1"
   ]
  },
  {
   "cell_type": "code",
   "execution_count": 62,
   "metadata": {
    "scrolled": false
   },
   "outputs": [
    {
     "name": "stderr",
     "output_type": "stream",
     "text": [
      "/opt/conda/lib/python3.7/site-packages/numpy/core/_asarray.py:83: VisibleDeprecationWarning: Creating an ndarray from ragged nested sequences (which is a list-or-tuple of lists-or-tuples-or ndarrays with different lengths or shapes) is deprecated. If you meant to do this, you must specify 'dtype=object' when creating the ndarray\n",
      "  return array(a, dtype, copy=False, order=order)\n",
      "/opt/conda/lib/python3.7/site-packages/numpy/core/_asarray.py:83: VisibleDeprecationWarning: Creating an ndarray from ragged nested sequences (which is a list-or-tuple of lists-or-tuples-or ndarrays with different lengths or shapes) is deprecated. If you meant to do this, you must specify 'dtype=object' when creating the ndarray\n",
      "  return array(a, dtype, copy=False, order=order)\n",
      "/opt/conda/lib/python3.7/site-packages/numpy/core/_asarray.py:83: VisibleDeprecationWarning: Creating an ndarray from ragged nested sequences (which is a list-or-tuple of lists-or-tuples-or ndarrays with different lengths or shapes) is deprecated. If you meant to do this, you must specify 'dtype=object' when creating the ndarray\n",
      "  return array(a, dtype, copy=False, order=order)\n"
     ]
    },
    {
     "data": {
      "image/png": "[encoded data removed]",
      "text/plain": [
       "<Figure size 2880x1080 with 3 Axes>"
      ]
     },
     "metadata": {
      "needs_background": "light"
     },
     "output_type": "display_data"
    }
   ],
   "source": [
    "plot_box([2,98])"
   ]
  },
  {
   "cell_type": "code",
   "execution_count": 63,
   "metadata": {
    "scrolled": false
   },
   "outputs": [
    {
     "name": "stderr",
     "output_type": "stream",
     "text": [
      "/opt/conda/lib/python3.7/site-packages/numpy/core/_asarray.py:83: VisibleDeprecationWarning: Creating an ndarray from ragged nested sequences (which is a list-or-tuple of lists-or-tuples-or ndarrays with different lengths or shapes) is deprecated. If you meant to do this, you must specify 'dtype=object' when creating the ndarray\n",
      "  return array(a, dtype, copy=False, order=order)\n",
      "/opt/conda/lib/python3.7/site-packages/numpy/core/_asarray.py:83: VisibleDeprecationWarning: Creating an ndarray from ragged nested sequences (which is a list-or-tuple of lists-or-tuples-or ndarrays with different lengths or shapes) is deprecated. If you meant to do this, you must specify 'dtype=object' when creating the ndarray\n",
      "  return array(a, dtype, copy=False, order=order)\n",
      "/opt/conda/lib/python3.7/site-packages/numpy/core/_asarray.py:83: VisibleDeprecationWarning: Creating an ndarray from ragged nested sequences (which is a list-or-tuple of lists-or-tuples-or ndarrays with different lengths or shapes) is deprecated. If you meant to do this, you must specify 'dtype=object' when creating the ndarray\n",
      "  return array(a, dtype, copy=False, order=order)\n"
     ]
    },
    {
     "data": {
      "image/png": "[encoded data removed]",
      "text/plain": [
       "<Figure size 2880x1080 with 3 Axes>"
      ]
     },
     "metadata": {
      "needs_background": "light"
     },
     "output_type": "display_data"
    }
   ],
   "source": [
    "plot_box(1.5)"
   ]
  },
  {
   "cell_type": "markdown",
   "metadata": {},
   "source": [
    "# Промежуточный вывод\n",
    "\n",
    "При параметре whis = 1,5 аномалий отбрасывается меньше, другими словами, мы бережней фильтруем данные, чем при whis = 2,98.\n",
    "В связи с этим, определим интервалы данных по boxplot с whis = 1,5.\n",
    "\n",
    "\n",
    "### Определение интервалов данных для последующей их фильтрации.\n",
    "\n",
    "Для этого напишем функцию, которая рассчитает данные интервалы."
   ]
  },
  {
   "cell_type": "code",
   "execution_count": 64,
   "metadata": {},
   "outputs": [],
   "source": [
    "def get_intervals(column, data_filter):\n",
    "    \n",
    "    if data_filter == 'Тариф':\n",
    "        format_name = column\n",
    "        data1, data2 = 'smart', 'ultra'\n",
    "        format_end1 = 'тарифа \"Смарт\"'\n",
    "        format_end2 = 'тарифа \"Ультра\"'\n",
    "    elif data_filter == 'is_Moscow':\n",
    "        format_name = 'is_Moscow'\n",
    "        data1, data2 = 0, 1\n",
    "        format_end1 = 'для регионов'\n",
    "        format_end2 = 'для Москвы'\n",
    "    \n",
    "    q1_1 = df_event_numbers[df_event_numbers[data_filter] == data1][column].quantile(0.25)\n",
    "    q3_1 = df_event_numbers[df_event_numbers[data_filter] == data1][column].quantile(0.75)\n",
    "    diff_1 = q3_1 - q1_1\n",
    "    \n",
    "    if data_filter == 'is_Moscow':\n",
    "        left_int_1 = np.where( (q1_1 - 1.5 * diff_1) > 550, q1_1 - 1.5 * diff_1, 550)\n",
    "    else:\n",
    "        left_int_1 = np.where( (q1_1 - 1.5 * diff_1) > 0, q1_1 - 1.5 * diff_1, 0)\n",
    "    \n",
    "    right_int_1 = np.where( (q3_1 + 1.5 * diff_1) > 0, q3_1 + 1.5 * diff_1, 0)\n",
    "    \n",
    "    q1_2 = df_event_numbers[df_event_numbers[data_filter] == data2][column].quantile(0.25)\n",
    "    q3_2 = df_event_numbers[df_event_numbers[data_filter] == data2][column].quantile(0.75)\n",
    "    diff_2 = q3_2 - q1_2\n",
    "    \n",
    "    if data_filter == 'is_Moscow':\n",
    "        left_int_2 = np.where( (q1_2 - 1.5 * diff_2) > 550, q1_2 - 1.5 * diff_2, 550)\n",
    "    else:\n",
    "        left_int_2 = np.where( (q1_2 - 1.5 * diff_2) > 0, q1_2 - 1.5 * diff_2, 0)\n",
    "        \n",
    "    right_int_2 = np.where( (q3_2 + 1.5 * diff_2) > 0, q3_2 + 1.5 * diff_2, 0)\n",
    "    \n",
    "    print('Границы интервала для столбца \"{}\" {}: {} - {}'.format(column, format_end1, left_int_1, right_int_1))\n",
    "    print('Границы интервала для столбца \"{}\" {}: {} - {}'.format(column, format_end2, left_int_2, right_int_2))\n",
    "    \n",
    "    return (left_int_1, right_int_1), (left_int_2, right_int_2)"
   ]
  },
  {
   "cell_type": "markdown",
   "metadata": {},
   "source": [
    "Найдем границы интервала по длительности звонков, по количеству отправленных СМС, по количеству использованного трафика."
   ]
  },
  {
   "cell_type": "code",
   "execution_count": 65,
   "metadata": {},
   "outputs": [
    {
     "name": "stdout",
     "output_type": "stream",
     "text": [
      "Границы интервала для столбца \"Звонки, мин.\" тарифа \"Смарт\": 0.0 - 939.5\n",
      "Границы интервала для столбца \"Звонки, мин.\" тарифа \"Ультра\": 0.0 - 1454.0\n",
      "Границы интервала для столбца \"СМС, шт.\" тарифа \"Смарт\": 0.0 - 112.5\n",
      "Границы интервала для столбца \"СМС, шт.\" тарифа \"Ультра\": 0.0 - 188.5\n",
      "Границы интервала для столбца \"Интернет, Мб\" тарифа \"Смарт\": 1543.0 - 31183.0\n",
      "Границы интервала для столбца \"Интернет, Мб\" тарифа \"Ультра\": 0.0 - 49480.0\n"
     ]
    }
   ],
   "source": [
    "calls_int_smart, calls_int_ultra = get_intervals('Звонки, мин.', 'Тариф')\n",
    "sms_int_smart, sms_int_ultra = get_intervals('СМС, шт.', 'Тариф')\n",
    "internet_int_smart, internet_int_ultra = get_intervals('Интернет, Мб', 'Тариф')"
   ]
  },
  {
   "cell_type": "markdown",
   "metadata": {},
   "source": [
    "### Построим гистограммы по тарифам по длительности звонков, по количеству отправленных смс, по количеству потраченного интернет-трафика. \n",
    "\n",
    "В тоже время представим расчетные данные по среднему значению, дисперсии и стандартному отклонению.\n",
    "\n",
    "Напишем функцию."
   ]
  },
  {
   "cell_type": "code",
   "execution_count": 66,
   "metadata": {},
   "outputs": [],
   "source": [
    "def plot_hist_comparison(data):\n",
    "    \n",
    "    ax = plt.gca()\n",
    "    func_dict = {'Звонки': 'Звонки, мин.', 'СМС': 'СМС, шт.', 'Интернет': 'Интернет, Мб'}\n",
    "    xlims = [(calls_int_smart[0], calls_int_smart[1]), (calls_int_ultra[0], calls_int_ultra[1]),\n",
    "             (sms_int_smart[0], sms_int_smart[1]), (sms_int_ultra[0], sms_int_ultra[1]),\n",
    "             (internet_int_smart[0], internet_int_smart[1]), (internet_int_ultra[0], internet_int_ultra[1])]\n",
    "    \n",
    "    filt_column = func_dict[data]\n",
    "\n",
    "    # оформление в зависимости от рассматриваемых данных\n",
    "    if data == 'Звонки':\n",
    "        title = 'Гистограмма длительности звонков, мин.'\n",
    "        xlim1 = xlims[0]\n",
    "        xlim2 = xlims[1]\n",
    "        text_x = (58, 8)\n",
    "        text_y = 118\n",
    "        count_text_x = 1150\n",
    "        count_text_y = 75\n",
    "        alpha = 0.8\n",
    "        # annot_xy = (990, 60)\n",
    "        # annot_xytext = (970, 70)\n",
    "    elif data == 'СМС':\n",
    "        title = 'Гистограмма количества отправленных СМС, шт.'\n",
    "        xlim1 = xlims[2]\n",
    "        xlim2 = xlims[3]\n",
    "        text_x = (5.5, 1)\n",
    "        text_y = 200\n",
    "        count_text_x = 148\n",
    "        count_text_y = 230\n",
    "        alpha = 1\n",
    "        # annot_xy = (133, 220)\n",
    "        # annot_xytext = (130, 260)\n",
    "    else:\n",
    "        title = 'Гистограмма количества использованного интернет-трафика, Мб'\n",
    "        xlim1 = xlims[4]\n",
    "        xlim2 = xlims[5]\n",
    "        text_x = (3300, 200)\n",
    "        text_y = 130\n",
    "        count_text_x = 38000\n",
    "        count_text_y = 82\n",
    "        alpha = 0.8\n",
    "        # annot_xy = (31100, 73)\n",
    "        # annot_xytext = (30400, 86)\n",
    "    \n",
    "    # получаем отфильтрованные от выбросов датафреймы\n",
    "    filtered_smart_data = df_event_numbers[(df_event_numbers['Тариф'] == 'smart') &\n",
    "                                           (df_event_numbers[filt_column] >= xlim1[0]) &\n",
    "                                           (df_event_numbers[filt_column] <= xlim1[1])][filt_column]\n",
    "    filtered_ultra_data = df_event_numbers[(df_event_numbers['Тариф'] == 'ultra') &\n",
    "                                           (df_event_numbers[filt_column] >= xlim2[0]) &\n",
    "                                           (df_event_numbers[filt_column] <= xlim2[1])][filt_column]\n",
    "    # рисуем\n",
    "    filtered_smart_data.plot(kind='hist', bins=40, figsize=(12,6), ec='black', ax=ax, color='#92c6ff', \n",
    "                             title=title, xlim=xlim1)\n",
    "    filtered_ultra_data.plot(kind='hist', bins=70, figsize=(12,6), ec='black', ax=ax, color='#97F0AA', \n",
    "                             title=title, xlim=xlim2, alpha=alpha)\n",
    "    \n",
    "    # расчетные данные\n",
    "    mean_smart = filtered_smart_data.mean()\n",
    "    mean_ultra = filtered_ultra_data.mean()\n",
    "    dispersion_smart = filtered_smart_data.var()\n",
    "    dispersion_ultra = filtered_ultra_data.var()\n",
    "    std_smart = filtered_smart_data.std()\n",
    "    std_ultra = filtered_ultra_data.std()\n",
    "    \n",
    "    if data == 'СМС':\n",
    "        smart_data = 'Среднее - {:.2f}\\nДисперсия - {:.2f}\\nstd - {:.2f}'.format(mean_smart, dispersion_smart, std_smart)\n",
    "        ultra_data = 'Среднее - {:.2f}\\nДисперсия - {:.2f}\\nstd - {:.2f}'.format(mean_ultra, dispersion_ultra, std_ultra)\n",
    "    else:\n",
    "        smart_data = 'Среднее - {:.0f}\\nДисперсия - {:.0f}\\nstd - {:.0f}'.format(mean_smart, dispersion_smart, std_smart)\n",
    "        ultra_data = 'Среднее - {:.0f}\\nДисперсия - {:.0f}\\nstd - {:.0f}'.format(mean_ultra, dispersion_ultra, std_ultra)\n",
    "    \n",
    "    legend_second = plt.legend([smart_data, ultra_data], prop={'size':10.5}, \n",
    "                                framealpha=0, bbox_to_anchor=(1.0,0.32), loc=4)\n",
    "    \n",
    "    \n",
    "    plt.gca().add_artist(legend_second)\n",
    "    \n",
    "    # рисуем медианы\n",
    "    plt.axvline(x=filtered_smart_data.median(),linewidth=3, color='#16B4DC', linestyle='--')\n",
    "    ax.text(filtered_smart_data.median()-text_x[0], text_y, '{0:.0f}'.format(filtered_smart_data.median()), \n",
    "            fontweight='bold', fontsize='large')\n",
    "    plt.axvline(x=filtered_ultra_data.median(),linewidth=3, color='#35B815', linestyle='--')\n",
    "    ax.text(filtered_ultra_data.median()+text_x[1], text_y, '{0:.0f}'.format(filtered_ultra_data.median()), \n",
    "            fontweight='bold', fontsize='large')\n",
    "    \n",
    "    plt.legend(['Медиана Смарт', 'Медиана Ультра', 'Смарт', 'Ультра'], prop={'size':12})\n",
    "    ax.text(count_text_x, count_text_y, 'Расчетные данные', fontweight='bold', fontsize='large')"
   ]
  },
  {
   "cell_type": "markdown",
   "metadata": {},
   "source": [
    "Гистограмма длительности звонков."
   ]
  },
  {
   "cell_type": "code",
   "execution_count": 67,
   "metadata": {},
   "outputs": [
    {
     "data": {
      "image/png": "[encoded data removed]",
      "text/plain": [
       "<Figure size 864x432 with 1 Axes>"
      ]
     },
     "metadata": {
      "needs_background": "light"
     },
     "output_type": "display_data"
    }
   ],
   "source": [
    "plot_hist_comparison('Звонки')"
   ]
  },
  {
   "cell_type": "markdown",
   "metadata": {},
   "source": [
    "# Промежуточный вывод\n",
    "\n",
    "Подводя промежуточные итоги, мы можем сказать, что по тарифному плану \"Смарт\" клиенты расходуют 250-550 минут в течении месяца. Среднее знаение - 415 минут. Медиана равна 421 минут, при условии, что в тариф включено 500 минут разговора. Можно заключить, что пользователи используют почти полный лимит по минутам.\n",
    "\n",
    "По тарифному плану \"Ультра\" иная ситуация. Большая часть пользователей не используют в полной мере включенные 3000 минут разговора. Среднее значение составляет 524 минут. Медиана равна 518 минут.\n",
    "\n",
    "В сравнии тарифного плана \"Смарта\" с \"Ультра\" медианное значение по \"Ультра\" больше на 97 минуты, среднее значение по \"Ультра\" больше на 109 минут."
   ]
  },
  {
   "cell_type": "markdown",
   "metadata": {},
   "source": [
    "Гистограмма количества отправленных СМС."
   ]
  },
  {
   "cell_type": "code",
   "execution_count": 68,
   "metadata": {},
   "outputs": [
    {
     "data": {
      "image/png": "[encoded data removed]",
      "text/plain": [
       "<Figure size 864x432 with 1 Axes>"
      ]
     },
     "metadata": {
      "needs_background": "light"
     },
     "output_type": "display_data"
    }
   ],
   "source": [
    "plot_hist_comparison('СМС')"
   ]
  },
  {
   "cell_type": "markdown",
   "metadata": {},
   "source": [
    "# Промежуточный вывод\n",
    "\n",
    "Подводя промежуточные итоги, мы можем сказать, что по тарифному плану \"Смарт\", что по тарифному плану \"Ультра\" ситуация схожа. Большинство клиентов толком не отправляют сообщения.\n",
    "\n",
    "По тарифному плану \"Смарт\":\n",
    "\n",
    "- медиана равна 28 смс;\n",
    "- среднее значение 32,78 смс.\n",
    "\n",
    "По тарифному плану \"Ультра\":\n",
    "\n",
    "- медиана равна 38 смс;\n",
    "- среднее значение 48,10 смс.\n",
    "\n",
    "Однако, можно отметить, что сохраняется тенденция - более активная деятельность по тарифному плану \"Ультра\"."
   ]
  },
  {
   "cell_type": "markdown",
   "metadata": {},
   "source": [
    "Гистограмма использованного интернет-трафику."
   ]
  },
  {
   "cell_type": "code",
   "execution_count": 69,
   "metadata": {},
   "outputs": [
    {
     "data": {
      "image/png": "[encoded data removed]",
      "text/plain": [
       "<Figure size 864x432 with 1 Axes>"
      ]
     },
     "metadata": {
      "needs_background": "light"
     },
     "output_type": "display_data"
    }
   ],
   "source": [
    "plot_hist_comparison('Интернет')"
   ]
  },
  {
   "cell_type": "markdown",
   "metadata": {},
   "source": [
    "# Промежуточный вывод\n",
    "\n",
    "В трифный план \"Смарт\" включено 15 Гб интернет-трафика. Клиенты в среднем используют от 14 до 20 Гб интернет-трафика. Медианное значение выходит за пределы трафного плана. Фактически, пользователи данного тарифа регулярно пользуются услугой покупкой дополнительного пакета интернет-трафика, когда основной пакет заканчивается.\n",
    "\n",
    "По тарифному плану \"Смарт\":\n",
    "\n",
    "- медиана равна 16,5 Гб;\n",
    "- среднее значение 16,2 Гб.\n",
    "\n",
    "В трифный план \"Ультра\" включено 30 Гб интернет-трафика. Медианное значение входит в пределы трафного плана. У пользователей по данному тарифу имеется запас по использованию объема интернет-трафика.\n",
    "\n",
    "По тарифному плану \"Ультра\":\n",
    "\n",
    "- медиана равна 19,3 Гб;\n",
    "- среднее значение 19,4 Гб."
   ]
  },
  {
   "cell_type": "markdown",
   "metadata": {},
   "source": [
    "## Проверка гипотез\n",
    "\n",
    "- H0 (нулевая гипотеза). Заключается в предположение - между данными не имется взаимосвязи. В данном случае, что средняя выручка пользователей по тарифному плану \"Смарт\" не отличается от средней выручки пользователей по тарифному плау \"Ультра\".\n",
    "- H1 (альтернативная гипотеза). Заключается в мысли, что средняя выручка пользователей по тарифному плану \"Смарт\" отличается от средней выручки пользователей по тарифному плану \"Ультру\".\n",
    "\n",
    "Сформируем выборку без аномалий.\n",
    "\n",
    "Напишем функцию и представим ввиде графика для наглядности."
   ]
  },
  {
   "cell_type": "code",
   "execution_count": 70,
   "metadata": {
    "scrolled": false
   },
   "outputs": [
    {
     "name": "stderr",
     "output_type": "stream",
     "text": [
      "/opt/conda/lib/python3.7/site-packages/numpy/core/_asarray.py:83: VisibleDeprecationWarning: Creating an ndarray from ragged nested sequences (which is a list-or-tuple of lists-or-tuples-or ndarrays with different lengths or shapes) is deprecated. If you meant to do this, you must specify 'dtype=object' when creating the ndarray\n",
      "  return array(a, dtype, copy=False, order=order)\n"
     ]
    },
    {
     "data": {
      "text/plain": [
       "Text(0.5, 0.93, 'Boxplot по выручке с whis = 1,5')"
      ]
     },
     "execution_count": 70,
     "metadata": {},
     "output_type": "execute_result"
    },
    {
     "data": {
      "image/png": "[encoded data removed]",
      "text/plain": [
       "<Figure size 576x504 with 1 Axes>"
      ]
     },
     "metadata": {
      "needs_background": "light"
     },
     "output_type": "display_data"
    }
   ],
   "source": [
    "ax = df_event_numbers.boxplot(column='Сумма за месяц, руб.', by='Тариф', fontsize=12,\n",
    "                                         boxprops=dict(linestyle='-', linewidth=5),\n",
    "                                         medianprops=dict(linestyle='-', linewidth=5),\n",
    "                                         whiskerprops=dict(linestyle='-', linewidth=5),\n",
    "                                         capprops=dict(linestyle='-', linewidth=5),\n",
    "                                         notch=True, figsize=(8,7))\n",
    "ax.set_title('')\n",
    "ax.title.set_size(40)\n",
    "ax.set_xlabel('')\n",
    "plt.suptitle('Boxplot по выручке с whis = 1,5', y=0.93, fontsize=16, fontweight='bold')"
   ]
  },
  {
   "cell_type": "markdown",
   "metadata": {},
   "source": [
    "Посчитаем границы интервалов."
   ]
  },
  {
   "cell_type": "code",
   "execution_count": 71,
   "metadata": {},
   "outputs": [
    {
     "name": "stdout",
     "output_type": "stream",
     "text": [
      "Границы интервала для столбца \"Сумма за месяц, руб.\" тарифа \"Смарт\": 0.0 - 3550.0\n",
      "Границы интервала для столбца \"Сумма за месяц, руб.\" тарифа \"Ультра\": 1950.0 - 1950.0\n"
     ]
    }
   ],
   "source": [
    "revenue_int_smart, revenue_int_ultra = get_intervals('Сумма за месяц, руб.', 'Тариф')"
   ]
  },
  {
   "cell_type": "markdown",
   "metadata": {},
   "source": [
    "Напишем функцию для получения данных, а именно - средней выручки по видам тарифных планов: \"Смарт\", \"Ультра\"."
   ]
  },
  {
   "cell_type": "code",
   "execution_count": 72,
   "metadata": {},
   "outputs": [],
   "source": [
    "smart_mean_revenue = df_event_numbers[(df_event_numbers['Тариф'] == 'smart') &\n",
    "                                      (df_event_numbers['Сумма за месяц, руб.'] >= revenue_int_smart[0]) &\n",
    "                                      (df_event_numbers['Сумма за месяц, руб.'] <= revenue_int_smart[1])]['Сумма за месяц, руб.']\n",
    "\n",
    "ultra_mean_revenue = df_event_numbers[(df_event_numbers['Тариф'] == 'ultra') &\n",
    "                                      (df_event_numbers['Сумма за месяц, руб.'] >= revenue_int_ultra[0]) &\n",
    "                                      (df_event_numbers['Сумма за месяц, руб.'] <= revenue_int_ultra[1])]['Сумма за месяц, руб.']"
   ]
  },
  {
   "cell_type": "markdown",
   "metadata": {},
   "source": [
    "### Расчет p-value.\n",
    "\n",
    "Выборки у нас независимые. В связи с чем воспользуемся функцией ttest_ind из модуля scipy.stats."
   ]
  },
  {
   "cell_type": "code",
   "execution_count": 73,
   "metadata": {},
   "outputs": [],
   "source": [
    "from scipy.stats import ttest_ind"
   ]
  },
  {
   "cell_type": "code",
   "execution_count": 74,
   "metadata": {},
   "outputs": [
    {
     "name": "stdout",
     "output_type": "stream",
     "text": [
      "t = -27.932596508963062\n",
      "p-value = 4.6244593529e-153\n",
      "\n",
      "Пороговое значение alpha = 0.05\n"
     ]
    }
   ],
   "source": [
    "stat, p = ttest_ind(smart_mean_revenue, ultra_mean_revenue)\n",
    "print('t = {}\\np-value = {:.10e}'.format(stat, p))\n",
    "print('\\nПороговое значение alpha = 0.05')"
   ]
  },
  {
   "cell_type": "markdown",
   "metadata": {},
   "source": [
    "Представим это наглядно."
   ]
  },
  {
   "cell_type": "code",
   "execution_count": 75,
   "metadata": {},
   "outputs": [
    {
     "name": "stdout",
     "output_type": "stream",
     "text": [
      "Средняя выручка по пользователям тарифа \"Смарт\" - 1249.74\n",
      "Средняя выручка по пользователям тарифа \"Ультра\" - 1950.0\n"
     ]
    }
   ],
   "source": [
    "print('Средняя выручка по пользователям тарифа \"Смарт\" - {:.2f}'.format(smart_mean_revenue.mean()))\n",
    "print('Средняя выручка по пользователям тарифа \"Ультра\" - {}'.format(ultra_mean_revenue.mean()))"
   ]
  },
  {
   "cell_type": "markdown",
   "metadata": {},
   "source": [
    "# Промежуточный вывод\n",
    "\n",
    "Из вышесказанного следует, что пользователи использующие тарифный план \"Ультра\" по среднему значению приносит компании \"Мегалайн\" наиболее большее значение выручки. Абонентская плата по тарифному плану \"Ультра\" (1950 рублей) превышает в 3,5 раза выше, чем стоимость по тарифному плану \"Смарт\" (550 рублей).\n",
    "Клиенты использующие тарифный план \"Смарт\" в 75% случаев используют дополнительный пакет услуг, но данные расходы клиентов не сравнимы с расходами клиентов с тарифным планом \"Ультра\". "
   ]
  },
  {
   "cell_type": "markdown",
   "metadata": {},
   "source": [
    "### Гипотеза - средняя выручка пользователей из Москвы отличается от выручки пользователей из других регионов.\n",
    "\n",
    "Формирование выборок без аномалий:\n",
    "Выберем нужные нам данные - среднюю месячную выручку по Москве и по остальным регионам:\n",
    "\n",
    "Проставим признак по каждой строке - Москва или регион:"
   ]
  },
  {
   "cell_type": "code",
   "execution_count": 76,
   "metadata": {},
   "outputs": [
    {
     "data": {
      "text/html": [
       "<div>\n",
       "<style scoped>\n",
       "    .dataframe tbody tr th:only-of-type {\n",
       "        vertical-align: middle;\n",
       "    }\n",
       "\n",
       "    .dataframe tbody tr th {\n",
       "        vertical-align: top;\n",
       "    }\n",
       "\n",
       "    .dataframe thead th {\n",
       "        text-align: right;\n",
       "    }\n",
       "</style>\n",
       "<table border=\"1\" class=\"dataframe\">\n",
       "  <thead>\n",
       "    <tr style=\"text-align: right;\">\n",
       "      <th></th>\n",
       "      <th>User_id</th>\n",
       "      <th>Время года</th>\n",
       "      <th>Месяц</th>\n",
       "      <th>Кол-во звонков, шт.</th>\n",
       "      <th>Звонки, мин.</th>\n",
       "      <th>СМС, шт.</th>\n",
       "      <th>Интернет, Мб</th>\n",
       "      <th>Тариф</th>\n",
       "      <th>Город</th>\n",
       "      <th>Аб. плата, руб.</th>\n",
       "      <th>Минуты сверх</th>\n",
       "      <th>СМС сверх</th>\n",
       "      <th>Мб сверх</th>\n",
       "      <th>Плата сверх лимита, руб.</th>\n",
       "      <th>Сумма за месяц, руб.</th>\n",
       "      <th>Не хватило тарифного плана</th>\n",
       "      <th>is_Moscow</th>\n",
       "    </tr>\n",
       "  </thead>\n",
       "  <tbody>\n",
       "    <tr>\n",
       "      <td>0</td>\n",
       "      <td>1000</td>\n",
       "      <td>весна</td>\n",
       "      <td>5</td>\n",
       "      <td>17.0</td>\n",
       "      <td>159.0</td>\n",
       "      <td>22.0</td>\n",
       "      <td>2256.0</td>\n",
       "      <td>ultra</td>\n",
       "      <td>Краснодар</td>\n",
       "      <td>1950</td>\n",
       "      <td>0.0</td>\n",
       "      <td>0</td>\n",
       "      <td>0.0</td>\n",
       "      <td>0</td>\n",
       "      <td>1950</td>\n",
       "      <td>0</td>\n",
       "      <td>0</td>\n",
       "    </tr>\n",
       "    <tr>\n",
       "      <td>1</td>\n",
       "      <td>1000</td>\n",
       "      <td>зима</td>\n",
       "      <td>12</td>\n",
       "      <td>38.0</td>\n",
       "      <td>333.0</td>\n",
       "      <td>70.0</td>\n",
       "      <td>9827.0</td>\n",
       "      <td>ultra</td>\n",
       "      <td>Краснодар</td>\n",
       "      <td>1950</td>\n",
       "      <td>0.0</td>\n",
       "      <td>0</td>\n",
       "      <td>0.0</td>\n",
       "      <td>0</td>\n",
       "      <td>1950</td>\n",
       "      <td>0</td>\n",
       "      <td>0</td>\n",
       "    </tr>\n",
       "    <tr>\n",
       "      <td>2</td>\n",
       "      <td>1000</td>\n",
       "      <td>лето</td>\n",
       "      <td>6</td>\n",
       "      <td>28.0</td>\n",
       "      <td>172.0</td>\n",
       "      <td>60.0</td>\n",
       "      <td>23257.0</td>\n",
       "      <td>ultra</td>\n",
       "      <td>Краснодар</td>\n",
       "      <td>1950</td>\n",
       "      <td>0.0</td>\n",
       "      <td>0</td>\n",
       "      <td>0.0</td>\n",
       "      <td>0</td>\n",
       "      <td>1950</td>\n",
       "      <td>0</td>\n",
       "      <td>0</td>\n",
       "    </tr>\n",
       "    <tr>\n",
       "      <td>3</td>\n",
       "      <td>1000</td>\n",
       "      <td>лето</td>\n",
       "      <td>7</td>\n",
       "      <td>41.0</td>\n",
       "      <td>340.0</td>\n",
       "      <td>75.0</td>\n",
       "      <td>14016.0</td>\n",
       "      <td>ultra</td>\n",
       "      <td>Краснодар</td>\n",
       "      <td>1950</td>\n",
       "      <td>0.0</td>\n",
       "      <td>0</td>\n",
       "      <td>0.0</td>\n",
       "      <td>0</td>\n",
       "      <td>1950</td>\n",
       "      <td>0</td>\n",
       "      <td>0</td>\n",
       "    </tr>\n",
       "    <tr>\n",
       "      <td>4</td>\n",
       "      <td>1000</td>\n",
       "      <td>лето</td>\n",
       "      <td>8</td>\n",
       "      <td>42.0</td>\n",
       "      <td>408.0</td>\n",
       "      <td>81.0</td>\n",
       "      <td>14070.0</td>\n",
       "      <td>ultra</td>\n",
       "      <td>Краснодар</td>\n",
       "      <td>1950</td>\n",
       "      <td>0.0</td>\n",
       "      <td>0</td>\n",
       "      <td>0.0</td>\n",
       "      <td>0</td>\n",
       "      <td>1950</td>\n",
       "      <td>0</td>\n",
       "      <td>0</td>\n",
       "    </tr>\n",
       "  </tbody>\n",
       "</table>\n",
       "</div>"
      ],
      "text/plain": [
       "   User_id Время года  Месяц  Кол-во звонков, шт.  Звонки, мин.  СМС, шт.  \\\n",
       "0     1000      весна      5                 17.0         159.0      22.0   \n",
       "1     1000       зима     12                 38.0         333.0      70.0   \n",
       "2     1000       лето      6                 28.0         172.0      60.0   \n",
       "3     1000       лето      7                 41.0         340.0      75.0   \n",
       "4     1000       лето      8                 42.0         408.0      81.0   \n",
       "\n",
       "   Интернет, Мб  Тариф      Город  Аб. плата, руб.  Минуты сверх  СМС сверх  \\\n",
       "0        2256.0  ultra  Краснодар             1950           0.0          0   \n",
       "1        9827.0  ultra  Краснодар             1950           0.0          0   \n",
       "2       23257.0  ultra  Краснодар             1950           0.0          0   \n",
       "3       14016.0  ultra  Краснодар             1950           0.0          0   \n",
       "4       14070.0  ultra  Краснодар             1950           0.0          0   \n",
       "\n",
       "   Мб сверх  Плата сверх лимита, руб.  Сумма за месяц, руб.  \\\n",
       "0       0.0                         0                  1950   \n",
       "1       0.0                         0                  1950   \n",
       "2       0.0                         0                  1950   \n",
       "3       0.0                         0                  1950   \n",
       "4       0.0                         0                  1950   \n",
       "\n",
       "   Не хватило тарифного плана  is_Moscow  \n",
       "0                           0          0  \n",
       "1                           0          0  \n",
       "2                           0          0  \n",
       "3                           0          0  \n",
       "4                           0          0  "
      ]
     },
     "execution_count": 76,
     "metadata": {},
     "output_type": "execute_result"
    }
   ],
   "source": [
    "df_event_numbers['is_Moscow'] = np.where(df_event_numbers['Город'] == 'Москва', 1, 0)\n",
    "df_event_numbers.head()"
   ]
  },
  {
   "cell_type": "markdown",
   "metadata": {},
   "source": [
    "Построим boxplot'ы для вычисления выбросов."
   ]
  },
  {
   "cell_type": "code",
   "execution_count": 77,
   "metadata": {},
   "outputs": [
    {
     "name": "stderr",
     "output_type": "stream",
     "text": [
      "/opt/conda/lib/python3.7/site-packages/numpy/core/_asarray.py:83: VisibleDeprecationWarning: Creating an ndarray from ragged nested sequences (which is a list-or-tuple of lists-or-tuples-or ndarrays with different lengths or shapes) is deprecated. If you meant to do this, you must specify 'dtype=object' when creating the ndarray\n",
      "  return array(a, dtype, copy=False, order=order)\n"
     ]
    },
    {
     "data": {
      "image/png": "[encoded data removed]",
      "text/plain": [
       "<Figure size 576x504 with 1 Axes>"
      ]
     },
     "metadata": {
      "needs_background": "light"
     },
     "output_type": "display_data"
    }
   ],
   "source": [
    "ax = df_event_numbers.boxplot(column='Сумма за месяц, руб.', by='is_Moscow', fontsize=12,\n",
    "                                         boxprops=dict(linestyle='-', linewidth=5),\n",
    "                                         medianprops=dict(linestyle='-', linewidth=5),\n",
    "                                         whiskerprops=dict(linestyle='-', linewidth=5),\n",
    "                                         capprops=dict(linestyle='-', linewidth=5),\n",
    "                                         notch=True, figsize=(8,7))\n",
    "\n",
    "\n",
    "\n",
    "labels = [item.get_text() for item in ax.get_xticklabels()]\n",
    "\n",
    "labels[0] = 'Регионы'\n",
    "labels[1] = 'Москва'\n",
    "\n",
    "ax.set_xticklabels(labels)\n",
    "\n",
    "plt.suptitle('Boxplot по выручке в Москве и регионах с whis = 1,5', y=0.95, fontsize=16, fontweight='bold')\n",
    "\n",
    "ax.set_xlabel('')\n",
    "ax.set_title('')\n",
    "ax.title.set_size(40)"
   ]
  },
  {
   "cell_type": "markdown",
   "metadata": {},
   "source": [
    "Рассчитаем границы интервалов."
   ]
  },
  {
   "cell_type": "code",
   "execution_count": 78,
   "metadata": {},
   "outputs": [
    {
     "name": "stdout",
     "output_type": "stream",
     "text": [
      "Границы интервала для столбца \"Сумма за месяц, руб.\" для регионов: 550.0 - 3750.0\n",
      "Границы интервала для столбца \"Сумма за месяц, руб.\" для Москвы: 550.0 - 3678.0\n"
     ]
    }
   ],
   "source": [
    "revenue_int_smart, revenue_int_ultra = get_intervals('Сумма за месяц, руб.', 'is_Moscow')"
   ]
  },
  {
   "cell_type": "markdown",
   "metadata": {},
   "source": [
    "Выберем нужные данные - выручку по Москве и по регионам. Произведем расчеты."
   ]
  },
  {
   "cell_type": "code",
   "execution_count": 79,
   "metadata": {},
   "outputs": [],
   "source": [
    "moscow_revenue = df_event_numbers[(df_event_numbers['Город'] == 'Москва') &\n",
    "                                  (df_event_numbers['Сумма за месяц, руб.'] >= revenue_int_smart[0]) &\n",
    "                                  (df_event_numbers['Сумма за месяц, руб.'] <= revenue_int_smart[1])]['Сумма за месяц, руб.']\n",
    "\n",
    "regions_revenue = df_event_numbers[(df_event_numbers['Город'] != 'Москва') &\n",
    "                                  (df_event_numbers['Сумма за месяц, руб.'] >= revenue_int_ultra[0]) &\n",
    "                                  (df_event_numbers['Сумма за месяц, руб.'] <= revenue_int_ultra[1])]['Сумма за месяц, руб.']"
   ]
  },
  {
   "cell_type": "markdown",
   "metadata": {},
   "source": [
    "### Расчет p-value.\n",
    "\n",
    "Выборки у нас независимые. В связи с чем воспользуемся функцией ttest_ind из модуля scipy.stats."
   ]
  },
  {
   "cell_type": "code",
   "execution_count": 80,
   "metadata": {
    "scrolled": true
   },
   "outputs": [
    {
     "name": "stdout",
     "output_type": "stream",
     "text": [
      "t = 1.49291699198228\n",
      "p-value = 0.14\n",
      "\n",
      "Пороговое значение alpha = 0.05\n"
     ]
    }
   ],
   "source": [
    "stat, p = ttest_ind(moscow_revenue, regions_revenue)\n",
    "print('t = {}\\np-value = {:.2}'.format(stat, p))\n",
    "print('\\nПороговое значение alpha = 0.05')"
   ]
  },
  {
   "cell_type": "markdown",
   "metadata": {},
   "source": [
    "Рассмотрим выручку по Москве и по регионам."
   ]
  },
  {
   "cell_type": "code",
   "execution_count": 81,
   "metadata": {},
   "outputs": [
    {
     "name": "stdout",
     "output_type": "stream",
     "text": [
      "Средняя выручка по пользователю в месяц в Москве: 1532.38\n",
      "Средняя выручка по пользователю в месяц в регионах: 1483.28\n"
     ]
    }
   ],
   "source": [
    "print('Средняя выручка по пользователю в месяц в Москве: {:.2f}'.format(moscow_revenue.mean()))\n",
    "print('Средняя выручка по пользователю в месяц в регионах: {:.2f}'.format(regions_revenue.mean()))"
   ]
  },
  {
   "cell_type": "markdown",
   "metadata": {},
   "source": [
    "# Промежуточный вывод\n",
    "\n",
    "Нулевую гипотезу  нельзя отвергать.\n",
    "Таким образом, можно сказать, что гипотеза - средняя выручка пользователей из Москвы отличается от выручки пользователей из других регионов, является не верным. Так как, средняя выручка пользователей из Москвы не отличается от выручки пользователей из других регионов. В Москве в среднем платят на 50 рублей больше, чем в регионах. Было бы странно, если бы эта разница являлось статистически значимой."
   ]
  },
  {
   "cell_type": "markdown",
   "metadata": {},
   "source": [
    "## Общий вывод"
   ]
  },
  {
   "cell_type": "markdown",
   "metadata": {},
   "source": [
    "В результате проведеной проектной работе мной были рассмотрены данные нескольких датафреймов и совершена предобработка. Данные были проверены на наличие пропущенных значений и дублированных записей. Была произведена замена пропущенных значений. Заменены некорретные типы данных. Удалены дублирующие значения. Все данные стали представлены в удобном формате. На основании всего вышесказанного мы можем констатировать следующее:\n",
    "\n",
    "- при использовании тарифного плана \"Смарт\" практически в 75% случаев клиенту мобильной сети \"Мегалайн\" не хватает минут, смс или Гб заложенных в абонентскую плату. По причине чего клиент по истечению месячного тарифа, оплачивают дополнительный пакет услуг поверх абонентской платы;\n",
    "- большинству (86,40%) клиентам с тарифным планом \"Ультра\" хватает минут, смс и Гб заложенных в абонентскую плату. Однако в 13,60% случаев клиент по истечению месячного тарифа, оплачивают дополнительный пакет услуг поверх абонентской платы. , кроме 13% - они тоже \"дозаказывают\" услуги вне поверх абонентской платы;\n",
    "- большинство совершенных переплачивает по тарифному плану \"Смарт\" достигает до 1200 рублей. Большинство совершенных переплачивает кратны 200 рублей. Это значит, что клиенты оплачивают дополнительный пакет, а именно дозаказывают разное количество раз 1 Гб интернета стоимостью 200 рублей (за 1 Гб);\n",
    "- большинство совершенных переплачивает по тарифному плану \"Ультра\" достигает до 1500 рублей. При условии, что размер абонентской платы по тарифу - \"Ультра\" составляет - 1950 рублей. Данная сумма переплат является большой, практически кратна стоимости абонентской платы. Большинство совершенных переплачивает кратны 150 рублей. Это значит, что клиенты оплачивают дополнительный пакет, а именно дозаказывают разное количество раз 1 Гб интернета, стоимостью 150 рублей (за 1 Гб);\n",
    "- большую часть выручки приносит тарифный план \"Смарт\", которая составляет 2 885 751 рублей;\n",
    "- была констатирована альтернативная гипотеза;\n",
    "- средняя выручка пользователей из Москвы не отличается от выручки пользователей из других регионов.\n",
    "\n",
    "Таким образом, мы видим, что в тарифной сетке представлены: \n",
    "\n",
    "- дешевый тарифный план \"Смарт \"по стоимости 550 рублей, где пользователю не хватает объема интнерт-трафика и количество использованных минут разговора на грани лимита (418 минут из 500);\n",
    "- тарифный план \"Ультра\" стоимостью 1950 рублей, который используют люди более высокого материального положения, где лимитов по всем типам связи предостаточно (иногда дозаказывают в среднем 1 Гб интернета).\n",
    "\n",
    "Найденные и проанализированные мной данные позволяют предложить компании \"Мегалайн\" рассмотреть вариант о создании более комфортного тарифного плана для потенциальных клиентов и нынешних пользователей мобильной связи \"Мегалайн\". Чтобы пользователям не приходилось покупокать дополнительный пакет услгу, а именно объем интернет-трафика. Также, ценовая политика, чтобы новый тарифный план был промежуточным вариантом по цене между текущими, так как тарифный план \"Смарт\" состоит 550 рублев месяц, а тарифный план \"Ультра\" составляет 1950 рублей в месяц."
   ]
  }
 ],
 "metadata": {
  "kernelspec": {
   "display_name": "Python 3",
   "language": "python",
   "name": "python3"
  },
  "language_info": {
   "codemirror_mode": {
    "name": "ipython",
    "version": 3
   },
   "file_extension": ".py",
   "mimetype": "text/x-python",
   "name": "python",
   "nbconvert_exporter": "python",
   "pygments_lexer": "ipython3",
   "version": "3.8.8"
  },
  "toc": {
   "base_numbering": 1,
   "nav_menu": {},
   "number_sections": true,
   "sideBar": true,
   "skip_h1_title": true,
   "title_cell": "Table of Contents",
   "title_sidebar": "Contents",
   "toc_cell": false,
   "toc_position": {},
   "toc_section_display": true,
   "toc_window_display": false
  }
 },
 "nbformat": 4,
 "nbformat_minor": 2
}
