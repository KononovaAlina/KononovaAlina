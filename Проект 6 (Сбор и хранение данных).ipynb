{
 "cells": [
  {
   "cell_type": "markdown",
   "metadata": {},
   "source": [
    "# Аналитика в авиакомпании\n",
    "# Описание проекта\n",
    "Имеются файлы, в которых содержатся результаты запросов из предыдущих заданий.\n",
    "\n",
    "query_1.csv — результат первого запроса. В нём содержится информация о:\n",
    "\n",
    "- model — модели самолета\n",
    "- flights_amount — количество рейсов для каждой модели самолетов model в сентябре 2018 года\n",
    "\n",
    "query_3.csv — результат третьего запроса. В нём содержится информация о:\n",
    "\n",
    "- city — городах\n",
    "- average_flights — среднем количестве рейсов, прибывающих в город city за день в сентябре 2018 года\n",
    "\n",
    "# Описание данных. База данных об авиаперевозках:\n",
    "Таблица airports — информация об аэропортах:\n",
    "\n",
    "- airport_code — трёхбуквенный код аэропорта\n",
    "- airport_name — название аэропорта\n",
    "- city — город\n",
    "- timezone — временная зона\n",
    "\n",
    "Таблица aircrafts — информация об самолётах:\n",
    "\n",
    "- aircraft_code — код модели самолёта\n",
    "- model — модель самолёта\n",
    "- range — количество самолётов\n",
    "\n",
    "Таблица tickets — информация о билетах:\n",
    "\n",
    "- ticket_no — уникальный номер билета\n",
    "- passenger_id — персональный идентификатор пассажира\n",
    "- passenger_name — имя и фамилия пассажира\n",
    "\n",
    "Таблица flights — информация о рейсах:\n",
    "\n",
    "- flight_id — уникальный идентификатор рейса\n",
    "- departure_airport — аэропорт вылета\n",
    "- departure_time — дата и время вылета\n",
    "- arrival_airport — аэропорт прилёта\n",
    "- arrival_time — дата и время прилёта\n",
    "- aircraft_code – id самолёта\n",
    "\n",
    "Таблица ticket_flights — стыковая таблица «рейсы-билеты»\n",
    "\n",
    "- ticket_no — номер билета\n",
    "- flight_id — идентификатор рейса\n",
    "\n",
    "Таблица festivals — информация о фестивалях\n",
    "\n",
    "- festival_id — уникальный номер фестиваля\n",
    "- festival_date — дата проведения фестиваля\n",
    "- festival_city — город проведения фестиваля\n",
    "- festival_name — название фестиваля\n",
    "\n",
    "# Для этих двух наборов данных нужно:\n",
    "- импортировать файлы,\n",
    "- изучить данные в них,\n",
    "- проверить типы данных на корректность,\n",
    "- выбрать топ-10 городов по количеству рейсов.\n",
    "\n",
    "# Постройте графики и сделайте выводы по каждому из графиков:\n",
    "- модели самолетов и количество рейсов,\n",
    "- топ-10 городов и количество рейсов."
   ]
  },
  {
   "cell_type": "markdown",
   "metadata": {},
   "source": [
    "##  Изучение данных из файла.\n",
    "### Откроем файл с данными и изучим общую информацию."
   ]
  },
  {
   "cell_type": "code",
   "execution_count": 1,
   "metadata": {},
   "outputs": [],
   "source": [
    "import pandas as pd\n",
    "import numpy as np\n",
    "import matplotlib.pyplot as plt\n",
    "\n",
    "from datetime import datetime"
   ]
  },
  {
   "cell_type": "code",
   "execution_count": 2,
   "metadata": {},
   "outputs": [],
   "source": [
    "font = {'family': 'sans-serif',\n",
    "        'color':  '#a72693',\n",
    "        'weight': 'normal',\n",
    "        'size': 20,\n",
    "        }"
   ]
  },
  {
   "cell_type": "code",
   "execution_count": 3,
   "metadata": {},
   "outputs": [],
   "source": [
    "pd.set_option('display.max_columns', None)\n",
    "pd.options.display.float_format = '{:,.2f}'.format"
   ]
  },
  {
   "cell_type": "markdown",
   "metadata": {},
   "source": [
    "Рассмотрим данные по количеству совершенных полетов по каждой модели самолета."
   ]
  },
  {
   "cell_type": "code",
   "execution_count": 4,
   "metadata": {},
   "outputs": [
    {
     "data": {
      "text/html": [
       "<div>\n",
       "<style scoped>\n",
       "    .dataframe tbody tr th:only-of-type {\n",
       "        vertical-align: middle;\n",
       "    }\n",
       "\n",
       "    .dataframe tbody tr th {\n",
       "        vertical-align: top;\n",
       "    }\n",
       "\n",
       "    .dataframe thead th {\n",
       "        text-align: right;\n",
       "    }\n",
       "</style>\n",
       "<table border=\"1\" class=\"dataframe\">\n",
       "  <thead>\n",
       "    <tr style=\"text-align: right;\">\n",
       "      <th></th>\n",
       "      <th>model</th>\n",
       "      <th>flights_amount</th>\n",
       "    </tr>\n",
       "  </thead>\n",
       "  <tbody>\n",
       "    <tr>\n",
       "      <td>0</td>\n",
       "      <td>Airbus A319-100</td>\n",
       "      <td>607</td>\n",
       "    </tr>\n",
       "    <tr>\n",
       "      <td>1</td>\n",
       "      <td>Airbus A321-200</td>\n",
       "      <td>960</td>\n",
       "    </tr>\n",
       "    <tr>\n",
       "      <td>2</td>\n",
       "      <td>Boeing 737-300</td>\n",
       "      <td>630</td>\n",
       "    </tr>\n",
       "    <tr>\n",
       "      <td>3</td>\n",
       "      <td>Boeing 767-300</td>\n",
       "      <td>600</td>\n",
       "    </tr>\n",
       "    <tr>\n",
       "      <td>4</td>\n",
       "      <td>Boeing 777-300</td>\n",
       "      <td>300</td>\n",
       "    </tr>\n",
       "    <tr>\n",
       "      <td>5</td>\n",
       "      <td>Bombardier CRJ-200</td>\n",
       "      <td>4446</td>\n",
       "    </tr>\n",
       "    <tr>\n",
       "      <td>6</td>\n",
       "      <td>Cessna 208 Caravan</td>\n",
       "      <td>4557</td>\n",
       "    </tr>\n",
       "    <tr>\n",
       "      <td>7</td>\n",
       "      <td>Sukhoi SuperJet-100</td>\n",
       "      <td>4185</td>\n",
       "    </tr>\n",
       "  </tbody>\n",
       "</table>\n",
       "</div>"
      ],
      "text/plain": [
       "                 model  flights_amount\n",
       "0      Airbus A319-100             607\n",
       "1      Airbus A321-200             960\n",
       "2       Boeing 737-300             630\n",
       "3       Boeing 767-300             600\n",
       "4       Boeing 777-300             300\n",
       "5   Bombardier CRJ-200            4446\n",
       "6   Cessna 208 Caravan            4557\n",
       "7  Sukhoi SuperJet-100            4185"
      ]
     },
     "execution_count": 4,
     "metadata": {},
     "output_type": "execute_result"
    }
   ],
   "source": [
    "models_and_flights_amount = pd.read_csv('/datasets/query_1.csv')\n",
    "models_and_flights_amount.head(10)"
   ]
  },
  {
   "cell_type": "code",
   "execution_count": 5,
   "metadata": {},
   "outputs": [
    {
     "data": {
      "text/html": [
       "<div>\n",
       "<style scoped>\n",
       "    .dataframe tbody tr th:only-of-type {\n",
       "        vertical-align: middle;\n",
       "    }\n",
       "\n",
       "    .dataframe tbody tr th {\n",
       "        vertical-align: top;\n",
       "    }\n",
       "\n",
       "    .dataframe thead th {\n",
       "        text-align: right;\n",
       "    }\n",
       "</style>\n",
       "<table border=\"1\" class=\"dataframe\">\n",
       "  <thead>\n",
       "    <tr style=\"text-align: right;\">\n",
       "      <th></th>\n",
       "      <th>count</th>\n",
       "      <th>mean</th>\n",
       "      <th>std</th>\n",
       "      <th>min</th>\n",
       "      <th>25%</th>\n",
       "      <th>50%</th>\n",
       "      <th>75%</th>\n",
       "      <th>max</th>\n",
       "    </tr>\n",
       "  </thead>\n",
       "  <tbody>\n",
       "    <tr>\n",
       "      <td>flights_amount</td>\n",
       "      <td>8.00</td>\n",
       "      <td>2,035.62</td>\n",
       "      <td>1,965.20</td>\n",
       "      <td>300.00</td>\n",
       "      <td>605.25</td>\n",
       "      <td>795.00</td>\n",
       "      <td>4,250.25</td>\n",
       "      <td>4,557.00</td>\n",
       "    </tr>\n",
       "  </tbody>\n",
       "</table>\n",
       "</div>"
      ],
      "text/plain": [
       "                count     mean      std    min    25%    50%      75%      max\n",
       "flights_amount   8.00 2,035.62 1,965.20 300.00 605.25 795.00 4,250.25 4,557.00"
      ]
     },
     "execution_count": 5,
     "metadata": {},
     "output_type": "execute_result"
    }
   ],
   "source": [
    "models_and_flights_amount.describe().T"
   ]
  },
  {
   "cell_type": "code",
   "execution_count": 6,
   "metadata": {},
   "outputs": [
    {
     "name": "stdout",
     "output_type": "stream",
     "text": [
      "<class 'pandas.core.frame.DataFrame'>\n",
      "RangeIndex: 8 entries, 0 to 7\n",
      "Data columns (total 2 columns):\n",
      "model             8 non-null object\n",
      "flights_amount    8 non-null int64\n",
      "dtypes: int64(1), object(1)\n",
      "memory usage: 256.0+ bytes\n"
     ]
    }
   ],
   "source": [
    "models_and_flights_amount.info()"
   ]
  },
  {
   "cell_type": "markdown",
   "metadata": {},
   "source": [
    "# Промежуточный вывод\n",
    "Пропуски в данных отсутствуют. В столбце model данные имеют подходящий нам текстовый формат (object), значения в столбце flights_amount целочисленные - подходящий."
   ]
  },
  {
   "cell_type": "markdown",
   "metadata": {},
   "source": [
    "### Построим Bar-plot по количеству совершенных полетов по каждой модели самолета."
   ]
  },
  {
   "cell_type": "code",
   "execution_count": 7,
   "metadata": {
    "scrolled": true
   },
   "outputs": [
    {
     "data": {
      "text/html": [
       "<style  type=\"text/css\" >\n",
       "    #T_9fe9b448_d142_11eb_b719_02420a39e772row0_col1 {\n",
       "            width:  10em;\n",
       "             height:  80%;\n",
       "            background:  linear-gradient(90deg,orange 100.0%, transparent 100.0%);\n",
       "        }    #T_9fe9b448_d142_11eb_b719_02420a39e772row1_col1 {\n",
       "            width:  10em;\n",
       "             height:  80%;\n",
       "            background:  linear-gradient(90deg,orange 97.6%, transparent 97.6%);\n",
       "        }    #T_9fe9b448_d142_11eb_b719_02420a39e772row2_col1 {\n",
       "            width:  10em;\n",
       "             height:  80%;\n",
       "            background:  linear-gradient(90deg,orange 91.8%, transparent 91.8%);\n",
       "        }    #T_9fe9b448_d142_11eb_b719_02420a39e772row3_col1 {\n",
       "            width:  10em;\n",
       "             height:  80%;\n",
       "            background:  linear-gradient(90deg,orange 21.1%, transparent 21.1%);\n",
       "        }    #T_9fe9b448_d142_11eb_b719_02420a39e772row4_col1 {\n",
       "            width:  10em;\n",
       "             height:  80%;\n",
       "            background:  linear-gradient(90deg,orange 13.8%, transparent 13.8%);\n",
       "        }    #T_9fe9b448_d142_11eb_b719_02420a39e772row5_col1 {\n",
       "            width:  10em;\n",
       "             height:  80%;\n",
       "            background:  linear-gradient(90deg,orange 13.3%, transparent 13.3%);\n",
       "        }    #T_9fe9b448_d142_11eb_b719_02420a39e772row6_col1 {\n",
       "            width:  10em;\n",
       "             height:  80%;\n",
       "            background:  linear-gradient(90deg,orange 13.2%, transparent 13.2%);\n",
       "        }    #T_9fe9b448_d142_11eb_b719_02420a39e772row7_col1 {\n",
       "            width:  10em;\n",
       "             height:  80%;\n",
       "            background:  linear-gradient(90deg,orange 6.6%, transparent 6.6%);\n",
       "        }</style><table id=\"T_9fe9b448_d142_11eb_b719_02420a39e772\" ><caption>Данные по количеству совершенных полетов по каждой модели самолета</caption><thead>    <tr>        <th class=\"blank level0\" ></th>        <th class=\"col_heading level0 col0\" >model</th>        <th class=\"col_heading level0 col1\" >flights_amount</th>    </tr></thead><tbody>\n",
       "                <tr>\n",
       "                        <th id=\"T_9fe9b448_d142_11eb_b719_02420a39e772level0_row0\" class=\"row_heading level0 row0\" >0</th>\n",
       "                        <td id=\"T_9fe9b448_d142_11eb_b719_02420a39e772row0_col0\" class=\"data row0 col0\" >Cessna 208 Caravan</td>\n",
       "                        <td id=\"T_9fe9b448_d142_11eb_b719_02420a39e772row0_col1\" class=\"data row0 col1\" >4557</td>\n",
       "            </tr>\n",
       "            <tr>\n",
       "                        <th id=\"T_9fe9b448_d142_11eb_b719_02420a39e772level0_row1\" class=\"row_heading level0 row1\" >1</th>\n",
       "                        <td id=\"T_9fe9b448_d142_11eb_b719_02420a39e772row1_col0\" class=\"data row1 col0\" >Bombardier CRJ-200</td>\n",
       "                        <td id=\"T_9fe9b448_d142_11eb_b719_02420a39e772row1_col1\" class=\"data row1 col1\" >4446</td>\n",
       "            </tr>\n",
       "            <tr>\n",
       "                        <th id=\"T_9fe9b448_d142_11eb_b719_02420a39e772level0_row2\" class=\"row_heading level0 row2\" >2</th>\n",
       "                        <td id=\"T_9fe9b448_d142_11eb_b719_02420a39e772row2_col0\" class=\"data row2 col0\" >Sukhoi SuperJet-100</td>\n",
       "                        <td id=\"T_9fe9b448_d142_11eb_b719_02420a39e772row2_col1\" class=\"data row2 col1\" >4185</td>\n",
       "            </tr>\n",
       "            <tr>\n",
       "                        <th id=\"T_9fe9b448_d142_11eb_b719_02420a39e772level0_row3\" class=\"row_heading level0 row3\" >3</th>\n",
       "                        <td id=\"T_9fe9b448_d142_11eb_b719_02420a39e772row3_col0\" class=\"data row3 col0\" >Airbus A321-200</td>\n",
       "                        <td id=\"T_9fe9b448_d142_11eb_b719_02420a39e772row3_col1\" class=\"data row3 col1\" >960</td>\n",
       "            </tr>\n",
       "            <tr>\n",
       "                        <th id=\"T_9fe9b448_d142_11eb_b719_02420a39e772level0_row4\" class=\"row_heading level0 row4\" >4</th>\n",
       "                        <td id=\"T_9fe9b448_d142_11eb_b719_02420a39e772row4_col0\" class=\"data row4 col0\" >Boeing 737-300</td>\n",
       "                        <td id=\"T_9fe9b448_d142_11eb_b719_02420a39e772row4_col1\" class=\"data row4 col1\" >630</td>\n",
       "            </tr>\n",
       "            <tr>\n",
       "                        <th id=\"T_9fe9b448_d142_11eb_b719_02420a39e772level0_row5\" class=\"row_heading level0 row5\" >5</th>\n",
       "                        <td id=\"T_9fe9b448_d142_11eb_b719_02420a39e772row5_col0\" class=\"data row5 col0\" >Airbus A319-100</td>\n",
       "                        <td id=\"T_9fe9b448_d142_11eb_b719_02420a39e772row5_col1\" class=\"data row5 col1\" >607</td>\n",
       "            </tr>\n",
       "            <tr>\n",
       "                        <th id=\"T_9fe9b448_d142_11eb_b719_02420a39e772level0_row6\" class=\"row_heading level0 row6\" >6</th>\n",
       "                        <td id=\"T_9fe9b448_d142_11eb_b719_02420a39e772row6_col0\" class=\"data row6 col0\" >Boeing 767-300</td>\n",
       "                        <td id=\"T_9fe9b448_d142_11eb_b719_02420a39e772row6_col1\" class=\"data row6 col1\" >600</td>\n",
       "            </tr>\n",
       "            <tr>\n",
       "                        <th id=\"T_9fe9b448_d142_11eb_b719_02420a39e772level0_row7\" class=\"row_heading level0 row7\" >7</th>\n",
       "                        <td id=\"T_9fe9b448_d142_11eb_b719_02420a39e772row7_col0\" class=\"data row7 col0\" >Boeing 777-300</td>\n",
       "                        <td id=\"T_9fe9b448_d142_11eb_b719_02420a39e772row7_col1\" class=\"data row7 col1\" >300</td>\n",
       "            </tr>\n",
       "    </tbody></table>"
      ],
      "text/plain": [
       "<pandas.io.formats.style.Styler at 0x7f4324392f10>"
      ]
     },
     "execution_count": 7,
     "metadata": {},
     "output_type": "execute_result"
    }
   ],
   "source": [
    "(models_and_flights_amount.sort_values(by='flights_amount', ascending=False).reset_index(drop=True).style\n",
    "                                        .bar(subset=['flights_amount'], color='orange', vmin=0, width=100)\n",
    "                                        .set_caption('Данные по количеству совершенных полетов по каждой модели самолета')\n",
    ")"
   ]
  },
  {
   "cell_type": "markdown",
   "metadata": {},
   "source": [
    "### Построим график по количеству совершенных полетов по каждой модели самолета"
   ]
  },
  {
   "cell_type": "code",
   "execution_count": 8,
   "metadata": {},
   "outputs": [
    {
     "data": {
      "text/html": [
       "<div>\n",
       "<style scoped>\n",
       "    .dataframe tbody tr th:only-of-type {\n",
       "        vertical-align: middle;\n",
       "    }\n",
       "\n",
       "    .dataframe tbody tr th {\n",
       "        vertical-align: top;\n",
       "    }\n",
       "\n",
       "    .dataframe thead th {\n",
       "        text-align: right;\n",
       "    }\n",
       "</style>\n",
       "<table border=\"1\" class=\"dataframe\">\n",
       "  <thead>\n",
       "    <tr style=\"text-align: right;\">\n",
       "      <th></th>\n",
       "      <th>model</th>\n",
       "      <th>flights_amount</th>\n",
       "    </tr>\n",
       "  </thead>\n",
       "  <tbody>\n",
       "    <tr>\n",
       "      <td>6</td>\n",
       "      <td>Cessna 208 Caravan</td>\n",
       "      <td>4557</td>\n",
       "    </tr>\n",
       "    <tr>\n",
       "      <td>5</td>\n",
       "      <td>Bombardier CRJ-200</td>\n",
       "      <td>4446</td>\n",
       "    </tr>\n",
       "    <tr>\n",
       "      <td>7</td>\n",
       "      <td>Sukhoi SuperJet-100</td>\n",
       "      <td>4185</td>\n",
       "    </tr>\n",
       "    <tr>\n",
       "      <td>1</td>\n",
       "      <td>Airbus A321-200</td>\n",
       "      <td>960</td>\n",
       "    </tr>\n",
       "    <tr>\n",
       "      <td>2</td>\n",
       "      <td>Boeing 737-300</td>\n",
       "      <td>630</td>\n",
       "    </tr>\n",
       "    <tr>\n",
       "      <td>0</td>\n",
       "      <td>Airbus A319-100</td>\n",
       "      <td>607</td>\n",
       "    </tr>\n",
       "    <tr>\n",
       "      <td>3</td>\n",
       "      <td>Boeing 767-300</td>\n",
       "      <td>600</td>\n",
       "    </tr>\n",
       "    <tr>\n",
       "      <td>4</td>\n",
       "      <td>Boeing 777-300</td>\n",
       "      <td>300</td>\n",
       "    </tr>\n",
       "  </tbody>\n",
       "</table>\n",
       "</div>"
      ],
      "text/plain": [
       "                 model  flights_amount\n",
       "6   Cessna 208 Caravan            4557\n",
       "5   Bombardier CRJ-200            4446\n",
       "7  Sukhoi SuperJet-100            4185\n",
       "1      Airbus A321-200             960\n",
       "2       Boeing 737-300             630\n",
       "0      Airbus A319-100             607\n",
       "3       Boeing 767-300             600\n",
       "4       Boeing 777-300             300"
      ]
     },
     "execution_count": 8,
     "metadata": {},
     "output_type": "execute_result"
    }
   ],
   "source": [
    "model_and_flights_amount_plot = models_and_flights_amount.sort_values(by='flights_amount', ascending=False).head(10)\n",
    "model_and_flights_amount_plot"
   ]
  },
  {
   "cell_type": "code",
   "execution_count": 9,
   "metadata": {},
   "outputs": [
    {
     "data": {
      "image/png": "[encoded data removed]",
      "text/plain": [
       "<Figure size 360x360 with 1 Axes>"
      ]
     },
     "metadata": {
      "needs_background": "light"
     },
     "output_type": "display_data"
    }
   ],
   "source": [
    "ax = model_and_flights_amount_plot.sort_values(by='flights_amount').plot(x='model',\n",
    "                                                                    y='flights_amount',\n",
    "                                                                    kind='barh',\n",
    "                                                                    color='khaki', \n",
    "                                                                    ec='black',\n",
    "                                                                    grid=True,\n",
    "                                                                    figsize=(5, 5))\n",
    "plt.title('Данные по количеству совершенных полетов по каждой модели самолета')\n",
    "ax.get_legend().remove()\n",
    "plt.xlabel('Модель самолёта')\n",
    "plt.ylabel('Количество рейсов ')\n",
    "plt.show();"
   ]
  },
  {
   "cell_type": "code",
   "execution_count": 29,
   "metadata": {},
   "outputs": [
    {
     "data": {
      "image/png": "[encoded data removed]",
      "text/plain": [
       "<Figure size 360x360 with 1 Axes>"
      ]
     },
     "metadata": {
      "needs_background": "light"
     },
     "output_type": "display_data"
    }
   ],
   "source": [
    "ax = model_and_flights_amount_plot.sort_values(by='flights_amount').plot(x='model', \n",
    "                                                                         y='flights_amount',\n",
    "                                                                         kind='barh',\n",
    "                                                                         color='khaki', \n",
    "                                                                         ec='black',\n",
    "                                                                         grid=True,\n",
    "                                                                         figsize=(5, 5),\n",
    "                                                                         legend=False)\n",
    "plt.title('Данные по количеству совершенных полетов по каждой модели самолета')\n",
    "plt.xlabel('Модель самолёта')\n",
    "plt.ylabel('Количество рейсов ')\n",
    "plt.show();"
   ]
  },
  {
   "cell_type": "markdown",
   "metadata": {},
   "source": [
    "# Промежуточный вывод¶\n",
    "\n",
    "3 модели , которые являются лидерами по частоте использования в России (за период сентябрь 2018 года):\n",
    "\n",
    "- Cessna 208 Caravan - 4557 перелетов;\n",
    "- Bombardier CRJ-200 - 4446 перелетов;\n",
    "- Sukhoi SuperJet-100 - 4185 перелетов."
   ]
  },
  {
   "cell_type": "markdown",
   "metadata": {},
   "source": [
    "### Рассмотрим данные второго файла"
   ]
  },
  {
   "cell_type": "code",
   "execution_count": 10,
   "metadata": {},
   "outputs": [
    {
     "data": {
      "text/html": [
       "<div>\n",
       "<style scoped>\n",
       "    .dataframe tbody tr th:only-of-type {\n",
       "        vertical-align: middle;\n",
       "    }\n",
       "\n",
       "    .dataframe tbody tr th {\n",
       "        vertical-align: top;\n",
       "    }\n",
       "\n",
       "    .dataframe thead th {\n",
       "        text-align: right;\n",
       "    }\n",
       "</style>\n",
       "<table border=\"1\" class=\"dataframe\">\n",
       "  <thead>\n",
       "    <tr style=\"text-align: right;\">\n",
       "      <th></th>\n",
       "      <th>city</th>\n",
       "      <th>average_flights</th>\n",
       "    </tr>\n",
       "  </thead>\n",
       "  <tbody>\n",
       "    <tr>\n",
       "      <td>91</td>\n",
       "      <td>Хабаровск</td>\n",
       "      <td>6.55</td>\n",
       "    </tr>\n",
       "    <tr>\n",
       "      <td>92</td>\n",
       "      <td>Ханты-Мансийск</td>\n",
       "      <td>8.42</td>\n",
       "    </tr>\n",
       "    <tr>\n",
       "      <td>93</td>\n",
       "      <td>Чебоксары</td>\n",
       "      <td>5.00</td>\n",
       "    </tr>\n",
       "    <tr>\n",
       "      <td>94</td>\n",
       "      <td>Челябинск</td>\n",
       "      <td>6.71</td>\n",
       "    </tr>\n",
       "    <tr>\n",
       "      <td>95</td>\n",
       "      <td>Череповец</td>\n",
       "      <td>2.16</td>\n",
       "    </tr>\n",
       "    <tr>\n",
       "      <td>96</td>\n",
       "      <td>Чита</td>\n",
       "      <td>1.58</td>\n",
       "    </tr>\n",
       "    <tr>\n",
       "      <td>97</td>\n",
       "      <td>Элиста</td>\n",
       "      <td>4.87</td>\n",
       "    </tr>\n",
       "    <tr>\n",
       "      <td>98</td>\n",
       "      <td>Южно-Сахалинск</td>\n",
       "      <td>4.29</td>\n",
       "    </tr>\n",
       "    <tr>\n",
       "      <td>99</td>\n",
       "      <td>Якутск</td>\n",
       "      <td>2.74</td>\n",
       "    </tr>\n",
       "    <tr>\n",
       "      <td>100</td>\n",
       "      <td>Ярославль</td>\n",
       "      <td>1.32</td>\n",
       "    </tr>\n",
       "  </tbody>\n",
       "</table>\n",
       "</div>"
      ],
      "text/plain": [
       "               city  average_flights\n",
       "91        Хабаровск             6.55\n",
       "92   Ханты-Мансийск             8.42\n",
       "93        Чебоксары             5.00\n",
       "94        Челябинск             6.71\n",
       "95        Череповец             2.16\n",
       "96             Чита             1.58\n",
       "97           Элиста             4.87\n",
       "98   Южно-Сахалинск             4.29\n",
       "99           Якутск             2.74\n",
       "100       Ярославль             1.32"
      ]
     },
     "execution_count": 10,
     "metadata": {},
     "output_type": "execute_result"
    }
   ],
   "source": [
    "city_and_average_flights = pd.read_csv('/datasets/query_3.csv')\n",
    "city_and_average_flights.tail(10)"
   ]
  },
  {
   "cell_type": "code",
   "execution_count": 11,
   "metadata": {},
   "outputs": [
    {
     "data": {
      "text/html": [
       "<div>\n",
       "<style scoped>\n",
       "    .dataframe tbody tr th:only-of-type {\n",
       "        vertical-align: middle;\n",
       "    }\n",
       "\n",
       "    .dataframe tbody tr th {\n",
       "        vertical-align: top;\n",
       "    }\n",
       "\n",
       "    .dataframe thead th {\n",
       "        text-align: right;\n",
       "    }\n",
       "</style>\n",
       "<table border=\"1\" class=\"dataframe\">\n",
       "  <thead>\n",
       "    <tr style=\"text-align: right;\">\n",
       "      <th></th>\n",
       "      <th>count</th>\n",
       "      <th>mean</th>\n",
       "      <th>std</th>\n",
       "      <th>min</th>\n",
       "      <th>25%</th>\n",
       "      <th>50%</th>\n",
       "      <th>75%</th>\n",
       "      <th>max</th>\n",
       "    </tr>\n",
       "  </thead>\n",
       "  <tbody>\n",
       "    <tr>\n",
       "      <td>average_flights</td>\n",
       "      <td>101.00</td>\n",
       "      <td>5.49</td>\n",
       "      <td>13.12</td>\n",
       "      <td>1.00</td>\n",
       "      <td>2.00</td>\n",
       "      <td>3.00</td>\n",
       "      <td>5.87</td>\n",
       "      <td>129.77</td>\n",
       "    </tr>\n",
       "  </tbody>\n",
       "</table>\n",
       "</div>"
      ],
      "text/plain": [
       "                 count  mean   std  min  25%  50%  75%    max\n",
       "average_flights 101.00  5.49 13.12 1.00 2.00 3.00 5.87 129.77"
      ]
     },
     "execution_count": 11,
     "metadata": {},
     "output_type": "execute_result"
    }
   ],
   "source": [
    "city_and_average_flights.describe().T"
   ]
  },
  {
   "cell_type": "code",
   "execution_count": 12,
   "metadata": {},
   "outputs": [
    {
     "name": "stdout",
     "output_type": "stream",
     "text": [
      "<class 'pandas.core.frame.DataFrame'>\n",
      "RangeIndex: 101 entries, 0 to 100\n",
      "Data columns (total 2 columns):\n",
      "city               101 non-null object\n",
      "average_flights    101 non-null float64\n",
      "dtypes: float64(1), object(1)\n",
      "memory usage: 1.7+ KB\n"
     ]
    }
   ],
   "source": [
    "city_and_average_flights.info()"
   ]
  },
  {
   "cell_type": "markdown",
   "metadata": {},
   "source": [
    "Типы данных корректны. Внесем небольшие коррективы - округлим до 2 знаков после запятой столбец average_flights."
   ]
  },
  {
   "cell_type": "code",
   "execution_count": 13,
   "metadata": {},
   "outputs": [],
   "source": [
    "city_and_average_flights['average_flights'] = city_and_average_flights['average_flights'].round(2)"
   ]
  },
  {
   "cell_type": "markdown",
   "metadata": {},
   "source": [
    "### Построим Bar-plot по среднему количеству рейсов в день по городам."
   ]
  },
  {
   "cell_type": "code",
   "execution_count": 14,
   "metadata": {
    "scrolled": true
   },
   "outputs": [
    {
     "data": {
      "text/html": [
       "<style  type=\"text/css\" >\n",
       "    #T_a020fd22_d142_11eb_b719_02420a39e772row0_col1 {\n",
       "            width:  10em;\n",
       "             height:  80%;\n",
       "            background:  linear-gradient(90deg,orange 100.0%, transparent 100.0%);\n",
       "        }    #T_a020fd22_d142_11eb_b719_02420a39e772row1_col1 {\n",
       "            width:  10em;\n",
       "             height:  80%;\n",
       "            background:  linear-gradient(90deg,orange 24.0%, transparent 24.0%);\n",
       "        }    #T_a020fd22_d142_11eb_b719_02420a39e772row2_col1 {\n",
       "            width:  10em;\n",
       "             height:  80%;\n",
       "            background:  linear-gradient(90deg,orange 13.3%, transparent 13.3%);\n",
       "        }    #T_a020fd22_d142_11eb_b719_02420a39e772row3_col1 {\n",
       "            width:  10em;\n",
       "             height:  80%;\n",
       "            background:  linear-gradient(90deg,orange 8.9%, transparent 8.9%);\n",
       "        }    #T_a020fd22_d142_11eb_b719_02420a39e772row4_col1 {\n",
       "            width:  10em;\n",
       "             height:  80%;\n",
       "            background:  linear-gradient(90deg,orange 8.7%, transparent 8.7%);\n",
       "        }    #T_a020fd22_d142_11eb_b719_02420a39e772row5_col1 {\n",
       "            width:  10em;\n",
       "             height:  80%;\n",
       "            background:  linear-gradient(90deg,orange 7.9%, transparent 7.9%);\n",
       "        }    #T_a020fd22_d142_11eb_b719_02420a39e772row6_col1 {\n",
       "            width:  10em;\n",
       "             height:  80%;\n",
       "            background:  linear-gradient(90deg,orange 7.8%, transparent 7.8%);\n",
       "        }    #T_a020fd22_d142_11eb_b719_02420a39e772row7_col1 {\n",
       "            width:  10em;\n",
       "             height:  80%;\n",
       "            background:  linear-gradient(90deg,orange 7.7%, transparent 7.7%);\n",
       "        }    #T_a020fd22_d142_11eb_b719_02420a39e772row8_col1 {\n",
       "            width:  10em;\n",
       "             height:  80%;\n",
       "            background:  linear-gradient(90deg,orange 7.4%, transparent 7.4%);\n",
       "        }    #T_a020fd22_d142_11eb_b719_02420a39e772row9_col1 {\n",
       "            width:  10em;\n",
       "             height:  80%;\n",
       "            background:  linear-gradient(90deg,orange 7.4%, transparent 7.4%);\n",
       "        }    #T_a020fd22_d142_11eb_b719_02420a39e772row10_col1 {\n",
       "            width:  10em;\n",
       "             height:  80%;\n",
       "            background:  linear-gradient(90deg,orange 6.9%, transparent 6.9%);\n",
       "        }    #T_a020fd22_d142_11eb_b719_02420a39e772row11_col1 {\n",
       "            width:  10em;\n",
       "             height:  80%;\n",
       "            background:  linear-gradient(90deg,orange 6.7%, transparent 6.7%);\n",
       "        }    #T_a020fd22_d142_11eb_b719_02420a39e772row12_col1 {\n",
       "            width:  10em;\n",
       "             height:  80%;\n",
       "            background:  linear-gradient(90deg,orange 6.5%, transparent 6.5%);\n",
       "        }    #T_a020fd22_d142_11eb_b719_02420a39e772row13_col1 {\n",
       "            width:  10em;\n",
       "             height:  80%;\n",
       "            background:  linear-gradient(90deg,orange 6.4%, transparent 6.4%);\n",
       "        }    #T_a020fd22_d142_11eb_b719_02420a39e772row14_col1 {\n",
       "            width:  10em;\n",
       "             height:  80%;\n",
       "            background:  linear-gradient(90deg,orange 6.0%, transparent 6.0%);\n",
       "        }    #T_a020fd22_d142_11eb_b719_02420a39e772row15_col1 {\n",
       "            width:  10em;\n",
       "             height:  80%;\n",
       "            background:  linear-gradient(90deg,orange 5.4%, transparent 5.4%);\n",
       "        }    #T_a020fd22_d142_11eb_b719_02420a39e772row16_col1 {\n",
       "            width:  10em;\n",
       "             height:  80%;\n",
       "            background:  linear-gradient(90deg,orange 5.2%, transparent 5.2%);\n",
       "        }    #T_a020fd22_d142_11eb_b719_02420a39e772row17_col1 {\n",
       "            width:  10em;\n",
       "             height:  80%;\n",
       "            background:  linear-gradient(90deg,orange 5.0%, transparent 5.0%);\n",
       "        }    #T_a020fd22_d142_11eb_b719_02420a39e772row18_col1 {\n",
       "            width:  10em;\n",
       "             height:  80%;\n",
       "            background:  linear-gradient(90deg,orange 4.8%, transparent 4.8%);\n",
       "        }    #T_a020fd22_d142_11eb_b719_02420a39e772row19_col1 {\n",
       "            width:  10em;\n",
       "             height:  80%;\n",
       "            background:  linear-gradient(90deg,orange 4.8%, transparent 4.8%);\n",
       "        }    #T_a020fd22_d142_11eb_b719_02420a39e772row20_col1 {\n",
       "            width:  10em;\n",
       "             height:  80%;\n",
       "            background:  linear-gradient(90deg,orange 4.6%, transparent 4.6%);\n",
       "        }    #T_a020fd22_d142_11eb_b719_02420a39e772row21_col1 {\n",
       "            width:  10em;\n",
       "             height:  80%;\n",
       "            background:  linear-gradient(90deg,orange 4.6%, transparent 4.6%);\n",
       "        }    #T_a020fd22_d142_11eb_b719_02420a39e772row22_col1 {\n",
       "            width:  10em;\n",
       "             height:  80%;\n",
       "            background:  linear-gradient(90deg,orange 4.6%, transparent 4.6%);\n",
       "        }    #T_a020fd22_d142_11eb_b719_02420a39e772row23_col1 {\n",
       "            width:  10em;\n",
       "             height:  80%;\n",
       "            background:  linear-gradient(90deg,orange 4.6%, transparent 4.6%);\n",
       "        }    #T_a020fd22_d142_11eb_b719_02420a39e772row24_col1 {\n",
       "            width:  10em;\n",
       "             height:  80%;\n",
       "            background:  linear-gradient(90deg,orange 4.5%, transparent 4.5%);\n",
       "        }    #T_a020fd22_d142_11eb_b719_02420a39e772row25_col1 {\n",
       "            width:  10em;\n",
       "             height:  80%;\n",
       "            background:  linear-gradient(90deg,orange 4.5%, transparent 4.5%);\n",
       "        }    #T_a020fd22_d142_11eb_b719_02420a39e772row26_col1 {\n",
       "            width:  10em;\n",
       "             height:  80%;\n",
       "            background:  linear-gradient(90deg,orange 4.1%, transparent 4.1%);\n",
       "        }    #T_a020fd22_d142_11eb_b719_02420a39e772row27_col1 {\n",
       "            width:  10em;\n",
       "             height:  80%;\n",
       "            background:  linear-gradient(90deg,orange 4.0%, transparent 4.0%);\n",
       "        }    #T_a020fd22_d142_11eb_b719_02420a39e772row28_col1 {\n",
       "            width:  10em;\n",
       "             height:  80%;\n",
       "            background:  linear-gradient(90deg,orange 3.9%, transparent 3.9%);\n",
       "        }    #T_a020fd22_d142_11eb_b719_02420a39e772row29_col1 {\n",
       "            width:  10em;\n",
       "             height:  80%;\n",
       "            background:  linear-gradient(90deg,orange 3.9%, transparent 3.9%);\n",
       "        }    #T_a020fd22_d142_11eb_b719_02420a39e772row30_col1 {\n",
       "            width:  10em;\n",
       "             height:  80%;\n",
       "            background:  linear-gradient(90deg,orange 3.8%, transparent 3.8%);\n",
       "        }    #T_a020fd22_d142_11eb_b719_02420a39e772row31_col1 {\n",
       "            width:  10em;\n",
       "             height:  80%;\n",
       "            background:  linear-gradient(90deg,orange 3.5%, transparent 3.5%);\n",
       "        }    #T_a020fd22_d142_11eb_b719_02420a39e772row32_col1 {\n",
       "            width:  10em;\n",
       "             height:  80%;\n",
       "            background:  linear-gradient(90deg,orange 3.3%, transparent 3.3%);\n",
       "        }    #T_a020fd22_d142_11eb_b719_02420a39e772row33_col1 {\n",
       "            width:  10em;\n",
       "             height:  80%;\n",
       "            background:  linear-gradient(90deg,orange 3.3%, transparent 3.3%);\n",
       "        }    #T_a020fd22_d142_11eb_b719_02420a39e772row34_col1 {\n",
       "            width:  10em;\n",
       "             height:  80%;\n",
       "            background:  linear-gradient(90deg,orange 3.2%, transparent 3.2%);\n",
       "        }    #T_a020fd22_d142_11eb_b719_02420a39e772row35_col1 {\n",
       "            width:  10em;\n",
       "             height:  80%;\n",
       "            background:  linear-gradient(90deg,orange 3.2%, transparent 3.2%);\n",
       "        }    #T_a020fd22_d142_11eb_b719_02420a39e772row36_col1 {\n",
       "            width:  10em;\n",
       "             height:  80%;\n",
       "            background:  linear-gradient(90deg,orange 3.1%, transparent 3.1%);\n",
       "        }    #T_a020fd22_d142_11eb_b719_02420a39e772row37_col1 {\n",
       "            width:  10em;\n",
       "             height:  80%;\n",
       "            background:  linear-gradient(90deg,orange 3.1%, transparent 3.1%);\n",
       "        }    #T_a020fd22_d142_11eb_b719_02420a39e772row38_col1 {\n",
       "            width:  10em;\n",
       "             height:  80%;\n",
       "            background:  linear-gradient(90deg,orange 3.1%, transparent 3.1%);\n",
       "        }    #T_a020fd22_d142_11eb_b719_02420a39e772row39_col1 {\n",
       "            width:  10em;\n",
       "             height:  80%;\n",
       "            background:  linear-gradient(90deg,orange 3.1%, transparent 3.1%);\n",
       "        }    #T_a020fd22_d142_11eb_b719_02420a39e772row40_col1 {\n",
       "            width:  10em;\n",
       "             height:  80%;\n",
       "            background:  linear-gradient(90deg,orange 3.0%, transparent 3.0%);\n",
       "        }    #T_a020fd22_d142_11eb_b719_02420a39e772row41_col1 {\n",
       "            width:  10em;\n",
       "             height:  80%;\n",
       "            background:  linear-gradient(90deg,orange 3.0%, transparent 3.0%);\n",
       "        }    #T_a020fd22_d142_11eb_b719_02420a39e772row42_col1 {\n",
       "            width:  10em;\n",
       "             height:  80%;\n",
       "            background:  linear-gradient(90deg,orange 2.9%, transparent 2.9%);\n",
       "        }    #T_a020fd22_d142_11eb_b719_02420a39e772row43_col1 {\n",
       "            width:  10em;\n",
       "             height:  80%;\n",
       "            background:  linear-gradient(90deg,orange 2.6%, transparent 2.6%);\n",
       "        }    #T_a020fd22_d142_11eb_b719_02420a39e772row44_col1 {\n",
       "            width:  10em;\n",
       "             height:  80%;\n",
       "            background:  linear-gradient(90deg,orange 2.6%, transparent 2.6%);\n",
       "        }    #T_a020fd22_d142_11eb_b719_02420a39e772row45_col1 {\n",
       "            width:  10em;\n",
       "             height:  80%;\n",
       "            background:  linear-gradient(90deg,orange 2.5%, transparent 2.5%);\n",
       "        }    #T_a020fd22_d142_11eb_b719_02420a39e772row46_col1 {\n",
       "            width:  10em;\n",
       "             height:  80%;\n",
       "            background:  linear-gradient(90deg,orange 2.5%, transparent 2.5%);\n",
       "        }    #T_a020fd22_d142_11eb_b719_02420a39e772row47_col1 {\n",
       "            width:  10em;\n",
       "             height:  80%;\n",
       "            background:  linear-gradient(90deg,orange 2.4%, transparent 2.4%);\n",
       "        }    #T_a020fd22_d142_11eb_b719_02420a39e772row48_col1 {\n",
       "            width:  10em;\n",
       "             height:  80%;\n",
       "            background:  linear-gradient(90deg,orange 2.4%, transparent 2.4%);\n",
       "        }    #T_a020fd22_d142_11eb_b719_02420a39e772row49_col1 {\n",
       "            width:  10em;\n",
       "             height:  80%;\n",
       "            background:  linear-gradient(90deg,orange 2.3%, transparent 2.3%);\n",
       "        }    #T_a020fd22_d142_11eb_b719_02420a39e772row50_col1 {\n",
       "            width:  10em;\n",
       "             height:  80%;\n",
       "            background:  linear-gradient(90deg,orange 2.3%, transparent 2.3%);\n",
       "        }    #T_a020fd22_d142_11eb_b719_02420a39e772row51_col1 {\n",
       "            width:  10em;\n",
       "             height:  80%;\n",
       "            background:  linear-gradient(90deg,orange 2.3%, transparent 2.3%);\n",
       "        }    #T_a020fd22_d142_11eb_b719_02420a39e772row52_col1 {\n",
       "            width:  10em;\n",
       "             height:  80%;\n",
       "            background:  linear-gradient(90deg,orange 2.3%, transparent 2.3%);\n",
       "        }    #T_a020fd22_d142_11eb_b719_02420a39e772row53_col1 {\n",
       "            width:  10em;\n",
       "             height:  80%;\n",
       "            background:  linear-gradient(90deg,orange 2.3%, transparent 2.3%);\n",
       "        }    #T_a020fd22_d142_11eb_b719_02420a39e772row54_col1 {\n",
       "            width:  10em;\n",
       "             height:  80%;\n",
       "            background:  linear-gradient(90deg,orange 2.3%, transparent 2.3%);\n",
       "        }    #T_a020fd22_d142_11eb_b719_02420a39e772row55_col1 {\n",
       "            width:  10em;\n",
       "             height:  80%;\n",
       "            background:  linear-gradient(90deg,orange 2.3%, transparent 2.3%);\n",
       "        }    #T_a020fd22_d142_11eb_b719_02420a39e772row56_col1 {\n",
       "            width:  10em;\n",
       "             height:  80%;\n",
       "            background:  linear-gradient(90deg,orange 2.2%, transparent 2.2%);\n",
       "        }    #T_a020fd22_d142_11eb_b719_02420a39e772row57_col1 {\n",
       "            width:  10em;\n",
       "             height:  80%;\n",
       "            background:  linear-gradient(90deg,orange 2.1%, transparent 2.1%);\n",
       "        }    #T_a020fd22_d142_11eb_b719_02420a39e772row58_col1 {\n",
       "            width:  10em;\n",
       "             height:  80%;\n",
       "            background:  linear-gradient(90deg,orange 2.0%, transparent 2.0%);\n",
       "        }    #T_a020fd22_d142_11eb_b719_02420a39e772row59_col1 {\n",
       "            width:  10em;\n",
       "             height:  80%;\n",
       "            background:  linear-gradient(90deg,orange 2.0%, transparent 2.0%);\n",
       "        }    #T_a020fd22_d142_11eb_b719_02420a39e772row60_col1 {\n",
       "            width:  10em;\n",
       "             height:  80%;\n",
       "            background:  linear-gradient(90deg,orange 2.0%, transparent 2.0%);\n",
       "        }    #T_a020fd22_d142_11eb_b719_02420a39e772row61_col1 {\n",
       "            width:  10em;\n",
       "             height:  80%;\n",
       "            background:  linear-gradient(90deg,orange 2.0%, transparent 2.0%);\n",
       "        }    #T_a020fd22_d142_11eb_b719_02420a39e772row62_col1 {\n",
       "            width:  10em;\n",
       "             height:  80%;\n",
       "            background:  linear-gradient(90deg,orange 2.0%, transparent 2.0%);\n",
       "        }    #T_a020fd22_d142_11eb_b719_02420a39e772row63_col1 {\n",
       "            width:  10em;\n",
       "             height:  80%;\n",
       "            background:  linear-gradient(90deg,orange 1.9%, transparent 1.9%);\n",
       "        }    #T_a020fd22_d142_11eb_b719_02420a39e772row64_col1 {\n",
       "            width:  10em;\n",
       "             height:  80%;\n",
       "            background:  linear-gradient(90deg,orange 1.8%, transparent 1.8%);\n",
       "        }    #T_a020fd22_d142_11eb_b719_02420a39e772row65_col1 {\n",
       "            width:  10em;\n",
       "             height:  80%;\n",
       "            background:  linear-gradient(90deg,orange 1.8%, transparent 1.8%);\n",
       "        }    #T_a020fd22_d142_11eb_b719_02420a39e772row66_col1 {\n",
       "            width:  10em;\n",
       "             height:  80%;\n",
       "            background:  linear-gradient(90deg,orange 1.8%, transparent 1.8%);\n",
       "        }    #T_a020fd22_d142_11eb_b719_02420a39e772row67_col1 {\n",
       "            width:  10em;\n",
       "             height:  80%;\n",
       "            background:  linear-gradient(90deg,orange 1.7%, transparent 1.7%);\n",
       "        }    #T_a020fd22_d142_11eb_b719_02420a39e772row68_col1 {\n",
       "            width:  10em;\n",
       "             height:  80%;\n",
       "            background:  linear-gradient(90deg,orange 1.7%, transparent 1.7%);\n",
       "        }    #T_a020fd22_d142_11eb_b719_02420a39e772row69_col1 {\n",
       "            width:  10em;\n",
       "             height:  80%;\n",
       "            background:  linear-gradient(90deg,orange 1.6%, transparent 1.6%);\n",
       "        }    #T_a020fd22_d142_11eb_b719_02420a39e772row70_col1 {\n",
       "            width:  10em;\n",
       "             height:  80%;\n",
       "            background:  linear-gradient(90deg,orange 1.5%, transparent 1.5%);\n",
       "        }    #T_a020fd22_d142_11eb_b719_02420a39e772row71_col1 {\n",
       "            width:  10em;\n",
       "             height:  80%;\n",
       "            background:  linear-gradient(90deg,orange 1.5%, transparent 1.5%);\n",
       "        }    #T_a020fd22_d142_11eb_b719_02420a39e772row72_col1 {\n",
       "            width:  10em;\n",
       "             height:  80%;\n",
       "            background:  linear-gradient(90deg,orange 1.5%, transparent 1.5%);\n",
       "        }    #T_a020fd22_d142_11eb_b719_02420a39e772row73_col1 {\n",
       "            width:  10em;\n",
       "             height:  80%;\n",
       "            background:  linear-gradient(90deg,orange 1.5%, transparent 1.5%);\n",
       "        }    #T_a020fd22_d142_11eb_b719_02420a39e772row74_col1 {\n",
       "            width:  10em;\n",
       "             height:  80%;\n",
       "            background:  linear-gradient(90deg,orange 1.5%, transparent 1.5%);\n",
       "        }    #T_a020fd22_d142_11eb_b719_02420a39e772row75_col1 {\n",
       "            width:  10em;\n",
       "             height:  80%;\n",
       "            background:  linear-gradient(90deg,orange 1.5%, transparent 1.5%);\n",
       "        }    #T_a020fd22_d142_11eb_b719_02420a39e772row76_col1 {\n",
       "            width:  10em;\n",
       "             height:  80%;\n",
       "            background:  linear-gradient(90deg,orange 1.5%, transparent 1.5%);\n",
       "        }    #T_a020fd22_d142_11eb_b719_02420a39e772row77_col1 {\n",
       "            width:  10em;\n",
       "             height:  80%;\n",
       "            background:  linear-gradient(90deg,orange 1.5%, transparent 1.5%);\n",
       "        }    #T_a020fd22_d142_11eb_b719_02420a39e772row78_col1 {\n",
       "            width:  10em;\n",
       "             height:  80%;\n",
       "            background:  linear-gradient(90deg,orange 1.5%, transparent 1.5%);\n",
       "        }    #T_a020fd22_d142_11eb_b719_02420a39e772row79_col1 {\n",
       "            width:  10em;\n",
       "             height:  80%;\n",
       "            background:  linear-gradient(90deg,orange 1.2%, transparent 1.2%);\n",
       "        }    #T_a020fd22_d142_11eb_b719_02420a39e772row80_col1 {\n",
       "            width:  10em;\n",
       "             height:  80%;\n",
       "            background:  linear-gradient(90deg,orange 1.2%, transparent 1.2%);\n",
       "        }    #T_a020fd22_d142_11eb_b719_02420a39e772row81_col1 {\n",
       "            width:  10em;\n",
       "             height:  80%;\n",
       "            background:  linear-gradient(90deg,orange 1.2%, transparent 1.2%);\n",
       "        }    #T_a020fd22_d142_11eb_b719_02420a39e772row82_col1 {\n",
       "            width:  10em;\n",
       "             height:  80%;\n",
       "            background:  linear-gradient(90deg,orange 1.2%, transparent 1.2%);\n",
       "        }    #T_a020fd22_d142_11eb_b719_02420a39e772row83_col1 {\n",
       "            width:  10em;\n",
       "             height:  80%;\n",
       "            background:  linear-gradient(90deg,orange 1.1%, transparent 1.1%);\n",
       "        }    #T_a020fd22_d142_11eb_b719_02420a39e772row84_col1 {\n",
       "            width:  10em;\n",
       "             height:  80%;\n",
       "            background:  linear-gradient(90deg,orange 1.0%, transparent 1.0%);\n",
       "        }    #T_a020fd22_d142_11eb_b719_02420a39e772row85_col1 {\n",
       "            width:  10em;\n",
       "             height:  80%;\n",
       "            background:  linear-gradient(90deg,orange 1.0%, transparent 1.0%);\n",
       "        }    #T_a020fd22_d142_11eb_b719_02420a39e772row86_col1 {\n",
       "            width:  10em;\n",
       "             height:  80%;\n",
       "            background:  linear-gradient(90deg,orange 1.0%, transparent 1.0%);\n",
       "        }    #T_a020fd22_d142_11eb_b719_02420a39e772row87_col1 {\n",
       "            width:  10em;\n",
       "             height:  80%;\n",
       "            background:  linear-gradient(90deg,orange 1.0%, transparent 1.0%);\n",
       "        }    #T_a020fd22_d142_11eb_b719_02420a39e772row88_col1 {\n",
       "            width:  10em;\n",
       "             height:  80%;\n",
       "            background:  linear-gradient(90deg,orange 0.9%, transparent 0.9%);\n",
       "        }    #T_a020fd22_d142_11eb_b719_02420a39e772row89_col1 {\n",
       "            width:  10em;\n",
       "             height:  80%;\n",
       "            background:  linear-gradient(90deg,orange 0.8%, transparent 0.8%);\n",
       "        }    #T_a020fd22_d142_11eb_b719_02420a39e772row90_col1 {\n",
       "            width:  10em;\n",
       "             height:  80%;\n",
       "            background:  linear-gradient(90deg,orange 0.8%, transparent 0.8%);\n",
       "        }    #T_a020fd22_d142_11eb_b719_02420a39e772row91_col1 {\n",
       "            width:  10em;\n",
       "             height:  80%;\n",
       "            background:  linear-gradient(90deg,orange 0.8%, transparent 0.8%);\n",
       "        }    #T_a020fd22_d142_11eb_b719_02420a39e772row92_col1 {\n",
       "            width:  10em;\n",
       "             height:  80%;\n",
       "            background:  linear-gradient(90deg,orange 0.8%, transparent 0.8%);\n",
       "        }    #T_a020fd22_d142_11eb_b719_02420a39e772row93_col1 {\n",
       "            width:  10em;\n",
       "             height:  80%;\n",
       "            background:  linear-gradient(90deg,orange 0.8%, transparent 0.8%);\n",
       "        }    #T_a020fd22_d142_11eb_b719_02420a39e772row94_col1 {\n",
       "            width:  10em;\n",
       "             height:  80%;\n",
       "            background:  linear-gradient(90deg,orange 0.8%, transparent 0.8%);\n",
       "        }    #T_a020fd22_d142_11eb_b719_02420a39e772row95_col1 {\n",
       "            width:  10em;\n",
       "             height:  80%;\n",
       "            background:  linear-gradient(90deg,orange 0.8%, transparent 0.8%);\n",
       "        }    #T_a020fd22_d142_11eb_b719_02420a39e772row96_col1 {\n",
       "            width:  10em;\n",
       "             height:  80%;\n",
       "            background:  linear-gradient(90deg,orange 0.8%, transparent 0.8%);\n",
       "        }    #T_a020fd22_d142_11eb_b719_02420a39e772row97_col1 {\n",
       "            width:  10em;\n",
       "             height:  80%;\n",
       "            background:  linear-gradient(90deg,orange 0.8%, transparent 0.8%);\n",
       "        }    #T_a020fd22_d142_11eb_b719_02420a39e772row98_col1 {\n",
       "            width:  10em;\n",
       "             height:  80%;\n",
       "            background:  linear-gradient(90deg,orange 0.8%, transparent 0.8%);\n",
       "        }    #T_a020fd22_d142_11eb_b719_02420a39e772row99_col1 {\n",
       "            width:  10em;\n",
       "             height:  80%;\n",
       "            background:  linear-gradient(90deg,orange 0.8%, transparent 0.8%);\n",
       "        }    #T_a020fd22_d142_11eb_b719_02420a39e772row100_col1 {\n",
       "            width:  10em;\n",
       "             height:  80%;\n",
       "            background:  linear-gradient(90deg,orange 0.8%, transparent 0.8%);\n",
       "        }</style><table id=\"T_a020fd22_d142_11eb_b719_02420a39e772\" ><caption>Данные по количеству совершенных полетов по каждой модели самолета</caption><thead>    <tr>        <th class=\"blank level0\" ></th>        <th class=\"col_heading level0 col0\" >city</th>        <th class=\"col_heading level0 col1\" >average_flights</th>    </tr></thead><tbody>\n",
       "                <tr>\n",
       "                        <th id=\"T_a020fd22_d142_11eb_b719_02420a39e772level0_row0\" class=\"row_heading level0 row0\" >0</th>\n",
       "                        <td id=\"T_a020fd22_d142_11eb_b719_02420a39e772row0_col0\" class=\"data row0 col0\" >Москва</td>\n",
       "                        <td id=\"T_a020fd22_d142_11eb_b719_02420a39e772row0_col1\" class=\"data row0 col1\" >129.77</td>\n",
       "            </tr>\n",
       "            <tr>\n",
       "                        <th id=\"T_a020fd22_d142_11eb_b719_02420a39e772level0_row1\" class=\"row_heading level0 row1\" >1</th>\n",
       "                        <td id=\"T_a020fd22_d142_11eb_b719_02420a39e772row1_col0\" class=\"data row1 col0\" >Санкт-Петербург</td>\n",
       "                        <td id=\"T_a020fd22_d142_11eb_b719_02420a39e772row1_col1\" class=\"data row1 col1\" >31.16</td>\n",
       "            </tr>\n",
       "            <tr>\n",
       "                        <th id=\"T_a020fd22_d142_11eb_b719_02420a39e772level0_row2\" class=\"row_heading level0 row2\" >2</th>\n",
       "                        <td id=\"T_a020fd22_d142_11eb_b719_02420a39e772row2_col0\" class=\"data row2 col0\" >Новосибирск</td>\n",
       "                        <td id=\"T_a020fd22_d142_11eb_b719_02420a39e772row2_col1\" class=\"data row2 col1\" >17.32</td>\n",
       "            </tr>\n",
       "            <tr>\n",
       "                        <th id=\"T_a020fd22_d142_11eb_b719_02420a39e772level0_row3\" class=\"row_heading level0 row3\" >3</th>\n",
       "                        <td id=\"T_a020fd22_d142_11eb_b719_02420a39e772row3_col0\" class=\"data row3 col0\" >Красноярск</td>\n",
       "                        <td id=\"T_a020fd22_d142_11eb_b719_02420a39e772row3_col1\" class=\"data row3 col1\" >11.58</td>\n",
       "            </tr>\n",
       "            <tr>\n",
       "                        <th id=\"T_a020fd22_d142_11eb_b719_02420a39e772level0_row4\" class=\"row_heading level0 row4\" >4</th>\n",
       "                        <td id=\"T_a020fd22_d142_11eb_b719_02420a39e772row4_col0\" class=\"data row4 col0\" >Екатеринбург</td>\n",
       "                        <td id=\"T_a020fd22_d142_11eb_b719_02420a39e772row4_col1\" class=\"data row4 col1\" >11.32</td>\n",
       "            </tr>\n",
       "            <tr>\n",
       "                        <th id=\"T_a020fd22_d142_11eb_b719_02420a39e772level0_row5\" class=\"row_heading level0 row5\" >5</th>\n",
       "                        <td id=\"T_a020fd22_d142_11eb_b719_02420a39e772row5_col0\" class=\"data row5 col0\" >Ростов-на-Дону</td>\n",
       "                        <td id=\"T_a020fd22_d142_11eb_b719_02420a39e772row5_col1\" class=\"data row5 col1\" >10.19</td>\n",
       "            </tr>\n",
       "            <tr>\n",
       "                        <th id=\"T_a020fd22_d142_11eb_b719_02420a39e772level0_row6\" class=\"row_heading level0 row6\" >6</th>\n",
       "                        <td id=\"T_a020fd22_d142_11eb_b719_02420a39e772row6_col0\" class=\"data row6 col0\" >Пермь</td>\n",
       "                        <td id=\"T_a020fd22_d142_11eb_b719_02420a39e772row6_col1\" class=\"data row6 col1\" >10.13</td>\n",
       "            </tr>\n",
       "            <tr>\n",
       "                        <th id=\"T_a020fd22_d142_11eb_b719_02420a39e772level0_row7\" class=\"row_heading level0 row7\" >7</th>\n",
       "                        <td id=\"T_a020fd22_d142_11eb_b719_02420a39e772row7_col0\" class=\"data row7 col0\" >Брянск</td>\n",
       "                        <td id=\"T_a020fd22_d142_11eb_b719_02420a39e772row7_col1\" class=\"data row7 col1\" >10</td>\n",
       "            </tr>\n",
       "            <tr>\n",
       "                        <th id=\"T_a020fd22_d142_11eb_b719_02420a39e772level0_row8\" class=\"row_heading level0 row8\" >8</th>\n",
       "                        <td id=\"T_a020fd22_d142_11eb_b719_02420a39e772row8_col0\" class=\"data row8 col0\" >Сочи</td>\n",
       "                        <td id=\"T_a020fd22_d142_11eb_b719_02420a39e772row8_col1\" class=\"data row8 col1\" >9.61</td>\n",
       "            </tr>\n",
       "            <tr>\n",
       "                        <th id=\"T_a020fd22_d142_11eb_b719_02420a39e772level0_row9\" class=\"row_heading level0 row9\" >9</th>\n",
       "                        <td id=\"T_a020fd22_d142_11eb_b719_02420a39e772row9_col0\" class=\"data row9 col0\" >Ульяновск</td>\n",
       "                        <td id=\"T_a020fd22_d142_11eb_b719_02420a39e772row9_col1\" class=\"data row9 col1\" >9.58</td>\n",
       "            </tr>\n",
       "            <tr>\n",
       "                        <th id=\"T_a020fd22_d142_11eb_b719_02420a39e772level0_row10\" class=\"row_heading level0 row10\" >10</th>\n",
       "                        <td id=\"T_a020fd22_d142_11eb_b719_02420a39e772row10_col0\" class=\"data row10 col0\" >Советский</td>\n",
       "                        <td id=\"T_a020fd22_d142_11eb_b719_02420a39e772row10_col1\" class=\"data row10 col1\" >9</td>\n",
       "            </tr>\n",
       "            <tr>\n",
       "                        <th id=\"T_a020fd22_d142_11eb_b719_02420a39e772level0_row11\" class=\"row_heading level0 row11\" >11</th>\n",
       "                        <td id=\"T_a020fd22_d142_11eb_b719_02420a39e772row11_col0\" class=\"data row11 col0\" >Сургут</td>\n",
       "                        <td id=\"T_a020fd22_d142_11eb_b719_02420a39e772row11_col1\" class=\"data row11 col1\" >8.74</td>\n",
       "            </tr>\n",
       "            <tr>\n",
       "                        <th id=\"T_a020fd22_d142_11eb_b719_02420a39e772level0_row12\" class=\"row_heading level0 row12\" >12</th>\n",
       "                        <td id=\"T_a020fd22_d142_11eb_b719_02420a39e772row12_col0\" class=\"data row12 col0\" >Ханты-Мансийск</td>\n",
       "                        <td id=\"T_a020fd22_d142_11eb_b719_02420a39e772row12_col1\" class=\"data row12 col1\" >8.42</td>\n",
       "            </tr>\n",
       "            <tr>\n",
       "                        <th id=\"T_a020fd22_d142_11eb_b719_02420a39e772level0_row13\" class=\"row_heading level0 row13\" >13</th>\n",
       "                        <td id=\"T_a020fd22_d142_11eb_b719_02420a39e772row13_col0\" class=\"data row13 col0\" >Новый Уренгой</td>\n",
       "                        <td id=\"T_a020fd22_d142_11eb_b719_02420a39e772row13_col1\" class=\"data row13 col1\" >8.29</td>\n",
       "            </tr>\n",
       "            <tr>\n",
       "                        <th id=\"T_a020fd22_d142_11eb_b719_02420a39e772level0_row14\" class=\"row_heading level0 row14\" >14</th>\n",
       "                        <td id=\"T_a020fd22_d142_11eb_b719_02420a39e772row14_col0\" class=\"data row14 col0\" >Казань</td>\n",
       "                        <td id=\"T_a020fd22_d142_11eb_b719_02420a39e772row14_col1\" class=\"data row14 col1\" >7.74</td>\n",
       "            </tr>\n",
       "            <tr>\n",
       "                        <th id=\"T_a020fd22_d142_11eb_b719_02420a39e772level0_row15\" class=\"row_heading level0 row15\" >15</th>\n",
       "                        <td id=\"T_a020fd22_d142_11eb_b719_02420a39e772row15_col0\" class=\"data row15 col0\" >Тюмень</td>\n",
       "                        <td id=\"T_a020fd22_d142_11eb_b719_02420a39e772row15_col1\" class=\"data row15 col1\" >6.97</td>\n",
       "            </tr>\n",
       "            <tr>\n",
       "                        <th id=\"T_a020fd22_d142_11eb_b719_02420a39e772level0_row16\" class=\"row_heading level0 row16\" >16</th>\n",
       "                        <td id=\"T_a020fd22_d142_11eb_b719_02420a39e772row16_col0\" class=\"data row16 col0\" >Челябинск</td>\n",
       "                        <td id=\"T_a020fd22_d142_11eb_b719_02420a39e772row16_col1\" class=\"data row16 col1\" >6.71</td>\n",
       "            </tr>\n",
       "            <tr>\n",
       "                        <th id=\"T_a020fd22_d142_11eb_b719_02420a39e772level0_row17\" class=\"row_heading level0 row17\" >17</th>\n",
       "                        <td id=\"T_a020fd22_d142_11eb_b719_02420a39e772row17_col0\" class=\"data row17 col0\" >Хабаровск</td>\n",
       "                        <td id=\"T_a020fd22_d142_11eb_b719_02420a39e772row17_col1\" class=\"data row17 col1\" >6.55</td>\n",
       "            </tr>\n",
       "            <tr>\n",
       "                        <th id=\"T_a020fd22_d142_11eb_b719_02420a39e772level0_row18\" class=\"row_heading level0 row18\" >18</th>\n",
       "                        <td id=\"T_a020fd22_d142_11eb_b719_02420a39e772row18_col0\" class=\"data row18 col0\" >Уфа</td>\n",
       "                        <td id=\"T_a020fd22_d142_11eb_b719_02420a39e772row18_col1\" class=\"data row18 col1\" >6.29</td>\n",
       "            </tr>\n",
       "            <tr>\n",
       "                        <th id=\"T_a020fd22_d142_11eb_b719_02420a39e772level0_row19\" class=\"row_heading level0 row19\" >19</th>\n",
       "                        <td id=\"T_a020fd22_d142_11eb_b719_02420a39e772row19_col0\" class=\"data row19 col0\" >Мирный</td>\n",
       "                        <td id=\"T_a020fd22_d142_11eb_b719_02420a39e772row19_col1\" class=\"data row19 col1\" >6.29</td>\n",
       "            </tr>\n",
       "            <tr>\n",
       "                        <th id=\"T_a020fd22_d142_11eb_b719_02420a39e772level0_row20\" class=\"row_heading level0 row20\" >20</th>\n",
       "                        <td id=\"T_a020fd22_d142_11eb_b719_02420a39e772row20_col0\" class=\"data row20 col0\" >Новокузнецк</td>\n",
       "                        <td id=\"T_a020fd22_d142_11eb_b719_02420a39e772row20_col1\" class=\"data row20 col1\" >6.03</td>\n",
       "            </tr>\n",
       "            <tr>\n",
       "                        <th id=\"T_a020fd22_d142_11eb_b719_02420a39e772level0_row21\" class=\"row_heading level0 row21\" >21</th>\n",
       "                        <td id=\"T_a020fd22_d142_11eb_b719_02420a39e772row21_col0\" class=\"data row21 col0\" >Иркутск</td>\n",
       "                        <td id=\"T_a020fd22_d142_11eb_b719_02420a39e772row21_col1\" class=\"data row21 col1\" >6.03</td>\n",
       "            </tr>\n",
       "            <tr>\n",
       "                        <th id=\"T_a020fd22_d142_11eb_b719_02420a39e772level0_row22\" class=\"row_heading level0 row22\" >22</th>\n",
       "                        <td id=\"T_a020fd22_d142_11eb_b719_02420a39e772row22_col0\" class=\"data row22 col0\" >Белгород</td>\n",
       "                        <td id=\"T_a020fd22_d142_11eb_b719_02420a39e772row22_col1\" class=\"data row22 col1\" >6</td>\n",
       "            </tr>\n",
       "            <tr>\n",
       "                        <th id=\"T_a020fd22_d142_11eb_b719_02420a39e772level0_row23\" class=\"row_heading level0 row23\" >23</th>\n",
       "                        <td id=\"T_a020fd22_d142_11eb_b719_02420a39e772row23_col0\" class=\"data row23 col0\" >Киров</td>\n",
       "                        <td id=\"T_a020fd22_d142_11eb_b719_02420a39e772row23_col1\" class=\"data row23 col1\" >6</td>\n",
       "            </tr>\n",
       "            <tr>\n",
       "                        <th id=\"T_a020fd22_d142_11eb_b719_02420a39e772level0_row24\" class=\"row_heading level0 row24\" >24</th>\n",
       "                        <td id=\"T_a020fd22_d142_11eb_b719_02420a39e772row24_col0\" class=\"data row24 col0\" >Нижний Новгород</td>\n",
       "                        <td id=\"T_a020fd22_d142_11eb_b719_02420a39e772row24_col1\" class=\"data row24 col1\" >5.87</td>\n",
       "            </tr>\n",
       "            <tr>\n",
       "                        <th id=\"T_a020fd22_d142_11eb_b719_02420a39e772level0_row25\" class=\"row_heading level0 row25\" >25</th>\n",
       "                        <td id=\"T_a020fd22_d142_11eb_b719_02420a39e772row25_col0\" class=\"data row25 col0\" >Петрозаводск</td>\n",
       "                        <td id=\"T_a020fd22_d142_11eb_b719_02420a39e772row25_col1\" class=\"data row25 col1\" >5.87</td>\n",
       "            </tr>\n",
       "            <tr>\n",
       "                        <th id=\"T_a020fd22_d142_11eb_b719_02420a39e772level0_row26\" class=\"row_heading level0 row26\" >26</th>\n",
       "                        <td id=\"T_a020fd22_d142_11eb_b719_02420a39e772row26_col0\" class=\"data row26 col0\" >Архангельск</td>\n",
       "                        <td id=\"T_a020fd22_d142_11eb_b719_02420a39e772row26_col1\" class=\"data row26 col1\" >5.35</td>\n",
       "            </tr>\n",
       "            <tr>\n",
       "                        <th id=\"T_a020fd22_d142_11eb_b719_02420a39e772level0_row27\" class=\"row_heading level0 row27\" >27</th>\n",
       "                        <td id=\"T_a020fd22_d142_11eb_b719_02420a39e772row27_col0\" class=\"data row27 col0\" >Волгоград</td>\n",
       "                        <td id=\"T_a020fd22_d142_11eb_b719_02420a39e772row27_col1\" class=\"data row27 col1\" >5.13</td>\n",
       "            </tr>\n",
       "            <tr>\n",
       "                        <th id=\"T_a020fd22_d142_11eb_b719_02420a39e772level0_row28\" class=\"row_heading level0 row28\" >28</th>\n",
       "                        <td id=\"T_a020fd22_d142_11eb_b719_02420a39e772row28_col0\" class=\"data row28 col0\" >Оренбург</td>\n",
       "                        <td id=\"T_a020fd22_d142_11eb_b719_02420a39e772row28_col1\" class=\"data row28 col1\" >5</td>\n",
       "            </tr>\n",
       "            <tr>\n",
       "                        <th id=\"T_a020fd22_d142_11eb_b719_02420a39e772level0_row29\" class=\"row_heading level0 row29\" >29</th>\n",
       "                        <td id=\"T_a020fd22_d142_11eb_b719_02420a39e772row29_col0\" class=\"data row29 col0\" >Чебоксары</td>\n",
       "                        <td id=\"T_a020fd22_d142_11eb_b719_02420a39e772row29_col1\" class=\"data row29 col1\" >5</td>\n",
       "            </tr>\n",
       "            <tr>\n",
       "                        <th id=\"T_a020fd22_d142_11eb_b719_02420a39e772level0_row30\" class=\"row_heading level0 row30\" >30</th>\n",
       "                        <td id=\"T_a020fd22_d142_11eb_b719_02420a39e772row30_col0\" class=\"data row30 col0\" >Элиста</td>\n",
       "                        <td id=\"T_a020fd22_d142_11eb_b719_02420a39e772row30_col1\" class=\"data row30 col1\" >4.87</td>\n",
       "            </tr>\n",
       "            <tr>\n",
       "                        <th id=\"T_a020fd22_d142_11eb_b719_02420a39e772level0_row31\" class=\"row_heading level0 row31\" >31</th>\n",
       "                        <td id=\"T_a020fd22_d142_11eb_b719_02420a39e772row31_col0\" class=\"data row31 col0\" >Воркута</td>\n",
       "                        <td id=\"T_a020fd22_d142_11eb_b719_02420a39e772row31_col1\" class=\"data row31 col1\" >4.58</td>\n",
       "            </tr>\n",
       "            <tr>\n",
       "                        <th id=\"T_a020fd22_d142_11eb_b719_02420a39e772level0_row32\" class=\"row_heading level0 row32\" >32</th>\n",
       "                        <td id=\"T_a020fd22_d142_11eb_b719_02420a39e772row32_col0\" class=\"data row32 col0\" >Йошкар-Ола</td>\n",
       "                        <td id=\"T_a020fd22_d142_11eb_b719_02420a39e772row32_col1\" class=\"data row32 col1\" >4.29</td>\n",
       "            </tr>\n",
       "            <tr>\n",
       "                        <th id=\"T_a020fd22_d142_11eb_b719_02420a39e772level0_row33\" class=\"row_heading level0 row33\" >33</th>\n",
       "                        <td id=\"T_a020fd22_d142_11eb_b719_02420a39e772row33_col0\" class=\"data row33 col0\" >Южно-Сахалинск</td>\n",
       "                        <td id=\"T_a020fd22_d142_11eb_b719_02420a39e772row33_col1\" class=\"data row33 col1\" >4.29</td>\n",
       "            </tr>\n",
       "            <tr>\n",
       "                        <th id=\"T_a020fd22_d142_11eb_b719_02420a39e772level0_row34\" class=\"row_heading level0 row34\" >34</th>\n",
       "                        <td id=\"T_a020fd22_d142_11eb_b719_02420a39e772row34_col0\" class=\"data row34 col0\" >Томск</td>\n",
       "                        <td id=\"T_a020fd22_d142_11eb_b719_02420a39e772row34_col1\" class=\"data row34 col1\" >4.19</td>\n",
       "            </tr>\n",
       "            <tr>\n",
       "                        <th id=\"T_a020fd22_d142_11eb_b719_02420a39e772level0_row35\" class=\"row_heading level0 row35\" >35</th>\n",
       "                        <td id=\"T_a020fd22_d142_11eb_b719_02420a39e772row35_col0\" class=\"data row35 col0\" >Сыктывкар</td>\n",
       "                        <td id=\"T_a020fd22_d142_11eb_b719_02420a39e772row35_col1\" class=\"data row35 col1\" >4.13</td>\n",
       "            </tr>\n",
       "            <tr>\n",
       "                        <th id=\"T_a020fd22_d142_11eb_b719_02420a39e772level0_row36\" class=\"row_heading level0 row36\" >36</th>\n",
       "                        <td id=\"T_a020fd22_d142_11eb_b719_02420a39e772row36_col0\" class=\"data row36 col0\" >Пенза</td>\n",
       "                        <td id=\"T_a020fd22_d142_11eb_b719_02420a39e772row36_col1\" class=\"data row36 col1\" >4</td>\n",
       "            </tr>\n",
       "            <tr>\n",
       "                        <th id=\"T_a020fd22_d142_11eb_b719_02420a39e772level0_row37\" class=\"row_heading level0 row37\" >37</th>\n",
       "                        <td id=\"T_a020fd22_d142_11eb_b719_02420a39e772row37_col0\" class=\"data row37 col0\" >Саратов</td>\n",
       "                        <td id=\"T_a020fd22_d142_11eb_b719_02420a39e772row37_col1\" class=\"data row37 col1\" >4</td>\n",
       "            </tr>\n",
       "            <tr>\n",
       "                        <th id=\"T_a020fd22_d142_11eb_b719_02420a39e772level0_row38\" class=\"row_heading level0 row38\" >38</th>\n",
       "                        <td id=\"T_a020fd22_d142_11eb_b719_02420a39e772row38_col0\" class=\"data row38 col0\" >Магнитогорск</td>\n",
       "                        <td id=\"T_a020fd22_d142_11eb_b719_02420a39e772row38_col1\" class=\"data row38 col1\" >4</td>\n",
       "            </tr>\n",
       "            <tr>\n",
       "                        <th id=\"T_a020fd22_d142_11eb_b719_02420a39e772level0_row39\" class=\"row_heading level0 row39\" >39</th>\n",
       "                        <td id=\"T_a020fd22_d142_11eb_b719_02420a39e772row39_col0\" class=\"data row39 col0\" >Тамбов</td>\n",
       "                        <td id=\"T_a020fd22_d142_11eb_b719_02420a39e772row39_col1\" class=\"data row39 col1\" >4</td>\n",
       "            </tr>\n",
       "            <tr>\n",
       "                        <th id=\"T_a020fd22_d142_11eb_b719_02420a39e772level0_row40\" class=\"row_heading level0 row40\" >40</th>\n",
       "                        <td id=\"T_a020fd22_d142_11eb_b719_02420a39e772row40_col0\" class=\"data row40 col0\" >Краснодар</td>\n",
       "                        <td id=\"T_a020fd22_d142_11eb_b719_02420a39e772row40_col1\" class=\"data row40 col1\" >3.9</td>\n",
       "            </tr>\n",
       "            <tr>\n",
       "                        <th id=\"T_a020fd22_d142_11eb_b719_02420a39e772level0_row41\" class=\"row_heading level0 row41\" >41</th>\n",
       "                        <td id=\"T_a020fd22_d142_11eb_b719_02420a39e772row41_col0\" class=\"data row41 col0\" >Абакан</td>\n",
       "                        <td id=\"T_a020fd22_d142_11eb_b719_02420a39e772row41_col1\" class=\"data row41 col1\" >3.87</td>\n",
       "            </tr>\n",
       "            <tr>\n",
       "                        <th id=\"T_a020fd22_d142_11eb_b719_02420a39e772level0_row42\" class=\"row_heading level0 row42\" >42</th>\n",
       "                        <td id=\"T_a020fd22_d142_11eb_b719_02420a39e772row42_col0\" class=\"data row42 col0\" >Нижнекамск</td>\n",
       "                        <td id=\"T_a020fd22_d142_11eb_b719_02420a39e772row42_col1\" class=\"data row42 col1\" >3.74</td>\n",
       "            </tr>\n",
       "            <tr>\n",
       "                        <th id=\"T_a020fd22_d142_11eb_b719_02420a39e772level0_row43\" class=\"row_heading level0 row43\" >43</th>\n",
       "                        <td id=\"T_a020fd22_d142_11eb_b719_02420a39e772row43_col0\" class=\"data row43 col0\" >Курган</td>\n",
       "                        <td id=\"T_a020fd22_d142_11eb_b719_02420a39e772row43_col1\" class=\"data row43 col1\" >3.42</td>\n",
       "            </tr>\n",
       "            <tr>\n",
       "                        <th id=\"T_a020fd22_d142_11eb_b719_02420a39e772level0_row44\" class=\"row_heading level0 row44\" >44</th>\n",
       "                        <td id=\"T_a020fd22_d142_11eb_b719_02420a39e772row44_col0\" class=\"data row44 col0\" >Минеральные Воды</td>\n",
       "                        <td id=\"T_a020fd22_d142_11eb_b719_02420a39e772row44_col1\" class=\"data row44 col1\" >3.42</td>\n",
       "            </tr>\n",
       "            <tr>\n",
       "                        <th id=\"T_a020fd22_d142_11eb_b719_02420a39e772level0_row45\" class=\"row_heading level0 row45\" >45</th>\n",
       "                        <td id=\"T_a020fd22_d142_11eb_b719_02420a39e772row45_col0\" class=\"data row45 col0\" >Омск</td>\n",
       "                        <td id=\"T_a020fd22_d142_11eb_b719_02420a39e772row45_col1\" class=\"data row45 col1\" >3.29</td>\n",
       "            </tr>\n",
       "            <tr>\n",
       "                        <th id=\"T_a020fd22_d142_11eb_b719_02420a39e772level0_row46\" class=\"row_heading level0 row46\" >46</th>\n",
       "                        <td id=\"T_a020fd22_d142_11eb_b719_02420a39e772row46_col0\" class=\"data row46 col0\" >Махачкала</td>\n",
       "                        <td id=\"T_a020fd22_d142_11eb_b719_02420a39e772row46_col1\" class=\"data row46 col1\" >3.29</td>\n",
       "            </tr>\n",
       "            <tr>\n",
       "                        <th id=\"T_a020fd22_d142_11eb_b719_02420a39e772level0_row47\" class=\"row_heading level0 row47\" >47</th>\n",
       "                        <td id=\"T_a020fd22_d142_11eb_b719_02420a39e772row47_col0\" class=\"data row47 col0\" >Когалым</td>\n",
       "                        <td id=\"T_a020fd22_d142_11eb_b719_02420a39e772row47_col1\" class=\"data row47 col1\" >3.16</td>\n",
       "            </tr>\n",
       "            <tr>\n",
       "                        <th id=\"T_a020fd22_d142_11eb_b719_02420a39e772level0_row48\" class=\"row_heading level0 row48\" >48</th>\n",
       "                        <td id=\"T_a020fd22_d142_11eb_b719_02420a39e772row48_col0\" class=\"data row48 col0\" >Нижневартовск</td>\n",
       "                        <td id=\"T_a020fd22_d142_11eb_b719_02420a39e772row48_col1\" class=\"data row48 col1\" >3.13</td>\n",
       "            </tr>\n",
       "            <tr>\n",
       "                        <th id=\"T_a020fd22_d142_11eb_b719_02420a39e772level0_row49\" class=\"row_heading level0 row49\" >49</th>\n",
       "                        <td id=\"T_a020fd22_d142_11eb_b719_02420a39e772row49_col0\" class=\"data row49 col0\" >Владивосток</td>\n",
       "                        <td id=\"T_a020fd22_d142_11eb_b719_02420a39e772row49_col1\" class=\"data row49 col1\" >3</td>\n",
       "            </tr>\n",
       "            <tr>\n",
       "                        <th id=\"T_a020fd22_d142_11eb_b719_02420a39e772level0_row50\" class=\"row_heading level0 row50\" >50</th>\n",
       "                        <td id=\"T_a020fd22_d142_11eb_b719_02420a39e772row50_col0\" class=\"data row50 col0\" >Самара</td>\n",
       "                        <td id=\"T_a020fd22_d142_11eb_b719_02420a39e772row50_col1\" class=\"data row50 col1\" >3</td>\n",
       "            </tr>\n",
       "            <tr>\n",
       "                        <th id=\"T_a020fd22_d142_11eb_b719_02420a39e772level0_row51\" class=\"row_heading level0 row51\" >51</th>\n",
       "                        <td id=\"T_a020fd22_d142_11eb_b719_02420a39e772row51_col0\" class=\"data row51 col0\" >Нальчик</td>\n",
       "                        <td id=\"T_a020fd22_d142_11eb_b719_02420a39e772row51_col1\" class=\"data row51 col1\" >3</td>\n",
       "            </tr>\n",
       "            <tr>\n",
       "                        <th id=\"T_a020fd22_d142_11eb_b719_02420a39e772level0_row52\" class=\"row_heading level0 row52\" >52</th>\n",
       "                        <td id=\"T_a020fd22_d142_11eb_b719_02420a39e772row52_col0\" class=\"data row52 col0\" >Ухта</td>\n",
       "                        <td id=\"T_a020fd22_d142_11eb_b719_02420a39e772row52_col1\" class=\"data row52 col1\" >3</td>\n",
       "            </tr>\n",
       "            <tr>\n",
       "                        <th id=\"T_a020fd22_d142_11eb_b719_02420a39e772level0_row53\" class=\"row_heading level0 row53\" >53</th>\n",
       "                        <td id=\"T_a020fd22_d142_11eb_b719_02420a39e772row53_col0\" class=\"data row53 col0\" >Удачный</td>\n",
       "                        <td id=\"T_a020fd22_d142_11eb_b719_02420a39e772row53_col1\" class=\"data row53 col1\" >3</td>\n",
       "            </tr>\n",
       "            <tr>\n",
       "                        <th id=\"T_a020fd22_d142_11eb_b719_02420a39e772level0_row54\" class=\"row_heading level0 row54\" >54</th>\n",
       "                        <td id=\"T_a020fd22_d142_11eb_b719_02420a39e772row54_col0\" class=\"data row54 col0\" >Бугульма</td>\n",
       "                        <td id=\"T_a020fd22_d142_11eb_b719_02420a39e772row54_col1\" class=\"data row54 col1\" >3</td>\n",
       "            </tr>\n",
       "            <tr>\n",
       "                        <th id=\"T_a020fd22_d142_11eb_b719_02420a39e772level0_row55\" class=\"row_heading level0 row55\" >55</th>\n",
       "                        <td id=\"T_a020fd22_d142_11eb_b719_02420a39e772row55_col0\" class=\"data row55 col0\" >Ноябрьск</td>\n",
       "                        <td id=\"T_a020fd22_d142_11eb_b719_02420a39e772row55_col1\" class=\"data row55 col1\" >3</td>\n",
       "            </tr>\n",
       "            <tr>\n",
       "                        <th id=\"T_a020fd22_d142_11eb_b719_02420a39e772level0_row56\" class=\"row_heading level0 row56\" >56</th>\n",
       "                        <td id=\"T_a020fd22_d142_11eb_b719_02420a39e772row56_col0\" class=\"data row56 col0\" >Усть-Илимск</td>\n",
       "                        <td id=\"T_a020fd22_d142_11eb_b719_02420a39e772row56_col1\" class=\"data row56 col1\" >2.87</td>\n",
       "            </tr>\n",
       "            <tr>\n",
       "                        <th id=\"T_a020fd22_d142_11eb_b719_02420a39e772level0_row57\" class=\"row_heading level0 row57\" >57</th>\n",
       "                        <td id=\"T_a020fd22_d142_11eb_b719_02420a39e772row57_col0\" class=\"data row57 col0\" >Якутск</td>\n",
       "                        <td id=\"T_a020fd22_d142_11eb_b719_02420a39e772row57_col1\" class=\"data row57 col1\" >2.74</td>\n",
       "            </tr>\n",
       "            <tr>\n",
       "                        <th id=\"T_a020fd22_d142_11eb_b719_02420a39e772level0_row58\" class=\"row_heading level0 row58\" >58</th>\n",
       "                        <td id=\"T_a020fd22_d142_11eb_b719_02420a39e772row58_col0\" class=\"data row58 col0\" >Барнаул</td>\n",
       "                        <td id=\"T_a020fd22_d142_11eb_b719_02420a39e772row58_col1\" class=\"data row58 col1\" >2.61</td>\n",
       "            </tr>\n",
       "            <tr>\n",
       "                        <th id=\"T_a020fd22_d142_11eb_b719_02420a39e772level0_row59\" class=\"row_heading level0 row59\" >59</th>\n",
       "                        <td id=\"T_a020fd22_d142_11eb_b719_02420a39e772row59_col0\" class=\"data row59 col0\" >Нарьян-Мар</td>\n",
       "                        <td id=\"T_a020fd22_d142_11eb_b719_02420a39e772row59_col1\" class=\"data row59 col1\" >2.61</td>\n",
       "            </tr>\n",
       "            <tr>\n",
       "                        <th id=\"T_a020fd22_d142_11eb_b719_02420a39e772level0_row60\" class=\"row_heading level0 row60\" >60</th>\n",
       "                        <td id=\"T_a020fd22_d142_11eb_b719_02420a39e772row60_col0\" class=\"data row60 col0\" >Геленджик</td>\n",
       "                        <td id=\"T_a020fd22_d142_11eb_b719_02420a39e772row60_col1\" class=\"data row60 col1\" >2.59</td>\n",
       "            </tr>\n",
       "            <tr>\n",
       "                        <th id=\"T_a020fd22_d142_11eb_b719_02420a39e772level0_row61\" class=\"row_heading level0 row61\" >61</th>\n",
       "                        <td id=\"T_a020fd22_d142_11eb_b719_02420a39e772row61_col0\" class=\"data row61 col0\" >Калининград</td>\n",
       "                        <td id=\"T_a020fd22_d142_11eb_b719_02420a39e772row61_col1\" class=\"data row61 col1\" >2.58</td>\n",
       "            </tr>\n",
       "            <tr>\n",
       "                        <th id=\"T_a020fd22_d142_11eb_b719_02420a39e772level0_row62\" class=\"row_heading level0 row62\" >62</th>\n",
       "                        <td id=\"T_a020fd22_d142_11eb_b719_02420a39e772row62_col0\" class=\"data row62 col0\" >Нерюнгри</td>\n",
       "                        <td id=\"T_a020fd22_d142_11eb_b719_02420a39e772row62_col1\" class=\"data row62 col1\" >2.58</td>\n",
       "            </tr>\n",
       "            <tr>\n",
       "                        <th id=\"T_a020fd22_d142_11eb_b719_02420a39e772level0_row63\" class=\"row_heading level0 row63\" >63</th>\n",
       "                        <td id=\"T_a020fd22_d142_11eb_b719_02420a39e772row63_col0\" class=\"data row63 col0\" >Астрахань</td>\n",
       "                        <td id=\"T_a020fd22_d142_11eb_b719_02420a39e772row63_col1\" class=\"data row63 col1\" >2.45</td>\n",
       "            </tr>\n",
       "            <tr>\n",
       "                        <th id=\"T_a020fd22_d142_11eb_b719_02420a39e772level0_row64\" class=\"row_heading level0 row64\" >64</th>\n",
       "                        <td id=\"T_a020fd22_d142_11eb_b719_02420a39e772row64_col0\" class=\"data row64 col0\" >Курск</td>\n",
       "                        <td id=\"T_a020fd22_d142_11eb_b719_02420a39e772row64_col1\" class=\"data row64 col1\" >2.29</td>\n",
       "            </tr>\n",
       "            <tr>\n",
       "                        <th id=\"T_a020fd22_d142_11eb_b719_02420a39e772level0_row65\" class=\"row_heading level0 row65\" >65</th>\n",
       "                        <td id=\"T_a020fd22_d142_11eb_b719_02420a39e772row65_col0\" class=\"data row65 col0\" >Норильск</td>\n",
       "                        <td id=\"T_a020fd22_d142_11eb_b719_02420a39e772row65_col1\" class=\"data row65 col1\" >2.29</td>\n",
       "            </tr>\n",
       "            <tr>\n",
       "                        <th id=\"T_a020fd22_d142_11eb_b719_02420a39e772level0_row66\" class=\"row_heading level0 row66\" >66</th>\n",
       "                        <td id=\"T_a020fd22_d142_11eb_b719_02420a39e772row66_col0\" class=\"data row66 col0\" >Надым</td>\n",
       "                        <td id=\"T_a020fd22_d142_11eb_b719_02420a39e772row66_col1\" class=\"data row66 col1\" >2.29</td>\n",
       "            </tr>\n",
       "            <tr>\n",
       "                        <th id=\"T_a020fd22_d142_11eb_b719_02420a39e772level0_row67\" class=\"row_heading level0 row67\" >67</th>\n",
       "                        <td id=\"T_a020fd22_d142_11eb_b719_02420a39e772row67_col0\" class=\"data row67 col0\" >Анапа</td>\n",
       "                        <td id=\"T_a020fd22_d142_11eb_b719_02420a39e772row67_col1\" class=\"data row67 col1\" >2.16</td>\n",
       "            </tr>\n",
       "            <tr>\n",
       "                        <th id=\"T_a020fd22_d142_11eb_b719_02420a39e772level0_row68\" class=\"row_heading level0 row68\" >68</th>\n",
       "                        <td id=\"T_a020fd22_d142_11eb_b719_02420a39e772row68_col0\" class=\"data row68 col0\" >Череповец</td>\n",
       "                        <td id=\"T_a020fd22_d142_11eb_b719_02420a39e772row68_col1\" class=\"data row68 col1\" >2.16</td>\n",
       "            </tr>\n",
       "            <tr>\n",
       "                        <th id=\"T_a020fd22_d142_11eb_b719_02420a39e772level0_row69\" class=\"row_heading level0 row69\" >69</th>\n",
       "                        <td id=\"T_a020fd22_d142_11eb_b719_02420a39e772row69_col0\" class=\"data row69 col0\" >Калуга</td>\n",
       "                        <td id=\"T_a020fd22_d142_11eb_b719_02420a39e772row69_col1\" class=\"data row69 col1\" >2.03</td>\n",
       "            </tr>\n",
       "            <tr>\n",
       "                        <th id=\"T_a020fd22_d142_11eb_b719_02420a39e772level0_row70\" class=\"row_heading level0 row70\" >70</th>\n",
       "                        <td id=\"T_a020fd22_d142_11eb_b719_02420a39e772row70_col0\" class=\"data row70 col0\" >Владикавказ</td>\n",
       "                        <td id=\"T_a020fd22_d142_11eb_b719_02420a39e772row70_col1\" class=\"data row70 col1\" >2</td>\n",
       "            </tr>\n",
       "            <tr>\n",
       "                        <th id=\"T_a020fd22_d142_11eb_b719_02420a39e772level0_row71\" class=\"row_heading level0 row71\" >71</th>\n",
       "                        <td id=\"T_a020fd22_d142_11eb_b719_02420a39e772row71_col0\" class=\"data row71 col0\" >Белоярский</td>\n",
       "                        <td id=\"T_a020fd22_d142_11eb_b719_02420a39e772row71_col1\" class=\"data row71 col1\" >2</td>\n",
       "            </tr>\n",
       "            <tr>\n",
       "                        <th id=\"T_a020fd22_d142_11eb_b719_02420a39e772level0_row72\" class=\"row_heading level0 row72\" >72</th>\n",
       "                        <td id=\"T_a020fd22_d142_11eb_b719_02420a39e772row72_col0\" class=\"data row72 col0\" >Воронеж</td>\n",
       "                        <td id=\"T_a020fd22_d142_11eb_b719_02420a39e772row72_col1\" class=\"data row72 col1\" >2</td>\n",
       "            </tr>\n",
       "            <tr>\n",
       "                        <th id=\"T_a020fd22_d142_11eb_b719_02420a39e772level0_row73\" class=\"row_heading level0 row73\" >73</th>\n",
       "                        <td id=\"T_a020fd22_d142_11eb_b719_02420a39e772row73_col0\" class=\"data row73 col0\" >Ставрополь</td>\n",
       "                        <td id=\"T_a020fd22_d142_11eb_b719_02420a39e772row73_col1\" class=\"data row73 col1\" >2</td>\n",
       "            </tr>\n",
       "            <tr>\n",
       "                        <th id=\"T_a020fd22_d142_11eb_b719_02420a39e772level0_row74\" class=\"row_heading level0 row74\" >74</th>\n",
       "                        <td id=\"T_a020fd22_d142_11eb_b719_02420a39e772row74_col0\" class=\"data row74 col0\" >Саранск</td>\n",
       "                        <td id=\"T_a020fd22_d142_11eb_b719_02420a39e772row74_col1\" class=\"data row74 col1\" >2</td>\n",
       "            </tr>\n",
       "            <tr>\n",
       "                        <th id=\"T_a020fd22_d142_11eb_b719_02420a39e772level0_row75\" class=\"row_heading level0 row75\" >75</th>\n",
       "                        <td id=\"T_a020fd22_d142_11eb_b719_02420a39e772row75_col0\" class=\"data row75 col0\" >Салехард</td>\n",
       "                        <td id=\"T_a020fd22_d142_11eb_b719_02420a39e772row75_col1\" class=\"data row75 col1\" >2</td>\n",
       "            </tr>\n",
       "            <tr>\n",
       "                        <th id=\"T_a020fd22_d142_11eb_b719_02420a39e772level0_row76\" class=\"row_heading level0 row76\" >76</th>\n",
       "                        <td id=\"T_a020fd22_d142_11eb_b719_02420a39e772row76_col0\" class=\"data row76 col0\" >Урай</td>\n",
       "                        <td id=\"T_a020fd22_d142_11eb_b719_02420a39e772row76_col1\" class=\"data row76 col1\" >2</td>\n",
       "            </tr>\n",
       "            <tr>\n",
       "                        <th id=\"T_a020fd22_d142_11eb_b719_02420a39e772level0_row77\" class=\"row_heading level0 row77\" >77</th>\n",
       "                        <td id=\"T_a020fd22_d142_11eb_b719_02420a39e772row77_col0\" class=\"data row77 col0\" >Мурманск</td>\n",
       "                        <td id=\"T_a020fd22_d142_11eb_b719_02420a39e772row77_col1\" class=\"data row77 col1\" >2</td>\n",
       "            </tr>\n",
       "            <tr>\n",
       "                        <th id=\"T_a020fd22_d142_11eb_b719_02420a39e772level0_row78\" class=\"row_heading level0 row78\" >78</th>\n",
       "                        <td id=\"T_a020fd22_d142_11eb_b719_02420a39e772row78_col0\" class=\"data row78 col0\" >Кемерово</td>\n",
       "                        <td id=\"T_a020fd22_d142_11eb_b719_02420a39e772row78_col1\" class=\"data row78 col1\" >2</td>\n",
       "            </tr>\n",
       "            <tr>\n",
       "                        <th id=\"T_a020fd22_d142_11eb_b719_02420a39e772level0_row79\" class=\"row_heading level0 row79\" >79</th>\n",
       "                        <td id=\"T_a020fd22_d142_11eb_b719_02420a39e772row79_col0\" class=\"data row79 col0\" >Улан-Удэ</td>\n",
       "                        <td id=\"T_a020fd22_d142_11eb_b719_02420a39e772row79_col1\" class=\"data row79 col1\" >1.61</td>\n",
       "            </tr>\n",
       "            <tr>\n",
       "                        <th id=\"T_a020fd22_d142_11eb_b719_02420a39e772level0_row80\" class=\"row_heading level0 row80\" >80</th>\n",
       "                        <td id=\"T_a020fd22_d142_11eb_b719_02420a39e772row80_col0\" class=\"data row80 col0\" >Орск</td>\n",
       "                        <td id=\"T_a020fd22_d142_11eb_b719_02420a39e772row80_col1\" class=\"data row80 col1\" >1.59</td>\n",
       "            </tr>\n",
       "            <tr>\n",
       "                        <th id=\"T_a020fd22_d142_11eb_b719_02420a39e772level0_row81\" class=\"row_heading level0 row81\" >81</th>\n",
       "                        <td id=\"T_a020fd22_d142_11eb_b719_02420a39e772row81_col0\" class=\"data row81 col0\" >Чита</td>\n",
       "                        <td id=\"T_a020fd22_d142_11eb_b719_02420a39e772row81_col1\" class=\"data row81 col1\" >1.58</td>\n",
       "            </tr>\n",
       "            <tr>\n",
       "                        <th id=\"T_a020fd22_d142_11eb_b719_02420a39e772level0_row82\" class=\"row_heading level0 row82\" >82</th>\n",
       "                        <td id=\"T_a020fd22_d142_11eb_b719_02420a39e772row82_col0\" class=\"data row82 col0\" >Псков</td>\n",
       "                        <td id=\"T_a020fd22_d142_11eb_b719_02420a39e772row82_col1\" class=\"data row82 col1\" >1.55</td>\n",
       "            </tr>\n",
       "            <tr>\n",
       "                        <th id=\"T_a020fd22_d142_11eb_b719_02420a39e772level0_row83\" class=\"row_heading level0 row83\" >83</th>\n",
       "                        <td id=\"T_a020fd22_d142_11eb_b719_02420a39e772row83_col0\" class=\"data row83 col0\" >Горно-Алтайск</td>\n",
       "                        <td id=\"T_a020fd22_d142_11eb_b719_02420a39e772row83_col1\" class=\"data row83 col1\" >1.39</td>\n",
       "            </tr>\n",
       "            <tr>\n",
       "                        <th id=\"T_a020fd22_d142_11eb_b719_02420a39e772level0_row84\" class=\"row_heading level0 row84\" >84</th>\n",
       "                        <td id=\"T_a020fd22_d142_11eb_b719_02420a39e772row84_col0\" class=\"data row84 col0\" >Магадан</td>\n",
       "                        <td id=\"T_a020fd22_d142_11eb_b719_02420a39e772row84_col1\" class=\"data row84 col1\" >1.36</td>\n",
       "            </tr>\n",
       "            <tr>\n",
       "                        <th id=\"T_a020fd22_d142_11eb_b719_02420a39e772level0_row85\" class=\"row_heading level0 row85\" >85</th>\n",
       "                        <td id=\"T_a020fd22_d142_11eb_b719_02420a39e772row85_col0\" class=\"data row85 col0\" >Ярославль</td>\n",
       "                        <td id=\"T_a020fd22_d142_11eb_b719_02420a39e772row85_col1\" class=\"data row85 col1\" >1.32</td>\n",
       "            </tr>\n",
       "            <tr>\n",
       "                        <th id=\"T_a020fd22_d142_11eb_b719_02420a39e772level0_row86\" class=\"row_heading level0 row86\" >86</th>\n",
       "                        <td id=\"T_a020fd22_d142_11eb_b719_02420a39e772row86_col0\" class=\"data row86 col0\" >Липецк</td>\n",
       "                        <td id=\"T_a020fd22_d142_11eb_b719_02420a39e772row86_col1\" class=\"data row86 col1\" >1.29</td>\n",
       "            </tr>\n",
       "            <tr>\n",
       "                        <th id=\"T_a020fd22_d142_11eb_b719_02420a39e772level0_row87\" class=\"row_heading level0 row87\" >87</th>\n",
       "                        <td id=\"T_a020fd22_d142_11eb_b719_02420a39e772row87_col0\" class=\"data row87 col0\" >Кызыл</td>\n",
       "                        <td id=\"T_a020fd22_d142_11eb_b719_02420a39e772row87_col1\" class=\"data row87 col1\" >1.28</td>\n",
       "            </tr>\n",
       "            <tr>\n",
       "                        <th id=\"T_a020fd22_d142_11eb_b719_02420a39e772level0_row88\" class=\"row_heading level0 row88\" >88</th>\n",
       "                        <td id=\"T_a020fd22_d142_11eb_b719_02420a39e772row88_col0\" class=\"data row88 col0\" >Грозный</td>\n",
       "                        <td id=\"T_a020fd22_d142_11eb_b719_02420a39e772row88_col1\" class=\"data row88 col1\" >1.13</td>\n",
       "            </tr>\n",
       "            <tr>\n",
       "                        <th id=\"T_a020fd22_d142_11eb_b719_02420a39e772level0_row89\" class=\"row_heading level0 row89\" >89</th>\n",
       "                        <td id=\"T_a020fd22_d142_11eb_b719_02420a39e772row89_col0\" class=\"data row89 col0\" >Усинск</td>\n",
       "                        <td id=\"T_a020fd22_d142_11eb_b719_02420a39e772row89_col1\" class=\"data row89 col1\" >1</td>\n",
       "            </tr>\n",
       "            <tr>\n",
       "                        <th id=\"T_a020fd22_d142_11eb_b719_02420a39e772level0_row90\" class=\"row_heading level0 row90\" >90</th>\n",
       "                        <td id=\"T_a020fd22_d142_11eb_b719_02420a39e772row90_col0\" class=\"data row90 col0\" >Усть-Кут</td>\n",
       "                        <td id=\"T_a020fd22_d142_11eb_b719_02420a39e772row90_col1\" class=\"data row90 col1\" >1</td>\n",
       "            </tr>\n",
       "            <tr>\n",
       "                        <th id=\"T_a020fd22_d142_11eb_b719_02420a39e772level0_row91\" class=\"row_heading level0 row91\" >91</th>\n",
       "                        <td id=\"T_a020fd22_d142_11eb_b719_02420a39e772row91_col0\" class=\"data row91 col0\" >Стрежевой</td>\n",
       "                        <td id=\"T_a020fd22_d142_11eb_b719_02420a39e772row91_col1\" class=\"data row91 col1\" >1</td>\n",
       "            </tr>\n",
       "            <tr>\n",
       "                        <th id=\"T_a020fd22_d142_11eb_b719_02420a39e772level0_row92\" class=\"row_heading level0 row92\" >92</th>\n",
       "                        <td id=\"T_a020fd22_d142_11eb_b719_02420a39e772row92_col0\" class=\"data row92 col0\" >Анадырь</td>\n",
       "                        <td id=\"T_a020fd22_d142_11eb_b719_02420a39e772row92_col1\" class=\"data row92 col1\" >1</td>\n",
       "            </tr>\n",
       "            <tr>\n",
       "                        <th id=\"T_a020fd22_d142_11eb_b719_02420a39e772level0_row93\" class=\"row_heading level0 row93\" >93</th>\n",
       "                        <td id=\"T_a020fd22_d142_11eb_b719_02420a39e772row93_col0\" class=\"data row93 col0\" >Братск</td>\n",
       "                        <td id=\"T_a020fd22_d142_11eb_b719_02420a39e772row93_col1\" class=\"data row93 col1\" >1</td>\n",
       "            </tr>\n",
       "            <tr>\n",
       "                        <th id=\"T_a020fd22_d142_11eb_b719_02420a39e772level0_row94\" class=\"row_heading level0 row94\" >94</th>\n",
       "                        <td id=\"T_a020fd22_d142_11eb_b719_02420a39e772row94_col0\" class=\"data row94 col0\" >Благовещенск</td>\n",
       "                        <td id=\"T_a020fd22_d142_11eb_b719_02420a39e772row94_col1\" class=\"data row94 col1\" >1</td>\n",
       "            </tr>\n",
       "            <tr>\n",
       "                        <th id=\"T_a020fd22_d142_11eb_b719_02420a39e772level0_row95\" class=\"row_heading level0 row95\" >95</th>\n",
       "                        <td id=\"T_a020fd22_d142_11eb_b719_02420a39e772row95_col0\" class=\"data row95 col0\" >Иваново</td>\n",
       "                        <td id=\"T_a020fd22_d142_11eb_b719_02420a39e772row95_col1\" class=\"data row95 col1\" >1</td>\n",
       "            </tr>\n",
       "            <tr>\n",
       "                        <th id=\"T_a020fd22_d142_11eb_b719_02420a39e772level0_row96\" class=\"row_heading level0 row96\" >96</th>\n",
       "                        <td id=\"T_a020fd22_d142_11eb_b719_02420a39e772row96_col0\" class=\"data row96 col0\" >Ижевск</td>\n",
       "                        <td id=\"T_a020fd22_d142_11eb_b719_02420a39e772row96_col1\" class=\"data row96 col1\" >1</td>\n",
       "            </tr>\n",
       "            <tr>\n",
       "                        <th id=\"T_a020fd22_d142_11eb_b719_02420a39e772level0_row97\" class=\"row_heading level0 row97\" >97</th>\n",
       "                        <td id=\"T_a020fd22_d142_11eb_b719_02420a39e772row97_col0\" class=\"data row97 col0\" >Петропавловск-Камчатский</td>\n",
       "                        <td id=\"T_a020fd22_d142_11eb_b719_02420a39e772row97_col1\" class=\"data row97 col1\" >1</td>\n",
       "            </tr>\n",
       "            <tr>\n",
       "                        <th id=\"T_a020fd22_d142_11eb_b719_02420a39e772level0_row98\" class=\"row_heading level0 row98\" >98</th>\n",
       "                        <td id=\"T_a020fd22_d142_11eb_b719_02420a39e772row98_col0\" class=\"data row98 col0\" >Комсомольск-на-Амуре</td>\n",
       "                        <td id=\"T_a020fd22_d142_11eb_b719_02420a39e772row98_col1\" class=\"data row98 col1\" >1</td>\n",
       "            </tr>\n",
       "            <tr>\n",
       "                        <th id=\"T_a020fd22_d142_11eb_b719_02420a39e772level0_row99\" class=\"row_heading level0 row99\" >99</th>\n",
       "                        <td id=\"T_a020fd22_d142_11eb_b719_02420a39e772row99_col0\" class=\"data row99 col0\" >Нягань</td>\n",
       "                        <td id=\"T_a020fd22_d142_11eb_b719_02420a39e772row99_col1\" class=\"data row99 col1\" >1</td>\n",
       "            </tr>\n",
       "            <tr>\n",
       "                        <th id=\"T_a020fd22_d142_11eb_b719_02420a39e772level0_row100\" class=\"row_heading level0 row100\" >100</th>\n",
       "                        <td id=\"T_a020fd22_d142_11eb_b719_02420a39e772row100_col0\" class=\"data row100 col0\" >Нефтеюганск</td>\n",
       "                        <td id=\"T_a020fd22_d142_11eb_b719_02420a39e772row100_col1\" class=\"data row100 col1\" >1</td>\n",
       "            </tr>\n",
       "    </tbody></table>"
      ],
      "text/plain": [
       "<pandas.io.formats.style.Styler at 0x7f436a050a10>"
      ]
     },
     "execution_count": 14,
     "metadata": {},
     "output_type": "execute_result"
    }
   ],
   "source": [
    "(city_and_average_flights.sort_values(by='average_flights', ascending=False).reset_index(drop=True).style\n",
    "                                        .bar(subset=['average_flights'], color='orange', vmin=0, width=100)\n",
    "                                        .set_caption('Данные по количеству совершенных полетов по каждой модели самолета')\n",
    ")"
   ]
  },
  {
   "cell_type": "markdown",
   "metadata": {},
   "source": [
    "### Построим график по среднему количеству рейсов в день по городам."
   ]
  },
  {
   "cell_type": "code",
   "execution_count": 15,
   "metadata": {},
   "outputs": [
    {
     "data": {
      "text/html": [
       "<div>\n",
       "<style scoped>\n",
       "    .dataframe tbody tr th:only-of-type {\n",
       "        vertical-align: middle;\n",
       "    }\n",
       "\n",
       "    .dataframe tbody tr th {\n",
       "        vertical-align: top;\n",
       "    }\n",
       "\n",
       "    .dataframe thead th {\n",
       "        text-align: right;\n",
       "    }\n",
       "</style>\n",
       "<table border=\"1\" class=\"dataframe\">\n",
       "  <thead>\n",
       "    <tr style=\"text-align: right;\">\n",
       "      <th></th>\n",
       "      <th>city</th>\n",
       "      <th>average_flights</th>\n",
       "    </tr>\n",
       "  </thead>\n",
       "  <tbody>\n",
       "    <tr>\n",
       "      <td>43</td>\n",
       "      <td>Москва</td>\n",
       "      <td>129.77</td>\n",
       "    </tr>\n",
       "    <tr>\n",
       "      <td>70</td>\n",
       "      <td>Санкт-Петербург</td>\n",
       "      <td>31.16</td>\n",
       "    </tr>\n",
       "    <tr>\n",
       "      <td>54</td>\n",
       "      <td>Новосибирск</td>\n",
       "      <td>17.32</td>\n",
       "    </tr>\n",
       "    <tr>\n",
       "      <td>33</td>\n",
       "      <td>Красноярск</td>\n",
       "      <td>11.58</td>\n",
       "    </tr>\n",
       "    <tr>\n",
       "      <td>20</td>\n",
       "      <td>Екатеринбург</td>\n",
       "      <td>11.32</td>\n",
       "    </tr>\n",
       "    <tr>\n",
       "      <td>67</td>\n",
       "      <td>Ростов-на-Дону</td>\n",
       "      <td>10.19</td>\n",
       "    </tr>\n",
       "    <tr>\n",
       "      <td>63</td>\n",
       "      <td>Пермь</td>\n",
       "      <td>10.13</td>\n",
       "    </tr>\n",
       "    <tr>\n",
       "      <td>10</td>\n",
       "      <td>Брянск</td>\n",
       "      <td>10.00</td>\n",
       "    </tr>\n",
       "    <tr>\n",
       "      <td>74</td>\n",
       "      <td>Сочи</td>\n",
       "      <td>9.61</td>\n",
       "    </tr>\n",
       "    <tr>\n",
       "      <td>84</td>\n",
       "      <td>Ульяновск</td>\n",
       "      <td>9.58</td>\n",
       "    </tr>\n",
       "  </tbody>\n",
       "</table>\n",
       "</div>"
      ],
      "text/plain": [
       "               city  average_flights\n",
       "43           Москва           129.77\n",
       "70  Санкт-Петербург            31.16\n",
       "54      Новосибирск            17.32\n",
       "33       Красноярск            11.58\n",
       "20     Екатеринбург            11.32\n",
       "67   Ростов-на-Дону            10.19\n",
       "63            Пермь            10.13\n",
       "10           Брянск            10.00\n",
       "74             Сочи             9.61\n",
       "84        Ульяновск             9.58"
      ]
     },
     "execution_count": 15,
     "metadata": {},
     "output_type": "execute_result"
    }
   ],
   "source": [
    "city_and_average_flights_plot = city_and_average_flights.sort_values(by='average_flights', ascending=False).head(10)\n",
    "city_and_average_flights_plot"
   ]
  },
  {
   "cell_type": "code",
   "execution_count": 28,
   "metadata": {},
   "outputs": [
    {
     "data": {
      "text/html": [
       "<div>\n",
       "<style scoped>\n",
       "    .dataframe tbody tr th:only-of-type {\n",
       "        vertical-align: middle;\n",
       "    }\n",
       "\n",
       "    .dataframe tbody tr th {\n",
       "        vertical-align: top;\n",
       "    }\n",
       "\n",
       "    .dataframe thead th {\n",
       "        text-align: right;\n",
       "    }\n",
       "</style>\n",
       "<table border=\"1\" class=\"dataframe\">\n",
       "  <thead>\n",
       "    <tr style=\"text-align: right;\">\n",
       "      <th></th>\n",
       "      <th>city</th>\n",
       "      <th>average_flights</th>\n",
       "    </tr>\n",
       "  </thead>\n",
       "  <tbody>\n",
       "    <tr>\n",
       "      <td>43</td>\n",
       "      <td>Москва</td>\n",
       "      <td>129.77</td>\n",
       "    </tr>\n",
       "    <tr>\n",
       "      <td>70</td>\n",
       "      <td>Санкт-Петербург</td>\n",
       "      <td>31.16</td>\n",
       "    </tr>\n",
       "    <tr>\n",
       "      <td>54</td>\n",
       "      <td>Новосибирск</td>\n",
       "      <td>17.32</td>\n",
       "    </tr>\n",
       "    <tr>\n",
       "      <td>33</td>\n",
       "      <td>Красноярск</td>\n",
       "      <td>11.58</td>\n",
       "    </tr>\n",
       "    <tr>\n",
       "      <td>20</td>\n",
       "      <td>Екатеринбург</td>\n",
       "      <td>11.32</td>\n",
       "    </tr>\n",
       "    <tr>\n",
       "      <td>67</td>\n",
       "      <td>Ростов-на-Дону</td>\n",
       "      <td>10.19</td>\n",
       "    </tr>\n",
       "    <tr>\n",
       "      <td>63</td>\n",
       "      <td>Пермь</td>\n",
       "      <td>10.13</td>\n",
       "    </tr>\n",
       "    <tr>\n",
       "      <td>10</td>\n",
       "      <td>Брянск</td>\n",
       "      <td>10.00</td>\n",
       "    </tr>\n",
       "    <tr>\n",
       "      <td>74</td>\n",
       "      <td>Сочи</td>\n",
       "      <td>9.61</td>\n",
       "    </tr>\n",
       "    <tr>\n",
       "      <td>84</td>\n",
       "      <td>Ульяновск</td>\n",
       "      <td>9.58</td>\n",
       "    </tr>\n",
       "  </tbody>\n",
       "</table>\n",
       "</div>"
      ],
      "text/plain": [
       "               city  average_flights\n",
       "43           Москва           129.77\n",
       "70  Санкт-Петербург            31.16\n",
       "54      Новосибирск            17.32\n",
       "33       Красноярск            11.58\n",
       "20     Екатеринбург            11.32\n",
       "67   Ростов-на-Дону            10.19\n",
       "63            Пермь            10.13\n",
       "10           Брянск            10.00\n",
       "74             Сочи             9.61\n",
       "84        Ульяновск             9.58"
      ]
     },
     "execution_count": 28,
     "metadata": {},
     "output_type": "execute_result"
    }
   ],
   "source": [
    "top_10 = city_and_average_flights.nlargest(10, 'average_flights')\n",
    "top_10"
   ]
  },
  {
   "cell_type": "code",
   "execution_count": 16,
   "metadata": {
    "scrolled": true
   },
   "outputs": [
    {
     "data": {
      "image/png": "[encoded data removed]",
      "text/plain": [
       "<Figure size 360x360 with 1 Axes>"
      ]
     },
     "metadata": {
      "needs_background": "light"
     },
     "output_type": "display_data"
    }
   ],
   "source": [
    "city_and_average_flights_plot.sort_values(by='average_flights').plot(x='city',\n",
    "                                                                     y='average_flights',\n",
    "                                                                     kind='barh',\n",
    "                                                                     color='darkcyan', \n",
    "                                                                     ec='black',\n",
    "                                                                     grid=True,\n",
    "                                                                     figsize=(5, 5)).get_legend().remove()\n",
    "plt.title('Данные по среднему количеству рейсов в день по городам')\n",
    "plt.xlabel('Город')\n",
    "plt.ylabel('Среднее число рейсов')\n",
    "plt.show();"
   ]
  },
  {
   "cell_type": "markdown",
   "metadata": {},
   "source": [
    "Построим график по среднему количеству рейсов в день по городам (все города)."
   ]
  },
  {
   "cell_type": "code",
   "execution_count": 17,
   "metadata": {},
   "outputs": [
    {
     "data": {
      "image/png": "[encoded data removed]",
      "text/plain": [
       "<Figure size 360x2520 with 1 Axes>"
      ]
     },
     "metadata": {
      "needs_background": "light"
     },
     "output_type": "display_data"
    }
   ],
   "source": [
    "city_and_average_flights\n",
    "city_and_average_flights.sort_values(by='average_flights').plot(x='city',\n",
    "                                                                     y='average_flights',\n",
    "                                                                     kind='barh',\n",
    "                                                                     color='sandybrown', \n",
    "                                                                     ec='black',\n",
    "                                                                     grid=True,\n",
    "                                                                     figsize=(5,35)).get_legend().remove()\n",
    "plt.title('Данные по по среднему количеству рейсов в день по городам (все города)')\n",
    "plt.xlabel('Город')\n",
    "plt.ylabel('Среднее число рейсов')\n",
    "plt.show();"
   ]
  },
  {
   "cell_type": "markdown",
   "metadata": {},
   "source": [
    "# Промежуточный вывод\n",
    "Ожидаемо, что Москва впереди — это транспортный пул в любое время года. 2 место занимает Санкт-Пеербург, а 3 место - Новосибирск  Остальные города отличаются более низкими значениями."
   ]
  },
  {
   "cell_type": "markdown",
   "metadata": {},
   "source": [
    "## Загружаем датафрейм с фестивалями."
   ]
  },
  {
   "cell_type": "code",
   "execution_count": 18,
   "metadata": {},
   "outputs": [],
   "source": [
    "festivals = pd.read_csv('/datasets/query_last.csv')"
   ]
  },
  {
   "cell_type": "code",
   "execution_count": 19,
   "metadata": {},
   "outputs": [
    {
     "name": "stdout",
     "output_type": "stream",
     "text": [
      "Количество строк - 10\n"
     ]
    }
   ],
   "source": [
    "print('Количество строк - {}'.format(festivals.shape[0]))"
   ]
  },
  {
   "cell_type": "code",
   "execution_count": 20,
   "metadata": {},
   "outputs": [
    {
     "data": {
      "text/html": [
       "<style  type=\"text/css\" >\n",
       "</style><table id=\"T_a140ea1e_d142_11eb_b719_02420a39e772\" ><caption>Данные по фестивалям</caption><thead>    <tr>        <th class=\"blank level0\" ></th>        <th class=\"col_heading level0 col0\" >week_number</th>        <th class=\"col_heading level0 col1\" >ticket_amount</th>        <th class=\"col_heading level0 col2\" >festival_week</th>        <th class=\"col_heading level0 col3\" >festival_name</th>    </tr></thead><tbody>\n",
       "                <tr>\n",
       "                        <th id=\"T_a140ea1e_d142_11eb_b719_02420a39e772level0_row0\" class=\"row_heading level0 row0\" >0</th>\n",
       "                        <td id=\"T_a140ea1e_d142_11eb_b719_02420a39e772row0_col0\" class=\"data row0 col0\" >30</td>\n",
       "                        <td id=\"T_a140ea1e_d142_11eb_b719_02420a39e772row0_col1\" class=\"data row0 col1\" >43568</td>\n",
       "                        <td id=\"T_a140ea1e_d142_11eb_b719_02420a39e772row0_col2\" class=\"data row0 col2\" >30</td>\n",
       "                        <td id=\"T_a140ea1e_d142_11eb_b719_02420a39e772row0_col3\" class=\"data row0 col3\" >Park Live</td>\n",
       "            </tr>\n",
       "            <tr>\n",
       "                        <th id=\"T_a140ea1e_d142_11eb_b719_02420a39e772level0_row1\" class=\"row_heading level0 row1\" >1</th>\n",
       "                        <td id=\"T_a140ea1e_d142_11eb_b719_02420a39e772row1_col0\" class=\"data row1 col0\" >31</td>\n",
       "                        <td id=\"T_a140ea1e_d142_11eb_b719_02420a39e772row1_col1\" class=\"data row1 col1\" >51034</td>\n",
       "                        <td id=\"T_a140ea1e_d142_11eb_b719_02420a39e772row1_col2\" class=\"data row1 col2\" >31</td>\n",
       "                        <td id=\"T_a140ea1e_d142_11eb_b719_02420a39e772row1_col3\" class=\"data row1 col3\" >Пикник Афиши</td>\n",
       "            </tr>\n",
       "            <tr>\n",
       "                        <th id=\"T_a140ea1e_d142_11eb_b719_02420a39e772level0_row2\" class=\"row_heading level0 row2\" >2</th>\n",
       "                        <td id=\"T_a140ea1e_d142_11eb_b719_02420a39e772row2_col0\" class=\"data row2 col0\" >32</td>\n",
       "                        <td id=\"T_a140ea1e_d142_11eb_b719_02420a39e772row2_col1\" class=\"data row2 col1\" >51675</td>\n",
       "                        <td id=\"T_a140ea1e_d142_11eb_b719_02420a39e772row2_col2\" class=\"data row2 col2\" >nan</td>\n",
       "                        <td id=\"T_a140ea1e_d142_11eb_b719_02420a39e772row2_col3\" class=\"data row2 col3\" >nan</td>\n",
       "            </tr>\n",
       "            <tr>\n",
       "                        <th id=\"T_a140ea1e_d142_11eb_b719_02420a39e772level0_row3\" class=\"row_heading level0 row3\" >3</th>\n",
       "                        <td id=\"T_a140ea1e_d142_11eb_b719_02420a39e772row3_col0\" class=\"data row3 col0\" >33</td>\n",
       "                        <td id=\"T_a140ea1e_d142_11eb_b719_02420a39e772row3_col1\" class=\"data row3 col1\" >51378</td>\n",
       "                        <td id=\"T_a140ea1e_d142_11eb_b719_02420a39e772row3_col2\" class=\"data row3 col2\" >nan</td>\n",
       "                        <td id=\"T_a140ea1e_d142_11eb_b719_02420a39e772row3_col3\" class=\"data row3 col3\" >nan</td>\n",
       "            </tr>\n",
       "            <tr>\n",
       "                        <th id=\"T_a140ea1e_d142_11eb_b719_02420a39e772level0_row4\" class=\"row_heading level0 row4\" >4</th>\n",
       "                        <td id=\"T_a140ea1e_d142_11eb_b719_02420a39e772row4_col0\" class=\"data row4 col0\" >34</td>\n",
       "                        <td id=\"T_a140ea1e_d142_11eb_b719_02420a39e772row4_col1\" class=\"data row4 col1\" >51492</td>\n",
       "                        <td id=\"T_a140ea1e_d142_11eb_b719_02420a39e772row4_col2\" class=\"data row4 col2\" >nan</td>\n",
       "                        <td id=\"T_a140ea1e_d142_11eb_b719_02420a39e772row4_col3\" class=\"data row4 col3\" >nan</td>\n",
       "            </tr>\n",
       "            <tr>\n",
       "                        <th id=\"T_a140ea1e_d142_11eb_b719_02420a39e772level0_row5\" class=\"row_heading level0 row5\" >5</th>\n",
       "                        <td id=\"T_a140ea1e_d142_11eb_b719_02420a39e772row5_col0\" class=\"data row5 col0\" >35</td>\n",
       "                        <td id=\"T_a140ea1e_d142_11eb_b719_02420a39e772row5_col1\" class=\"data row5 col1\" >51360</td>\n",
       "                        <td id=\"T_a140ea1e_d142_11eb_b719_02420a39e772row5_col2\" class=\"data row5 col2\" >nan</td>\n",
       "                        <td id=\"T_a140ea1e_d142_11eb_b719_02420a39e772row5_col3\" class=\"data row5 col3\" >nan</td>\n",
       "            </tr>\n",
       "            <tr>\n",
       "                        <th id=\"T_a140ea1e_d142_11eb_b719_02420a39e772level0_row6\" class=\"row_heading level0 row6\" >6</th>\n",
       "                        <td id=\"T_a140ea1e_d142_11eb_b719_02420a39e772row6_col0\" class=\"data row6 col0\" >36</td>\n",
       "                        <td id=\"T_a140ea1e_d142_11eb_b719_02420a39e772row6_col1\" class=\"data row6 col1\" >51386</td>\n",
       "                        <td id=\"T_a140ea1e_d142_11eb_b719_02420a39e772row6_col2\" class=\"data row6 col2\" >36</td>\n",
       "                        <td id=\"T_a140ea1e_d142_11eb_b719_02420a39e772row6_col3\" class=\"data row6 col3\" >Видфест</td>\n",
       "            </tr>\n",
       "            <tr>\n",
       "                        <th id=\"T_a140ea1e_d142_11eb_b719_02420a39e772level0_row7\" class=\"row_heading level0 row7\" >7</th>\n",
       "                        <td id=\"T_a140ea1e_d142_11eb_b719_02420a39e772row7_col0\" class=\"data row7 col0\" >37</td>\n",
       "                        <td id=\"T_a140ea1e_d142_11eb_b719_02420a39e772row7_col1\" class=\"data row7 col1\" >51670</td>\n",
       "                        <td id=\"T_a140ea1e_d142_11eb_b719_02420a39e772row7_col2\" class=\"data row7 col2\" >nan</td>\n",
       "                        <td id=\"T_a140ea1e_d142_11eb_b719_02420a39e772row7_col3\" class=\"data row7 col3\" >nan</td>\n",
       "            </tr>\n",
       "            <tr>\n",
       "                        <th id=\"T_a140ea1e_d142_11eb_b719_02420a39e772level0_row8\" class=\"row_heading level0 row8\" >8</th>\n",
       "                        <td id=\"T_a140ea1e_d142_11eb_b719_02420a39e772row8_col0\" class=\"data row8 col0\" >38</td>\n",
       "                        <td id=\"T_a140ea1e_d142_11eb_b719_02420a39e772row8_col1\" class=\"data row8 col1\" >51518</td>\n",
       "                        <td id=\"T_a140ea1e_d142_11eb_b719_02420a39e772row8_col2\" class=\"data row8 col2\" >nan</td>\n",
       "                        <td id=\"T_a140ea1e_d142_11eb_b719_02420a39e772row8_col3\" class=\"data row8 col3\" >nan</td>\n",
       "            </tr>\n",
       "            <tr>\n",
       "                        <th id=\"T_a140ea1e_d142_11eb_b719_02420a39e772level0_row9\" class=\"row_heading level0 row9\" >9</th>\n",
       "                        <td id=\"T_a140ea1e_d142_11eb_b719_02420a39e772row9_col0\" class=\"data row9 col0\" >39</td>\n",
       "                        <td id=\"T_a140ea1e_d142_11eb_b719_02420a39e772row9_col1\" class=\"data row9 col1\" >51623</td>\n",
       "                        <td id=\"T_a140ea1e_d142_11eb_b719_02420a39e772row9_col2\" class=\"data row9 col2\" >nan</td>\n",
       "                        <td id=\"T_a140ea1e_d142_11eb_b719_02420a39e772row9_col3\" class=\"data row9 col3\" >nan</td>\n",
       "            </tr>\n",
       "    </tbody></table>"
      ],
      "text/plain": [
       "<pandas.io.formats.style.Styler at 0x7f43692e4710>"
      ]
     },
     "execution_count": 20,
     "metadata": {},
     "output_type": "execute_result"
    }
   ],
   "source": [
    "festivals.style.set_caption('Данные по фестивалям')"
   ]
  },
  {
   "cell_type": "code",
   "execution_count": 21,
   "metadata": {},
   "outputs": [
    {
     "name": "stdout",
     "output_type": "stream",
     "text": [
      "<class 'pandas.core.frame.DataFrame'>\n",
      "RangeIndex: 10 entries, 0 to 9\n",
      "Data columns (total 4 columns):\n",
      "week_number      10 non-null int64\n",
      "ticket_amount    10 non-null int64\n",
      "festival_week    3 non-null float64\n",
      "festival_name    3 non-null object\n",
      "dtypes: float64(1), int64(2), object(1)\n",
      "memory usage: 448.0+ bytes\n"
     ]
    }
   ],
   "source": [
    "festivals.info()"
   ]
  },
  {
   "cell_type": "markdown",
   "metadata": {},
   "source": [
    "# Промежуточный вывод\n",
    "Данные нормальные, с ними можно работать. NaN'ы нам не помешают, а наоборот, даже помогут при формировании датафреймов с днями, когда был фестиваль и когда не был.\n",
    "\n",
    "\n",
    "### Формулировка гипотезы\n",
    "\n",
    "Гипотеза: «Средний спрос на билеты во время фестивалей не отличается от среднего спроса на билеты в обычное время».\n",
    "\n",
    "Для проверки гипотезы будем использовать t-критерий Стьюдента, т.к. выборки независимы между собой.\n",
    "Определим пороговое значение alpha = 0.05.\n",
    "\n",
    "Н0: (предположение о том, что между данными у нас нет связи) Средний спрос на билеты во время фестивалей не отличается от среднего спроса на билеты в обычное время\n",
    "Н1: Средний спрос на билеты во время фестивалей отличается от среднего спроса на билеты в обычное время\n",
    "\n",
    "Формируем 2 датафрейма: 1 - с неделями, когда были фестивали; 2 - с неделями, когда фестивалей не проводилось:"
   ]
  },
  {
   "cell_type": "code",
   "execution_count": 22,
   "metadata": {},
   "outputs": [],
   "source": [
    "festival_days = festivals[festivals['festival_week'].notnull()]['ticket_amount']\n",
    "not_festival_dats = festivals[festivals['festival_week'].isnull()]['ticket_amount']"
   ]
  },
  {
   "cell_type": "markdown",
   "metadata": {},
   "source": [
    "### Проверка гипотезы.\n",
    "Установим параметр equal_var = False, т.к. пусть и выборки независимы между собой, но мы не уверены, что они имеют одинаковую дисперсию:"
   ]
  },
  {
   "cell_type": "code",
   "execution_count": 23,
   "metadata": {},
   "outputs": [],
   "source": [
    "from scipy.stats import ttest_ind\n",
    "import scipy.stats as st"
   ]
  },
  {
   "cell_type": "code",
   "execution_count": 24,
   "metadata": {},
   "outputs": [
    {
     "name": "stdout",
     "output_type": "stream",
     "text": [
      "t = -1.1248513751916296\n",
      "p-value = 3.7743249317e-01\n",
      "\n",
      "Пороговое значение alpha = 0.05\n",
      "\n",
      "Итог - оставляем в силе нулевую гипотезу\n"
     ]
    }
   ],
   "source": [
    "stat, p = ttest_ind(festival_days, not_festival_dats, equal_var=False)\n",
    "print('t = {}\\np-value = {:.10e}'.format(stat, p))\n",
    "print('\\nПороговое значение alpha = 0.05')\n",
    "print('\\nИтог - {}'.format('отклоняем нулевую гипотезу' if p <= 0.05 else 'оставляем в силе нулевую гипотезу'))"
   ]
  },
  {
   "cell_type": "markdown",
   "metadata": {},
   "source": [
    "# Промежуточный вывод\n",
    "\n",
    "Получается, что верно следующее утверждение - H0 \"Средний спрос на билеты во время фестивалей не отличается от среднего спроса на билеты в обычное время\".\n",
    "\n",
    "# Общий вывод\n",
    "В результате проведеной проектной работе мной были рассмотрены данные нескольких файлов и совершена предобработка. Данные были проверены на наличие пропущенных значений, некорретные типы данных. Все данные представлены в удобном формате. На основании всего вышесказанного мы можем констатировать следующее - самыми используемыми моделями самолета (в сентябре 2018 года) являются Cessna 208 Caravan, Bombardier CRJ-200 и Sukhoi SuperJet-100. Небольшие самолёты приносят меньший доход, в сравнении с Airbus и Boeing. Однако, в связи с международной обстановкой, общим экономическим кризисом:\n",
    "- количество вылетом в другие страны в разы сократились,\n",
    "- платежеспособность населения снижена,\n",
    "- число желающих путешествовать, тем более на дальние расстояния сократилось.\n",
    "\n",
    "Использование таких моделей как Airbus и Boeing - нерентабельно, в связи с затратами и неполной окупаемостью.\n",
    "\n",
    "В тоже время пришли к выводу, что в дни фестивалей средний спрос на авиабилеты не отличается от спрос на авиабилеты в те дни, когда фестивали не проводятся."
   ]
  }
 ],
 "metadata": {
  "ExecuteTimeLog": [
   {
    "duration": 98,
    "start_time": "2021-06-13T14:49:19.747Z"
   },
   {
    "duration": 1256,
    "start_time": "2021-06-15T15:53:20.445Z"
   },
   {
    "duration": 4,
    "start_time": "2021-06-15T15:53:33.881Z"
   },
   {
    "duration": 4,
    "start_time": "2021-06-15T15:53:35.880Z"
   },
   {
    "duration": 43,
    "start_time": "2021-06-15T15:53:38.583Z"
   },
   {
    "duration": 346,
    "start_time": "2021-06-15T15:53:46.055Z"
   },
   {
    "duration": 565,
    "start_time": "2021-06-15T15:54:08.604Z"
   },
   {
    "duration": 248,
    "start_time": "2021-06-15T15:54:34.334Z"
   },
   {
    "duration": 8,
    "start_time": "2021-06-15T15:54:41.640Z"
   },
   {
    "duration": 22,
    "start_time": "2021-06-15T15:55:20.108Z"
   },
   {
    "duration": 9,
    "start_time": "2021-06-15T15:55:21.987Z"
   },
   {
    "duration": 11,
    "start_time": "2021-06-15T15:55:29.123Z"
   },
   {
    "duration": 285,
    "start_time": "2021-06-15T15:55:36.300Z"
   },
   {
    "duration": 19,
    "start_time": "2021-06-15T15:55:48.585Z"
   },
   {
    "duration": 629,
    "start_time": "2021-06-15T15:56:03.140Z"
   },
   {
    "duration": 340,
    "start_time": "2021-06-15T15:56:41.489Z"
   },
   {
    "duration": 5,
    "start_time": "2021-06-15T15:57:07.461Z"
   },
   {
    "duration": 11,
    "start_time": "2021-06-15T15:57:13.002Z"
   },
   {
    "duration": 26,
    "start_time": "2021-06-15T15:57:53.518Z"
   },
   {
    "duration": 674,
    "start_time": "2021-06-15T16:03:48.019Z"
   },
   {
    "duration": 672,
    "start_time": "2021-06-15T16:04:51.230Z"
   },
   {
    "duration": 666,
    "start_time": "2021-06-15T16:05:03.943Z"
   },
   {
    "duration": 313,
    "start_time": "2021-06-15T16:05:13.150Z"
   },
   {
    "duration": 300,
    "start_time": "2021-06-15T16:05:38.547Z"
   },
   {
    "duration": 300,
    "start_time": "2021-06-15T16:06:15.111Z"
   },
   {
    "duration": 318,
    "start_time": "2021-06-15T16:06:29.338Z"
   },
   {
    "duration": 279,
    "start_time": "2021-06-15T16:06:50.600Z"
   },
   {
    "duration": 290,
    "start_time": "2021-06-15T16:09:04.951Z"
   },
   {
    "duration": 370,
    "start_time": "2021-06-15T16:09:26.469Z"
   },
   {
    "duration": 16,
    "start_time": "2021-06-15T16:10:07.952Z"
   },
   {
    "duration": 295,
    "start_time": "2021-06-15T16:10:47.382Z"
   },
   {
    "duration": 288,
    "start_time": "2021-06-15T16:11:36.678Z"
   },
   {
    "duration": 303,
    "start_time": "2021-06-15T16:12:39.230Z"
   },
   {
    "duration": 43,
    "start_time": "2021-06-15T16:14:21.400Z"
   },
   {
    "duration": 9,
    "start_time": "2021-06-15T16:14:45.521Z"
   },
   {
    "duration": 20,
    "start_time": "2021-06-15T16:14:50.044Z"
   },
   {
    "duration": 8,
    "start_time": "2021-06-15T16:14:51.891Z"
   },
   {
    "duration": 5,
    "start_time": "2021-06-15T16:15:24.792Z"
   },
   {
    "duration": 12,
    "start_time": "2021-06-15T16:15:28.244Z"
   },
   {
    "duration": 442,
    "start_time": "2021-06-15T16:16:34.901Z"
   },
   {
    "duration": 269,
    "start_time": "2021-06-15T16:17:05.755Z"
   },
   {
    "duration": 5886,
    "start_time": "2021-06-15T16:17:17.350Z"
   },
   {
    "duration": 317,
    "start_time": "2021-06-15T16:17:40.704Z"
   },
   {
    "duration": 325,
    "start_time": "2021-06-15T16:18:33.959Z"
   },
   {
    "duration": 323,
    "start_time": "2021-06-15T16:18:47.241Z"
   },
   {
    "duration": 316,
    "start_time": "2021-06-15T16:19:00.293Z"
   },
   {
    "duration": 646,
    "start_time": "2021-06-15T16:19:49.481Z"
   },
   {
    "duration": 922,
    "start_time": "2021-06-15T16:20:27.701Z"
   },
   {
    "duration": 754,
    "start_time": "2021-06-15T16:20:41.532Z"
   },
   {
    "duration": 344,
    "start_time": "2021-06-15T16:20:58.104Z"
   },
   {
    "duration": 642,
    "start_time": "2021-06-15T16:21:23.189Z"
   },
   {
    "duration": 245,
    "start_time": "2021-06-15T16:22:01.812Z"
   },
   {
    "duration": 72,
    "start_time": "2021-06-15T16:22:22.621Z"
   },
   {
    "duration": 361,
    "start_time": "2021-06-15T16:23:59.044Z"
   },
   {
    "duration": 322,
    "start_time": "2021-06-15T16:24:18.274Z"
   },
   {
    "duration": 328,
    "start_time": "2021-06-15T16:24:39.978Z"
   },
   {
    "duration": 33,
    "start_time": "2021-06-15T16:28:52.133Z"
   },
   {
    "duration": 5,
    "start_time": "2021-06-15T16:28:54.297Z"
   },
   {
    "duration": 9,
    "start_time": "2021-06-15T16:28:56.653Z"
   },
   {
    "duration": 8,
    "start_time": "2021-06-15T16:29:05.231Z"
   },
   {
    "duration": 8,
    "start_time": "2021-06-15T16:29:37.070Z"
   },
   {
    "duration": 240,
    "start_time": "2021-06-15T16:30:41.360Z"
   },
   {
    "duration": 4,
    "start_time": "2021-06-15T16:31:04.314Z"
   },
   {
    "duration": 7,
    "start_time": "2021-06-15T16:31:06.671Z"
   },
   {
    "duration": 751,
    "start_time": "2021-06-15T16:38:27.088Z"
   },
   {
    "duration": 4,
    "start_time": "2021-06-15T16:38:29.870Z"
   },
   {
    "duration": 4,
    "start_time": "2021-06-15T16:38:31.905Z"
   },
   {
    "duration": 29,
    "start_time": "2021-06-15T16:38:39.851Z"
   },
   {
    "duration": 19,
    "start_time": "2021-06-15T16:38:43.545Z"
   },
   {
    "duration": 8,
    "start_time": "2021-06-15T16:38:45.576Z"
   },
   {
    "duration": 510,
    "start_time": "2021-06-15T16:38:49.815Z"
   },
   {
    "duration": 355,
    "start_time": "2021-06-15T16:38:54.546Z"
   },
   {
    "duration": 289,
    "start_time": "2021-06-15T16:39:09.650Z"
   },
   {
    "duration": 243,
    "start_time": "2021-06-15T16:39:40.436Z"
   },
   {
    "duration": 358,
    "start_time": "2021-06-15T16:39:53.128Z"
   },
   {
    "duration": 24,
    "start_time": "2021-06-15T16:39:57.963Z"
   },
   {
    "duration": 21,
    "start_time": "2021-06-15T16:40:00.376Z"
   },
   {
    "duration": 9,
    "start_time": "2021-06-15T16:40:02.927Z"
   },
   {
    "duration": 5,
    "start_time": "2021-06-15T16:40:05.385Z"
   },
   {
    "duration": 134,
    "start_time": "2021-06-15T16:40:07.743Z"
   },
   {
    "duration": 252,
    "start_time": "2021-06-15T16:40:10.766Z"
   },
   {
    "duration": 2181,
    "start_time": "2021-06-15T16:40:20.685Z"
   },
   {
    "duration": 322,
    "start_time": "2021-06-15T16:41:49.131Z"
   },
   {
    "duration": 249,
    "start_time": "2021-06-15T16:42:23.276Z"
   },
   {
    "duration": 249,
    "start_time": "2021-06-15T16:43:05.436Z"
   },
   {
    "duration": 12,
    "start_time": "2021-06-15T16:43:19.384Z"
   },
   {
    "duration": 307,
    "start_time": "2021-06-15T16:43:21.577Z"
   },
   {
    "duration": 12,
    "start_time": "2021-06-15T16:44:15.107Z"
   },
   {
    "duration": 233,
    "start_time": "2021-06-15T16:44:17.449Z"
   },
   {
    "duration": 299,
    "start_time": "2021-06-15T16:44:23.176Z"
   },
   {
    "duration": 824,
    "start_time": "2021-06-15T16:44:53.963Z"
   },
   {
    "duration": 4,
    "start_time": "2021-06-15T16:45:03.070Z"
   },
   {
    "duration": 28,
    "start_time": "2021-06-15T16:45:05.866Z"
   },
   {
    "duration": 19,
    "start_time": "2021-06-15T16:45:09.997Z"
   },
   {
    "duration": 9,
    "start_time": "2021-06-15T16:45:12.046Z"
   },
   {
    "duration": 502,
    "start_time": "2021-06-15T16:45:14.513Z"
   },
   {
    "duration": 13,
    "start_time": "2021-06-15T16:45:17.417Z"
   },
   {
    "duration": 321,
    "start_time": "2021-06-15T16:45:20.155Z"
   },
   {
    "duration": 25,
    "start_time": "2021-06-15T16:45:24.318Z"
   },
   {
    "duration": 21,
    "start_time": "2021-06-15T16:45:30.146Z"
   },
   {
    "duration": 8,
    "start_time": "2021-06-15T16:45:31.771Z"
   },
   {
    "duration": 4,
    "start_time": "2021-06-15T16:45:34.832Z"
   },
   {
    "duration": 124,
    "start_time": "2021-06-15T16:45:38.294Z"
   },
   {
    "duration": 11,
    "start_time": "2021-06-15T16:45:41.486Z"
   },
   {
    "duration": 322,
    "start_time": "2021-06-15T16:45:44.516Z"
   },
   {
    "duration": 19,
    "start_time": "2021-06-15T16:45:47.615Z"
   },
   {
    "duration": 5,
    "start_time": "2021-06-15T16:45:49.531Z"
   },
   {
    "duration": 10,
    "start_time": "2021-06-15T16:45:52.247Z"
   },
   {
    "duration": 8,
    "start_time": "2021-06-15T16:46:18.704Z"
   },
   {
    "duration": 7,
    "start_time": "2021-06-15T16:46:22.658Z"
   },
   {
    "duration": 453,
    "start_time": "2021-06-15T16:46:24.704Z"
   },
   {
    "duration": 7,
    "start_time": "2021-06-15T16:46:28.083Z"
   },
   {
    "duration": 959,
    "start_time": "2021-06-15T19:37:41.255Z"
   },
   {
    "duration": 3,
    "start_time": "2021-06-15T19:37:42.217Z"
   },
   {
    "duration": 11,
    "start_time": "2021-06-15T19:37:42.223Z"
   },
   {
    "duration": 32,
    "start_time": "2021-06-15T19:37:42.237Z"
   },
   {
    "duration": 28,
    "start_time": "2021-06-15T19:37:42.271Z"
   },
   {
    "duration": 9,
    "start_time": "2021-06-15T19:37:42.301Z"
   },
   {
    "duration": 93764,
    "start_time": "2021-06-15T19:37:42.312Z"
   },
   {
    "duration": 12,
    "start_time": "2021-06-15T19:39:16.089Z"
   },
   {
    "duration": 334,
    "start_time": "2021-06-15T19:39:16.105Z"
   },
   {
    "duration": 25,
    "start_time": "2021-06-15T19:39:16.442Z"
   },
   {
    "duration": 27,
    "start_time": "2021-06-15T19:39:16.470Z"
   },
   {
    "duration": 7,
    "start_time": "2021-06-15T19:39:16.500Z"
   },
   {
    "duration": 5,
    "start_time": "2021-06-15T19:39:16.510Z"
   },
   {
    "duration": 160,
    "start_time": "2021-06-15T19:39:16.517Z"
   },
   {
    "duration": 15,
    "start_time": "2021-06-15T19:39:16.679Z"
   },
   {
    "duration": 349,
    "start_time": "2021-06-15T19:39:16.697Z"
   },
   {
    "duration": 35,
    "start_time": "2021-06-15T19:39:17.048Z"
   },
   {
    "duration": 5,
    "start_time": "2021-06-15T19:39:17.085Z"
   },
   {
    "duration": 13,
    "start_time": "2021-06-15T19:39:17.093Z"
   },
   {
    "duration": 12,
    "start_time": "2021-06-15T19:39:17.108Z"
   },
   {
    "duration": 12,
    "start_time": "2021-06-15T19:39:17.123Z"
   },
   {
    "duration": 594,
    "start_time": "2021-06-15T19:39:17.138Z"
   },
   {
    "duration": 7,
    "start_time": "2021-06-15T19:39:17.738Z"
   },
   {
    "duration": 7,
    "start_time": "2021-06-15T19:44:02.163Z"
   },
   {
    "duration": 6,
    "start_time": "2021-06-15T19:44:06.344Z"
   },
   {
    "duration": 8,
    "start_time": "2021-06-15T19:44:25.372Z"
   },
   {
    "duration": 808,
    "start_time": "2021-06-19T13:17:50.924Z"
   },
   {
    "duration": 3,
    "start_time": "2021-06-19T13:17:53.153Z"
   },
   {
    "duration": 4,
    "start_time": "2021-06-19T13:17:55.069Z"
   },
   {
    "duration": 27,
    "start_time": "2021-06-19T13:17:57.722Z"
   },
   {
    "duration": 19,
    "start_time": "2021-06-19T13:18:00.090Z"
   },
   {
    "duration": 9,
    "start_time": "2021-06-19T13:18:02.562Z"
   },
   {
    "duration": 806,
    "start_time": "2021-06-19T13:18:06.349Z"
   },
   {
    "duration": 13,
    "start_time": "2021-06-19T13:18:09.884Z"
   },
   {
    "duration": 323,
    "start_time": "2021-06-19T13:18:13.722Z"
   },
   {
    "duration": 341,
    "start_time": "2021-06-19T13:18:48.481Z"
   },
   {
    "duration": 295,
    "start_time": "2021-06-19T13:19:13.472Z"
   },
   {
    "duration": 283,
    "start_time": "2021-06-19T13:19:23.928Z"
   },
   {
    "duration": 25,
    "start_time": "2021-06-19T13:20:42.586Z"
   },
   {
    "duration": 19,
    "start_time": "2021-06-19T13:20:45.192Z"
   },
   {
    "duration": 9,
    "start_time": "2021-06-19T13:20:47.595Z"
   },
   {
    "duration": 5,
    "start_time": "2021-06-19T13:20:50.194Z"
   },
   {
    "duration": 7,
    "start_time": "2021-06-19T13:20:52.153Z"
   },
   {
    "duration": 842,
    "start_time": "2021-06-19T13:33:08.567Z"
   },
   {
    "duration": 4,
    "start_time": "2021-06-19T13:33:10.849Z"
   },
   {
    "duration": 4,
    "start_time": "2021-06-19T13:33:13.575Z"
   },
   {
    "duration": 28,
    "start_time": "2021-06-19T13:33:15.567Z"
   },
   {
    "duration": 20,
    "start_time": "2021-06-19T13:33:18.593Z"
   },
   {
    "duration": 9,
    "start_time": "2021-06-19T13:33:21.210Z"
   },
   {
    "duration": 592,
    "start_time": "2021-06-19T13:33:24.514Z"
   },
   {
    "duration": 14,
    "start_time": "2021-06-19T13:33:28.589Z"
   },
   {
    "duration": 318,
    "start_time": "2021-06-19T13:33:31.804Z"
   },
   {
    "duration": 24,
    "start_time": "2021-06-19T13:34:22.508Z"
   },
   {
    "duration": 20,
    "start_time": "2021-06-19T13:34:25.073Z"
   },
   {
    "duration": 9,
    "start_time": "2021-06-19T13:34:26.651Z"
   },
   {
    "duration": 5,
    "start_time": "2021-06-19T13:34:31.800Z"
   },
   {
    "duration": 134,
    "start_time": "2021-06-19T13:34:35.554Z"
   },
   {
    "duration": 12,
    "start_time": "2021-06-19T13:34:39.082Z"
   },
   {
    "duration": 330,
    "start_time": "2021-06-19T13:35:09.957Z"
   },
   {
    "duration": 299,
    "start_time": "2021-06-19T13:36:00.763Z"
   },
   {
    "duration": 2072,
    "start_time": "2021-06-19T13:37:15.300Z"
   },
   {
    "duration": 2183,
    "start_time": "2021-06-19T13:37:28.505Z"
   },
   {
    "duration": 2512,
    "start_time": "2021-06-19T13:37:39.014Z"
   },
   {
    "duration": 2514,
    "start_time": "2021-06-19T13:38:12.418Z"
   },
   {
    "duration": 767,
    "start_time": "2021-06-19T14:02:53.433Z"
   },
   {
    "duration": 4,
    "start_time": "2021-06-19T14:02:55.738Z"
   },
   {
    "duration": 4,
    "start_time": "2021-06-19T14:02:58.128Z"
   },
   {
    "duration": 29,
    "start_time": "2021-06-19T14:03:00.361Z"
   },
   {
    "duration": 19,
    "start_time": "2021-06-19T14:03:04.155Z"
   },
   {
    "duration": 8,
    "start_time": "2021-06-19T14:03:06.656Z"
   },
   {
    "duration": 619,
    "start_time": "2021-06-19T14:03:09.953Z"
   },
   {
    "duration": 13,
    "start_time": "2021-06-19T14:03:15.688Z"
   },
   {
    "duration": 311,
    "start_time": "2021-06-19T14:03:18.580Z"
   },
   {
    "duration": 24,
    "start_time": "2021-06-19T14:03:27.706Z"
   },
   {
    "duration": 20,
    "start_time": "2021-06-19T14:03:30.305Z"
   },
   {
    "duration": 8,
    "start_time": "2021-06-19T14:03:32.082Z"
   },
   {
    "duration": 5,
    "start_time": "2021-06-19T14:03:34.923Z"
   },
   {
    "duration": 131,
    "start_time": "2021-06-19T14:03:43.556Z"
   },
   {
    "duration": 12,
    "start_time": "2021-06-19T14:03:48.950Z"
   },
   {
    "duration": 313,
    "start_time": "2021-06-19T14:03:53.382Z"
   },
   {
    "duration": 2473,
    "start_time": "2021-06-19T14:03:58.137Z"
   },
   {
    "duration": 19,
    "start_time": "2021-06-19T14:04:08.707Z"
   },
   {
    "duration": 5,
    "start_time": "2021-06-19T14:04:10.519Z"
   },
   {
    "duration": 9,
    "start_time": "2021-06-19T14:04:12.427Z"
   },
   {
    "duration": 8,
    "start_time": "2021-06-19T14:04:14.851Z"
   },
   {
    "duration": 7,
    "start_time": "2021-06-19T14:04:18.028Z"
   },
   {
    "duration": 424,
    "start_time": "2021-06-19T14:04:20.063Z"
   },
   {
    "duration": 7,
    "start_time": "2021-06-19T14:04:22.161Z"
   },
   {
    "duration": 776,
    "start_time": "2021-06-19T14:07:54.114Z"
   },
   {
    "duration": 4,
    "start_time": "2021-06-19T14:07:57.645Z"
   },
   {
    "duration": 4,
    "start_time": "2021-06-19T14:07:59.498Z"
   },
   {
    "duration": 29,
    "start_time": "2021-06-19T14:08:01.757Z"
   },
   {
    "duration": 20,
    "start_time": "2021-06-19T14:08:04.498Z"
   },
   {
    "duration": 9,
    "start_time": "2021-06-19T14:08:06.430Z"
   },
   {
    "duration": 589,
    "start_time": "2021-06-19T14:08:09.206Z"
   },
   {
    "duration": 13,
    "start_time": "2021-06-19T14:08:12.663Z"
   },
   {
    "duration": 295,
    "start_time": "2021-06-19T14:08:15.795Z"
   },
   {
    "duration": 24,
    "start_time": "2021-06-19T14:08:21.963Z"
   },
   {
    "duration": 20,
    "start_time": "2021-06-19T14:08:24.280Z"
   },
   {
    "duration": 9,
    "start_time": "2021-06-19T14:08:26.657Z"
   },
   {
    "duration": 4,
    "start_time": "2021-06-19T14:08:28.856Z"
   },
   {
    "duration": 177,
    "start_time": "2021-06-19T14:08:31.689Z"
   },
   {
    "duration": 12,
    "start_time": "2021-06-19T14:08:39.221Z"
   },
   {
    "duration": 306,
    "start_time": "2021-06-19T14:08:42.828Z"
   },
   {
    "duration": 2466,
    "start_time": "2021-06-19T14:08:46.575Z"
   },
   {
    "duration": 18,
    "start_time": "2021-06-19T14:08:52.976Z"
   },
   {
    "duration": 5,
    "start_time": "2021-06-19T14:08:54.629Z"
   },
   {
    "duration": 9,
    "start_time": "2021-06-19T14:08:56.502Z"
   },
   {
    "duration": 8,
    "start_time": "2021-06-19T14:08:59.431Z"
   },
   {
    "duration": 7,
    "start_time": "2021-06-19T14:09:03.071Z"
   },
   {
    "duration": 464,
    "start_time": "2021-06-19T14:09:05.298Z"
   },
   {
    "duration": 7,
    "start_time": "2021-06-19T14:09:07.610Z"
   },
   {
    "duration": 580,
    "start_time": "2021-06-19T21:09:22.938Z"
   },
   {
    "duration": 2,
    "start_time": "2021-06-19T21:09:23.520Z"
   },
   {
    "duration": 5,
    "start_time": "2021-06-19T21:09:23.524Z"
   },
   {
    "duration": 25,
    "start_time": "2021-06-19T21:09:23.531Z"
   },
   {
    "duration": 13,
    "start_time": "2021-06-19T21:09:23.557Z"
   },
   {
    "duration": 13,
    "start_time": "2021-06-19T21:09:23.572Z"
   },
   {
    "duration": 1006,
    "start_time": "2021-06-19T21:09:23.586Z"
   },
   {
    "duration": 8,
    "start_time": "2021-06-19T21:09:24.595Z"
   },
   {
    "duration": 212,
    "start_time": "2021-06-19T21:09:24.605Z"
   },
   {
    "duration": 22,
    "start_time": "2021-06-19T21:09:24.818Z"
   },
   {
    "duration": 12,
    "start_time": "2021-06-19T21:09:24.842Z"
   },
   {
    "duration": 5,
    "start_time": "2021-06-19T21:09:24.855Z"
   },
   {
    "duration": 5,
    "start_time": "2021-06-19T21:09:24.862Z"
   },
   {
    "duration": 94,
    "start_time": "2021-06-19T21:09:24.868Z"
   },
   {
    "duration": 8,
    "start_time": "2021-06-19T21:09:24.963Z"
   },
   {
    "duration": 204,
    "start_time": "2021-06-19T21:09:24.985Z"
   },
   {
    "duration": 1584,
    "start_time": "2021-06-19T21:09:25.191Z"
   },
   {
    "duration": 43,
    "start_time": "2021-06-19T21:09:26.784Z"
   },
   {
    "duration": 3,
    "start_time": "2021-06-19T21:09:26.828Z"
   },
   {
    "duration": 7,
    "start_time": "2021-06-19T21:09:26.833Z"
   },
   {
    "duration": 7,
    "start_time": "2021-06-19T21:09:26.842Z"
   },
   {
    "duration": 5,
    "start_time": "2021-06-19T21:09:26.851Z"
   },
   {
    "duration": 352,
    "start_time": "2021-06-19T21:09:26.859Z"
   },
   {
    "duration": 5,
    "start_time": "2021-06-19T21:09:27.213Z"
   },
   {
    "duration": 9,
    "start_time": "2021-06-19T21:11:07.177Z"
   },
   {
    "duration": 259,
    "start_time": "2021-06-19T21:11:28.514Z"
   },
   {
    "duration": 9,
    "start_time": "2021-06-19T21:11:34.462Z"
   },
   {
    "duration": 9,
    "start_time": "2021-06-19T21:12:32.651Z"
   },
   {
    "duration": 210,
    "start_time": "2021-06-19T21:16:09.357Z"
   },
   {
    "duration": 199,
    "start_time": "2021-06-19T21:16:24.658Z"
   },
   {
    "duration": 443,
    "start_time": "2021-06-19T21:16:38.099Z"
   },
   {
    "duration": 390,
    "start_time": "2021-06-19T21:17:46.203Z"
   },
   {
    "duration": 211,
    "start_time": "2021-06-19T21:21:29.412Z"
   }
  ],
  "kernelspec": {
   "display_name": "Python 3",
   "language": "python",
   "name": "python3"
  },
  "language_info": {
   "codemirror_mode": {
    "name": "ipython",
    "version": 3
   },
   "file_extension": ".py",
   "mimetype": "text/x-python",
   "name": "python",
   "nbconvert_exporter": "python",
   "pygments_lexer": "ipython3",
   "version": "3.8.8"
  },
  "toc": {
   "base_numbering": 1,
   "nav_menu": {},
   "number_sections": true,
   "sideBar": true,
   "skip_h1_title": true,
   "title_cell": "Table of Contents",
   "title_sidebar": "Contents",
   "toc_cell": false,
   "toc_position": {},
   "toc_section_display": true,
   "toc_window_display": false
  }
 },
 "nbformat": 4,
 "nbformat_minor": 2
}
