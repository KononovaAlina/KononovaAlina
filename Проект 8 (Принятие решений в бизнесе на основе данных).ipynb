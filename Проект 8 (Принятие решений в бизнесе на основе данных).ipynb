{
 "cells": [
  {
   "cell_type": "markdown",
   "metadata": {},
   "source": [
    "# Принятие решений в бизнесе на основе данных\n",
    "\n",
    "# Описание проекта\n",
    "\n",
    "Вы — аналитик крупного интернет-магазина. Вместе с отделом маркетинга вы подготовили список гипотез для увеличения выручки.\n",
    "Приоритизируйте гипотезы, запустите A/B-тест и проанализируйте результаты.\n",
    "\n",
    "# Цель проекта\n",
    "\n",
    "Определить главные гипотезы для увеличения выручки и подвести итоги проведенного А/В - теста.\n",
    "\n",
    "# Описание данных\n",
    "\n",
    "Данные для первой части:\n",
    "\n",
    "1. Файл /datasets/hypothesis.csv. \n",
    "- Hypothesis — краткое описание гипотезы;\n",
    "- Reach — охват пользователей по 10-балльной шкале;\n",
    "- Impact — влияние на пользователей по 10-балльной шкале;\n",
    "- Confidence — уверенность в гипотезе по 10-балльной шкале;\n",
    "- Efforts — затраты ресурсов на проверку гипотезы по 10-балльной шкале. Чем больше значение Efforts, тем дороже проверка гипотезы.\n",
    "\n",
    "Данные для второй части:\n",
    "\n",
    "2. Файл /datasets/orders.csv. Скачать датасет\n",
    "- transactionId — идентификатор заказа;\n",
    "- visitorId — идентификатор пользователя, совершившего заказ;\n",
    "- date — дата, когда был совершён заказ;\n",
    "- revenue — выручка заказа;\n",
    "- group — группа A/B-теста, в которую попал заказ.\n",
    "\n",
    "3. Файл /datasets/visitors.csv. Скачать датасет\n",
    "- date — дата;\n",
    "- group — группа A/B-теста;\n",
    "- visitors — количество пользователей в указанную дату в указанной группе A/B-теста\n",
    "\n",
    "\n",
    "## Загружаем данные и готовим их к анализу\n",
    " \n",
    " Откроем файлы с данными и изучим общую информацию.\n",
    " \n",
    " Импорт необходимых библиотек."
   ]
  },
  {
   "cell_type": "code",
   "execution_count": 1,
   "metadata": {},
   "outputs": [],
   "source": [
    "import pandas as pd\n",
    "import matplotlib.pyplot as plt\n",
    "import seaborn as sns\n",
    "sns.set(rc={'figure.figsize':(10, 8)})\n",
    "\n",
    "import scipy.stats as stats\n",
    "from scipy import stats as st\n",
    "import math\n",
    "import numpy as np"
   ]
  },
  {
   "cell_type": "code",
   "execution_count": 2,
   "metadata": {},
   "outputs": [],
   "source": [
    "pd.set_option('display.max_columns', None)\n",
    "pd.options.display.float_format = '{:,.2f}'.format"
   ]
  },
  {
   "cell_type": "code",
   "execution_count": 3,
   "metadata": {},
   "outputs": [],
   "source": [
    "hypothesis = pd.read_csv('/datasets/hypothesis.csv')\n",
    "orders = pd.read_csv('/datasets/orders.csv')\n",
    "visitors = pd.read_csv('/datasets/visitors.csv')"
   ]
  },
  {
   "cell_type": "markdown",
   "metadata": {},
   "source": [
    "## Рассмотрим выборку описательной статистики и самой информации о датасетах по каждой таблице.\n",
    "\n",
    "### Рассмотрим таблицу hypothesis"
   ]
  },
  {
   "cell_type": "code",
   "execution_count": 4,
   "metadata": {},
   "outputs": [
    {
     "data": {
      "text/html": [
       "<div>\n",
       "<style scoped>\n",
       "    .dataframe tbody tr th:only-of-type {\n",
       "        vertical-align: middle;\n",
       "    }\n",
       "\n",
       "    .dataframe tbody tr th {\n",
       "        vertical-align: top;\n",
       "    }\n",
       "\n",
       "    .dataframe thead th {\n",
       "        text-align: right;\n",
       "    }\n",
       "</style>\n",
       "<table border=\"1\" class=\"dataframe\">\n",
       "  <thead>\n",
       "    <tr style=\"text-align: right;\">\n",
       "      <th></th>\n",
       "      <th>Hypothesis</th>\n",
       "      <th>Reach</th>\n",
       "      <th>Impact</th>\n",
       "      <th>Confidence</th>\n",
       "      <th>Efforts</th>\n",
       "    </tr>\n",
       "  </thead>\n",
       "  <tbody>\n",
       "    <tr>\n",
       "      <td>0</td>\n",
       "      <td>Добавить два новых канала привлечения трафика,...</td>\n",
       "      <td>3</td>\n",
       "      <td>10</td>\n",
       "      <td>8</td>\n",
       "      <td>6</td>\n",
       "    </tr>\n",
       "    <tr>\n",
       "      <td>1</td>\n",
       "      <td>Запустить собственную службу доставки, что сок...</td>\n",
       "      <td>2</td>\n",
       "      <td>5</td>\n",
       "      <td>4</td>\n",
       "      <td>10</td>\n",
       "    </tr>\n",
       "    <tr>\n",
       "      <td>2</td>\n",
       "      <td>Добавить блоки рекомендаций товаров на сайт ин...</td>\n",
       "      <td>8</td>\n",
       "      <td>3</td>\n",
       "      <td>7</td>\n",
       "      <td>3</td>\n",
       "    </tr>\n",
       "    <tr>\n",
       "      <td>3</td>\n",
       "      <td>Изменить структура категорий, что увеличит кон...</td>\n",
       "      <td>8</td>\n",
       "      <td>3</td>\n",
       "      <td>3</td>\n",
       "      <td>8</td>\n",
       "    </tr>\n",
       "    <tr>\n",
       "      <td>4</td>\n",
       "      <td>Изменить цвет фона главной страницы, чтобы уве...</td>\n",
       "      <td>3</td>\n",
       "      <td>1</td>\n",
       "      <td>1</td>\n",
       "      <td>1</td>\n",
       "    </tr>\n",
       "    <tr>\n",
       "      <td>5</td>\n",
       "      <td>Добавить страницу отзывов клиентов о магазине,...</td>\n",
       "      <td>3</td>\n",
       "      <td>2</td>\n",
       "      <td>2</td>\n",
       "      <td>3</td>\n",
       "    </tr>\n",
       "    <tr>\n",
       "      <td>6</td>\n",
       "      <td>Показать на главной странице баннеры с актуаль...</td>\n",
       "      <td>5</td>\n",
       "      <td>3</td>\n",
       "      <td>8</td>\n",
       "      <td>3</td>\n",
       "    </tr>\n",
       "    <tr>\n",
       "      <td>7</td>\n",
       "      <td>Добавить форму подписки на все основные страни...</td>\n",
       "      <td>10</td>\n",
       "      <td>7</td>\n",
       "      <td>8</td>\n",
       "      <td>5</td>\n",
       "    </tr>\n",
       "    <tr>\n",
       "      <td>8</td>\n",
       "      <td>Запустить акцию, дающую скидку на товар в день...</td>\n",
       "      <td>1</td>\n",
       "      <td>9</td>\n",
       "      <td>9</td>\n",
       "      <td>5</td>\n",
       "    </tr>\n",
       "  </tbody>\n",
       "</table>\n",
       "</div>"
      ],
      "text/plain": [
       "                                          Hypothesis  Reach  Impact  \\\n",
       "0  Добавить два новых канала привлечения трафика,...      3      10   \n",
       "1  Запустить собственную службу доставки, что сок...      2       5   \n",
       "2  Добавить блоки рекомендаций товаров на сайт ин...      8       3   \n",
       "3  Изменить структура категорий, что увеличит кон...      8       3   \n",
       "4  Изменить цвет фона главной страницы, чтобы уве...      3       1   \n",
       "5  Добавить страницу отзывов клиентов о магазине,...      3       2   \n",
       "6  Показать на главной странице баннеры с актуаль...      5       3   \n",
       "7  Добавить форму подписки на все основные страни...     10       7   \n",
       "8  Запустить акцию, дающую скидку на товар в день...      1       9   \n",
       "\n",
       "   Confidence  Efforts  \n",
       "0           8        6  \n",
       "1           4       10  \n",
       "2           7        3  \n",
       "3           3        8  \n",
       "4           1        1  \n",
       "5           2        3  \n",
       "6           8        3  \n",
       "7           8        5  \n",
       "8           9        5  "
      ]
     },
     "execution_count": 4,
     "metadata": {},
     "output_type": "execute_result"
    }
   ],
   "source": [
    "hypothesis.head(10)"
   ]
  },
  {
   "cell_type": "code",
   "execution_count": 5,
   "metadata": {},
   "outputs": [
    {
     "name": "stdout",
     "output_type": "stream",
     "text": [
      "<class 'pandas.core.frame.DataFrame'>\n",
      "RangeIndex: 9 entries, 0 to 8\n",
      "Data columns (total 5 columns):\n",
      "Hypothesis    9 non-null object\n",
      "Reach         9 non-null int64\n",
      "Impact        9 non-null int64\n",
      "Confidence    9 non-null int64\n",
      "Efforts       9 non-null int64\n",
      "dtypes: int64(4), object(1)\n",
      "memory usage: 488.0+ bytes\n"
     ]
    }
   ],
   "source": [
    "hypothesis.info()"
   ]
  },
  {
   "cell_type": "code",
   "execution_count": 6,
   "metadata": {},
   "outputs": [
    {
     "data": {
      "text/html": [
       "<div>\n",
       "<style scoped>\n",
       "    .dataframe tbody tr th:only-of-type {\n",
       "        vertical-align: middle;\n",
       "    }\n",
       "\n",
       "    .dataframe tbody tr th {\n",
       "        vertical-align: top;\n",
       "    }\n",
       "\n",
       "    .dataframe thead th {\n",
       "        text-align: right;\n",
       "    }\n",
       "</style>\n",
       "<table border=\"1\" class=\"dataframe\">\n",
       "  <thead>\n",
       "    <tr style=\"text-align: right;\">\n",
       "      <th></th>\n",
       "      <th>Reach</th>\n",
       "      <th>Impact</th>\n",
       "      <th>Confidence</th>\n",
       "      <th>Efforts</th>\n",
       "    </tr>\n",
       "  </thead>\n",
       "  <tbody>\n",
       "    <tr>\n",
       "      <td>count</td>\n",
       "      <td>9.00</td>\n",
       "      <td>9.00</td>\n",
       "      <td>9.00</td>\n",
       "      <td>9.00</td>\n",
       "    </tr>\n",
       "    <tr>\n",
       "      <td>mean</td>\n",
       "      <td>4.78</td>\n",
       "      <td>4.78</td>\n",
       "      <td>5.56</td>\n",
       "      <td>4.89</td>\n",
       "    </tr>\n",
       "    <tr>\n",
       "      <td>std</td>\n",
       "      <td>3.15</td>\n",
       "      <td>3.19</td>\n",
       "      <td>3.05</td>\n",
       "      <td>2.80</td>\n",
       "    </tr>\n",
       "    <tr>\n",
       "      <td>min</td>\n",
       "      <td>1.00</td>\n",
       "      <td>1.00</td>\n",
       "      <td>1.00</td>\n",
       "      <td>1.00</td>\n",
       "    </tr>\n",
       "    <tr>\n",
       "      <td>25%</td>\n",
       "      <td>3.00</td>\n",
       "      <td>3.00</td>\n",
       "      <td>3.00</td>\n",
       "      <td>3.00</td>\n",
       "    </tr>\n",
       "    <tr>\n",
       "      <td>50%</td>\n",
       "      <td>3.00</td>\n",
       "      <td>3.00</td>\n",
       "      <td>7.00</td>\n",
       "      <td>5.00</td>\n",
       "    </tr>\n",
       "    <tr>\n",
       "      <td>75%</td>\n",
       "      <td>8.00</td>\n",
       "      <td>7.00</td>\n",
       "      <td>8.00</td>\n",
       "      <td>6.00</td>\n",
       "    </tr>\n",
       "    <tr>\n",
       "      <td>max</td>\n",
       "      <td>10.00</td>\n",
       "      <td>10.00</td>\n",
       "      <td>9.00</td>\n",
       "      <td>10.00</td>\n",
       "    </tr>\n",
       "  </tbody>\n",
       "</table>\n",
       "</div>"
      ],
      "text/plain": [
       "       Reach  Impact  Confidence  Efforts\n",
       "count   9.00    9.00        9.00     9.00\n",
       "mean    4.78    4.78        5.56     4.89\n",
       "std     3.15    3.19        3.05     2.80\n",
       "min     1.00    1.00        1.00     1.00\n",
       "25%     3.00    3.00        3.00     3.00\n",
       "50%     3.00    3.00        7.00     5.00\n",
       "75%     8.00    7.00        8.00     6.00\n",
       "max    10.00   10.00        9.00    10.00"
      ]
     },
     "execution_count": 6,
     "metadata": {},
     "output_type": "execute_result"
    }
   ],
   "source": [
    "hypothesis.describe()"
   ]
  },
  {
   "cell_type": "code",
   "execution_count": 7,
   "metadata": {},
   "outputs": [
    {
     "data": {
      "text/plain": [
       "0"
      ]
     },
     "execution_count": 7,
     "metadata": {},
     "output_type": "execute_result"
    }
   ],
   "source": [
    "hypothesis.duplicated().sum()"
   ]
  },
  {
   "cell_type": "markdown",
   "metadata": {},
   "source": [
    "Все данные являются уникальными. Дублирующих значений не наблюдается.\n",
    "\n",
    "Необходимо изменить регистр названий столбцов."
   ]
  },
  {
   "cell_type": "code",
   "execution_count": 8,
   "metadata": {},
   "outputs": [
    {
     "data": {
      "text/html": [
       "<div>\n",
       "<style scoped>\n",
       "    .dataframe tbody tr th:only-of-type {\n",
       "        vertical-align: middle;\n",
       "    }\n",
       "\n",
       "    .dataframe tbody tr th {\n",
       "        vertical-align: top;\n",
       "    }\n",
       "\n",
       "    .dataframe thead th {\n",
       "        text-align: right;\n",
       "    }\n",
       "</style>\n",
       "<table border=\"1\" class=\"dataframe\">\n",
       "  <thead>\n",
       "    <tr style=\"text-align: right;\">\n",
       "      <th></th>\n",
       "      <th>hypothesis</th>\n",
       "      <th>reach</th>\n",
       "      <th>impact</th>\n",
       "      <th>confidence</th>\n",
       "      <th>efforts</th>\n",
       "    </tr>\n",
       "  </thead>\n",
       "  <tbody>\n",
       "    <tr>\n",
       "      <td>0</td>\n",
       "      <td>Добавить два новых канала привлечения трафика,...</td>\n",
       "      <td>3</td>\n",
       "      <td>10</td>\n",
       "      <td>8</td>\n",
       "      <td>6</td>\n",
       "    </tr>\n",
       "  </tbody>\n",
       "</table>\n",
       "</div>"
      ],
      "text/plain": [
       "                                          hypothesis  reach  impact  \\\n",
       "0  Добавить два новых канала привлечения трафика,...      3      10   \n",
       "\n",
       "   confidence  efforts  \n",
       "0           8        6  "
      ]
     },
     "execution_count": 8,
     "metadata": {},
     "output_type": "execute_result"
    }
   ],
   "source": [
    "hypothesis_columns = (hypothesis.columns).str.lower()\n",
    "hypothesis.columns=hypothesis_columns\n",
    "hypothesis.sample()"
   ]
  },
  {
   "cell_type": "markdown",
   "metadata": {},
   "source": [
    "### Рассмотрим таблицу orders"
   ]
  },
  {
   "cell_type": "code",
   "execution_count": 9,
   "metadata": {},
   "outputs": [
    {
     "data": {
      "text/html": [
       "<div>\n",
       "<style scoped>\n",
       "    .dataframe tbody tr th:only-of-type {\n",
       "        vertical-align: middle;\n",
       "    }\n",
       "\n",
       "    .dataframe tbody tr th {\n",
       "        vertical-align: top;\n",
       "    }\n",
       "\n",
       "    .dataframe thead th {\n",
       "        text-align: right;\n",
       "    }\n",
       "</style>\n",
       "<table border=\"1\" class=\"dataframe\">\n",
       "  <thead>\n",
       "    <tr style=\"text-align: right;\">\n",
       "      <th></th>\n",
       "      <th>transactionId</th>\n",
       "      <th>visitorId</th>\n",
       "      <th>date</th>\n",
       "      <th>revenue</th>\n",
       "      <th>group</th>\n",
       "    </tr>\n",
       "  </thead>\n",
       "  <tbody>\n",
       "    <tr>\n",
       "      <td>123</td>\n",
       "      <td>3268937183</td>\n",
       "      <td>3722682546</td>\n",
       "      <td>2019-08-22</td>\n",
       "      <td>1450</td>\n",
       "      <td>A</td>\n",
       "    </tr>\n",
       "    <tr>\n",
       "      <td>1117</td>\n",
       "      <td>3003595335</td>\n",
       "      <td>1810540789</td>\n",
       "      <td>2019-08-13</td>\n",
       "      <td>11565</td>\n",
       "      <td>B</td>\n",
       "    </tr>\n",
       "    <tr>\n",
       "      <td>508</td>\n",
       "      <td>2012347492</td>\n",
       "      <td>2572275626</td>\n",
       "      <td>2019-08-06</td>\n",
       "      <td>5350</td>\n",
       "      <td>B</td>\n",
       "    </tr>\n",
       "    <tr>\n",
       "      <td>491</td>\n",
       "      <td>298049448</td>\n",
       "      <td>3013339133</td>\n",
       "      <td>2019-08-26</td>\n",
       "      <td>2722</td>\n",
       "      <td>B</td>\n",
       "    </tr>\n",
       "    <tr>\n",
       "      <td>807</td>\n",
       "      <td>2740953457</td>\n",
       "      <td>3102053760</td>\n",
       "      <td>2019-08-05</td>\n",
       "      <td>990</td>\n",
       "      <td>A</td>\n",
       "    </tr>\n",
       "    <tr>\n",
       "      <td>507</td>\n",
       "      <td>4067849009</td>\n",
       "      <td>2108163459</td>\n",
       "      <td>2019-08-06</td>\n",
       "      <td>580</td>\n",
       "      <td>A</td>\n",
       "    </tr>\n",
       "    <tr>\n",
       "      <td>482</td>\n",
       "      <td>1715714627</td>\n",
       "      <td>495712671</td>\n",
       "      <td>2019-08-06</td>\n",
       "      <td>1790</td>\n",
       "      <td>A</td>\n",
       "    </tr>\n",
       "    <tr>\n",
       "      <td>67</td>\n",
       "      <td>459227648</td>\n",
       "      <td>2578486380</td>\n",
       "      <td>2019-08-16</td>\n",
       "      <td>2540</td>\n",
       "      <td>B</td>\n",
       "    </tr>\n",
       "    <tr>\n",
       "      <td>378</td>\n",
       "      <td>1964998089</td>\n",
       "      <td>2618159035</td>\n",
       "      <td>2019-08-25</td>\n",
       "      <td>5415</td>\n",
       "      <td>A</td>\n",
       "    </tr>\n",
       "    <tr>\n",
       "      <td>264</td>\n",
       "      <td>3795138501</td>\n",
       "      <td>887812064</td>\n",
       "      <td>2019-08-18</td>\n",
       "      <td>170</td>\n",
       "      <td>A</td>\n",
       "    </tr>\n",
       "  </tbody>\n",
       "</table>\n",
       "</div>"
      ],
      "text/plain": [
       "      transactionId   visitorId        date  revenue group\n",
       "123      3268937183  3722682546  2019-08-22     1450     A\n",
       "1117     3003595335  1810540789  2019-08-13    11565     B\n",
       "508      2012347492  2572275626  2019-08-06     5350     B\n",
       "491       298049448  3013339133  2019-08-26     2722     B\n",
       "807      2740953457  3102053760  2019-08-05      990     A\n",
       "507      4067849009  2108163459  2019-08-06      580     A\n",
       "482      1715714627   495712671  2019-08-06     1790     A\n",
       "67        459227648  2578486380  2019-08-16     2540     B\n",
       "378      1964998089  2618159035  2019-08-25     5415     A\n",
       "264      3795138501   887812064  2019-08-18      170     A"
      ]
     },
     "execution_count": 9,
     "metadata": {},
     "output_type": "execute_result"
    }
   ],
   "source": [
    "orders.sample(n=10, random_state=10)"
   ]
  },
  {
   "cell_type": "code",
   "execution_count": 10,
   "metadata": {},
   "outputs": [
    {
     "name": "stdout",
     "output_type": "stream",
     "text": [
      "<class 'pandas.core.frame.DataFrame'>\n",
      "RangeIndex: 1197 entries, 0 to 1196\n",
      "Data columns (total 5 columns):\n",
      "transactionId    1197 non-null int64\n",
      "visitorId        1197 non-null int64\n",
      "date             1197 non-null object\n",
      "revenue          1197 non-null int64\n",
      "group            1197 non-null object\n",
      "dtypes: int64(3), object(2)\n",
      "memory usage: 46.9+ KB\n"
     ]
    }
   ],
   "source": [
    "orders.info()"
   ]
  },
  {
   "cell_type": "code",
   "execution_count": 11,
   "metadata": {},
   "outputs": [
    {
     "data": {
      "text/html": [
       "<div>\n",
       "<style scoped>\n",
       "    .dataframe tbody tr th:only-of-type {\n",
       "        vertical-align: middle;\n",
       "    }\n",
       "\n",
       "    .dataframe tbody tr th {\n",
       "        vertical-align: top;\n",
       "    }\n",
       "\n",
       "    .dataframe thead th {\n",
       "        text-align: right;\n",
       "    }\n",
       "</style>\n",
       "<table border=\"1\" class=\"dataframe\">\n",
       "  <thead>\n",
       "    <tr style=\"text-align: right;\">\n",
       "      <th></th>\n",
       "      <th>transactionId</th>\n",
       "      <th>visitorId</th>\n",
       "      <th>revenue</th>\n",
       "    </tr>\n",
       "  </thead>\n",
       "  <tbody>\n",
       "    <tr>\n",
       "      <td>count</td>\n",
       "      <td>1,197.00</td>\n",
       "      <td>1,197.00</td>\n",
       "      <td>1,197.00</td>\n",
       "    </tr>\n",
       "    <tr>\n",
       "      <td>mean</td>\n",
       "      <td>2,155,621,385.53</td>\n",
       "      <td>2,165,960,143.10</td>\n",
       "      <td>8,348.01</td>\n",
       "    </tr>\n",
       "    <tr>\n",
       "      <td>std</td>\n",
       "      <td>1,229,084,904.76</td>\n",
       "      <td>1,236,014,192.15</td>\n",
       "      <td>39,191.13</td>\n",
       "    </tr>\n",
       "    <tr>\n",
       "      <td>min</td>\n",
       "      <td>1,062,393.00</td>\n",
       "      <td>5,114,589.00</td>\n",
       "      <td>50.00</td>\n",
       "    </tr>\n",
       "    <tr>\n",
       "      <td>25%</td>\n",
       "      <td>1,166,775,572.00</td>\n",
       "      <td>1,111,826,046.00</td>\n",
       "      <td>1,220.00</td>\n",
       "    </tr>\n",
       "    <tr>\n",
       "      <td>50%</td>\n",
       "      <td>2,145,193,898.00</td>\n",
       "      <td>2,217,984,702.00</td>\n",
       "      <td>2,978.00</td>\n",
       "    </tr>\n",
       "    <tr>\n",
       "      <td>75%</td>\n",
       "      <td>3,237,740,112.00</td>\n",
       "      <td>3,177,606,451.00</td>\n",
       "      <td>8,290.00</td>\n",
       "    </tr>\n",
       "    <tr>\n",
       "      <td>max</td>\n",
       "      <td>4,293,855,558.00</td>\n",
       "      <td>4,283,872,382.00</td>\n",
       "      <td>1,294,500.00</td>\n",
       "    </tr>\n",
       "  </tbody>\n",
       "</table>\n",
       "</div>"
      ],
      "text/plain": [
       "         transactionId        visitorId      revenue\n",
       "count         1,197.00         1,197.00     1,197.00\n",
       "mean  2,155,621,385.53 2,165,960,143.10     8,348.01\n",
       "std   1,229,084,904.76 1,236,014,192.15    39,191.13\n",
       "min       1,062,393.00     5,114,589.00        50.00\n",
       "25%   1,166,775,572.00 1,111,826,046.00     1,220.00\n",
       "50%   2,145,193,898.00 2,217,984,702.00     2,978.00\n",
       "75%   3,237,740,112.00 3,177,606,451.00     8,290.00\n",
       "max   4,293,855,558.00 4,283,872,382.00 1,294,500.00"
      ]
     },
     "execution_count": 11,
     "metadata": {},
     "output_type": "execute_result"
    }
   ],
   "source": [
    "orders.describe()"
   ]
  },
  {
   "cell_type": "code",
   "execution_count": 12,
   "metadata": {},
   "outputs": [
    {
     "data": {
      "text/plain": [
       "0"
      ]
     },
     "execution_count": 12,
     "metadata": {},
     "output_type": "execute_result"
    }
   ],
   "source": [
    "orders.duplicated().sum()"
   ]
  },
  {
   "cell_type": "markdown",
   "metadata": {},
   "source": [
    "Все данные являются уникальными. Дублирующих значений не наблюдается.\n",
    "\n",
    "Необходимо изменить тип данных по столбцу:\n",
    "- date (дата, когда был совершён заказ) на datetime;\n",
    "- необходимо изменить регистр в некоторых названий столбцов."
   ]
  },
  {
   "cell_type": "code",
   "execution_count": 13,
   "metadata": {},
   "outputs": [],
   "source": [
    "orders['date'] = pd.to_datetime(orders['date'], format='%Y-%m-%d')"
   ]
  },
  {
   "cell_type": "code",
   "execution_count": 14,
   "metadata": {},
   "outputs": [],
   "source": [
    "orders.rename(columns={'transactionId':'transactionid', 'visitorId':'visitorid'}, inplace=True)"
   ]
  },
  {
   "cell_type": "markdown",
   "metadata": {},
   "source": [
    "### Рассмотрим таблицу visitors"
   ]
  },
  {
   "cell_type": "code",
   "execution_count": 15,
   "metadata": {},
   "outputs": [
    {
     "data": {
      "text/html": [
       "<div>\n",
       "<style scoped>\n",
       "    .dataframe tbody tr th:only-of-type {\n",
       "        vertical-align: middle;\n",
       "    }\n",
       "\n",
       "    .dataframe tbody tr th {\n",
       "        vertical-align: top;\n",
       "    }\n",
       "\n",
       "    .dataframe thead th {\n",
       "        text-align: right;\n",
       "    }\n",
       "</style>\n",
       "<table border=\"1\" class=\"dataframe\">\n",
       "  <thead>\n",
       "    <tr style=\"text-align: right;\">\n",
       "      <th></th>\n",
       "      <th>date</th>\n",
       "      <th>group</th>\n",
       "      <th>visitors</th>\n",
       "    </tr>\n",
       "  </thead>\n",
       "  <tbody>\n",
       "    <tr>\n",
       "      <td>20</td>\n",
       "      <td>2019-08-21</td>\n",
       "      <td>A</td>\n",
       "      <td>646</td>\n",
       "    </tr>\n",
       "    <tr>\n",
       "      <td>2</td>\n",
       "      <td>2019-08-03</td>\n",
       "      <td>A</td>\n",
       "      <td>507</td>\n",
       "    </tr>\n",
       "    <tr>\n",
       "      <td>31</td>\n",
       "      <td>2019-08-01</td>\n",
       "      <td>B</td>\n",
       "      <td>713</td>\n",
       "    </tr>\n",
       "    <tr>\n",
       "      <td>3</td>\n",
       "      <td>2019-08-04</td>\n",
       "      <td>A</td>\n",
       "      <td>717</td>\n",
       "    </tr>\n",
       "    <tr>\n",
       "      <td>6</td>\n",
       "      <td>2019-08-07</td>\n",
       "      <td>A</td>\n",
       "      <td>644</td>\n",
       "    </tr>\n",
       "    <tr>\n",
       "      <td>35</td>\n",
       "      <td>2019-08-05</td>\n",
       "      <td>B</td>\n",
       "      <td>707</td>\n",
       "    </tr>\n",
       "    <tr>\n",
       "      <td>19</td>\n",
       "      <td>2019-08-20</td>\n",
       "      <td>A</td>\n",
       "      <td>575</td>\n",
       "    </tr>\n",
       "    <tr>\n",
       "      <td>41</td>\n",
       "      <td>2019-08-11</td>\n",
       "      <td>B</td>\n",
       "      <td>721</td>\n",
       "    </tr>\n",
       "    <tr>\n",
       "      <td>53</td>\n",
       "      <td>2019-08-23</td>\n",
       "      <td>B</td>\n",
       "      <td>546</td>\n",
       "    </tr>\n",
       "    <tr>\n",
       "      <td>26</td>\n",
       "      <td>2019-08-27</td>\n",
       "      <td>A</td>\n",
       "      <td>711</td>\n",
       "    </tr>\n",
       "  </tbody>\n",
       "</table>\n",
       "</div>"
      ],
      "text/plain": [
       "          date group  visitors\n",
       "20  2019-08-21     A       646\n",
       "2   2019-08-03     A       507\n",
       "31  2019-08-01     B       713\n",
       "3   2019-08-04     A       717\n",
       "6   2019-08-07     A       644\n",
       "35  2019-08-05     B       707\n",
       "19  2019-08-20     A       575\n",
       "41  2019-08-11     B       721\n",
       "53  2019-08-23     B       546\n",
       "26  2019-08-27     A       711"
      ]
     },
     "execution_count": 15,
     "metadata": {},
     "output_type": "execute_result"
    }
   ],
   "source": [
    "visitors.sample(n=10, random_state=10)"
   ]
  },
  {
   "cell_type": "code",
   "execution_count": 16,
   "metadata": {},
   "outputs": [
    {
     "name": "stdout",
     "output_type": "stream",
     "text": [
      "<class 'pandas.core.frame.DataFrame'>\n",
      "RangeIndex: 62 entries, 0 to 61\n",
      "Data columns (total 3 columns):\n",
      "date        62 non-null object\n",
      "group       62 non-null object\n",
      "visitors    62 non-null int64\n",
      "dtypes: int64(1), object(2)\n",
      "memory usage: 1.6+ KB\n"
     ]
    }
   ],
   "source": [
    "visitors.info()"
   ]
  },
  {
   "cell_type": "code",
   "execution_count": 17,
   "metadata": {},
   "outputs": [
    {
     "data": {
      "text/html": [
       "<div>\n",
       "<style scoped>\n",
       "    .dataframe tbody tr th:only-of-type {\n",
       "        vertical-align: middle;\n",
       "    }\n",
       "\n",
       "    .dataframe tbody tr th {\n",
       "        vertical-align: top;\n",
       "    }\n",
       "\n",
       "    .dataframe thead th {\n",
       "        text-align: right;\n",
       "    }\n",
       "</style>\n",
       "<table border=\"1\" class=\"dataframe\">\n",
       "  <thead>\n",
       "    <tr style=\"text-align: right;\">\n",
       "      <th></th>\n",
       "      <th>count</th>\n",
       "      <th>mean</th>\n",
       "      <th>std</th>\n",
       "      <th>min</th>\n",
       "      <th>25%</th>\n",
       "      <th>50%</th>\n",
       "      <th>75%</th>\n",
       "      <th>max</th>\n",
       "    </tr>\n",
       "  </thead>\n",
       "  <tbody>\n",
       "    <tr>\n",
       "      <td>visitors</td>\n",
       "      <td>62.00</td>\n",
       "      <td>607.29</td>\n",
       "      <td>114.40</td>\n",
       "      <td>361.00</td>\n",
       "      <td>534.00</td>\n",
       "      <td>624.50</td>\n",
       "      <td>710.50</td>\n",
       "      <td>770.00</td>\n",
       "    </tr>\n",
       "  </tbody>\n",
       "</table>\n",
       "</div>"
      ],
      "text/plain": [
       "          count   mean    std    min    25%    50%    75%    max\n",
       "visitors  62.00 607.29 114.40 361.00 534.00 624.50 710.50 770.00"
      ]
     },
     "execution_count": 17,
     "metadata": {},
     "output_type": "execute_result"
    }
   ],
   "source": [
    "visitors.describe().T"
   ]
  },
  {
   "cell_type": "code",
   "execution_count": 18,
   "metadata": {},
   "outputs": [
    {
     "data": {
      "text/plain": [
       "0"
      ]
     },
     "execution_count": 18,
     "metadata": {},
     "output_type": "execute_result"
    }
   ],
   "source": [
    "visitors.duplicated().sum()"
   ]
  },
  {
   "cell_type": "markdown",
   "metadata": {},
   "source": [
    "Все данные являются уникальными. Дублирующих значений не наблюдается.\n",
    "\n",
    "Необходимо изменить тип данных по столбцу:\n",
    "- date (дата) на datetime.\n",
    "\n",
    "Изменим тип данных."
   ]
  },
  {
   "cell_type": "code",
   "execution_count": 19,
   "metadata": {},
   "outputs": [],
   "source": [
    "visitors['date'] = pd.to_datetime(visitors['date'], format='%Y-%m-%d')"
   ]
  },
  {
   "cell_type": "markdown",
   "metadata": {},
   "source": [
    "# Промежуточный вывод\n",
    "\n",
    "Данные загружены и подготовлены. Было произведено несколько преобразований по типу данных и смена регистра (названий колонок)."
   ]
  },
  {
   "cell_type": "markdown",
   "metadata": {},
   "source": [
    "## Приоритизация гипотез.\n",
    "\n",
    "### Применим фреймворк ICE для приоритизации гипотез. \n",
    "Отсортируем по убыванию приоритета."
   ]
  },
  {
   "cell_type": "code",
   "execution_count": 20,
   "metadata": {},
   "outputs": [],
   "source": [
    "hypothesis['ICE'] = hypothesis['impact'] * hypothesis['confidence'] / hypothesis['efforts']"
   ]
  },
  {
   "cell_type": "code",
   "execution_count": 21,
   "metadata": {},
   "outputs": [
    {
     "data": {
      "text/html": [
       "<div>\n",
       "<style scoped>\n",
       "    .dataframe tbody tr th:only-of-type {\n",
       "        vertical-align: middle;\n",
       "    }\n",
       "\n",
       "    .dataframe tbody tr th {\n",
       "        vertical-align: top;\n",
       "    }\n",
       "\n",
       "    .dataframe thead th {\n",
       "        text-align: right;\n",
       "    }\n",
       "</style>\n",
       "<table border=\"1\" class=\"dataframe\">\n",
       "  <thead>\n",
       "    <tr style=\"text-align: right;\">\n",
       "      <th></th>\n",
       "      <th>hypothesis</th>\n",
       "      <th>reach</th>\n",
       "      <th>impact</th>\n",
       "      <th>confidence</th>\n",
       "      <th>efforts</th>\n",
       "      <th>ICE</th>\n",
       "    </tr>\n",
       "  </thead>\n",
       "  <tbody>\n",
       "    <tr>\n",
       "      <td>8</td>\n",
       "      <td>Запустить акцию, дающую скидку на товар в день...</td>\n",
       "      <td>1</td>\n",
       "      <td>9</td>\n",
       "      <td>9</td>\n",
       "      <td>5</td>\n",
       "      <td>16.20</td>\n",
       "    </tr>\n",
       "    <tr>\n",
       "      <td>0</td>\n",
       "      <td>Добавить два новых канала привлечения трафика,...</td>\n",
       "      <td>3</td>\n",
       "      <td>10</td>\n",
       "      <td>8</td>\n",
       "      <td>6</td>\n",
       "      <td>13.33</td>\n",
       "    </tr>\n",
       "    <tr>\n",
       "      <td>7</td>\n",
       "      <td>Добавить форму подписки на все основные страни...</td>\n",
       "      <td>10</td>\n",
       "      <td>7</td>\n",
       "      <td>8</td>\n",
       "      <td>5</td>\n",
       "      <td>11.20</td>\n",
       "    </tr>\n",
       "    <tr>\n",
       "      <td>6</td>\n",
       "      <td>Показать на главной странице баннеры с актуаль...</td>\n",
       "      <td>5</td>\n",
       "      <td>3</td>\n",
       "      <td>8</td>\n",
       "      <td>3</td>\n",
       "      <td>8.00</td>\n",
       "    </tr>\n",
       "    <tr>\n",
       "      <td>2</td>\n",
       "      <td>Добавить блоки рекомендаций товаров на сайт ин...</td>\n",
       "      <td>8</td>\n",
       "      <td>3</td>\n",
       "      <td>7</td>\n",
       "      <td>3</td>\n",
       "      <td>7.00</td>\n",
       "    </tr>\n",
       "    <tr>\n",
       "      <td>1</td>\n",
       "      <td>Запустить собственную службу доставки, что сок...</td>\n",
       "      <td>2</td>\n",
       "      <td>5</td>\n",
       "      <td>4</td>\n",
       "      <td>10</td>\n",
       "      <td>2.00</td>\n",
       "    </tr>\n",
       "    <tr>\n",
       "      <td>5</td>\n",
       "      <td>Добавить страницу отзывов клиентов о магазине,...</td>\n",
       "      <td>3</td>\n",
       "      <td>2</td>\n",
       "      <td>2</td>\n",
       "      <td>3</td>\n",
       "      <td>1.33</td>\n",
       "    </tr>\n",
       "    <tr>\n",
       "      <td>3</td>\n",
       "      <td>Изменить структура категорий, что увеличит кон...</td>\n",
       "      <td>8</td>\n",
       "      <td>3</td>\n",
       "      <td>3</td>\n",
       "      <td>8</td>\n",
       "      <td>1.12</td>\n",
       "    </tr>\n",
       "    <tr>\n",
       "      <td>4</td>\n",
       "      <td>Изменить цвет фона главной страницы, чтобы уве...</td>\n",
       "      <td>3</td>\n",
       "      <td>1</td>\n",
       "      <td>1</td>\n",
       "      <td>1</td>\n",
       "      <td>1.00</td>\n",
       "    </tr>\n",
       "  </tbody>\n",
       "</table>\n",
       "</div>"
      ],
      "text/plain": [
       "                                          hypothesis  reach  impact  \\\n",
       "8  Запустить акцию, дающую скидку на товар в день...      1       9   \n",
       "0  Добавить два новых канала привлечения трафика,...      3      10   \n",
       "7  Добавить форму подписки на все основные страни...     10       7   \n",
       "6  Показать на главной странице баннеры с актуаль...      5       3   \n",
       "2  Добавить блоки рекомендаций товаров на сайт ин...      8       3   \n",
       "1  Запустить собственную службу доставки, что сок...      2       5   \n",
       "5  Добавить страницу отзывов клиентов о магазине,...      3       2   \n",
       "3  Изменить структура категорий, что увеличит кон...      8       3   \n",
       "4  Изменить цвет фона главной страницы, чтобы уве...      3       1   \n",
       "\n",
       "   confidence  efforts   ICE  \n",
       "8           9        5 16.20  \n",
       "0           8        6 13.33  \n",
       "7           8        5 11.20  \n",
       "6           8        3  8.00  \n",
       "2           7        3  7.00  \n",
       "1           4       10  2.00  \n",
       "5           2        3  1.33  \n",
       "3           3        8  1.12  \n",
       "4           1        1  1.00  "
      ]
     },
     "execution_count": 21,
     "metadata": {},
     "output_type": "execute_result"
    }
   ],
   "source": [
    "hypothesis.sort_values('ICE', ascending=False).head(10)"
   ]
  },
  {
   "cell_type": "code",
   "execution_count": 22,
   "metadata": {},
   "outputs": [
    {
     "data": {
      "image/png": "[encoded data removed]",
      "text/plain": [
       "<Figure size 720x576 with 1 Axes>"
      ]
     },
     "metadata": {},
     "output_type": "display_data"
    }
   ],
   "source": [
    "ax = hypothesis[['hypothesis', 'ICE']].set_index('hypothesis').sort_values('ICE', ascending=True).plot(kind='barh', color='salmon')\n",
    "ax.set_xlabel('Приоритет')\n",
    "ax.set_ylabel('Гипотеза')\n",
    "ax.set_title('ICE')\n",
    "ax.get_legend().remove()\n",
    "plt.show()"
   ]
  },
  {
   "cell_type": "markdown",
   "metadata": {},
   "source": [
    "# Промежуточный вывод\n",
    "Топ-3 гипотез по фреймворк ICE: 8, 0 и 7 гипотеза.\n",
    "\n",
    "### Применим фреймворк RICE для приоритизации гипотез. \n",
    "Отсортируем по убыванию приоритета."
   ]
  },
  {
   "cell_type": "code",
   "execution_count": 23,
   "metadata": {},
   "outputs": [],
   "source": [
    "hypothesis['RICE'] = hypothesis['reach'] * hypothesis['impact'] * hypothesis['confidence'] / hypothesis['efforts']"
   ]
  },
  {
   "cell_type": "code",
   "execution_count": 24,
   "metadata": {},
   "outputs": [
    {
     "data": {
      "text/html": [
       "<div>\n",
       "<style scoped>\n",
       "    .dataframe tbody tr th:only-of-type {\n",
       "        vertical-align: middle;\n",
       "    }\n",
       "\n",
       "    .dataframe tbody tr th {\n",
       "        vertical-align: top;\n",
       "    }\n",
       "\n",
       "    .dataframe thead th {\n",
       "        text-align: right;\n",
       "    }\n",
       "</style>\n",
       "<table border=\"1\" class=\"dataframe\">\n",
       "  <thead>\n",
       "    <tr style=\"text-align: right;\">\n",
       "      <th></th>\n",
       "      <th>hypothesis</th>\n",
       "      <th>reach</th>\n",
       "      <th>impact</th>\n",
       "      <th>confidence</th>\n",
       "      <th>efforts</th>\n",
       "      <th>ICE</th>\n",
       "      <th>RICE</th>\n",
       "    </tr>\n",
       "  </thead>\n",
       "  <tbody>\n",
       "    <tr>\n",
       "      <td>7</td>\n",
       "      <td>Добавить форму подписки на все основные страни...</td>\n",
       "      <td>10</td>\n",
       "      <td>7</td>\n",
       "      <td>8</td>\n",
       "      <td>5</td>\n",
       "      <td>11.20</td>\n",
       "      <td>112.00</td>\n",
       "    </tr>\n",
       "    <tr>\n",
       "      <td>2</td>\n",
       "      <td>Добавить блоки рекомендаций товаров на сайт ин...</td>\n",
       "      <td>8</td>\n",
       "      <td>3</td>\n",
       "      <td>7</td>\n",
       "      <td>3</td>\n",
       "      <td>7.00</td>\n",
       "      <td>56.00</td>\n",
       "    </tr>\n",
       "    <tr>\n",
       "      <td>0</td>\n",
       "      <td>Добавить два новых канала привлечения трафика,...</td>\n",
       "      <td>3</td>\n",
       "      <td>10</td>\n",
       "      <td>8</td>\n",
       "      <td>6</td>\n",
       "      <td>13.33</td>\n",
       "      <td>40.00</td>\n",
       "    </tr>\n",
       "    <tr>\n",
       "      <td>6</td>\n",
       "      <td>Показать на главной странице баннеры с актуаль...</td>\n",
       "      <td>5</td>\n",
       "      <td>3</td>\n",
       "      <td>8</td>\n",
       "      <td>3</td>\n",
       "      <td>8.00</td>\n",
       "      <td>40.00</td>\n",
       "    </tr>\n",
       "    <tr>\n",
       "      <td>8</td>\n",
       "      <td>Запустить акцию, дающую скидку на товар в день...</td>\n",
       "      <td>1</td>\n",
       "      <td>9</td>\n",
       "      <td>9</td>\n",
       "      <td>5</td>\n",
       "      <td>16.20</td>\n",
       "      <td>16.20</td>\n",
       "    </tr>\n",
       "    <tr>\n",
       "      <td>3</td>\n",
       "      <td>Изменить структура категорий, что увеличит кон...</td>\n",
       "      <td>8</td>\n",
       "      <td>3</td>\n",
       "      <td>3</td>\n",
       "      <td>8</td>\n",
       "      <td>1.12</td>\n",
       "      <td>9.00</td>\n",
       "    </tr>\n",
       "    <tr>\n",
       "      <td>1</td>\n",
       "      <td>Запустить собственную службу доставки, что сок...</td>\n",
       "      <td>2</td>\n",
       "      <td>5</td>\n",
       "      <td>4</td>\n",
       "      <td>10</td>\n",
       "      <td>2.00</td>\n",
       "      <td>4.00</td>\n",
       "    </tr>\n",
       "    <tr>\n",
       "      <td>5</td>\n",
       "      <td>Добавить страницу отзывов клиентов о магазине,...</td>\n",
       "      <td>3</td>\n",
       "      <td>2</td>\n",
       "      <td>2</td>\n",
       "      <td>3</td>\n",
       "      <td>1.33</td>\n",
       "      <td>4.00</td>\n",
       "    </tr>\n",
       "    <tr>\n",
       "      <td>4</td>\n",
       "      <td>Изменить цвет фона главной страницы, чтобы уве...</td>\n",
       "      <td>3</td>\n",
       "      <td>1</td>\n",
       "      <td>1</td>\n",
       "      <td>1</td>\n",
       "      <td>1.00</td>\n",
       "      <td>3.00</td>\n",
       "    </tr>\n",
       "  </tbody>\n",
       "</table>\n",
       "</div>"
      ],
      "text/plain": [
       "                                          hypothesis  reach  impact  \\\n",
       "7  Добавить форму подписки на все основные страни...     10       7   \n",
       "2  Добавить блоки рекомендаций товаров на сайт ин...      8       3   \n",
       "0  Добавить два новых канала привлечения трафика,...      3      10   \n",
       "6  Показать на главной странице баннеры с актуаль...      5       3   \n",
       "8  Запустить акцию, дающую скидку на товар в день...      1       9   \n",
       "3  Изменить структура категорий, что увеличит кон...      8       3   \n",
       "1  Запустить собственную службу доставки, что сок...      2       5   \n",
       "5  Добавить страницу отзывов клиентов о магазине,...      3       2   \n",
       "4  Изменить цвет фона главной страницы, чтобы уве...      3       1   \n",
       "\n",
       "   confidence  efforts   ICE   RICE  \n",
       "7           8        5 11.20 112.00  \n",
       "2           7        3  7.00  56.00  \n",
       "0           8        6 13.33  40.00  \n",
       "6           8        3  8.00  40.00  \n",
       "8           9        5 16.20  16.20  \n",
       "3           3        8  1.12   9.00  \n",
       "1           4       10  2.00   4.00  \n",
       "5           2        3  1.33   4.00  \n",
       "4           1        1  1.00   3.00  "
      ]
     },
     "execution_count": 24,
     "metadata": {},
     "output_type": "execute_result"
    }
   ],
   "source": [
    "hypothesis.sort_values('RICE', ascending=False).head(10)"
   ]
  },
  {
   "cell_type": "code",
   "execution_count": 25,
   "metadata": {},
   "outputs": [
    {
     "data": {
      "image/png": "[encoded data removed]",
      "text/plain": [
       "<Figure size 720x576 with 1 Axes>"
      ]
     },
     "metadata": {},
     "output_type": "display_data"
    }
   ],
   "source": [
    "ax = hypothesis[['hypothesis', 'RICE']].set_index('hypothesis').sort_values('RICE', ascending=True).plot(kind='barh', color='salmon')\n",
    "ax.set_xlabel('Приоритет')\n",
    "ax.set_ylabel('Гипотеза')\n",
    "ax.set_title('RICE')\n",
    "ax.get_legend().remove()\n",
    "plt.show()"
   ]
  },
  {
   "cell_type": "markdown",
   "metadata": {},
   "source": [
    "# Промежуточный вывод\n",
    "Топ-3 гипотез по фреймворк RICE : 7, 2 и 0 гипотеза.\n",
    "\n",
    "Можно отметить, что гипотеза 8 - опустилась на несколько позиций вниз. Это объясняется тем, что охват по 8 гипотезе составляет. В то время как 7 гипотеза, в силу большого охвата, вырвалась в лидеры.\n",
    "Не удивительно, что 8 так сильно опустилась. Ведь её охват всего 1, в то время как 7, в силу большого охвата (равен 10) вырвалась в лидеры.\n",
    "\n",
    "Параметр охвата (reach), использующийся в методе RICE изменил всю приоритетность, полученную по методу ICE:\n",
    "\n",
    "- без учета охвата на 1ом месте идет акция со скидкой имениннику, но параметр reach справедливо понизил приоритет этой акции, так как  охват её минимальный (по сравнению с другими гипотезами увеличения выручки);\n",
    "- тоже произошло и с гипотезой о добавлении 2х каналов трафика, с организацией своей службы доставки и с идеей о добавлении страницы отзывов;\n",
    "- без изменений осталась рейтинговая позиция гипотез о добавлении баннеров с актуальными акциями на главную страницу и идея с изменением цвета фона главной страницы);\n",
    "- выросли в рейтинге (стали более приоритетными) RICE (по сравнению с ICE) гипотеза о добавлении формы подписки на все основные страницы ресурса, о добавлении блоков рекомендаций товаров и предложение об изменении структуры категорий.\n",
    "\n",
    "\n",
    "## Анализ A/B-теста.\n",
    "Предварительно изучим количество заказов и посещений в каждой из групп."
   ]
  },
  {
   "cell_type": "code",
   "execution_count": 26,
   "metadata": {},
   "outputs": [
    {
     "name": "stdout",
     "output_type": "stream",
     "text": [
      "Количество посещений в группе А - 18736\n",
      "Количество посещений в группе B - 18916\n",
      "-----------------------------------\n",
      "Количество заказов в группе А - 557\n",
      "Количество заказов в группе B - 640\n"
     ]
    }
   ],
   "source": [
    "print ('Количество посещений в группе А -', visitors.query('group == \"A\"')['visitors'].sum())\n",
    "print ('Количество посещений в группе B -',visitors.query('group == \"B\"')['visitors'].sum())\n",
    "print('-----------------------------------')\n",
    "print ('Количество заказов в группе А -', orders.query('group == \"A\"').shape[0])\n",
    "print ('Количество заказов в группе B -',orders.query('group == \"B\"').shape[0])"
   ]
  },
  {
   "cell_type": "markdown",
   "metadata": {},
   "source": [
    "В группе \"В\" на 180 посещений больше, чем в группе \"А\". \n",
    "\n",
    "Проверим, не попали ли некоторые пользователи в разные группы."
   ]
  },
  {
   "cell_type": "code",
   "execution_count": 27,
   "metadata": {},
   "outputs": [],
   "source": [
    "visitorsA = orders[orders['group']=='A']['visitorid']\n",
    "visitorsB = orders[orders['group']=='B']['visitorid']"
   ]
  },
  {
   "cell_type": "code",
   "execution_count": 28,
   "metadata": {},
   "outputs": [],
   "source": [
    "visitors_AB = orders.loc[orders['visitorid'].isin(visitorsA)& orders['visitorid'].isin(visitorsB),'visitorid'].unique()"
   ]
  },
  {
   "cell_type": "markdown",
   "metadata": {},
   "source": [
    "Вычистим таких пользователей из заказов. Было:"
   ]
  },
  {
   "cell_type": "code",
   "execution_count": 29,
   "metadata": {},
   "outputs": [
    {
     "data": {
      "text/plain": [
       "1031"
      ]
     },
     "execution_count": 29,
     "metadata": {},
     "output_type": "execute_result"
    }
   ],
   "source": [
    "(orders.groupby('visitorid')['group'].nunique()>1).count()"
   ]
  },
  {
   "cell_type": "markdown",
   "metadata": {},
   "source": [
    "Стало:"
   ]
  },
  {
   "cell_type": "code",
   "execution_count": 30,
   "metadata": {},
   "outputs": [
    {
     "data": {
      "text/plain": [
       "973"
      ]
     },
     "execution_count": 30,
     "metadata": {},
     "output_type": "execute_result"
    }
   ],
   "source": [
    "orders = orders.loc[~orders['visitorid'].isin(visitors_AB)]\n",
    "(orders.groupby('visitorid')['group'].nunique()>1).count()"
   ]
  },
  {
   "cell_type": "code",
   "execution_count": 31,
   "metadata": {},
   "outputs": [
    {
     "name": "stdout",
     "output_type": "stream",
     "text": [
      "Количество заказов в группе А - 468\n",
      "Количество заказов в группе B - 548\n"
     ]
    }
   ],
   "source": [
    "print ('Количество заказов в группе А -', orders.query('group == \"A\"').shape[0])\n",
    "print ('Количество заказов в группе B -',orders.query('group == \"B\"').shape[0])"
   ]
  },
  {
   "cell_type": "markdown",
   "metadata": {},
   "source": [
    "Теперь разница по количеству заказов между группами уменьшилась до 80. Однако в процентом соотношение разница увеличилась. \n",
    "Оставим пока, как есть. Учтем на будущее."
   ]
  },
  {
   "cell_type": "code",
   "execution_count": 32,
   "metadata": {},
   "outputs": [],
   "source": [
    "orders_grouped = (orders.groupby(['date','group'], as_index=False)\n",
    "                        .agg({'transactionid':'nunique','visitorid':'nunique','revenue':'sum'}))\\\n",
    "                        .rename(columns={'transactionid':'orders','visitorid':'buyers'})\n",
    "orders_grouped['group_copy'] = orders_grouped['group']\n",
    "orders_grouped = orders_grouped.set_index(['date','group'])\n",
    "orders_cumsum = orders_grouped.sort_values(['date','group']).groupby('group_copy').cumsum().reset_index()"
   ]
  },
  {
   "cell_type": "markdown",
   "metadata": {},
   "source": [
    "Посчитаем сумму визитов по дням в каждой группе."
   ]
  },
  {
   "cell_type": "code",
   "execution_count": 33,
   "metadata": {},
   "outputs": [],
   "source": [
    "visitors_cumsum = visitors.groupby(['date','group'], as_index=False).agg({'visitors':'sum'}).sort_values(['date','group'])"
   ]
  },
  {
   "cell_type": "markdown",
   "metadata": {},
   "source": [
    "Скопируем group чтобы провести по ней кумулятивную сумму."
   ]
  },
  {
   "cell_type": "code",
   "execution_count": 34,
   "metadata": {},
   "outputs": [],
   "source": [
    "visitors_cumsum['group_copy'] = visitors_cumsum['group']\n",
    "visitors_cumsum = visitors_cumsum.set_index(['date','group']).groupby('group_copy').cumsum().reset_index()"
   ]
  },
  {
   "cell_type": "code",
   "execution_count": 35,
   "metadata": {},
   "outputs": [],
   "source": [
    "cummulative = orders_cumsum.join(visitors_cumsum[['visitors']])"
   ]
  },
  {
   "cell_type": "code",
   "execution_count": 36,
   "metadata": {},
   "outputs": [],
   "source": [
    "cummulative['average_check'] = cummulative['revenue'] / cummulative['orders']\n",
    "cummulative['conversion'] = cummulative['orders'] / cummulative['visitors']"
   ]
  },
  {
   "cell_type": "code",
   "execution_count": 37,
   "metadata": {},
   "outputs": [
    {
     "data": {
      "text/html": [
       "<div>\n",
       "<style scoped>\n",
       "    .dataframe tbody tr th:only-of-type {\n",
       "        vertical-align: middle;\n",
       "    }\n",
       "\n",
       "    .dataframe tbody tr th {\n",
       "        vertical-align: top;\n",
       "    }\n",
       "\n",
       "    .dataframe thead th {\n",
       "        text-align: right;\n",
       "    }\n",
       "</style>\n",
       "<table border=\"1\" class=\"dataframe\">\n",
       "  <thead>\n",
       "    <tr style=\"text-align: right;\">\n",
       "      <th></th>\n",
       "      <th>date</th>\n",
       "      <th>group</th>\n",
       "      <th>orders</th>\n",
       "      <th>buyers</th>\n",
       "      <th>revenue</th>\n",
       "      <th>visitors</th>\n",
       "      <th>average_check</th>\n",
       "      <th>conversion</th>\n",
       "    </tr>\n",
       "  </thead>\n",
       "  <tbody>\n",
       "    <tr>\n",
       "      <td>0</td>\n",
       "      <td>2019-08-01</td>\n",
       "      <td>A</td>\n",
       "      <td>23</td>\n",
       "      <td>19</td>\n",
       "      <td>142779</td>\n",
       "      <td>719</td>\n",
       "      <td>6,207.78</td>\n",
       "      <td>0.03</td>\n",
       "    </tr>\n",
       "    <tr>\n",
       "      <td>1</td>\n",
       "      <td>2019-08-01</td>\n",
       "      <td>B</td>\n",
       "      <td>17</td>\n",
       "      <td>17</td>\n",
       "      <td>59758</td>\n",
       "      <td>713</td>\n",
       "      <td>3,515.18</td>\n",
       "      <td>0.02</td>\n",
       "    </tr>\n",
       "    <tr>\n",
       "      <td>2</td>\n",
       "      <td>2019-08-02</td>\n",
       "      <td>A</td>\n",
       "      <td>42</td>\n",
       "      <td>37</td>\n",
       "      <td>234381</td>\n",
       "      <td>1338</td>\n",
       "      <td>5,580.50</td>\n",
       "      <td>0.03</td>\n",
       "    </tr>\n",
       "    <tr>\n",
       "      <td>3</td>\n",
       "      <td>2019-08-02</td>\n",
       "      <td>B</td>\n",
       "      <td>40</td>\n",
       "      <td>39</td>\n",
       "      <td>221801</td>\n",
       "      <td>1294</td>\n",
       "      <td>5,545.02</td>\n",
       "      <td>0.03</td>\n",
       "    </tr>\n",
       "    <tr>\n",
       "      <td>4</td>\n",
       "      <td>2019-08-03</td>\n",
       "      <td>A</td>\n",
       "      <td>66</td>\n",
       "      <td>61</td>\n",
       "      <td>346854</td>\n",
       "      <td>1845</td>\n",
       "      <td>5,255.36</td>\n",
       "      <td>0.04</td>\n",
       "    </tr>\n",
       "    <tr>\n",
       "      <td>5</td>\n",
       "      <td>2019-08-03</td>\n",
       "      <td>B</td>\n",
       "      <td>54</td>\n",
       "      <td>53</td>\n",
       "      <td>288850</td>\n",
       "      <td>1803</td>\n",
       "      <td>5,349.07</td>\n",
       "      <td>0.03</td>\n",
       "    </tr>\n",
       "    <tr>\n",
       "      <td>6</td>\n",
       "      <td>2019-08-04</td>\n",
       "      <td>A</td>\n",
       "      <td>77</td>\n",
       "      <td>72</td>\n",
       "      <td>388030</td>\n",
       "      <td>2562</td>\n",
       "      <td>5,039.35</td>\n",
       "      <td>0.03</td>\n",
       "    </tr>\n",
       "    <tr>\n",
       "      <td>7</td>\n",
       "      <td>2019-08-04</td>\n",
       "      <td>B</td>\n",
       "      <td>68</td>\n",
       "      <td>66</td>\n",
       "      <td>385740</td>\n",
       "      <td>2573</td>\n",
       "      <td>5,672.65</td>\n",
       "      <td>0.03</td>\n",
       "    </tr>\n",
       "    <tr>\n",
       "      <td>8</td>\n",
       "      <td>2019-08-05</td>\n",
       "      <td>A</td>\n",
       "      <td>99</td>\n",
       "      <td>94</td>\n",
       "      <td>474413</td>\n",
       "      <td>3318</td>\n",
       "      <td>4,792.05</td>\n",
       "      <td>0.03</td>\n",
       "    </tr>\n",
       "    <tr>\n",
       "      <td>9</td>\n",
       "      <td>2019-08-05</td>\n",
       "      <td>B</td>\n",
       "      <td>89</td>\n",
       "      <td>87</td>\n",
       "      <td>475648</td>\n",
       "      <td>3280</td>\n",
       "      <td>5,344.36</td>\n",
       "      <td>0.03</td>\n",
       "    </tr>\n",
       "  </tbody>\n",
       "</table>\n",
       "</div>"
      ],
      "text/plain": [
       "        date group  orders  buyers  revenue  visitors  average_check  \\\n",
       "0 2019-08-01     A      23      19   142779       719       6,207.78   \n",
       "1 2019-08-01     B      17      17    59758       713       3,515.18   \n",
       "2 2019-08-02     A      42      37   234381      1338       5,580.50   \n",
       "3 2019-08-02     B      40      39   221801      1294       5,545.02   \n",
       "4 2019-08-03     A      66      61   346854      1845       5,255.36   \n",
       "5 2019-08-03     B      54      53   288850      1803       5,349.07   \n",
       "6 2019-08-04     A      77      72   388030      2562       5,039.35   \n",
       "7 2019-08-04     B      68      66   385740      2573       5,672.65   \n",
       "8 2019-08-05     A      99      94   474413      3318       4,792.05   \n",
       "9 2019-08-05     B      89      87   475648      3280       5,344.36   \n",
       "\n",
       "   conversion  \n",
       "0        0.03  \n",
       "1        0.02  \n",
       "2        0.03  \n",
       "3        0.03  \n",
       "4        0.04  \n",
       "5        0.03  \n",
       "6        0.03  \n",
       "7        0.03  \n",
       "8        0.03  \n",
       "9        0.03  "
      ]
     },
     "execution_count": 37,
     "metadata": {},
     "output_type": "execute_result"
    }
   ],
   "source": [
    "cummulative.head(10)"
   ]
  },
  {
   "cell_type": "markdown",
   "metadata": {},
   "source": [
    "### Построим график кумулятивной выручки по группам, предварительно изучив количество заказов в каждой из групп."
   ]
  },
  {
   "cell_type": "code",
   "execution_count": 38,
   "metadata": {},
   "outputs": [
    {
     "data": {
      "image/png": "[encoded data removed]",
      "text/plain": [
       "<Figure size 720x576 with 1 Axes>"
      ]
     },
     "metadata": {},
     "output_type": "display_data"
    }
   ],
   "source": [
    "cummulativeA = cummulative[cummulative['group']=='A'][['date', 'revenue']]\n",
    "cummulativeB = cummulative[cummulative['group']=='B'][['date', 'revenue']]\n",
    "plt.plot(cummulativeA.iloc[:,0].to_frame(), cummulativeA.iloc[:,1].to_frame(), label='A' )\n",
    "plt.plot(cummulativeB.iloc[:,0].to_frame(), cummulativeB.iloc[:,1].to_frame(), label='B')\n",
    "plt.title('Кумулятивная выручка по группам')\n",
    "plt.ylabel(\"Выручка\")\n",
    "plt.xticks(rotation=45)\n",
    "plt.legend()\n",
    "plt.show()"
   ]
  },
  {
   "cell_type": "markdown",
   "metadata": {},
   "source": [
    "# Промежуточный вывод\n",
    "\n",
    "Группа \"А\" растет постепенно, в то время как группа \"В\" имеет резкий рост после 2019-08-17.\n",
    "\n",
    "Вероятно, там закрались очень большие покупки. Хорошо, что в группе \"В\" больше заказов. При отсеивании аномалий мы выровняли количество участников теста.\n",
    "\n",
    "### Постройте график кумулятивного среднего чека по группам. Сделайте выводы и предположения."
   ]
  },
  {
   "cell_type": "code",
   "execution_count": 39,
   "metadata": {},
   "outputs": [
    {
     "data": {
      "image/png": "[encoded data removed]",
      "text/plain": [
       "<Figure size 720x576 with 1 Axes>"
      ]
     },
     "metadata": {},
     "output_type": "display_data"
    }
   ],
   "source": [
    "cummulativeA = cummulative[cummulative['group']=='A'][['date', 'average_check']]\n",
    "cummulativeB = cummulative[cummulative['group']=='B'][['date', 'average_check']]\n",
    "plt.plot(cummulativeA.iloc[:,0].to_frame(), cummulativeA.iloc[:,1].to_frame(), label='A' )\n",
    "plt.plot(cummulativeB.iloc[:,0].to_frame(), cummulativeB.iloc[:,1].to_frame(), label='B')\n",
    "plt.title('График кумулятивного среднего чека по группам')\n",
    "plt.ylabel(\"Выручка\")\n",
    "plt.xticks(rotation=45)\n",
    "plt.legend()\n",
    "plt.show()"
   ]
  },
  {
   "cell_type": "markdown",
   "metadata": {},
   "source": [
    "# Промежуточный вывод\n",
    "\n",
    "Средний чек обеих групп выравнивается после 2019-08-13. Однако, в очередной раз видим, что по группе В есть крупная покупка после 2019-08-17 и после данной покупки чек этой группы начинает снижаться.\n",
    "\n",
    "### Построим график относительного изменения кумулятивного среднего чека группы B к группе A."
   ]
  },
  {
   "cell_type": "code",
   "execution_count": 40,
   "metadata": {},
   "outputs": [
    {
     "data": {
      "image/png": "[encoded data removed]",
      "text/plain": [
       "<Figure size 720x576 with 1 Axes>"
      ]
     },
     "metadata": {},
     "output_type": "display_data"
    }
   ],
   "source": [
    "temp = (cummulativeA[['date', 'average_check']].merge(cummulativeB[['date', 'average_check']], \n",
    "                                            left_on='date', right_on='date', how='left', suffixes=['_A', '_B']))\n",
    "plt.plot(temp['date'], temp['average_check_B'] / temp['average_check_A']-1)\n",
    "plt.title('График относительного изменения кумулятивного среднего чека группы B к группе A')\n",
    "plt.axhline(y=0, color='red', linestyle='-')\n",
    "plt.xticks(rotation=45)\n",
    "plt.show()"
   ]
  },
  {
   "cell_type": "markdown",
   "metadata": {},
   "source": [
    "# Промежуточный вывод\n",
    "\n",
    "Очередное подтверждение того, что где-то прячутся крупные заказы. Ранее складывалось впечатление, что крупные заказы имеются где-то после 2019-08-17. Однако следует отметить, что они могут быть и в начале.\n",
    "\n",
    "### Построим график кумулятивной конверсии по группам."
   ]
  },
  {
   "cell_type": "code",
   "execution_count": 41,
   "metadata": {},
   "outputs": [
    {
     "data": {
      "image/png": "[encoded data removed]",
      "text/plain": [
       "<Figure size 720x576 with 1 Axes>"
      ]
     },
     "metadata": {},
     "output_type": "display_data"
    }
   ],
   "source": [
    "cummulativeA = cummulative[cummulative['group']=='A'][['date', 'conversion']]\n",
    "cummulativeB = cummulative[cummulative['group']=='B'][['date', 'conversion']]\n",
    "plt.plot(cummulativeA.iloc[:,0].to_frame(), cummulativeA.iloc[:,1].to_frame(), label='A' )\n",
    "plt.plot(cummulativeB.iloc[:,0].to_frame(), cummulativeB.iloc[:,1].to_frame(), label='B')\n",
    "plt.title('График кумулятивной конверсии по группам')\n",
    "plt.ylabel(\"Выручка\")\n",
    "plt.xticks(rotation=45)\n",
    "plt.legend()\n",
    "plt.show()"
   ]
  },
  {
   "cell_type": "markdown",
   "metadata": {},
   "source": [
    "# Промежуточный вывод\n",
    "\n",
    "\n",
    "Получился интересный результат, на первых этапах конверсия в обеих группах \"прыгала\", но потом выровнялась, и по графику видно, что группа В лидирет.\n",
    "\n",
    "После Пика у обоих групп, А-конверсия варьируется в районе от 0,029 и до 0,031. В-конверсия от 0,037 и до 0,033. \n",
    "\n",
    "Разница между группами порядка 0.2% в абсолютном значение\n",
    "\n",
    "### Построим график относительного изменения кумулятивной конверсии группы B к группе A."
   ]
  },
  {
   "cell_type": "code",
   "execution_count": 42,
   "metadata": {},
   "outputs": [
    {
     "data": {
      "image/png": "[encoded data removed]",
      "text/plain": [
       "<Figure size 720x576 with 1 Axes>"
      ]
     },
     "metadata": {},
     "output_type": "display_data"
    }
   ],
   "source": [
    "temp = (cummulativeA[['date', 'conversion']].merge(cummulativeB[['date', 'conversion']], \n",
    "                                            left_on='date', right_on='date', how='left', suffixes=['_A', '_B']))\n",
    "plt.plot(temp['date'], temp['conversion_B'] / temp['conversion_A']-1)\n",
    "plt.title('График относительного изменения кумулятивной конверсии группы B к группе A')\n",
    "plt.axhline(y=0, color='red', linestyle='-')\n",
    "plt.xticks(rotation=45)\n",
    "plt.show()"
   ]
  },
  {
   "cell_type": "markdown",
   "metadata": {},
   "source": [
    "# Промежуточный вывод\n",
    "\n",
    "Группа B брала разгон в начале теста, и теперь стабильно и существенно обгоняет группу А. Однако количество дней теста небольшое.\n",
    "\n",
    "\n",
    "### Построим точечный график количества заказов по пользователям.\n",
    "\n",
    "Изучим аномалии, как было ранее отмечено. Скорее всего имеются аномально дорогие заказы. Для начала рассмотрим стоимость заказов."
   ]
  },
  {
   "cell_type": "code",
   "execution_count": 43,
   "metadata": {},
   "outputs": [
    {
     "data": {
      "image/png": "[encoded data removed]",
      "text/plain": [
       "<Figure size 720x576 with 1 Axes>"
      ]
     },
     "metadata": {},
     "output_type": "display_data"
    }
   ],
   "source": [
    "plt.hist(orders['revenue'], color='salmon')\n",
    "plt.title('Распределение revenue');"
   ]
  },
  {
   "cell_type": "markdown",
   "metadata": {},
   "source": [
    "Мы видим, что имеются какие-то очень большие заказы."
   ]
  },
  {
   "cell_type": "code",
   "execution_count": 44,
   "metadata": {},
   "outputs": [
    {
     "data": {
      "image/png": "[encoded data removed]",
      "text/plain": [
       "<Figure size 720x360 with 1 Axes>"
      ]
     },
     "metadata": {},
     "output_type": "display_data"
    }
   ],
   "source": [
    "x_values = pd.Series(range(0,orders['revenue'].count())) # сериес для \n",
    "\n",
    "plt.figure(figsize=(10, 5))\n",
    "sns.scatterplot(x=x_values, y=\"revenue\", hue=\"group\",\n",
    "                     data=orders)\n",
    "plt.grid()\n",
    "plt.title('Точечный график количества заказов');"
   ]
  },
  {
   "cell_type": "markdown",
   "metadata": {},
   "source": [
    "Как было ранее отмечено, средний чек и выручка по группе \"В\" довольно сильно увеличивается за счет всего одного заказа. \n",
    "\n",
    "Рассмотрим более детально."
   ]
  },
  {
   "cell_type": "code",
   "execution_count": 45,
   "metadata": {},
   "outputs": [
    {
     "name": "stdout",
     "output_type": "stream",
     "text": [
      "[26785. 53904.]\n"
     ]
    },
    {
     "data": {
      "image/png": "[encoded data removed]",
      "text/plain": [
       "<Figure size 720x360 with 1 Axes>"
      ]
     },
     "metadata": {},
     "output_type": "display_data"
    }
   ],
   "source": [
    "orders_clean = orders.query('revenue<200000')\n",
    "x_values = pd.Series(range(0,orders_clean['revenue'].count())) # сериес для оси Х\n",
    "plt.figure(figsize=(10, 5))\n",
    "sns.scatterplot(x=x_values, y=\"revenue\", hue=\"group\",\n",
    "                     data=orders_clean)\n",
    "plt.grid()\n",
    "plt.title('Точечный график количества заказов');\n",
    "print(np.percentile(orders['revenue'], [95, 99]))"
   ]
  },
  {
   "cell_type": "markdown",
   "metadata": {},
   "source": [
    "Все не так плохо. В связи с чем, принимаю решение убрать данные, которые выше 99 перцентиля."
   ]
  },
  {
   "cell_type": "code",
   "execution_count": 46,
   "metadata": {},
   "outputs": [],
   "source": [
    "per_99 = np.percentile(orders['revenue'], [99])[0]\n",
    "orders_clean = orders.query('revenue<= @per_99')"
   ]
  },
  {
   "cell_type": "markdown",
   "metadata": {},
   "source": [
    "Таблица с заказами очищена от аномально дорогих заказов. \n",
    "\n",
    "Приступим к изучению количества заказов."
   ]
  },
  {
   "cell_type": "code",
   "execution_count": 47,
   "metadata": {},
   "outputs": [],
   "source": [
    "orders_by_users = (orders.groupby('visitorid')['revenue'].count()\n",
    "                   .reset_index()\n",
    "                   .rename(columns={'revenue':'orders'}))"
   ]
  },
  {
   "cell_type": "code",
   "execution_count": 48,
   "metadata": {},
   "outputs": [
    {
     "data": {
      "image/png": "[encoded data removed]",
      "text/plain": [
       "<Figure size 720x576 with 1 Axes>"
      ]
     },
     "metadata": {},
     "output_type": "display_data"
    }
   ],
   "source": [
    "orders_by_users['orders'].hist(color='salmon')\n",
    "plt.title('Распределение количества заказов');"
   ]
  },
  {
   "cell_type": "markdown",
   "metadata": {},
   "source": [
    "Мы можем видеть, что клиенты делают 1 заказ, намного реже 2 заказа и совсем редко 3 заказа."
   ]
  },
  {
   "cell_type": "code",
   "execution_count": 49,
   "metadata": {},
   "outputs": [
    {
     "name": "stdout",
     "output_type": "stream",
     "text": [
      "[1. 2.]\n"
     ]
    },
    {
     "data": {
      "image/png": "[encoded data removed]",
      "text/plain": [
       "<Figure size 720x576 with 1 Axes>"
      ]
     },
     "metadata": {},
     "output_type": "display_data"
    }
   ],
   "source": [
    "x_values = pd.Series(range(0,orders_by_users['orders'].count())) # сериес для оси х\n",
    "plt.scatter(data=orders_by_users, x=x_values, y='orders') \n",
    "plt.grid()\n",
    "plt.title('Точечный график количества заказов на пользователя')\n",
    "plt.yticks([0,1,2,3,4]);\n",
    "print(np.percentile(orders_by_users['orders'], [95, 99]))"
   ]
  },
  {
   "cell_type": "markdown",
   "metadata": {},
   "source": [
    "Основываясь на графике принимаем решение, что больше 2 заказов это уже перебор. \n",
    "\n",
    "Уберем таких пользователей."
   ]
  },
  {
   "cell_type": "code",
   "execution_count": 50,
   "metadata": {},
   "outputs": [],
   "source": [
    "per_99 = np.percentile(orders_by_users['orders'], [99])[0]\n",
    "orders_by_users_clean = orders_by_users.query('orders<= @per_99')"
   ]
  },
  {
   "cell_type": "markdown",
   "metadata": {},
   "source": [
    "Сформируем итоговую таблицу заказов без аномалий."
   ]
  },
  {
   "cell_type": "code",
   "execution_count": 51,
   "metadata": {},
   "outputs": [],
   "source": [
    "orders_clean = orders_clean.loc[orders_clean['visitorid'].isin(orders_by_users_clean['visitorid'])]"
   ]
  },
  {
   "cell_type": "markdown",
   "metadata": {},
   "source": [
    "# Промежуточный вывод\n",
    "\n",
    "Таким образом, были изучены \"сырые\" данные. Была подготовлена таблица с данными о заказов без аномалий. С учетом аномалий группа \"В\" казалась предпочтительнее. Однако у неё были найдены серьезные аномалии. От которых мы благополучно избавились. Перейдем к заключительной части, постараемся узнать какая из групп предпочтительнее.\n",
    "\n",
    "\n",
    "## Статистическая значимость.\n",
    "### \"Сырые\" данные.\n",
    "\n",
    "Для проверки будем использовать непараметрический критерий Манна-Уитни, так как с большой долей вероятности можно утверждать, что данные у нас распределены ненормально.\n",
    "\n",
    "Создадим таблицу с данными по заказам на каждого пользователя."
   ]
  },
  {
   "cell_type": "code",
   "execution_count": 52,
   "metadata": {},
   "outputs": [],
   "source": [
    "orders_by_usersA = orders[orders['group']=='A'].groupby('visitorid')['transactionid'].nunique().reset_index()\n",
    "orders_by_usersA.columns=['visitorsid','orders']\n",
    "\n",
    "orders_by_usersB = orders[orders['group']=='B'].groupby('visitorid')['transactionid'].nunique().reset_index()\n",
    "orders_by_usersB.columns=['visitorsid','orders']"
   ]
  },
  {
   "cell_type": "markdown",
   "metadata": {},
   "source": [
    "Сформируем таблицы с пользователями без заказов:\n",
    "\n",
    "1. Вычтем из общего числа визитов число заказов, получаем количество пользователей, которые не совершили заказ.\n",
    "2. Формируем Series, в котором все значения будут равны 0, а количество таких значений - это результат операции описанной выше.\n",
    "3. Объедим с пользователями, которые делали заказы."
   ]
  },
  {
   "cell_type": "code",
   "execution_count": 53,
   "metadata": {},
   "outputs": [],
   "source": [
    "freeloadersA = pd.Series(0, index=np.arange(visitors[visitors['group']=='A']['visitors'].sum() - len(orders_by_usersA['orders'])), name='orders')\n",
    "freeloadersB = pd.Series(0, index=np.arange(visitors[visitors['group']=='B']['visitors'].sum() - len(orders_by_usersB['orders'])), name='orders')"
   ]
  },
  {
   "cell_type": "markdown",
   "metadata": {},
   "source": [
    "Создадим выборки с сырыми данными для статистических тестов."
   ]
  },
  {
   "cell_type": "code",
   "execution_count": 54,
   "metadata": {},
   "outputs": [],
   "source": [
    "sampleA = pd.concat([orders_by_usersA['orders'], freeloadersA])\n",
    "sampleB = pd.concat([orders_by_usersB['orders'], freeloadersB])"
   ]
  },
  {
   "cell_type": "markdown",
   "metadata": {},
   "source": [
    "Применим озвученный ранее критерий к сырым данным и посмотрим на значение средний конверсий.\n",
    "\n",
    "- H0 - конверсия группы \"А\" = конверсии группы \"В\".\n",
    "- H1 - конверсии групп не равны.\n",
    "\n",
    "Примем для себя уровень значимости alpha = 0.05"
   ]
  },
  {
   "cell_type": "code",
   "execution_count": 55,
   "metadata": {},
   "outputs": [
    {
     "name": "stdout",
     "output_type": "stream",
     "text": [
      "p_value: 0.00551\n",
      "Средняя конверсия группы А: 2.5%\n",
      "Средняя конверсия группы B: 2.9%\n"
     ]
    }
   ],
   "source": [
    "print('p_value: {:.5f}'.format(st.mannwhitneyu(sampleA, sampleB)[1]))\n",
    "print('Средняя конверсия группы А: {:.1%}'.format(sampleA.mean()))\n",
    "print('Средняя конверсия группы B: {:.1%}'.format(sampleB.mean()))"
   ]
  },
  {
   "cell_type": "markdown",
   "metadata": {},
   "source": [
    "Так как p_value меньше заданного значения alpha, то мы отвергаем гипотизу о равенстве средний конверсий. В абсолютных значениях эта разница составила 0.4%, или на 16%, что в нашем случае оказалось статистически значимым.\n",
    "\n",
    "Далее изучим различие среднего чека по сырым данным.\n",
    "\n",
    "- H0 - средний чек группы \"А\" = чеку группы \"В\".\n",
    "- H1 - средний чек групп не равен.\n",
    "\n",
    "Примем для себя уровень значимости alpha = 0.05"
   ]
  },
  {
   "cell_type": "code",
   "execution_count": 56,
   "metadata": {},
   "outputs": [
    {
     "name": "stdout",
     "output_type": "stream",
     "text": [
      "p_value: 0.41475\n",
      "Средний чек группы А: 7189.44\n",
      "Средний чек группы B: 9249.95\n"
     ]
    }
   ],
   "source": [
    "print('p_value: {:.5f}'.format(\n",
    "    st.mannwhitneyu(orders[orders['group']=='A']['revenue'], orders[orders['group']=='B']['revenue'])[1]\n",
    "))\n",
    "print('Средний чек группы А: {:.2f}'.format(orders[orders['group']=='A']['revenue'].mean()))\n",
    "print('Средний чек группы B: {:.2f}'.format(orders[orders['group']=='B']['revenue'].mean()))"
   ]
  },
  {
   "cell_type": "markdown",
   "metadata": {},
   "source": [
    "Несмотря на разницу среднего чека в 2000 у.е., тест показывает, что мы не можем отвергнуть нулевую гипотизу о равенстве средних. То есть, такое различие не статистически значимо.\n",
    "\n",
    "Это были \"сырые\" данные, теперь рассмотрим очищенные.\n",
    "\n",
    "### Очищенные данные.\n",
    "\n",
    "Ранее уже была подготовлена таблица с \"чистыми\" заказами, воспользуемся ей и кодом для \"сырых\" данных."
   ]
  },
  {
   "cell_type": "code",
   "execution_count": 57,
   "metadata": {},
   "outputs": [],
   "source": [
    "orders_by_usersA = orders_clean[orders_clean['group']=='A'].groupby('visitorid')['transactionid'].nunique().reset_index()\n",
    "orders_by_usersA.columns=['visitorsid','orders']\n",
    "\n",
    "orders_by_usersB = orders_clean[orders_clean['group']=='B'].groupby('visitorid')['transactionid'].nunique().reset_index()\n",
    "orders_by_usersB.columns=['visitorsid','orders']"
   ]
  },
  {
   "cell_type": "code",
   "execution_count": 58,
   "metadata": {},
   "outputs": [],
   "source": [
    "freeloadersA = pd.Series(0, index=np.arange(visitors[visitors['group']=='A']['visitors'].sum() - len(orders_by_usersA['orders'])), name='orders')\n",
    "freeloadersB = pd.Series(0, index=np.arange(visitors[visitors['group']=='B']['visitors'].sum() - len(orders_by_usersB['orders'])), name='orders')"
   ]
  },
  {
   "cell_type": "markdown",
   "metadata": {},
   "source": [
    "Создадим выборки с \"чистыми\" данными для статистических тестов."
   ]
  },
  {
   "cell_type": "code",
   "execution_count": 59,
   "metadata": {},
   "outputs": [],
   "source": [
    "sampleA = pd.concat([orders_by_usersA['orders'], freeloadersA])\n",
    "sampleB = pd.concat([orders_by_usersB['orders'], freeloadersB])"
   ]
  },
  {
   "cell_type": "code",
   "execution_count": 60,
   "metadata": {},
   "outputs": [
    {
     "name": "stdout",
     "output_type": "stream",
     "text": [
      "p_value: 0.00348\n",
      "Средняя конверсия (очищенная) группы А: 2.4%\n",
      "Средняя конверсия (очищенная) группы B: 2.8%\n"
     ]
    }
   ],
   "source": [
    "print('p_value: {:.5f}'.format(st.mannwhitneyu(sampleA, sampleB)[1]))\n",
    "print('Средняя конверсия (очищенная) группы А: {:.1%}'.format(sampleA.mean()))\n",
    "print('Средняя конверсия (очищенная) группы B: {:.1%}'.format(sampleB.mean()))"
   ]
  },
  {
   "cell_type": "markdown",
   "metadata": {},
   "source": [
    "На \"очищенных\" данных ситуация с конверсией почти не изменилась, только конверсия немного уменьшилась. Группа \"В\", по прежнему, в лидерах по конверсии. \n",
    "\n",
    "Отвергаем H0 о равенстве конверсий."
   ]
  },
  {
   "cell_type": "code",
   "execution_count": 61,
   "metadata": {},
   "outputs": [
    {
     "name": "stdout",
     "output_type": "stream",
     "text": [
      "p_value: 0.39385\n",
      "Средний чек (очищенный) группы А: 6487.02\n",
      "Средний чек (очищенный) группы B: 6277.27\n"
     ]
    }
   ],
   "source": [
    "print('p_value: {:.5f}'.format(\n",
    "    st.mannwhitneyu(orders_clean[orders_clean['group']=='A']['revenue'], orders_clean[orders_clean['group']=='B']['revenue'])[1]\n",
    "))\n",
    "print('Средний чек (очищенный) группы А: {:.2f}'.format(orders_clean[orders_clean['group']=='A']['revenue'].mean()))\n",
    "print('Средний чек (очищенный) группы B: {:.2f}'.format(orders_clean[orders_clean['group']=='B']['revenue'].mean()))"
   ]
  },
  {
   "cell_type": "markdown",
   "metadata": {},
   "source": [
    "Такая же ситуация с тестом и по среднему чеку, мы по прежнему не можем отвергнуть нулевую гипотезу о равенстве среднего чека. Однако, средние чеки значительно выровнялись, более нет такой большой разницы между группами \"А\" и \"В\" по среднему чеку.\n",
    "\n",
    "Подготовим данные для визуализации куммулитивной выручки по очищенным данным."
   ]
  },
  {
   "cell_type": "code",
   "execution_count": 62,
   "metadata": {},
   "outputs": [],
   "source": [
    "dates_groups = orders[['date','group']].drop_duplicates()"
   ]
  },
  {
   "cell_type": "code",
   "execution_count": 63,
   "metadata": {},
   "outputs": [],
   "source": [
    "orders_aggregated = (dates_groups\n",
    "                     .apply(lambda x: orders_clean[np.logical_and(orders_clean['date'] <= x['date']\n",
    "                                                            , orders_clean['group'] ==  x['group'])]\n",
    "                    .agg({'date':'max', 'group':'max', 'revenue':'sum', 'transactionid':'nunique'}), axis=1) \n",
    "                    .sort_values(by=['date','group']))\n",
    "                    \n",
    "orders_aggregated.rename(columns={'transactionid':'orders_clean'}, inplace=True)\n",
    "\n",
    "visitors_aggregated = (dates_groups\n",
    "                     .apply(lambda x: visitors[np.logical_and(visitors['date'] <= x['date']\n",
    "                                                            , visitors['group'] ==  x['group'])]\n",
    "                    .agg({'date':'max', 'group':'max', 'visitors':'sum'}), axis=1) \n",
    "                    .sort_values(by=['date','group']))\n",
    "visitors_aggregated.head()\n",
    "\n",
    "cumulative_data = orders_aggregated.merge(visitors_aggregated, on=['date','group'])\n",
    "cumulative_data.head()\n",
    "\n",
    "\n",
    "\n",
    "from pandas.plotting import register_matplotlib_converters\n",
    "register_matplotlib_converters()\n",
    "# Построим график кумулятивной выручки по группам, предварительно изучив количество заказов в каждой из групп\n",
    "cumulative_a = cumulative_data.loc[cumulative_data['group'] == 'A',['date','revenue','orders_clean','visitors']]\n",
    "cumulative_b = cumulative_data.loc[cumulative_data['group'] == 'B',['date','revenue','orders_clean','visitors']]"
   ]
  },
  {
   "cell_type": "code",
   "execution_count": 64,
   "metadata": {},
   "outputs": [
    {
     "data": {
      "image/png": "[encoded data removed]",
      "text/plain": [
       "<Figure size 720x360 with 1 Axes>"
      ]
     },
     "metadata": {},
     "output_type": "display_data"
    }
   ],
   "source": [
    "plt.style.use('seaborn-poster')\n",
    "plt.figure(figsize=(10, 5))\n",
    "plt.plot(cumulative_a['date'], cumulative_a['revenue'], label='A')\n",
    "plt.plot(cumulative_b['date'], cumulative_b['revenue'], label='B')\n",
    "plt.xticks(rotation=45)\n",
    "plt.title('Кумулятивная выручка по группам на чистых данных')\n",
    "plt.legend(loc='best');"
   ]
  },
  {
   "cell_type": "markdown",
   "metadata": {},
   "source": [
    "# Общий вывод\n",
    "\n",
    "В результате проведеной проектной работы мной были рассмотрены данные нескольких файлов и совершена предобработка. Данные были проверены на наличие пропущенных значений, некорретные типы данных. Все данные представлены в удобном формате. На основании всего вышесказанного мы можем констатировать следующее:\n",
    "\n",
    "- На \"чистых\" данных, была выявлена статистическая значимость в конверсиях двух групп. Конверсия в группе \"В\" выше. На графике (выше), мы видим, что конверсия группы \"В\" зафиксировалась примерно на одном уровне.\n",
    "- В среднем чеке групп не было найден статистически значимых различий. В то время как у группы \"В\" он немного меньше.\n",
    "- Учитывая, что конверсия группы \"В\" больше, чем у группы \"А\" и больший размер куммулитивной выручки, следует принять решение - тест можно остановить и считать успешно проведенным. Зафиксировать победу группы \"В\".\n",
    "\n",
    "Результаты A/B-теста:\n",
    "\n",
    "- по конверсии между группами A и B (как по сырым данным, так и по очищенным) есть статистически значимые различия;\n",
    "- по среднему чеку между группами A и B (как по сырым данным, так и по очищенным) нет статистически значимых различий.\n",
    "\n",
    "\n",
    "Помимо этого, в процессе работы с данными было выяснено, что некоторые пользователи от сессии к сессии могли видеть как одну версию сайта, так и другую, что нарушает один из основных принцип работы A/B-теста - один пользователь видит только одну версию на всём протяжении теста.\n",
    "В связи с этим, нам необходимо проверить корректность отработки метода показа пользователям одной или другой версии сайта и поправить его, чтобы одному и тому же пользователю показывалась только та версия сайта, которую он увидел при первом визите."
   ]
  }
 ],
 "metadata": {
  "ExecuteTimeLog": [
   {
    "duration": 1490,
    "start_time": "2021-06-27T11:00:13.385Z"
   },
   {
    "duration": 5,
    "start_time": "2021-06-27T11:00:17.296Z"
   },
   {
    "duration": 73,
    "start_time": "2021-06-27T11:00:19.559Z"
   },
   {
    "duration": 1277,
    "start_time": "2021-06-27T11:00:35.180Z"
   },
   {
    "duration": 288,
    "start_time": "2021-06-27T11:01:11.866Z"
   },
   {
    "duration": 17,
    "start_time": "2021-06-27T11:01:23.139Z"
   },
   {
    "duration": 8,
    "start_time": "2021-06-27T11:01:28.190Z"
   },
   {
    "duration": 31,
    "start_time": "2021-06-27T11:01:34.108Z"
   },
   {
    "duration": 7,
    "start_time": "2021-06-27T11:01:40.598Z"
   },
   {
    "duration": 14,
    "start_time": "2021-06-27T11:02:18.285Z"
   },
   {
    "duration": 9,
    "start_time": "2021-06-27T11:02:35.378Z"
   },
   {
    "duration": 25,
    "start_time": "2021-06-27T11:02:39.307Z"
   },
   {
    "duration": 10,
    "start_time": "2021-06-27T11:02:46.183Z"
   },
   {
    "duration": 7,
    "start_time": "2021-06-27T11:03:05.670Z"
   },
   {
    "duration": 14,
    "start_time": "2021-06-27T11:03:10.306Z"
   },
   {
    "duration": 8,
    "start_time": "2021-06-27T11:03:16.198Z"
   },
   {
    "duration": 16,
    "start_time": "2021-06-27T11:03:18.767Z"
   },
   {
    "duration": 21,
    "start_time": "2021-06-27T11:03:24.378Z"
   },
   {
    "duration": 7,
    "start_time": "2021-06-27T11:03:26.964Z"
   },
   {
    "duration": 6,
    "start_time": "2021-06-27T11:03:31.774Z"
   },
   {
    "duration": 12,
    "start_time": "2021-06-27T11:06:30.971Z"
   },
   {
    "duration": 12,
    "start_time": "2021-06-27T11:07:55.985Z"
   },
   {
    "duration": 15,
    "start_time": "2021-06-27T11:07:58.863Z"
   },
   {
    "duration": 825,
    "start_time": "2021-06-27T11:08:14.754Z"
   },
   {
    "duration": 6,
    "start_time": "2021-06-27T11:08:43.801Z"
   },
   {
    "duration": 16,
    "start_time": "2021-06-27T11:08:46.397Z"
   },
   {
    "duration": 903,
    "start_time": "2021-06-27T11:09:06.423Z"
   },
   {
    "duration": 660,
    "start_time": "2021-06-27T11:09:27.792Z"
   },
   {
    "duration": 304,
    "start_time": "2021-06-27T11:17:57.119Z"
   },
   {
    "duration": 454,
    "start_time": "2021-06-27T11:19:28.355Z"
   },
   {
    "duration": 26,
    "start_time": "2021-06-27T11:20:10.139Z"
   },
   {
    "duration": 36,
    "start_time": "2021-06-27T11:22:46.523Z"
   },
   {
    "duration": 21,
    "start_time": "2021-06-27T11:29:20.349Z"
   },
   {
    "duration": 6,
    "start_time": "2021-06-27T11:29:32.008Z"
   },
   {
    "duration": 35,
    "start_time": "2021-06-27T11:29:35.281Z"
   },
   {
    "duration": 18,
    "start_time": "2021-06-27T11:29:37.994Z"
   },
   {
    "duration": 14,
    "start_time": "2021-06-27T11:29:42.619Z"
   },
   {
    "duration": 7,
    "start_time": "2021-06-27T11:29:44.872Z"
   },
   {
    "duration": 7,
    "start_time": "2021-06-27T11:29:46.979Z"
   },
   {
    "duration": 15,
    "start_time": "2021-06-27T11:29:48.929Z"
   },
   {
    "duration": 19,
    "start_time": "2021-06-27T11:30:54.433Z"
   },
   {
    "duration": 573,
    "start_time": "2021-06-27T11:30:57.991Z"
   },
   {
    "duration": 19,
    "start_time": "2021-06-27T11:39:07.061Z"
   },
   {
    "duration": 7422,
    "start_time": "2021-06-27T11:39:09.021Z"
   },
   {
    "duration": 7055,
    "start_time": "2021-06-27T11:40:29.108Z"
   },
   {
    "duration": 8,
    "start_time": "2021-06-27T11:40:58.049Z"
   },
   {
    "duration": 8,
    "start_time": "2021-06-27T11:41:28.329Z"
   },
   {
    "duration": 100,
    "start_time": "2021-06-27T11:41:31.474Z"
   },
   {
    "duration": 285,
    "start_time": "2021-06-27T11:41:42.427Z"
   },
   {
    "duration": 8,
    "start_time": "2021-06-27T11:41:56.634Z"
   },
   {
    "duration": 11,
    "start_time": "2021-06-27T11:42:00.813Z"
   },
   {
    "duration": 13,
    "start_time": "2021-06-27T11:42:13.997Z"
   },
   {
    "duration": 1442,
    "start_time": "2021-06-27T11:43:47.714Z"
   },
   {
    "duration": 4,
    "start_time": "2021-06-27T11:43:53.279Z"
   },
   {
    "duration": 72,
    "start_time": "2021-06-27T11:43:55.520Z"
   },
   {
    "duration": 17,
    "start_time": "2021-06-27T11:43:58.197Z"
   },
   {
    "duration": 11,
    "start_time": "2021-06-27T11:44:01.438Z"
   },
   {
    "duration": 28,
    "start_time": "2021-06-27T11:44:03.451Z"
   },
   {
    "duration": 8,
    "start_time": "2021-06-27T11:44:06.700Z"
   },
   {
    "duration": 12,
    "start_time": "2021-06-27T11:44:08.831Z"
   },
   {
    "duration": 14,
    "start_time": "2021-06-27T11:44:12.300Z"
   },
   {
    "duration": 9,
    "start_time": "2021-06-27T11:44:14.803Z"
   },
   {
    "duration": 25,
    "start_time": "2021-06-27T11:44:17.248Z"
   },
   {
    "duration": 9,
    "start_time": "2021-06-27T11:44:20.304Z"
   },
   {
    "duration": 8,
    "start_time": "2021-06-27T11:44:22.511Z"
   },
   {
    "duration": 12,
    "start_time": "2021-06-27T11:44:25.225Z"
   },
   {
    "duration": 6,
    "start_time": "2021-06-27T11:45:40.906Z"
   },
   {
    "duration": 12,
    "start_time": "2021-06-27T11:45:42.978Z"
   },
   {
    "duration": 9,
    "start_time": "2021-06-27T11:45:45.525Z"
   },
   {
    "duration": 21,
    "start_time": "2021-06-27T11:45:47.573Z"
   },
   {
    "duration": 8,
    "start_time": "2021-06-27T11:45:51.068Z"
   },
   {
    "duration": 7,
    "start_time": "2021-06-27T11:45:54.121Z"
   },
   {
    "duration": 15,
    "start_time": "2021-06-27T11:45:57.907Z"
   },
   {
    "duration": 14,
    "start_time": "2021-06-27T11:45:59.898Z"
   },
   {
    "duration": 735,
    "start_time": "2021-06-27T11:46:02.974Z"
   },
   {
    "duration": 6,
    "start_time": "2021-06-27T11:46:07.545Z"
   },
   {
    "duration": 14,
    "start_time": "2021-06-27T11:46:09.472Z"
   },
   {
    "duration": 674,
    "start_time": "2021-06-27T11:46:12.350Z"
   },
   {
    "duration": 20,
    "start_time": "2021-06-27T11:46:23.319Z"
   },
   {
    "duration": 8,
    "start_time": "2021-06-27T11:46:27.247Z"
   },
   {
    "duration": 7,
    "start_time": "2021-06-27T11:46:29.941Z"
   },
   {
    "duration": 9,
    "start_time": "2021-06-27T11:46:32.429Z"
   },
   {
    "duration": 12,
    "start_time": "2021-06-27T11:46:35.058Z"
   },
   {
    "duration": 12,
    "start_time": "2021-06-27T11:46:37.734Z"
   },
   {
    "duration": 33,
    "start_time": "2021-06-27T11:46:51.753Z"
   },
   {
    "duration": 16,
    "start_time": "2021-06-27T11:46:54.553Z"
   },
   {
    "duration": 14,
    "start_time": "2021-06-27T11:46:57.936Z"
   },
   {
    "duration": 7,
    "start_time": "2021-06-27T11:47:00.680Z"
   },
   {
    "duration": 6,
    "start_time": "2021-06-27T11:47:02.808Z"
   },
   {
    "duration": 16,
    "start_time": "2021-06-27T11:47:05.893Z"
   },
   {
    "duration": 575,
    "start_time": "2021-06-27T11:47:10.026Z"
   },
   {
    "duration": 602,
    "start_time": "2021-06-27T11:51:12.687Z"
   },
   {
    "duration": 650,
    "start_time": "2021-06-27T11:54:51.942Z"
   },
   {
    "duration": 633,
    "start_time": "2021-06-27T11:57:48.844Z"
   },
   {
    "duration": 498,
    "start_time": "2021-06-27T11:59:41.730Z"
   },
   {
    "duration": 296,
    "start_time": "2021-06-27T12:00:00.745Z"
   },
   {
    "duration": 286,
    "start_time": "2021-06-27T12:00:20.310Z"
   },
   {
    "duration": 739,
    "start_time": "2021-06-27T12:03:46.318Z"
   },
   {
    "duration": 215,
    "start_time": "2021-06-27T16:25:36.136Z"
   },
   {
    "duration": 1169,
    "start_time": "2021-06-27T16:28:39.559Z"
   },
   {
    "duration": 2,
    "start_time": "2021-06-27T16:28:41.933Z"
   },
   {
    "duration": 68,
    "start_time": "2021-06-27T16:28:43.723Z"
   },
   {
    "duration": 11,
    "start_time": "2021-06-27T16:28:46.359Z"
   },
   {
    "duration": 7,
    "start_time": "2021-06-27T16:28:48.674Z"
   },
   {
    "duration": 18,
    "start_time": "2021-06-27T16:28:51.336Z"
   },
   {
    "duration": 6,
    "start_time": "2021-06-27T16:28:53.549Z"
   },
   {
    "duration": 8,
    "start_time": "2021-06-27T16:28:56.466Z"
   },
   {
    "duration": 8,
    "start_time": "2021-06-27T16:28:59.924Z"
   },
   {
    "duration": 6,
    "start_time": "2021-06-27T16:29:02.845Z"
   },
   {
    "duration": 16,
    "start_time": "2021-06-27T16:29:05.200Z"
   },
   {
    "duration": 5,
    "start_time": "2021-06-27T16:29:07.415Z"
   },
   {
    "duration": 5,
    "start_time": "2021-06-27T16:29:09.802Z"
   },
   {
    "duration": 4,
    "start_time": "2021-06-27T16:29:11.619Z"
   },
   {
    "duration": 9,
    "start_time": "2021-06-27T16:29:13.593Z"
   },
   {
    "duration": 5,
    "start_time": "2021-06-27T16:29:16.545Z"
   },
   {
    "duration": 14,
    "start_time": "2021-06-27T16:29:18.760Z"
   },
   {
    "duration": 5,
    "start_time": "2021-06-27T16:29:20.856Z"
   },
   {
    "duration": 4,
    "start_time": "2021-06-27T16:29:23.626Z"
   },
   {
    "duration": 6,
    "start_time": "2021-06-27T16:29:27.234Z"
   },
   {
    "duration": 12,
    "start_time": "2021-06-27T16:29:28.895Z"
   },
   {
    "duration": 461,
    "start_time": "2021-06-27T16:29:32.257Z"
   },
   {
    "duration": 5,
    "start_time": "2021-06-27T16:29:37.245Z"
   },
   {
    "duration": 10,
    "start_time": "2021-06-27T16:29:39.312Z"
   },
   {
    "duration": 438,
    "start_time": "2021-06-27T16:29:42.188Z"
   },
   {
    "duration": 13,
    "start_time": "2021-06-27T16:30:06.613Z"
   },
   {
    "duration": 6,
    "start_time": "2021-06-27T16:30:10.245Z"
   },
   {
    "duration": 6,
    "start_time": "2021-06-27T16:30:12.323Z"
   },
   {
    "duration": 7,
    "start_time": "2021-06-27T16:30:14.553Z"
   },
   {
    "duration": 8,
    "start_time": "2021-06-27T16:30:17.466Z"
   },
   {
    "duration": 9,
    "start_time": "2021-06-27T16:30:19.822Z"
   },
   {
    "duration": 21,
    "start_time": "2021-06-27T16:30:24.394Z"
   },
   {
    "duration": 10,
    "start_time": "2021-06-27T16:30:27.139Z"
   },
   {
    "duration": 12,
    "start_time": "2021-06-27T16:30:29.284Z"
   },
   {
    "duration": 4,
    "start_time": "2021-06-27T16:30:31.718Z"
   },
   {
    "duration": 5,
    "start_time": "2021-06-27T16:30:34.230Z"
   },
   {
    "duration": 10,
    "start_time": "2021-06-27T16:30:36.124Z"
   },
   {
    "duration": 354,
    "start_time": "2021-06-27T16:30:40.138Z"
   },
   {
    "duration": 377,
    "start_time": "2021-06-27T16:30:44.946Z"
   },
   {
    "duration": 480,
    "start_time": "2021-06-27T16:30:55.484Z"
   },
   {
    "duration": 352,
    "start_time": "2021-06-27T16:30:59.605Z"
   },
   {
    "duration": 462,
    "start_time": "2021-06-27T16:31:03.953Z"
   },
   {
    "duration": 392,
    "start_time": "2021-06-27T16:31:08.293Z"
   },
   {
    "duration": 325,
    "start_time": "2021-06-27T16:31:37.643Z"
   },
   {
    "duration": 485,
    "start_time": "2021-06-27T16:31:42.276Z"
   },
   {
    "duration": 514,
    "start_time": "2021-06-27T16:31:55.954Z"
   },
   {
    "duration": 6,
    "start_time": "2021-06-27T16:32:05.265Z"
   },
   {
    "duration": 266,
    "start_time": "2021-06-27T16:32:07.936Z"
   },
   {
    "duration": 7,
    "start_time": "2021-06-27T16:32:18.395Z"
   },
   {
    "duration": 348,
    "start_time": "2021-06-27T16:32:23.814Z"
   },
   {
    "duration": 345,
    "start_time": "2021-06-27T16:32:27.196Z"
   },
   {
    "duration": 340,
    "start_time": "2021-06-27T16:32:41.339Z"
   },
   {
    "duration": 429,
    "start_time": "2021-06-27T16:33:01.806Z"
   },
   {
    "duration": 6,
    "start_time": "2021-06-27T16:33:15.668Z"
   },
   {
    "duration": 6,
    "start_time": "2021-06-27T16:33:25.092Z"
   },
   {
    "duration": 186,
    "start_time": "2021-06-27T16:51:15.493Z"
   },
   {
    "duration": 10,
    "start_time": "2021-06-27T16:51:37.363Z"
   },
   {
    "duration": 7,
    "start_time": "2021-06-27T16:51:42.527Z"
   },
   {
    "duration": 4,
    "start_time": "2021-06-27T16:51:46.123Z"
   },
   {
    "duration": 9,
    "start_time": "2021-06-27T16:51:49.025Z"
   },
   {
    "duration": 10,
    "start_time": "2021-06-27T16:51:52.860Z"
   },
   {
    "duration": 185,
    "start_time": "2021-06-27T16:51:56.720Z"
   },
   {
    "duration": 10,
    "start_time": "2021-06-27T16:52:14.826Z"
   },
   {
    "duration": 9,
    "start_time": "2021-06-27T16:52:18.488Z"
   },
   {
    "duration": 4,
    "start_time": "2021-06-27T16:52:23.629Z"
   },
   {
    "duration": 10,
    "start_time": "2021-06-27T16:52:26.742Z"
   },
   {
    "duration": 13,
    "start_time": "2021-06-27T16:52:30.190Z"
   },
   {
    "duration": 235,
    "start_time": "2021-06-27T17:04:23.248Z"
   },
   {
    "duration": 6,
    "start_time": "2021-06-27T17:06:07.128Z"
   },
   {
    "duration": 4887,
    "start_time": "2021-06-27T17:06:10.049Z"
   },
   {
    "duration": 294,
    "start_time": "2021-06-27T17:06:39.543Z"
   },
   {
    "duration": 328,
    "start_time": "2021-06-27T17:06:52.294Z"
   },
   {
    "duration": 1023,
    "start_time": "2021-06-27T17:25:46.301Z"
   },
   {
    "duration": 3,
    "start_time": "2021-06-27T17:25:48.322Z"
   },
   {
    "duration": 89,
    "start_time": "2021-06-27T17:25:50.192Z"
   },
   {
    "duration": 11,
    "start_time": "2021-06-27T17:25:52.713Z"
   },
   {
    "duration": 7,
    "start_time": "2021-06-27T17:25:55.001Z"
   },
   {
    "duration": 19,
    "start_time": "2021-06-27T17:25:57.142Z"
   },
   {
    "duration": 5,
    "start_time": "2021-06-27T17:25:59.516Z"
   },
   {
    "duration": 8,
    "start_time": "2021-06-27T17:26:01.815Z"
   },
   {
    "duration": 9,
    "start_time": "2021-06-27T17:26:04.489Z"
   },
   {
    "duration": 6,
    "start_time": "2021-06-27T17:26:07.078Z"
   },
   {
    "duration": 17,
    "start_time": "2021-06-27T17:26:09.098Z"
   },
   {
    "duration": 6,
    "start_time": "2021-06-27T17:26:11.671Z"
   },
   {
    "duration": 5,
    "start_time": "2021-06-27T17:26:14.135Z"
   },
   {
    "duration": 4,
    "start_time": "2021-06-27T17:26:15.889Z"
   },
   {
    "duration": 8,
    "start_time": "2021-06-27T17:26:17.851Z"
   },
   {
    "duration": 6,
    "start_time": "2021-06-27T17:26:20.144Z"
   },
   {
    "duration": 13,
    "start_time": "2021-06-27T17:26:21.876Z"
   },
   {
    "duration": 6,
    "start_time": "2021-06-27T17:26:24.738Z"
   },
   {
    "duration": 4,
    "start_time": "2021-06-27T17:26:26.721Z"
   },
   {
    "duration": 7,
    "start_time": "2021-06-27T17:26:29.657Z"
   },
   {
    "duration": 10,
    "start_time": "2021-06-27T17:26:31.538Z"
   },
   {
    "duration": 445,
    "start_time": "2021-06-27T17:26:34.467Z"
   },
   {
    "duration": 5,
    "start_time": "2021-06-27T17:26:43.299Z"
   },
   {
    "duration": 10,
    "start_time": "2021-06-27T17:26:45.380Z"
   },
   {
    "duration": 416,
    "start_time": "2021-06-27T17:26:48.327Z"
   },
   {
    "duration": 13,
    "start_time": "2021-06-27T17:26:57.021Z"
   },
   {
    "duration": 6,
    "start_time": "2021-06-27T17:26:58.994Z"
   },
   {
    "duration": 5,
    "start_time": "2021-06-27T17:27:02.039Z"
   },
   {
    "duration": 7,
    "start_time": "2021-06-27T17:27:04.458Z"
   },
   {
    "duration": 7,
    "start_time": "2021-06-27T17:27:07.056Z"
   },
   {
    "duration": 8,
    "start_time": "2021-06-27T17:27:08.816Z"
   },
   {
    "duration": 20,
    "start_time": "2021-06-27T17:27:11.434Z"
   },
   {
    "duration": 11,
    "start_time": "2021-06-27T17:27:13.527Z"
   },
   {
    "duration": 10,
    "start_time": "2021-06-27T17:27:16.882Z"
   },
   {
    "duration": 5,
    "start_time": "2021-06-27T17:27:18.892Z"
   },
   {
    "duration": 6,
    "start_time": "2021-06-27T17:27:20.913Z"
   },
   {
    "duration": 10,
    "start_time": "2021-06-27T17:27:22.970Z"
   },
   {
    "duration": 357,
    "start_time": "2021-06-27T17:27:27.246Z"
   },
   {
    "duration": 352,
    "start_time": "2021-06-27T17:27:33.147Z"
   },
   {
    "duration": 447,
    "start_time": "2021-06-27T17:27:39.791Z"
   },
   {
    "duration": 350,
    "start_time": "2021-06-27T17:27:44.161Z"
   },
   {
    "duration": 424,
    "start_time": "2021-06-27T17:27:50.311Z"
   },
   {
    "duration": 384,
    "start_time": "2021-06-27T17:27:55.684Z"
   },
   {
    "duration": 460,
    "start_time": "2021-06-27T17:28:02.979Z"
   },
   {
    "duration": 447,
    "start_time": "2021-06-27T17:28:06.718Z"
   },
   {
    "duration": 6,
    "start_time": "2021-06-27T17:28:10.523Z"
   },
   {
    "duration": 7,
    "start_time": "2021-06-27T17:28:12.555Z"
   },
   {
    "duration": 327,
    "start_time": "2021-06-27T17:28:15.164Z"
   },
   {
    "duration": 398,
    "start_time": "2021-06-27T17:28:32.597Z"
   },
   {
    "duration": 6,
    "start_time": "2021-06-27T17:28:59.060Z"
   },
   {
    "duration": 5,
    "start_time": "2021-06-27T17:29:01.165Z"
   },
   {
    "duration": 11,
    "start_time": "2021-06-27T17:29:04.499Z"
   },
   {
    "duration": 7,
    "start_time": "2021-06-27T17:29:07.207Z"
   },
   {
    "duration": 4,
    "start_time": "2021-06-27T17:29:09.388Z"
   },
   {
    "duration": 8,
    "start_time": "2021-06-27T17:29:11.708Z"
   },
   {
    "duration": 10,
    "start_time": "2021-06-27T17:29:14.312Z"
   },
   {
    "duration": 11,
    "start_time": "2021-06-27T17:29:17.606Z"
   },
   {
    "duration": 8,
    "start_time": "2021-06-27T17:29:20.008Z"
   },
   {
    "duration": 4,
    "start_time": "2021-06-27T17:29:22.751Z"
   },
   {
    "duration": 7,
    "start_time": "2021-06-27T17:29:24.650Z"
   },
   {
    "duration": 10,
    "start_time": "2021-06-27T17:29:27.268Z"
   },
   {
    "duration": 6,
    "start_time": "2021-06-27T17:29:29.865Z"
   },
   {
    "duration": 306,
    "start_time": "2021-06-27T17:29:33.155Z"
   },
   {
    "duration": 323,
    "start_time": "2021-06-27T17:29:43.029Z"
   },
   {
    "duration": 1401,
    "start_time": "2021-06-28T04:57:38.986Z"
   },
   {
    "duration": 4,
    "start_time": "2021-06-28T04:57:40.389Z"
   },
   {
    "duration": 69,
    "start_time": "2021-06-28T04:57:40.397Z"
   },
   {
    "duration": 16,
    "start_time": "2021-06-28T04:57:40.468Z"
   },
   {
    "duration": 9,
    "start_time": "2021-06-28T04:57:40.486Z"
   },
   {
    "duration": 30,
    "start_time": "2021-06-28T04:57:40.497Z"
   },
   {
    "duration": 7,
    "start_time": "2021-06-28T04:57:40.530Z"
   },
   {
    "duration": 49,
    "start_time": "2021-06-28T04:57:40.541Z"
   },
   {
    "duration": 18,
    "start_time": "2021-06-28T04:57:40.593Z"
   },
   {
    "duration": 8,
    "start_time": "2021-06-28T04:57:40.613Z"
   },
   {
    "duration": 23,
    "start_time": "2021-06-28T04:57:40.624Z"
   },
   {
    "duration": 40,
    "start_time": "2021-06-28T04:57:40.649Z"
   },
   {
    "duration": 7,
    "start_time": "2021-06-28T04:57:40.692Z"
   },
   {
    "duration": 8,
    "start_time": "2021-06-28T04:57:40.702Z"
   },
   {
    "duration": 13,
    "start_time": "2021-06-28T04:57:40.712Z"
   },
   {
    "duration": 8,
    "start_time": "2021-06-28T04:57:40.728Z"
   },
   {
    "duration": 55,
    "start_time": "2021-06-28T04:57:40.739Z"
   },
   {
    "duration": 6,
    "start_time": "2021-06-28T04:57:40.797Z"
   },
   {
    "duration": 7,
    "start_time": "2021-06-28T04:57:40.805Z"
   },
   {
    "duration": 12,
    "start_time": "2021-06-28T04:57:40.814Z"
   },
   {
    "duration": 13,
    "start_time": "2021-06-28T04:57:40.828Z"
   },
   {
    "duration": 719,
    "start_time": "2021-06-28T04:57:40.883Z"
   },
   {
    "duration": 6,
    "start_time": "2021-06-28T04:57:41.607Z"
   },
   {
    "duration": 16,
    "start_time": "2021-06-28T04:57:41.616Z"
   },
   {
    "duration": 664,
    "start_time": "2021-06-28T04:57:41.635Z"
   },
   {
    "duration": 19,
    "start_time": "2021-06-28T04:57:42.302Z"
   },
   {
    "duration": 12,
    "start_time": "2021-06-28T04:57:42.323Z"
   },
   {
    "duration": 15,
    "start_time": "2021-06-28T04:57:42.337Z"
   },
   {
    "duration": 32,
    "start_time": "2021-06-28T04:57:42.354Z"
   },
   {
    "duration": 10,
    "start_time": "2021-06-28T04:57:42.389Z"
   },
   {
    "duration": 14,
    "start_time": "2021-06-28T04:57:42.402Z"
   },
   {
    "duration": 36,
    "start_time": "2021-06-28T04:57:42.418Z"
   },
   {
    "duration": 40,
    "start_time": "2021-06-28T04:57:42.456Z"
   },
   {
    "duration": 17,
    "start_time": "2021-06-28T04:57:42.499Z"
   },
   {
    "duration": 10,
    "start_time": "2021-06-28T04:57:42.518Z"
   },
   {
    "duration": 10,
    "start_time": "2021-06-28T04:57:42.531Z"
   },
   {
    "duration": 40,
    "start_time": "2021-06-28T04:57:42.544Z"
   },
   {
    "duration": 573,
    "start_time": "2021-06-28T04:57:42.587Z"
   },
   {
    "duration": 556,
    "start_time": "2021-06-28T04:57:43.163Z"
   },
   {
    "duration": 666,
    "start_time": "2021-06-28T04:57:43.721Z"
   },
   {
    "duration": 558,
    "start_time": "2021-06-28T04:57:44.389Z"
   },
   {
    "duration": 656,
    "start_time": "2021-06-28T04:57:44.950Z"
   },
   {
    "duration": 492,
    "start_time": "2021-06-28T04:57:45.608Z"
   },
   {
    "duration": 730,
    "start_time": "2021-06-28T04:57:46.102Z"
   },
   {
    "duration": 676,
    "start_time": "2021-06-28T04:57:46.834Z"
   },
   {
    "duration": 8,
    "start_time": "2021-06-28T04:57:47.512Z"
   },
   {
    "duration": 12,
    "start_time": "2021-06-28T04:57:47.522Z"
   },
   {
    "duration": 516,
    "start_time": "2021-06-28T04:57:47.536Z"
   },
   {
    "duration": 577,
    "start_time": "2021-06-28T04:57:48.055Z"
   },
   {
    "duration": 7,
    "start_time": "2021-06-28T04:57:48.634Z"
   },
   {
    "duration": 13,
    "start_time": "2021-06-28T04:57:48.643Z"
   },
   {
    "duration": 30,
    "start_time": "2021-06-28T04:57:48.659Z"
   },
   {
    "duration": 8,
    "start_time": "2021-06-28T04:57:48.692Z"
   },
   {
    "duration": 9,
    "start_time": "2021-06-28T04:57:48.703Z"
   },
   {
    "duration": 12,
    "start_time": "2021-06-28T04:57:48.714Z"
   },
   {
    "duration": 14,
    "start_time": "2021-06-28T04:57:48.728Z"
   },
   {
    "duration": 49,
    "start_time": "2021-06-28T04:57:48.744Z"
   },
   {
    "duration": 9,
    "start_time": "2021-06-28T04:57:48.795Z"
   },
   {
    "duration": 9,
    "start_time": "2021-06-28T04:57:48.806Z"
   },
   {
    "duration": 13,
    "start_time": "2021-06-28T04:57:48.818Z"
   },
   {
    "duration": 52,
    "start_time": "2021-06-28T04:57:48.833Z"
   },
   {
    "duration": 8,
    "start_time": "2021-06-28T04:57:48.888Z"
   },
   {
    "duration": 521,
    "start_time": "2021-06-28T04:57:48.899Z"
   },
   {
    "duration": 544,
    "start_time": "2021-06-28T04:57:49.422Z"
   }
  ],
  "kernelspec": {
   "display_name": "Python 3",
   "language": "python",
   "name": "python3"
  },
  "language_info": {
   "codemirror_mode": {
    "name": "ipython",
    "version": 3
   },
   "file_extension": ".py",
   "mimetype": "text/x-python",
   "name": "python",
   "nbconvert_exporter": "python",
   "pygments_lexer": "ipython3",
   "version": "3.8.8"
  },
  "toc": {
   "base_numbering": 1,
   "nav_menu": {},
   "number_sections": true,
   "sideBar": true,
   "skip_h1_title": true,
   "title_cell": "Table of Contents",
   "title_sidebar": "Contents",
   "toc_cell": false,
   "toc_position": {},
   "toc_section_display": true,
   "toc_window_display": false
  }
 },
 "nbformat": 4,
 "nbformat_minor": 2
}
